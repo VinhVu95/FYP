{
 "cells": [
  {
   "cell_type": "code",
   "execution_count": 1,
   "metadata": {
    "collapsed": false
   },
   "outputs": [
    {
     "name": "stderr",
     "output_type": "stream",
     "text": [
      "C:\\Users\\Vu Anh Vinh\\Miniconda3\\envs\\thkstat\\lib\\site-packages\\IPython\\html.py:14: ShimWarning: The `IPython.html` package has been deprecated. You should import from `notebook` instead. `IPython.html.widgets` has moved to `ipywidgets`.\n",
      "  \"`IPython.html.widgets` has moved to `ipywidgets`.\", ShimWarning)\n"
     ]
    },
    {
     "name": "stdout",
     "output_type": "stream",
     "text": [
      "Feature ranking:\n",
      "1. feature CA3-3 (0.456294)\n",
      "2. feature CA3-2 (0.208528)\n",
      "3. feature CA2-1 (0.157726)\n",
      "4. feature CA3-1 (0.130759)\n",
      "5. feature CA2-2 (0.046693)\n",
      "Grid search for... support vector regression\n",
      "SVR(C=1.0, cache_size=200, coef0=0.0, degree=3, epsilon=0.1, gamma='auto',\n",
      "  kernel='rbf', max_iter=-1, shrinking=True, tol=0.001, verbose=False)\n",
      "Fitting 5 folds for each of 28 candidates, totalling 140 fits\n",
      "[CV] C=0.001, kernel=linear ..........................................\n",
      "[CV] .......... C=0.001, kernel=linear, score=-0.005483, total=   0.0s\n",
      "[CV] C=0.001, kernel=linear ..........................................\n",
      "[CV] .......... C=0.001, kernel=linear, score=-0.002551, total=   0.0s\n",
      "[CV] C=0.001, kernel=linear ..........................................\n",
      "[CV] .......... C=0.001, kernel=linear, score=-0.013626, total=   0.0s\n",
      "[CV] C=0.001, kernel=linear ..........................................\n",
      "[CV] .......... C=0.001, kernel=linear, score=-0.001323, total=   0.0s\n",
      "[CV] C=0.001, kernel=linear ..........................................\n",
      "[CV] .......... C=0.001, kernel=linear, score=-0.281649, total=   0.0s\n",
      "[CV] C=0.001, kernel=rbf .............................................\n",
      "[CV] ............. C=0.001, kernel=rbf, score=-0.005816, total=   0.0s\n",
      "[CV] C=0.001, kernel=rbf .............................................\n",
      "[CV] ............. C=0.001, kernel=rbf, score=-0.002866, total=   0.0s\n",
      "[CV] C=0.001, kernel=rbf .............................................\n",
      "[CV] ............. C=0.001, kernel=rbf, score=-0.013898, total=   0.0s\n",
      "[CV] C=0.001, kernel=rbf .............................................\n",
      "[CV] ............. C=0.001, kernel=rbf, score=-0.001630, total=   0.0s\n",
      "[CV] C=0.001, kernel=rbf .............................................\n",
      "[CV] ............. C=0.001, kernel=rbf, score=-0.282193, total=   0.0s\n",
      "[CV] C=0.001, kernel=poly ............................................\n",
      "[CV] ............ C=0.001, kernel=poly, score=-0.005849, total=   0.0s\n",
      "[CV] C=0.001, kernel=poly ............................................\n",
      "[CV] ............ C=0.001, kernel=poly, score=-0.002880, total=   0.0s\n",
      "[CV] C=0.001, kernel=poly ............................................\n",
      "[CV] ............ C=0.001, kernel=poly, score=-0.013880, total=   0.0s\n",
      "[CV] C=0.001, kernel=poly ............................................\n",
      "[CV] ............ C=0.001, kernel=poly, score=-0.001649, total=   0.0s\n",
      "[CV] C=0.001, kernel=poly ............................................\n",
      "[CV] ............ C=0.001, kernel=poly, score=-0.282196, total=   0.0s\n",
      "[CV] C=0.001, kernel=sigmoid .........................................\n",
      "[CV] ......... C=0.001, kernel=sigmoid, score=-0.005918, total=   0.0s\n",
      "[CV] C=0.001, kernel=sigmoid .........................................\n",
      "[CV] ......... C=0.001, kernel=sigmoid, score=-0.002971, total=   0.0s\n",
      "[CV] C=0.001, kernel=sigmoid .........................................\n",
      "[CV] ......... C=0.001, kernel=sigmoid, score=-0.014003, total=   0.0s\n",
      "[CV] C=0.001, kernel=sigmoid .........................................\n",
      "[CV] ......... C=0.001, kernel=sigmoid, score=-0.001721, total=   0.0s\n",
      "[CV] C=0.001, kernel=sigmoid .........................................\n",
      "[CV] ......... C=0.001, kernel=sigmoid, score=-0.282398, total=   0.0s\n",
      "[CV] C=0.01, kernel=linear ...........................................\n",
      "[CV] ........... C=0.01, kernel=linear, score=-0.001003, total=   0.0s\n",
      "[CV] C=0.01, kernel=linear ...........................................\n",
      "[CV] ............ C=0.01, kernel=linear, score=0.001739, total=   0.0s\n",
      "[CV] C=0.01, kernel=linear ...........................................\n",
      "[CV] ........... C=0.01, kernel=linear, score=-0.009867, total=   0.0s\n",
      "[CV] C=0.01, kernel=linear ...........................................\n",
      "[CV] ............ C=0.01, kernel=linear, score=0.002766, total=   0.0s\n",
      "[CV] C=0.01, kernel=linear ...........................................\n",
      "[CV] ........... C=0.01, kernel=linear, score=-0.274085, total=   0.0s\n",
      "[CV] C=0.01, kernel=rbf ..............................................\n",
      "[CV] .............. C=0.01, kernel=rbf, score=-0.004325, total=   0.0s\n",
      "[CV] C=0.01, kernel=rbf ..............................................\n",
      "[CV] .............. C=0.01, kernel=rbf, score=-0.001401, total=   0.0s\n",
      "[CV] C=0.01, kernel=rbf ..............................................\n",
      "[CV] .............. C=0.01, kernel=rbf, score=-0.012575, total=   0.0s\n",
      "[CV] C=0.01, kernel=rbf ..............................................\n",
      "[CV] .............. C=0.01, kernel=rbf, score=-0.000292, total=   0.0s\n",
      "[CV] C=0.01, kernel=rbf ..............................................\n",
      "[CV] .............. C=0.01, kernel=rbf, score=-0.279519, total=   0.0s\n",
      "[CV] C=0.01, kernel=poly .............................................\n",
      "[CV] ............. C=0.01, kernel=poly, score=-0.004646, total=   0.0s\n",
      "[CV] C=0.01, kernel=poly .............................................\n",
      "[CV] ............. C=0.01, kernel=poly, score=-0.001544, total=   0.0s\n",
      "[CV] C=0.01, kernel=poly .............................................\n",
      "[CV] ............. C=0.01, kernel=poly, score=-0.012417, total=   0.0s\n",
      "[CV] C=0.01, kernel=poly .............................................\n",
      "[CV] ............. C=0.01, kernel=poly, score=-0.000483, total=   0.0s\n",
      "[CV] C=0.01, kernel=poly .............................................\n",
      "[CV] ............. C=0.01, kernel=poly, score=-0.279544, total=   0.0s\n",
      "[CV] C=0.01, kernel=sigmoid ..........................................\n",
      "[CV] .......... C=0.01, kernel=sigmoid, score=-0.005339, total=   0.0s\n",
      "[CV] C=0.01, kernel=sigmoid ..........................................\n",
      "[CV] .......... C=0.01, kernel=sigmoid, score=-0.002457, total=   0.0s\n",
      "[CV] C=0.01, kernel=sigmoid ..........................................\n",
      "[CV] .......... C=0.01, kernel=sigmoid, score=-0.013615, total=   0.0s\n",
      "[CV] C=0.01, kernel=sigmoid ..........................................\n",
      "[CV] .......... C=0.01, kernel=sigmoid, score=-0.001205, total=   0.0s\n",
      "[CV] C=0.01, kernel=sigmoid ..........................................\n",
      "[CV] .......... C=0.01, kernel=sigmoid, score=-0.281564, total=   0.0s\n",
      "[CV] C=0.1, kernel=linear ............................................\n",
      "[CV] ............. C=0.1, kernel=linear, score=0.042790, total=   0.0s\n",
      "[CV] C=0.1, kernel=linear ............................................\n",
      "[CV] ............. C=0.1, kernel=linear, score=0.043659, total=   0.0s\n",
      "[CV] C=0.1, kernel=linear ............................................\n",
      "[CV] ............. C=0.1, kernel=linear, score=0.025682, total=   0.0s\n",
      "[CV] C=0.1, kernel=linear ............................................\n",
      "[CV] ............. C=0.1, kernel=linear, score=0.042731, total=   0.0s\n",
      "[CV] C=0.1, kernel=linear ............................................\n",
      "[CV] ............ C=0.1, kernel=linear, score=-0.199872, total=   0.0s\n",
      "[CV] C=0.1, kernel=rbf ...............................................\n",
      "[CV] ................ C=0.1, kernel=rbf, score=0.010497, total=   0.0s\n",
      "[CV] C=0.1, kernel=rbf ...............................................\n",
      "[CV] ................ C=0.1, kernel=rbf, score=0.013161, total=   0.0s\n",
      "[CV] C=0.1, kernel=rbf ...............................................\n",
      "[CV] ................ C=0.1, kernel=rbf, score=0.000547, total=   0.0s\n",
      "[CV] C=0.1, kernel=rbf ...............................................\n",
      "[CV] ................ C=0.1, kernel=rbf, score=0.012966, total=   0.0s\n",
      "[CV] C=0.1, kernel=rbf ...............................................\n",
      "[CV] ............... C=0.1, kernel=rbf, score=-0.252958, total=   0.0s\n",
      "[CV] C=0.1, kernel=poly ..............................................\n",
      "[CV] ............... C=0.1, kernel=poly, score=0.007296, total=   0.0s\n",
      "[CV] C=0.1, kernel=poly ..............................................\n",
      "[CV] ............... C=0.1, kernel=poly, score=0.011730, total=   0.0s\n",
      "[CV] C=0.1, kernel=poly ..............................................\n",
      "[CV] ............... C=0.1, kernel=poly, score=0.002110, total=   0.0s\n",
      "[CV] C=0.1, kernel=poly ..............................................\n"
     ]
    },
    {
     "name": "stderr",
     "output_type": "stream",
     "text": [
      "[Parallel(n_jobs=1)]: Done   1 out of   1 | elapsed:    0.0s remaining:    0.0s\n",
      "[Parallel(n_jobs=1)]: Done   2 out of   2 | elapsed:    0.0s remaining:    0.0s\n",
      "[Parallel(n_jobs=1)]: Done   3 out of   3 | elapsed:    0.0s remaining:    0.0s\n"
     ]
    },
    {
     "name": "stdout",
     "output_type": "stream",
     "text": [
      "[CV] ............... C=0.1, kernel=poly, score=0.011078, total=   0.0s\n",
      "[CV] C=0.1, kernel=poly ..............................................\n",
      "[CV] .............. C=0.1, kernel=poly, score=-0.253203, total=   0.0s\n",
      "[CV] C=0.1, kernel=sigmoid ...........................................\n",
      "[CV] ............ C=0.1, kernel=sigmoid, score=0.000434, total=   0.0s\n",
      "[CV] C=0.1, kernel=sigmoid ...........................................\n",
      "[CV] ............ C=0.1, kernel=sigmoid, score=0.002671, total=   0.0s\n",
      "[CV] C=0.1, kernel=sigmoid ...........................................\n",
      "[CV] ........... C=0.1, kernel=sigmoid, score=-0.009758, total=   0.0s\n",
      "[CV] C=0.1, kernel=sigmoid ...........................................\n",
      "[CV] ............ C=0.1, kernel=sigmoid, score=0.003942, total=   0.0s\n",
      "[CV] C=0.1, kernel=sigmoid ...........................................\n",
      "[CV] ........... C=0.1, kernel=sigmoid, score=-0.273239, total=   0.0s\n",
      "[CV] C=1.1, kernel=linear ............................................\n",
      "[CV] ............. C=1.1, kernel=linear, score=0.408397, total=   0.0s\n",
      "[CV] C=1.1, kernel=linear ............................................\n",
      "[CV] ............. C=1.1, kernel=linear, score=0.391615, total=   0.0s\n",
      "[CV] C=1.1, kernel=linear ............................................\n",
      "[CV] ............. C=1.1, kernel=linear, score=0.334688, total=   0.0s\n",
      "[CV] C=1.1, kernel=linear ............................................\n",
      "[CV] ............. C=1.1, kernel=linear, score=0.371034, total=   0.0s\n",
      "[CV] C=1.1, kernel=linear ............................................\n",
      "[CV] ............. C=1.1, kernel=linear, score=0.290290, total=   0.0s\n",
      "[CV] C=1.1, kernel=rbf ...............................................\n",
      "[CV] ................ C=1.1, kernel=rbf, score=0.158334, total=   0.0s\n",
      "[CV] C=1.1, kernel=rbf ...............................................\n",
      "[CV] ................ C=1.1, kernel=rbf, score=0.155986, total=   0.0s\n",
      "[CV] C=1.1, kernel=rbf ...............................................\n",
      "[CV] ................ C=1.1, kernel=rbf, score=0.124358, total=   0.0s\n",
      "[CV] C=1.1, kernel=rbf ...............................................\n",
      "[CV] ................ C=1.1, kernel=rbf, score=0.150037, total=   0.0s\n",
      "[CV] C=1.1, kernel=rbf ...............................................\n",
      "[CV] ................ C=1.1, kernel=rbf, score=0.011084, total=   0.0s\n",
      "[CV] C=1.1, kernel=poly ..............................................\n",
      "[CV] ............... C=1.1, kernel=poly, score=0.126399, total=   0.0s\n",
      "[CV] C=1.1, kernel=poly ..............................................\n",
      "[CV] ............... C=1.1, kernel=poly, score=0.143144, total=   0.0s\n",
      "[CV] C=1.1, kernel=poly ..............................................\n",
      "[CV] ............... C=1.1, kernel=poly, score=0.141570, total=   0.0s\n",
      "[CV] C=1.1, kernel=poly ..............................................\n",
      "[CV] ............... C=1.1, kernel=poly, score=0.129653, total=   0.0s\n",
      "[CV] C=1.1, kernel=poly ..............................................\n",
      "[CV] ............... C=1.1, kernel=poly, score=0.017548, total=   0.0s\n",
      "[CV] C=1.1, kernel=sigmoid ...........................................\n",
      "[CV] ............ C=1.1, kernel=sigmoid, score=0.062292, total=   0.0s\n",
      "[CV] C=1.1, kernel=sigmoid ...........................................\n",
      "[CV] ............ C=1.1, kernel=sigmoid, score=0.056923, total=   0.0s\n",
      "[CV] C=1.1, kernel=sigmoid ...........................................\n",
      "[CV] ............ C=1.1, kernel=sigmoid, score=0.029105, total=   0.0s\n",
      "[CV] C=1.1, kernel=sigmoid ...........................................\n",
      "[CV] ............ C=1.1, kernel=sigmoid, score=0.059496, total=   0.0s\n",
      "[CV] C=1.1, kernel=sigmoid ...........................................\n",
      "[CV] ........... C=1.1, kernel=sigmoid, score=-0.182914, total=   0.0s\n",
      "[CV] C=100, kernel=linear ............................................\n",
      "[CV] ............. C=100, kernel=linear, score=0.618991, total=   0.0s\n",
      "[CV] C=100, kernel=linear ............................................\n",
      "[CV] ............. C=100, kernel=linear, score=0.742272, total=   0.0s\n",
      "[CV] C=100, kernel=linear ............................................\n",
      "[CV] ............. C=100, kernel=linear, score=0.515129, total=   0.0s\n",
      "[CV] C=100, kernel=linear ............................................\n",
      "[CV] ............. C=100, kernel=linear, score=0.602943, total=   0.0s\n",
      "[CV] C=100, kernel=linear ............................................\n",
      "[CV] ............. C=100, kernel=linear, score=0.730393, total=   0.0s\n",
      "[CV] C=100, kernel=rbf ...............................................\n",
      "[CV] ................ C=100, kernel=rbf, score=0.607923, total=   0.0s\n",
      "[CV] C=100, kernel=rbf ...............................................\n",
      "[CV] ................ C=100, kernel=rbf, score=0.746925, total=   0.0s\n",
      "[CV] C=100, kernel=rbf ...............................................\n",
      "[CV] ................ C=100, kernel=rbf, score=0.524782, total=   0.0s\n",
      "[CV] C=100, kernel=rbf ...............................................\n",
      "[CV] ................ C=100, kernel=rbf, score=0.626177, total=   0.0s\n",
      "[CV] C=100, kernel=rbf ...............................................\n",
      "[CV] ................ C=100, kernel=rbf, score=0.768754, total=   0.0s\n",
      "[CV] C=100, kernel=poly ..............................................\n",
      "[CV] ............... C=100, kernel=poly, score=0.560280, total=   0.0s\n",
      "[CV] C=100, kernel=poly ..............................................\n",
      "[CV] ............... C=100, kernel=poly, score=0.721801, total=   0.0s\n",
      "[CV] C=100, kernel=poly ..............................................\n",
      "[CV] ............... C=100, kernel=poly, score=0.625321, total=   0.0s\n",
      "[CV] C=100, kernel=poly ..............................................\n",
      "[CV] ............... C=100, kernel=poly, score=0.582310, total=   0.0s\n",
      "[CV] C=100, kernel=poly ..............................................\n",
      "[CV] ............... C=100, kernel=poly, score=0.788562, total=   0.0s\n",
      "[CV] C=100, kernel=sigmoid ...........................................\n",
      "[CV] ............ C=100, kernel=sigmoid, score=0.644401, total=   0.0s\n",
      "[CV] C=100, kernel=sigmoid ...........................................\n",
      "[CV] ............ C=100, kernel=sigmoid, score=0.668410, total=   0.0s\n",
      "[CV] C=100, kernel=sigmoid ...........................................\n",
      "[CV] ............ C=100, kernel=sigmoid, score=0.368528, total=   0.0s\n",
      "[CV] C=100, kernel=sigmoid ...........................................\n",
      "[CV] ............ C=100, kernel=sigmoid, score=0.517550, total=   0.0s\n",
      "[CV] C=100, kernel=sigmoid ...........................................\n",
      "[CV] ............ C=100, kernel=sigmoid, score=0.644154, total=   0.0s\n",
      "[CV] C=1000, kernel=linear ...........................................\n",
      "[CV] ............ C=1000, kernel=linear, score=0.581384, total=   0.0s\n",
      "[CV] C=1000, kernel=linear ...........................................\n",
      "[CV] ............ C=1000, kernel=linear, score=0.730697, total=   0.0s\n",
      "[CV] C=1000, kernel=linear ...........................................\n",
      "[CV] ............ C=1000, kernel=linear, score=0.480954, total=   0.0s\n",
      "[CV] C=1000, kernel=linear ...........................................\n",
      "[CV] ............ C=1000, kernel=linear, score=0.621944, total=   0.0s\n",
      "[CV] C=1000, kernel=linear ...........................................\n",
      "[CV] ............ C=1000, kernel=linear, score=0.689305, total=   0.0s\n",
      "[CV] C=1000, kernel=rbf ..............................................\n",
      "[CV] ............... C=1000, kernel=rbf, score=0.624356, total=   0.0s\n",
      "[CV] C=1000, kernel=rbf ..............................................\n",
      "[CV] ............... C=1000, kernel=rbf, score=0.780689, total=   0.0s\n",
      "[CV] C=1000, kernel=rbf ..............................................\n",
      "[CV] ............... C=1000, kernel=rbf, score=0.579892, total=   0.0s\n",
      "[CV] C=1000, kernel=rbf ..............................................\n",
      "[CV] ............... C=1000, kernel=rbf, score=0.674131, total=   0.0s\n",
      "[CV] C=1000, kernel=rbf ..............................................\n",
      "[CV] ............... C=1000, kernel=rbf, score=0.795599, total=   0.0s\n",
      "[CV] C=1000, kernel=poly .............................................\n",
      "[CV] .............. C=1000, kernel=poly, score=0.566485, total=   0.0s\n",
      "[CV] C=1000, kernel=poly .............................................\n",
      "[CV] .............. C=1000, kernel=poly, score=0.725818, total=   0.0s\n",
      "[CV] C=1000, kernel=poly .............................................\n",
      "[CV] .............. C=1000, kernel=poly, score=0.575900, total=   0.0s\n",
      "[CV] C=1000, kernel=poly .............................................\n",
      "[CV] .............. C=1000, kernel=poly, score=0.613098, total=   0.0s\n",
      "[CV] C=1000, kernel=poly .............................................\n",
      "[CV] .............. C=1000, kernel=poly, score=0.825705, total=   0.0s\n",
      "[CV] C=1000, kernel=sigmoid ..........................................\n",
      "[CV] .......... C=1000, kernel=sigmoid, score=-5.462878, total=   0.0s\n",
      "[CV] C=1000, kernel=sigmoid ..........................................\n",
      "[CV] .......... C=1000, kernel=sigmoid, score=-3.152627, total=   0.0s\n",
      "[CV] C=1000, kernel=sigmoid ..........................................\n",
      "[CV] .......... C=1000, kernel=sigmoid, score=-2.745093, total=   0.0s\n",
      "[CV] C=1000, kernel=sigmoid ..........................................\n",
      "[CV] .......... C=1000, kernel=sigmoid, score=-8.885748, total=   0.0s\n",
      "[CV] C=1000, kernel=sigmoid ..........................................\n",
      "[CV] .......... C=1000, kernel=sigmoid, score=-4.671171, total=   0.0s\n",
      "[CV] C=10000, kernel=linear ..........................................\n",
      "[CV] ........... C=10000, kernel=linear, score=0.575551, total=   0.0s\n",
      "[CV] C=10000, kernel=linear ..........................................\n",
      "[CV] ........... C=10000, kernel=linear, score=0.726333, total=   0.0s\n",
      "[CV] C=10000, kernel=linear ..........................................\n",
      "[CV] ........... C=10000, kernel=linear, score=0.477834, total=   0.0s\n",
      "[CV] C=10000, kernel=linear ..........................................\n",
      "[CV] ........... C=10000, kernel=linear, score=0.621902, total=   0.0s\n",
      "[CV] C=10000, kernel=linear ..........................................\n",
      "[CV] ........... C=10000, kernel=linear, score=0.688438, total=   0.0s\n",
      "[CV] C=10000, kernel=rbf .............................................\n",
      "[CV] .............. C=10000, kernel=rbf, score=0.602873, total=   0.0s\n",
      "[CV] C=10000, kernel=rbf .............................................\n",
      "[CV] .............. C=10000, kernel=rbf, score=0.738910, total=   0.0s\n",
      "[CV] C=10000, kernel=rbf .............................................\n",
      "[CV] .............. C=10000, kernel=rbf, score=0.623354, total=   0.0s\n",
      "[CV] C=10000, kernel=rbf .............................................\n",
      "[CV] .............. C=10000, kernel=rbf, score=0.637978, total=   0.0s\n",
      "[CV] C=10000, kernel=rbf .............................................\n",
      "[CV] .............. C=10000, kernel=rbf, score=0.693160, total=   0.0s\n",
      "[CV] C=10000, kernel=poly ............................................\n",
      "[CV] ............. C=10000, kernel=poly, score=0.566746, total=   0.0s\n",
      "[CV] C=10000, kernel=poly ............................................\n",
      "[CV] ............. C=10000, kernel=poly, score=0.677326, total=   0.0s\n",
      "[CV] C=10000, kernel=poly ............................................\n",
      "[CV] ............. C=10000, kernel=poly, score=0.657340, total=   0.0s\n",
      "[CV] C=10000, kernel=poly ............................................\n",
      "[CV] ............. C=10000, kernel=poly, score=0.637853, total=   0.0s\n",
      "[CV] C=10000, kernel=poly ............................................\n",
      "[CV] ............. C=10000, kernel=poly, score=0.864812, total=   0.0s\n",
      "[CV] C=10000, kernel=sigmoid .........................................\n",
      "[CV] ....... C=10000, kernel=sigmoid, score=-794.023802, total=   0.0s\n",
      "[CV] C=10000, kernel=sigmoid .........................................\n",
      "[CV] ....... C=10000, kernel=sigmoid, score=-507.227357, total=   0.0s\n",
      "[CV] C=10000, kernel=sigmoid .........................................\n",
      "[CV] ....... C=10000, kernel=sigmoid, score=-261.069173, total=   0.0s\n",
      "[CV] C=10000, kernel=sigmoid .........................................\n",
      "[CV] ...... C=10000, kernel=sigmoid, score=-1094.410625, total=   0.0s\n",
      "[CV] C=10000, kernel=sigmoid .........................................\n",
      "[CV] ....... C=10000, kernel=sigmoid, score=-444.986479, total=   0.0s\n",
      "Best hyper parameters: {'C': 1000, 'kernel': 'rbf'}\n",
      "Best score of this configuration: 0.690201633285\n"
     ]
    },
    {
     "name": "stderr",
     "output_type": "stream",
     "text": [
      "[Parallel(n_jobs=1)]: Done 140 out of 140 | elapsed:    0.5s finished\n",
      "C:\\Users\\Vu Anh Vinh\\Miniconda3\\envs\\thkstat\\lib\\site-packages\\sklearn\\utils\\validation.py:395: DeprecationWarning: Passing 1d arrays as data is deprecated in 0.17 and will raise ValueError in 0.19. Reshape your data either using X.reshape(-1, 1) if your data has a single feature or X.reshape(1, -1) if it contains a single sample.\n",
      "  DeprecationWarning)\n",
      "C:\\Users\\Vu Anh Vinh\\Miniconda3\\envs\\thkstat\\lib\\site-packages\\sklearn\\utils\\validation.py:395: DeprecationWarning: Passing 1d arrays as data is deprecated in 0.17 and will raise ValueError in 0.19. Reshape your data either using X.reshape(-1, 1) if your data has a single feature or X.reshape(1, -1) if it contains a single sample.\n",
      "  DeprecationWarning)\n",
      "C:\\Users\\Vu Anh Vinh\\Miniconda3\\envs\\thkstat\\lib\\site-packages\\sklearn\\utils\\validation.py:395: DeprecationWarning: Passing 1d arrays as data is deprecated in 0.17 and will raise ValueError in 0.19. Reshape your data either using X.reshape(-1, 1) if your data has a single feature or X.reshape(1, -1) if it contains a single sample.\n",
      "  DeprecationWarning)\n",
      "C:\\Users\\Vu Anh Vinh\\Miniconda3\\envs\\thkstat\\lib\\site-packages\\sklearn\\utils\\validation.py:395: DeprecationWarning: Passing 1d arrays as data is deprecated in 0.17 and will raise ValueError in 0.19. Reshape your data either using X.reshape(-1, 1) if your data has a single feature or X.reshape(1, -1) if it contains a single sample.\n",
      "  DeprecationWarning)\n",
      "C:\\Users\\Vu Anh Vinh\\Miniconda3\\envs\\thkstat\\lib\\site-packages\\sklearn\\utils\\validation.py:395: DeprecationWarning: Passing 1d arrays as data is deprecated in 0.17 and will raise ValueError in 0.19. Reshape your data either using X.reshape(-1, 1) if your data has a single feature or X.reshape(1, -1) if it contains a single sample.\n",
      "  DeprecationWarning)\n",
      "C:\\Users\\Vu Anh Vinh\\Miniconda3\\envs\\thkstat\\lib\\site-packages\\sklearn\\utils\\validation.py:395: DeprecationWarning: Passing 1d arrays as data is deprecated in 0.17 and will raise ValueError in 0.19. Reshape your data either using X.reshape(-1, 1) if your data has a single feature or X.reshape(1, -1) if it contains a single sample.\n",
      "  DeprecationWarning)\n",
      "C:\\Users\\Vu Anh Vinh\\Miniconda3\\envs\\thkstat\\lib\\site-packages\\sklearn\\utils\\validation.py:395: DeprecationWarning: Passing 1d arrays as data is deprecated in 0.17 and will raise ValueError in 0.19. Reshape your data either using X.reshape(-1, 1) if your data has a single feature or X.reshape(1, -1) if it contains a single sample.\n",
      "  DeprecationWarning)\n",
      "C:\\Users\\Vu Anh Vinh\\Miniconda3\\envs\\thkstat\\lib\\site-packages\\sklearn\\utils\\validation.py:395: DeprecationWarning: Passing 1d arrays as data is deprecated in 0.17 and will raise ValueError in 0.19. Reshape your data either using X.reshape(-1, 1) if your data has a single feature or X.reshape(1, -1) if it contains a single sample.\n",
      "  DeprecationWarning)\n",
      "C:\\Users\\Vu Anh Vinh\\Miniconda3\\envs\\thkstat\\lib\\site-packages\\sklearn\\utils\\validation.py:395: DeprecationWarning: Passing 1d arrays as data is deprecated in 0.17 and will raise ValueError in 0.19. Reshape your data either using X.reshape(-1, 1) if your data has a single feature or X.reshape(1, -1) if it contains a single sample.\n",
      "  DeprecationWarning)\n",
      "C:\\Users\\Vu Anh Vinh\\Miniconda3\\envs\\thkstat\\lib\\site-packages\\sklearn\\utils\\validation.py:395: DeprecationWarning: Passing 1d arrays as data is deprecated in 0.17 and will raise ValueError in 0.19. Reshape your data either using X.reshape(-1, 1) if your data has a single feature or X.reshape(1, -1) if it contains a single sample.\n",
      "  DeprecationWarning)\n",
      "C:\\Users\\Vu Anh Vinh\\Miniconda3\\envs\\thkstat\\lib\\site-packages\\sklearn\\utils\\validation.py:395: DeprecationWarning: Passing 1d arrays as data is deprecated in 0.17 and will raise ValueError in 0.19. Reshape your data either using X.reshape(-1, 1) if your data has a single feature or X.reshape(1, -1) if it contains a single sample.\n",
      "  DeprecationWarning)\n",
      "C:\\Users\\Vu Anh Vinh\\Miniconda3\\envs\\thkstat\\lib\\site-packages\\sklearn\\utils\\validation.py:395: DeprecationWarning: Passing 1d arrays as data is deprecated in 0.17 and will raise ValueError in 0.19. Reshape your data either using X.reshape(-1, 1) if your data has a single feature or X.reshape(1, -1) if it contains a single sample.\n",
      "  DeprecationWarning)\n",
      "C:\\Users\\Vu Anh Vinh\\Miniconda3\\envs\\thkstat\\lib\\site-packages\\sklearn\\utils\\validation.py:395: DeprecationWarning: Passing 1d arrays as data is deprecated in 0.17 and will raise ValueError in 0.19. Reshape your data either using X.reshape(-1, 1) if your data has a single feature or X.reshape(1, -1) if it contains a single sample.\n",
      "  DeprecationWarning)\n",
      "C:\\Users\\Vu Anh Vinh\\Miniconda3\\envs\\thkstat\\lib\\site-packages\\sklearn\\utils\\validation.py:395: DeprecationWarning: Passing 1d arrays as data is deprecated in 0.17 and will raise ValueError in 0.19. Reshape your data either using X.reshape(-1, 1) if your data has a single feature or X.reshape(1, -1) if it contains a single sample.\n",
      "  DeprecationWarning)\n",
      "C:\\Users\\Vu Anh Vinh\\Miniconda3\\envs\\thkstat\\lib\\site-packages\\sklearn\\utils\\validation.py:395: DeprecationWarning: Passing 1d arrays as data is deprecated in 0.17 and will raise ValueError in 0.19. Reshape your data either using X.reshape(-1, 1) if your data has a single feature or X.reshape(1, -1) if it contains a single sample.\n",
      "  DeprecationWarning)\n",
      "C:\\Users\\Vu Anh Vinh\\Miniconda3\\envs\\thkstat\\lib\\site-packages\\sklearn\\utils\\validation.py:395: DeprecationWarning: Passing 1d arrays as data is deprecated in 0.17 and will raise ValueError in 0.19. Reshape your data either using X.reshape(-1, 1) if your data has a single feature or X.reshape(1, -1) if it contains a single sample.\n",
      "  DeprecationWarning)\n",
      "C:\\Users\\Vu Anh Vinh\\Miniconda3\\envs\\thkstat\\lib\\site-packages\\sklearn\\utils\\validation.py:395: DeprecationWarning: Passing 1d arrays as data is deprecated in 0.17 and will raise ValueError in 0.19. Reshape your data either using X.reshape(-1, 1) if your data has a single feature or X.reshape(1, -1) if it contains a single sample.\n",
      "  DeprecationWarning)\n",
      "C:\\Users\\Vu Anh Vinh\\Miniconda3\\envs\\thkstat\\lib\\site-packages\\sklearn\\utils\\validation.py:395: DeprecationWarning: Passing 1d arrays as data is deprecated in 0.17 and will raise ValueError in 0.19. Reshape your data either using X.reshape(-1, 1) if your data has a single feature or X.reshape(1, -1) if it contains a single sample.\n",
      "  DeprecationWarning)\n",
      "C:\\Users\\Vu Anh Vinh\\Miniconda3\\envs\\thkstat\\lib\\site-packages\\sklearn\\utils\\validation.py:395: DeprecationWarning: Passing 1d arrays as data is deprecated in 0.17 and will raise ValueError in 0.19. Reshape your data either using X.reshape(-1, 1) if your data has a single feature or X.reshape(1, -1) if it contains a single sample.\n",
      "  DeprecationWarning)\n",
      "C:\\Users\\Vu Anh Vinh\\Miniconda3\\envs\\thkstat\\lib\\site-packages\\sklearn\\utils\\validation.py:395: DeprecationWarning: Passing 1d arrays as data is deprecated in 0.17 and will raise ValueError in 0.19. Reshape your data either using X.reshape(-1, 1) if your data has a single feature or X.reshape(1, -1) if it contains a single sample.\n",
      "  DeprecationWarning)\n",
      "C:\\Users\\Vu Anh Vinh\\Miniconda3\\envs\\thkstat\\lib\\site-packages\\sklearn\\utils\\validation.py:395: DeprecationWarning: Passing 1d arrays as data is deprecated in 0.17 and will raise ValueError in 0.19. Reshape your data either using X.reshape(-1, 1) if your data has a single feature or X.reshape(1, -1) if it contains a single sample.\n",
      "  DeprecationWarning)\n",
      "C:\\Users\\Vu Anh Vinh\\Miniconda3\\envs\\thkstat\\lib\\site-packages\\sklearn\\utils\\validation.py:395: DeprecationWarning: Passing 1d arrays as data is deprecated in 0.17 and will raise ValueError in 0.19. Reshape your data either using X.reshape(-1, 1) if your data has a single feature or X.reshape(1, -1) if it contains a single sample.\n",
      "  DeprecationWarning)\n",
      "C:\\Users\\Vu Anh Vinh\\Miniconda3\\envs\\thkstat\\lib\\site-packages\\sklearn\\utils\\validation.py:395: DeprecationWarning: Passing 1d arrays as data is deprecated in 0.17 and will raise ValueError in 0.19. Reshape your data either using X.reshape(-1, 1) if your data has a single feature or X.reshape(1, -1) if it contains a single sample.\n",
      "  DeprecationWarning)\n"
     ]
    },
    {
     "name": "stdout",
     "output_type": "stream",
     "text": [
      "max score: 0.768\n",
      "                  predicted value\ttrue value \n",
      "student  1\t\t57.821\t\t54.000\n",
      "student  4\t\t25.111\t\t28.000\n",
      "student  5\t\t51.854\t\t49.000\n",
      "student  7\t\t42.612\t\t44.000\n",
      "student  8\t\t78.807\t\t90.000\n",
      "student  9\t\t75.678\t\t87.000\n",
      "student 11\t\t70.200\t\t81.000\n",
      "student 16\t\t39.095\t\t32.000\n",
      "student 19\t\t37.689\t\t36.000\n",
      "student 26\t\t43.072\t\t46.000\n",
      "student 27\t\t42.196\t\t57.000\n",
      "student 29\t\t63.854\t\t43.000\n",
      "student 33\t\t50.035\t\t48.000\n",
      "student 38\t\t36.519\t\t36.000\n",
      "student 42\t\t80.168\t\t66.000\n",
      "student 44\t\t31.146\t\t40.000\n",
      "student 59\t\t37.969\t\t39.000\n",
      "student 67\t\t58.713\t\t62.000\n",
      "student 68\t\t75.085\t\t85.000\n",
      "student 69\t\t55.017\t\t55.000\n",
      "student 77\t\t66.358\t\t71.000\n",
      "student 83\t\t58.271\t\t47.000\n",
      "student 86\t\t47.326\t\t40.000\n",
      "Grid search for... Random Forest Regressor\n",
      "RandomForestRegressor(bootstrap=True, criterion='mse', max_depth=None,\n",
      "           max_features='sqrt', max_leaf_nodes=None,\n",
      "           min_impurity_split=1e-07, min_samples_leaf=2,\n",
      "           min_samples_split=8, min_weight_fraction_leaf=0.0,\n",
      "           n_estimators=50, n_jobs=-1, oob_score=False, random_state=None,\n",
      "           verbose=0, warm_start=False)\n",
      "Fitting 5 folds for each of 12 candidates, totalling 60 fits\n",
      "[CV] n_estimators=300, max_features=log2 .............................\n",
      "[CV]  n_estimators=300, max_features=log2, score=0.534114, total=   0.5s\n",
      "[CV] n_estimators=300, max_features=log2 .............................\n"
     ]
    },
    {
     "name": "stderr",
     "output_type": "stream",
     "text": [
      "[Parallel(n_jobs=1)]: Done   1 out of   1 | elapsed:    0.6s remaining:    0.0s\n"
     ]
    },
    {
     "name": "stdout",
     "output_type": "stream",
     "text": [
      "[CV]  n_estimators=300, max_features=log2, score=0.586763, total=   0.3s\n",
      "[CV] n_estimators=300, max_features=log2 .............................\n"
     ]
    },
    {
     "name": "stderr",
     "output_type": "stream",
     "text": [
      "[Parallel(n_jobs=1)]: Done   2 out of   2 | elapsed:    1.2s remaining:    0.0s\n"
     ]
    },
    {
     "name": "stdout",
     "output_type": "stream",
     "text": [
      "[CV]  n_estimators=300, max_features=log2, score=0.712827, total=   0.5s\n",
      "[CV] n_estimators=300, max_features=log2 .............................\n"
     ]
    },
    {
     "name": "stderr",
     "output_type": "stream",
     "text": [
      "[Parallel(n_jobs=1)]: Done   3 out of   3 | elapsed:    1.9s remaining:    0.0s\n"
     ]
    },
    {
     "name": "stdout",
     "output_type": "stream",
     "text": [
      "[CV]  n_estimators=300, max_features=log2, score=0.706958, total=   0.4s\n",
      "[CV] n_estimators=300, max_features=log2 .............................\n",
      "[CV]  n_estimators=300, max_features=log2, score=0.558860, total=   0.6s\n",
      "[CV] n_estimators=500, max_features=log2 .............................\n",
      "[CV]  n_estimators=500, max_features=log2, score=0.540300, total=   0.8s\n",
      "[CV] n_estimators=500, max_features=log2 .............................\n",
      "[CV]  n_estimators=500, max_features=log2, score=0.594540, total=   0.6s\n",
      "[CV] n_estimators=500, max_features=log2 .............................\n",
      "[CV]  n_estimators=500, max_features=log2, score=0.711731, total=   0.7s\n",
      "[CV] n_estimators=500, max_features=log2 .............................\n",
      "[CV]  n_estimators=500, max_features=log2, score=0.693027, total=   0.8s\n",
      "[CV] n_estimators=500, max_features=log2 .............................\n",
      "[CV]  n_estimators=500, max_features=log2, score=0.561246, total=   0.7s\n",
      "[CV] n_estimators=800, max_features=log2 .............................\n",
      "[CV]  n_estimators=800, max_features=log2, score=0.541487, total=   1.2s\n",
      "[CV] n_estimators=800, max_features=log2 .............................\n",
      "[CV]  n_estimators=800, max_features=log2, score=0.588367, total=   1.3s\n",
      "[CV] n_estimators=800, max_features=log2 .............................\n",
      "[CV]  n_estimators=800, max_features=log2, score=0.702727, total=   1.2s\n",
      "[CV] n_estimators=800, max_features=log2 .............................\n",
      "[CV]  n_estimators=800, max_features=log2, score=0.690069, total=   1.1s\n",
      "[CV] n_estimators=800, max_features=log2 .............................\n",
      "[CV]  n_estimators=800, max_features=log2, score=0.559233, total=   1.4s\n",
      "[CV] n_estimators=1200, max_features=log2 ............................\n",
      "[CV]  n_estimators=1200, max_features=log2, score=0.542163, total=   1.6s\n",
      "[CV] n_estimators=1200, max_features=log2 ............................\n",
      "[CV]  n_estimators=1200, max_features=log2, score=0.585767, total=   1.7s\n",
      "[CV] n_estimators=1200, max_features=log2 ............................\n",
      "[CV]  n_estimators=1200, max_features=log2, score=0.714750, total=   1.6s\n",
      "[CV] n_estimators=1200, max_features=log2 ............................\n",
      "[CV]  n_estimators=1200, max_features=log2, score=0.689407, total=   1.5s\n",
      "[CV] n_estimators=1200, max_features=log2 ............................\n",
      "[CV]  n_estimators=1200, max_features=log2, score=0.567064, total=   1.8s\n",
      "[CV] n_estimators=300, max_features=sqrt .............................\n",
      "[CV]  n_estimators=300, max_features=sqrt, score=0.550885, total=   0.3s\n",
      "[CV] n_estimators=300, max_features=sqrt .............................\n",
      "[CV]  n_estimators=300, max_features=sqrt, score=0.585220, total=   0.4s\n",
      "[CV] n_estimators=300, max_features=sqrt .............................\n",
      "[CV]  n_estimators=300, max_features=sqrt, score=0.707631, total=   0.3s\n",
      "[CV] n_estimators=300, max_features=sqrt .............................\n",
      "[CV]  n_estimators=300, max_features=sqrt, score=0.681957, total=   0.4s\n",
      "[CV] n_estimators=300, max_features=sqrt .............................\n",
      "[CV]  n_estimators=300, max_features=sqrt, score=0.548073, total=   0.3s\n",
      "[CV] n_estimators=500, max_features=sqrt .............................\n",
      "[CV]  n_estimators=500, max_features=sqrt, score=0.553104, total=   0.7s\n",
      "[CV] n_estimators=500, max_features=sqrt .............................\n",
      "[CV]  n_estimators=500, max_features=sqrt, score=0.582407, total=   0.7s\n",
      "[CV] n_estimators=500, max_features=sqrt .............................\n",
      "[CV]  n_estimators=500, max_features=sqrt, score=0.716708, total=   0.7s\n",
      "[CV] n_estimators=500, max_features=sqrt .............................\n",
      "[CV]  n_estimators=500, max_features=sqrt, score=0.690153, total=   0.6s\n",
      "[CV] n_estimators=500, max_features=sqrt .............................\n",
      "[CV]  n_estimators=500, max_features=sqrt, score=0.555500, total=   0.8s\n",
      "[CV] n_estimators=800, max_features=sqrt .............................\n",
      "[CV]  n_estimators=800, max_features=sqrt, score=0.545373, total=   1.0s\n",
      "[CV] n_estimators=800, max_features=sqrt .............................\n",
      "[CV]  n_estimators=800, max_features=sqrt, score=0.585244, total=   1.0s\n",
      "[CV] n_estimators=800, max_features=sqrt .............................\n",
      "[CV]  n_estimators=800, max_features=sqrt, score=0.711922, total=   1.1s\n",
      "[CV] n_estimators=800, max_features=sqrt .............................\n",
      "[CV]  n_estimators=800, max_features=sqrt, score=0.689462, total=   1.5s\n",
      "[CV] n_estimators=800, max_features=sqrt .............................\n",
      "[CV]  n_estimators=800, max_features=sqrt, score=0.545861, total=   1.0s\n",
      "[CV] n_estimators=1200, max_features=sqrt ............................\n",
      "[CV]  n_estimators=1200, max_features=sqrt, score=0.539925, total=   1.6s\n",
      "[CV] n_estimators=1200, max_features=sqrt ............................\n",
      "[CV]  n_estimators=1200, max_features=sqrt, score=0.595852, total=   1.7s\n",
      "[CV] n_estimators=1200, max_features=sqrt ............................\n",
      "[CV]  n_estimators=1200, max_features=sqrt, score=0.712170, total=   1.6s\n",
      "[CV] n_estimators=1200, max_features=sqrt ............................\n",
      "[CV]  n_estimators=1200, max_features=sqrt, score=0.687114, total=   1.7s\n",
      "[CV] n_estimators=1200, max_features=sqrt ............................\n",
      "[CV]  n_estimators=1200, max_features=sqrt, score=0.557404, total=   1.9s\n",
      "[CV] n_estimators=300, max_features=None .............................\n",
      "[CV]  n_estimators=300, max_features=None, score=0.463073, total=   0.5s\n",
      "[CV] n_estimators=300, max_features=None .............................\n",
      "[CV]  n_estimators=300, max_features=None, score=0.619112, total=   0.3s\n",
      "[CV] n_estimators=300, max_features=None .............................\n",
      "[CV]  n_estimators=300, max_features=None, score=0.718009, total=   0.5s\n",
      "[CV] n_estimators=300, max_features=None .............................\n",
      "[CV]  n_estimators=300, max_features=None, score=0.700315, total=   0.3s\n",
      "[CV] n_estimators=300, max_features=None .............................\n",
      "[CV]  n_estimators=300, max_features=None, score=0.528264, total=   0.5s\n",
      "[CV] n_estimators=500, max_features=None .............................\n",
      "[CV]  n_estimators=500, max_features=None, score=0.467247, total=   0.7s\n",
      "[CV] n_estimators=500, max_features=None .............................\n",
      "[CV]  n_estimators=500, max_features=None, score=0.628235, total=   0.7s\n",
      "[CV] n_estimators=500, max_features=None .............................\n",
      "[CV]  n_estimators=500, max_features=None, score=0.719425, total=   0.8s\n",
      "[CV] n_estimators=500, max_features=None .............................\n",
      "[CV]  n_estimators=500, max_features=None, score=0.677190, total=   0.7s\n",
      "[CV] n_estimators=500, max_features=None .............................\n",
      "[CV]  n_estimators=500, max_features=None, score=0.530989, total=   0.6s\n",
      "[CV] n_estimators=800, max_features=None .............................\n",
      "[CV]  n_estimators=800, max_features=None, score=0.485163, total=   1.2s\n",
      "[CV] n_estimators=800, max_features=None .............................\n",
      "[CV]  n_estimators=800, max_features=None, score=0.620664, total=   1.0s\n",
      "[CV] n_estimators=800, max_features=None .............................\n",
      "[CV]  n_estimators=800, max_features=None, score=0.723030, total=   1.1s\n",
      "[CV] n_estimators=800, max_features=None .............................\n",
      "[CV]  n_estimators=800, max_features=None, score=0.677639, total=   1.1s\n",
      "[CV] n_estimators=800, max_features=None .............................\n",
      "[CV]  n_estimators=800, max_features=None, score=0.535223, total=   1.2s\n",
      "[CV] n_estimators=1200, max_features=None ............................\n",
      "[CV]  n_estimators=1200, max_features=None, score=0.480615, total=   1.7s\n",
      "[CV] n_estimators=1200, max_features=None ............................\n",
      "[CV]  n_estimators=1200, max_features=None, score=0.617231, total=   1.9s\n",
      "[CV] n_estimators=1200, max_features=None ............................\n",
      "[CV]  n_estimators=1200, max_features=None, score=0.719121, total=   1.7s\n",
      "[CV] n_estimators=1200, max_features=None ............................\n",
      "[CV]  n_estimators=1200, max_features=None, score=0.690783, total=   1.9s\n",
      "[CV] n_estimators=1200, max_features=None ............................\n",
      "[CV]  n_estimators=1200, max_features=None, score=0.539683, total=   1.8s\n"
     ]
    },
    {
     "name": "stderr",
     "output_type": "stream",
     "text": [
      "[Parallel(n_jobs=1)]: Done  60 out of  60 | elapsed:  1.3min finished\n"
     ]
    },
    {
     "name": "stdout",
     "output_type": "stream",
     "text": [
      "Best hyper parameters: {'n_estimators': 500, 'max_features': 'log2'}\n",
      "Best score of this configuration: 0.619291076142\n",
      "max score: 0.741\n",
      "                  predicted value\ttrue value \n"
     ]
    },
    {
     "name": "stderr",
     "output_type": "stream",
     "text": [
      "C:\\Users\\Vu Anh Vinh\\Miniconda3\\envs\\thkstat\\lib\\site-packages\\sklearn\\utils\\validation.py:395: DeprecationWarning: Passing 1d arrays as data is deprecated in 0.17 and will raise ValueError in 0.19. Reshape your data either using X.reshape(-1, 1) if your data has a single feature or X.reshape(1, -1) if it contains a single sample.\n",
      "  DeprecationWarning)\n",
      "C:\\Users\\Vu Anh Vinh\\Miniconda3\\envs\\thkstat\\lib\\site-packages\\sklearn\\utils\\validation.py:395: DeprecationWarning: Passing 1d arrays as data is deprecated in 0.17 and will raise ValueError in 0.19. Reshape your data either using X.reshape(-1, 1) if your data has a single feature or X.reshape(1, -1) if it contains a single sample.\n",
      "  DeprecationWarning)\n",
      "C:\\Users\\Vu Anh Vinh\\Miniconda3\\envs\\thkstat\\lib\\site-packages\\sklearn\\utils\\validation.py:395: DeprecationWarning: Passing 1d arrays as data is deprecated in 0.17 and will raise ValueError in 0.19. Reshape your data either using X.reshape(-1, 1) if your data has a single feature or X.reshape(1, -1) if it contains a single sample.\n",
      "  DeprecationWarning)\n"
     ]
    },
    {
     "name": "stdout",
     "output_type": "stream",
     "text": [
      "student  1\t\t52.234\t\t54.000\n",
      "student  2\t\t39.039\t\t38.000\n",
      "student  3\t\t65.884\t\t69.000\n",
      "student 13\t\t71.002\t\t58.000\n"
     ]
    },
    {
     "name": "stderr",
     "output_type": "stream",
     "text": [
      "C:\\Users\\Vu Anh Vinh\\Miniconda3\\envs\\thkstat\\lib\\site-packages\\sklearn\\utils\\validation.py:395: DeprecationWarning: Passing 1d arrays as data is deprecated in 0.17 and will raise ValueError in 0.19. Reshape your data either using X.reshape(-1, 1) if your data has a single feature or X.reshape(1, -1) if it contains a single sample.\n",
      "  DeprecationWarning)\n",
      "C:\\Users\\Vu Anh Vinh\\Miniconda3\\envs\\thkstat\\lib\\site-packages\\sklearn\\utils\\validation.py:395: DeprecationWarning: Passing 1d arrays as data is deprecated in 0.17 and will raise ValueError in 0.19. Reshape your data either using X.reshape(-1, 1) if your data has a single feature or X.reshape(1, -1) if it contains a single sample.\n",
      "  DeprecationWarning)\n"
     ]
    },
    {
     "name": "stdout",
     "output_type": "stream",
     "text": [
      "student 14\t\t72.764\t\t74.000\n",
      "student 31\t\t59.489\t\t65.000\n"
     ]
    },
    {
     "name": "stderr",
     "output_type": "stream",
     "text": [
      "C:\\Users\\Vu Anh Vinh\\Miniconda3\\envs\\thkstat\\lib\\site-packages\\sklearn\\utils\\validation.py:395: DeprecationWarning: Passing 1d arrays as data is deprecated in 0.17 and will raise ValueError in 0.19. Reshape your data either using X.reshape(-1, 1) if your data has a single feature or X.reshape(1, -1) if it contains a single sample.\n",
      "  DeprecationWarning)\n",
      "C:\\Users\\Vu Anh Vinh\\Miniconda3\\envs\\thkstat\\lib\\site-packages\\sklearn\\utils\\validation.py:395: DeprecationWarning: Passing 1d arrays as data is deprecated in 0.17 and will raise ValueError in 0.19. Reshape your data either using X.reshape(-1, 1) if your data has a single feature or X.reshape(1, -1) if it contains a single sample.\n",
      "  DeprecationWarning)\n"
     ]
    },
    {
     "name": "stdout",
     "output_type": "stream",
     "text": [
      "student 33\t\t44.068\t\t48.000\n",
      "student 43\t\t25.665\t\t9.000\n",
      "student 44\t\t36.277\t\t40.000\n"
     ]
    },
    {
     "name": "stderr",
     "output_type": "stream",
     "text": [
      "C:\\Users\\Vu Anh Vinh\\Miniconda3\\envs\\thkstat\\lib\\site-packages\\sklearn\\utils\\validation.py:395: DeprecationWarning: Passing 1d arrays as data is deprecated in 0.17 and will raise ValueError in 0.19. Reshape your data either using X.reshape(-1, 1) if your data has a single feature or X.reshape(1, -1) if it contains a single sample.\n",
      "  DeprecationWarning)\n",
      "C:\\Users\\Vu Anh Vinh\\Miniconda3\\envs\\thkstat\\lib\\site-packages\\sklearn\\utils\\validation.py:395: DeprecationWarning: Passing 1d arrays as data is deprecated in 0.17 and will raise ValueError in 0.19. Reshape your data either using X.reshape(-1, 1) if your data has a single feature or X.reshape(1, -1) if it contains a single sample.\n",
      "  DeprecationWarning)\n",
      "C:\\Users\\Vu Anh Vinh\\Miniconda3\\envs\\thkstat\\lib\\site-packages\\sklearn\\utils\\validation.py:395: DeprecationWarning: Passing 1d arrays as data is deprecated in 0.17 and will raise ValueError in 0.19. Reshape your data either using X.reshape(-1, 1) if your data has a single feature or X.reshape(1, -1) if it contains a single sample.\n",
      "  DeprecationWarning)\n"
     ]
    },
    {
     "name": "stdout",
     "output_type": "stream",
     "text": [
      "student 45\t\t67.900\t\t63.000\n"
     ]
    },
    {
     "name": "stderr",
     "output_type": "stream",
     "text": [
      "C:\\Users\\Vu Anh Vinh\\Miniconda3\\envs\\thkstat\\lib\\site-packages\\sklearn\\utils\\validation.py:395: DeprecationWarning: Passing 1d arrays as data is deprecated in 0.17 and will raise ValueError in 0.19. Reshape your data either using X.reshape(-1, 1) if your data has a single feature or X.reshape(1, -1) if it contains a single sample.\n",
      "  DeprecationWarning)\n"
     ]
    },
    {
     "name": "stdout",
     "output_type": "stream",
     "text": [
      "student 53\t\t47.127\t\t39.000\n",
      "student 55\t\t54.123\t\t59.000\n",
      "student 60\t\t37.237\t\t39.000\n"
     ]
    },
    {
     "name": "stderr",
     "output_type": "stream",
     "text": [
      "C:\\Users\\Vu Anh Vinh\\Miniconda3\\envs\\thkstat\\lib\\site-packages\\sklearn\\utils\\validation.py:395: DeprecationWarning: Passing 1d arrays as data is deprecated in 0.17 and will raise ValueError in 0.19. Reshape your data either using X.reshape(-1, 1) if your data has a single feature or X.reshape(1, -1) if it contains a single sample.\n",
      "  DeprecationWarning)\n",
      "C:\\Users\\Vu Anh Vinh\\Miniconda3\\envs\\thkstat\\lib\\site-packages\\sklearn\\utils\\validation.py:395: DeprecationWarning: Passing 1d arrays as data is deprecated in 0.17 and will raise ValueError in 0.19. Reshape your data either using X.reshape(-1, 1) if your data has a single feature or X.reshape(1, -1) if it contains a single sample.\n",
      "  DeprecationWarning)\n",
      "C:\\Users\\Vu Anh Vinh\\Miniconda3\\envs\\thkstat\\lib\\site-packages\\sklearn\\utils\\validation.py:395: DeprecationWarning: Passing 1d arrays as data is deprecated in 0.17 and will raise ValueError in 0.19. Reshape your data either using X.reshape(-1, 1) if your data has a single feature or X.reshape(1, -1) if it contains a single sample.\n",
      "  DeprecationWarning)\n"
     ]
    },
    {
     "name": "stdout",
     "output_type": "stream",
     "text": [
      "student 62\t\t26.429\t\t0.000\n",
      "student 64\t\t68.080\t\t75.000\n"
     ]
    },
    {
     "name": "stderr",
     "output_type": "stream",
     "text": [
      "C:\\Users\\Vu Anh Vinh\\Miniconda3\\envs\\thkstat\\lib\\site-packages\\sklearn\\utils\\validation.py:395: DeprecationWarning: Passing 1d arrays as data is deprecated in 0.17 and will raise ValueError in 0.19. Reshape your data either using X.reshape(-1, 1) if your data has a single feature or X.reshape(1, -1) if it contains a single sample.\n",
      "  DeprecationWarning)\n",
      "C:\\Users\\Vu Anh Vinh\\Miniconda3\\envs\\thkstat\\lib\\site-packages\\sklearn\\utils\\validation.py:395: DeprecationWarning: Passing 1d arrays as data is deprecated in 0.17 and will raise ValueError in 0.19. Reshape your data either using X.reshape(-1, 1) if your data has a single feature or X.reshape(1, -1) if it contains a single sample.\n",
      "  DeprecationWarning)\n"
     ]
    },
    {
     "name": "stdout",
     "output_type": "stream",
     "text": [
      "student 73\t\t47.930\t\t44.000\n",
      "student 75\t\t55.312\t\t53.000\n"
     ]
    },
    {
     "name": "stderr",
     "output_type": "stream",
     "text": [
      "C:\\Users\\Vu Anh Vinh\\Miniconda3\\envs\\thkstat\\lib\\site-packages\\sklearn\\utils\\validation.py:395: DeprecationWarning: Passing 1d arrays as data is deprecated in 0.17 and will raise ValueError in 0.19. Reshape your data either using X.reshape(-1, 1) if your data has a single feature or X.reshape(1, -1) if it contains a single sample.\n",
      "  DeprecationWarning)\n",
      "C:\\Users\\Vu Anh Vinh\\Miniconda3\\envs\\thkstat\\lib\\site-packages\\sklearn\\utils\\validation.py:395: DeprecationWarning: Passing 1d arrays as data is deprecated in 0.17 and will raise ValueError in 0.19. Reshape your data either using X.reshape(-1, 1) if your data has a single feature or X.reshape(1, -1) if it contains a single sample.\n",
      "  DeprecationWarning)\n"
     ]
    },
    {
     "name": "stdout",
     "output_type": "stream",
     "text": [
      "student 76\t\t52.076\t\t62.000\n",
      "student 79\t\t71.990\t\t90.000\n"
     ]
    },
    {
     "name": "stderr",
     "output_type": "stream",
     "text": [
      "C:\\Users\\Vu Anh Vinh\\Miniconda3\\envs\\thkstat\\lib\\site-packages\\sklearn\\utils\\validation.py:395: DeprecationWarning: Passing 1d arrays as data is deprecated in 0.17 and will raise ValueError in 0.19. Reshape your data either using X.reshape(-1, 1) if your data has a single feature or X.reshape(1, -1) if it contains a single sample.\n",
      "  DeprecationWarning)\n",
      "C:\\Users\\Vu Anh Vinh\\Miniconda3\\envs\\thkstat\\lib\\site-packages\\sklearn\\utils\\validation.py:395: DeprecationWarning: Passing 1d arrays as data is deprecated in 0.17 and will raise ValueError in 0.19. Reshape your data either using X.reshape(-1, 1) if your data has a single feature or X.reshape(1, -1) if it contains a single sample.\n",
      "  DeprecationWarning)\n"
     ]
    },
    {
     "name": "stdout",
     "output_type": "stream",
     "text": [
      "student 85\t\t53.073\t\t54.000\n",
      "student 89\t\t47.041\t\t54.000\n"
     ]
    },
    {
     "name": "stderr",
     "output_type": "stream",
     "text": [
      "C:\\Users\\Vu Anh Vinh\\Miniconda3\\envs\\thkstat\\lib\\site-packages\\sklearn\\utils\\validation.py:395: DeprecationWarning: Passing 1d arrays as data is deprecated in 0.17 and will raise ValueError in 0.19. Reshape your data either using X.reshape(-1, 1) if your data has a single feature or X.reshape(1, -1) if it contains a single sample.\n",
      "  DeprecationWarning)\n",
      "C:\\Users\\Vu Anh Vinh\\Miniconda3\\envs\\thkstat\\lib\\site-packages\\sklearn\\utils\\validation.py:395: DeprecationWarning: Passing 1d arrays as data is deprecated in 0.17 and will raise ValueError in 0.19. Reshape your data either using X.reshape(-1, 1) if your data has a single feature or X.reshape(1, -1) if it contains a single sample.\n",
      "  DeprecationWarning)\n"
     ]
    },
    {
     "name": "stdout",
     "output_type": "stream",
     "text": [
      "student 90\t\t56.791\t\t80.000\n",
      "student 91\t\t53.361\t\t62.000\n",
      "Grid search for... Linear Regression\n",
      "LinearRegression(copy_X=True, fit_intercept=True, n_jobs=1, normalize=False)\n",
      "Fitting 5 folds for each of 4 candidates, totalling 20 fits\n",
      "[CV] normalize=True, fit_intercept=True ..............................\n"
     ]
    },
    {
     "name": "stderr",
     "output_type": "stream",
     "text": [
      "C:\\Users\\Vu Anh Vinh\\Miniconda3\\envs\\thkstat\\lib\\site-packages\\sklearn\\utils\\validation.py:395: DeprecationWarning: Passing 1d arrays as data is deprecated in 0.17 and will raise ValueError in 0.19. Reshape your data either using X.reshape(-1, 1) if your data has a single feature or X.reshape(1, -1) if it contains a single sample.\n",
      "  DeprecationWarning)\n"
     ]
    },
    {
     "name": "stdout",
     "output_type": "stream",
     "text": [
      "[CV]  normalize=True, fit_intercept=True, score=0.455030, total=   0.7s\n",
      "[CV] normalize=True, fit_intercept=True ..............................\n",
      "[CV]  normalize=True, fit_intercept=True, score=0.777311, total=   0.0s\n",
      "[CV] normalize=True, fit_intercept=True ..............................\n",
      "[CV]  normalize=True, fit_intercept=True, score=0.612403, total=   0.0s\n",
      "[CV] normalize=True, fit_intercept=True ..............................\n",
      "[CV]  normalize=True, fit_intercept=True, score=0.800039, total=   0.0s\n",
      "[CV] normalize=True, fit_intercept=True ..............................\n",
      "[CV]  normalize=True, fit_intercept=True, score=0.590559, total=   0.0s\n",
      "[CV] normalize=False, fit_intercept=True .............................\n",
      "[CV]  normalize=False, fit_intercept=True, score=0.455030, total=   0.0s\n",
      "[CV] normalize=False, fit_intercept=True .............................\n",
      "[CV]  normalize=False, fit_intercept=True, score=0.777311, total=   0.0s\n",
      "[CV] normalize=False, fit_intercept=True .............................\n",
      "[CV]  normalize=False, fit_intercept=True, score=0.612403, total=   0.0s\n",
      "[CV] normalize=False, fit_intercept=True .............................\n",
      "[CV]  normalize=False, fit_intercept=True, score=0.800039, total=   0.0s\n",
      "[CV] normalize=False, fit_intercept=True .............................\n",
      "[CV]  normalize=False, fit_intercept=True, score=0.590559, total=   0.0s\n",
      "[CV] normalize=True, fit_intercept=False .............................\n",
      "[CV]  normalize=True, fit_intercept=False, score=0.557160, total=   0.0s\n",
      "[CV] normalize=True, fit_intercept=False .............................\n",
      "[CV]  normalize=True, fit_intercept=False, score=0.744459, total=   0.0s\n",
      "[CV] normalize=True, fit_intercept=False .............................\n",
      "[CV]  normalize=True, fit_intercept=False, score=0.551771, total=   0.0s\n",
      "[CV] normalize=True, fit_intercept=False .............................\n",
      "[CV]  normalize=True, fit_intercept=False, score=0.719815, total=   0.0s\n",
      "[CV] normalize=True, fit_intercept=False .............................\n",
      "[CV]  normalize=True, fit_intercept=False, score=0.507940, total=   0.0s\n",
      "[CV] normalize=False, fit_intercept=False ............................\n",
      "[CV]  normalize=False, fit_intercept=False, score=0.557160, total=   0.0s\n",
      "[CV] normalize=False, fit_intercept=False ............................\n",
      "[CV]  normalize=False, fit_intercept=False, score=0.744459, total=   0.0s\n",
      "[CV] normalize=False, fit_intercept=False ............................\n",
      "[CV]  normalize=False, fit_intercept=False, score=0.551771, total=   0.0s\n",
      "[CV] normalize=False, fit_intercept=False ............................\n",
      "[CV]  normalize=False, fit_intercept=False, score=0.719815, total=   0.0s\n",
      "[CV] normalize=False, fit_intercept=False ............................\n",
      "[CV]  normalize=False, fit_intercept=False, score=0.507940, total=   0.0s\n",
      "Best hyper parameters: {'normalize': True, 'fit_intercept': True}\n",
      "Best score of this configuration: 0.64495818138\n",
      "max score: 0.752\n",
      "                  predicted value\ttrue value \n",
      "student  1\t\t51.997\t\t54.000\n",
      "student  2\t\t31.746\t\t38.000\n",
      "student  3\t\t68.453\t\t69.000\n",
      "student  8\t\t74.884\t\t90.000\n",
      "student  9\t\t74.603\t\t87.000\n",
      "student 12\t\t77.410\t\t85.000\n",
      "student 14\t\t76.231\t\t74.000\n",
      "student 17\t\t55.177\t\t61.000\n",
      "student 19\t\t40.264\t\t36.000\n",
      "student 23\t\t53.703\t\t69.000\n",
      "student 27\t\t46.002\t\t57.000\n",
      "student 28\t\t56.869\t\t39.000\n",
      "student 30\t\t41.228\t\t36.000\n",
      "student 33\t\t49.667\t\t48.000\n",
      "student 34\t\t45.536\t\t38.000\n",
      "student 36\t\t47.960\t\t43.000\n",
      "student 49\t\t52.527\t\t49.000\n",
      "student 62\t\t16.858\t\t0.000\n",
      "student 72\t\t66.025\t\t45.000\n",
      "student 78\t\t46.641\t\t43.000\n",
      "student 83\t\t58.011\t\t47.000\n",
      "student 85\t\t53.543\t\t54.000\n",
      "student 91\t\t55.804\t\t62.000\n",
      "Grid search for... Ridge regression\n",
      "Ridge(alpha=1.0, copy_X=True, fit_intercept=True, max_iter=None,\n",
      "   normalize=False, random_state=None, solver='auto', tol=0.001)\n",
      "Fitting 5 folds for each of 20 candidates, totalling 100 fits\n",
      "[CV] alpha=0.01, normalize=True, fit_intercept=True ..................\n"
     ]
    },
    {
     "name": "stderr",
     "output_type": "stream",
     "text": [
      "[Parallel(n_jobs=1)]: Done   1 out of   1 | elapsed:    0.7s remaining:    0.0s\n",
      "[Parallel(n_jobs=1)]: Done   2 out of   2 | elapsed:    0.7s remaining:    0.0s\n",
      "[Parallel(n_jobs=1)]: Done   3 out of   3 | elapsed:    0.7s remaining:    0.0s\n",
      "[Parallel(n_jobs=1)]: Done  20 out of  20 | elapsed:    0.7s finished\n",
      "C:\\Users\\Vu Anh Vinh\\Miniconda3\\envs\\thkstat\\lib\\site-packages\\sklearn\\utils\\validation.py:395: DeprecationWarning: Passing 1d arrays as data is deprecated in 0.17 and will raise ValueError in 0.19. Reshape your data either using X.reshape(-1, 1) if your data has a single feature or X.reshape(1, -1) if it contains a single sample.\n",
      "  DeprecationWarning)\n",
      "C:\\Users\\Vu Anh Vinh\\Miniconda3\\envs\\thkstat\\lib\\site-packages\\sklearn\\utils\\validation.py:395: DeprecationWarning: Passing 1d arrays as data is deprecated in 0.17 and will raise ValueError in 0.19. Reshape your data either using X.reshape(-1, 1) if your data has a single feature or X.reshape(1, -1) if it contains a single sample.\n",
      "  DeprecationWarning)\n",
      "C:\\Users\\Vu Anh Vinh\\Miniconda3\\envs\\thkstat\\lib\\site-packages\\sklearn\\utils\\validation.py:395: DeprecationWarning: Passing 1d arrays as data is deprecated in 0.17 and will raise ValueError in 0.19. Reshape your data either using X.reshape(-1, 1) if your data has a single feature or X.reshape(1, -1) if it contains a single sample.\n",
      "  DeprecationWarning)\n",
      "C:\\Users\\Vu Anh Vinh\\Miniconda3\\envs\\thkstat\\lib\\site-packages\\sklearn\\utils\\validation.py:395: DeprecationWarning: Passing 1d arrays as data is deprecated in 0.17 and will raise ValueError in 0.19. Reshape your data either using X.reshape(-1, 1) if your data has a single feature or X.reshape(1, -1) if it contains a single sample.\n",
      "  DeprecationWarning)\n",
      "C:\\Users\\Vu Anh Vinh\\Miniconda3\\envs\\thkstat\\lib\\site-packages\\sklearn\\utils\\validation.py:395: DeprecationWarning: Passing 1d arrays as data is deprecated in 0.17 and will raise ValueError in 0.19. Reshape your data either using X.reshape(-1, 1) if your data has a single feature or X.reshape(1, -1) if it contains a single sample.\n",
      "  DeprecationWarning)\n",
      "C:\\Users\\Vu Anh Vinh\\Miniconda3\\envs\\thkstat\\lib\\site-packages\\sklearn\\utils\\validation.py:395: DeprecationWarning: Passing 1d arrays as data is deprecated in 0.17 and will raise ValueError in 0.19. Reshape your data either using X.reshape(-1, 1) if your data has a single feature or X.reshape(1, -1) if it contains a single sample.\n",
      "  DeprecationWarning)\n",
      "C:\\Users\\Vu Anh Vinh\\Miniconda3\\envs\\thkstat\\lib\\site-packages\\sklearn\\utils\\validation.py:395: DeprecationWarning: Passing 1d arrays as data is deprecated in 0.17 and will raise ValueError in 0.19. Reshape your data either using X.reshape(-1, 1) if your data has a single feature or X.reshape(1, -1) if it contains a single sample.\n",
      "  DeprecationWarning)\n",
      "C:\\Users\\Vu Anh Vinh\\Miniconda3\\envs\\thkstat\\lib\\site-packages\\sklearn\\utils\\validation.py:395: DeprecationWarning: Passing 1d arrays as data is deprecated in 0.17 and will raise ValueError in 0.19. Reshape your data either using X.reshape(-1, 1) if your data has a single feature or X.reshape(1, -1) if it contains a single sample.\n",
      "  DeprecationWarning)\n",
      "C:\\Users\\Vu Anh Vinh\\Miniconda3\\envs\\thkstat\\lib\\site-packages\\sklearn\\utils\\validation.py:395: DeprecationWarning: Passing 1d arrays as data is deprecated in 0.17 and will raise ValueError in 0.19. Reshape your data either using X.reshape(-1, 1) if your data has a single feature or X.reshape(1, -1) if it contains a single sample.\n",
      "  DeprecationWarning)\n",
      "C:\\Users\\Vu Anh Vinh\\Miniconda3\\envs\\thkstat\\lib\\site-packages\\sklearn\\utils\\validation.py:395: DeprecationWarning: Passing 1d arrays as data is deprecated in 0.17 and will raise ValueError in 0.19. Reshape your data either using X.reshape(-1, 1) if your data has a single feature or X.reshape(1, -1) if it contains a single sample.\n",
      "  DeprecationWarning)\n",
      "C:\\Users\\Vu Anh Vinh\\Miniconda3\\envs\\thkstat\\lib\\site-packages\\sklearn\\utils\\validation.py:395: DeprecationWarning: Passing 1d arrays as data is deprecated in 0.17 and will raise ValueError in 0.19. Reshape your data either using X.reshape(-1, 1) if your data has a single feature or X.reshape(1, -1) if it contains a single sample.\n",
      "  DeprecationWarning)\n",
      "C:\\Users\\Vu Anh Vinh\\Miniconda3\\envs\\thkstat\\lib\\site-packages\\sklearn\\utils\\validation.py:395: DeprecationWarning: Passing 1d arrays as data is deprecated in 0.17 and will raise ValueError in 0.19. Reshape your data either using X.reshape(-1, 1) if your data has a single feature or X.reshape(1, -1) if it contains a single sample.\n",
      "  DeprecationWarning)\n",
      "C:\\Users\\Vu Anh Vinh\\Miniconda3\\envs\\thkstat\\lib\\site-packages\\sklearn\\utils\\validation.py:395: DeprecationWarning: Passing 1d arrays as data is deprecated in 0.17 and will raise ValueError in 0.19. Reshape your data either using X.reshape(-1, 1) if your data has a single feature or X.reshape(1, -1) if it contains a single sample.\n",
      "  DeprecationWarning)\n",
      "C:\\Users\\Vu Anh Vinh\\Miniconda3\\envs\\thkstat\\lib\\site-packages\\sklearn\\utils\\validation.py:395: DeprecationWarning: Passing 1d arrays as data is deprecated in 0.17 and will raise ValueError in 0.19. Reshape your data either using X.reshape(-1, 1) if your data has a single feature or X.reshape(1, -1) if it contains a single sample.\n",
      "  DeprecationWarning)\n",
      "C:\\Users\\Vu Anh Vinh\\Miniconda3\\envs\\thkstat\\lib\\site-packages\\sklearn\\utils\\validation.py:395: DeprecationWarning: Passing 1d arrays as data is deprecated in 0.17 and will raise ValueError in 0.19. Reshape your data either using X.reshape(-1, 1) if your data has a single feature or X.reshape(1, -1) if it contains a single sample.\n",
      "  DeprecationWarning)\n",
      "C:\\Users\\Vu Anh Vinh\\Miniconda3\\envs\\thkstat\\lib\\site-packages\\sklearn\\utils\\validation.py:395: DeprecationWarning: Passing 1d arrays as data is deprecated in 0.17 and will raise ValueError in 0.19. Reshape your data either using X.reshape(-1, 1) if your data has a single feature or X.reshape(1, -1) if it contains a single sample.\n",
      "  DeprecationWarning)\n",
      "C:\\Users\\Vu Anh Vinh\\Miniconda3\\envs\\thkstat\\lib\\site-packages\\sklearn\\utils\\validation.py:395: DeprecationWarning: Passing 1d arrays as data is deprecated in 0.17 and will raise ValueError in 0.19. Reshape your data either using X.reshape(-1, 1) if your data has a single feature or X.reshape(1, -1) if it contains a single sample.\n",
      "  DeprecationWarning)\n",
      "C:\\Users\\Vu Anh Vinh\\Miniconda3\\envs\\thkstat\\lib\\site-packages\\sklearn\\utils\\validation.py:395: DeprecationWarning: Passing 1d arrays as data is deprecated in 0.17 and will raise ValueError in 0.19. Reshape your data either using X.reshape(-1, 1) if your data has a single feature or X.reshape(1, -1) if it contains a single sample.\n",
      "  DeprecationWarning)\n",
      "C:\\Users\\Vu Anh Vinh\\Miniconda3\\envs\\thkstat\\lib\\site-packages\\sklearn\\utils\\validation.py:395: DeprecationWarning: Passing 1d arrays as data is deprecated in 0.17 and will raise ValueError in 0.19. Reshape your data either using X.reshape(-1, 1) if your data has a single feature or X.reshape(1, -1) if it contains a single sample.\n",
      "  DeprecationWarning)\n",
      "C:\\Users\\Vu Anh Vinh\\Miniconda3\\envs\\thkstat\\lib\\site-packages\\sklearn\\utils\\validation.py:395: DeprecationWarning: Passing 1d arrays as data is deprecated in 0.17 and will raise ValueError in 0.19. Reshape your data either using X.reshape(-1, 1) if your data has a single feature or X.reshape(1, -1) if it contains a single sample.\n",
      "  DeprecationWarning)\n",
      "C:\\Users\\Vu Anh Vinh\\Miniconda3\\envs\\thkstat\\lib\\site-packages\\sklearn\\utils\\validation.py:395: DeprecationWarning: Passing 1d arrays as data is deprecated in 0.17 and will raise ValueError in 0.19. Reshape your data either using X.reshape(-1, 1) if your data has a single feature or X.reshape(1, -1) if it contains a single sample.\n",
      "  DeprecationWarning)\n",
      "C:\\Users\\Vu Anh Vinh\\Miniconda3\\envs\\thkstat\\lib\\site-packages\\sklearn\\utils\\validation.py:395: DeprecationWarning: Passing 1d arrays as data is deprecated in 0.17 and will raise ValueError in 0.19. Reshape your data either using X.reshape(-1, 1) if your data has a single feature or X.reshape(1, -1) if it contains a single sample.\n",
      "  DeprecationWarning)\n",
      "C:\\Users\\Vu Anh Vinh\\Miniconda3\\envs\\thkstat\\lib\\site-packages\\sklearn\\utils\\validation.py:395: DeprecationWarning: Passing 1d arrays as data is deprecated in 0.17 and will raise ValueError in 0.19. Reshape your data either using X.reshape(-1, 1) if your data has a single feature or X.reshape(1, -1) if it contains a single sample.\n",
      "  DeprecationWarning)\n"
     ]
    },
    {
     "name": "stdout",
     "output_type": "stream",
     "text": [
      "[CV]  alpha=0.01, normalize=True, fit_intercept=True, score=0.584777, total=   0.1s\n",
      "[CV] alpha=0.01, normalize=True, fit_intercept=True ..................\n",
      "[CV]  alpha=0.01, normalize=True, fit_intercept=True, score=0.679399, total=   0.0s\n",
      "[CV] alpha=0.01, normalize=True, fit_intercept=True ..................\n",
      "[CV]  alpha=0.01, normalize=True, fit_intercept=True, score=0.656083, total=   0.0s\n",
      "[CV] alpha=0.01, normalize=True, fit_intercept=True ..................\n",
      "[CV]  alpha=0.01, normalize=True, fit_intercept=True, score=0.793300, total=   0.0s\n",
      "[CV] alpha=0.01, normalize=True, fit_intercept=True ..................\n",
      "[CV]  alpha=0.01, normalize=True, fit_intercept=True, score=-0.223600, total=   0.0s\n",
      "[CV] alpha=0.01, normalize=False, fit_intercept=True .................\n",
      "[CV]  alpha=0.01, normalize=False, fit_intercept=True, score=0.582806, total=   0.0s\n",
      "[CV] alpha=0.01, normalize=False, fit_intercept=True .................\n",
      "[CV]  alpha=0.01, normalize=False, fit_intercept=True, score=0.679652, total=   0.0s\n",
      "[CV] alpha=0.01, normalize=False, fit_intercept=True .................\n",
      "[CV]  alpha=0.01, normalize=False, fit_intercept=True, score=0.656701, total=   0.0s\n",
      "[CV] alpha=0.01, normalize=False, fit_intercept=True .................\n",
      "[CV]  alpha=0.01, normalize=False, fit_intercept=True, score=0.794265, total=   0.0s\n",
      "[CV] alpha=0.01, normalize=False, fit_intercept=True .................\n",
      "[CV]  alpha=0.01, normalize=False, fit_intercept=True, score=-0.231932, total=   0.0s\n",
      "[CV] alpha=0.01, normalize=True, fit_intercept=False .................\n",
      "[CV]  alpha=0.01, normalize=True, fit_intercept=False, score=0.403286, total=   0.0s\n",
      "[CV] alpha=0.01, normalize=True, fit_intercept=False .................\n",
      "[CV]  alpha=0.01, normalize=True, fit_intercept=False, score=0.665041, total=   0.0s\n",
      "[CV] alpha=0.01, normalize=True, fit_intercept=False .................\n",
      "[CV]  alpha=0.01, normalize=True, fit_intercept=False, score=0.601504, total=   0.0s\n",
      "[CV] alpha=0.01, normalize=True, fit_intercept=False .................\n",
      "[CV]  alpha=0.01, normalize=True, fit_intercept=False, score=0.790671, total=   0.0s\n",
      "[CV] alpha=0.01, normalize=True, fit_intercept=False .................\n",
      "[CV]  alpha=0.01, normalize=True, fit_intercept=False, score=-0.171983, total=   0.0s\n",
      "[CV] alpha=0.01, normalize=False, fit_intercept=False ................\n",
      "[CV]  alpha=0.01, normalize=False, fit_intercept=False, score=0.403286, total=   0.0s\n",
      "[CV] alpha=0.01, normalize=False, fit_intercept=False ................\n",
      "[CV]  alpha=0.01, normalize=False, fit_intercept=False, score=0.665041, total=   0.0s\n",
      "[CV] alpha=0.01, normalize=False, fit_intercept=False ................\n",
      "[CV]  alpha=0.01, normalize=False, fit_intercept=False, score=0.601504, total=   0.0s\n",
      "[CV] alpha=0.01, normalize=False, fit_intercept=False ................\n",
      "[CV]  alpha=0.01, normalize=False, fit_intercept=False, score=0.790671, total=   0.0s\n",
      "[CV] alpha=0.01, normalize=False, fit_intercept=False ................\n",
      "[CV]  alpha=0.01, normalize=False, fit_intercept=False, score=-0.171983, total=   0.0s\n",
      "[CV] alpha=0.1, normalize=True, fit_intercept=True ...................\n",
      "[CV]  alpha=0.1, normalize=True, fit_intercept=True, score=0.574572, total=   0.0s\n",
      "[CV] alpha=0.1, normalize=True, fit_intercept=True ...................\n",
      "[CV]  alpha=0.1, normalize=True, fit_intercept=True, score=0.685176, total=   0.0s\n",
      "[CV] alpha=0.1, normalize=True, fit_intercept=True ...................\n",
      "[CV]  alpha=0.1, normalize=True, fit_intercept=True, score=0.652414, total=   0.0s\n",
      "[CV] alpha=0.1, normalize=True, fit_intercept=True ...................\n",
      "[CV]  alpha=0.1, normalize=True, fit_intercept=True, score=0.799808, total=   0.0s\n",
      "[CV] alpha=0.1, normalize=True, fit_intercept=True ...................\n",
      "[CV]  alpha=0.1, normalize=True, fit_intercept=True, score=-0.161567, total=   0.0s\n",
      "[CV] alpha=0.1, normalize=False, fit_intercept=True ..................\n",
      "[CV]  alpha=0.1, normalize=False, fit_intercept=True, score=0.559022, total=   0.0s\n",
      "[CV] alpha=0.1, normalize=False, fit_intercept=True ..................\n",
      "[CV]  alpha=0.1, normalize=False, fit_intercept=True, score=0.688754, total=   0.0s\n",
      "[CV] alpha=0.1, normalize=False, fit_intercept=True ..................\n",
      "[CV]  alpha=0.1, normalize=False, fit_intercept=True, score=0.658142, total=   0.0s\n",
      "[CV] alpha=0.1, normalize=False, fit_intercept=True ..................\n",
      "[CV]  alpha=0.1, normalize=False, fit_intercept=True, score=0.807526, total=   0.0s\n",
      "[CV] alpha=0.1, normalize=False, fit_intercept=True ..................\n",
      "[CV]  alpha=0.1, normalize=False, fit_intercept=True, score=-0.234088, total=   0.0s\n",
      "[CV] alpha=0.1, normalize=True, fit_intercept=False ..................\n",
      "[CV]  alpha=0.1, normalize=True, fit_intercept=False, score=0.402033, total=   0.0s\n",
      "[CV] alpha=0.1, normalize=True, fit_intercept=False ..................\n",
      "[CV]  alpha=0.1, normalize=True, fit_intercept=False, score=0.661670, total=   0.0s\n",
      "[CV] alpha=0.1, normalize=True, fit_intercept=False ..................\n",
      "[CV]  alpha=0.1, normalize=True, fit_intercept=False, score=0.603092, total=   0.0s\n",
      "[CV] alpha=0.1, normalize=True, fit_intercept=False ..................\n",
      "[CV]  alpha=0.1, normalize=True, fit_intercept=False, score=0.788761, total=   0.0s\n",
      "[CV] alpha=0.1, normalize=True, fit_intercept=False ..................\n",
      "[CV]  alpha=0.1, normalize=True, fit_intercept=False, score=-0.146884, total=   0.0s\n",
      "[CV] alpha=0.1, normalize=False, fit_intercept=False .................\n",
      "[CV]  alpha=0.1, normalize=False, fit_intercept=False, score=0.402033, total=   0.0s\n",
      "[CV] alpha=0.1, normalize=False, fit_intercept=False .................\n",
      "[CV]  alpha=0.1, normalize=False, fit_intercept=False, score=0.661670, total=   0.0s\n",
      "[CV] alpha=0.1, normalize=False, fit_intercept=False .................\n",
      "[CV]  alpha=0.1, normalize=False, fit_intercept=False, score=0.603092, total=   0.0s\n",
      "[CV] alpha=0.1, normalize=False, fit_intercept=False .................\n",
      "[CV]  alpha=0.1, normalize=False, fit_intercept=False, score=0.788761, total=   0.0s\n",
      "[CV] alpha=0.1, normalize=False, fit_intercept=False .................\n",
      "[CV]  alpha=0.1, normalize=False, fit_intercept=False, score=-0.146884, total=   0.0s\n",
      "[CV] alpha=1.0, normalize=True, fit_intercept=True ...................\n",
      "[CV]  alpha=1.0, normalize=True, fit_intercept=True, score=0.441306, total=   0.0s\n",
      "[CV] alpha=1.0, normalize=True, fit_intercept=True ...................\n",
      "[CV]  alpha=1.0, normalize=True, fit_intercept=True, score=0.623175, total=   0.0s\n",
      "[CV] alpha=1.0, normalize=True, fit_intercept=True ...................\n",
      "[CV]  alpha=1.0, normalize=True, fit_intercept=True, score=0.592913, total=   0.0s\n",
      "[CV] alpha=1.0, normalize=True, fit_intercept=True ...................\n",
      "[CV]  alpha=1.0, normalize=True, fit_intercept=True, score=0.767352, total=   0.0s\n",
      "[CV] alpha=1.0, normalize=True, fit_intercept=True ...................\n",
      "[CV]  alpha=1.0, normalize=True, fit_intercept=True, score=0.149895, total=   0.0s\n",
      "[CV] alpha=1.0, normalize=False, fit_intercept=True ..................\n",
      "[CV]  alpha=1.0, normalize=False, fit_intercept=True, score=0.437560, total=   0.0s\n",
      "[CV] alpha=1.0, normalize=False, fit_intercept=True ..................\n",
      "[CV]  alpha=1.0, normalize=False, fit_intercept=True, score=0.674938, total=   0.0s\n",
      "[CV] alpha=1.0, normalize=False, fit_intercept=True ..................\n",
      "[CV]  alpha=1.0, normalize=False, fit_intercept=True, score=0.641726, total=   0.0s\n",
      "[CV] alpha=1.0, normalize=False, fit_intercept=True ..................\n",
      "[CV]  alpha=1.0, normalize=False, fit_intercept=True, score=0.813758, total=   0.0s\n",
      "[CV] alpha=1.0, normalize=False, fit_intercept=True ..................\n",
      "[CV]  alpha=1.0, normalize=False, fit_intercept=True, score=-0.140286, total=   0.0s\n",
      "[CV] alpha=1.0, normalize=True, fit_intercept=False ..................\n",
      "[CV]  alpha=1.0, normalize=True, fit_intercept=False, score=0.392054, total=   0.0s\n",
      "[CV] alpha=1.0, normalize=True, fit_intercept=False ..................\n",
      "[CV]  alpha=1.0, normalize=True, fit_intercept=False, score=0.644583, total=   0.0s\n",
      "[CV] alpha=1.0, normalize=True, fit_intercept=False ..................\n",
      "[CV]  alpha=1.0, normalize=True, fit_intercept=False, score=0.610358, total=   0.0s\n",
      "[CV] alpha=1.0, normalize=True, fit_intercept=False ..................\n",
      "[CV]  alpha=1.0, normalize=True, fit_intercept=False, score=0.783001, total=   0.0s\n",
      "[CV] alpha=1.0, normalize=True, fit_intercept=False ..................\n",
      "[CV]  alpha=1.0, normalize=True, fit_intercept=False, score=-0.027874, total=   0.0s\n",
      "[CV] alpha=1.0, normalize=False, fit_intercept=False .................\n",
      "[CV]  alpha=1.0, normalize=False, fit_intercept=False, score=0.392054, total=   0.0s\n",
      "[CV] alpha=1.0, normalize=False, fit_intercept=False .................\n",
      "[CV]  alpha=1.0, normalize=False, fit_intercept=False, score=0.644583, total=   0.0s\n",
      "[CV] alpha=1.0, normalize=False, fit_intercept=False .................\n",
      "[CV]  alpha=1.0, normalize=False, fit_intercept=False, score=0.610358, total=   0.0s\n",
      "[CV] alpha=1.0, normalize=False, fit_intercept=False .................\n",
      "[CV]  alpha=1.0, normalize=False, fit_intercept=False, score=0.783001, total=   0.0s\n",
      "[CV] alpha=1.0, normalize=False, fit_intercept=False .................\n"
     ]
    },
    {
     "name": "stderr",
     "output_type": "stream",
     "text": [
      "[Parallel(n_jobs=1)]: Done   1 out of   1 | elapsed:    0.1s remaining:    0.0s\n",
      "[Parallel(n_jobs=1)]: Done   2 out of   2 | elapsed:    0.1s remaining:    0.0s\n",
      "[Parallel(n_jobs=1)]: Done   3 out of   3 | elapsed:    0.1s remaining:    0.0s\n"
     ]
    },
    {
     "name": "stdout",
     "output_type": "stream",
     "text": [
      "[CV]  alpha=1.0, normalize=False, fit_intercept=False, score=-0.027874, total=   0.0s\n",
      "[CV] alpha=10, normalize=True, fit_intercept=True ....................\n",
      "[CV]  alpha=10, normalize=True, fit_intercept=True, score=-0.195373, total=   0.0s\n",
      "[CV] alpha=10, normalize=True, fit_intercept=True ....................\n",
      "[CV]  alpha=10, normalize=True, fit_intercept=True, score=0.187534, total=   0.0s\n",
      "[CV] alpha=10, normalize=True, fit_intercept=True ....................\n",
      "[CV]  alpha=10, normalize=True, fit_intercept=True, score=0.212414, total=   0.0s\n",
      "[CV] alpha=10, normalize=True, fit_intercept=True ....................\n",
      "[CV]  alpha=10, normalize=True, fit_intercept=True, score=0.289135, total=   0.0s\n",
      "[CV] alpha=10, normalize=True, fit_intercept=True ....................\n",
      "[CV]  alpha=10, normalize=True, fit_intercept=True, score=0.059695, total=   0.0s\n",
      "[CV] alpha=10, normalize=False, fit_intercept=True ...................\n",
      "[CV]  alpha=10, normalize=False, fit_intercept=True, score=0.042572, total=   0.0s\n",
      "[CV] alpha=10, normalize=False, fit_intercept=True ...................\n",
      "[CV]  alpha=10, normalize=False, fit_intercept=True, score=0.411443, total=   0.0s\n",
      "[CV] alpha=10, normalize=False, fit_intercept=True ...................\n",
      "[CV]  alpha=10, normalize=False, fit_intercept=True, score=0.414239, total=   0.0s\n",
      "[CV] alpha=10, normalize=False, fit_intercept=True ...................\n",
      "[CV]  alpha=10, normalize=False, fit_intercept=True, score=0.501521, total=   0.0s\n",
      "[CV] alpha=10, normalize=False, fit_intercept=True ...................\n",
      "[CV]  alpha=10, normalize=False, fit_intercept=True, score=0.243984, total=   0.0s\n",
      "[CV] alpha=10, normalize=True, fit_intercept=False ...................\n",
      "[CV]  alpha=10, normalize=True, fit_intercept=False, score=0.214226, total=   0.0s\n",
      "[CV] alpha=10, normalize=True, fit_intercept=False ...................\n",
      "[CV]  alpha=10, normalize=True, fit_intercept=False, score=0.526465, total=   0.0s\n",
      "[CV] alpha=10, normalize=True, fit_intercept=False ...................\n",
      "[CV]  alpha=10, normalize=True, fit_intercept=False, score=0.624570, total=   0.0s\n",
      "[CV] alpha=10, normalize=True, fit_intercept=False ...................\n",
      "[CV]  alpha=10, normalize=True, fit_intercept=False, score=0.776562, total=   0.0s\n",
      "[CV] alpha=10, normalize=True, fit_intercept=False ...................\n",
      "[CV]  alpha=10, normalize=True, fit_intercept=False, score=0.272322, total=   0.0s\n",
      "[CV] alpha=10, normalize=False, fit_intercept=False ..................\n",
      "[CV]  alpha=10, normalize=False, fit_intercept=False, score=0.214226, total=   0.0s\n",
      "[CV] alpha=10, normalize=False, fit_intercept=False ..................\n",
      "[CV]  alpha=10, normalize=False, fit_intercept=False, score=0.526465, total=   0.0s\n",
      "[CV] alpha=10, normalize=False, fit_intercept=False ..................\n",
      "[CV]  alpha=10, normalize=False, fit_intercept=False, score=0.624570, total=   0.0s\n",
      "[CV] alpha=10, normalize=False, fit_intercept=False ..................\n",
      "[CV]  alpha=10, normalize=False, fit_intercept=False, score=0.776562, total=   0.0s\n",
      "[CV] alpha=10, normalize=False, fit_intercept=False ..................\n",
      "[CV]  alpha=10, normalize=False, fit_intercept=False, score=0.272322, total=   0.0s\n",
      "[CV] alpha=100, normalize=True, fit_intercept=True ...................\n",
      "[CV]  alpha=100, normalize=True, fit_intercept=True, score=-0.576397, total=   0.0s\n",
      "[CV] alpha=100, normalize=True, fit_intercept=True ...................\n",
      "[CV]  alpha=100, normalize=True, fit_intercept=True, score=-0.089261, total=   0.0s\n",
      "[CV] alpha=100, normalize=True, fit_intercept=True ...................\n",
      "[CV]  alpha=100, normalize=True, fit_intercept=True, score=-0.041189, total=   0.0s\n",
      "[CV] alpha=100, normalize=True, fit_intercept=True ...................\n",
      "[CV]  alpha=100, normalize=True, fit_intercept=True, score=-0.035847, total=   0.0s\n",
      "[CV] alpha=100, normalize=True, fit_intercept=True ...................\n",
      "[CV]  alpha=100, normalize=True, fit_intercept=True, score=-0.342399, total=   0.0s\n",
      "[CV] alpha=100, normalize=False, fit_intercept=True ..................\n",
      "[CV]  alpha=100, normalize=False, fit_intercept=True, score=-0.495852, total=   0.0s\n",
      "[CV] alpha=100, normalize=False, fit_intercept=True ..................\n",
      "[CV]  alpha=100, normalize=False, fit_intercept=True, score=-0.017133, total=   0.0s\n",
      "[CV] alpha=100, normalize=False, fit_intercept=True ..................\n",
      "[CV]  alpha=100, normalize=False, fit_intercept=True, score=0.022125, total=   0.0s\n",
      "[CV] alpha=100, normalize=False, fit_intercept=True ..................\n",
      "[CV]  alpha=100, normalize=False, fit_intercept=True, score=0.027525, total=   0.0s\n",
      "[CV] alpha=100, normalize=False, fit_intercept=True ..................\n",
      "[CV]  alpha=100, normalize=False, fit_intercept=True, score=-0.220566, total=   0.0s\n",
      "[CV] alpha=100, normalize=True, fit_intercept=False ..................\n",
      "[CV]  alpha=100, normalize=True, fit_intercept=False, score=-2.474390, total=   0.0s\n",
      "[CV] alpha=100, normalize=True, fit_intercept=False ..................\n",
      "[CV]  alpha=100, normalize=True, fit_intercept=False, score=-1.475985, total=   0.0s\n",
      "[CV] alpha=100, normalize=True, fit_intercept=False ..................\n",
      "[CV]  alpha=100, normalize=True, fit_intercept=False, score=-0.061952, total=   0.0s\n",
      "[CV] alpha=100, normalize=True, fit_intercept=False ..................\n",
      "[CV]  alpha=100, normalize=True, fit_intercept=False, score=0.131257, total=   0.0s\n",
      "[CV] alpha=100, normalize=True, fit_intercept=False ..................\n",
      "[CV]  alpha=100, normalize=True, fit_intercept=False, score=-0.997166, total=   0.0s\n",
      "[CV] alpha=100, normalize=False, fit_intercept=False .................\n",
      "[CV]  alpha=100, normalize=False, fit_intercept=False, score=-2.474390, total=   0.0s\n",
      "[CV] alpha=100, normalize=False, fit_intercept=False .................\n",
      "[CV]  alpha=100, normalize=False, fit_intercept=False, score=-1.475985, total=   0.0s\n",
      "[CV] alpha=100, normalize=False, fit_intercept=False .................\n",
      "[CV]  alpha=100, normalize=False, fit_intercept=False, score=-0.061952, total=   0.0s\n",
      "[CV] alpha=100, normalize=False, fit_intercept=False .................\n",
      "[CV]  alpha=100, normalize=False, fit_intercept=False, score=0.131257, total=   0.0s\n",
      "[CV] alpha=100, normalize=False, fit_intercept=False .................\n",
      "[CV]  alpha=100, normalize=False, fit_intercept=False, score=-0.997166, total=   0.0s\n",
      "Best hyper parameters: {'alpha': 1.0, 'normalize': True, 'fit_intercept': True}\n",
      "Best score of this configuration: 0.514118862556\n",
      "max score: 0.756\n",
      "                  predicted value\ttrue value \n",
      "student  1\t\t52.736\t\t54.000\n",
      "student  4\t\t28.310\t\t28.000\n",
      "student  5\t\t53.534\t\t49.000\n",
      "student 14\t\t71.245\t\t74.000\n",
      "student 15\t\t63.545\t\t75.000\n",
      "student 30\t\t43.521\t\t36.000\n",
      "student 32\t\t57.435\t\t60.000\n",
      "student 38\t\t39.631\t\t36.000\n",
      "student 39\t\t35.646\t\t37.000\n",
      "student 52\t\t52.102\t\t56.000\n",
      "student 53\t\t50.019\t\t39.000\n",
      "student 54\t\t32.554\t\t32.000\n",
      "student 56\t\t55.241\t\t61.000\n",
      "student 57\t\t65.107\t\t77.000\n",
      "student 61\t\t51.423\t\t58.000\n",
      "student 64\t\t65.113\t\t75.000\n",
      "student 70\t\t61.303\t\t66.000\n",
      "student 72\t\t63.545\t\t45.000\n",
      "student 74\t\t52.713\t\t44.000\n",
      "student 77\t\t62.088\t\t71.000\n",
      "student 87\t\t68.922\t\t75.000\n",
      "student 89\t\t47.192\t\t54.000\n",
      "Grid search for... Lasso\n",
      "Lasso(alpha=1.0, copy_X=True, fit_intercept=True, max_iter=1000,\n",
      "   normalize=False, positive=False, precompute=False, random_state=None,\n",
      "   selection='cyclic', tol=0.0001, warm_start=False)\n",
      "Fitting 5 folds for each of 8 candidates, totalling 40 fits\n",
      "[CV] alpha=0.1, normalize=True .......................................\n",
      "[CV] ........ alpha=0.1, normalize=True, score=0.571304, total=   0.0s\n",
      "[CV] alpha=0.1, normalize=True .......................................\n",
      "[CV] ........ alpha=0.1, normalize=True, score=0.583932, total=   0.0s\n",
      "[CV] alpha=0.1, normalize=True .......................................\n",
      "[CV] ........ alpha=0.1, normalize=True, score=0.735807, total=   0.0s\n",
      "[CV] alpha=0.1, normalize=True .......................................\n",
      "[CV] ........ alpha=0.1, normalize=True, score=0.517261, total=   0.0s\n",
      "[CV] alpha=0.1, normalize=True .......................................\n",
      "[CV] ........ alpha=0.1, normalize=True, score=0.750176, total=   0.0s\n",
      "[CV] alpha=0.1, normalize=False ......................................\n",
      "[CV] ....... alpha=0.1, normalize=False, score=0.603661, total=   0.0s\n",
      "[CV] alpha=0.1, normalize=False ......................................\n",
      "[CV] ....... alpha=0.1, normalize=False, score=0.584066, total=   0.0s\n",
      "[CV] alpha=0.1, normalize=False ......................................\n",
      "[CV] ....... alpha=0.1, normalize=False, score=0.745680, total=   0.0s\n",
      "[CV] alpha=0.1, normalize=False ......................................\n",
      "[CV] ....... alpha=0.1, normalize=False, score=0.507552, total=   0.0s\n",
      "[CV] alpha=0.1, normalize=False ......................................\n",
      "[CV] ....... alpha=0.1, normalize=False, score=0.745302, total=   0.0s\n",
      "[CV] alpha=1.0, normalize=True .......................................\n",
      "[CV] ........ alpha=1.0, normalize=True, score=0.250607, total=   0.0s\n",
      "[CV] alpha=1.0, normalize=True .......................................\n",
      "[CV] ........ alpha=1.0, normalize=True, score=0.229299, total=   0.0s\n",
      "[CV] alpha=1.0, normalize=True .......................................\n",
      "[CV] ........ alpha=1.0, normalize=True, score=0.365232, total=   0.0s\n",
      "[CV] alpha=1.0, normalize=True .......................................\n",
      "[CV] ........ alpha=1.0, normalize=True, score=0.380500, total=   0.0s\n",
      "[CV] alpha=1.0, normalize=True .......................................\n",
      "[CV] ........ alpha=1.0, normalize=True, score=0.340130, total=   0.0s\n",
      "[CV] alpha=1.0, normalize=False ......................................\n",
      "[CV] ....... alpha=1.0, normalize=False, score=0.516737, total=   0.0s\n",
      "[CV] alpha=1.0, normalize=False ......................................\n"
     ]
    },
    {
     "name": "stderr",
     "output_type": "stream",
     "text": [
      "[Parallel(n_jobs=1)]: Done 100 out of 100 | elapsed:    0.4s finished\n",
      "C:\\Users\\Vu Anh Vinh\\Miniconda3\\envs\\thkstat\\lib\\site-packages\\sklearn\\utils\\validation.py:395: DeprecationWarning: Passing 1d arrays as data is deprecated in 0.17 and will raise ValueError in 0.19. Reshape your data either using X.reshape(-1, 1) if your data has a single feature or X.reshape(1, -1) if it contains a single sample.\n",
      "  DeprecationWarning)\n",
      "C:\\Users\\Vu Anh Vinh\\Miniconda3\\envs\\thkstat\\lib\\site-packages\\sklearn\\utils\\validation.py:395: DeprecationWarning: Passing 1d arrays as data is deprecated in 0.17 and will raise ValueError in 0.19. Reshape your data either using X.reshape(-1, 1) if your data has a single feature or X.reshape(1, -1) if it contains a single sample.\n",
      "  DeprecationWarning)\n",
      "C:\\Users\\Vu Anh Vinh\\Miniconda3\\envs\\thkstat\\lib\\site-packages\\sklearn\\utils\\validation.py:395: DeprecationWarning: Passing 1d arrays as data is deprecated in 0.17 and will raise ValueError in 0.19. Reshape your data either using X.reshape(-1, 1) if your data has a single feature or X.reshape(1, -1) if it contains a single sample.\n",
      "  DeprecationWarning)\n",
      "C:\\Users\\Vu Anh Vinh\\Miniconda3\\envs\\thkstat\\lib\\site-packages\\sklearn\\utils\\validation.py:395: DeprecationWarning: Passing 1d arrays as data is deprecated in 0.17 and will raise ValueError in 0.19. Reshape your data either using X.reshape(-1, 1) if your data has a single feature or X.reshape(1, -1) if it contains a single sample.\n",
      "  DeprecationWarning)\n",
      "C:\\Users\\Vu Anh Vinh\\Miniconda3\\envs\\thkstat\\lib\\site-packages\\sklearn\\utils\\validation.py:395: DeprecationWarning: Passing 1d arrays as data is deprecated in 0.17 and will raise ValueError in 0.19. Reshape your data either using X.reshape(-1, 1) if your data has a single feature or X.reshape(1, -1) if it contains a single sample.\n",
      "  DeprecationWarning)\n",
      "C:\\Users\\Vu Anh Vinh\\Miniconda3\\envs\\thkstat\\lib\\site-packages\\sklearn\\utils\\validation.py:395: DeprecationWarning: Passing 1d arrays as data is deprecated in 0.17 and will raise ValueError in 0.19. Reshape your data either using X.reshape(-1, 1) if your data has a single feature or X.reshape(1, -1) if it contains a single sample.\n",
      "  DeprecationWarning)\n",
      "C:\\Users\\Vu Anh Vinh\\Miniconda3\\envs\\thkstat\\lib\\site-packages\\sklearn\\utils\\validation.py:395: DeprecationWarning: Passing 1d arrays as data is deprecated in 0.17 and will raise ValueError in 0.19. Reshape your data either using X.reshape(-1, 1) if your data has a single feature or X.reshape(1, -1) if it contains a single sample.\n",
      "  DeprecationWarning)\n",
      "C:\\Users\\Vu Anh Vinh\\Miniconda3\\envs\\thkstat\\lib\\site-packages\\sklearn\\utils\\validation.py:395: DeprecationWarning: Passing 1d arrays as data is deprecated in 0.17 and will raise ValueError in 0.19. Reshape your data either using X.reshape(-1, 1) if your data has a single feature or X.reshape(1, -1) if it contains a single sample.\n",
      "  DeprecationWarning)\n",
      "C:\\Users\\Vu Anh Vinh\\Miniconda3\\envs\\thkstat\\lib\\site-packages\\sklearn\\utils\\validation.py:395: DeprecationWarning: Passing 1d arrays as data is deprecated in 0.17 and will raise ValueError in 0.19. Reshape your data either using X.reshape(-1, 1) if your data has a single feature or X.reshape(1, -1) if it contains a single sample.\n",
      "  DeprecationWarning)\n",
      "C:\\Users\\Vu Anh Vinh\\Miniconda3\\envs\\thkstat\\lib\\site-packages\\sklearn\\utils\\validation.py:395: DeprecationWarning: Passing 1d arrays as data is deprecated in 0.17 and will raise ValueError in 0.19. Reshape your data either using X.reshape(-1, 1) if your data has a single feature or X.reshape(1, -1) if it contains a single sample.\n",
      "  DeprecationWarning)\n",
      "C:\\Users\\Vu Anh Vinh\\Miniconda3\\envs\\thkstat\\lib\\site-packages\\sklearn\\utils\\validation.py:395: DeprecationWarning: Passing 1d arrays as data is deprecated in 0.17 and will raise ValueError in 0.19. Reshape your data either using X.reshape(-1, 1) if your data has a single feature or X.reshape(1, -1) if it contains a single sample.\n",
      "  DeprecationWarning)\n",
      "C:\\Users\\Vu Anh Vinh\\Miniconda3\\envs\\thkstat\\lib\\site-packages\\sklearn\\utils\\validation.py:395: DeprecationWarning: Passing 1d arrays as data is deprecated in 0.17 and will raise ValueError in 0.19. Reshape your data either using X.reshape(-1, 1) if your data has a single feature or X.reshape(1, -1) if it contains a single sample.\n",
      "  DeprecationWarning)\n",
      "C:\\Users\\Vu Anh Vinh\\Miniconda3\\envs\\thkstat\\lib\\site-packages\\sklearn\\utils\\validation.py:395: DeprecationWarning: Passing 1d arrays as data is deprecated in 0.17 and will raise ValueError in 0.19. Reshape your data either using X.reshape(-1, 1) if your data has a single feature or X.reshape(1, -1) if it contains a single sample.\n",
      "  DeprecationWarning)\n",
      "C:\\Users\\Vu Anh Vinh\\Miniconda3\\envs\\thkstat\\lib\\site-packages\\sklearn\\utils\\validation.py:395: DeprecationWarning: Passing 1d arrays as data is deprecated in 0.17 and will raise ValueError in 0.19. Reshape your data either using X.reshape(-1, 1) if your data has a single feature or X.reshape(1, -1) if it contains a single sample.\n",
      "  DeprecationWarning)\n",
      "C:\\Users\\Vu Anh Vinh\\Miniconda3\\envs\\thkstat\\lib\\site-packages\\sklearn\\utils\\validation.py:395: DeprecationWarning: Passing 1d arrays as data is deprecated in 0.17 and will raise ValueError in 0.19. Reshape your data either using X.reshape(-1, 1) if your data has a single feature or X.reshape(1, -1) if it contains a single sample.\n",
      "  DeprecationWarning)\n",
      "C:\\Users\\Vu Anh Vinh\\Miniconda3\\envs\\thkstat\\lib\\site-packages\\sklearn\\utils\\validation.py:395: DeprecationWarning: Passing 1d arrays as data is deprecated in 0.17 and will raise ValueError in 0.19. Reshape your data either using X.reshape(-1, 1) if your data has a single feature or X.reshape(1, -1) if it contains a single sample.\n",
      "  DeprecationWarning)\n",
      "C:\\Users\\Vu Anh Vinh\\Miniconda3\\envs\\thkstat\\lib\\site-packages\\sklearn\\utils\\validation.py:395: DeprecationWarning: Passing 1d arrays as data is deprecated in 0.17 and will raise ValueError in 0.19. Reshape your data either using X.reshape(-1, 1) if your data has a single feature or X.reshape(1, -1) if it contains a single sample.\n",
      "  DeprecationWarning)\n",
      "C:\\Users\\Vu Anh Vinh\\Miniconda3\\envs\\thkstat\\lib\\site-packages\\sklearn\\utils\\validation.py:395: DeprecationWarning: Passing 1d arrays as data is deprecated in 0.17 and will raise ValueError in 0.19. Reshape your data either using X.reshape(-1, 1) if your data has a single feature or X.reshape(1, -1) if it contains a single sample.\n",
      "  DeprecationWarning)\n",
      "C:\\Users\\Vu Anh Vinh\\Miniconda3\\envs\\thkstat\\lib\\site-packages\\sklearn\\utils\\validation.py:395: DeprecationWarning: Passing 1d arrays as data is deprecated in 0.17 and will raise ValueError in 0.19. Reshape your data either using X.reshape(-1, 1) if your data has a single feature or X.reshape(1, -1) if it contains a single sample.\n",
      "  DeprecationWarning)\n",
      "C:\\Users\\Vu Anh Vinh\\Miniconda3\\envs\\thkstat\\lib\\site-packages\\sklearn\\utils\\validation.py:395: DeprecationWarning: Passing 1d arrays as data is deprecated in 0.17 and will raise ValueError in 0.19. Reshape your data either using X.reshape(-1, 1) if your data has a single feature or X.reshape(1, -1) if it contains a single sample.\n",
      "  DeprecationWarning)\n",
      "C:\\Users\\Vu Anh Vinh\\Miniconda3\\envs\\thkstat\\lib\\site-packages\\sklearn\\utils\\validation.py:395: DeprecationWarning: Passing 1d arrays as data is deprecated in 0.17 and will raise ValueError in 0.19. Reshape your data either using X.reshape(-1, 1) if your data has a single feature or X.reshape(1, -1) if it contains a single sample.\n",
      "  DeprecationWarning)\n",
      "C:\\Users\\Vu Anh Vinh\\Miniconda3\\envs\\thkstat\\lib\\site-packages\\sklearn\\utils\\validation.py:395: DeprecationWarning: Passing 1d arrays as data is deprecated in 0.17 and will raise ValueError in 0.19. Reshape your data either using X.reshape(-1, 1) if your data has a single feature or X.reshape(1, -1) if it contains a single sample.\n",
      "  DeprecationWarning)\n",
      "[Parallel(n_jobs=1)]: Done   1 out of   1 | elapsed:    0.0s remaining:    0.0s\n",
      "[Parallel(n_jobs=1)]: Done   2 out of   2 | elapsed:    0.0s remaining:    0.0s\n",
      "[Parallel(n_jobs=1)]: Done   3 out of   3 | elapsed:    0.0s remaining:    0.0s\n",
      "[Parallel(n_jobs=1)]: Done  40 out of  40 | elapsed:    0.0s finished\n",
      "C:\\Users\\Vu Anh Vinh\\Miniconda3\\envs\\thkstat\\lib\\site-packages\\sklearn\\utils\\validation.py:395: DeprecationWarning: Passing 1d arrays as data is deprecated in 0.17 and will raise ValueError in 0.19. Reshape your data either using X.reshape(-1, 1) if your data has a single feature or X.reshape(1, -1) if it contains a single sample.\n",
      "  DeprecationWarning)\n",
      "C:\\Users\\Vu Anh Vinh\\Miniconda3\\envs\\thkstat\\lib\\site-packages\\sklearn\\utils\\validation.py:395: DeprecationWarning: Passing 1d arrays as data is deprecated in 0.17 and will raise ValueError in 0.19. Reshape your data either using X.reshape(-1, 1) if your data has a single feature or X.reshape(1, -1) if it contains a single sample.\n",
      "  DeprecationWarning)\n",
      "C:\\Users\\Vu Anh Vinh\\Miniconda3\\envs\\thkstat\\lib\\site-packages\\sklearn\\utils\\validation.py:395: DeprecationWarning: Passing 1d arrays as data is deprecated in 0.17 and will raise ValueError in 0.19. Reshape your data either using X.reshape(-1, 1) if your data has a single feature or X.reshape(1, -1) if it contains a single sample.\n",
      "  DeprecationWarning)\n",
      "C:\\Users\\Vu Anh Vinh\\Miniconda3\\envs\\thkstat\\lib\\site-packages\\sklearn\\utils\\validation.py:395: DeprecationWarning: Passing 1d arrays as data is deprecated in 0.17 and will raise ValueError in 0.19. Reshape your data either using X.reshape(-1, 1) if your data has a single feature or X.reshape(1, -1) if it contains a single sample.\n",
      "  DeprecationWarning)\n",
      "C:\\Users\\Vu Anh Vinh\\Miniconda3\\envs\\thkstat\\lib\\site-packages\\sklearn\\utils\\validation.py:395: DeprecationWarning: Passing 1d arrays as data is deprecated in 0.17 and will raise ValueError in 0.19. Reshape your data either using X.reshape(-1, 1) if your data has a single feature or X.reshape(1, -1) if it contains a single sample.\n",
      "  DeprecationWarning)\n",
      "C:\\Users\\Vu Anh Vinh\\Miniconda3\\envs\\thkstat\\lib\\site-packages\\sklearn\\utils\\validation.py:395: DeprecationWarning: Passing 1d arrays as data is deprecated in 0.17 and will raise ValueError in 0.19. Reshape your data either using X.reshape(-1, 1) if your data has a single feature or X.reshape(1, -1) if it contains a single sample.\n",
      "  DeprecationWarning)\n",
      "C:\\Users\\Vu Anh Vinh\\Miniconda3\\envs\\thkstat\\lib\\site-packages\\sklearn\\utils\\validation.py:395: DeprecationWarning: Passing 1d arrays as data is deprecated in 0.17 and will raise ValueError in 0.19. Reshape your data either using X.reshape(-1, 1) if your data has a single feature or X.reshape(1, -1) if it contains a single sample.\n",
      "  DeprecationWarning)\n",
      "C:\\Users\\Vu Anh Vinh\\Miniconda3\\envs\\thkstat\\lib\\site-packages\\sklearn\\utils\\validation.py:395: DeprecationWarning: Passing 1d arrays as data is deprecated in 0.17 and will raise ValueError in 0.19. Reshape your data either using X.reshape(-1, 1) if your data has a single feature or X.reshape(1, -1) if it contains a single sample.\n",
      "  DeprecationWarning)\n",
      "C:\\Users\\Vu Anh Vinh\\Miniconda3\\envs\\thkstat\\lib\\site-packages\\sklearn\\utils\\validation.py:395: DeprecationWarning: Passing 1d arrays as data is deprecated in 0.17 and will raise ValueError in 0.19. Reshape your data either using X.reshape(-1, 1) if your data has a single feature or X.reshape(1, -1) if it contains a single sample.\n",
      "  DeprecationWarning)\n",
      "C:\\Users\\Vu Anh Vinh\\Miniconda3\\envs\\thkstat\\lib\\site-packages\\sklearn\\utils\\validation.py:395: DeprecationWarning: Passing 1d arrays as data is deprecated in 0.17 and will raise ValueError in 0.19. Reshape your data either using X.reshape(-1, 1) if your data has a single feature or X.reshape(1, -1) if it contains a single sample.\n",
      "  DeprecationWarning)\n",
      "C:\\Users\\Vu Anh Vinh\\Miniconda3\\envs\\thkstat\\lib\\site-packages\\sklearn\\utils\\validation.py:395: DeprecationWarning: Passing 1d arrays as data is deprecated in 0.17 and will raise ValueError in 0.19. Reshape your data either using X.reshape(-1, 1) if your data has a single feature or X.reshape(1, -1) if it contains a single sample.\n",
      "  DeprecationWarning)\n",
      "C:\\Users\\Vu Anh Vinh\\Miniconda3\\envs\\thkstat\\lib\\site-packages\\sklearn\\utils\\validation.py:395: DeprecationWarning: Passing 1d arrays as data is deprecated in 0.17 and will raise ValueError in 0.19. Reshape your data either using X.reshape(-1, 1) if your data has a single feature or X.reshape(1, -1) if it contains a single sample.\n",
      "  DeprecationWarning)\n",
      "C:\\Users\\Vu Anh Vinh\\Miniconda3\\envs\\thkstat\\lib\\site-packages\\sklearn\\utils\\validation.py:395: DeprecationWarning: Passing 1d arrays as data is deprecated in 0.17 and will raise ValueError in 0.19. Reshape your data either using X.reshape(-1, 1) if your data has a single feature or X.reshape(1, -1) if it contains a single sample.\n",
      "  DeprecationWarning)\n",
      "C:\\Users\\Vu Anh Vinh\\Miniconda3\\envs\\thkstat\\lib\\site-packages\\sklearn\\utils\\validation.py:395: DeprecationWarning: Passing 1d arrays as data is deprecated in 0.17 and will raise ValueError in 0.19. Reshape your data either using X.reshape(-1, 1) if your data has a single feature or X.reshape(1, -1) if it contains a single sample.\n",
      "  DeprecationWarning)\n",
      "C:\\Users\\Vu Anh Vinh\\Miniconda3\\envs\\thkstat\\lib\\site-packages\\sklearn\\utils\\validation.py:395: DeprecationWarning: Passing 1d arrays as data is deprecated in 0.17 and will raise ValueError in 0.19. Reshape your data either using X.reshape(-1, 1) if your data has a single feature or X.reshape(1, -1) if it contains a single sample.\n",
      "  DeprecationWarning)\n",
      "C:\\Users\\Vu Anh Vinh\\Miniconda3\\envs\\thkstat\\lib\\site-packages\\sklearn\\utils\\validation.py:395: DeprecationWarning: Passing 1d arrays as data is deprecated in 0.17 and will raise ValueError in 0.19. Reshape your data either using X.reshape(-1, 1) if your data has a single feature or X.reshape(1, -1) if it contains a single sample.\n",
      "  DeprecationWarning)\n",
      "C:\\Users\\Vu Anh Vinh\\Miniconda3\\envs\\thkstat\\lib\\site-packages\\sklearn\\utils\\validation.py:395: DeprecationWarning: Passing 1d arrays as data is deprecated in 0.17 and will raise ValueError in 0.19. Reshape your data either using X.reshape(-1, 1) if your data has a single feature or X.reshape(1, -1) if it contains a single sample.\n",
      "  DeprecationWarning)\n",
      "C:\\Users\\Vu Anh Vinh\\Miniconda3\\envs\\thkstat\\lib\\site-packages\\sklearn\\utils\\validation.py:395: DeprecationWarning: Passing 1d arrays as data is deprecated in 0.17 and will raise ValueError in 0.19. Reshape your data either using X.reshape(-1, 1) if your data has a single feature or X.reshape(1, -1) if it contains a single sample.\n",
      "  DeprecationWarning)\n",
      "C:\\Users\\Vu Anh Vinh\\Miniconda3\\envs\\thkstat\\lib\\site-packages\\sklearn\\utils\\validation.py:395: DeprecationWarning: Passing 1d arrays as data is deprecated in 0.17 and will raise ValueError in 0.19. Reshape your data either using X.reshape(-1, 1) if your data has a single feature or X.reshape(1, -1) if it contains a single sample.\n",
      "  DeprecationWarning)\n",
      "C:\\Users\\Vu Anh Vinh\\Miniconda3\\envs\\thkstat\\lib\\site-packages\\sklearn\\utils\\validation.py:395: DeprecationWarning: Passing 1d arrays as data is deprecated in 0.17 and will raise ValueError in 0.19. Reshape your data either using X.reshape(-1, 1) if your data has a single feature or X.reshape(1, -1) if it contains a single sample.\n",
      "  DeprecationWarning)\n",
      "C:\\Users\\Vu Anh Vinh\\Miniconda3\\envs\\thkstat\\lib\\site-packages\\sklearn\\utils\\validation.py:395: DeprecationWarning: Passing 1d arrays as data is deprecated in 0.17 and will raise ValueError in 0.19. Reshape your data either using X.reshape(-1, 1) if your data has a single feature or X.reshape(1, -1) if it contains a single sample.\n",
      "  DeprecationWarning)\n",
      "C:\\Users\\Vu Anh Vinh\\Miniconda3\\envs\\thkstat\\lib\\site-packages\\sklearn\\utils\\validation.py:395: DeprecationWarning: Passing 1d arrays as data is deprecated in 0.17 and will raise ValueError in 0.19. Reshape your data either using X.reshape(-1, 1) if your data has a single feature or X.reshape(1, -1) if it contains a single sample.\n",
      "  DeprecationWarning)\n",
      "C:\\Users\\Vu Anh Vinh\\Miniconda3\\envs\\thkstat\\lib\\site-packages\\sklearn\\utils\\validation.py:395: DeprecationWarning: Passing 1d arrays as data is deprecated in 0.17 and will raise ValueError in 0.19. Reshape your data either using X.reshape(-1, 1) if your data has a single feature or X.reshape(1, -1) if it contains a single sample.\n",
      "  DeprecationWarning)\n"
     ]
    },
    {
     "name": "stdout",
     "output_type": "stream",
     "text": [
      "[CV] ....... alpha=1.0, normalize=False, score=0.335677, total=   0.0s\n",
      "[CV] alpha=1.0, normalize=False ......................................\n",
      "[CV] ....... alpha=1.0, normalize=False, score=0.574449, total=   0.0s\n",
      "[CV] alpha=1.0, normalize=False ......................................\n",
      "[CV] ....... alpha=1.0, normalize=False, score=0.509050, total=   0.0s\n",
      "[CV] alpha=1.0, normalize=False ......................................\n",
      "[CV] ....... alpha=1.0, normalize=False, score=0.525780, total=   0.0s\n",
      "[CV] alpha=10, normalize=True ........................................\n",
      "[CV] ........ alpha=10, normalize=True, score=-0.170944, total=   0.0s\n",
      "[CV] alpha=10, normalize=True ........................................\n",
      "[CV] ........ alpha=10, normalize=True, score=-0.102133, total=   0.0s\n",
      "[CV] alpha=10, normalize=True ........................................\n",
      "[CV] ........ alpha=10, normalize=True, score=-0.071169, total=   0.0s\n",
      "[CV] alpha=10, normalize=True ........................................\n",
      "[CV] ........ alpha=10, normalize=True, score=-0.155515, total=   0.0s\n",
      "[CV] alpha=10, normalize=True ........................................\n",
      "[CV] ........ alpha=10, normalize=True, score=-0.024609, total=   0.0s\n",
      "[CV] alpha=10, normalize=False .......................................\n",
      "[CV] ....... alpha=10, normalize=False, score=-0.170944, total=   0.0s\n",
      "[CV] alpha=10, normalize=False .......................................\n",
      "[CV] ....... alpha=10, normalize=False, score=-0.102133, total=   0.0s\n",
      "[CV] alpha=10, normalize=False .......................................\n",
      "[CV] ....... alpha=10, normalize=False, score=-0.071169, total=   0.0s\n",
      "[CV] alpha=10, normalize=False .......................................\n",
      "[CV] ....... alpha=10, normalize=False, score=-0.155515, total=   0.0s\n",
      "[CV] alpha=10, normalize=False .......................................\n",
      "[CV] ....... alpha=10, normalize=False, score=-0.024609, total=   0.0s\n",
      "[CV] alpha=100, normalize=True .......................................\n",
      "[CV] ....... alpha=100, normalize=True, score=-0.170944, total=   0.0s\n",
      "[CV] alpha=100, normalize=True .......................................\n",
      "[CV] ....... alpha=100, normalize=True, score=-0.102133, total=   0.0s\n",
      "[CV] alpha=100, normalize=True .......................................\n",
      "[CV] ....... alpha=100, normalize=True, score=-0.071169, total=   0.0s\n",
      "[CV] alpha=100, normalize=True .......................................\n",
      "[CV] ....... alpha=100, normalize=True, score=-0.155515, total=   0.0s\n",
      "[CV] alpha=100, normalize=True .......................................\n",
      "[CV] ....... alpha=100, normalize=True, score=-0.024609, total=   0.0s\n",
      "[CV] alpha=100, normalize=False ......................................\n",
      "[CV] ...... alpha=100, normalize=False, score=-0.170944, total=   0.0s\n",
      "[CV] alpha=100, normalize=False ......................................\n",
      "[CV] ...... alpha=100, normalize=False, score=-0.102133, total=   0.0s\n",
      "[CV] alpha=100, normalize=False ......................................\n",
      "[CV] ...... alpha=100, normalize=False, score=-0.071169, total=   0.0s\n",
      "[CV] alpha=100, normalize=False ......................................\n",
      "[CV] ...... alpha=100, normalize=False, score=-0.155515, total=   0.0s\n",
      "[CV] alpha=100, normalize=False ......................................\n",
      "[CV] ...... alpha=100, normalize=False, score=-0.024609, total=   0.0s\n",
      "Best hyper parameters: {'alpha': 0.1, 'normalize': False}\n",
      "Best score of this configuration: 0.636883202444\n",
      "max score: 0.792\n",
      "                  predicted value\ttrue value \n",
      "student  1\t\t54.813\t\t54.000\n",
      "student  4\t\t22.664\t\t28.000\n",
      "student  5\t\t52.981\t\t49.000\n",
      "student  7\t\t46.442\t\t44.000\n",
      "student  8\t\t71.971\t\t90.000\n",
      "student  9\t\t72.100\t\t87.000\n",
      "student 18\t\t15.003\t\t0.000\n",
      "student 21\t\t74.636\t\t81.000\n",
      "student 30\t\t41.655\t\t36.000\n",
      "student 43\t\t5.994\t\t9.000\n",
      "student 44\t\t36.868\t\t40.000\n",
      "student 47\t\t51.073\t\t37.000\n",
      "student 48\t\t70.305\t\t86.000\n",
      "student 58\t\t69.242\t\t84.000\n",
      "student 63\t\t62.894\t\t65.000\n",
      "student 65\t\t49.171\t\t52.000\n",
      "student 67\t\t58.314\t\t62.000\n",
      "student 72\t\t64.639\t\t45.000\n",
      "student 76\t\t57.205\t\t62.000\n",
      "student 77\t\t59.990\t\t71.000\n",
      "student 80\t\t39.526\t\t35.000\n",
      "student 87\t\t69.502\t\t75.000\n",
      "student 90\t\t54.380\t\t80.000\n",
      "Grid search for... Neural Network Regressor\n",
      "MLPRegressor(activation='relu', alpha=0.0001, batch_size='auto', beta_1=0.9,\n",
      "       beta_2=0.999, early_stopping=False, epsilon=1e-08,\n",
      "       hidden_layer_sizes=(100,), learning_rate='constant',\n",
      "       learning_rate_init=0.001, max_iter=200, momentum=0.9,\n",
      "       nesterovs_momentum=True, power_t=0.5, random_state=None,\n",
      "       shuffle=True, solver='adam', tol=0.0001, validation_fraction=0.1,\n",
      "       verbose=False, warm_start=False)\n",
      "Fitting 5 folds for each of 72 candidates, totalling 360 fits\n",
      "[CV] activation=identity, alpha=0.001, solver=lbfgs ..................\n",
      "[CV]  activation=identity, alpha=0.001, solver=lbfgs, score=0.532786, total=   0.0s\n",
      "[CV] activation=identity, alpha=0.001, solver=lbfgs ..................\n"
     ]
    },
    {
     "name": "stderr",
     "output_type": "stream",
     "text": [
      "[Parallel(n_jobs=1)]: Done   1 out of   1 | elapsed:    0.0s remaining:    0.0s\n",
      "[Parallel(n_jobs=1)]: Done   2 out of   2 | elapsed:    0.0s remaining:    0.0s\n",
      "[Parallel(n_jobs=1)]: Done   3 out of   3 | elapsed:    0.0s remaining:    0.0s\n",
      "C:\\Users\\Vu Anh Vinh\\Miniconda3\\envs\\thkstat\\lib\\site-packages\\sklearn\\neural_network\\multilayer_perceptron.py:563: ConvergenceWarning: Stochastic Optimizer: Maximum iterations reached and the optimization hasn't converged yet.\n",
      "  % (), ConvergenceWarning)\n"
     ]
    },
    {
     "name": "stdout",
     "output_type": "stream",
     "text": [
      "[CV]  activation=identity, alpha=0.001, solver=lbfgs, score=0.638554, total=   0.0s\n",
      "[CV] activation=identity, alpha=0.001, solver=lbfgs ..................\n",
      "[CV]  activation=identity, alpha=0.001, solver=lbfgs, score=0.722985, total=   0.0s\n",
      "[CV] activation=identity, alpha=0.001, solver=lbfgs ..................\n",
      "[CV]  activation=identity, alpha=0.001, solver=lbfgs, score=0.499633, total=   0.0s\n",
      "[CV] activation=identity, alpha=0.001, solver=lbfgs ..................\n",
      "[CV]  activation=identity, alpha=0.001, solver=lbfgs, score=0.827672, total=   0.0s\n",
      "[CV] activation=identity, alpha=0.001, solver=sgd ....................\n",
      "[CV]  activation=identity, alpha=0.001, solver=sgd, score=-0.592459, total=   0.0s\n",
      "[CV] activation=identity, alpha=0.001, solver=sgd ....................\n",
      "[CV]  activation=identity, alpha=0.001, solver=sgd, score=0.037376, total=   0.0s\n",
      "[CV] activation=identity, alpha=0.001, solver=sgd ....................\n",
      "[CV]  activation=identity, alpha=0.001, solver=sgd, score=0.361312, total=   0.0s\n",
      "[CV] activation=identity, alpha=0.001, solver=sgd ....................\n",
      "[CV]  activation=identity, alpha=0.001, solver=sgd, score=0.100298, total=   0.0s\n",
      "[CV] activation=identity, alpha=0.001, solver=sgd ....................\n",
      "[CV]  activation=identity, alpha=0.001, solver=sgd, score=0.043635, total=   0.0s\n",
      "[CV] activation=identity, alpha=0.001, solver=adam ...................\n",
      "[CV]  activation=identity, alpha=0.001, solver=adam, score=-0.678444, total=   0.0s\n",
      "[CV] activation=identity, alpha=0.001, solver=adam ...................\n"
     ]
    },
    {
     "name": "stderr",
     "output_type": "stream",
     "text": [
      "C:\\Users\\Vu Anh Vinh\\Miniconda3\\envs\\thkstat\\lib\\site-packages\\sklearn\\neural_network\\multilayer_perceptron.py:563: ConvergenceWarning: Stochastic Optimizer: Maximum iterations reached and the optimization hasn't converged yet.\n",
      "  % (), ConvergenceWarning)\n",
      "C:\\Users\\Vu Anh Vinh\\Miniconda3\\envs\\thkstat\\lib\\site-packages\\sklearn\\neural_network\\multilayer_perceptron.py:563: ConvergenceWarning: Stochastic Optimizer: Maximum iterations reached and the optimization hasn't converged yet.\n",
      "  % (), ConvergenceWarning)\n",
      "C:\\Users\\Vu Anh Vinh\\Miniconda3\\envs\\thkstat\\lib\\site-packages\\sklearn\\neural_network\\multilayer_perceptron.py:563: ConvergenceWarning: Stochastic Optimizer: Maximum iterations reached and the optimization hasn't converged yet.\n",
      "  % (), ConvergenceWarning)\n"
     ]
    },
    {
     "name": "stdout",
     "output_type": "stream",
     "text": [
      "[CV]  activation=identity, alpha=0.001, solver=adam, score=-0.899763, total=   0.0s\n",
      "[CV] activation=identity, alpha=0.001, solver=adam ...................\n",
      "[CV]  activation=identity, alpha=0.001, solver=adam, score=-1.178824, total=   0.0s\n",
      "[CV] activation=identity, alpha=0.001, solver=adam ...................\n",
      "[CV]  activation=identity, alpha=0.001, solver=adam, score=-1.788942, total=   0.0s\n",
      "[CV] activation=identity, alpha=0.001, solver=adam ...................\n"
     ]
    },
    {
     "name": "stderr",
     "output_type": "stream",
     "text": [
      "C:\\Users\\Vu Anh Vinh\\Miniconda3\\envs\\thkstat\\lib\\site-packages\\sklearn\\neural_network\\multilayer_perceptron.py:563: ConvergenceWarning: Stochastic Optimizer: Maximum iterations reached and the optimization hasn't converged yet.\n",
      "  % (), ConvergenceWarning)\n"
     ]
    },
    {
     "name": "stdout",
     "output_type": "stream",
     "text": [
      "[CV]  activation=identity, alpha=0.001, solver=adam, score=-1.166346, total=   0.0s\n",
      "[CV] activation=identity, alpha=0.01, solver=lbfgs ...................\n",
      "[CV]  activation=identity, alpha=0.01, solver=lbfgs, score=0.532796, total=   0.0s\n",
      "[CV] activation=identity, alpha=0.01, solver=lbfgs ...................\n",
      "[CV]  activation=identity, alpha=0.01, solver=lbfgs, score=0.638504, total=   0.0s\n",
      "[CV] activation=identity, alpha=0.01, solver=lbfgs ...................\n",
      "[CV]  activation=identity, alpha=0.01, solver=lbfgs, score=0.722910, total=   0.0s\n",
      "[CV] activation=identity, alpha=0.01, solver=lbfgs ...................\n",
      "[CV]  activation=identity, alpha=0.01, solver=lbfgs, score=0.499797, total=   0.0s\n",
      "[CV] activation=identity, alpha=0.01, solver=lbfgs ...................\n",
      "[CV]  activation=identity, alpha=0.01, solver=lbfgs, score=0.827650, total=   0.0s\n",
      "[CV] activation=identity, alpha=0.01, solver=sgd .....................\n",
      "[CV]  activation=identity, alpha=0.01, solver=sgd, score=-0.551659, total=   0.0s\n",
      "[CV] activation=identity, alpha=0.01, solver=sgd .....................\n",
      "[CV]  activation=identity, alpha=0.01, solver=sgd, score=-0.142167, total=   0.0s\n",
      "[CV] activation=identity, alpha=0.01, solver=sgd .....................\n",
      "[CV]  activation=identity, alpha=0.01, solver=sgd, score=-0.043721, total=   0.0s\n",
      "[CV] activation=identity, alpha=0.01, solver=sgd .....................\n",
      "[CV]  activation=identity, alpha=0.01, solver=sgd, score=0.403909, total=   0.0s\n",
      "[CV] activation=identity, alpha=0.01, solver=sgd .....................\n",
      "[CV]  activation=identity, alpha=0.01, solver=sgd, score=0.270074, total=   0.0s\n",
      "[CV] activation=identity, alpha=0.01, solver=adam ....................\n",
      "[CV]  activation=identity, alpha=0.01, solver=adam, score=-0.466002, total=   0.0s\n",
      "[CV] activation=identity, alpha=0.01, solver=adam ....................\n",
      "[CV]  activation=identity, alpha=0.01, solver=adam, score=-0.713656, total=   0.0s\n",
      "[CV] activation=identity, alpha=0.01, solver=adam ....................\n"
     ]
    },
    {
     "name": "stderr",
     "output_type": "stream",
     "text": [
      "C:\\Users\\Vu Anh Vinh\\Miniconda3\\envs\\thkstat\\lib\\site-packages\\sklearn\\neural_network\\multilayer_perceptron.py:563: ConvergenceWarning: Stochastic Optimizer: Maximum iterations reached and the optimization hasn't converged yet.\n",
      "  % (), ConvergenceWarning)\n",
      "C:\\Users\\Vu Anh Vinh\\Miniconda3\\envs\\thkstat\\lib\\site-packages\\sklearn\\neural_network\\multilayer_perceptron.py:563: ConvergenceWarning: Stochastic Optimizer: Maximum iterations reached and the optimization hasn't converged yet.\n",
      "  % (), ConvergenceWarning)\n",
      "C:\\Users\\Vu Anh Vinh\\Miniconda3\\envs\\thkstat\\lib\\site-packages\\sklearn\\neural_network\\multilayer_perceptron.py:563: ConvergenceWarning: Stochastic Optimizer: Maximum iterations reached and the optimization hasn't converged yet.\n",
      "  % (), ConvergenceWarning)\n"
     ]
    },
    {
     "name": "stdout",
     "output_type": "stream",
     "text": [
      "[CV]  activation=identity, alpha=0.01, solver=adam, score=-1.143725, total=   0.0s\n",
      "[CV] activation=identity, alpha=0.01, solver=adam ....................\n",
      "[CV]  activation=identity, alpha=0.01, solver=adam, score=-1.910694, total=   0.0s\n",
      "[CV] activation=identity, alpha=0.01, solver=adam ....................\n",
      "[CV]  activation=identity, alpha=0.01, solver=adam, score=-0.751195, total=   0.0s\n",
      "[CV] activation=identity, alpha=0.1, solver=lbfgs ....................\n"
     ]
    },
    {
     "name": "stderr",
     "output_type": "stream",
     "text": [
      "C:\\Users\\Vu Anh Vinh\\Miniconda3\\envs\\thkstat\\lib\\site-packages\\sklearn\\neural_network\\multilayer_perceptron.py:563: ConvergenceWarning: Stochastic Optimizer: Maximum iterations reached and the optimization hasn't converged yet.\n",
      "  % (), ConvergenceWarning)\n",
      "C:\\Users\\Vu Anh Vinh\\Miniconda3\\envs\\thkstat\\lib\\site-packages\\sklearn\\neural_network\\multilayer_perceptron.py:563: ConvergenceWarning: Stochastic Optimizer: Maximum iterations reached and the optimization hasn't converged yet.\n",
      "  % (), ConvergenceWarning)\n"
     ]
    },
    {
     "name": "stdout",
     "output_type": "stream",
     "text": [
      "[CV]  activation=identity, alpha=0.1, solver=lbfgs, score=0.533036, total=   0.0s\n",
      "[CV] activation=identity, alpha=0.1, solver=lbfgs ....................\n",
      "[CV]  activation=identity, alpha=0.1, solver=lbfgs, score=0.638520, total=   0.0s\n",
      "[CV] activation=identity, alpha=0.1, solver=lbfgs ....................\n",
      "[CV]  activation=identity, alpha=0.1, solver=lbfgs, score=0.722887, total=   0.0s\n",
      "[CV] activation=identity, alpha=0.1, solver=lbfgs ....................\n",
      "[CV]  activation=identity, alpha=0.1, solver=lbfgs, score=0.501039, total=   0.0s\n",
      "[CV] activation=identity, alpha=0.1, solver=lbfgs ....................\n",
      "[CV]  activation=identity, alpha=0.1, solver=lbfgs, score=0.827551, total=   0.0s\n",
      "[CV] activation=identity, alpha=0.1, solver=sgd ......................\n",
      "[CV]  activation=identity, alpha=0.1, solver=sgd, score=-0.498544, total=   0.0s\n",
      "[CV] activation=identity, alpha=0.1, solver=sgd ......................\n",
      "[CV]  activation=identity, alpha=0.1, solver=sgd, score=-0.343542, total=   0.0s\n",
      "[CV] activation=identity, alpha=0.1, solver=sgd ......................\n",
      "[CV]  activation=identity, alpha=0.1, solver=sgd, score=0.363350, total=   0.0s\n",
      "[CV] activation=identity, alpha=0.1, solver=sgd ......................\n",
      "[CV]  activation=identity, alpha=0.1, solver=sgd, score=0.061470, total=   0.0s\n",
      "[CV] activation=identity, alpha=0.1, solver=sgd ......................\n",
      "[CV]  activation=identity, alpha=0.1, solver=sgd, score=0.404049, total=   0.0s\n",
      "[CV] activation=identity, alpha=0.1, solver=adam .....................\n"
     ]
    },
    {
     "name": "stderr",
     "output_type": "stream",
     "text": [
      "C:\\Users\\Vu Anh Vinh\\Miniconda3\\envs\\thkstat\\lib\\site-packages\\sklearn\\neural_network\\multilayer_perceptron.py:563: ConvergenceWarning: Stochastic Optimizer: Maximum iterations reached and the optimization hasn't converged yet.\n",
      "  % (), ConvergenceWarning)\n",
      "C:\\Users\\Vu Anh Vinh\\Miniconda3\\envs\\thkstat\\lib\\site-packages\\sklearn\\neural_network\\multilayer_perceptron.py:563: ConvergenceWarning: Stochastic Optimizer: Maximum iterations reached and the optimization hasn't converged yet.\n",
      "  % (), ConvergenceWarning)\n"
     ]
    },
    {
     "name": "stdout",
     "output_type": "stream",
     "text": [
      "[CV]  activation=identity, alpha=0.1, solver=adam, score=-0.453669, total=   0.0s\n",
      "[CV] activation=identity, alpha=0.1, solver=adam .....................\n",
      "[CV]  activation=identity, alpha=0.1, solver=adam, score=-0.748863, total=   0.0s\n",
      "[CV] activation=identity, alpha=0.1, solver=adam .....................\n"
     ]
    },
    {
     "name": "stderr",
     "output_type": "stream",
     "text": [
      "C:\\Users\\Vu Anh Vinh\\Miniconda3\\envs\\thkstat\\lib\\site-packages\\sklearn\\neural_network\\multilayer_perceptron.py:563: ConvergenceWarning: Stochastic Optimizer: Maximum iterations reached and the optimization hasn't converged yet.\n",
      "  % (), ConvergenceWarning)\n",
      "C:\\Users\\Vu Anh Vinh\\Miniconda3\\envs\\thkstat\\lib\\site-packages\\sklearn\\neural_network\\multilayer_perceptron.py:563: ConvergenceWarning: Stochastic Optimizer: Maximum iterations reached and the optimization hasn't converged yet.\n",
      "  % (), ConvergenceWarning)\n",
      "C:\\Users\\Vu Anh Vinh\\Miniconda3\\envs\\thkstat\\lib\\site-packages\\sklearn\\neural_network\\multilayer_perceptron.py:563: ConvergenceWarning: Stochastic Optimizer: Maximum iterations reached and the optimization hasn't converged yet.\n",
      "  % (), ConvergenceWarning)\n"
     ]
    },
    {
     "name": "stdout",
     "output_type": "stream",
     "text": [
      "[CV]  activation=identity, alpha=0.1, solver=adam, score=-1.118801, total=   0.0s\n",
      "[CV] activation=identity, alpha=0.1, solver=adam .....................\n",
      "[CV]  activation=identity, alpha=0.1, solver=adam, score=-1.837382, total=   0.0s\n",
      "[CV] activation=identity, alpha=0.1, solver=adam .....................\n",
      "[CV]  activation=identity, alpha=0.1, solver=adam, score=-0.794232, total=   0.0s\n",
      "[CV] activation=identity, alpha=1.0, solver=lbfgs ....................\n",
      "[CV]  activation=identity, alpha=1.0, solver=lbfgs, score=0.535001, total=   0.0s\n",
      "[CV] activation=identity, alpha=1.0, solver=lbfgs ....................\n",
      "[CV]  activation=identity, alpha=1.0, solver=lbfgs, score=0.637412, total=   0.0s\n",
      "[CV] activation=identity, alpha=1.0, solver=lbfgs ....................\n",
      "[CV]  activation=identity, alpha=1.0, solver=lbfgs, score=0.722433, total=   0.0s\n",
      "[CV] activation=identity, alpha=1.0, solver=lbfgs ....................\n",
      "[CV]  activation=identity, alpha=1.0, solver=lbfgs, score=0.512634, total=   0.0s\n",
      "[CV] activation=identity, alpha=1.0, solver=lbfgs ....................\n",
      "[CV]  activation=identity, alpha=1.0, solver=lbfgs, score=0.825972, total=   0.0s\n",
      "[CV] activation=identity, alpha=1.0, solver=sgd ......................\n",
      "[CV]  activation=identity, alpha=1.0, solver=sgd, score=-0.513673, total=   0.0s\n",
      "[CV] activation=identity, alpha=1.0, solver=sgd ......................\n",
      "[CV]  activation=identity, alpha=1.0, solver=sgd, score=-0.169282, total=   0.0s\n",
      "[CV] activation=identity, alpha=1.0, solver=sgd ......................\n",
      "[CV]  activation=identity, alpha=1.0, solver=sgd, score=0.127191, total=   0.0s\n",
      "[CV] activation=identity, alpha=1.0, solver=sgd ......................\n",
      "[CV]  activation=identity, alpha=1.0, solver=sgd, score=0.428242, total=   0.0s\n",
      "[CV] activation=identity, alpha=1.0, solver=sgd ......................\n",
      "[CV]  activation=identity, alpha=1.0, solver=sgd, score=0.317786, total=   0.0s\n",
      "[CV] activation=identity, alpha=1.0, solver=adam .....................\n",
      "[CV]  activation=identity, alpha=1.0, solver=adam, score=-0.577334, total=   0.0s\n",
      "[CV] activation=identity, alpha=1.0, solver=adam .....................\n"
     ]
    },
    {
     "name": "stderr",
     "output_type": "stream",
     "text": [
      "C:\\Users\\Vu Anh Vinh\\Miniconda3\\envs\\thkstat\\lib\\site-packages\\sklearn\\neural_network\\multilayer_perceptron.py:563: ConvergenceWarning: Stochastic Optimizer: Maximum iterations reached and the optimization hasn't converged yet.\n",
      "  % (), ConvergenceWarning)\n",
      "C:\\Users\\Vu Anh Vinh\\Miniconda3\\envs\\thkstat\\lib\\site-packages\\sklearn\\neural_network\\multilayer_perceptron.py:563: ConvergenceWarning: Stochastic Optimizer: Maximum iterations reached and the optimization hasn't converged yet.\n",
      "  % (), ConvergenceWarning)\n"
     ]
    },
    {
     "name": "stdout",
     "output_type": "stream",
     "text": [
      "[CV]  activation=identity, alpha=1.0, solver=adam, score=-0.760306, total=   0.0s\n",
      "[CV] activation=identity, alpha=1.0, solver=adam .....................\n",
      "[CV]  activation=identity, alpha=1.0, solver=adam, score=-1.097735, total=   0.0s\n",
      "[CV] activation=identity, alpha=1.0, solver=adam .....................\n"
     ]
    },
    {
     "name": "stderr",
     "output_type": "stream",
     "text": [
      "C:\\Users\\Vu Anh Vinh\\Miniconda3\\envs\\thkstat\\lib\\site-packages\\sklearn\\neural_network\\multilayer_perceptron.py:563: ConvergenceWarning: Stochastic Optimizer: Maximum iterations reached and the optimization hasn't converged yet.\n",
      "  % (), ConvergenceWarning)\n",
      "C:\\Users\\Vu Anh Vinh\\Miniconda3\\envs\\thkstat\\lib\\site-packages\\sklearn\\neural_network\\multilayer_perceptron.py:563: ConvergenceWarning: Stochastic Optimizer: Maximum iterations reached and the optimization hasn't converged yet.\n",
      "  % (), ConvergenceWarning)\n"
     ]
    },
    {
     "name": "stdout",
     "output_type": "stream",
     "text": [
      "[CV]  activation=identity, alpha=1.0, solver=adam, score=-1.864507, total=   0.1s\n",
      "[CV] activation=identity, alpha=1.0, solver=adam .....................\n",
      "[CV]  activation=identity, alpha=1.0, solver=adam, score=-0.893117, total=   0.0s\n",
      "[CV] activation=identity, alpha=10, solver=lbfgs .....................\n",
      "[CV]  activation=identity, alpha=10, solver=lbfgs, score=0.550749, total=   0.0s\n",
      "[CV] activation=identity, alpha=10, solver=lbfgs .....................\n",
      "[CV]  activation=identity, alpha=10, solver=lbfgs, score=0.628343, total=   0.0s\n",
      "[CV] activation=identity, alpha=10, solver=lbfgs .....................\n"
     ]
    },
    {
     "name": "stderr",
     "output_type": "stream",
     "text": [
      "C:\\Users\\Vu Anh Vinh\\Miniconda3\\envs\\thkstat\\lib\\site-packages\\sklearn\\neural_network\\multilayer_perceptron.py:563: ConvergenceWarning: Stochastic Optimizer: Maximum iterations reached and the optimization hasn't converged yet.\n",
      "  % (), ConvergenceWarning)\n"
     ]
    },
    {
     "name": "stdout",
     "output_type": "stream",
     "text": [
      "[CV]  activation=identity, alpha=10, solver=lbfgs, score=0.715450, total=   0.0s\n",
      "[CV] activation=identity, alpha=10, solver=lbfgs .....................\n",
      "[CV]  activation=identity, alpha=10, solver=lbfgs, score=0.582386, total=   0.0s\n",
      "[CV] activation=identity, alpha=10, solver=lbfgs .....................\n",
      "[CV]  activation=identity, alpha=10, solver=lbfgs, score=0.810778, total=   0.0s\n",
      "[CV] activation=identity, alpha=10, solver=sgd .......................\n",
      "[CV]  activation=identity, alpha=10, solver=sgd, score=-0.645267, total=   0.0s\n",
      "[CV] activation=identity, alpha=10, solver=sgd .......................\n",
      "[CV]  activation=identity, alpha=10, solver=sgd, score=-0.460036, total=   0.0s\n",
      "[CV] activation=identity, alpha=10, solver=sgd .......................\n",
      "[CV]  activation=identity, alpha=10, solver=sgd, score=-0.091613, total=   0.0s\n",
      "[CV] activation=identity, alpha=10, solver=sgd .......................\n",
      "[CV]  activation=identity, alpha=10, solver=sgd, score=0.239807, total=   0.0s\n",
      "[CV] activation=identity, alpha=10, solver=sgd .......................\n",
      "[CV]  activation=identity, alpha=10, solver=sgd, score=0.010544, total=   0.0s\n",
      "[CV] activation=identity, alpha=10, solver=adam ......................\n"
     ]
    },
    {
     "name": "stderr",
     "output_type": "stream",
     "text": [
      "C:\\Users\\Vu Anh Vinh\\Miniconda3\\envs\\thkstat\\lib\\site-packages\\sklearn\\neural_network\\multilayer_perceptron.py:563: ConvergenceWarning: Stochastic Optimizer: Maximum iterations reached and the optimization hasn't converged yet.\n",
      "  % (), ConvergenceWarning)\n",
      "C:\\Users\\Vu Anh Vinh\\Miniconda3\\envs\\thkstat\\lib\\site-packages\\sklearn\\neural_network\\multilayer_perceptron.py:563: ConvergenceWarning: Stochastic Optimizer: Maximum iterations reached and the optimization hasn't converged yet.\n",
      "  % (), ConvergenceWarning)\n",
      "C:\\Users\\Vu Anh Vinh\\Miniconda3\\envs\\thkstat\\lib\\site-packages\\sklearn\\neural_network\\multilayer_perceptron.py:563: ConvergenceWarning: Stochastic Optimizer: Maximum iterations reached and the optimization hasn't converged yet.\n",
      "  % (), ConvergenceWarning)\n"
     ]
    },
    {
     "name": "stdout",
     "output_type": "stream",
     "text": [
      "[CV]  activation=identity, alpha=10, solver=adam, score=-0.441352, total=   0.0s\n",
      "[CV] activation=identity, alpha=10, solver=adam ......................\n",
      "[CV]  activation=identity, alpha=10, solver=adam, score=-0.677923, total=   0.0s\n",
      "[CV] activation=identity, alpha=10, solver=adam ......................\n",
      "[CV]  activation=identity, alpha=10, solver=adam, score=-1.164255, total=   0.0s\n",
      "[CV] activation=identity, alpha=10, solver=adam ......................\n"
     ]
    },
    {
     "name": "stderr",
     "output_type": "stream",
     "text": [
      "C:\\Users\\Vu Anh Vinh\\Miniconda3\\envs\\thkstat\\lib\\site-packages\\sklearn\\neural_network\\multilayer_perceptron.py:563: ConvergenceWarning: Stochastic Optimizer: Maximum iterations reached and the optimization hasn't converged yet.\n",
      "  % (), ConvergenceWarning)\n",
      "C:\\Users\\Vu Anh Vinh\\Miniconda3\\envs\\thkstat\\lib\\site-packages\\sklearn\\neural_network\\multilayer_perceptron.py:563: ConvergenceWarning: Stochastic Optimizer: Maximum iterations reached and the optimization hasn't converged yet.\n",
      "  % (), ConvergenceWarning)\n"
     ]
    },
    {
     "name": "stdout",
     "output_type": "stream",
     "text": [
      "[CV]  activation=identity, alpha=10, solver=adam, score=-2.238942, total=   0.0s\n",
      "[CV] activation=identity, alpha=10, solver=adam ......................\n",
      "[CV]  activation=identity, alpha=10, solver=adam, score=-0.863561, total=   0.0s\n",
      "[CV] activation=identity, alpha=100, solver=lbfgs ....................\n",
      "[CV]  activation=identity, alpha=100, solver=lbfgs, score=0.566060, total=   0.0s\n",
      "[CV] activation=identity, alpha=100, solver=lbfgs ....................\n",
      "[CV]  activation=identity, alpha=100, solver=lbfgs, score=0.597638, total=   0.0s\n",
      "[CV] activation=identity, alpha=100, solver=lbfgs ....................\n",
      "[CV]  activation=identity, alpha=100, solver=lbfgs, score=0.616048, total=   0.0s\n",
      "[CV] activation=identity, alpha=100, solver=lbfgs ....................\n",
      "[CV]  activation=identity, alpha=100, solver=lbfgs, score=0.575180, total=   0.0s\n",
      "[CV] activation=identity, alpha=100, solver=lbfgs ....................\n",
      "[CV]  activation=identity, alpha=100, solver=lbfgs, score=0.666582, total=   0.0s\n",
      "[CV] activation=identity, alpha=100, solver=sgd ......................\n",
      "[CV]  activation=identity, alpha=100, solver=sgd, score=-0.517255, total=   0.0s\n",
      "[CV] activation=identity, alpha=100, solver=sgd ......................\n",
      "[CV]  activation=identity, alpha=100, solver=sgd, score=-0.603967, total=   0.0s\n",
      "[CV] activation=identity, alpha=100, solver=sgd ......................\n",
      "[CV]  activation=identity, alpha=100, solver=sgd, score=-0.067697, total=   0.0s\n",
      "[CV] activation=identity, alpha=100, solver=sgd ......................\n",
      "[CV]  activation=identity, alpha=100, solver=sgd, score=0.367697, total=   0.0s\n",
      "[CV] activation=identity, alpha=100, solver=sgd ......................\n",
      "[CV]  activation=identity, alpha=100, solver=sgd, score=0.121702, total=   0.0s\n",
      "[CV] activation=identity, alpha=100, solver=adam .....................\n",
      "[CV]  activation=identity, alpha=100, solver=adam, score=-0.470492, total=   0.0s\n",
      "[CV] activation=identity, alpha=100, solver=adam .....................\n"
     ]
    },
    {
     "name": "stderr",
     "output_type": "stream",
     "text": [
      "C:\\Users\\Vu Anh Vinh\\Miniconda3\\envs\\thkstat\\lib\\site-packages\\sklearn\\neural_network\\multilayer_perceptron.py:563: ConvergenceWarning: Stochastic Optimizer: Maximum iterations reached and the optimization hasn't converged yet.\n",
      "  % (), ConvergenceWarning)\n",
      "C:\\Users\\Vu Anh Vinh\\Miniconda3\\envs\\thkstat\\lib\\site-packages\\sklearn\\neural_network\\multilayer_perceptron.py:563: ConvergenceWarning: Stochastic Optimizer: Maximum iterations reached and the optimization hasn't converged yet.\n",
      "  % (), ConvergenceWarning)\n"
     ]
    },
    {
     "name": "stdout",
     "output_type": "stream",
     "text": [
      "[CV]  activation=identity, alpha=100, solver=adam, score=-0.964784, total=   0.1s\n",
      "[CV] activation=identity, alpha=100, solver=adam .....................\n",
      "[CV]  activation=identity, alpha=100, solver=adam, score=-1.484368, total=   0.0s\n",
      "[CV] activation=identity, alpha=100, solver=adam .....................\n"
     ]
    },
    {
     "name": "stderr",
     "output_type": "stream",
     "text": [
      "C:\\Users\\Vu Anh Vinh\\Miniconda3\\envs\\thkstat\\lib\\site-packages\\sklearn\\neural_network\\multilayer_perceptron.py:563: ConvergenceWarning: Stochastic Optimizer: Maximum iterations reached and the optimization hasn't converged yet.\n",
      "  % (), ConvergenceWarning)\n",
      "C:\\Users\\Vu Anh Vinh\\Miniconda3\\envs\\thkstat\\lib\\site-packages\\sklearn\\neural_network\\multilayer_perceptron.py:563: ConvergenceWarning: Stochastic Optimizer: Maximum iterations reached and the optimization hasn't converged yet.\n",
      "  % (), ConvergenceWarning)\n",
      "C:\\Users\\Vu Anh Vinh\\Miniconda3\\envs\\thkstat\\lib\\site-packages\\sklearn\\neural_network\\multilayer_perceptron.py:563: ConvergenceWarning: Stochastic Optimizer: Maximum iterations reached and the optimization hasn't converged yet.\n",
      "  % (), ConvergenceWarning)\n"
     ]
    },
    {
     "name": "stdout",
     "output_type": "stream",
     "text": [
      "[CV]  activation=identity, alpha=100, solver=adam, score=-1.848252, total=   0.0s\n",
      "[CV] activation=identity, alpha=100, solver=adam .....................\n",
      "[CV]  activation=identity, alpha=100, solver=adam, score=-1.149417, total=   0.0s\n",
      "[CV] activation=logistic, alpha=0.001, solver=lbfgs ..................\n",
      "[CV]  activation=logistic, alpha=0.001, solver=lbfgs, score=0.507723, total=   0.1s\n",
      "[CV] activation=logistic, alpha=0.001, solver=lbfgs ..................\n",
      "[CV]  activation=logistic, alpha=0.001, solver=lbfgs, score=0.298706, total=   0.0s\n",
      "[CV] activation=logistic, alpha=0.001, solver=lbfgs ..................\n",
      "[CV]  activation=logistic, alpha=0.001, solver=lbfgs, score=0.568184, total=   0.0s\n",
      "[CV] activation=logistic, alpha=0.001, solver=lbfgs ..................\n",
      "[CV]  activation=logistic, alpha=0.001, solver=lbfgs, score=0.235032, total=   0.0s\n",
      "[CV] activation=logistic, alpha=0.001, solver=lbfgs ..................\n",
      "[CV]  activation=logistic, alpha=0.001, solver=lbfgs, score=0.587424, total=   0.0s\n",
      "[CV] activation=logistic, alpha=0.001, solver=sgd ....................\n",
      "[CV]  activation=logistic, alpha=0.001, solver=sgd, score=-1.674967, total=   0.0s\n",
      "[CV] activation=logistic, alpha=0.001, solver=sgd ....................\n",
      "[CV]  activation=logistic, alpha=0.001, solver=sgd, score=-1.136350, total=   0.0s\n",
      "[CV] activation=logistic, alpha=0.001, solver=sgd ....................\n",
      "[CV]  activation=logistic, alpha=0.001, solver=sgd, score=-0.460309, total=   0.0s\n",
      "[CV] activation=logistic, alpha=0.001, solver=sgd ....................\n",
      "[CV]  activation=logistic, alpha=0.001, solver=sgd, score=-0.363854, total=   0.0s\n",
      "[CV] activation=logistic, alpha=0.001, solver=sgd ....................\n",
      "[CV]  activation=logistic, alpha=0.001, solver=sgd, score=-0.219723, total=   0.0s\n",
      "[CV] activation=logistic, alpha=0.001, solver=adam ...................\n"
     ]
    },
    {
     "name": "stderr",
     "output_type": "stream",
     "text": [
      "C:\\Users\\Vu Anh Vinh\\Miniconda3\\envs\\thkstat\\lib\\site-packages\\sklearn\\neural_network\\multilayer_perceptron.py:563: ConvergenceWarning: Stochastic Optimizer: Maximum iterations reached and the optimization hasn't converged yet.\n",
      "  % (), ConvergenceWarning)\n"
     ]
    },
    {
     "name": "stdout",
     "output_type": "stream",
     "text": [
      "[CV]  activation=logistic, alpha=0.001, solver=adam, score=-3.707239, total=   0.0s\n",
      "[CV] activation=logistic, alpha=0.001, solver=adam ...................\n"
     ]
    },
    {
     "name": "stderr",
     "output_type": "stream",
     "text": [
      "C:\\Users\\Vu Anh Vinh\\Miniconda3\\envs\\thkstat\\lib\\site-packages\\sklearn\\neural_network\\multilayer_perceptron.py:563: ConvergenceWarning: Stochastic Optimizer: Maximum iterations reached and the optimization hasn't converged yet.\n",
      "  % (), ConvergenceWarning)\n",
      "C:\\Users\\Vu Anh Vinh\\Miniconda3\\envs\\thkstat\\lib\\site-packages\\sklearn\\neural_network\\multilayer_perceptron.py:563: ConvergenceWarning: Stochastic Optimizer: Maximum iterations reached and the optimization hasn't converged yet.\n",
      "  % (), ConvergenceWarning)\n"
     ]
    },
    {
     "name": "stdout",
     "output_type": "stream",
     "text": [
      "[CV]  activation=logistic, alpha=0.001, solver=adam, score=-4.287698, total=   0.1s\n",
      "[CV] activation=logistic, alpha=0.001, solver=adam ...................\n",
      "[CV]  activation=logistic, alpha=0.001, solver=adam, score=-4.996717, total=   0.0s\n",
      "[CV] activation=logistic, alpha=0.001, solver=adam ...................\n"
     ]
    },
    {
     "name": "stderr",
     "output_type": "stream",
     "text": [
      "C:\\Users\\Vu Anh Vinh\\Miniconda3\\envs\\thkstat\\lib\\site-packages\\sklearn\\neural_network\\multilayer_perceptron.py:563: ConvergenceWarning: Stochastic Optimizer: Maximum iterations reached and the optimization hasn't converged yet.\n",
      "  % (), ConvergenceWarning)\n",
      "C:\\Users\\Vu Anh Vinh\\Miniconda3\\envs\\thkstat\\lib\\site-packages\\sklearn\\neural_network\\multilayer_perceptron.py:563: ConvergenceWarning: Stochastic Optimizer: Maximum iterations reached and the optimization hasn't converged yet.\n",
      "  % (), ConvergenceWarning)\n"
     ]
    },
    {
     "name": "stdout",
     "output_type": "stream",
     "text": [
      "[CV]  activation=logistic, alpha=0.001, solver=adam, score=-7.277157, total=   0.0s\n",
      "[CV] activation=logistic, alpha=0.001, solver=adam ...................\n",
      "[CV]  activation=logistic, alpha=0.001, solver=adam, score=-4.285356, total=   0.0s\n",
      "[CV] activation=logistic, alpha=0.01, solver=lbfgs ...................\n",
      "[CV]  activation=logistic, alpha=0.01, solver=lbfgs, score=0.390127, total=   0.0s\n",
      "[CV] activation=logistic, alpha=0.01, solver=lbfgs ...................\n",
      "[CV]  activation=logistic, alpha=0.01, solver=lbfgs, score=-0.292628, total=   0.0s\n",
      "[CV] activation=logistic, alpha=0.01, solver=lbfgs ...................\n",
      "[CV]  activation=logistic, alpha=0.01, solver=lbfgs, score=0.713029, total=   0.0s\n",
      "[CV] activation=logistic, alpha=0.01, solver=lbfgs ...................\n",
      "[CV]  activation=logistic, alpha=0.01, solver=lbfgs, score=0.211532, total=   0.0s\n",
      "[CV] activation=logistic, alpha=0.01, solver=lbfgs ...................\n",
      "[CV]  activation=logistic, alpha=0.01, solver=lbfgs, score=0.534437, total=   0.0s\n",
      "[CV] activation=logistic, alpha=0.01, solver=sgd .....................\n",
      "[CV]  activation=logistic, alpha=0.01, solver=sgd, score=-1.647684, total=   0.0s\n",
      "[CV] activation=logistic, alpha=0.01, solver=sgd .....................\n",
      "[CV]  activation=logistic, alpha=0.01, solver=sgd, score=-1.148500, total=   0.0s\n",
      "[CV] activation=logistic, alpha=0.01, solver=sgd .....................\n",
      "[CV]  activation=logistic, alpha=0.01, solver=sgd, score=-0.428210, total=   0.0s\n",
      "[CV] activation=logistic, alpha=0.01, solver=sgd .....................\n",
      "[CV]  activation=logistic, alpha=0.01, solver=sgd, score=-0.337187, total=   0.0s\n",
      "[CV] activation=logistic, alpha=0.01, solver=sgd .....................\n",
      "[CV]  activation=logistic, alpha=0.01, solver=sgd, score=-0.221937, total=   0.0s\n",
      "[CV] activation=logistic, alpha=0.01, solver=adam ....................\n"
     ]
    },
    {
     "name": "stderr",
     "output_type": "stream",
     "text": [
      "C:\\Users\\Vu Anh Vinh\\Miniconda3\\envs\\thkstat\\lib\\site-packages\\sklearn\\neural_network\\multilayer_perceptron.py:563: ConvergenceWarning: Stochastic Optimizer: Maximum iterations reached and the optimization hasn't converged yet.\n",
      "  % (), ConvergenceWarning)\n",
      "C:\\Users\\Vu Anh Vinh\\Miniconda3\\envs\\thkstat\\lib\\site-packages\\sklearn\\neural_network\\multilayer_perceptron.py:563: ConvergenceWarning: Stochastic Optimizer: Maximum iterations reached and the optimization hasn't converged yet.\n",
      "  % (), ConvergenceWarning)\n"
     ]
    },
    {
     "name": "stdout",
     "output_type": "stream",
     "text": [
      "[CV]  activation=logistic, alpha=0.01, solver=adam, score=-3.876350, total=   0.1s\n",
      "[CV] activation=logistic, alpha=0.01, solver=adam ....................\n",
      "[CV]  activation=logistic, alpha=0.01, solver=adam, score=-4.630978, total=   0.0s\n",
      "[CV] activation=logistic, alpha=0.01, solver=adam ....................\n"
     ]
    },
    {
     "name": "stderr",
     "output_type": "stream",
     "text": [
      "C:\\Users\\Vu Anh Vinh\\Miniconda3\\envs\\thkstat\\lib\\site-packages\\sklearn\\neural_network\\multilayer_perceptron.py:563: ConvergenceWarning: Stochastic Optimizer: Maximum iterations reached and the optimization hasn't converged yet.\n",
      "  % (), ConvergenceWarning)\n",
      "C:\\Users\\Vu Anh Vinh\\Miniconda3\\envs\\thkstat\\lib\\site-packages\\sklearn\\neural_network\\multilayer_perceptron.py:563: ConvergenceWarning: Stochastic Optimizer: Maximum iterations reached and the optimization hasn't converged yet.\n",
      "  % (), ConvergenceWarning)\n"
     ]
    },
    {
     "name": "stdout",
     "output_type": "stream",
     "text": [
      "[CV]  activation=logistic, alpha=0.01, solver=adam, score=-4.897217, total=   0.0s\n",
      "[CV] activation=logistic, alpha=0.01, solver=adam ....................\n",
      "[CV]  activation=logistic, alpha=0.01, solver=adam, score=-6.991764, total=   0.0s\n",
      "[CV] activation=logistic, alpha=0.01, solver=adam ....................\n"
     ]
    },
    {
     "name": "stderr",
     "output_type": "stream",
     "text": [
      "C:\\Users\\Vu Anh Vinh\\Miniconda3\\envs\\thkstat\\lib\\site-packages\\sklearn\\neural_network\\multilayer_perceptron.py:563: ConvergenceWarning: Stochastic Optimizer: Maximum iterations reached and the optimization hasn't converged yet.\n",
      "  % (), ConvergenceWarning)\n"
     ]
    },
    {
     "name": "stdout",
     "output_type": "stream",
     "text": [
      "[CV]  activation=logistic, alpha=0.01, solver=adam, score=-4.432799, total=   0.0s\n",
      "[CV] activation=logistic, alpha=0.1, solver=lbfgs ....................\n",
      "[CV]  activation=logistic, alpha=0.1, solver=lbfgs, score=0.474186, total=   0.0s\n",
      "[CV] activation=logistic, alpha=0.1, solver=lbfgs ....................\n",
      "[CV]  activation=logistic, alpha=0.1, solver=lbfgs, score=0.483011, total=   0.0s\n",
      "[CV] activation=logistic, alpha=0.1, solver=lbfgs ....................\n",
      "[CV]  activation=logistic, alpha=0.1, solver=lbfgs, score=0.802051, total=   0.0s\n",
      "[CV] activation=logistic, alpha=0.1, solver=lbfgs ....................\n",
      "[CV]  activation=logistic, alpha=0.1, solver=lbfgs, score=0.543429, total=   0.0s\n",
      "[CV] activation=logistic, alpha=0.1, solver=lbfgs ....................\n",
      "[CV]  activation=logistic, alpha=0.1, solver=lbfgs, score=0.608071, total=   0.1s\n",
      "[CV] activation=logistic, alpha=0.1, solver=sgd ......................\n",
      "[CV]  activation=logistic, alpha=0.1, solver=sgd, score=-1.661449, total=   0.0s\n",
      "[CV] activation=logistic, alpha=0.1, solver=sgd ......................\n",
      "[CV]  activation=logistic, alpha=0.1, solver=sgd, score=-1.128643, total=   0.0s\n",
      "[CV] activation=logistic, alpha=0.1, solver=sgd ......................\n",
      "[CV]  activation=logistic, alpha=0.1, solver=sgd, score=-0.429965, total=   0.0s\n",
      "[CV] activation=logistic, alpha=0.1, solver=sgd ......................\n",
      "[CV]  activation=logistic, alpha=0.1, solver=sgd, score=-0.351398, total=   0.0s\n",
      "[CV] activation=logistic, alpha=0.1, solver=sgd ......................\n",
      "[CV]  activation=logistic, alpha=0.1, solver=sgd, score=-0.225468, total=   0.0s\n",
      "[CV] activation=logistic, alpha=0.1, solver=adam .....................\n"
     ]
    },
    {
     "name": "stderr",
     "output_type": "stream",
     "text": [
      "C:\\Users\\Vu Anh Vinh\\Miniconda3\\envs\\thkstat\\lib\\site-packages\\sklearn\\neural_network\\multilayer_perceptron.py:563: ConvergenceWarning: Stochastic Optimizer: Maximum iterations reached and the optimization hasn't converged yet.\n",
      "  % (), ConvergenceWarning)\n",
      "C:\\Users\\Vu Anh Vinh\\Miniconda3\\envs\\thkstat\\lib\\site-packages\\sklearn\\neural_network\\multilayer_perceptron.py:563: ConvergenceWarning: Stochastic Optimizer: Maximum iterations reached and the optimization hasn't converged yet.\n",
      "  % (), ConvergenceWarning)\n"
     ]
    },
    {
     "name": "stdout",
     "output_type": "stream",
     "text": [
      "[CV]  activation=logistic, alpha=0.1, solver=adam, score=-3.677661, total=   0.1s\n",
      "[CV] activation=logistic, alpha=0.1, solver=adam .....................\n",
      "[CV]  activation=logistic, alpha=0.1, solver=adam, score=-4.672689, total=   0.0s\n",
      "[CV] activation=logistic, alpha=0.1, solver=adam .....................\n"
     ]
    },
    {
     "name": "stderr",
     "output_type": "stream",
     "text": [
      "C:\\Users\\Vu Anh Vinh\\Miniconda3\\envs\\thkstat\\lib\\site-packages\\sklearn\\neural_network\\multilayer_perceptron.py:563: ConvergenceWarning: Stochastic Optimizer: Maximum iterations reached and the optimization hasn't converged yet.\n",
      "  % (), ConvergenceWarning)\n",
      "C:\\Users\\Vu Anh Vinh\\Miniconda3\\envs\\thkstat\\lib\\site-packages\\sklearn\\neural_network\\multilayer_perceptron.py:563: ConvergenceWarning: Stochastic Optimizer: Maximum iterations reached and the optimization hasn't converged yet.\n",
      "  % (), ConvergenceWarning)\n"
     ]
    },
    {
     "name": "stdout",
     "output_type": "stream",
     "text": [
      "[CV]  activation=logistic, alpha=0.1, solver=adam, score=-4.678754, total=   0.0s\n",
      "[CV] activation=logistic, alpha=0.1, solver=adam .....................\n",
      "[CV]  activation=logistic, alpha=0.1, solver=adam, score=-7.304991, total=   0.0s\n",
      "[CV] activation=logistic, alpha=0.1, solver=adam .....................\n"
     ]
    },
    {
     "name": "stderr",
     "output_type": "stream",
     "text": [
      "C:\\Users\\Vu Anh Vinh\\Miniconda3\\envs\\thkstat\\lib\\site-packages\\sklearn\\neural_network\\multilayer_perceptron.py:563: ConvergenceWarning: Stochastic Optimizer: Maximum iterations reached and the optimization hasn't converged yet.\n",
      "  % (), ConvergenceWarning)\n"
     ]
    },
    {
     "name": "stdout",
     "output_type": "stream",
     "text": [
      "[CV]  activation=logistic, alpha=0.1, solver=adam, score=-4.405618, total=   0.0s\n",
      "[CV] activation=logistic, alpha=1.0, solver=lbfgs ....................\n",
      "[CV]  activation=logistic, alpha=1.0, solver=lbfgs, score=0.465771, total=   0.0s\n",
      "[CV] activation=logistic, alpha=1.0, solver=lbfgs ....................\n",
      "[CV]  activation=logistic, alpha=1.0, solver=lbfgs, score=0.625933, total=   0.0s\n",
      "[CV] activation=logistic, alpha=1.0, solver=lbfgs ....................\n",
      "[CV]  activation=logistic, alpha=1.0, solver=lbfgs, score=0.745345, total=   0.0s\n",
      "[CV] activation=logistic, alpha=1.0, solver=lbfgs ....................\n",
      "[CV]  activation=logistic, alpha=1.0, solver=lbfgs, score=0.483769, total=   0.0s\n",
      "[CV] activation=logistic, alpha=1.0, solver=lbfgs ....................\n",
      "[CV]  activation=logistic, alpha=1.0, solver=lbfgs, score=0.801472, total=   0.1s\n",
      "[CV] activation=logistic, alpha=1.0, solver=sgd ......................\n",
      "[CV]  activation=logistic, alpha=1.0, solver=sgd, score=-1.669645, total=   0.0s\n",
      "[CV] activation=logistic, alpha=1.0, solver=sgd ......................\n",
      "[CV]  activation=logistic, alpha=1.0, solver=sgd, score=-1.116603, total=   0.0s\n",
      "[CV] activation=logistic, alpha=1.0, solver=sgd ......................\n",
      "[CV]  activation=logistic, alpha=1.0, solver=sgd, score=-0.436209, total=   0.0s\n",
      "[CV] activation=logistic, alpha=1.0, solver=sgd ......................\n",
      "[CV]  activation=logistic, alpha=1.0, solver=sgd, score=-0.337433, total=   0.0s\n",
      "[CV] activation=logistic, alpha=1.0, solver=sgd ......................\n",
      "[CV]  activation=logistic, alpha=1.0, solver=sgd, score=-0.237434, total=   0.0s\n",
      "[CV] activation=logistic, alpha=1.0, solver=adam .....................\n"
     ]
    },
    {
     "name": "stderr",
     "output_type": "stream",
     "text": [
      "C:\\Users\\Vu Anh Vinh\\Miniconda3\\envs\\thkstat\\lib\\site-packages\\sklearn\\neural_network\\multilayer_perceptron.py:563: ConvergenceWarning: Stochastic Optimizer: Maximum iterations reached and the optimization hasn't converged yet.\n",
      "  % (), ConvergenceWarning)\n",
      "C:\\Users\\Vu Anh Vinh\\Miniconda3\\envs\\thkstat\\lib\\site-packages\\sklearn\\neural_network\\multilayer_perceptron.py:563: ConvergenceWarning: Stochastic Optimizer: Maximum iterations reached and the optimization hasn't converged yet.\n",
      "  % (), ConvergenceWarning)\n"
     ]
    },
    {
     "name": "stdout",
     "output_type": "stream",
     "text": [
      "[CV]  activation=logistic, alpha=1.0, solver=adam, score=-3.698196, total=   0.1s\n",
      "[CV] activation=logistic, alpha=1.0, solver=adam .....................\n",
      "[CV]  activation=logistic, alpha=1.0, solver=adam, score=-4.161579, total=   0.0s\n",
      "[CV] activation=logistic, alpha=1.0, solver=adam .....................\n"
     ]
    },
    {
     "name": "stderr",
     "output_type": "stream",
     "text": [
      "C:\\Users\\Vu Anh Vinh\\Miniconda3\\envs\\thkstat\\lib\\site-packages\\sklearn\\neural_network\\multilayer_perceptron.py:563: ConvergenceWarning: Stochastic Optimizer: Maximum iterations reached and the optimization hasn't converged yet.\n",
      "  % (), ConvergenceWarning)\n",
      "C:\\Users\\Vu Anh Vinh\\Miniconda3\\envs\\thkstat\\lib\\site-packages\\sklearn\\neural_network\\multilayer_perceptron.py:563: ConvergenceWarning: Stochastic Optimizer: Maximum iterations reached and the optimization hasn't converged yet.\n",
      "  % (), ConvergenceWarning)\n"
     ]
    },
    {
     "name": "stdout",
     "output_type": "stream",
     "text": [
      "[CV]  activation=logistic, alpha=1.0, solver=adam, score=-5.026770, total=   0.0s\n",
      "[CV] activation=logistic, alpha=1.0, solver=adam .....................\n",
      "[CV]  activation=logistic, alpha=1.0, solver=adam, score=-7.026572, total=   0.0s\n",
      "[CV] activation=logistic, alpha=1.0, solver=adam .....................\n"
     ]
    },
    {
     "name": "stderr",
     "output_type": "stream",
     "text": [
      "C:\\Users\\Vu Anh Vinh\\Miniconda3\\envs\\thkstat\\lib\\site-packages\\sklearn\\neural_network\\multilayer_perceptron.py:563: ConvergenceWarning: Stochastic Optimizer: Maximum iterations reached and the optimization hasn't converged yet.\n",
      "  % (), ConvergenceWarning)\n"
     ]
    },
    {
     "name": "stdout",
     "output_type": "stream",
     "text": [
      "[CV]  activation=logistic, alpha=1.0, solver=adam, score=-4.354550, total=   0.0s\n",
      "[CV] activation=logistic, alpha=10, solver=lbfgs .....................\n",
      "[CV]  activation=logistic, alpha=10, solver=lbfgs, score=0.555603, total=   0.0s\n",
      "[CV] activation=logistic, alpha=10, solver=lbfgs .....................\n",
      "[CV]  activation=logistic, alpha=10, solver=lbfgs, score=0.611528, total=   0.0s\n",
      "[CV] activation=logistic, alpha=10, solver=lbfgs .....................\n",
      "[CV]  activation=logistic, alpha=10, solver=lbfgs, score=0.683435, total=   0.0s\n",
      "[CV] activation=logistic, alpha=10, solver=lbfgs .....................\n",
      "[CV]  activation=logistic, alpha=10, solver=lbfgs, score=0.612912, total=   0.1s\n",
      "[CV] activation=logistic, alpha=10, solver=lbfgs .....................\n",
      "[CV]  activation=logistic, alpha=10, solver=lbfgs, score=0.755350, total=   0.0s\n",
      "[CV] activation=logistic, alpha=10, solver=sgd .......................\n",
      "[CV]  activation=logistic, alpha=10, solver=sgd, score=-1.640145, total=   0.0s\n",
      "[CV] activation=logistic, alpha=10, solver=sgd .......................\n",
      "[CV]  activation=logistic, alpha=10, solver=sgd, score=-1.134691, total=   0.0s\n",
      "[CV] activation=logistic, alpha=10, solver=sgd .......................\n",
      "[CV]  activation=logistic, alpha=10, solver=sgd, score=-0.434854, total=   0.0s\n",
      "[CV] activation=logistic, alpha=10, solver=sgd .......................\n",
      "[CV]  activation=logistic, alpha=10, solver=sgd, score=-0.336104, total=   0.0s\n",
      "[CV] activation=logistic, alpha=10, solver=sgd .......................\n",
      "[CV]  activation=logistic, alpha=10, solver=sgd, score=-0.214687, total=   0.0s\n",
      "[CV] activation=logistic, alpha=10, solver=adam ......................\n"
     ]
    },
    {
     "name": "stderr",
     "output_type": "stream",
     "text": [
      "C:\\Users\\Vu Anh Vinh\\Miniconda3\\envs\\thkstat\\lib\\site-packages\\sklearn\\neural_network\\multilayer_perceptron.py:563: ConvergenceWarning: Stochastic Optimizer: Maximum iterations reached and the optimization hasn't converged yet.\n",
      "  % (), ConvergenceWarning)\n",
      "C:\\Users\\Vu Anh Vinh\\Miniconda3\\envs\\thkstat\\lib\\site-packages\\sklearn\\neural_network\\multilayer_perceptron.py:563: ConvergenceWarning: Stochastic Optimizer: Maximum iterations reached and the optimization hasn't converged yet.\n",
      "  % (), ConvergenceWarning)\n"
     ]
    },
    {
     "name": "stdout",
     "output_type": "stream",
     "text": [
      "[CV]  activation=logistic, alpha=10, solver=adam, score=-3.907071, total=   0.0s\n",
      "[CV] activation=logistic, alpha=10, solver=adam ......................\n",
      "[CV]  activation=logistic, alpha=10, solver=adam, score=-4.582144, total=   0.0s\n",
      "[CV] activation=logistic, alpha=10, solver=adam ......................\n"
     ]
    },
    {
     "name": "stderr",
     "output_type": "stream",
     "text": [
      "C:\\Users\\Vu Anh Vinh\\Miniconda3\\envs\\thkstat\\lib\\site-packages\\sklearn\\neural_network\\multilayer_perceptron.py:563: ConvergenceWarning: Stochastic Optimizer: Maximum iterations reached and the optimization hasn't converged yet.\n",
      "  % (), ConvergenceWarning)\n",
      "C:\\Users\\Vu Anh Vinh\\Miniconda3\\envs\\thkstat\\lib\\site-packages\\sklearn\\neural_network\\multilayer_perceptron.py:563: ConvergenceWarning: Stochastic Optimizer: Maximum iterations reached and the optimization hasn't converged yet.\n",
      "  % (), ConvergenceWarning)\n"
     ]
    },
    {
     "name": "stdout",
     "output_type": "stream",
     "text": [
      "[CV]  activation=logistic, alpha=10, solver=adam, score=-5.323248, total=   0.0s\n",
      "[CV] activation=logistic, alpha=10, solver=adam ......................\n",
      "[CV]  activation=logistic, alpha=10, solver=adam, score=-7.294687, total=   0.0s\n",
      "[CV] activation=logistic, alpha=10, solver=adam ......................\n"
     ]
    },
    {
     "name": "stderr",
     "output_type": "stream",
     "text": [
      "C:\\Users\\Vu Anh Vinh\\Miniconda3\\envs\\thkstat\\lib\\site-packages\\sklearn\\neural_network\\multilayer_perceptron.py:563: ConvergenceWarning: Stochastic Optimizer: Maximum iterations reached and the optimization hasn't converged yet.\n",
      "  % (), ConvergenceWarning)\n"
     ]
    },
    {
     "name": "stdout",
     "output_type": "stream",
     "text": [
      "[CV]  activation=logistic, alpha=10, solver=adam, score=-4.420622, total=   0.0s\n",
      "[CV] activation=logistic, alpha=100, solver=lbfgs ....................\n",
      "[CV]  activation=logistic, alpha=100, solver=lbfgs, score=-0.173283, total=   0.0s\n",
      "[CV] activation=logistic, alpha=100, solver=lbfgs ....................\n",
      "[CV]  activation=logistic, alpha=100, solver=lbfgs, score=-0.036131, total=   0.0s\n",
      "[CV] activation=logistic, alpha=100, solver=lbfgs ....................\n",
      "[CV]  activation=logistic, alpha=100, solver=lbfgs, score=-0.013231, total=   0.0s\n",
      "[CV] activation=logistic, alpha=100, solver=lbfgs ....................\n",
      "[CV]  activation=logistic, alpha=100, solver=lbfgs, score=-0.055305, total=   0.0s\n",
      "[CV] activation=logistic, alpha=100, solver=lbfgs ....................\n",
      "[CV]  activation=logistic, alpha=100, solver=lbfgs, score=-0.038193, total=   0.0s\n",
      "[CV] activation=logistic, alpha=100, solver=sgd ......................\n",
      "[CV]  activation=logistic, alpha=100, solver=sgd, score=-1.390434, total=   0.0s\n",
      "[CV] activation=logistic, alpha=100, solver=sgd ......................\n",
      "[CV]  activation=logistic, alpha=100, solver=sgd, score=-0.923573, total=   0.0s\n",
      "[CV] activation=logistic, alpha=100, solver=sgd ......................\n",
      "[CV]  activation=logistic, alpha=100, solver=sgd, score=-0.316611, total=   0.0s\n",
      "[CV] activation=logistic, alpha=100, solver=sgd ......................\n",
      "[CV]  activation=logistic, alpha=100, solver=sgd, score=-0.202683, total=   0.0s\n",
      "[CV] activation=logistic, alpha=100, solver=sgd ......................\n",
      "[CV]  activation=logistic, alpha=100, solver=sgd, score=-0.123083, total=   0.0s\n",
      "[CV] activation=logistic, alpha=100, solver=adam .....................\n"
     ]
    },
    {
     "name": "stderr",
     "output_type": "stream",
     "text": [
      "C:\\Users\\Vu Anh Vinh\\Miniconda3\\envs\\thkstat\\lib\\site-packages\\sklearn\\neural_network\\multilayer_perceptron.py:563: ConvergenceWarning: Stochastic Optimizer: Maximum iterations reached and the optimization hasn't converged yet.\n",
      "  % (), ConvergenceWarning)\n",
      "C:\\Users\\Vu Anh Vinh\\Miniconda3\\envs\\thkstat\\lib\\site-packages\\sklearn\\neural_network\\multilayer_perceptron.py:563: ConvergenceWarning: Stochastic Optimizer: Maximum iterations reached and the optimization hasn't converged yet.\n",
      "  % (), ConvergenceWarning)\n"
     ]
    },
    {
     "name": "stdout",
     "output_type": "stream",
     "text": [
      "[CV]  activation=logistic, alpha=100, solver=adam, score=-3.468990, total=   0.0s\n",
      "[CV] activation=logistic, alpha=100, solver=adam .....................\n",
      "[CV]  activation=logistic, alpha=100, solver=adam, score=-4.572522, total=   0.0s\n",
      "[CV] activation=logistic, alpha=100, solver=adam .....................\n"
     ]
    },
    {
     "name": "stderr",
     "output_type": "stream",
     "text": [
      "C:\\Users\\Vu Anh Vinh\\Miniconda3\\envs\\thkstat\\lib\\site-packages\\sklearn\\neural_network\\multilayer_perceptron.py:563: ConvergenceWarning: Stochastic Optimizer: Maximum iterations reached and the optimization hasn't converged yet.\n",
      "  % (), ConvergenceWarning)\n",
      "C:\\Users\\Vu Anh Vinh\\Miniconda3\\envs\\thkstat\\lib\\site-packages\\sklearn\\neural_network\\multilayer_perceptron.py:563: ConvergenceWarning: Stochastic Optimizer: Maximum iterations reached and the optimization hasn't converged yet.\n",
      "  % (), ConvergenceWarning)\n"
     ]
    },
    {
     "name": "stdout",
     "output_type": "stream",
     "text": [
      "[CV]  activation=logistic, alpha=100, solver=adam, score=-5.165125, total=   0.0s\n",
      "[CV] activation=logistic, alpha=100, solver=adam .....................\n",
      "[CV]  activation=logistic, alpha=100, solver=adam, score=-7.243076, total=   0.0s\n",
      "[CV] activation=logistic, alpha=100, solver=adam .....................\n"
     ]
    },
    {
     "name": "stderr",
     "output_type": "stream",
     "text": [
      "C:\\Users\\Vu Anh Vinh\\Miniconda3\\envs\\thkstat\\lib\\site-packages\\sklearn\\neural_network\\multilayer_perceptron.py:563: ConvergenceWarning: Stochastic Optimizer: Maximum iterations reached and the optimization hasn't converged yet.\n",
      "  % (), ConvergenceWarning)\n"
     ]
    },
    {
     "name": "stdout",
     "output_type": "stream",
     "text": [
      "[CV]  activation=logistic, alpha=100, solver=adam, score=-4.559758, total=   0.0s\n",
      "[CV] activation=tanh, alpha=0.001, solver=lbfgs ......................\n",
      "[CV]  activation=tanh, alpha=0.001, solver=lbfgs, score=0.171020, total=   0.0s\n",
      "[CV] activation=tanh, alpha=0.001, solver=lbfgs ......................\n",
      "[CV]  activation=tanh, alpha=0.001, solver=lbfgs, score=0.078147, total=   0.1s\n",
      "[CV] activation=tanh, alpha=0.001, solver=lbfgs ......................\n",
      "[CV]  activation=tanh, alpha=0.001, solver=lbfgs, score=0.621994, total=   0.1s\n",
      "[CV] activation=tanh, alpha=0.001, solver=lbfgs ......................\n",
      "[CV]  activation=tanh, alpha=0.001, solver=lbfgs, score=-0.192116, total=   0.1s\n",
      "[CV] activation=tanh, alpha=0.001, solver=lbfgs ......................\n",
      "[CV]  activation=tanh, alpha=0.001, solver=lbfgs, score=0.606269, total=   0.1s\n",
      "[CV] activation=tanh, alpha=0.001, solver=sgd ........................\n",
      "[CV]  activation=tanh, alpha=0.001, solver=sgd, score=-1.549686, total=   0.0s\n",
      "[CV] activation=tanh, alpha=0.001, solver=sgd ........................\n",
      "[CV]  activation=tanh, alpha=0.001, solver=sgd, score=-1.028965, total=   0.0s\n",
      "[CV] activation=tanh, alpha=0.001, solver=sgd ........................\n",
      "[CV]  activation=tanh, alpha=0.001, solver=sgd, score=-0.483519, total=   0.0s\n",
      "[CV] activation=tanh, alpha=0.001, solver=sgd ........................\n",
      "[CV]  activation=tanh, alpha=0.001, solver=sgd, score=-0.376448, total=   0.0s\n",
      "[CV] activation=tanh, alpha=0.001, solver=sgd ........................\n",
      "[CV]  activation=tanh, alpha=0.001, solver=sgd, score=-0.184821, total=   0.0s\n",
      "[CV] activation=tanh, alpha=0.001, solver=adam .......................\n"
     ]
    },
    {
     "name": "stderr",
     "output_type": "stream",
     "text": [
      "C:\\Users\\Vu Anh Vinh\\Miniconda3\\envs\\thkstat\\lib\\site-packages\\sklearn\\neural_network\\multilayer_perceptron.py:563: ConvergenceWarning: Stochastic Optimizer: Maximum iterations reached and the optimization hasn't converged yet.\n",
      "  % (), ConvergenceWarning)\n",
      "C:\\Users\\Vu Anh Vinh\\Miniconda3\\envs\\thkstat\\lib\\site-packages\\sklearn\\neural_network\\multilayer_perceptron.py:563: ConvergenceWarning: Stochastic Optimizer: Maximum iterations reached and the optimization hasn't converged yet.\n",
      "  % (), ConvergenceWarning)\n"
     ]
    },
    {
     "name": "stdout",
     "output_type": "stream",
     "text": [
      "[CV]  activation=tanh, alpha=0.001, solver=adam, score=-2.137672, total=   0.0s\n",
      "[CV] activation=tanh, alpha=0.001, solver=adam .......................\n",
      "[CV]  activation=tanh, alpha=0.001, solver=adam, score=-2.586241, total=   0.0s\n",
      "[CV] activation=tanh, alpha=0.001, solver=adam .......................\n"
     ]
    },
    {
     "name": "stderr",
     "output_type": "stream",
     "text": [
      "C:\\Users\\Vu Anh Vinh\\Miniconda3\\envs\\thkstat\\lib\\site-packages\\sklearn\\neural_network\\multilayer_perceptron.py:563: ConvergenceWarning: Stochastic Optimizer: Maximum iterations reached and the optimization hasn't converged yet.\n",
      "  % (), ConvergenceWarning)\n",
      "C:\\Users\\Vu Anh Vinh\\Miniconda3\\envs\\thkstat\\lib\\site-packages\\sklearn\\neural_network\\multilayer_perceptron.py:563: ConvergenceWarning: Stochastic Optimizer: Maximum iterations reached and the optimization hasn't converged yet.\n",
      "  % (), ConvergenceWarning)\n"
     ]
    },
    {
     "name": "stdout",
     "output_type": "stream",
     "text": [
      "[CV]  activation=tanh, alpha=0.001, solver=adam, score=-3.028000, total=   0.0s\n",
      "[CV] activation=tanh, alpha=0.001, solver=adam .......................\n",
      "[CV]  activation=tanh, alpha=0.001, solver=adam, score=-4.584588, total=   0.0s\n",
      "[CV] activation=tanh, alpha=0.001, solver=adam .......................\n"
     ]
    },
    {
     "name": "stderr",
     "output_type": "stream",
     "text": [
      "C:\\Users\\Vu Anh Vinh\\Miniconda3\\envs\\thkstat\\lib\\site-packages\\sklearn\\neural_network\\multilayer_perceptron.py:563: ConvergenceWarning: Stochastic Optimizer: Maximum iterations reached and the optimization hasn't converged yet.\n",
      "  % (), ConvergenceWarning)\n"
     ]
    },
    {
     "name": "stdout",
     "output_type": "stream",
     "text": [
      "[CV]  activation=tanh, alpha=0.001, solver=adam, score=-2.598991, total=   0.1s\n",
      "[CV] activation=tanh, alpha=0.01, solver=lbfgs .......................\n",
      "[CV]  activation=tanh, alpha=0.01, solver=lbfgs, score=0.384033, total=   0.2s\n",
      "[CV] activation=tanh, alpha=0.01, solver=lbfgs .......................\n",
      "[CV]  activation=tanh, alpha=0.01, solver=lbfgs, score=-0.498041, total=   0.0s\n",
      "[CV] activation=tanh, alpha=0.01, solver=lbfgs .......................\n",
      "[CV]  activation=tanh, alpha=0.01, solver=lbfgs, score=0.574724, total=   0.0s\n",
      "[CV] activation=tanh, alpha=0.01, solver=lbfgs .......................\n",
      "[CV]  activation=tanh, alpha=0.01, solver=lbfgs, score=0.274658, total=   0.0s\n",
      "[CV] activation=tanh, alpha=0.01, solver=lbfgs .......................\n",
      "[CV]  activation=tanh, alpha=0.01, solver=lbfgs, score=0.436223, total=   0.0s\n",
      "[CV] activation=tanh, alpha=0.01, solver=sgd .........................\n",
      "[CV]  activation=tanh, alpha=0.01, solver=sgd, score=-1.573950, total=   0.0s\n",
      "[CV] activation=tanh, alpha=0.01, solver=sgd .........................\n",
      "[CV]  activation=tanh, alpha=0.01, solver=sgd, score=-1.056862, total=   0.0s\n",
      "[CV] activation=tanh, alpha=0.01, solver=sgd .........................\n",
      "[CV]  activation=tanh, alpha=0.01, solver=sgd, score=-0.509064, total=   0.0s\n",
      "[CV] activation=tanh, alpha=0.01, solver=sgd .........................\n",
      "[CV]  activation=tanh, alpha=0.01, solver=sgd, score=-0.407633, total=   0.0s\n",
      "[CV] activation=tanh, alpha=0.01, solver=sgd .........................\n",
      "[CV]  activation=tanh, alpha=0.01, solver=sgd, score=-0.168574, total=   0.0s\n",
      "[CV] activation=tanh, alpha=0.01, solver=adam ........................\n",
      "[CV]  activation=tanh, alpha=0.01, solver=adam, score=-1.979039, total=   0.0s\n",
      "[CV] activation=tanh, alpha=0.01, solver=adam ........................\n"
     ]
    },
    {
     "name": "stderr",
     "output_type": "stream",
     "text": [
      "C:\\Users\\Vu Anh Vinh\\Miniconda3\\envs\\thkstat\\lib\\site-packages\\sklearn\\neural_network\\multilayer_perceptron.py:563: ConvergenceWarning: Stochastic Optimizer: Maximum iterations reached and the optimization hasn't converged yet.\n",
      "  % (), ConvergenceWarning)\n",
      "C:\\Users\\Vu Anh Vinh\\Miniconda3\\envs\\thkstat\\lib\\site-packages\\sklearn\\neural_network\\multilayer_perceptron.py:563: ConvergenceWarning: Stochastic Optimizer: Maximum iterations reached and the optimization hasn't converged yet.\n",
      "  % (), ConvergenceWarning)\n"
     ]
    },
    {
     "name": "stdout",
     "output_type": "stream",
     "text": [
      "[CV]  activation=tanh, alpha=0.01, solver=adam, score=-2.683042, total=   0.0s\n",
      "[CV] activation=tanh, alpha=0.01, solver=adam ........................\n",
      "[CV]  activation=tanh, alpha=0.01, solver=adam, score=-3.132713, total=   0.0s\n",
      "[CV] activation=tanh, alpha=0.01, solver=adam ........................\n"
     ]
    },
    {
     "name": "stderr",
     "output_type": "stream",
     "text": [
      "C:\\Users\\Vu Anh Vinh\\Miniconda3\\envs\\thkstat\\lib\\site-packages\\sklearn\\neural_network\\multilayer_perceptron.py:563: ConvergenceWarning: Stochastic Optimizer: Maximum iterations reached and the optimization hasn't converged yet.\n",
      "  % (), ConvergenceWarning)\n",
      "C:\\Users\\Vu Anh Vinh\\Miniconda3\\envs\\thkstat\\lib\\site-packages\\sklearn\\neural_network\\multilayer_perceptron.py:563: ConvergenceWarning: Stochastic Optimizer: Maximum iterations reached and the optimization hasn't converged yet.\n",
      "  % (), ConvergenceWarning)\n",
      "C:\\Users\\Vu Anh Vinh\\Miniconda3\\envs\\thkstat\\lib\\site-packages\\sklearn\\neural_network\\multilayer_perceptron.py:563: ConvergenceWarning: Stochastic Optimizer: Maximum iterations reached and the optimization hasn't converged yet.\n",
      "  % (), ConvergenceWarning)\n"
     ]
    },
    {
     "name": "stdout",
     "output_type": "stream",
     "text": [
      "[CV]  activation=tanh, alpha=0.01, solver=adam, score=-4.605130, total=   0.1s\n",
      "[CV] activation=tanh, alpha=0.01, solver=adam ........................\n",
      "[CV]  activation=tanh, alpha=0.01, solver=adam, score=-2.579522, total=   0.0s\n",
      "[CV] activation=tanh, alpha=0.1, solver=lbfgs ........................\n",
      "[CV]  activation=tanh, alpha=0.1, solver=lbfgs, score=0.281009, total=   0.0s\n",
      "[CV] activation=tanh, alpha=0.1, solver=lbfgs ........................\n",
      "[CV]  activation=tanh, alpha=0.1, solver=lbfgs, score=0.306774, total=   0.0s\n",
      "[CV] activation=tanh, alpha=0.1, solver=lbfgs ........................\n",
      "[CV]  activation=tanh, alpha=0.1, solver=lbfgs, score=0.771691, total=   0.0s\n",
      "[CV] activation=tanh, alpha=0.1, solver=lbfgs ........................\n",
      "[CV]  activation=tanh, alpha=0.1, solver=lbfgs, score=0.495397, total=   0.0s\n",
      "[CV] activation=tanh, alpha=0.1, solver=lbfgs ........................\n",
      "[CV]  activation=tanh, alpha=0.1, solver=lbfgs, score=0.495097, total=   0.0s\n",
      "[CV] activation=tanh, alpha=0.1, solver=sgd ..........................\n",
      "[CV]  activation=tanh, alpha=0.1, solver=sgd, score=-1.491316, total=   0.0s\n",
      "[CV] activation=tanh, alpha=0.1, solver=sgd ..........................\n",
      "[CV]  activation=tanh, alpha=0.1, solver=sgd, score=-1.058023, total=   0.0s\n",
      "[CV] activation=tanh, alpha=0.1, solver=sgd ..........................\n",
      "[CV]  activation=tanh, alpha=0.1, solver=sgd, score=-0.449641, total=   0.0s\n",
      "[CV] activation=tanh, alpha=0.1, solver=sgd ..........................\n",
      "[CV]  activation=tanh, alpha=0.1, solver=sgd, score=-0.407753, total=   0.0s\n",
      "[CV] activation=tanh, alpha=0.1, solver=sgd ..........................\n",
      "[CV]  activation=tanh, alpha=0.1, solver=sgd, score=-0.167898, total=   0.0s\n",
      "[CV] activation=tanh, alpha=0.1, solver=adam .........................\n",
      "[CV]  activation=tanh, alpha=0.1, solver=adam, score=-2.053674, total=   0.0s\n",
      "[CV] activation=tanh, alpha=0.1, solver=adam .........................\n"
     ]
    },
    {
     "name": "stderr",
     "output_type": "stream",
     "text": [
      "C:\\Users\\Vu Anh Vinh\\Miniconda3\\envs\\thkstat\\lib\\site-packages\\sklearn\\neural_network\\multilayer_perceptron.py:563: ConvergenceWarning: Stochastic Optimizer: Maximum iterations reached and the optimization hasn't converged yet.\n",
      "  % (), ConvergenceWarning)\n",
      "C:\\Users\\Vu Anh Vinh\\Miniconda3\\envs\\thkstat\\lib\\site-packages\\sklearn\\neural_network\\multilayer_perceptron.py:563: ConvergenceWarning: Stochastic Optimizer: Maximum iterations reached and the optimization hasn't converged yet.\n",
      "  % (), ConvergenceWarning)\n",
      "C:\\Users\\Vu Anh Vinh\\Miniconda3\\envs\\thkstat\\lib\\site-packages\\sklearn\\neural_network\\multilayer_perceptron.py:563: ConvergenceWarning: Stochastic Optimizer: Maximum iterations reached and the optimization hasn't converged yet.\n",
      "  % (), ConvergenceWarning)\n"
     ]
    },
    {
     "name": "stdout",
     "output_type": "stream",
     "text": [
      "[CV]  activation=tanh, alpha=0.1, solver=adam, score=-2.766837, total=   0.1s\n",
      "[CV] activation=tanh, alpha=0.1, solver=adam .........................\n",
      "[CV]  activation=tanh, alpha=0.1, solver=adam, score=-3.217507, total=   0.1s\n",
      "[CV] activation=tanh, alpha=0.1, solver=adam .........................\n"
     ]
    },
    {
     "name": "stderr",
     "output_type": "stream",
     "text": [
      "C:\\Users\\Vu Anh Vinh\\Miniconda3\\envs\\thkstat\\lib\\site-packages\\sklearn\\neural_network\\multilayer_perceptron.py:563: ConvergenceWarning: Stochastic Optimizer: Maximum iterations reached and the optimization hasn't converged yet.\n",
      "  % (), ConvergenceWarning)\n",
      "C:\\Users\\Vu Anh Vinh\\Miniconda3\\envs\\thkstat\\lib\\site-packages\\sklearn\\neural_network\\multilayer_perceptron.py:563: ConvergenceWarning: Stochastic Optimizer: Maximum iterations reached and the optimization hasn't converged yet.\n",
      "  % (), ConvergenceWarning)\n"
     ]
    },
    {
     "name": "stdout",
     "output_type": "stream",
     "text": [
      "[CV]  activation=tanh, alpha=0.1, solver=adam, score=-5.059017, total=   0.0s\n",
      "[CV] activation=tanh, alpha=0.1, solver=adam .........................\n",
      "[CV]  activation=tanh, alpha=0.1, solver=adam, score=-2.877101, total=   0.0s\n",
      "[CV] activation=tanh, alpha=1.0, solver=lbfgs ........................\n",
      "[CV]  activation=tanh, alpha=1.0, solver=lbfgs, score=0.418125, total=   0.0s\n",
      "[CV] activation=tanh, alpha=1.0, solver=lbfgs ........................\n",
      "[CV]  activation=tanh, alpha=1.0, solver=lbfgs, score=0.525836, total=   0.0s\n",
      "[CV] activation=tanh, alpha=1.0, solver=lbfgs ........................\n",
      "[CV]  activation=tanh, alpha=1.0, solver=lbfgs, score=0.802002, total=   0.0s\n",
      "[CV] activation=tanh, alpha=1.0, solver=lbfgs ........................\n",
      "[CV]  activation=tanh, alpha=1.0, solver=lbfgs, score=0.557659, total=   0.0s\n",
      "[CV] activation=tanh, alpha=1.0, solver=lbfgs ........................\n",
      "[CV]  activation=tanh, alpha=1.0, solver=lbfgs, score=0.687881, total=   0.1s\n",
      "[CV] activation=tanh, alpha=1.0, solver=sgd ..........................\n",
      "[CV]  activation=tanh, alpha=1.0, solver=sgd, score=-1.561554, total=   0.0s\n",
      "[CV] activation=tanh, alpha=1.0, solver=sgd ..........................\n",
      "[CV]  activation=tanh, alpha=1.0, solver=sgd, score=-1.082184, total=   0.0s\n",
      "[CV] activation=tanh, alpha=1.0, solver=sgd ..........................\n",
      "[CV]  activation=tanh, alpha=1.0, solver=sgd, score=-0.482674, total=   0.0s\n",
      "[CV] activation=tanh, alpha=1.0, solver=sgd ..........................\n",
      "[CV]  activation=tanh, alpha=1.0, solver=sgd, score=-0.348515, total=   0.0s\n",
      "[CV] activation=tanh, alpha=1.0, solver=sgd ..........................\n",
      "[CV]  activation=tanh, alpha=1.0, solver=sgd, score=-0.198209, total=   0.0s\n",
      "[CV] activation=tanh, alpha=1.0, solver=adam .........................\n"
     ]
    },
    {
     "name": "stderr",
     "output_type": "stream",
     "text": [
      "C:\\Users\\Vu Anh Vinh\\Miniconda3\\envs\\thkstat\\lib\\site-packages\\sklearn\\neural_network\\multilayer_perceptron.py:563: ConvergenceWarning: Stochastic Optimizer: Maximum iterations reached and the optimization hasn't converged yet.\n",
      "  % (), ConvergenceWarning)\n",
      "C:\\Users\\Vu Anh Vinh\\Miniconda3\\envs\\thkstat\\lib\\site-packages\\sklearn\\neural_network\\multilayer_perceptron.py:563: ConvergenceWarning: Stochastic Optimizer: Maximum iterations reached and the optimization hasn't converged yet.\n",
      "  % (), ConvergenceWarning)\n"
     ]
    },
    {
     "name": "stdout",
     "output_type": "stream",
     "text": [
      "[CV]  activation=tanh, alpha=1.0, solver=adam, score=-1.953895, total=   0.1s\n",
      "[CV] activation=tanh, alpha=1.0, solver=adam .........................\n",
      "[CV]  activation=tanh, alpha=1.0, solver=adam, score=-2.643713, total=   0.0s\n",
      "[CV] activation=tanh, alpha=1.0, solver=adam .........................\n"
     ]
    },
    {
     "name": "stderr",
     "output_type": "stream",
     "text": [
      "C:\\Users\\Vu Anh Vinh\\Miniconda3\\envs\\thkstat\\lib\\site-packages\\sklearn\\neural_network\\multilayer_perceptron.py:563: ConvergenceWarning: Stochastic Optimizer: Maximum iterations reached and the optimization hasn't converged yet.\n",
      "  % (), ConvergenceWarning)\n",
      "C:\\Users\\Vu Anh Vinh\\Miniconda3\\envs\\thkstat\\lib\\site-packages\\sklearn\\neural_network\\multilayer_perceptron.py:563: ConvergenceWarning: Stochastic Optimizer: Maximum iterations reached and the optimization hasn't converged yet.\n",
      "  % (), ConvergenceWarning)\n"
     ]
    },
    {
     "name": "stdout",
     "output_type": "stream",
     "text": [
      "[CV]  activation=tanh, alpha=1.0, solver=adam, score=-2.889558, total=   0.0s\n",
      "[CV] activation=tanh, alpha=1.0, solver=adam .........................\n",
      "[CV]  activation=tanh, alpha=1.0, solver=adam, score=-4.765283, total=   0.0s\n",
      "[CV] activation=tanh, alpha=1.0, solver=adam .........................\n"
     ]
    },
    {
     "name": "stderr",
     "output_type": "stream",
     "text": [
      "C:\\Users\\Vu Anh Vinh\\Miniconda3\\envs\\thkstat\\lib\\site-packages\\sklearn\\neural_network\\multilayer_perceptron.py:563: ConvergenceWarning: Stochastic Optimizer: Maximum iterations reached and the optimization hasn't converged yet.\n",
      "  % (), ConvergenceWarning)\n"
     ]
    },
    {
     "name": "stdout",
     "output_type": "stream",
     "text": [
      "[CV]  activation=tanh, alpha=1.0, solver=adam, score=-2.744632, total=   0.0s\n",
      "[CV] activation=tanh, alpha=10, solver=lbfgs .........................\n",
      "[CV]  activation=tanh, alpha=10, solver=lbfgs, score=0.506751, total=   0.0s\n",
      "[CV] activation=tanh, alpha=10, solver=lbfgs .........................\n",
      "[CV]  activation=tanh, alpha=10, solver=lbfgs, score=0.636295, total=   0.0s\n",
      "[CV] activation=tanh, alpha=10, solver=lbfgs .........................\n",
      "[CV]  activation=tanh, alpha=10, solver=lbfgs, score=0.725230, total=   0.0s\n",
      "[CV] activation=tanh, alpha=10, solver=lbfgs .........................\n",
      "[CV]  activation=tanh, alpha=10, solver=lbfgs, score=0.566362, total=   0.1s\n",
      "[CV] activation=tanh, alpha=10, solver=lbfgs .........................\n",
      "[CV]  activation=tanh, alpha=10, solver=lbfgs, score=0.810050, total=   0.0s\n",
      "[CV] activation=tanh, alpha=10, solver=sgd ...........................\n",
      "[CV]  activation=tanh, alpha=10, solver=sgd, score=-1.450324, total=   0.0s\n",
      "[CV] activation=tanh, alpha=10, solver=sgd ...........................\n",
      "[CV]  activation=tanh, alpha=10, solver=sgd, score=-0.981299, total=   0.0s\n",
      "[CV] activation=tanh, alpha=10, solver=sgd ...........................\n",
      "[CV]  activation=tanh, alpha=10, solver=sgd, score=-0.497323, total=   0.0s\n",
      "[CV] activation=tanh, alpha=10, solver=sgd ...........................\n",
      "[CV]  activation=tanh, alpha=10, solver=sgd, score=-0.378636, total=   0.0s\n",
      "[CV] activation=tanh, alpha=10, solver=sgd ...........................\n",
      "[CV]  activation=tanh, alpha=10, solver=sgd, score=-0.190741, total=   0.0s\n",
      "[CV] activation=tanh, alpha=10, solver=adam ..........................\n",
      "[CV]  activation=tanh, alpha=10, solver=adam, score=-1.964385, total=   0.0s\n",
      "[CV] activation=tanh, alpha=10, solver=adam ..........................\n"
     ]
    },
    {
     "name": "stderr",
     "output_type": "stream",
     "text": [
      "C:\\Users\\Vu Anh Vinh\\Miniconda3\\envs\\thkstat\\lib\\site-packages\\sklearn\\neural_network\\multilayer_perceptron.py:563: ConvergenceWarning: Stochastic Optimizer: Maximum iterations reached and the optimization hasn't converged yet.\n",
      "  % (), ConvergenceWarning)\n",
      "C:\\Users\\Vu Anh Vinh\\Miniconda3\\envs\\thkstat\\lib\\site-packages\\sklearn\\neural_network\\multilayer_perceptron.py:563: ConvergenceWarning: Stochastic Optimizer: Maximum iterations reached and the optimization hasn't converged yet.\n",
      "  % (), ConvergenceWarning)\n"
     ]
    },
    {
     "name": "stdout",
     "output_type": "stream",
     "text": [
      "[CV]  activation=tanh, alpha=10, solver=adam, score=-2.810468, total=   0.0s\n",
      "[CV] activation=tanh, alpha=10, solver=adam ..........................\n",
      "[CV]  activation=tanh, alpha=10, solver=adam, score=-2.709907, total=   0.0s\n",
      "[CV] activation=tanh, alpha=10, solver=adam ..........................\n"
     ]
    },
    {
     "name": "stderr",
     "output_type": "stream",
     "text": [
      "C:\\Users\\Vu Anh Vinh\\Miniconda3\\envs\\thkstat\\lib\\site-packages\\sklearn\\neural_network\\multilayer_perceptron.py:563: ConvergenceWarning: Stochastic Optimizer: Maximum iterations reached and the optimization hasn't converged yet.\n",
      "  % (), ConvergenceWarning)\n",
      "C:\\Users\\Vu Anh Vinh\\Miniconda3\\envs\\thkstat\\lib\\site-packages\\sklearn\\neural_network\\multilayer_perceptron.py:563: ConvergenceWarning: Stochastic Optimizer: Maximum iterations reached and the optimization hasn't converged yet.\n",
      "  % (), ConvergenceWarning)\n"
     ]
    },
    {
     "name": "stdout",
     "output_type": "stream",
     "text": [
      "[CV]  activation=tanh, alpha=10, solver=adam, score=-4.588561, total=   0.0s\n",
      "[CV] activation=tanh, alpha=10, solver=adam ..........................\n",
      "[CV]  activation=tanh, alpha=10, solver=adam, score=-2.634055, total=   0.0s\n",
      "[CV] activation=tanh, alpha=100, solver=lbfgs ........................\n"
     ]
    },
    {
     "name": "stderr",
     "output_type": "stream",
     "text": [
      "C:\\Users\\Vu Anh Vinh\\Miniconda3\\envs\\thkstat\\lib\\site-packages\\sklearn\\neural_network\\multilayer_perceptron.py:563: ConvergenceWarning: Stochastic Optimizer: Maximum iterations reached and the optimization hasn't converged yet.\n",
      "  % (), ConvergenceWarning)\n"
     ]
    },
    {
     "name": "stdout",
     "output_type": "stream",
     "text": [
      "[CV]  activation=tanh, alpha=100, solver=lbfgs, score=0.546614, total=   0.0s\n",
      "[CV] activation=tanh, alpha=100, solver=lbfgs ........................\n",
      "[CV]  activation=tanh, alpha=100, solver=lbfgs, score=0.581177, total=   0.1s\n",
      "[CV] activation=tanh, alpha=100, solver=lbfgs ........................\n",
      "[CV]  activation=tanh, alpha=100, solver=lbfgs, score=0.602542, total=   0.1s\n",
      "[CV] activation=tanh, alpha=100, solver=lbfgs ........................\n",
      "[CV]  activation=tanh, alpha=100, solver=lbfgs, score=0.561975, total=   0.0s\n",
      "[CV] activation=tanh, alpha=100, solver=lbfgs ........................\n",
      "[CV]  activation=tanh, alpha=100, solver=lbfgs, score=0.636258, total=   0.0s\n",
      "[CV] activation=tanh, alpha=100, solver=sgd ..........................\n",
      "[CV]  activation=tanh, alpha=100, solver=sgd, score=-1.344070, total=   0.0s\n",
      "[CV] activation=tanh, alpha=100, solver=sgd ..........................\n",
      "[CV]  activation=tanh, alpha=100, solver=sgd, score=-0.897194, total=   0.0s\n",
      "[CV] activation=tanh, alpha=100, solver=sgd ..........................\n",
      "[CV]  activation=tanh, alpha=100, solver=sgd, score=-0.343442, total=   0.0s\n",
      "[CV] activation=tanh, alpha=100, solver=sgd ..........................\n",
      "[CV]  activation=tanh, alpha=100, solver=sgd, score=-0.240922, total=   0.0s\n",
      "[CV] activation=tanh, alpha=100, solver=sgd ..........................\n",
      "[CV]  activation=tanh, alpha=100, solver=sgd, score=-0.093285, total=   0.0s\n",
      "[CV] activation=tanh, alpha=100, solver=adam .........................\n"
     ]
    },
    {
     "name": "stderr",
     "output_type": "stream",
     "text": [
      "C:\\Users\\Vu Anh Vinh\\Miniconda3\\envs\\thkstat\\lib\\site-packages\\sklearn\\neural_network\\multilayer_perceptron.py:563: ConvergenceWarning: Stochastic Optimizer: Maximum iterations reached and the optimization hasn't converged yet.\n",
      "  % (), ConvergenceWarning)\n",
      "C:\\Users\\Vu Anh Vinh\\Miniconda3\\envs\\thkstat\\lib\\site-packages\\sklearn\\neural_network\\multilayer_perceptron.py:563: ConvergenceWarning: Stochastic Optimizer: Maximum iterations reached and the optimization hasn't converged yet.\n",
      "  % (), ConvergenceWarning)\n"
     ]
    },
    {
     "name": "stdout",
     "output_type": "stream",
     "text": [
      "[CV]  activation=tanh, alpha=100, solver=adam, score=-1.933413, total=   0.0s\n",
      "[CV] activation=tanh, alpha=100, solver=adam .........................\n",
      "[CV]  activation=tanh, alpha=100, solver=adam, score=-2.409552, total=   0.1s\n",
      "[CV] activation=tanh, alpha=100, solver=adam .........................\n"
     ]
    },
    {
     "name": "stderr",
     "output_type": "stream",
     "text": [
      "C:\\Users\\Vu Anh Vinh\\Miniconda3\\envs\\thkstat\\lib\\site-packages\\sklearn\\neural_network\\multilayer_perceptron.py:563: ConvergenceWarning: Stochastic Optimizer: Maximum iterations reached and the optimization hasn't converged yet.\n",
      "  % (), ConvergenceWarning)\n",
      "C:\\Users\\Vu Anh Vinh\\Miniconda3\\envs\\thkstat\\lib\\site-packages\\sklearn\\neural_network\\multilayer_perceptron.py:563: ConvergenceWarning: Stochastic Optimizer: Maximum iterations reached and the optimization hasn't converged yet.\n",
      "  % (), ConvergenceWarning)\n"
     ]
    },
    {
     "name": "stdout",
     "output_type": "stream",
     "text": [
      "[CV]  activation=tanh, alpha=100, solver=adam, score=-2.989410, total=   0.1s\n",
      "[CV] activation=tanh, alpha=100, solver=adam .........................\n",
      "[CV]  activation=tanh, alpha=100, solver=adam, score=-4.847036, total=   0.1s\n",
      "[CV] activation=tanh, alpha=100, solver=adam .........................\n"
     ]
    },
    {
     "name": "stderr",
     "output_type": "stream",
     "text": [
      "C:\\Users\\Vu Anh Vinh\\Miniconda3\\envs\\thkstat\\lib\\site-packages\\sklearn\\neural_network\\multilayer_perceptron.py:563: ConvergenceWarning: Stochastic Optimizer: Maximum iterations reached and the optimization hasn't converged yet.\n",
      "  % (), ConvergenceWarning)\n"
     ]
    },
    {
     "name": "stdout",
     "output_type": "stream",
     "text": [
      "[CV]  activation=tanh, alpha=100, solver=adam, score=-2.488531, total=   0.1s\n",
      "[CV] activation=relu, alpha=0.001, solver=lbfgs ......................\n",
      "[CV]  activation=relu, alpha=0.001, solver=lbfgs, score=0.446916, total=   0.0s\n",
      "[CV] activation=relu, alpha=0.001, solver=lbfgs ......................\n",
      "[CV]  activation=relu, alpha=0.001, solver=lbfgs, score=0.644525, total=   0.0s\n",
      "[CV] activation=relu, alpha=0.001, solver=lbfgs ......................\n",
      "[CV]  activation=relu, alpha=0.001, solver=lbfgs, score=0.733198, total=   0.0s\n",
      "[CV] activation=relu, alpha=0.001, solver=lbfgs ......................\n",
      "[CV]  activation=relu, alpha=0.001, solver=lbfgs, score=0.606586, total=   0.0s\n",
      "[CV] activation=relu, alpha=0.001, solver=lbfgs ......................\n",
      "[CV]  activation=relu, alpha=0.001, solver=lbfgs, score=0.729298, total=   0.0s\n",
      "[CV] activation=relu, alpha=0.001, solver=sgd ........................\n",
      "[CV]  activation=relu, alpha=0.001, solver=sgd, score=-0.553889, total=   0.0s\n",
      "[CV] activation=relu, alpha=0.001, solver=sgd ........................\n",
      "[CV]  activation=relu, alpha=0.001, solver=sgd, score=-0.229562, total=   0.0s\n",
      "[CV] activation=relu, alpha=0.001, solver=sgd ........................\n",
      "[CV]  activation=relu, alpha=0.001, solver=sgd, score=-0.027058, total=   0.0s\n",
      "[CV] activation=relu, alpha=0.001, solver=sgd ........................\n",
      "[CV]  activation=relu, alpha=0.001, solver=sgd, score=0.326228, total=   0.0s\n",
      "[CV] activation=relu, alpha=0.001, solver=sgd ........................\n",
      "[CV]  activation=relu, alpha=0.001, solver=sgd, score=0.003240, total=   0.0s\n",
      "[CV] activation=relu, alpha=0.001, solver=adam .......................\n"
     ]
    },
    {
     "name": "stderr",
     "output_type": "stream",
     "text": [
      "C:\\Users\\Vu Anh Vinh\\Miniconda3\\envs\\thkstat\\lib\\site-packages\\sklearn\\neural_network\\multilayer_perceptron.py:563: ConvergenceWarning: Stochastic Optimizer: Maximum iterations reached and the optimization hasn't converged yet.\n",
      "  % (), ConvergenceWarning)\n",
      "C:\\Users\\Vu Anh Vinh\\Miniconda3\\envs\\thkstat\\lib\\site-packages\\sklearn\\neural_network\\multilayer_perceptron.py:563: ConvergenceWarning: Stochastic Optimizer: Maximum iterations reached and the optimization hasn't converged yet.\n",
      "  % (), ConvergenceWarning)\n"
     ]
    },
    {
     "name": "stdout",
     "output_type": "stream",
     "text": [
      "[CV]  activation=relu, alpha=0.001, solver=adam, score=-2.156885, total=   0.0s\n",
      "[CV] activation=relu, alpha=0.001, solver=adam .......................\n",
      "[CV]  activation=relu, alpha=0.001, solver=adam, score=-2.296541, total=   0.0s\n",
      "[CV] activation=relu, alpha=0.001, solver=adam .......................\n"
     ]
    },
    {
     "name": "stderr",
     "output_type": "stream",
     "text": [
      "C:\\Users\\Vu Anh Vinh\\Miniconda3\\envs\\thkstat\\lib\\site-packages\\sklearn\\neural_network\\multilayer_perceptron.py:563: ConvergenceWarning: Stochastic Optimizer: Maximum iterations reached and the optimization hasn't converged yet.\n",
      "  % (), ConvergenceWarning)\n",
      "C:\\Users\\Vu Anh Vinh\\Miniconda3\\envs\\thkstat\\lib\\site-packages\\sklearn\\neural_network\\multilayer_perceptron.py:563: ConvergenceWarning: Stochastic Optimizer: Maximum iterations reached and the optimization hasn't converged yet.\n",
      "  % (), ConvergenceWarning)\n"
     ]
    },
    {
     "name": "stdout",
     "output_type": "stream",
     "text": [
      "[CV]  activation=relu, alpha=0.001, solver=adam, score=-4.128918, total=   0.0s\n",
      "[CV] activation=relu, alpha=0.001, solver=adam .......................\n",
      "[CV]  activation=relu, alpha=0.001, solver=adam, score=-5.494237, total=   0.0s\n",
      "[CV] activation=relu, alpha=0.001, solver=adam .......................\n"
     ]
    },
    {
     "name": "stderr",
     "output_type": "stream",
     "text": [
      "C:\\Users\\Vu Anh Vinh\\Miniconda3\\envs\\thkstat\\lib\\site-packages\\sklearn\\neural_network\\multilayer_perceptron.py:563: ConvergenceWarning: Stochastic Optimizer: Maximum iterations reached and the optimization hasn't converged yet.\n",
      "  % (), ConvergenceWarning)\n"
     ]
    },
    {
     "name": "stdout",
     "output_type": "stream",
     "text": [
      "[CV]  activation=relu, alpha=0.001, solver=adam, score=-3.919704, total=   0.1s\n",
      "[CV] activation=relu, alpha=0.01, solver=lbfgs .......................\n",
      "[CV]  activation=relu, alpha=0.01, solver=lbfgs, score=0.406973, total=   0.0s\n",
      "[CV] activation=relu, alpha=0.01, solver=lbfgs .......................\n",
      "[CV]  activation=relu, alpha=0.01, solver=lbfgs, score=0.597934, total=   0.0s\n",
      "[CV] activation=relu, alpha=0.01, solver=lbfgs .......................\n",
      "[CV]  activation=relu, alpha=0.01, solver=lbfgs, score=0.795259, total=   0.0s\n",
      "[CV] activation=relu, alpha=0.01, solver=lbfgs .......................\n",
      "[CV]  activation=relu, alpha=0.01, solver=lbfgs, score=0.609263, total=   0.0s\n",
      "[CV] activation=relu, alpha=0.01, solver=lbfgs .......................\n",
      "[CV]  activation=relu, alpha=0.01, solver=lbfgs, score=0.834267, total=   0.0s\n",
      "[CV] activation=relu, alpha=0.01, solver=sgd .........................\n",
      "[CV]  activation=relu, alpha=0.01, solver=sgd, score=-0.366244, total=   0.0s\n",
      "[CV] activation=relu, alpha=0.01, solver=sgd .........................\n",
      "[CV]  activation=relu, alpha=0.01, solver=sgd, score=-0.051834, total=   0.0s\n",
      "[CV] activation=relu, alpha=0.01, solver=sgd .........................\n",
      "[CV]  activation=relu, alpha=0.01, solver=sgd, score=0.262138, total=   0.0s\n",
      "[CV] activation=relu, alpha=0.01, solver=sgd .........................\n",
      "[CV]  activation=relu, alpha=0.01, solver=sgd, score=0.034416, total=   0.0s\n",
      "[CV] activation=relu, alpha=0.01, solver=sgd .........................\n",
      "[CV]  activation=relu, alpha=0.01, solver=sgd, score=0.313152, total=   0.0s\n",
      "[CV] activation=relu, alpha=0.01, solver=adam ........................\n"
     ]
    },
    {
     "name": "stderr",
     "output_type": "stream",
     "text": [
      "C:\\Users\\Vu Anh Vinh\\Miniconda3\\envs\\thkstat\\lib\\site-packages\\sklearn\\neural_network\\multilayer_perceptron.py:563: ConvergenceWarning: Stochastic Optimizer: Maximum iterations reached and the optimization hasn't converged yet.\n",
      "  % (), ConvergenceWarning)\n",
      "C:\\Users\\Vu Anh Vinh\\Miniconda3\\envs\\thkstat\\lib\\site-packages\\sklearn\\neural_network\\multilayer_perceptron.py:563: ConvergenceWarning: Stochastic Optimizer: Maximum iterations reached and the optimization hasn't converged yet.\n",
      "  % (), ConvergenceWarning)\n"
     ]
    },
    {
     "name": "stdout",
     "output_type": "stream",
     "text": [
      "[CV]  activation=relu, alpha=0.01, solver=adam, score=-2.410968, total=   0.0s\n",
      "[CV] activation=relu, alpha=0.01, solver=adam ........................\n",
      "[CV]  activation=relu, alpha=0.01, solver=adam, score=-2.381745, total=   0.0s\n",
      "[CV] activation=relu, alpha=0.01, solver=adam ........................\n"
     ]
    },
    {
     "name": "stderr",
     "output_type": "stream",
     "text": [
      "C:\\Users\\Vu Anh Vinh\\Miniconda3\\envs\\thkstat\\lib\\site-packages\\sklearn\\neural_network\\multilayer_perceptron.py:563: ConvergenceWarning: Stochastic Optimizer: Maximum iterations reached and the optimization hasn't converged yet.\n",
      "  % (), ConvergenceWarning)\n",
      "C:\\Users\\Vu Anh Vinh\\Miniconda3\\envs\\thkstat\\lib\\site-packages\\sklearn\\neural_network\\multilayer_perceptron.py:563: ConvergenceWarning: Stochastic Optimizer: Maximum iterations reached and the optimization hasn't converged yet.\n",
      "  % (), ConvergenceWarning)\n"
     ]
    },
    {
     "name": "stdout",
     "output_type": "stream",
     "text": [
      "[CV]  activation=relu, alpha=0.01, solver=adam, score=-3.585404, total=   0.1s\n",
      "[CV] activation=relu, alpha=0.01, solver=adam ........................\n",
      "[CV]  activation=relu, alpha=0.01, solver=adam, score=-5.156330, total=   0.1s\n",
      "[CV] activation=relu, alpha=0.01, solver=adam ........................\n"
     ]
    },
    {
     "name": "stderr",
     "output_type": "stream",
     "text": [
      "C:\\Users\\Vu Anh Vinh\\Miniconda3\\envs\\thkstat\\lib\\site-packages\\sklearn\\neural_network\\multilayer_perceptron.py:563: ConvergenceWarning: Stochastic Optimizer: Maximum iterations reached and the optimization hasn't converged yet.\n",
      "  % (), ConvergenceWarning)\n"
     ]
    },
    {
     "name": "stdout",
     "output_type": "stream",
     "text": [
      "[CV]  activation=relu, alpha=0.01, solver=adam, score=-3.446129, total=   0.1s\n",
      "[CV] activation=relu, alpha=0.1, solver=lbfgs ........................\n",
      "[CV]  activation=relu, alpha=0.1, solver=lbfgs, score=0.437042, total=   0.0s\n",
      "[CV] activation=relu, alpha=0.1, solver=lbfgs ........................\n",
      "[CV]  activation=relu, alpha=0.1, solver=lbfgs, score=0.582784, total=   0.0s\n",
      "[CV] activation=relu, alpha=0.1, solver=lbfgs ........................\n",
      "[CV]  activation=relu, alpha=0.1, solver=lbfgs, score=0.677245, total=   0.0s\n",
      "[CV] activation=relu, alpha=0.1, solver=lbfgs ........................\n",
      "[CV]  activation=relu, alpha=0.1, solver=lbfgs, score=0.527733, total=   0.0s\n",
      "[CV] activation=relu, alpha=0.1, solver=lbfgs ........................\n",
      "[CV]  activation=relu, alpha=0.1, solver=lbfgs, score=0.754780, total=   0.0s\n",
      "[CV] activation=relu, alpha=0.1, solver=sgd ..........................\n",
      "[CV]  activation=relu, alpha=0.1, solver=sgd, score=-0.564438, total=   0.0s\n",
      "[CV] activation=relu, alpha=0.1, solver=sgd ..........................\n",
      "[CV]  activation=relu, alpha=0.1, solver=sgd, score=-0.436096, total=   0.0s\n",
      "[CV] activation=relu, alpha=0.1, solver=sgd ..........................\n",
      "[CV]  activation=relu, alpha=0.1, solver=sgd, score=-0.165512, total=   0.0s\n",
      "[CV] activation=relu, alpha=0.1, solver=sgd ..........................\n",
      "[CV]  activation=relu, alpha=0.1, solver=sgd, score=0.050440, total=   0.0s\n",
      "[CV] activation=relu, alpha=0.1, solver=sgd ..........................\n",
      "[CV]  activation=relu, alpha=0.1, solver=sgd, score=0.381954, total=   0.0s\n",
      "[CV] activation=relu, alpha=0.1, solver=adam .........................\n",
      "[CV]  activation=relu, alpha=0.1, solver=adam, score=-2.613510, total=   0.0s\n",
      "[CV] activation=relu, alpha=0.1, solver=adam .........................\n"
     ]
    },
    {
     "name": "stderr",
     "output_type": "stream",
     "text": [
      "C:\\Users\\Vu Anh Vinh\\Miniconda3\\envs\\thkstat\\lib\\site-packages\\sklearn\\neural_network\\multilayer_perceptron.py:563: ConvergenceWarning: Stochastic Optimizer: Maximum iterations reached and the optimization hasn't converged yet.\n",
      "  % (), ConvergenceWarning)\n",
      "C:\\Users\\Vu Anh Vinh\\Miniconda3\\envs\\thkstat\\lib\\site-packages\\sklearn\\neural_network\\multilayer_perceptron.py:563: ConvergenceWarning: Stochastic Optimizer: Maximum iterations reached and the optimization hasn't converged yet.\n",
      "  % (), ConvergenceWarning)\n"
     ]
    },
    {
     "name": "stdout",
     "output_type": "stream",
     "text": [
      "[CV]  activation=relu, alpha=0.1, solver=adam, score=-2.727372, total=   0.0s\n",
      "[CV] activation=relu, alpha=0.1, solver=adam .........................\n",
      "[CV]  activation=relu, alpha=0.1, solver=adam, score=-3.900617, total=   0.0s\n",
      "[CV] activation=relu, alpha=0.1, solver=adam .........................\n"
     ]
    },
    {
     "name": "stderr",
     "output_type": "stream",
     "text": [
      "C:\\Users\\Vu Anh Vinh\\Miniconda3\\envs\\thkstat\\lib\\site-packages\\sklearn\\neural_network\\multilayer_perceptron.py:563: ConvergenceWarning: Stochastic Optimizer: Maximum iterations reached and the optimization hasn't converged yet.\n",
      "  % (), ConvergenceWarning)\n",
      "C:\\Users\\Vu Anh Vinh\\Miniconda3\\envs\\thkstat\\lib\\site-packages\\sklearn\\neural_network\\multilayer_perceptron.py:563: ConvergenceWarning: Stochastic Optimizer: Maximum iterations reached and the optimization hasn't converged yet.\n",
      "  % (), ConvergenceWarning)\n",
      "C:\\Users\\Vu Anh Vinh\\Miniconda3\\envs\\thkstat\\lib\\site-packages\\sklearn\\neural_network\\multilayer_perceptron.py:563: ConvergenceWarning: Stochastic Optimizer: Maximum iterations reached and the optimization hasn't converged yet.\n",
      "  % (), ConvergenceWarning)\n"
     ]
    },
    {
     "name": "stdout",
     "output_type": "stream",
     "text": [
      "[CV]  activation=relu, alpha=0.1, solver=adam, score=-6.171607, total=   0.1s\n",
      "[CV] activation=relu, alpha=0.1, solver=adam .........................\n",
      "[CV]  activation=relu, alpha=0.1, solver=adam, score=-3.510745, total=   0.1s\n",
      "[CV] activation=relu, alpha=1.0, solver=lbfgs ........................\n",
      "[CV]  activation=relu, alpha=1.0, solver=lbfgs, score=0.485153, total=   0.0s\n",
      "[CV] activation=relu, alpha=1.0, solver=lbfgs ........................\n",
      "[CV]  activation=relu, alpha=1.0, solver=lbfgs, score=0.629827, total=   0.0s\n",
      "[CV] activation=relu, alpha=1.0, solver=lbfgs ........................\n",
      "[CV]  activation=relu, alpha=1.0, solver=lbfgs, score=0.722473, total=   0.0s\n",
      "[CV] activation=relu, alpha=1.0, solver=lbfgs ........................\n",
      "[CV]  activation=relu, alpha=1.0, solver=lbfgs, score=0.485382, total=   0.0s\n",
      "[CV] activation=relu, alpha=1.0, solver=lbfgs ........................\n",
      "[CV]  activation=relu, alpha=1.0, solver=lbfgs, score=0.733592, total=   0.0s\n",
      "[CV] activation=relu, alpha=1.0, solver=sgd ..........................\n",
      "[CV]  activation=relu, alpha=1.0, solver=sgd, score=-0.861804, total=   0.0s\n",
      "[CV] activation=relu, alpha=1.0, solver=sgd ..........................\n",
      "[CV]  activation=relu, alpha=1.0, solver=sgd, score=-0.039539, total=   0.0s\n",
      "[CV] activation=relu, alpha=1.0, solver=sgd ..........................\n",
      "[CV]  activation=relu, alpha=1.0, solver=sgd, score=0.059261, total=   0.0s\n",
      "[CV] activation=relu, alpha=1.0, solver=sgd ..........................\n",
      "[CV]  activation=relu, alpha=1.0, solver=sgd, score=0.220607, total=   0.0s\n",
      "[CV] activation=relu, alpha=1.0, solver=sgd ..........................\n",
      "[CV]  activation=relu, alpha=1.0, solver=sgd, score=0.377797, total=   0.0s\n",
      "[CV] activation=relu, alpha=1.0, solver=adam .........................\n"
     ]
    },
    {
     "name": "stderr",
     "output_type": "stream",
     "text": [
      "C:\\Users\\Vu Anh Vinh\\Miniconda3\\envs\\thkstat\\lib\\site-packages\\sklearn\\neural_network\\multilayer_perceptron.py:563: ConvergenceWarning: Stochastic Optimizer: Maximum iterations reached and the optimization hasn't converged yet.\n",
      "  % (), ConvergenceWarning)\n",
      "C:\\Users\\Vu Anh Vinh\\Miniconda3\\envs\\thkstat\\lib\\site-packages\\sklearn\\neural_network\\multilayer_perceptron.py:563: ConvergenceWarning: Stochastic Optimizer: Maximum iterations reached and the optimization hasn't converged yet.\n",
      "  % (), ConvergenceWarning)\n"
     ]
    },
    {
     "name": "stdout",
     "output_type": "stream",
     "text": [
      "[CV]  activation=relu, alpha=1.0, solver=adam, score=-2.377687, total=   0.0s\n",
      "[CV] activation=relu, alpha=1.0, solver=adam .........................\n",
      "[CV]  activation=relu, alpha=1.0, solver=adam, score=-3.273604, total=   0.0s\n",
      "[CV] activation=relu, alpha=1.0, solver=adam .........................\n"
     ]
    },
    {
     "name": "stderr",
     "output_type": "stream",
     "text": [
      "C:\\Users\\Vu Anh Vinh\\Miniconda3\\envs\\thkstat\\lib\\site-packages\\sklearn\\neural_network\\multilayer_perceptron.py:563: ConvergenceWarning: Stochastic Optimizer: Maximum iterations reached and the optimization hasn't converged yet.\n",
      "  % (), ConvergenceWarning)\n",
      "C:\\Users\\Vu Anh Vinh\\Miniconda3\\envs\\thkstat\\lib\\site-packages\\sklearn\\neural_network\\multilayer_perceptron.py:563: ConvergenceWarning: Stochastic Optimizer: Maximum iterations reached and the optimization hasn't converged yet.\n",
      "  % (), ConvergenceWarning)\n"
     ]
    },
    {
     "name": "stdout",
     "output_type": "stream",
     "text": [
      "[CV]  activation=relu, alpha=1.0, solver=adam, score=-4.102238, total=   0.1s\n",
      "[CV] activation=relu, alpha=1.0, solver=adam .........................\n",
      "[CV]  activation=relu, alpha=1.0, solver=adam, score=-4.761403, total=   0.1s\n",
      "[CV] activation=relu, alpha=1.0, solver=adam .........................\n"
     ]
    },
    {
     "name": "stderr",
     "output_type": "stream",
     "text": [
      "C:\\Users\\Vu Anh Vinh\\Miniconda3\\envs\\thkstat\\lib\\site-packages\\sklearn\\neural_network\\multilayer_perceptron.py:563: ConvergenceWarning: Stochastic Optimizer: Maximum iterations reached and the optimization hasn't converged yet.\n",
      "  % (), ConvergenceWarning)\n"
     ]
    },
    {
     "name": "stdout",
     "output_type": "stream",
     "text": [
      "[CV]  activation=relu, alpha=1.0, solver=adam, score=-3.062523, total=   0.0s\n",
      "[CV] activation=relu, alpha=10, solver=lbfgs .........................\n",
      "[CV]  activation=relu, alpha=10, solver=lbfgs, score=0.518022, total=   0.0s\n",
      "[CV] activation=relu, alpha=10, solver=lbfgs .........................\n",
      "[CV]  activation=relu, alpha=10, solver=lbfgs, score=0.630869, total=   0.0s\n",
      "[CV] activation=relu, alpha=10, solver=lbfgs .........................\n",
      "[CV]  activation=relu, alpha=10, solver=lbfgs, score=0.715614, total=   0.0s\n",
      "[CV] activation=relu, alpha=10, solver=lbfgs .........................\n",
      "[CV]  activation=relu, alpha=10, solver=lbfgs, score=0.580797, total=   0.0s\n",
      "[CV] activation=relu, alpha=10, solver=lbfgs .........................\n",
      "[CV]  activation=relu, alpha=10, solver=lbfgs, score=0.812735, total=   0.0s\n",
      "[CV] activation=relu, alpha=10, solver=sgd ...........................\n",
      "[CV]  activation=relu, alpha=10, solver=sgd, score=-0.844188, total=   0.0s\n",
      "[CV] activation=relu, alpha=10, solver=sgd ...........................\n",
      "[CV]  activation=relu, alpha=10, solver=sgd, score=-0.037469, total=   0.0s\n",
      "[CV] activation=relu, alpha=10, solver=sgd ...........................\n",
      "[CV]  activation=relu, alpha=10, solver=sgd, score=0.020300, total=   0.0s\n",
      "[CV] activation=relu, alpha=10, solver=sgd ...........................\n",
      "[CV]  activation=relu, alpha=10, solver=sgd, score=0.297463, total=   0.0s\n",
      "[CV] activation=relu, alpha=10, solver=sgd ...........................\n",
      "[CV]  activation=relu, alpha=10, solver=sgd, score=0.375747, total=   0.0s\n",
      "[CV] activation=relu, alpha=10, solver=adam ..........................\n",
      "[CV]  activation=relu, alpha=10, solver=adam, score=-2.140968, total=   0.0s\n",
      "[CV] activation=relu, alpha=10, solver=adam ..........................\n"
     ]
    },
    {
     "name": "stderr",
     "output_type": "stream",
     "text": [
      "C:\\Users\\Vu Anh Vinh\\Miniconda3\\envs\\thkstat\\lib\\site-packages\\sklearn\\neural_network\\multilayer_perceptron.py:563: ConvergenceWarning: Stochastic Optimizer: Maximum iterations reached and the optimization hasn't converged yet.\n",
      "  % (), ConvergenceWarning)\n",
      "C:\\Users\\Vu Anh Vinh\\Miniconda3\\envs\\thkstat\\lib\\site-packages\\sklearn\\neural_network\\multilayer_perceptron.py:563: ConvergenceWarning: Stochastic Optimizer: Maximum iterations reached and the optimization hasn't converged yet.\n",
      "  % (), ConvergenceWarning)\n"
     ]
    },
    {
     "name": "stdout",
     "output_type": "stream",
     "text": [
      "[CV]  activation=relu, alpha=10, solver=adam, score=-3.469907, total=   0.1s\n",
      "[CV] activation=relu, alpha=10, solver=adam ..........................\n",
      "[CV]  activation=relu, alpha=10, solver=adam, score=-4.115474, total=   0.1s\n",
      "[CV] activation=relu, alpha=10, solver=adam ..........................\n"
     ]
    },
    {
     "name": "stderr",
     "output_type": "stream",
     "text": [
      "C:\\Users\\Vu Anh Vinh\\Miniconda3\\envs\\thkstat\\lib\\site-packages\\sklearn\\neural_network\\multilayer_perceptron.py:563: ConvergenceWarning: Stochastic Optimizer: Maximum iterations reached and the optimization hasn't converged yet.\n",
      "  % (), ConvergenceWarning)\n",
      "C:\\Users\\Vu Anh Vinh\\Miniconda3\\envs\\thkstat\\lib\\site-packages\\sklearn\\neural_network\\multilayer_perceptron.py:563: ConvergenceWarning: Stochastic Optimizer: Maximum iterations reached and the optimization hasn't converged yet.\n",
      "  % (), ConvergenceWarning)\n",
      "C:\\Users\\Vu Anh Vinh\\Miniconda3\\envs\\thkstat\\lib\\site-packages\\sklearn\\neural_network\\multilayer_perceptron.py:563: ConvergenceWarning: Stochastic Optimizer: Maximum iterations reached and the optimization hasn't converged yet.\n",
      "  % (), ConvergenceWarning)\n"
     ]
    },
    {
     "name": "stdout",
     "output_type": "stream",
     "text": [
      "[CV]  activation=relu, alpha=10, solver=adam, score=-5.821982, total=   0.1s\n",
      "[CV] activation=relu, alpha=10, solver=adam ..........................\n",
      "[CV]  activation=relu, alpha=10, solver=adam, score=-2.685431, total=   0.0s\n",
      "[CV] activation=relu, alpha=100, solver=lbfgs ........................\n",
      "[CV]  activation=relu, alpha=100, solver=lbfgs, score=0.566055, total=   0.0s\n",
      "[CV] activation=relu, alpha=100, solver=lbfgs ........................\n",
      "[CV]  activation=relu, alpha=100, solver=lbfgs, score=0.597545, total=   0.0s\n",
      "[CV] activation=relu, alpha=100, solver=lbfgs ........................\n",
      "[CV]  activation=relu, alpha=100, solver=lbfgs, score=0.616033, total=   0.0s\n",
      "[CV] activation=relu, alpha=100, solver=lbfgs ........................\n",
      "[CV]  activation=relu, alpha=100, solver=lbfgs, score=0.575169, total=   0.0s\n",
      "[CV] activation=relu, alpha=100, solver=lbfgs ........................\n",
      "[CV]  activation=relu, alpha=100, solver=lbfgs, score=0.666581, total=   0.0s\n",
      "[CV] activation=relu, alpha=100, solver=sgd ..........................\n",
      "[CV]  activation=relu, alpha=100, solver=sgd, score=-0.384860, total=   0.0s\n",
      "[CV] activation=relu, alpha=100, solver=sgd ..........................\n",
      "[CV]  activation=relu, alpha=100, solver=sgd, score=-0.520741, total=   0.0s\n",
      "[CV] activation=relu, alpha=100, solver=sgd ..........................\n",
      "[CV]  activation=relu, alpha=100, solver=sgd, score=-0.059878, total=   0.0s\n",
      "[CV] activation=relu, alpha=100, solver=sgd ..........................\n",
      "[CV]  activation=relu, alpha=100, solver=sgd, score=0.395712, total=   0.0s\n",
      "[CV] activation=relu, alpha=100, solver=sgd ..........................\n",
      "[CV]  activation=relu, alpha=100, solver=sgd, score=0.345273, total=   0.0s\n",
      "[CV] activation=relu, alpha=100, solver=adam .........................\n",
      "[CV]  activation=relu, alpha=100, solver=adam, score=-2.413930, total=   0.0s\n",
      "[CV] activation=relu, alpha=100, solver=adam .........................\n"
     ]
    },
    {
     "name": "stderr",
     "output_type": "stream",
     "text": [
      "C:\\Users\\Vu Anh Vinh\\Miniconda3\\envs\\thkstat\\lib\\site-packages\\sklearn\\neural_network\\multilayer_perceptron.py:563: ConvergenceWarning: Stochastic Optimizer: Maximum iterations reached and the optimization hasn't converged yet.\n",
      "  % (), ConvergenceWarning)\n",
      "C:\\Users\\Vu Anh Vinh\\Miniconda3\\envs\\thkstat\\lib\\site-packages\\sklearn\\neural_network\\multilayer_perceptron.py:563: ConvergenceWarning: Stochastic Optimizer: Maximum iterations reached and the optimization hasn't converged yet.\n",
      "  % (), ConvergenceWarning)\n"
     ]
    },
    {
     "name": "stdout",
     "output_type": "stream",
     "text": [
      "[CV]  activation=relu, alpha=100, solver=adam, score=-3.736778, total=   0.0s\n",
      "[CV] activation=relu, alpha=100, solver=adam .........................\n",
      "[CV]  activation=relu, alpha=100, solver=adam, score=-4.318110, total=   0.0s\n",
      "[CV] activation=relu, alpha=100, solver=adam .........................\n"
     ]
    },
    {
     "name": "stderr",
     "output_type": "stream",
     "text": [
      "C:\\Users\\Vu Anh Vinh\\Miniconda3\\envs\\thkstat\\lib\\site-packages\\sklearn\\neural_network\\multilayer_perceptron.py:563: ConvergenceWarning: Stochastic Optimizer: Maximum iterations reached and the optimization hasn't converged yet.\n",
      "  % (), ConvergenceWarning)\n",
      "C:\\Users\\Vu Anh Vinh\\Miniconda3\\envs\\thkstat\\lib\\site-packages\\sklearn\\neural_network\\multilayer_perceptron.py:563: ConvergenceWarning: Stochastic Optimizer: Maximum iterations reached and the optimization hasn't converged yet.\n",
      "  % (), ConvergenceWarning)\n"
     ]
    },
    {
     "name": "stdout",
     "output_type": "stream",
     "text": [
      "[CV]  activation=relu, alpha=100, solver=adam, score=-5.792581, total=   0.0s\n",
      "[CV] activation=relu, alpha=100, solver=adam .........................\n",
      "[CV]  activation=relu, alpha=100, solver=adam, score=-3.001927, total=   0.0s\n",
      "Best hyper parameters: {'activation': 'identity', 'alpha': 10, 'solver': 'lbfgs'}\n",
      "Best score of this configuration: 0.656367862492\n"
     ]
    },
    {
     "name": "stderr",
     "output_type": "stream",
     "text": [
      "C:\\Users\\Vu Anh Vinh\\Miniconda3\\envs\\thkstat\\lib\\site-packages\\sklearn\\neural_network\\multilayer_perceptron.py:563: ConvergenceWarning: Stochastic Optimizer: Maximum iterations reached and the optimization hasn't converged yet.\n",
      "  % (), ConvergenceWarning)\n",
      "[Parallel(n_jobs=1)]: Done 360 out of 360 | elapsed:   29.8s finished\n"
     ]
    },
    {
     "name": "stdout",
     "output_type": "stream",
     "text": [
      "max score: 0.741\n",
      "                  predicted value\ttrue value \n",
      "student  5\t\t55.760\t\t49.000\n",
      "student 13\t\t69.695\t\t58.000\n",
      "student 15\t\t64.536\t\t75.000\n",
      "student 18\t\t18.221\t\t0.000\n",
      "student 20\t\t65.545\t\t71.000\n",
      "student 21\t\t76.709\t\t81.000\n",
      "student 25\t\t56.403\t\t36.000\n",
      "student 34\t\t47.451\t\t38.000\n",
      "student 35\t\t55.610\t\t73.000\n",
      "student 36\t\t49.786\t\t43.000\n",
      "student 39\t\t32.372\t\t37.000\n",
      "student 40\t\t64.251\t\t65.000\n",
      "student 49\t\t56.029\t\t49.000\n",
      "student 52\t\t54.034\t\t56.000\n",
      "student 53\t\t49.848\t\t39.000\n",
      "student 57\t\t66.126\t\t77.000\n",
      "student 62\t\t19.257\t\t0.000\n",
      "student 65\t\t48.648\t\t52.000\n",
      "student 69\t\t55.942\t\t55.000\n",
      "student 74\t\t51.724\t\t44.000\n",
      "student 79\t\t68.866\t\t90.000\n",
      "student 80\t\t39.051\t\t35.000\n",
      "student 86\t\t53.097\t\t40.000\n",
      "Grid search for... K Nearest Neighbors\n",
      "KNeighborsRegressor(algorithm='auto', leaf_size=30, metric='minkowski',\n",
      "          metric_params=None, n_jobs=1, n_neighbors=5, p=2,\n",
      "          weights='uniform')\n",
      "Fitting 5 folds for each of 2 candidates, totalling 10 fits\n",
      "[CV] weights=uniform .................................................\n",
      "[CV] .................. weights=uniform, score=0.587589, total=   0.0s\n",
      "[CV] weights=uniform .................................................\n",
      "[CV] .................. weights=uniform, score=0.408136, total=   0.0s\n",
      "[CV] weights=uniform .................................................\n",
      "[CV] .................. weights=uniform, score=0.656627, total=   0.0s\n",
      "[CV] weights=uniform .................................................\n",
      "[CV] .................. weights=uniform, score=0.684907, total=   0.0s\n",
      "[CV] weights=uniform .................................................\n",
      "[CV] .................. weights=uniform, score=0.588127, total=   0.0s\n",
      "[CV] weights=distance ................................................\n",
      "[CV] ................. weights=distance, score=0.641899, total=   0.0s\n",
      "[CV] weights=distance ................................................\n",
      "[CV] ................. weights=distance, score=0.427555, total=   0.0s\n",
      "[CV] weights=distance ................................................\n",
      "[CV] ................. weights=distance, score=0.677288, total=   0.0s\n",
      "[CV] weights=distance ................................................\n",
      "[CV] ................. weights=distance, score=0.707371, total=   0.0s\n",
      "[CV] weights=distance ................................................\n",
      "[CV] ................. weights=distance, score=0.563926, total=   0.0s\n",
      "Best hyper parameters: {'weights': 'distance'}\n",
      "Best score of this configuration: 0.604028512835\n",
      "max score: 0.774\n",
      "                  predicted value\ttrue value \n",
      "student  8\t\t81.059\t\t90.000\n",
      "student 17\t\t57.691\t\t61.000\n",
      "student 19\t\t36.554\t\t36.000\n",
      "student 22\t\t45.814\t\t42.000\n",
      "student 23\t\t53.610\t\t69.000\n",
      "student 24\t\t37.799\t\t43.000\n",
      "student 28\t\t53.589\t\t39.000\n",
      "student 32\t\t56.738\t\t60.000\n",
      "student 34\t\t50.994\t\t38.000\n",
      "student 43\t\t13.955\t\t9.000\n",
      "student 49\t\t54.831\t\t49.000\n",
      "student 55\t\t56.317\t\t59.000\n",
      "student 56\t\t52.047\t\t61.000\n",
      "student 64\t\t61.976\t\t75.000\n",
      "student 67\t\t51.877\t\t62.000\n",
      "student 69\t\t47.681\t\t55.000\n",
      "student 70\t\t57.253\t\t66.000\n",
      "student 73\t\t52.006\t\t44.000\n",
      "student 78\t\t45.874\t\t43.000\n",
      "student 79\t\t72.106\t\t90.000\n",
      "student 83\t\t50.503\t\t47.000\n",
      "student 86\t\t43.126\t\t40.000\n",
      "student 87\t\t75.374\t\t75.000\n",
      "average cv score:[ 0.69020163  0.61929108  0.64495818  0.51411886  0.6368832   0.65636786\n",
      "  0.60402851]\n",
      "average prediction variability:[ 0.7682738   0.74050363  0.7524002   0.75581958  0.79198296  0.74144306\n",
      "  0.77447255]\n"
     ]
    },
    {
     "name": "stderr",
     "output_type": "stream",
     "text": [
      "C:\\Users\\Vu Anh Vinh\\Miniconda3\\envs\\thkstat\\lib\\site-packages\\sklearn\\utils\\validation.py:395: DeprecationWarning: Passing 1d arrays as data is deprecated in 0.17 and will raise ValueError in 0.19. Reshape your data either using X.reshape(-1, 1) if your data has a single feature or X.reshape(1, -1) if it contains a single sample.\n",
      "  DeprecationWarning)\n",
      "C:\\Users\\Vu Anh Vinh\\Miniconda3\\envs\\thkstat\\lib\\site-packages\\sklearn\\utils\\validation.py:395: DeprecationWarning: Passing 1d arrays as data is deprecated in 0.17 and will raise ValueError in 0.19. Reshape your data either using X.reshape(-1, 1) if your data has a single feature or X.reshape(1, -1) if it contains a single sample.\n",
      "  DeprecationWarning)\n",
      "C:\\Users\\Vu Anh Vinh\\Miniconda3\\envs\\thkstat\\lib\\site-packages\\sklearn\\utils\\validation.py:395: DeprecationWarning: Passing 1d arrays as data is deprecated in 0.17 and will raise ValueError in 0.19. Reshape your data either using X.reshape(-1, 1) if your data has a single feature or X.reshape(1, -1) if it contains a single sample.\n",
      "  DeprecationWarning)\n",
      "C:\\Users\\Vu Anh Vinh\\Miniconda3\\envs\\thkstat\\lib\\site-packages\\sklearn\\utils\\validation.py:395: DeprecationWarning: Passing 1d arrays as data is deprecated in 0.17 and will raise ValueError in 0.19. Reshape your data either using X.reshape(-1, 1) if your data has a single feature or X.reshape(1, -1) if it contains a single sample.\n",
      "  DeprecationWarning)\n",
      "C:\\Users\\Vu Anh Vinh\\Miniconda3\\envs\\thkstat\\lib\\site-packages\\sklearn\\utils\\validation.py:395: DeprecationWarning: Passing 1d arrays as data is deprecated in 0.17 and will raise ValueError in 0.19. Reshape your data either using X.reshape(-1, 1) if your data has a single feature or X.reshape(1, -1) if it contains a single sample.\n",
      "  DeprecationWarning)\n",
      "C:\\Users\\Vu Anh Vinh\\Miniconda3\\envs\\thkstat\\lib\\site-packages\\sklearn\\utils\\validation.py:395: DeprecationWarning: Passing 1d arrays as data is deprecated in 0.17 and will raise ValueError in 0.19. Reshape your data either using X.reshape(-1, 1) if your data has a single feature or X.reshape(1, -1) if it contains a single sample.\n",
      "  DeprecationWarning)\n",
      "C:\\Users\\Vu Anh Vinh\\Miniconda3\\envs\\thkstat\\lib\\site-packages\\sklearn\\utils\\validation.py:395: DeprecationWarning: Passing 1d arrays as data is deprecated in 0.17 and will raise ValueError in 0.19. Reshape your data either using X.reshape(-1, 1) if your data has a single feature or X.reshape(1, -1) if it contains a single sample.\n",
      "  DeprecationWarning)\n",
      "C:\\Users\\Vu Anh Vinh\\Miniconda3\\envs\\thkstat\\lib\\site-packages\\sklearn\\utils\\validation.py:395: DeprecationWarning: Passing 1d arrays as data is deprecated in 0.17 and will raise ValueError in 0.19. Reshape your data either using X.reshape(-1, 1) if your data has a single feature or X.reshape(1, -1) if it contains a single sample.\n",
      "  DeprecationWarning)\n",
      "C:\\Users\\Vu Anh Vinh\\Miniconda3\\envs\\thkstat\\lib\\site-packages\\sklearn\\utils\\validation.py:395: DeprecationWarning: Passing 1d arrays as data is deprecated in 0.17 and will raise ValueError in 0.19. Reshape your data either using X.reshape(-1, 1) if your data has a single feature or X.reshape(1, -1) if it contains a single sample.\n",
      "  DeprecationWarning)\n",
      "C:\\Users\\Vu Anh Vinh\\Miniconda3\\envs\\thkstat\\lib\\site-packages\\sklearn\\utils\\validation.py:395: DeprecationWarning: Passing 1d arrays as data is deprecated in 0.17 and will raise ValueError in 0.19. Reshape your data either using X.reshape(-1, 1) if your data has a single feature or X.reshape(1, -1) if it contains a single sample.\n",
      "  DeprecationWarning)\n",
      "C:\\Users\\Vu Anh Vinh\\Miniconda3\\envs\\thkstat\\lib\\site-packages\\sklearn\\utils\\validation.py:395: DeprecationWarning: Passing 1d arrays as data is deprecated in 0.17 and will raise ValueError in 0.19. Reshape your data either using X.reshape(-1, 1) if your data has a single feature or X.reshape(1, -1) if it contains a single sample.\n",
      "  DeprecationWarning)\n",
      "C:\\Users\\Vu Anh Vinh\\Miniconda3\\envs\\thkstat\\lib\\site-packages\\sklearn\\utils\\validation.py:395: DeprecationWarning: Passing 1d arrays as data is deprecated in 0.17 and will raise ValueError in 0.19. Reshape your data either using X.reshape(-1, 1) if your data has a single feature or X.reshape(1, -1) if it contains a single sample.\n",
      "  DeprecationWarning)\n",
      "C:\\Users\\Vu Anh Vinh\\Miniconda3\\envs\\thkstat\\lib\\site-packages\\sklearn\\utils\\validation.py:395: DeprecationWarning: Passing 1d arrays as data is deprecated in 0.17 and will raise ValueError in 0.19. Reshape your data either using X.reshape(-1, 1) if your data has a single feature or X.reshape(1, -1) if it contains a single sample.\n",
      "  DeprecationWarning)\n",
      "C:\\Users\\Vu Anh Vinh\\Miniconda3\\envs\\thkstat\\lib\\site-packages\\sklearn\\utils\\validation.py:395: DeprecationWarning: Passing 1d arrays as data is deprecated in 0.17 and will raise ValueError in 0.19. Reshape your data either using X.reshape(-1, 1) if your data has a single feature or X.reshape(1, -1) if it contains a single sample.\n",
      "  DeprecationWarning)\n",
      "C:\\Users\\Vu Anh Vinh\\Miniconda3\\envs\\thkstat\\lib\\site-packages\\sklearn\\utils\\validation.py:395: DeprecationWarning: Passing 1d arrays as data is deprecated in 0.17 and will raise ValueError in 0.19. Reshape your data either using X.reshape(-1, 1) if your data has a single feature or X.reshape(1, -1) if it contains a single sample.\n",
      "  DeprecationWarning)\n",
      "C:\\Users\\Vu Anh Vinh\\Miniconda3\\envs\\thkstat\\lib\\site-packages\\sklearn\\utils\\validation.py:395: DeprecationWarning: Passing 1d arrays as data is deprecated in 0.17 and will raise ValueError in 0.19. Reshape your data either using X.reshape(-1, 1) if your data has a single feature or X.reshape(1, -1) if it contains a single sample.\n",
      "  DeprecationWarning)\n",
      "C:\\Users\\Vu Anh Vinh\\Miniconda3\\envs\\thkstat\\lib\\site-packages\\sklearn\\utils\\validation.py:395: DeprecationWarning: Passing 1d arrays as data is deprecated in 0.17 and will raise ValueError in 0.19. Reshape your data either using X.reshape(-1, 1) if your data has a single feature or X.reshape(1, -1) if it contains a single sample.\n",
      "  DeprecationWarning)\n",
      "C:\\Users\\Vu Anh Vinh\\Miniconda3\\envs\\thkstat\\lib\\site-packages\\sklearn\\utils\\validation.py:395: DeprecationWarning: Passing 1d arrays as data is deprecated in 0.17 and will raise ValueError in 0.19. Reshape your data either using X.reshape(-1, 1) if your data has a single feature or X.reshape(1, -1) if it contains a single sample.\n",
      "  DeprecationWarning)\n",
      "C:\\Users\\Vu Anh Vinh\\Miniconda3\\envs\\thkstat\\lib\\site-packages\\sklearn\\utils\\validation.py:395: DeprecationWarning: Passing 1d arrays as data is deprecated in 0.17 and will raise ValueError in 0.19. Reshape your data either using X.reshape(-1, 1) if your data has a single feature or X.reshape(1, -1) if it contains a single sample.\n",
      "  DeprecationWarning)\n",
      "C:\\Users\\Vu Anh Vinh\\Miniconda3\\envs\\thkstat\\lib\\site-packages\\sklearn\\utils\\validation.py:395: DeprecationWarning: Passing 1d arrays as data is deprecated in 0.17 and will raise ValueError in 0.19. Reshape your data either using X.reshape(-1, 1) if your data has a single feature or X.reshape(1, -1) if it contains a single sample.\n",
      "  DeprecationWarning)\n",
      "C:\\Users\\Vu Anh Vinh\\Miniconda3\\envs\\thkstat\\lib\\site-packages\\sklearn\\utils\\validation.py:395: DeprecationWarning: Passing 1d arrays as data is deprecated in 0.17 and will raise ValueError in 0.19. Reshape your data either using X.reshape(-1, 1) if your data has a single feature or X.reshape(1, -1) if it contains a single sample.\n",
      "  DeprecationWarning)\n",
      "C:\\Users\\Vu Anh Vinh\\Miniconda3\\envs\\thkstat\\lib\\site-packages\\sklearn\\utils\\validation.py:395: DeprecationWarning: Passing 1d arrays as data is deprecated in 0.17 and will raise ValueError in 0.19. Reshape your data either using X.reshape(-1, 1) if your data has a single feature or X.reshape(1, -1) if it contains a single sample.\n",
      "  DeprecationWarning)\n",
      "C:\\Users\\Vu Anh Vinh\\Miniconda3\\envs\\thkstat\\lib\\site-packages\\sklearn\\utils\\validation.py:395: DeprecationWarning: Passing 1d arrays as data is deprecated in 0.17 and will raise ValueError in 0.19. Reshape your data either using X.reshape(-1, 1) if your data has a single feature or X.reshape(1, -1) if it contains a single sample.\n",
      "  DeprecationWarning)\n",
      "[Parallel(n_jobs=1)]: Done   1 out of   1 | elapsed:    0.0s remaining:    0.0s\n",
      "[Parallel(n_jobs=1)]: Done   2 out of   2 | elapsed:    0.0s remaining:    0.0s\n",
      "[Parallel(n_jobs=1)]: Done   3 out of   3 | elapsed:    0.0s remaining:    0.0s\n",
      "[Parallel(n_jobs=1)]: Done  10 out of  10 | elapsed:    0.0s finished\n",
      "C:\\Users\\Vu Anh Vinh\\Miniconda3\\envs\\thkstat\\lib\\site-packages\\sklearn\\utils\\validation.py:395: DeprecationWarning: Passing 1d arrays as data is deprecated in 0.17 and will raise ValueError in 0.19. Reshape your data either using X.reshape(-1, 1) if your data has a single feature or X.reshape(1, -1) if it contains a single sample.\n",
      "  DeprecationWarning)\n",
      "C:\\Users\\Vu Anh Vinh\\Miniconda3\\envs\\thkstat\\lib\\site-packages\\sklearn\\utils\\validation.py:395: DeprecationWarning: Passing 1d arrays as data is deprecated in 0.17 and will raise ValueError in 0.19. Reshape your data either using X.reshape(-1, 1) if your data has a single feature or X.reshape(1, -1) if it contains a single sample.\n",
      "  DeprecationWarning)\n",
      "C:\\Users\\Vu Anh Vinh\\Miniconda3\\envs\\thkstat\\lib\\site-packages\\sklearn\\utils\\validation.py:395: DeprecationWarning: Passing 1d arrays as data is deprecated in 0.17 and will raise ValueError in 0.19. Reshape your data either using X.reshape(-1, 1) if your data has a single feature or X.reshape(1, -1) if it contains a single sample.\n",
      "  DeprecationWarning)\n",
      "C:\\Users\\Vu Anh Vinh\\Miniconda3\\envs\\thkstat\\lib\\site-packages\\sklearn\\utils\\validation.py:395: DeprecationWarning: Passing 1d arrays as data is deprecated in 0.17 and will raise ValueError in 0.19. Reshape your data either using X.reshape(-1, 1) if your data has a single feature or X.reshape(1, -1) if it contains a single sample.\n",
      "  DeprecationWarning)\n",
      "C:\\Users\\Vu Anh Vinh\\Miniconda3\\envs\\thkstat\\lib\\site-packages\\sklearn\\utils\\validation.py:395: DeprecationWarning: Passing 1d arrays as data is deprecated in 0.17 and will raise ValueError in 0.19. Reshape your data either using X.reshape(-1, 1) if your data has a single feature or X.reshape(1, -1) if it contains a single sample.\n",
      "  DeprecationWarning)\n",
      "C:\\Users\\Vu Anh Vinh\\Miniconda3\\envs\\thkstat\\lib\\site-packages\\sklearn\\utils\\validation.py:395: DeprecationWarning: Passing 1d arrays as data is deprecated in 0.17 and will raise ValueError in 0.19. Reshape your data either using X.reshape(-1, 1) if your data has a single feature or X.reshape(1, -1) if it contains a single sample.\n",
      "  DeprecationWarning)\n",
      "C:\\Users\\Vu Anh Vinh\\Miniconda3\\envs\\thkstat\\lib\\site-packages\\sklearn\\utils\\validation.py:395: DeprecationWarning: Passing 1d arrays as data is deprecated in 0.17 and will raise ValueError in 0.19. Reshape your data either using X.reshape(-1, 1) if your data has a single feature or X.reshape(1, -1) if it contains a single sample.\n",
      "  DeprecationWarning)\n",
      "C:\\Users\\Vu Anh Vinh\\Miniconda3\\envs\\thkstat\\lib\\site-packages\\sklearn\\utils\\validation.py:395: DeprecationWarning: Passing 1d arrays as data is deprecated in 0.17 and will raise ValueError in 0.19. Reshape your data either using X.reshape(-1, 1) if your data has a single feature or X.reshape(1, -1) if it contains a single sample.\n",
      "  DeprecationWarning)\n",
      "C:\\Users\\Vu Anh Vinh\\Miniconda3\\envs\\thkstat\\lib\\site-packages\\sklearn\\utils\\validation.py:395: DeprecationWarning: Passing 1d arrays as data is deprecated in 0.17 and will raise ValueError in 0.19. Reshape your data either using X.reshape(-1, 1) if your data has a single feature or X.reshape(1, -1) if it contains a single sample.\n",
      "  DeprecationWarning)\n",
      "C:\\Users\\Vu Anh Vinh\\Miniconda3\\envs\\thkstat\\lib\\site-packages\\sklearn\\utils\\validation.py:395: DeprecationWarning: Passing 1d arrays as data is deprecated in 0.17 and will raise ValueError in 0.19. Reshape your data either using X.reshape(-1, 1) if your data has a single feature or X.reshape(1, -1) if it contains a single sample.\n",
      "  DeprecationWarning)\n",
      "C:\\Users\\Vu Anh Vinh\\Miniconda3\\envs\\thkstat\\lib\\site-packages\\sklearn\\utils\\validation.py:395: DeprecationWarning: Passing 1d arrays as data is deprecated in 0.17 and will raise ValueError in 0.19. Reshape your data either using X.reshape(-1, 1) if your data has a single feature or X.reshape(1, -1) if it contains a single sample.\n",
      "  DeprecationWarning)\n",
      "C:\\Users\\Vu Anh Vinh\\Miniconda3\\envs\\thkstat\\lib\\site-packages\\sklearn\\utils\\validation.py:395: DeprecationWarning: Passing 1d arrays as data is deprecated in 0.17 and will raise ValueError in 0.19. Reshape your data either using X.reshape(-1, 1) if your data has a single feature or X.reshape(1, -1) if it contains a single sample.\n",
      "  DeprecationWarning)\n",
      "C:\\Users\\Vu Anh Vinh\\Miniconda3\\envs\\thkstat\\lib\\site-packages\\sklearn\\utils\\validation.py:395: DeprecationWarning: Passing 1d arrays as data is deprecated in 0.17 and will raise ValueError in 0.19. Reshape your data either using X.reshape(-1, 1) if your data has a single feature or X.reshape(1, -1) if it contains a single sample.\n",
      "  DeprecationWarning)\n",
      "C:\\Users\\Vu Anh Vinh\\Miniconda3\\envs\\thkstat\\lib\\site-packages\\sklearn\\utils\\validation.py:395: DeprecationWarning: Passing 1d arrays as data is deprecated in 0.17 and will raise ValueError in 0.19. Reshape your data either using X.reshape(-1, 1) if your data has a single feature or X.reshape(1, -1) if it contains a single sample.\n",
      "  DeprecationWarning)\n",
      "C:\\Users\\Vu Anh Vinh\\Miniconda3\\envs\\thkstat\\lib\\site-packages\\sklearn\\utils\\validation.py:395: DeprecationWarning: Passing 1d arrays as data is deprecated in 0.17 and will raise ValueError in 0.19. Reshape your data either using X.reshape(-1, 1) if your data has a single feature or X.reshape(1, -1) if it contains a single sample.\n",
      "  DeprecationWarning)\n",
      "C:\\Users\\Vu Anh Vinh\\Miniconda3\\envs\\thkstat\\lib\\site-packages\\sklearn\\utils\\validation.py:395: DeprecationWarning: Passing 1d arrays as data is deprecated in 0.17 and will raise ValueError in 0.19. Reshape your data either using X.reshape(-1, 1) if your data has a single feature or X.reshape(1, -1) if it contains a single sample.\n",
      "  DeprecationWarning)\n",
      "C:\\Users\\Vu Anh Vinh\\Miniconda3\\envs\\thkstat\\lib\\site-packages\\sklearn\\utils\\validation.py:395: DeprecationWarning: Passing 1d arrays as data is deprecated in 0.17 and will raise ValueError in 0.19. Reshape your data either using X.reshape(-1, 1) if your data has a single feature or X.reshape(1, -1) if it contains a single sample.\n",
      "  DeprecationWarning)\n",
      "C:\\Users\\Vu Anh Vinh\\Miniconda3\\envs\\thkstat\\lib\\site-packages\\sklearn\\utils\\validation.py:395: DeprecationWarning: Passing 1d arrays as data is deprecated in 0.17 and will raise ValueError in 0.19. Reshape your data either using X.reshape(-1, 1) if your data has a single feature or X.reshape(1, -1) if it contains a single sample.\n",
      "  DeprecationWarning)\n",
      "C:\\Users\\Vu Anh Vinh\\Miniconda3\\envs\\thkstat\\lib\\site-packages\\sklearn\\utils\\validation.py:395: DeprecationWarning: Passing 1d arrays as data is deprecated in 0.17 and will raise ValueError in 0.19. Reshape your data either using X.reshape(-1, 1) if your data has a single feature or X.reshape(1, -1) if it contains a single sample.\n",
      "  DeprecationWarning)\n",
      "C:\\Users\\Vu Anh Vinh\\Miniconda3\\envs\\thkstat\\lib\\site-packages\\sklearn\\utils\\validation.py:395: DeprecationWarning: Passing 1d arrays as data is deprecated in 0.17 and will raise ValueError in 0.19. Reshape your data either using X.reshape(-1, 1) if your data has a single feature or X.reshape(1, -1) if it contains a single sample.\n",
      "  DeprecationWarning)\n",
      "C:\\Users\\Vu Anh Vinh\\Miniconda3\\envs\\thkstat\\lib\\site-packages\\sklearn\\utils\\validation.py:395: DeprecationWarning: Passing 1d arrays as data is deprecated in 0.17 and will raise ValueError in 0.19. Reshape your data either using X.reshape(-1, 1) if your data has a single feature or X.reshape(1, -1) if it contains a single sample.\n",
      "  DeprecationWarning)\n",
      "C:\\Users\\Vu Anh Vinh\\Miniconda3\\envs\\thkstat\\lib\\site-packages\\sklearn\\utils\\validation.py:395: DeprecationWarning: Passing 1d arrays as data is deprecated in 0.17 and will raise ValueError in 0.19. Reshape your data either using X.reshape(-1, 1) if your data has a single feature or X.reshape(1, -1) if it contains a single sample.\n",
      "  DeprecationWarning)\n",
      "C:\\Users\\Vu Anh Vinh\\Miniconda3\\envs\\thkstat\\lib\\site-packages\\sklearn\\utils\\validation.py:395: DeprecationWarning: Passing 1d arrays as data is deprecated in 0.17 and will raise ValueError in 0.19. Reshape your data either using X.reshape(-1, 1) if your data has a single feature or X.reshape(1, -1) if it contains a single sample.\n",
      "  DeprecationWarning)\n"
     ]
    }
   ],
   "source": [
    "#run 7 models with input CA2, CA3 to predict final score\n",
    "%run student_results_analysis.py"
   ]
  },
  {
   "cell_type": "code",
   "execution_count": 1,
   "metadata": {
    "collapsed": false
   },
   "outputs": [
    {
     "name": "stderr",
     "output_type": "stream",
     "text": [
      "C:\\Users\\Vu Anh Vinh\\Miniconda3\\envs\\thkstat\\lib\\site-packages\\IPython\\html.py:14: ShimWarning: The `IPython.html` package has been deprecated. You should import from `notebook` instead. `IPython.html.widgets` has moved to `ipywidgets`.\n",
      "  \"`IPython.html.widgets` has moved to `ipywidgets`.\", ShimWarning)\n",
      "[Parallel(n_jobs=1)]: Done   1 out of   1 | elapsed:    0.0s remaining:    0.0s\n",
      "[Parallel(n_jobs=1)]: Done   2 out of   2 | elapsed:    0.0s remaining:    0.0s\n",
      "[Parallel(n_jobs=1)]: Done   3 out of   3 | elapsed:    0.0s remaining:    0.0s\n"
     ]
    },
    {
     "name": "stdout",
     "output_type": "stream",
     "text": [
      "Feature ranking:\n",
      "1. feature CA3-2 (0.280279)\n",
      "2. feature CA3-3 (0.263699)\n",
      "3. feature CA3-1 (0.180174)\n",
      "4. feature CA2-1 (0.179903)\n",
      "5. feature CA2-2 (0.095945)\n",
      "Grid search for... support vector regression\n",
      "SVR(C=1.0, cache_size=200, coef0=0.0, degree=3, epsilon=0.1, gamma='auto',\n",
      "  kernel='rbf', max_iter=-1, shrinking=True, tol=0.001, verbose=False)\n",
      "Fitting 5 folds for each of 28 candidates, totalling 140 fits\n",
      "[CV] C=0.001, kernel=linear ..........................................\n",
      "[CV] .......... C=0.001, kernel=linear, score=-0.016279, total=   0.0s\n",
      "[CV] C=0.001, kernel=linear ..........................................\n",
      "[CV] .......... C=0.001, kernel=linear, score=-0.072240, total=   0.0s\n",
      "[CV] C=0.001, kernel=linear ..........................................\n",
      "[CV] .......... C=0.001, kernel=linear, score=-0.021722, total=   0.0s\n",
      "[CV] C=0.001, kernel=linear ..........................................\n",
      "[CV] ........... C=0.001, kernel=linear, score=0.000375, total=   0.0s\n",
      "[CV] C=0.001, kernel=linear ..........................................\n",
      "[CV] .......... C=0.001, kernel=linear, score=-0.035552, total=   0.0s\n",
      "[CV] C=0.001, kernel=rbf .............................................\n",
      "[CV] ............. C=0.001, kernel=rbf, score=-0.016603, total=   0.0s\n",
      "[CV] C=0.001, kernel=rbf .............................................\n",
      "[CV] ............. C=0.001, kernel=rbf, score=-0.072528, total=   0.0s\n",
      "[CV] C=0.001, kernel=rbf .............................................\n",
      "[CV] ............. C=0.001, kernel=rbf, score=-0.022068, total=   0.0s\n",
      "[CV] C=0.001, kernel=rbf .............................................\n",
      "[CV] .............. C=0.001, kernel=rbf, score=0.000047, total=   0.0s\n",
      "[CV] C=0.001, kernel=rbf .............................................\n",
      "[CV] ............. C=0.001, kernel=rbf, score=-0.035842, total=   0.0s\n",
      "[CV] C=0.001, kernel=poly ............................................\n",
      "[CV] ............ C=0.001, kernel=poly, score=-0.016641, total=   0.0s\n",
      "[CV] C=0.001, kernel=poly ............................................\n",
      "[CV] ............ C=0.001, kernel=poly, score=-0.072503, total=   0.0s\n",
      "[CV] C=0.001, kernel=poly ............................................\n",
      "[CV] ............ C=0.001, kernel=poly, score=-0.022062, total=   0.0s\n",
      "[CV] C=0.001, kernel=poly ............................................\n",
      "[CV] ............. C=0.001, kernel=poly, score=0.000018, total=   0.0s\n",
      "[CV] C=0.001, kernel=poly ............................................\n",
      "[CV] ............ C=0.001, kernel=poly, score=-0.035828, total=   0.0s\n",
      "[CV] C=0.001, kernel=sigmoid .........................................\n",
      "[CV] ......... C=0.001, kernel=sigmoid, score=-0.016700, total=   0.0s\n",
      "[CV] C=0.001, kernel=sigmoid .........................................\n",
      "[CV] ......... C=0.001, kernel=sigmoid, score=-0.072643, total=   0.0s\n",
      "[CV] C=0.001, kernel=sigmoid .........................................\n",
      "[CV] ......... C=0.001, kernel=sigmoid, score=-0.022192, total=   0.0s\n",
      "[CV] C=0.001, kernel=sigmoid .........................................\n",
      "[CV] ......... C=0.001, kernel=sigmoid, score=-0.000050, total=   0.0s\n",
      "[CV] C=0.001, kernel=sigmoid .........................................\n",
      "[CV] ......... C=0.001, kernel=sigmoid, score=-0.035955, total=   0.0s\n",
      "[CV] C=0.01, kernel=linear ...........................................\n",
      "[CV] ........... C=0.01, kernel=linear, score=-0.011917, total=   0.0s\n",
      "[CV] C=0.01, kernel=linear ...........................................\n",
      "[CV] ........... C=0.01, kernel=linear, score=-0.068234, total=   0.0s\n",
      "[CV] C=0.01, kernel=linear ...........................................\n",
      "[CV] ........... C=0.01, kernel=linear, score=-0.016988, total=   0.0s\n",
      "[CV] C=0.01, kernel=linear ...........................................\n",
      "[CV] ............ C=0.01, kernel=linear, score=0.004751, total=   0.0s\n",
      "[CV] C=0.01, kernel=linear ...........................................\n",
      "[CV] ........... C=0.01, kernel=linear, score=-0.031516, total=   0.0s\n",
      "[CV] C=0.01, kernel=rbf ..............................................\n",
      "[CV] .............. C=0.01, kernel=rbf, score=-0.015152, total=   0.0s\n",
      "[CV] C=0.01, kernel=rbf ..............................................\n",
      "[CV] .............. C=0.01, kernel=rbf, score=-0.071108, total=   0.0s\n",
      "[CV] C=0.01, kernel=rbf ..............................................\n",
      "[CV] .............. C=0.01, kernel=rbf, score=-0.020431, total=   0.0s\n",
      "[CV] C=0.01, kernel=rbf ..............................................\n",
      "[CV] ............... C=0.01, kernel=rbf, score=0.001484, total=   0.0s\n",
      "[CV] C=0.01, kernel=rbf ..............................................\n",
      "[CV] .............. C=0.01, kernel=rbf, score=-0.034418, total=   0.0s\n",
      "[CV] C=0.01, kernel=poly .............................................\n",
      "[CV] ............. C=0.01, kernel=poly, score=-0.015536, total=   0.0s\n",
      "[CV] C=0.01, kernel=poly .............................................\n",
      "[CV] ............. C=0.01, kernel=poly, score=-0.070858, total=   0.0s\n",
      "[CV] C=0.01, kernel=poly .............................................\n",
      "[CV] ............. C=0.01, kernel=poly, score=-0.020369, total=   0.0s\n",
      "[CV] C=0.01, kernel=poly .............................................\n",
      "[CV] .............. C=0.01, kernel=poly, score=0.001194, total=   0.0s\n",
      "[CV] C=0.01, kernel=poly .............................................\n",
      "[CV] ............. C=0.01, kernel=poly, score=-0.034277, total=   0.0s\n",
      "[CV] C=0.01, kernel=sigmoid ..........................................\n",
      "[CV] .......... C=0.01, kernel=sigmoid, score=-0.016125, total=   0.0s\n",
      "[CV] C=0.01, kernel=sigmoid ..........................................\n",
      "[CV] .......... C=0.01, kernel=sigmoid, score=-0.072254, total=   0.0s\n",
      "[CV] C=0.01, kernel=sigmoid ..........................................\n",
      "[CV] .......... C=0.01, kernel=sigmoid, score=-0.021671, total=   0.0s\n",
      "[CV] C=0.01, kernel=sigmoid ..........................................\n",
      "[CV] ........... C=0.01, kernel=sigmoid, score=0.000516, total=   0.0s\n",
      "[CV] C=0.01, kernel=sigmoid ..........................................\n",
      "[CV] .......... C=0.01, kernel=sigmoid, score=-0.035538, total=   0.0s\n",
      "[CV] C=0.1, kernel=linear ............................................\n",
      "[CV] ............. C=0.1, kernel=linear, score=0.030920, total=   0.0s\n",
      "[CV] C=0.1, kernel=linear ............................................\n",
      "[CV] ............ C=0.1, kernel=linear, score=-0.028949, total=   0.0s\n",
      "[CV] C=0.1, kernel=linear ............................................\n",
      "[CV] ............. C=0.1, kernel=linear, score=0.027607, total=   0.0s\n",
      "[CV] C=0.1, kernel=linear ............................................\n",
      "[CV] ............. C=0.1, kernel=linear, score=0.047904, total=   0.0s\n",
      "[CV] C=0.1, kernel=linear ............................................\n",
      "[CV] ............. C=0.1, kernel=linear, score=0.008209, total=   0.0s\n",
      "[CV] C=0.1, kernel=rbf ...............................................\n",
      "[CV] ............... C=0.1, kernel=rbf, score=-0.000736, total=   0.0s\n",
      "[CV] C=0.1, kernel=rbf ...............................................\n",
      "[CV] ............... C=0.1, kernel=rbf, score=-0.057001, total=   0.0s\n",
      "[CV] C=0.1, kernel=rbf ...............................................\n",
      "[CV] ............... C=0.1, kernel=rbf, score=-0.004193, total=   0.0s\n",
      "[CV] C=0.1, kernel=rbf ...............................................\n",
      "[CV] ................ C=0.1, kernel=rbf, score=0.015785, total=   0.0s\n",
      "[CV] C=0.1, kernel=rbf ...............................................\n",
      "[CV] ............... C=0.1, kernel=rbf, score=-0.020252, total=   0.0s\n",
      "[CV] C=0.1, kernel=poly ..............................................\n",
      "[CV] .............. C=0.1, kernel=poly, score=-0.004555, total=   0.0s\n",
      "[CV] C=0.1, kernel=poly ..............................................\n",
      "[CV] .............. C=0.1, kernel=poly, score=-0.054507, total=   0.0s\n",
      "[CV] C=0.1, kernel=poly ..............................................\n",
      "[CV] .............. C=0.1, kernel=poly, score=-0.003583, total=   0.0s\n",
      "[CV] C=0.1, kernel=poly ..............................................\n",
      "[CV] ............... C=0.1, kernel=poly, score=0.012901, total=   0.0s\n",
      "[CV] C=0.1, kernel=poly ..............................................\n",
      "[CV] .............. C=0.1, kernel=poly, score=-0.018852, total=   0.0s\n",
      "[CV] C=0.1, kernel=sigmoid ...........................................\n",
      "[CV] ........... C=0.1, kernel=sigmoid, score=-0.010389, total=   0.0s\n",
      "[CV] C=0.1, kernel=sigmoid ...........................................\n",
      "[CV] ........... C=0.1, kernel=sigmoid, score=-0.068380, total=   0.0s\n",
      "[CV] C=0.1, kernel=sigmoid ...........................................\n",
      "[CV] ........... C=0.1, kernel=sigmoid, score=-0.016479, total=   0.0s\n",
      "[CV] C=0.1, kernel=sigmoid ...........................................\n",
      "[CV] ............ C=0.1, kernel=sigmoid, score=0.006163, total=   0.0s\n",
      "[CV] C=0.1, kernel=sigmoid ...........................................\n",
      "[CV] ........... C=0.1, kernel=sigmoid, score=-0.031383, total=   0.0s\n",
      "[CV] C=1.1, kernel=linear ............................................\n",
      "[CV] ............. C=1.1, kernel=linear, score=0.394984, total=   0.0s\n",
      "[CV] C=1.1, kernel=linear ............................................\n",
      "[CV] ............. C=1.1, kernel=linear, score=0.333075, total=   0.0s\n",
      "[CV] C=1.1, kernel=linear ............................................\n",
      "[CV] ............. C=1.1, kernel=linear, score=0.358978, total=   0.0s\n",
      "[CV] C=1.1, kernel=linear ............................................\n",
      "[CV] ............. C=1.1, kernel=linear, score=0.436065, total=   0.0s\n",
      "[CV] C=1.1, kernel=linear ............................................\n",
      "[CV] ............. C=1.1, kernel=linear, score=0.281212, total=   0.0s\n",
      "[CV] C=1.1, kernel=rbf ...............................................\n",
      "[CV] ................ C=1.1, kernel=rbf, score=0.149562, total=   0.0s\n",
      "[CV] C=1.1, kernel=rbf ...............................................\n",
      "[CV] ................ C=1.1, kernel=rbf, score=0.095395, total=   0.0s\n",
      "[CV] C=1.1, kernel=rbf ...............................................\n",
      "[CV] ................ C=1.1, kernel=rbf, score=0.148001, total=   0.0s\n",
      "[CV] C=1.1, kernel=rbf ...............................................\n",
      "[CV] ................ C=1.1, kernel=rbf, score=0.166822, total=   0.0s\n",
      "[CV] C=1.1, kernel=rbf ...............................................\n",
      "[CV] ................ C=1.1, kernel=rbf, score=0.105970, total=   0.0s\n",
      "[CV] C=1.1, kernel=poly ..............................................\n",
      "[CV] ............... C=1.1, kernel=poly, score=0.109456, total=   0.0s\n",
      "[CV] C=1.1, kernel=poly ..............................................\n",
      "[CV] ............... C=1.1, kernel=poly, score=0.114163, total=   0.0s\n",
      "[CV] C=1.1, kernel=poly ..............................................\n",
      "[CV] ............... C=1.1, kernel=poly, score=0.159357, total=   0.0s\n",
      "[CV] C=1.1, kernel=poly ..............................................\n",
      "[CV] ............... C=1.1, kernel=poly, score=0.137028, total=   0.0s\n",
      "[CV] C=1.1, kernel=poly ..............................................\n",
      "[CV] ............... C=1.1, kernel=poly, score=0.126054, total=   0.0s\n",
      "[CV] C=1.1, kernel=sigmoid ...........................................\n",
      "[CV] ............ C=1.1, kernel=sigmoid, score=0.051766, total=   0.0s\n",
      "[CV] C=1.1, kernel=sigmoid ...........................................\n",
      "[CV] ........... C=1.1, kernel=sigmoid, score=-0.026576, total=   0.0s\n",
      "[CV] C=1.1, kernel=sigmoid ...........................................\n",
      "[CV] ............ C=1.1, kernel=sigmoid, score=0.036218, total=   0.0s\n",
      "[CV] C=1.1, kernel=sigmoid ...........................................\n",
      "[CV] ............ C=1.1, kernel=sigmoid, score=0.067568, total=   0.0s\n",
      "[CV] C=1.1, kernel=sigmoid ...........................................\n",
      "[CV] ............ C=1.1, kernel=sigmoid, score=0.013897, total=   0.0s\n",
      "[CV] C=100, kernel=linear ............................................\n",
      "[CV] ............. C=100, kernel=linear, score=0.603864, total=   0.0s\n",
      "[CV] C=100, kernel=linear ............................................\n",
      "[CV] ............. C=100, kernel=linear, score=0.659366, total=   0.0s\n",
      "[CV] C=100, kernel=linear ............................................\n",
      "[CV] ............. C=100, kernel=linear, score=0.545698, total=   0.0s\n",
      "[CV] C=100, kernel=linear ............................................\n",
      "[CV] ............. C=100, kernel=linear, score=0.786789, total=   0.0s\n",
      "[CV] C=100, kernel=linear ............................................\n",
      "[CV] ............. C=100, kernel=linear, score=0.545214, total=   0.0s\n",
      "[CV] C=100, kernel=rbf ...............................................\n",
      "[CV] ................ C=100, kernel=rbf, score=0.596741, total=   0.0s\n",
      "[CV] C=100, kernel=rbf ...............................................\n",
      "[CV] ................ C=100, kernel=rbf, score=0.668540, total=   0.0s\n",
      "[CV] C=100, kernel=rbf ...............................................\n",
      "[CV] ................ C=100, kernel=rbf, score=0.586336, total=   0.0s\n",
      "[CV] C=100, kernel=rbf ...............................................\n",
      "[CV] ................ C=100, kernel=rbf, score=0.788524, total=   0.0s\n",
      "[CV] C=100, kernel=rbf ...............................................\n",
      "[CV] ................ C=100, kernel=rbf, score=0.576913, total=   0.0s\n",
      "[CV] C=100, kernel=poly ..............................................\n",
      "[CV] ............... C=100, kernel=poly, score=0.555205, total=   0.0s\n",
      "[CV] C=100, kernel=poly ..............................................\n",
      "[CV] ............... C=100, kernel=poly, score=0.658183, total=   0.0s\n",
      "[CV] C=100, kernel=poly ..............................................\n",
      "[CV] ............... C=100, kernel=poly, score=0.642046, total=   0.0s\n",
      "[CV] C=100, kernel=poly ..............................................\n",
      "[CV] ............... C=100, kernel=poly, score=0.711504, total=   0.0s\n",
      "[CV] C=100, kernel=poly ..............................................\n",
      "[CV] ............... C=100, kernel=poly, score=0.635256, total=   0.0s\n",
      "[CV] C=100, kernel=sigmoid ...........................................\n",
      "[CV] ............ C=100, kernel=sigmoid, score=0.697371, total=   0.0s\n",
      "[CV] C=100, kernel=sigmoid ...........................................\n",
      "[CV] ............ C=100, kernel=sigmoid, score=0.503801, total=   0.0s\n",
      "[CV] C=100, kernel=sigmoid ...........................................\n",
      "[CV] ............ C=100, kernel=sigmoid, score=0.428261, total=   0.0s\n",
      "[CV] C=100, kernel=sigmoid ...........................................\n",
      "[CV] ............ C=100, kernel=sigmoid, score=0.744344, total=   0.0s\n",
      "[CV] C=100, kernel=sigmoid ...........................................\n",
      "[CV] ............ C=100, kernel=sigmoid, score=0.337651, total=   0.0s\n",
      "[CV] C=1000, kernel=linear ...........................................\n",
      "[CV] ............ C=1000, kernel=linear, score=0.595635, total=   0.0s\n",
      "[CV] C=1000, kernel=linear ...........................................\n",
      "[CV] ............ C=1000, kernel=linear, score=0.660983, total=   0.0s\n",
      "[CV] C=1000, kernel=linear ...........................................\n",
      "[CV] ............ C=1000, kernel=linear, score=0.531865, total=   0.0s\n",
      "[CV] C=1000, kernel=linear ...........................................\n",
      "[CV] ............ C=1000, kernel=linear, score=0.753606, total=   0.0s\n",
      "[CV] C=1000, kernel=linear ...........................................\n",
      "[CV] ............ C=1000, kernel=linear, score=0.531368, total=   0.0s\n",
      "[CV] C=1000, kernel=rbf ..............................................\n",
      "[CV] ............... C=1000, kernel=rbf, score=0.572973, total=   0.0s\n",
      "[CV] C=1000, kernel=rbf ..............................................\n",
      "[CV] ............... C=1000, kernel=rbf, score=0.657603, total=   0.0s\n",
      "[CV] C=1000, kernel=rbf ..............................................\n",
      "[CV] ............... C=1000, kernel=rbf, score=0.630240, total=   0.0s\n",
      "[CV] C=1000, kernel=rbf ..............................................\n",
      "[CV] ............... C=1000, kernel=rbf, score=0.778035, total=   0.0s\n",
      "[CV] C=1000, kernel=rbf ..............................................\n",
      "[CV] ............... C=1000, kernel=rbf, score=0.604030, total=   0.0s\n",
      "[CV] C=1000, kernel=poly .............................................\n",
      "[CV] .............. C=1000, kernel=poly, score=0.580001, total=   0.0s\n",
      "[CV] C=1000, kernel=poly .............................................\n",
      "[CV] .............. C=1000, kernel=poly, score=0.669512, total=   0.0s\n",
      "[CV] C=1000, kernel=poly .............................................\n",
      "[CV] .............. C=1000, kernel=poly, score=0.599167, total=   0.0s\n",
      "[CV] C=1000, kernel=poly .............................................\n",
      "[CV] .............. C=1000, kernel=poly, score=0.705506, total=   0.0s\n",
      "[CV] C=1000, kernel=poly .............................................\n",
      "[CV] .............. C=1000, kernel=poly, score=0.617873, total=   0.0s\n",
      "[CV] C=1000, kernel=sigmoid ..........................................\n",
      "[CV] .......... C=1000, kernel=sigmoid, score=-7.196661, total=   0.0s\n",
      "[CV] C=1000, kernel=sigmoid ..........................................\n",
      "[CV] .......... C=1000, kernel=sigmoid, score=-2.494794, total=   0.0s\n",
      "[CV] C=1000, kernel=sigmoid ..........................................\n",
      "[CV] .......... C=1000, kernel=sigmoid, score=-5.642734, total=   0.0s\n",
      "[CV] C=1000, kernel=sigmoid ..........................................\n",
      "[CV] .......... C=1000, kernel=sigmoid, score=-6.111820, total=   0.0s\n",
      "[CV] C=1000, kernel=sigmoid ..........................................\n",
      "[CV] .......... C=1000, kernel=sigmoid, score=-3.493660, total=   0.0s\n",
      "[CV] C=10000, kernel=linear ..........................................\n",
      "[CV] ........... C=10000, kernel=linear, score=0.595583, total=   0.0s\n",
      "[CV] C=10000, kernel=linear ..........................................\n",
      "[CV] ........... C=10000, kernel=linear, score=0.648106, total=   0.0s\n",
      "[CV] C=10000, kernel=linear ..........................................\n",
      "[CV] ........... C=10000, kernel=linear, score=0.478016, total=   0.0s\n",
      "[CV] C=10000, kernel=linear ..........................................\n",
      "[CV] ........... C=10000, kernel=linear, score=0.753582, total=   0.0s\n",
      "[CV] C=10000, kernel=linear ..........................................\n",
      "[CV] ........... C=10000, kernel=linear, score=0.531542, total=   0.0s\n",
      "[CV] C=10000, kernel=rbf .............................................\n",
      "[CV] .............. C=10000, kernel=rbf, score=0.582192, total=   0.0s\n",
      "[CV] C=10000, kernel=rbf .............................................\n",
      "[CV] .............. C=10000, kernel=rbf, score=0.636518, total=   0.0s\n",
      "[CV] C=10000, kernel=rbf .............................................\n",
      "[CV] .............. C=10000, kernel=rbf, score=0.601956, total=   0.0s\n",
      "[CV] C=10000, kernel=rbf .............................................\n",
      "[CV] .............. C=10000, kernel=rbf, score=0.846650, total=   0.0s\n",
      "[CV] C=10000, kernel=rbf .............................................\n",
      "[CV] .............. C=10000, kernel=rbf, score=0.535482, total=   0.0s\n",
      "[CV] C=10000, kernel=poly ............................................\n",
      "[CV] ............. C=10000, kernel=poly, score=0.498005, total=   0.0s\n",
      "[CV] C=10000, kernel=poly ............................................\n",
      "[CV] ............. C=10000, kernel=poly, score=0.623087, total=   0.0s\n",
      "[CV] C=10000, kernel=poly ............................................\n",
      "[CV] ............. C=10000, kernel=poly, score=0.671121, total=   0.0s\n",
      "[CV] C=10000, kernel=poly ............................................\n",
      "[CV] ............. C=10000, kernel=poly, score=0.765109, total=   0.0s\n",
      "[CV] C=10000, kernel=poly ............................................\n",
      "[CV] ............. C=10000, kernel=poly, score=0.550738, total=   0.0s\n",
      "[CV] C=10000, kernel=sigmoid .........................................\n",
      "[CV] ....... C=10000, kernel=sigmoid, score=-947.600277, total=   0.0s\n",
      "[CV] C=10000, kernel=sigmoid .........................................\n",
      "[CV] ....... C=10000, kernel=sigmoid, score=-279.425297, total=   0.0s\n",
      "[CV] C=10000, kernel=sigmoid .........................................\n",
      "[CV] ....... C=10000, kernel=sigmoid, score=-568.983388, total=   0.0s\n",
      "[CV] C=10000, kernel=sigmoid .........................................\n",
      "[CV] ....... C=10000, kernel=sigmoid, score=-877.949290, total=   0.0s\n",
      "[CV] C=10000, kernel=sigmoid .........................................\n",
      "[CV] ....... C=10000, kernel=sigmoid, score=-332.973442, total=   0.0s\n",
      "Best hyper parameters: {'C': 1000, 'kernel': 'rbf'}\n",
      "Best score of this configuration: 0.647745099633\n",
      "max score: 0.776\n",
      "                  predicted value\ttrue value \n",
      "student  1\t\t58.153\t\t54.000\n",
      "student  3\t\t70.074\t\t69.000\n",
      "student  5\t\t52.806\t\t49.000\n",
      "student 12\t\t82.213\t\t85.000\n",
      "student 13\t\t72.450\t\t58.000\n",
      "student 14\t\t80.444\t\t74.000\n",
      "student 22\t\t46.898\t\t42.000\n",
      "student 28\t\t53.484\t\t39.000\n",
      "student 38\t\t36.909\t\t36.000\n",
      "student 41\t\t42.171\t\t54.000\n",
      "student 44\t\t27.934\t\t40.000\n",
      "student 50\t\t68.499\t\t49.000\n",
      "student 55\t\t58.517\t\t59.000\n",
      "student 58\t\t74.037\t\t84.000\n",
      "student 62\t\t17.260\t\t0.000\n",
      "student 70\t\t63.167\t\t66.000\n",
      "student 76\t\t57.258\t\t62.000\n",
      "student 77\t\t65.540\t\t71.000\n",
      "student 80\t\t36.586\t\t35.000\n",
      "student 81\t\t45.351\t\t39.000\n",
      "student 82\t\t58.791\t\t68.000\n",
      "student 88\t\t27.429\t\t33.000\n",
      "Grid search for... Random Forest Regressor\n",
      "RandomForestRegressor(bootstrap=True, criterion='mse', max_depth=None,\n",
      "           max_features='sqrt', max_leaf_nodes=None,\n",
      "           min_impurity_split=1e-07, min_samples_leaf=2,\n",
      "           min_samples_split=8, min_weight_fraction_leaf=0.0,\n",
      "           n_estimators=50, n_jobs=-1, oob_score=False, random_state=None,\n",
      "           verbose=0, warm_start=False)\n",
      "Fitting 5 folds for each of 12 candidates, totalling 60 fits\n",
      "[CV] max_features=log2, n_estimators=300 .............................\n"
     ]
    },
    {
     "name": "stderr",
     "output_type": "stream",
     "text": [
      "[Parallel(n_jobs=1)]: Done 140 out of 140 | elapsed:    0.9s finished\n",
      "C:\\Users\\Vu Anh Vinh\\Miniconda3\\envs\\thkstat\\lib\\site-packages\\sklearn\\utils\\validation.py:395: DeprecationWarning: Passing 1d arrays as data is deprecated in 0.17 and will raise ValueError in 0.19. Reshape your data either using X.reshape(-1, 1) if your data has a single feature or X.reshape(1, -1) if it contains a single sample.\n",
      "  DeprecationWarning)\n",
      "C:\\Users\\Vu Anh Vinh\\Miniconda3\\envs\\thkstat\\lib\\site-packages\\sklearn\\utils\\validation.py:395: DeprecationWarning: Passing 1d arrays as data is deprecated in 0.17 and will raise ValueError in 0.19. Reshape your data either using X.reshape(-1, 1) if your data has a single feature or X.reshape(1, -1) if it contains a single sample.\n",
      "  DeprecationWarning)\n",
      "C:\\Users\\Vu Anh Vinh\\Miniconda3\\envs\\thkstat\\lib\\site-packages\\sklearn\\utils\\validation.py:395: DeprecationWarning: Passing 1d arrays as data is deprecated in 0.17 and will raise ValueError in 0.19. Reshape your data either using X.reshape(-1, 1) if your data has a single feature or X.reshape(1, -1) if it contains a single sample.\n",
      "  DeprecationWarning)\n",
      "C:\\Users\\Vu Anh Vinh\\Miniconda3\\envs\\thkstat\\lib\\site-packages\\sklearn\\utils\\validation.py:395: DeprecationWarning: Passing 1d arrays as data is deprecated in 0.17 and will raise ValueError in 0.19. Reshape your data either using X.reshape(-1, 1) if your data has a single feature or X.reshape(1, -1) if it contains a single sample.\n",
      "  DeprecationWarning)\n",
      "C:\\Users\\Vu Anh Vinh\\Miniconda3\\envs\\thkstat\\lib\\site-packages\\sklearn\\utils\\validation.py:395: DeprecationWarning: Passing 1d arrays as data is deprecated in 0.17 and will raise ValueError in 0.19. Reshape your data either using X.reshape(-1, 1) if your data has a single feature or X.reshape(1, -1) if it contains a single sample.\n",
      "  DeprecationWarning)\n",
      "C:\\Users\\Vu Anh Vinh\\Miniconda3\\envs\\thkstat\\lib\\site-packages\\sklearn\\utils\\validation.py:395: DeprecationWarning: Passing 1d arrays as data is deprecated in 0.17 and will raise ValueError in 0.19. Reshape your data either using X.reshape(-1, 1) if your data has a single feature or X.reshape(1, -1) if it contains a single sample.\n",
      "  DeprecationWarning)\n",
      "C:\\Users\\Vu Anh Vinh\\Miniconda3\\envs\\thkstat\\lib\\site-packages\\sklearn\\utils\\validation.py:395: DeprecationWarning: Passing 1d arrays as data is deprecated in 0.17 and will raise ValueError in 0.19. Reshape your data either using X.reshape(-1, 1) if your data has a single feature or X.reshape(1, -1) if it contains a single sample.\n",
      "  DeprecationWarning)\n",
      "C:\\Users\\Vu Anh Vinh\\Miniconda3\\envs\\thkstat\\lib\\site-packages\\sklearn\\utils\\validation.py:395: DeprecationWarning: Passing 1d arrays as data is deprecated in 0.17 and will raise ValueError in 0.19. Reshape your data either using X.reshape(-1, 1) if your data has a single feature or X.reshape(1, -1) if it contains a single sample.\n",
      "  DeprecationWarning)\n",
      "C:\\Users\\Vu Anh Vinh\\Miniconda3\\envs\\thkstat\\lib\\site-packages\\sklearn\\utils\\validation.py:395: DeprecationWarning: Passing 1d arrays as data is deprecated in 0.17 and will raise ValueError in 0.19. Reshape your data either using X.reshape(-1, 1) if your data has a single feature or X.reshape(1, -1) if it contains a single sample.\n",
      "  DeprecationWarning)\n",
      "C:\\Users\\Vu Anh Vinh\\Miniconda3\\envs\\thkstat\\lib\\site-packages\\sklearn\\utils\\validation.py:395: DeprecationWarning: Passing 1d arrays as data is deprecated in 0.17 and will raise ValueError in 0.19. Reshape your data either using X.reshape(-1, 1) if your data has a single feature or X.reshape(1, -1) if it contains a single sample.\n",
      "  DeprecationWarning)\n",
      "C:\\Users\\Vu Anh Vinh\\Miniconda3\\envs\\thkstat\\lib\\site-packages\\sklearn\\utils\\validation.py:395: DeprecationWarning: Passing 1d arrays as data is deprecated in 0.17 and will raise ValueError in 0.19. Reshape your data either using X.reshape(-1, 1) if your data has a single feature or X.reshape(1, -1) if it contains a single sample.\n",
      "  DeprecationWarning)\n",
      "C:\\Users\\Vu Anh Vinh\\Miniconda3\\envs\\thkstat\\lib\\site-packages\\sklearn\\utils\\validation.py:395: DeprecationWarning: Passing 1d arrays as data is deprecated in 0.17 and will raise ValueError in 0.19. Reshape your data either using X.reshape(-1, 1) if your data has a single feature or X.reshape(1, -1) if it contains a single sample.\n",
      "  DeprecationWarning)\n",
      "C:\\Users\\Vu Anh Vinh\\Miniconda3\\envs\\thkstat\\lib\\site-packages\\sklearn\\utils\\validation.py:395: DeprecationWarning: Passing 1d arrays as data is deprecated in 0.17 and will raise ValueError in 0.19. Reshape your data either using X.reshape(-1, 1) if your data has a single feature or X.reshape(1, -1) if it contains a single sample.\n",
      "  DeprecationWarning)\n",
      "C:\\Users\\Vu Anh Vinh\\Miniconda3\\envs\\thkstat\\lib\\site-packages\\sklearn\\utils\\validation.py:395: DeprecationWarning: Passing 1d arrays as data is deprecated in 0.17 and will raise ValueError in 0.19. Reshape your data either using X.reshape(-1, 1) if your data has a single feature or X.reshape(1, -1) if it contains a single sample.\n",
      "  DeprecationWarning)\n",
      "C:\\Users\\Vu Anh Vinh\\Miniconda3\\envs\\thkstat\\lib\\site-packages\\sklearn\\utils\\validation.py:395: DeprecationWarning: Passing 1d arrays as data is deprecated in 0.17 and will raise ValueError in 0.19. Reshape your data either using X.reshape(-1, 1) if your data has a single feature or X.reshape(1, -1) if it contains a single sample.\n",
      "  DeprecationWarning)\n",
      "C:\\Users\\Vu Anh Vinh\\Miniconda3\\envs\\thkstat\\lib\\site-packages\\sklearn\\utils\\validation.py:395: DeprecationWarning: Passing 1d arrays as data is deprecated in 0.17 and will raise ValueError in 0.19. Reshape your data either using X.reshape(-1, 1) if your data has a single feature or X.reshape(1, -1) if it contains a single sample.\n",
      "  DeprecationWarning)\n",
      "C:\\Users\\Vu Anh Vinh\\Miniconda3\\envs\\thkstat\\lib\\site-packages\\sklearn\\utils\\validation.py:395: DeprecationWarning: Passing 1d arrays as data is deprecated in 0.17 and will raise ValueError in 0.19. Reshape your data either using X.reshape(-1, 1) if your data has a single feature or X.reshape(1, -1) if it contains a single sample.\n",
      "  DeprecationWarning)\n",
      "C:\\Users\\Vu Anh Vinh\\Miniconda3\\envs\\thkstat\\lib\\site-packages\\sklearn\\utils\\validation.py:395: DeprecationWarning: Passing 1d arrays as data is deprecated in 0.17 and will raise ValueError in 0.19. Reshape your data either using X.reshape(-1, 1) if your data has a single feature or X.reshape(1, -1) if it contains a single sample.\n",
      "  DeprecationWarning)\n",
      "C:\\Users\\Vu Anh Vinh\\Miniconda3\\envs\\thkstat\\lib\\site-packages\\sklearn\\utils\\validation.py:395: DeprecationWarning: Passing 1d arrays as data is deprecated in 0.17 and will raise ValueError in 0.19. Reshape your data either using X.reshape(-1, 1) if your data has a single feature or X.reshape(1, -1) if it contains a single sample.\n",
      "  DeprecationWarning)\n",
      "C:\\Users\\Vu Anh Vinh\\Miniconda3\\envs\\thkstat\\lib\\site-packages\\sklearn\\utils\\validation.py:395: DeprecationWarning: Passing 1d arrays as data is deprecated in 0.17 and will raise ValueError in 0.19. Reshape your data either using X.reshape(-1, 1) if your data has a single feature or X.reshape(1, -1) if it contains a single sample.\n",
      "  DeprecationWarning)\n",
      "C:\\Users\\Vu Anh Vinh\\Miniconda3\\envs\\thkstat\\lib\\site-packages\\sklearn\\utils\\validation.py:395: DeprecationWarning: Passing 1d arrays as data is deprecated in 0.17 and will raise ValueError in 0.19. Reshape your data either using X.reshape(-1, 1) if your data has a single feature or X.reshape(1, -1) if it contains a single sample.\n",
      "  DeprecationWarning)\n",
      "C:\\Users\\Vu Anh Vinh\\Miniconda3\\envs\\thkstat\\lib\\site-packages\\sklearn\\utils\\validation.py:395: DeprecationWarning: Passing 1d arrays as data is deprecated in 0.17 and will raise ValueError in 0.19. Reshape your data either using X.reshape(-1, 1) if your data has a single feature or X.reshape(1, -1) if it contains a single sample.\n",
      "  DeprecationWarning)\n"
     ]
    },
    {
     "name": "stdout",
     "output_type": "stream",
     "text": [
      "[CV]  max_features=log2, n_estimators=300, score=0.442253, total=   0.5s\n",
      "[CV] max_features=log2, n_estimators=300 .............................\n"
     ]
    },
    {
     "name": "stderr",
     "output_type": "stream",
     "text": [
      "[Parallel(n_jobs=1)]: Done   1 out of   1 | elapsed:    0.6s remaining:    0.0s\n"
     ]
    },
    {
     "name": "stdout",
     "output_type": "stream",
     "text": [
      "[CV]  max_features=log2, n_estimators=300, score=0.624808, total=   0.6s\n",
      "[CV] max_features=log2, n_estimators=300 .............................\n"
     ]
    },
    {
     "name": "stderr",
     "output_type": "stream",
     "text": [
      "[Parallel(n_jobs=1)]: Done   2 out of   2 | elapsed:    1.4s remaining:    0.0s\n"
     ]
    },
    {
     "name": "stdout",
     "output_type": "stream",
     "text": [
      "[CV]  max_features=log2, n_estimators=300, score=0.733910, total=   0.5s\n",
      "[CV] max_features=log2, n_estimators=300 .............................\n"
     ]
    },
    {
     "name": "stderr",
     "output_type": "stream",
     "text": [
      "[Parallel(n_jobs=1)]: Done   3 out of   3 | elapsed:    2.1s remaining:    0.0s\n"
     ]
    },
    {
     "name": "stdout",
     "output_type": "stream",
     "text": [
      "[CV]  max_features=log2, n_estimators=300, score=0.672545, total=   0.5s\n",
      "[CV] max_features=log2, n_estimators=300 .............................\n",
      "[CV]  max_features=log2, n_estimators=300, score=0.664361, total=   0.7s\n",
      "[CV] max_features=log2, n_estimators=500 .............................\n",
      "[CV]  max_features=log2, n_estimators=500, score=0.436383, total=   1.0s\n",
      "[CV] max_features=log2, n_estimators=500 .............................\n",
      "[CV]  max_features=log2, n_estimators=500, score=0.625601, total=   0.9s\n",
      "[CV] max_features=log2, n_estimators=500 .............................\n",
      "[CV]  max_features=log2, n_estimators=500, score=0.727298, total=   0.7s\n",
      "[CV] max_features=log2, n_estimators=500 .............................\n",
      "[CV]  max_features=log2, n_estimators=500, score=0.673673, total=   0.7s\n",
      "[CV] max_features=log2, n_estimators=500 .............................\n",
      "[CV]  max_features=log2, n_estimators=500, score=0.664137, total=   0.9s\n",
      "[CV] max_features=log2, n_estimators=800 .............................\n",
      "[CV]  max_features=log2, n_estimators=800, score=0.433123, total=   1.5s\n",
      "[CV] max_features=log2, n_estimators=800 .............................\n",
      "[CV]  max_features=log2, n_estimators=800, score=0.617952, total=   1.5s\n",
      "[CV] max_features=log2, n_estimators=800 .............................\n",
      "[CV]  max_features=log2, n_estimators=800, score=0.745403, total=   1.1s\n",
      "[CV] max_features=log2, n_estimators=800 .............................\n",
      "[CV]  max_features=log2, n_estimators=800, score=0.679592, total=   1.1s\n",
      "[CV] max_features=log2, n_estimators=800 .............................\n",
      "[CV]  max_features=log2, n_estimators=800, score=0.672285, total=   1.6s\n",
      "[CV] max_features=log2, n_estimators=1200 ............................\n",
      "[CV]  max_features=log2, n_estimators=1200, score=0.437463, total=   2.0s\n",
      "[CV] max_features=log2, n_estimators=1200 ............................\n",
      "[CV]  max_features=log2, n_estimators=1200, score=0.627112, total=   1.5s\n",
      "[CV] max_features=log2, n_estimators=1200 ............................\n",
      "[CV]  max_features=log2, n_estimators=1200, score=0.735184, total=   1.9s\n",
      "[CV] max_features=log2, n_estimators=1200 ............................\n",
      "[CV]  max_features=log2, n_estimators=1200, score=0.677274, total=   1.7s\n",
      "[CV] max_features=log2, n_estimators=1200 ............................\n",
      "[CV]  max_features=log2, n_estimators=1200, score=0.673724, total=   1.8s\n",
      "[CV] max_features=sqrt, n_estimators=300 .............................\n",
      "[CV]  max_features=sqrt, n_estimators=300, score=0.438336, total=   0.5s\n",
      "[CV] max_features=sqrt, n_estimators=300 .............................\n",
      "[CV]  max_features=sqrt, n_estimators=300, score=0.620467, total=   0.3s\n",
      "[CV] max_features=sqrt, n_estimators=300 .............................\n",
      "[CV]  max_features=sqrt, n_estimators=300, score=0.730009, total=   0.5s\n",
      "[CV] max_features=sqrt, n_estimators=300 .............................\n",
      "[CV]  max_features=sqrt, n_estimators=300, score=0.670801, total=   0.4s\n",
      "[CV] max_features=sqrt, n_estimators=300 .............................\n",
      "[CV]  max_features=sqrt, n_estimators=300, score=0.666099, total=   0.5s\n",
      "[CV] max_features=sqrt, n_estimators=500 .............................\n",
      "[CV]  max_features=sqrt, n_estimators=500, score=0.442491, total=   0.8s\n",
      "[CV] max_features=sqrt, n_estimators=500 .............................\n",
      "[CV]  max_features=sqrt, n_estimators=500, score=0.635453, total=   0.6s\n",
      "[CV] max_features=sqrt, n_estimators=500 .............................\n",
      "[CV]  max_features=sqrt, n_estimators=500, score=0.739525, total=   0.7s\n",
      "[CV] max_features=sqrt, n_estimators=500 .............................\n",
      "[CV]  max_features=sqrt, n_estimators=500, score=0.688077, total=   0.7s\n",
      "[CV] max_features=sqrt, n_estimators=500 .............................\n",
      "[CV]  max_features=sqrt, n_estimators=500, score=0.669149, total=   0.9s\n",
      "[CV] max_features=sqrt, n_estimators=800 .............................\n",
      "[CV]  max_features=sqrt, n_estimators=800, score=0.441404, total=   1.7s\n",
      "[CV] max_features=sqrt, n_estimators=800 .............................\n",
      "[CV]  max_features=sqrt, n_estimators=800, score=0.622285, total=   1.3s\n",
      "[CV] max_features=sqrt, n_estimators=800 .............................\n",
      "[CV]  max_features=sqrt, n_estimators=800, score=0.738455, total=   1.5s\n",
      "[CV] max_features=sqrt, n_estimators=800 .............................\n",
      "[CV]  max_features=sqrt, n_estimators=800, score=0.680740, total=   1.3s\n",
      "[CV] max_features=sqrt, n_estimators=800 .............................\n",
      "[CV]  max_features=sqrt, n_estimators=800, score=0.672201, total=   1.1s\n",
      "[CV] max_features=sqrt, n_estimators=1200 ............................\n",
      "[CV]  max_features=sqrt, n_estimators=1200, score=0.447222, total=   1.9s\n",
      "[CV] max_features=sqrt, n_estimators=1200 ............................\n",
      "[CV]  max_features=sqrt, n_estimators=1200, score=0.620454, total=   1.7s\n",
      "[CV] max_features=sqrt, n_estimators=1200 ............................\n",
      "[CV]  max_features=sqrt, n_estimators=1200, score=0.728673, total=   1.9s\n",
      "[CV] max_features=sqrt, n_estimators=1200 ............................\n",
      "[CV]  max_features=sqrt, n_estimators=1200, score=0.679436, total=   2.0s\n",
      "[CV] max_features=sqrt, n_estimators=1200 ............................\n",
      "[CV]  max_features=sqrt, n_estimators=1200, score=0.672842, total=   1.9s\n",
      "[CV] max_features=None, n_estimators=300 .............................\n",
      "[CV]  max_features=None, n_estimators=300, score=0.454327, total=   0.6s\n",
      "[CV] max_features=None, n_estimators=300 .............................\n",
      "[CV]  max_features=None, n_estimators=300, score=0.620899, total=   0.5s\n",
      "[CV] max_features=None, n_estimators=300 .............................\n",
      "[CV]  max_features=None, n_estimators=300, score=0.775338, total=   0.5s\n",
      "[CV] max_features=None, n_estimators=300 .............................\n",
      "[CV]  max_features=None, n_estimators=300, score=0.693693, total=   0.3s\n",
      "[CV] max_features=None, n_estimators=300 .............................\n",
      "[CV]  max_features=None, n_estimators=300, score=0.685596, total=   0.3s\n",
      "[CV] max_features=None, n_estimators=500 .............................\n",
      "[CV]  max_features=None, n_estimators=500, score=0.454077, total=   0.7s\n",
      "[CV] max_features=None, n_estimators=500 .............................\n",
      "[CV]  max_features=None, n_estimators=500, score=0.617068, total=   0.8s\n",
      "[CV] max_features=None, n_estimators=500 .............................\n",
      "[CV]  max_features=None, n_estimators=500, score=0.763275, total=   0.8s\n",
      "[CV] max_features=None, n_estimators=500 .............................\n",
      "[CV]  max_features=None, n_estimators=500, score=0.688483, total=   0.6s\n",
      "[CV] max_features=None, n_estimators=500 .............................\n",
      "[CV]  max_features=None, n_estimators=500, score=0.682065, total=   0.6s\n",
      "[CV] max_features=None, n_estimators=800 .............................\n",
      "[CV]  max_features=None, n_estimators=800, score=0.461901, total=   1.4s\n",
      "[CV] max_features=None, n_estimators=800 .............................\n",
      "[CV]  max_features=None, n_estimators=800, score=0.613300, total=   1.0s\n",
      "[CV] max_features=None, n_estimators=800 .............................\n",
      "[CV]  max_features=None, n_estimators=800, score=0.761904, total=   1.3s\n",
      "[CV] max_features=None, n_estimators=800 .............................\n",
      "[CV]  max_features=None, n_estimators=800, score=0.695958, total=   0.9s\n",
      "[CV] max_features=None, n_estimators=800 .............................\n",
      "[CV]  max_features=None, n_estimators=800, score=0.675564, total=   1.2s\n",
      "[CV] max_features=None, n_estimators=1200 ............................\n",
      "[CV]  max_features=None, n_estimators=1200, score=0.453603, total=   1.6s\n",
      "[CV] max_features=None, n_estimators=1200 ............................\n",
      "[CV]  max_features=None, n_estimators=1200, score=0.618231, total=   2.4s\n",
      "[CV] max_features=None, n_estimators=1200 ............................\n",
      "[CV]  max_features=None, n_estimators=1200, score=0.768669, total=   2.1s\n",
      "[CV] max_features=None, n_estimators=1200 ............................\n",
      "[CV]  max_features=None, n_estimators=1200, score=0.692086, total=   1.9s\n",
      "[CV] max_features=None, n_estimators=1200 ............................\n",
      "[CV]  max_features=None, n_estimators=1200, score=0.683178, total=   1.9s\n"
     ]
    },
    {
     "name": "stderr",
     "output_type": "stream",
     "text": [
      "[Parallel(n_jobs=1)]: Done  60 out of  60 | elapsed:  1.4min finished\n"
     ]
    },
    {
     "name": "stdout",
     "output_type": "stream",
     "text": [
      "Best hyper parameters: {'max_features': None, 'n_estimators': 300}\n",
      "Best score of this configuration: 0.643864659061\n",
      "max score: 0.786\n",
      "                  predicted value\ttrue value \n"
     ]
    },
    {
     "name": "stderr",
     "output_type": "stream",
     "text": [
      "C:\\Users\\Vu Anh Vinh\\Miniconda3\\envs\\thkstat\\lib\\site-packages\\sklearn\\utils\\validation.py:395: DeprecationWarning: Passing 1d arrays as data is deprecated in 0.17 and will raise ValueError in 0.19. Reshape your data either using X.reshape(-1, 1) if your data has a single feature or X.reshape(1, -1) if it contains a single sample.\n",
      "  DeprecationWarning)\n",
      "C:\\Users\\Vu Anh Vinh\\Miniconda3\\envs\\thkstat\\lib\\site-packages\\sklearn\\utils\\validation.py:395: DeprecationWarning: Passing 1d arrays as data is deprecated in 0.17 and will raise ValueError in 0.19. Reshape your data either using X.reshape(-1, 1) if your data has a single feature or X.reshape(1, -1) if it contains a single sample.\n",
      "  DeprecationWarning)\n",
      "C:\\Users\\Vu Anh Vinh\\Miniconda3\\envs\\thkstat\\lib\\site-packages\\sklearn\\utils\\validation.py:395: DeprecationWarning: Passing 1d arrays as data is deprecated in 0.17 and will raise ValueError in 0.19. Reshape your data either using X.reshape(-1, 1) if your data has a single feature or X.reshape(1, -1) if it contains a single sample.\n",
      "  DeprecationWarning)\n"
     ]
    },
    {
     "name": "stdout",
     "output_type": "stream",
     "text": [
      "student  2\t\t44.175\t\t38.000\n",
      "student  5\t\t51.684\t\t49.000\n",
      "student 10\t\t72.863\t\t67.000\n",
      "student 11\t\t55.823\t\t81.000\n"
     ]
    },
    {
     "name": "stderr",
     "output_type": "stream",
     "text": [
      "C:\\Users\\Vu Anh Vinh\\Miniconda3\\envs\\thkstat\\lib\\site-packages\\sklearn\\utils\\validation.py:395: DeprecationWarning: Passing 1d arrays as data is deprecated in 0.17 and will raise ValueError in 0.19. Reshape your data either using X.reshape(-1, 1) if your data has a single feature or X.reshape(1, -1) if it contains a single sample.\n",
      "  DeprecationWarning)\n",
      "C:\\Users\\Vu Anh Vinh\\Miniconda3\\envs\\thkstat\\lib\\site-packages\\sklearn\\utils\\validation.py:395: DeprecationWarning: Passing 1d arrays as data is deprecated in 0.17 and will raise ValueError in 0.19. Reshape your data either using X.reshape(-1, 1) if your data has a single feature or X.reshape(1, -1) if it contains a single sample.\n",
      "  DeprecationWarning)\n"
     ]
    },
    {
     "name": "stdout",
     "output_type": "stream",
     "text": [
      "student 13\t\t65.551\t\t58.000\n",
      "student 18\t\t19.994\t\t0.000\n",
      "student 22\t\t47.512\t\t42.000\n"
     ]
    },
    {
     "name": "stderr",
     "output_type": "stream",
     "text": [
      "C:\\Users\\Vu Anh Vinh\\Miniconda3\\envs\\thkstat\\lib\\site-packages\\sklearn\\utils\\validation.py:395: DeprecationWarning: Passing 1d arrays as data is deprecated in 0.17 and will raise ValueError in 0.19. Reshape your data either using X.reshape(-1, 1) if your data has a single feature or X.reshape(1, -1) if it contains a single sample.\n",
      "  DeprecationWarning)\n",
      "C:\\Users\\Vu Anh Vinh\\Miniconda3\\envs\\thkstat\\lib\\site-packages\\sklearn\\utils\\validation.py:395: DeprecationWarning: Passing 1d arrays as data is deprecated in 0.17 and will raise ValueError in 0.19. Reshape your data either using X.reshape(-1, 1) if your data has a single feature or X.reshape(1, -1) if it contains a single sample.\n",
      "  DeprecationWarning)\n",
      "C:\\Users\\Vu Anh Vinh\\Miniconda3\\envs\\thkstat\\lib\\site-packages\\sklearn\\utils\\validation.py:395: DeprecationWarning: Passing 1d arrays as data is deprecated in 0.17 and will raise ValueError in 0.19. Reshape your data either using X.reshape(-1, 1) if your data has a single feature or X.reshape(1, -1) if it contains a single sample.\n",
      "  DeprecationWarning)\n"
     ]
    },
    {
     "name": "stdout",
     "output_type": "stream",
     "text": [
      "student 33\t\t42.808\t\t48.000\n",
      "student 38\t\t38.353\t\t36.000\n"
     ]
    },
    {
     "name": "stderr",
     "output_type": "stream",
     "text": [
      "C:\\Users\\Vu Anh Vinh\\Miniconda3\\envs\\thkstat\\lib\\site-packages\\sklearn\\utils\\validation.py:395: DeprecationWarning: Passing 1d arrays as data is deprecated in 0.17 and will raise ValueError in 0.19. Reshape your data either using X.reshape(-1, 1) if your data has a single feature or X.reshape(1, -1) if it contains a single sample.\n",
      "  DeprecationWarning)\n",
      "C:\\Users\\Vu Anh Vinh\\Miniconda3\\envs\\thkstat\\lib\\site-packages\\sklearn\\utils\\validation.py:395: DeprecationWarning: Passing 1d arrays as data is deprecated in 0.17 and will raise ValueError in 0.19. Reshape your data either using X.reshape(-1, 1) if your data has a single feature or X.reshape(1, -1) if it contains a single sample.\n",
      "  DeprecationWarning)\n"
     ]
    },
    {
     "name": "stdout",
     "output_type": "stream",
     "text": [
      "student 39\t\t39.349\t\t37.000\n",
      "student 45\t\t73.072\t\t63.000\n"
     ]
    },
    {
     "name": "stderr",
     "output_type": "stream",
     "text": [
      "C:\\Users\\Vu Anh Vinh\\Miniconda3\\envs\\thkstat\\lib\\site-packages\\sklearn\\utils\\validation.py:395: DeprecationWarning: Passing 1d arrays as data is deprecated in 0.17 and will raise ValueError in 0.19. Reshape your data either using X.reshape(-1, 1) if your data has a single feature or X.reshape(1, -1) if it contains a single sample.\n",
      "  DeprecationWarning)\n",
      "C:\\Users\\Vu Anh Vinh\\Miniconda3\\envs\\thkstat\\lib\\site-packages\\sklearn\\utils\\validation.py:395: DeprecationWarning: Passing 1d arrays as data is deprecated in 0.17 and will raise ValueError in 0.19. Reshape your data either using X.reshape(-1, 1) if your data has a single feature or X.reshape(1, -1) if it contains a single sample.\n",
      "  DeprecationWarning)\n"
     ]
    },
    {
     "name": "stdout",
     "output_type": "stream",
     "text": [
      "student 46\t\t62.931\t\t61.000\n",
      "student 54\t\t36.884\t\t32.000\n"
     ]
    },
    {
     "name": "stderr",
     "output_type": "stream",
     "text": [
      "C:\\Users\\Vu Anh Vinh\\Miniconda3\\envs\\thkstat\\lib\\site-packages\\sklearn\\utils\\validation.py:395: DeprecationWarning: Passing 1d arrays as data is deprecated in 0.17 and will raise ValueError in 0.19. Reshape your data either using X.reshape(-1, 1) if your data has a single feature or X.reshape(1, -1) if it contains a single sample.\n",
      "  DeprecationWarning)\n",
      "C:\\Users\\Vu Anh Vinh\\Miniconda3\\envs\\thkstat\\lib\\site-packages\\sklearn\\utils\\validation.py:395: DeprecationWarning: Passing 1d arrays as data is deprecated in 0.17 and will raise ValueError in 0.19. Reshape your data either using X.reshape(-1, 1) if your data has a single feature or X.reshape(1, -1) if it contains a single sample.\n",
      "  DeprecationWarning)\n"
     ]
    },
    {
     "name": "stdout",
     "output_type": "stream",
     "text": [
      "student 56\t\t52.646\t\t61.000\n",
      "student 57\t\t69.611\t\t77.000\n"
     ]
    },
    {
     "name": "stderr",
     "output_type": "stream",
     "text": [
      "C:\\Users\\Vu Anh Vinh\\Miniconda3\\envs\\thkstat\\lib\\site-packages\\sklearn\\utils\\validation.py:395: DeprecationWarning: Passing 1d arrays as data is deprecated in 0.17 and will raise ValueError in 0.19. Reshape your data either using X.reshape(-1, 1) if your data has a single feature or X.reshape(1, -1) if it contains a single sample.\n",
      "  DeprecationWarning)\n",
      "C:\\Users\\Vu Anh Vinh\\Miniconda3\\envs\\thkstat\\lib\\site-packages\\sklearn\\utils\\validation.py:395: DeprecationWarning: Passing 1d arrays as data is deprecated in 0.17 and will raise ValueError in 0.19. Reshape your data either using X.reshape(-1, 1) if your data has a single feature or X.reshape(1, -1) if it contains a single sample.\n",
      "  DeprecationWarning)\n"
     ]
    },
    {
     "name": "stdout",
     "output_type": "stream",
     "text": [
      "student 58\t\t71.084\t\t84.000\n",
      "student 65\t\t52.505\t\t52.000\n"
     ]
    },
    {
     "name": "stderr",
     "output_type": "stream",
     "text": [
      "C:\\Users\\Vu Anh Vinh\\Miniconda3\\envs\\thkstat\\lib\\site-packages\\sklearn\\utils\\validation.py:395: DeprecationWarning: Passing 1d arrays as data is deprecated in 0.17 and will raise ValueError in 0.19. Reshape your data either using X.reshape(-1, 1) if your data has a single feature or X.reshape(1, -1) if it contains a single sample.\n",
      "  DeprecationWarning)\n",
      "C:\\Users\\Vu Anh Vinh\\Miniconda3\\envs\\thkstat\\lib\\site-packages\\sklearn\\utils\\validation.py:395: DeprecationWarning: Passing 1d arrays as data is deprecated in 0.17 and will raise ValueError in 0.19. Reshape your data either using X.reshape(-1, 1) if your data has a single feature or X.reshape(1, -1) if it contains a single sample.\n",
      "  DeprecationWarning)\n"
     ]
    },
    {
     "name": "stdout",
     "output_type": "stream",
     "text": [
      "student 69\t\t52.160\t\t55.000\n",
      "student 71\t\t39.548\t\t38.000\n"
     ]
    },
    {
     "name": "stderr",
     "output_type": "stream",
     "text": [
      "C:\\Users\\Vu Anh Vinh\\Miniconda3\\envs\\thkstat\\lib\\site-packages\\sklearn\\utils\\validation.py:395: DeprecationWarning: Passing 1d arrays as data is deprecated in 0.17 and will raise ValueError in 0.19. Reshape your data either using X.reshape(-1, 1) if your data has a single feature or X.reshape(1, -1) if it contains a single sample.\n",
      "  DeprecationWarning)\n",
      "C:\\Users\\Vu Anh Vinh\\Miniconda3\\envs\\thkstat\\lib\\site-packages\\sklearn\\utils\\validation.py:395: DeprecationWarning: Passing 1d arrays as data is deprecated in 0.17 and will raise ValueError in 0.19. Reshape your data either using X.reshape(-1, 1) if your data has a single feature or X.reshape(1, -1) if it contains a single sample.\n",
      "  DeprecationWarning)\n"
     ]
    },
    {
     "name": "stdout",
     "output_type": "stream",
     "text": [
      "student 73\t\t53.039\t\t44.000\n",
      "student 78\t\t39.642\t\t43.000\n"
     ]
    },
    {
     "name": "stderr",
     "output_type": "stream",
     "text": [
      "C:\\Users\\Vu Anh Vinh\\Miniconda3\\envs\\thkstat\\lib\\site-packages\\sklearn\\utils\\validation.py:395: DeprecationWarning: Passing 1d arrays as data is deprecated in 0.17 and will raise ValueError in 0.19. Reshape your data either using X.reshape(-1, 1) if your data has a single feature or X.reshape(1, -1) if it contains a single sample.\n",
      "  DeprecationWarning)\n",
      "C:\\Users\\Vu Anh Vinh\\Miniconda3\\envs\\thkstat\\lib\\site-packages\\sklearn\\utils\\validation.py:395: DeprecationWarning: Passing 1d arrays as data is deprecated in 0.17 and will raise ValueError in 0.19. Reshape your data either using X.reshape(-1, 1) if your data has a single feature or X.reshape(1, -1) if it contains a single sample.\n",
      "  DeprecationWarning)\n"
     ]
    },
    {
     "name": "stdout",
     "output_type": "stream",
     "text": [
      "student 87\t\t68.273\t\t75.000\n",
      "Grid search for... Linear Regression\n",
      "LinearRegression(copy_X=True, fit_intercept=True, n_jobs=1, normalize=False)\n",
      "Fitting 5 folds for each of 4 candidates, totalling 20 fits\n",
      "[CV] normalize=True, fit_intercept=True ..............................\n",
      "[CV]  normalize=True, fit_intercept=True, score=0.700268, total=   0.0s\n",
      "[CV] normalize=True, fit_intercept=True ..............................\n",
      "[CV]  normalize=True, fit_intercept=True, score=0.660233, total=   0.0s\n",
      "[CV] normalize=True, fit_intercept=True ..............................\n",
      "[CV]  normalize=True, fit_intercept=True, score=0.633952, total=   0.0s\n",
      "[CV] normalize=True, fit_intercept=True ..............................\n",
      "[CV]  normalize=True, fit_intercept=True, score=0.617228, total=   0.0s\n",
      "[CV] normalize=True, fit_intercept=True ..............................\n",
      "[CV]  normalize=True, fit_intercept=True, score=0.766848, total=   0.0s\n",
      "[CV] normalize=False, fit_intercept=True .............................\n",
      "[CV]  normalize=False, fit_intercept=True, score=0.700268, total=   0.0s\n",
      "[CV] normalize=False, fit_intercept=True .............................\n",
      "[CV]  normalize=False, fit_intercept=True, score=0.660233, total=   0.0s\n",
      "[CV] normalize=False, fit_intercept=True .............................\n",
      "[CV]  normalize=False, fit_intercept=True, score=0.633952, total=   0.0s\n",
      "[CV] normalize=False, fit_intercept=True .............................\n",
      "[CV]  normalize=False, fit_intercept=True, score=0.617228, total=   0.0s\n",
      "[CV] normalize=False, fit_intercept=True .............................\n",
      "[CV]  normalize=False, fit_intercept=True, score=0.766848, total=   0.0s\n",
      "[CV] normalize=True, fit_intercept=False .............................\n",
      "[CV]  normalize=True, fit_intercept=False, score=0.696051, total=   0.0s\n",
      "[CV] normalize=True, fit_intercept=False .............................\n",
      "[CV]  normalize=True, fit_intercept=False, score=0.722947, total=   0.0s\n",
      "[CV] normalize=True, fit_intercept=False .............................\n",
      "[CV]  normalize=True, fit_intercept=False, score=0.634776, total=   0.0s\n",
      "[CV] normalize=True, fit_intercept=False .............................\n",
      "[CV]  normalize=True, fit_intercept=False, score=0.547235, total=   0.0s\n",
      "[CV] normalize=True, fit_intercept=False .............................\n",
      "[CV]  normalize=True, fit_intercept=False, score=0.687890, total=   0.0s\n",
      "[CV] normalize=False, fit_intercept=False ............................\n",
      "[CV]  normalize=False, fit_intercept=False, score=0.696051, total=   0.0s\n",
      "[CV] normalize=False, fit_intercept=False ............................\n",
      "[CV]  normalize=False, fit_intercept=False, score=0.722947, total=   0.0s\n",
      "[CV] normalize=False, fit_intercept=False ............................\n",
      "[CV]  normalize=False, fit_intercept=False, score=0.634776, total=   0.0s\n",
      "[CV] normalize=False, fit_intercept=False ............................\n",
      "[CV]  normalize=False, fit_intercept=False, score=0.547235, total=   0.0s\n",
      "[CV] normalize=False, fit_intercept=False ............................\n",
      "[CV]  normalize=False, fit_intercept=False, score=0.687890, total=   0.0s\n",
      "Best hyper parameters: {'normalize': False, 'fit_intercept': True}\n",
      "Best score of this configuration: 0.675975616579\n",
      "max score: 0.726\n",
      "                  predicted value\ttrue value \n",
      "student  1\t\t53.700\t\t54.000\n",
      "student  2\t\t30.074\t\t38.000\n",
      "student 11\t\t66.002\t\t81.000\n",
      "student 14\t\t77.862\t\t74.000\n",
      "student 17\t\t57.590\t\t61.000\n",
      "student 18\t\t14.523\t\t0.000\n",
      "student 19\t\t40.498\t\t36.000\n",
      "student 20\t\t66.968\t\t71.000\n",
      "student 25\t\t56.536\t\t36.000\n",
      "student 36\t\t47.734\t\t43.000\n",
      "student 41\t\t45.200\t\t54.000\n",
      "student 44\t\t32.865\t\t40.000\n",
      "student 45\t\t70.669\t\t63.000\n",
      "student 46\t\t65.460\t\t61.000\n",
      "student 47\t\t51.783\t\t37.000\n",
      "student 50\t\t67.004\t\t49.000\n",
      "student 58\t\t73.206\t\t84.000\n",
      "student 63\t\t64.743\t\t65.000\n",
      "student 69\t\t57.417\t\t55.000\n",
      "student 77\t\t63.058\t\t71.000\n",
      "student 81\t\t48.873\t\t39.000\n",
      "student 86\t\t54.489\t\t40.000\n",
      "student 87\t\t73.219\t\t75.000\n",
      "Grid search for... Ridge regression\n",
      "Ridge(alpha=1.0, copy_X=True, fit_intercept=True, max_iter=None,\n",
      "   normalize=False, random_state=None, solver='auto', tol=0.001)\n",
      "Fitting 5 folds for each of 20 candidates, totalling 100 fits\n",
      "[CV] alpha=0.01, normalize=True, fit_intercept=True ..................\n",
      "[CV]  alpha=0.01, normalize=True, fit_intercept=True, score=-0.260560, total=   0.0s\n",
      "[CV] alpha=0.01, normalize=True, fit_intercept=True ..................\n",
      "[CV]  alpha=0.01, normalize=True, fit_intercept=True, score=0.776287, total=   0.0s\n",
      "[CV] alpha=0.01, normalize=True, fit_intercept=True ..................\n",
      "[CV]  alpha=0.01, normalize=True, fit_intercept=True, score=0.813610, total=   0.0s\n",
      "[CV] alpha=0.01, normalize=True, fit_intercept=True ..................\n",
      "[CV]  alpha=0.01, normalize=True, fit_intercept=True, score=0.638308, total=   0.0s\n",
      "[CV] alpha=0.01, normalize=True, fit_intercept=True ..................\n",
      "[CV]  alpha=0.01, normalize=True, fit_intercept=True, score=0.725820, total=   0.0s\n",
      "[CV] alpha=0.01, normalize=False, fit_intercept=True .................\n",
      "[CV]  alpha=0.01, normalize=False, fit_intercept=True, score=-0.264002, total=   0.0s\n",
      "[CV] alpha=0.01, normalize=False, fit_intercept=True .................\n",
      "[CV]  alpha=0.01, normalize=False, fit_intercept=True, score=0.776610, total=   0.0s\n",
      "[CV] alpha=0.01, normalize=False, fit_intercept=True .................\n",
      "[CV]  alpha=0.01, normalize=False, fit_intercept=True, score=0.814149, total=   0.0s\n",
      "[CV] alpha=0.01, normalize=False, fit_intercept=True .................\n",
      "[CV]  alpha=0.01, normalize=False, fit_intercept=True, score=0.638288, total=   0.0s\n",
      "[CV] alpha=0.01, normalize=False, fit_intercept=True .................\n",
      "[CV]  alpha=0.01, normalize=False, fit_intercept=True, score=0.726041, total=   0.0s\n",
      "[CV] alpha=0.01, normalize=True, fit_intercept=False .................\n",
      "[CV]  alpha=0.01, normalize=True, fit_intercept=False, score=0.128277, total=   0.0s\n",
      "[CV] alpha=0.01, normalize=True, fit_intercept=False .................\n",
      "[CV]  alpha=0.01, normalize=True, fit_intercept=False, score=0.729852, total=   0.0s\n",
      "[CV] alpha=0.01, normalize=True, fit_intercept=False .................\n",
      "[CV]  alpha=0.01, normalize=True, fit_intercept=False, score=0.735531, total=   0.0s\n",
      "[CV] alpha=0.01, normalize=True, fit_intercept=False .................\n",
      "[CV]  alpha=0.01, normalize=True, fit_intercept=False, score=0.571622, total=   0.0s\n",
      "[CV] alpha=0.01, normalize=True, fit_intercept=False .................\n",
      "[CV]  alpha=0.01, normalize=True, fit_intercept=False, score=0.652418, total=   0.0s\n",
      "[CV] alpha=0.01, normalize=False, fit_intercept=False ................\n",
      "[CV]  alpha=0.01, normalize=False, fit_intercept=False, score=0.128277, total=   0.0s\n",
      "[CV] alpha=0.01, normalize=False, fit_intercept=False ................\n",
      "[CV]  alpha=0.01, normalize=False, fit_intercept=False, score=0.729852, total=   0.0s\n",
      "[CV] alpha=0.01, normalize=False, fit_intercept=False ................\n",
      "[CV]  alpha=0.01, normalize=False, fit_intercept=False, score=0.735531, total=   0.0s\n",
      "[CV] alpha=0.01, normalize=False, fit_intercept=False ................\n",
      "[CV]  alpha=0.01, normalize=False, fit_intercept=False, score=0.571622, total=   0.0s\n",
      "[CV] alpha=0.01, normalize=False, fit_intercept=False ................\n",
      "[CV]  alpha=0.01, normalize=False, fit_intercept=False, score=0.652418, total=   0.0s\n",
      "[CV] alpha=0.1, normalize=True, fit_intercept=True ...................\n",
      "[CV]  alpha=0.1, normalize=True, fit_intercept=True, score=-0.182357, total=   0.0s\n",
      "[CV] alpha=0.1, normalize=True, fit_intercept=True ...................\n",
      "[CV]  alpha=0.1, normalize=True, fit_intercept=True, score=0.778347, total=   0.0s\n",
      "[CV] alpha=0.1, normalize=True, fit_intercept=True ...................\n",
      "[CV]  alpha=0.1, normalize=True, fit_intercept=True, score=0.803572, total=   0.0s\n",
      "[CV] alpha=0.1, normalize=True, fit_intercept=True ...................\n",
      "[CV]  alpha=0.1, normalize=True, fit_intercept=True, score=0.631106, total=   0.0s\n",
      "[CV] alpha=0.1, normalize=True, fit_intercept=True ...................\n",
      "[CV]  alpha=0.1, normalize=True, fit_intercept=True, score=0.724632, total=   0.0s\n",
      "[CV] alpha=0.1, normalize=False, fit_intercept=True ..................\n",
      "[CV]  alpha=0.1, normalize=False, fit_intercept=True, score=-0.215134, total=   0.0s\n",
      "[CV] alpha=0.1, normalize=False, fit_intercept=True ..................\n",
      "[CV]  alpha=0.1, normalize=False, fit_intercept=True, score=0.781649, total=   0.0s\n",
      "[CV] alpha=0.1, normalize=False, fit_intercept=True ..................\n",
      "[CV]  alpha=0.1, normalize=False, fit_intercept=True, score=0.809099, total=   0.0s\n",
      "[CV] alpha=0.1, normalize=False, fit_intercept=True ..................\n",
      "[CV]  alpha=0.1, normalize=False, fit_intercept=True, score=0.631318, total=   0.0s\n",
      "[CV] alpha=0.1, normalize=False, fit_intercept=True ..................\n",
      "[CV]  alpha=0.1, normalize=False, fit_intercept=True, score=0.725122, total=   0.0s\n",
      "[CV] alpha=0.1, normalize=True, fit_intercept=False ..................\n",
      "[CV]  alpha=0.1, normalize=True, fit_intercept=False, score=0.140891, total=   0.0s\n",
      "[CV] alpha=0.1, normalize=True, fit_intercept=False ..................\n",
      "[CV]  alpha=0.1, normalize=True, fit_intercept=False, score=0.733128, total=   0.0s\n",
      "[CV] alpha=0.1, normalize=True, fit_intercept=False ..................\n",
      "[CV]  alpha=0.1, normalize=True, fit_intercept=False, score=0.736890, total=   0.0s\n",
      "[CV] alpha=0.1, normalize=True, fit_intercept=False ..................\n",
      "[CV]  alpha=0.1, normalize=True, fit_intercept=False, score=0.568092, total=   0.0s\n",
      "[CV] alpha=0.1, normalize=True, fit_intercept=False ..................\n",
      "[CV]  alpha=0.1, normalize=True, fit_intercept=False, score=0.653498, total=   0.0s\n",
      "[CV] alpha=0.1, normalize=False, fit_intercept=False .................\n",
      "[CV]  alpha=0.1, normalize=False, fit_intercept=False, score=0.140891, total=   0.0s\n",
      "[CV] alpha=0.1, normalize=False, fit_intercept=False .................\n",
      "[CV]  alpha=0.1, normalize=False, fit_intercept=False, score=0.733128, total=   0.0s\n",
      "[CV] alpha=0.1, normalize=False, fit_intercept=False .................\n",
      "[CV]  alpha=0.1, normalize=False, fit_intercept=False, score=0.736890, total=   0.0s\n",
      "[CV] alpha=0.1, normalize=False, fit_intercept=False .................\n",
      "[CV]  alpha=0.1, normalize=False, fit_intercept=False, score=0.568092, total=   0.0s\n",
      "[CV] alpha=0.1, normalize=False, fit_intercept=False .................\n",
      "[CV]  alpha=0.1, normalize=False, fit_intercept=False, score=0.653498, total=   0.0s\n",
      "[CV] alpha=1.0, normalize=True, fit_intercept=True ...................\n"
     ]
    },
    {
     "name": "stderr",
     "output_type": "stream",
     "text": [
      "[Parallel(n_jobs=1)]: Done   1 out of   1 | elapsed:    0.0s remaining:    0.0s\n",
      "[Parallel(n_jobs=1)]: Done   2 out of   2 | elapsed:    0.0s remaining:    0.0s\n",
      "[Parallel(n_jobs=1)]: Done   3 out of   3 | elapsed:    0.0s remaining:    0.0s\n",
      "[Parallel(n_jobs=1)]: Done  20 out of  20 | elapsed:    0.0s finished\n",
      "C:\\Users\\Vu Anh Vinh\\Miniconda3\\envs\\thkstat\\lib\\site-packages\\sklearn\\utils\\validation.py:395: DeprecationWarning: Passing 1d arrays as data is deprecated in 0.17 and will raise ValueError in 0.19. Reshape your data either using X.reshape(-1, 1) if your data has a single feature or X.reshape(1, -1) if it contains a single sample.\n",
      "  DeprecationWarning)\n",
      "C:\\Users\\Vu Anh Vinh\\Miniconda3\\envs\\thkstat\\lib\\site-packages\\sklearn\\utils\\validation.py:395: DeprecationWarning: Passing 1d arrays as data is deprecated in 0.17 and will raise ValueError in 0.19. Reshape your data either using X.reshape(-1, 1) if your data has a single feature or X.reshape(1, -1) if it contains a single sample.\n",
      "  DeprecationWarning)\n",
      "C:\\Users\\Vu Anh Vinh\\Miniconda3\\envs\\thkstat\\lib\\site-packages\\sklearn\\utils\\validation.py:395: DeprecationWarning: Passing 1d arrays as data is deprecated in 0.17 and will raise ValueError in 0.19. Reshape your data either using X.reshape(-1, 1) if your data has a single feature or X.reshape(1, -1) if it contains a single sample.\n",
      "  DeprecationWarning)\n",
      "C:\\Users\\Vu Anh Vinh\\Miniconda3\\envs\\thkstat\\lib\\site-packages\\sklearn\\utils\\validation.py:395: DeprecationWarning: Passing 1d arrays as data is deprecated in 0.17 and will raise ValueError in 0.19. Reshape your data either using X.reshape(-1, 1) if your data has a single feature or X.reshape(1, -1) if it contains a single sample.\n",
      "  DeprecationWarning)\n",
      "C:\\Users\\Vu Anh Vinh\\Miniconda3\\envs\\thkstat\\lib\\site-packages\\sklearn\\utils\\validation.py:395: DeprecationWarning: Passing 1d arrays as data is deprecated in 0.17 and will raise ValueError in 0.19. Reshape your data either using X.reshape(-1, 1) if your data has a single feature or X.reshape(1, -1) if it contains a single sample.\n",
      "  DeprecationWarning)\n",
      "C:\\Users\\Vu Anh Vinh\\Miniconda3\\envs\\thkstat\\lib\\site-packages\\sklearn\\utils\\validation.py:395: DeprecationWarning: Passing 1d arrays as data is deprecated in 0.17 and will raise ValueError in 0.19. Reshape your data either using X.reshape(-1, 1) if your data has a single feature or X.reshape(1, -1) if it contains a single sample.\n",
      "  DeprecationWarning)\n",
      "C:\\Users\\Vu Anh Vinh\\Miniconda3\\envs\\thkstat\\lib\\site-packages\\sklearn\\utils\\validation.py:395: DeprecationWarning: Passing 1d arrays as data is deprecated in 0.17 and will raise ValueError in 0.19. Reshape your data either using X.reshape(-1, 1) if your data has a single feature or X.reshape(1, -1) if it contains a single sample.\n",
      "  DeprecationWarning)\n",
      "C:\\Users\\Vu Anh Vinh\\Miniconda3\\envs\\thkstat\\lib\\site-packages\\sklearn\\utils\\validation.py:395: DeprecationWarning: Passing 1d arrays as data is deprecated in 0.17 and will raise ValueError in 0.19. Reshape your data either using X.reshape(-1, 1) if your data has a single feature or X.reshape(1, -1) if it contains a single sample.\n",
      "  DeprecationWarning)\n",
      "C:\\Users\\Vu Anh Vinh\\Miniconda3\\envs\\thkstat\\lib\\site-packages\\sklearn\\utils\\validation.py:395: DeprecationWarning: Passing 1d arrays as data is deprecated in 0.17 and will raise ValueError in 0.19. Reshape your data either using X.reshape(-1, 1) if your data has a single feature or X.reshape(1, -1) if it contains a single sample.\n",
      "  DeprecationWarning)\n",
      "C:\\Users\\Vu Anh Vinh\\Miniconda3\\envs\\thkstat\\lib\\site-packages\\sklearn\\utils\\validation.py:395: DeprecationWarning: Passing 1d arrays as data is deprecated in 0.17 and will raise ValueError in 0.19. Reshape your data either using X.reshape(-1, 1) if your data has a single feature or X.reshape(1, -1) if it contains a single sample.\n",
      "  DeprecationWarning)\n",
      "C:\\Users\\Vu Anh Vinh\\Miniconda3\\envs\\thkstat\\lib\\site-packages\\sklearn\\utils\\validation.py:395: DeprecationWarning: Passing 1d arrays as data is deprecated in 0.17 and will raise ValueError in 0.19. Reshape your data either using X.reshape(-1, 1) if your data has a single feature or X.reshape(1, -1) if it contains a single sample.\n",
      "  DeprecationWarning)\n",
      "C:\\Users\\Vu Anh Vinh\\Miniconda3\\envs\\thkstat\\lib\\site-packages\\sklearn\\utils\\validation.py:395: DeprecationWarning: Passing 1d arrays as data is deprecated in 0.17 and will raise ValueError in 0.19. Reshape your data either using X.reshape(-1, 1) if your data has a single feature or X.reshape(1, -1) if it contains a single sample.\n",
      "  DeprecationWarning)\n",
      "C:\\Users\\Vu Anh Vinh\\Miniconda3\\envs\\thkstat\\lib\\site-packages\\sklearn\\utils\\validation.py:395: DeprecationWarning: Passing 1d arrays as data is deprecated in 0.17 and will raise ValueError in 0.19. Reshape your data either using X.reshape(-1, 1) if your data has a single feature or X.reshape(1, -1) if it contains a single sample.\n",
      "  DeprecationWarning)\n",
      "C:\\Users\\Vu Anh Vinh\\Miniconda3\\envs\\thkstat\\lib\\site-packages\\sklearn\\utils\\validation.py:395: DeprecationWarning: Passing 1d arrays as data is deprecated in 0.17 and will raise ValueError in 0.19. Reshape your data either using X.reshape(-1, 1) if your data has a single feature or X.reshape(1, -1) if it contains a single sample.\n",
      "  DeprecationWarning)\n",
      "C:\\Users\\Vu Anh Vinh\\Miniconda3\\envs\\thkstat\\lib\\site-packages\\sklearn\\utils\\validation.py:395: DeprecationWarning: Passing 1d arrays as data is deprecated in 0.17 and will raise ValueError in 0.19. Reshape your data either using X.reshape(-1, 1) if your data has a single feature or X.reshape(1, -1) if it contains a single sample.\n",
      "  DeprecationWarning)\n",
      "C:\\Users\\Vu Anh Vinh\\Miniconda3\\envs\\thkstat\\lib\\site-packages\\sklearn\\utils\\validation.py:395: DeprecationWarning: Passing 1d arrays as data is deprecated in 0.17 and will raise ValueError in 0.19. Reshape your data either using X.reshape(-1, 1) if your data has a single feature or X.reshape(1, -1) if it contains a single sample.\n",
      "  DeprecationWarning)\n",
      "C:\\Users\\Vu Anh Vinh\\Miniconda3\\envs\\thkstat\\lib\\site-packages\\sklearn\\utils\\validation.py:395: DeprecationWarning: Passing 1d arrays as data is deprecated in 0.17 and will raise ValueError in 0.19. Reshape your data either using X.reshape(-1, 1) if your data has a single feature or X.reshape(1, -1) if it contains a single sample.\n",
      "  DeprecationWarning)\n",
      "C:\\Users\\Vu Anh Vinh\\Miniconda3\\envs\\thkstat\\lib\\site-packages\\sklearn\\utils\\validation.py:395: DeprecationWarning: Passing 1d arrays as data is deprecated in 0.17 and will raise ValueError in 0.19. Reshape your data either using X.reshape(-1, 1) if your data has a single feature or X.reshape(1, -1) if it contains a single sample.\n",
      "  DeprecationWarning)\n",
      "C:\\Users\\Vu Anh Vinh\\Miniconda3\\envs\\thkstat\\lib\\site-packages\\sklearn\\utils\\validation.py:395: DeprecationWarning: Passing 1d arrays as data is deprecated in 0.17 and will raise ValueError in 0.19. Reshape your data either using X.reshape(-1, 1) if your data has a single feature or X.reshape(1, -1) if it contains a single sample.\n",
      "  DeprecationWarning)\n",
      "C:\\Users\\Vu Anh Vinh\\Miniconda3\\envs\\thkstat\\lib\\site-packages\\sklearn\\utils\\validation.py:395: DeprecationWarning: Passing 1d arrays as data is deprecated in 0.17 and will raise ValueError in 0.19. Reshape your data either using X.reshape(-1, 1) if your data has a single feature or X.reshape(1, -1) if it contains a single sample.\n",
      "  DeprecationWarning)\n",
      "C:\\Users\\Vu Anh Vinh\\Miniconda3\\envs\\thkstat\\lib\\site-packages\\sklearn\\utils\\validation.py:395: DeprecationWarning: Passing 1d arrays as data is deprecated in 0.17 and will raise ValueError in 0.19. Reshape your data either using X.reshape(-1, 1) if your data has a single feature or X.reshape(1, -1) if it contains a single sample.\n",
      "  DeprecationWarning)\n",
      "C:\\Users\\Vu Anh Vinh\\Miniconda3\\envs\\thkstat\\lib\\site-packages\\sklearn\\utils\\validation.py:395: DeprecationWarning: Passing 1d arrays as data is deprecated in 0.17 and will raise ValueError in 0.19. Reshape your data either using X.reshape(-1, 1) if your data has a single feature or X.reshape(1, -1) if it contains a single sample.\n",
      "  DeprecationWarning)\n",
      "C:\\Users\\Vu Anh Vinh\\Miniconda3\\envs\\thkstat\\lib\\site-packages\\sklearn\\utils\\validation.py:395: DeprecationWarning: Passing 1d arrays as data is deprecated in 0.17 and will raise ValueError in 0.19. Reshape your data either using X.reshape(-1, 1) if your data has a single feature or X.reshape(1, -1) if it contains a single sample.\n",
      "  DeprecationWarning)\n",
      "[Parallel(n_jobs=1)]: Done   1 out of   1 | elapsed:    0.0s remaining:    0.0s\n",
      "[Parallel(n_jobs=1)]: Done   2 out of   2 | elapsed:    0.0s remaining:    0.0s\n",
      "[Parallel(n_jobs=1)]: Done   3 out of   3 | elapsed:    0.0s remaining:    0.0s\n"
     ]
    },
    {
     "name": "stdout",
     "output_type": "stream",
     "text": [
      "[CV]  alpha=1.0, normalize=True, fit_intercept=True, score=0.200027, total=   0.0s\n",
      "[CV] alpha=1.0, normalize=True, fit_intercept=True ...................\n",
      "[CV]  alpha=1.0, normalize=True, fit_intercept=True, score=0.729438, total=   0.0s\n",
      "[CV] alpha=1.0, normalize=True, fit_intercept=True ...................\n",
      "[CV]  alpha=1.0, normalize=True, fit_intercept=True, score=0.703881, total=   0.0s\n",
      "[CV] alpha=1.0, normalize=True, fit_intercept=True ...................\n",
      "[CV]  alpha=1.0, normalize=True, fit_intercept=True, score=0.552035, total=   0.0s\n",
      "[CV] alpha=1.0, normalize=True, fit_intercept=True ...................\n",
      "[CV]  alpha=1.0, normalize=True, fit_intercept=True, score=0.682858, total=   0.0s\n",
      "[CV] alpha=1.0, normalize=False, fit_intercept=True ..................\n",
      "[CV]  alpha=1.0, normalize=False, fit_intercept=True, score=0.013642, total=   0.0s\n",
      "[CV] alpha=1.0, normalize=False, fit_intercept=True ..................\n",
      "[CV]  alpha=1.0, normalize=False, fit_intercept=True, score=0.773556, total=   0.0s\n",
      "[CV] alpha=1.0, normalize=False, fit_intercept=True ..................\n",
      "[CV]  alpha=1.0, normalize=False, fit_intercept=True, score=0.762723, total=   0.0s\n",
      "[CV] alpha=1.0, normalize=False, fit_intercept=True ..................\n",
      "[CV]  alpha=1.0, normalize=False, fit_intercept=True, score=0.582421, total=   0.0s\n",
      "[CV] alpha=1.0, normalize=False, fit_intercept=True ..................\n",
      "[CV]  alpha=1.0, normalize=False, fit_intercept=True, score=0.684488, total=   0.0s\n",
      "[CV] alpha=1.0, normalize=True, fit_intercept=False ..................\n",
      "[CV]  alpha=1.0, normalize=True, fit_intercept=False, score=0.196050, total=   0.0s\n",
      "[CV] alpha=1.0, normalize=True, fit_intercept=False ..................\n",
      "[CV]  alpha=1.0, normalize=True, fit_intercept=False, score=0.742158, total=   0.0s\n",
      "[CV] alpha=1.0, normalize=True, fit_intercept=False ..................\n",
      "[CV]  alpha=1.0, normalize=True, fit_intercept=False, score=0.735358, total=   0.0s\n",
      "[CV] alpha=1.0, normalize=True, fit_intercept=False ..................\n",
      "[CV]  alpha=1.0, normalize=True, fit_intercept=False, score=0.550677, total=   0.0s\n",
      "[CV] alpha=1.0, normalize=True, fit_intercept=False ..................\n",
      "[CV]  alpha=1.0, normalize=True, fit_intercept=False, score=0.652539, total=   0.0s\n",
      "[CV] alpha=1.0, normalize=False, fit_intercept=False .................\n",
      "[CV]  alpha=1.0, normalize=False, fit_intercept=False, score=0.196050, total=   0.0s\n",
      "[CV] alpha=1.0, normalize=False, fit_intercept=False .................\n",
      "[CV]  alpha=1.0, normalize=False, fit_intercept=False, score=0.742158, total=   0.0s\n",
      "[CV] alpha=1.0, normalize=False, fit_intercept=False .................\n",
      "[CV]  alpha=1.0, normalize=False, fit_intercept=False, score=0.735358, total=   0.0s\n",
      "[CV] alpha=1.0, normalize=False, fit_intercept=False .................\n",
      "[CV]  alpha=1.0, normalize=False, fit_intercept=False, score=0.550677, total=   0.0s\n",
      "[CV] alpha=1.0, normalize=False, fit_intercept=False .................\n",
      "[CV]  alpha=1.0, normalize=False, fit_intercept=False, score=0.652539, total=   0.0s\n",
      "[CV] alpha=10, normalize=True, fit_intercept=True ....................\n",
      "[CV]  alpha=10, normalize=True, fit_intercept=True, score=0.313910, total=   0.0s\n",
      "[CV] alpha=10, normalize=True, fit_intercept=True ....................\n",
      "[CV]  alpha=10, normalize=True, fit_intercept=True, score=0.251145, total=   0.0s\n",
      "[CV] alpha=10, normalize=True, fit_intercept=True ....................\n",
      "[CV]  alpha=10, normalize=True, fit_intercept=True, score=0.281207, total=   0.0s\n",
      "[CV] alpha=10, normalize=True, fit_intercept=True ....................\n",
      "[CV]  alpha=10, normalize=True, fit_intercept=True, score=0.140698, total=   0.0s\n",
      "[CV] alpha=10, normalize=True, fit_intercept=True ....................\n",
      "[CV]  alpha=10, normalize=True, fit_intercept=True, score=0.309370, total=   0.0s\n",
      "[CV] alpha=10, normalize=False, fit_intercept=True ...................\n",
      "[CV]  alpha=10, normalize=False, fit_intercept=True, score=0.416539, total=   0.0s\n",
      "[CV] alpha=10, normalize=False, fit_intercept=True ...................\n",
      "[CV]  alpha=10, normalize=False, fit_intercept=True, score=0.493094, total=   0.0s\n",
      "[CV] alpha=10, normalize=False, fit_intercept=True ...................\n",
      "[CV]  alpha=10, normalize=False, fit_intercept=True, score=0.487802, total=   0.0s\n",
      "[CV] alpha=10, normalize=False, fit_intercept=True ...................\n",
      "[CV]  alpha=10, normalize=False, fit_intercept=True, score=0.344619, total=   0.0s\n",
      "[CV] alpha=10, normalize=False, fit_intercept=True ...................\n",
      "[CV]  alpha=10, normalize=False, fit_intercept=True, score=0.454226, total=   0.0s\n",
      "[CV] alpha=10, normalize=True, fit_intercept=False ...................\n",
      "[CV]  alpha=10, normalize=True, fit_intercept=False, score=0.375241, total=   0.0s\n",
      "[CV] alpha=10, normalize=True, fit_intercept=False ...................\n",
      "[CV]  alpha=10, normalize=True, fit_intercept=False, score=0.722550, total=   0.0s\n",
      "[CV] alpha=10, normalize=True, fit_intercept=False ...................\n",
      "[CV]  alpha=10, normalize=True, fit_intercept=False, score=0.677013, total=   0.0s\n",
      "[CV] alpha=10, normalize=True, fit_intercept=False ...................\n",
      "[CV]  alpha=10, normalize=True, fit_intercept=False, score=0.467014, total=   0.0s\n",
      "[CV] alpha=10, normalize=True, fit_intercept=False ...................\n",
      "[CV]  alpha=10, normalize=True, fit_intercept=False, score=0.618758, total=   0.0s\n",
      "[CV] alpha=10, normalize=False, fit_intercept=False ..................\n",
      "[CV]  alpha=10, normalize=False, fit_intercept=False, score=0.375241, total=   0.0s\n",
      "[CV] alpha=10, normalize=False, fit_intercept=False ..................\n",
      "[CV]  alpha=10, normalize=False, fit_intercept=False, score=0.722550, total=   0.0s\n",
      "[CV] alpha=10, normalize=False, fit_intercept=False ..................\n",
      "[CV]  alpha=10, normalize=False, fit_intercept=False, score=0.677013, total=   0.0s\n",
      "[CV] alpha=10, normalize=False, fit_intercept=False ..................\n",
      "[CV]  alpha=10, normalize=False, fit_intercept=False, score=0.467014, total=   0.0s\n",
      "[CV] alpha=10, normalize=False, fit_intercept=False ..................\n",
      "[CV]  alpha=10, normalize=False, fit_intercept=False, score=0.618758, total=   0.0s\n",
      "[CV] alpha=100, normalize=True, fit_intercept=True ...................\n",
      "[CV]  alpha=100, normalize=True, fit_intercept=True, score=0.026837, total=   0.0s\n",
      "[CV] alpha=100, normalize=True, fit_intercept=True ...................\n",
      "[CV]  alpha=100, normalize=True, fit_intercept=True, score=-0.081763, total=   0.0s\n",
      "[CV] alpha=100, normalize=True, fit_intercept=True ...................\n",
      "[CV]  alpha=100, normalize=True, fit_intercept=True, score=0.034839, total=   0.0s\n",
      "[CV] alpha=100, normalize=True, fit_intercept=True ...................\n",
      "[CV]  alpha=100, normalize=True, fit_intercept=True, score=-0.119593, total=   0.0s\n",
      "[CV] alpha=100, normalize=True, fit_intercept=True ...................\n",
      "[CV]  alpha=100, normalize=True, fit_intercept=True, score=0.043023, total=   0.0s\n",
      "[CV] alpha=100, normalize=False, fit_intercept=True ..................\n",
      "[CV]  alpha=100, normalize=False, fit_intercept=True, score=0.113616, total=   0.0s\n",
      "[CV] alpha=100, normalize=False, fit_intercept=True ..................\n",
      "[CV]  alpha=100, normalize=False, fit_intercept=True, score=-0.006430, total=   0.0s\n",
      "[CV] alpha=100, normalize=False, fit_intercept=True ..................\n",
      "[CV]  alpha=100, normalize=False, fit_intercept=True, score=0.095611, total=   0.0s\n",
      "[CV] alpha=100, normalize=False, fit_intercept=True ..................\n",
      "[CV]  alpha=100, normalize=False, fit_intercept=True, score=-0.051679, total=   0.0s\n",
      "[CV] alpha=100, normalize=False, fit_intercept=True ..................\n",
      "[CV]  alpha=100, normalize=False, fit_intercept=True, score=0.095405, total=   0.0s\n",
      "[CV] alpha=100, normalize=True, fit_intercept=False ..................\n",
      "[CV]  alpha=100, normalize=True, fit_intercept=False, score=-1.443692, total=   0.0s\n",
      "[CV] alpha=100, normalize=True, fit_intercept=False ..................\n",
      "[CV]  alpha=100, normalize=True, fit_intercept=False, score=-0.090174, total=   0.0s\n",
      "[CV] alpha=100, normalize=True, fit_intercept=False ..................\n",
      "[CV]  alpha=100, normalize=True, fit_intercept=False, score=-0.382106, total=   0.0s\n",
      "[CV] alpha=100, normalize=True, fit_intercept=False ..................\n",
      "[CV]  alpha=100, normalize=True, fit_intercept=False, score=-1.243997, total=   0.0s\n",
      "[CV] alpha=100, normalize=True, fit_intercept=False ..................\n",
      "[CV]  alpha=100, normalize=True, fit_intercept=False, score=-0.446626, total=   0.0s\n",
      "[CV] alpha=100, normalize=False, fit_intercept=False .................\n",
      "[CV]  alpha=100, normalize=False, fit_intercept=False, score=-1.443692, total=   0.0s\n",
      "[CV] alpha=100, normalize=False, fit_intercept=False .................\n",
      "[CV]  alpha=100, normalize=False, fit_intercept=False, score=-0.090174, total=   0.0s\n",
      "[CV] alpha=100, normalize=False, fit_intercept=False .................\n",
      "[CV]  alpha=100, normalize=False, fit_intercept=False, score=-0.382106, total=   0.0s\n",
      "[CV] alpha=100, normalize=False, fit_intercept=False .................\n",
      "[CV]  alpha=100, normalize=False, fit_intercept=False, score=-1.243997, total=   0.0s\n",
      "[CV] alpha=100, normalize=False, fit_intercept=False .................\n",
      "[CV]  alpha=100, normalize=False, fit_intercept=False, score=-0.446626, total=   0.0s\n",
      "Best hyper parameters: {'alpha': 1.0, 'normalize': True, 'fit_intercept': False}\n",
      "Best score of this configuration: 0.571187961784\n"
     ]
    },
    {
     "name": "stderr",
     "output_type": "stream",
     "text": [
      "[Parallel(n_jobs=1)]: Done 100 out of 100 | elapsed:    0.2s finished\n",
      "C:\\Users\\Vu Anh Vinh\\Miniconda3\\envs\\thkstat\\lib\\site-packages\\sklearn\\utils\\validation.py:395: DeprecationWarning: Passing 1d arrays as data is deprecated in 0.17 and will raise ValueError in 0.19. Reshape your data either using X.reshape(-1, 1) if your data has a single feature or X.reshape(1, -1) if it contains a single sample.\n",
      "  DeprecationWarning)\n",
      "C:\\Users\\Vu Anh Vinh\\Miniconda3\\envs\\thkstat\\lib\\site-packages\\sklearn\\utils\\validation.py:395: DeprecationWarning: Passing 1d arrays as data is deprecated in 0.17 and will raise ValueError in 0.19. Reshape your data either using X.reshape(-1, 1) if your data has a single feature or X.reshape(1, -1) if it contains a single sample.\n",
      "  DeprecationWarning)\n",
      "C:\\Users\\Vu Anh Vinh\\Miniconda3\\envs\\thkstat\\lib\\site-packages\\sklearn\\utils\\validation.py:395: DeprecationWarning: Passing 1d arrays as data is deprecated in 0.17 and will raise ValueError in 0.19. Reshape your data either using X.reshape(-1, 1) if your data has a single feature or X.reshape(1, -1) if it contains a single sample.\n",
      "  DeprecationWarning)\n",
      "C:\\Users\\Vu Anh Vinh\\Miniconda3\\envs\\thkstat\\lib\\site-packages\\sklearn\\utils\\validation.py:395: DeprecationWarning: Passing 1d arrays as data is deprecated in 0.17 and will raise ValueError in 0.19. Reshape your data either using X.reshape(-1, 1) if your data has a single feature or X.reshape(1, -1) if it contains a single sample.\n",
      "  DeprecationWarning)\n",
      "C:\\Users\\Vu Anh Vinh\\Miniconda3\\envs\\thkstat\\lib\\site-packages\\sklearn\\utils\\validation.py:395: DeprecationWarning: Passing 1d arrays as data is deprecated in 0.17 and will raise ValueError in 0.19. Reshape your data either using X.reshape(-1, 1) if your data has a single feature or X.reshape(1, -1) if it contains a single sample.\n",
      "  DeprecationWarning)\n",
      "C:\\Users\\Vu Anh Vinh\\Miniconda3\\envs\\thkstat\\lib\\site-packages\\sklearn\\utils\\validation.py:395: DeprecationWarning: Passing 1d arrays as data is deprecated in 0.17 and will raise ValueError in 0.19. Reshape your data either using X.reshape(-1, 1) if your data has a single feature or X.reshape(1, -1) if it contains a single sample.\n",
      "  DeprecationWarning)\n",
      "C:\\Users\\Vu Anh Vinh\\Miniconda3\\envs\\thkstat\\lib\\site-packages\\sklearn\\utils\\validation.py:395: DeprecationWarning: Passing 1d arrays as data is deprecated in 0.17 and will raise ValueError in 0.19. Reshape your data either using X.reshape(-1, 1) if your data has a single feature or X.reshape(1, -1) if it contains a single sample.\n",
      "  DeprecationWarning)\n",
      "C:\\Users\\Vu Anh Vinh\\Miniconda3\\envs\\thkstat\\lib\\site-packages\\sklearn\\utils\\validation.py:395: DeprecationWarning: Passing 1d arrays as data is deprecated in 0.17 and will raise ValueError in 0.19. Reshape your data either using X.reshape(-1, 1) if your data has a single feature or X.reshape(1, -1) if it contains a single sample.\n",
      "  DeprecationWarning)\n",
      "C:\\Users\\Vu Anh Vinh\\Miniconda3\\envs\\thkstat\\lib\\site-packages\\sklearn\\utils\\validation.py:395: DeprecationWarning: Passing 1d arrays as data is deprecated in 0.17 and will raise ValueError in 0.19. Reshape your data either using X.reshape(-1, 1) if your data has a single feature or X.reshape(1, -1) if it contains a single sample.\n",
      "  DeprecationWarning)\n",
      "C:\\Users\\Vu Anh Vinh\\Miniconda3\\envs\\thkstat\\lib\\site-packages\\sklearn\\utils\\validation.py:395: DeprecationWarning: Passing 1d arrays as data is deprecated in 0.17 and will raise ValueError in 0.19. Reshape your data either using X.reshape(-1, 1) if your data has a single feature or X.reshape(1, -1) if it contains a single sample.\n",
      "  DeprecationWarning)\n",
      "C:\\Users\\Vu Anh Vinh\\Miniconda3\\envs\\thkstat\\lib\\site-packages\\sklearn\\utils\\validation.py:395: DeprecationWarning: Passing 1d arrays as data is deprecated in 0.17 and will raise ValueError in 0.19. Reshape your data either using X.reshape(-1, 1) if your data has a single feature or X.reshape(1, -1) if it contains a single sample.\n",
      "  DeprecationWarning)\n",
      "C:\\Users\\Vu Anh Vinh\\Miniconda3\\envs\\thkstat\\lib\\site-packages\\sklearn\\utils\\validation.py:395: DeprecationWarning: Passing 1d arrays as data is deprecated in 0.17 and will raise ValueError in 0.19. Reshape your data either using X.reshape(-1, 1) if your data has a single feature or X.reshape(1, -1) if it contains a single sample.\n",
      "  DeprecationWarning)\n",
      "C:\\Users\\Vu Anh Vinh\\Miniconda3\\envs\\thkstat\\lib\\site-packages\\sklearn\\utils\\validation.py:395: DeprecationWarning: Passing 1d arrays as data is deprecated in 0.17 and will raise ValueError in 0.19. Reshape your data either using X.reshape(-1, 1) if your data has a single feature or X.reshape(1, -1) if it contains a single sample.\n",
      "  DeprecationWarning)\n",
      "C:\\Users\\Vu Anh Vinh\\Miniconda3\\envs\\thkstat\\lib\\site-packages\\sklearn\\utils\\validation.py:395: DeprecationWarning: Passing 1d arrays as data is deprecated in 0.17 and will raise ValueError in 0.19. Reshape your data either using X.reshape(-1, 1) if your data has a single feature or X.reshape(1, -1) if it contains a single sample.\n",
      "  DeprecationWarning)\n",
      "C:\\Users\\Vu Anh Vinh\\Miniconda3\\envs\\thkstat\\lib\\site-packages\\sklearn\\utils\\validation.py:395: DeprecationWarning: Passing 1d arrays as data is deprecated in 0.17 and will raise ValueError in 0.19. Reshape your data either using X.reshape(-1, 1) if your data has a single feature or X.reshape(1, -1) if it contains a single sample.\n",
      "  DeprecationWarning)\n",
      "C:\\Users\\Vu Anh Vinh\\Miniconda3\\envs\\thkstat\\lib\\site-packages\\sklearn\\utils\\validation.py:395: DeprecationWarning: Passing 1d arrays as data is deprecated in 0.17 and will raise ValueError in 0.19. Reshape your data either using X.reshape(-1, 1) if your data has a single feature or X.reshape(1, -1) if it contains a single sample.\n",
      "  DeprecationWarning)\n",
      "C:\\Users\\Vu Anh Vinh\\Miniconda3\\envs\\thkstat\\lib\\site-packages\\sklearn\\utils\\validation.py:395: DeprecationWarning: Passing 1d arrays as data is deprecated in 0.17 and will raise ValueError in 0.19. Reshape your data either using X.reshape(-1, 1) if your data has a single feature or X.reshape(1, -1) if it contains a single sample.\n",
      "  DeprecationWarning)\n",
      "C:\\Users\\Vu Anh Vinh\\Miniconda3\\envs\\thkstat\\lib\\site-packages\\sklearn\\utils\\validation.py:395: DeprecationWarning: Passing 1d arrays as data is deprecated in 0.17 and will raise ValueError in 0.19. Reshape your data either using X.reshape(-1, 1) if your data has a single feature or X.reshape(1, -1) if it contains a single sample.\n",
      "  DeprecationWarning)\n",
      "C:\\Users\\Vu Anh Vinh\\Miniconda3\\envs\\thkstat\\lib\\site-packages\\sklearn\\utils\\validation.py:395: DeprecationWarning: Passing 1d arrays as data is deprecated in 0.17 and will raise ValueError in 0.19. Reshape your data either using X.reshape(-1, 1) if your data has a single feature or X.reshape(1, -1) if it contains a single sample.\n",
      "  DeprecationWarning)\n",
      "C:\\Users\\Vu Anh Vinh\\Miniconda3\\envs\\thkstat\\lib\\site-packages\\sklearn\\utils\\validation.py:395: DeprecationWarning: Passing 1d arrays as data is deprecated in 0.17 and will raise ValueError in 0.19. Reshape your data either using X.reshape(-1, 1) if your data has a single feature or X.reshape(1, -1) if it contains a single sample.\n",
      "  DeprecationWarning)\n",
      "C:\\Users\\Vu Anh Vinh\\Miniconda3\\envs\\thkstat\\lib\\site-packages\\sklearn\\utils\\validation.py:395: DeprecationWarning: Passing 1d arrays as data is deprecated in 0.17 and will raise ValueError in 0.19. Reshape your data either using X.reshape(-1, 1) if your data has a single feature or X.reshape(1, -1) if it contains a single sample.\n",
      "  DeprecationWarning)\n",
      "C:\\Users\\Vu Anh Vinh\\Miniconda3\\envs\\thkstat\\lib\\site-packages\\sklearn\\utils\\validation.py:395: DeprecationWarning: Passing 1d arrays as data is deprecated in 0.17 and will raise ValueError in 0.19. Reshape your data either using X.reshape(-1, 1) if your data has a single feature or X.reshape(1, -1) if it contains a single sample.\n",
      "  DeprecationWarning)\n",
      "[Parallel(n_jobs=1)]: Done   1 out of   1 | elapsed:    0.0s remaining:    0.0s\n",
      "[Parallel(n_jobs=1)]: Done   2 out of   2 | elapsed:    0.0s remaining:    0.0s\n",
      "[Parallel(n_jobs=1)]: Done   3 out of   3 | elapsed:    0.0s remaining:    0.0s\n",
      "[Parallel(n_jobs=1)]: Done  40 out of  40 | elapsed:    0.0s finished\n",
      "C:\\Users\\Vu Anh Vinh\\Miniconda3\\envs\\thkstat\\lib\\site-packages\\sklearn\\utils\\validation.py:395: DeprecationWarning: Passing 1d arrays as data is deprecated in 0.17 and will raise ValueError in 0.19. Reshape your data either using X.reshape(-1, 1) if your data has a single feature or X.reshape(1, -1) if it contains a single sample.\n",
      "  DeprecationWarning)\n",
      "C:\\Users\\Vu Anh Vinh\\Miniconda3\\envs\\thkstat\\lib\\site-packages\\sklearn\\utils\\validation.py:395: DeprecationWarning: Passing 1d arrays as data is deprecated in 0.17 and will raise ValueError in 0.19. Reshape your data either using X.reshape(-1, 1) if your data has a single feature or X.reshape(1, -1) if it contains a single sample.\n",
      "  DeprecationWarning)\n",
      "C:\\Users\\Vu Anh Vinh\\Miniconda3\\envs\\thkstat\\lib\\site-packages\\sklearn\\utils\\validation.py:395: DeprecationWarning: Passing 1d arrays as data is deprecated in 0.17 and will raise ValueError in 0.19. Reshape your data either using X.reshape(-1, 1) if your data has a single feature or X.reshape(1, -1) if it contains a single sample.\n",
      "  DeprecationWarning)\n",
      "C:\\Users\\Vu Anh Vinh\\Miniconda3\\envs\\thkstat\\lib\\site-packages\\sklearn\\utils\\validation.py:395: DeprecationWarning: Passing 1d arrays as data is deprecated in 0.17 and will raise ValueError in 0.19. Reshape your data either using X.reshape(-1, 1) if your data has a single feature or X.reshape(1, -1) if it contains a single sample.\n",
      "  DeprecationWarning)\n",
      "C:\\Users\\Vu Anh Vinh\\Miniconda3\\envs\\thkstat\\lib\\site-packages\\sklearn\\utils\\validation.py:395: DeprecationWarning: Passing 1d arrays as data is deprecated in 0.17 and will raise ValueError in 0.19. Reshape your data either using X.reshape(-1, 1) if your data has a single feature or X.reshape(1, -1) if it contains a single sample.\n",
      "  DeprecationWarning)\n",
      "C:\\Users\\Vu Anh Vinh\\Miniconda3\\envs\\thkstat\\lib\\site-packages\\sklearn\\utils\\validation.py:395: DeprecationWarning: Passing 1d arrays as data is deprecated in 0.17 and will raise ValueError in 0.19. Reshape your data either using X.reshape(-1, 1) if your data has a single feature or X.reshape(1, -1) if it contains a single sample.\n",
      "  DeprecationWarning)\n",
      "C:\\Users\\Vu Anh Vinh\\Miniconda3\\envs\\thkstat\\lib\\site-packages\\sklearn\\utils\\validation.py:395: DeprecationWarning: Passing 1d arrays as data is deprecated in 0.17 and will raise ValueError in 0.19. Reshape your data either using X.reshape(-1, 1) if your data has a single feature or X.reshape(1, -1) if it contains a single sample.\n",
      "  DeprecationWarning)\n",
      "C:\\Users\\Vu Anh Vinh\\Miniconda3\\envs\\thkstat\\lib\\site-packages\\sklearn\\utils\\validation.py:395: DeprecationWarning: Passing 1d arrays as data is deprecated in 0.17 and will raise ValueError in 0.19. Reshape your data either using X.reshape(-1, 1) if your data has a single feature or X.reshape(1, -1) if it contains a single sample.\n",
      "  DeprecationWarning)\n",
      "C:\\Users\\Vu Anh Vinh\\Miniconda3\\envs\\thkstat\\lib\\site-packages\\sklearn\\utils\\validation.py:395: DeprecationWarning: Passing 1d arrays as data is deprecated in 0.17 and will raise ValueError in 0.19. Reshape your data either using X.reshape(-1, 1) if your data has a single feature or X.reshape(1, -1) if it contains a single sample.\n",
      "  DeprecationWarning)\n",
      "C:\\Users\\Vu Anh Vinh\\Miniconda3\\envs\\thkstat\\lib\\site-packages\\sklearn\\utils\\validation.py:395: DeprecationWarning: Passing 1d arrays as data is deprecated in 0.17 and will raise ValueError in 0.19. Reshape your data either using X.reshape(-1, 1) if your data has a single feature or X.reshape(1, -1) if it contains a single sample.\n",
      "  DeprecationWarning)\n",
      "C:\\Users\\Vu Anh Vinh\\Miniconda3\\envs\\thkstat\\lib\\site-packages\\sklearn\\utils\\validation.py:395: DeprecationWarning: Passing 1d arrays as data is deprecated in 0.17 and will raise ValueError in 0.19. Reshape your data either using X.reshape(-1, 1) if your data has a single feature or X.reshape(1, -1) if it contains a single sample.\n",
      "  DeprecationWarning)\n",
      "C:\\Users\\Vu Anh Vinh\\Miniconda3\\envs\\thkstat\\lib\\site-packages\\sklearn\\utils\\validation.py:395: DeprecationWarning: Passing 1d arrays as data is deprecated in 0.17 and will raise ValueError in 0.19. Reshape your data either using X.reshape(-1, 1) if your data has a single feature or X.reshape(1, -1) if it contains a single sample.\n",
      "  DeprecationWarning)\n",
      "C:\\Users\\Vu Anh Vinh\\Miniconda3\\envs\\thkstat\\lib\\site-packages\\sklearn\\utils\\validation.py:395: DeprecationWarning: Passing 1d arrays as data is deprecated in 0.17 and will raise ValueError in 0.19. Reshape your data either using X.reshape(-1, 1) if your data has a single feature or X.reshape(1, -1) if it contains a single sample.\n",
      "  DeprecationWarning)\n",
      "C:\\Users\\Vu Anh Vinh\\Miniconda3\\envs\\thkstat\\lib\\site-packages\\sklearn\\utils\\validation.py:395: DeprecationWarning: Passing 1d arrays as data is deprecated in 0.17 and will raise ValueError in 0.19. Reshape your data either using X.reshape(-1, 1) if your data has a single feature or X.reshape(1, -1) if it contains a single sample.\n",
      "  DeprecationWarning)\n",
      "C:\\Users\\Vu Anh Vinh\\Miniconda3\\envs\\thkstat\\lib\\site-packages\\sklearn\\utils\\validation.py:395: DeprecationWarning: Passing 1d arrays as data is deprecated in 0.17 and will raise ValueError in 0.19. Reshape your data either using X.reshape(-1, 1) if your data has a single feature or X.reshape(1, -1) if it contains a single sample.\n",
      "  DeprecationWarning)\n",
      "C:\\Users\\Vu Anh Vinh\\Miniconda3\\envs\\thkstat\\lib\\site-packages\\sklearn\\utils\\validation.py:395: DeprecationWarning: Passing 1d arrays as data is deprecated in 0.17 and will raise ValueError in 0.19. Reshape your data either using X.reshape(-1, 1) if your data has a single feature or X.reshape(1, -1) if it contains a single sample.\n",
      "  DeprecationWarning)\n",
      "C:\\Users\\Vu Anh Vinh\\Miniconda3\\envs\\thkstat\\lib\\site-packages\\sklearn\\utils\\validation.py:395: DeprecationWarning: Passing 1d arrays as data is deprecated in 0.17 and will raise ValueError in 0.19. Reshape your data either using X.reshape(-1, 1) if your data has a single feature or X.reshape(1, -1) if it contains a single sample.\n",
      "  DeprecationWarning)\n",
      "C:\\Users\\Vu Anh Vinh\\Miniconda3\\envs\\thkstat\\lib\\site-packages\\sklearn\\utils\\validation.py:395: DeprecationWarning: Passing 1d arrays as data is deprecated in 0.17 and will raise ValueError in 0.19. Reshape your data either using X.reshape(-1, 1) if your data has a single feature or X.reshape(1, -1) if it contains a single sample.\n",
      "  DeprecationWarning)\n",
      "C:\\Users\\Vu Anh Vinh\\Miniconda3\\envs\\thkstat\\lib\\site-packages\\sklearn\\utils\\validation.py:395: DeprecationWarning: Passing 1d arrays as data is deprecated in 0.17 and will raise ValueError in 0.19. Reshape your data either using X.reshape(-1, 1) if your data has a single feature or X.reshape(1, -1) if it contains a single sample.\n",
      "  DeprecationWarning)\n",
      "C:\\Users\\Vu Anh Vinh\\Miniconda3\\envs\\thkstat\\lib\\site-packages\\sklearn\\utils\\validation.py:395: DeprecationWarning: Passing 1d arrays as data is deprecated in 0.17 and will raise ValueError in 0.19. Reshape your data either using X.reshape(-1, 1) if your data has a single feature or X.reshape(1, -1) if it contains a single sample.\n",
      "  DeprecationWarning)\n",
      "C:\\Users\\Vu Anh Vinh\\Miniconda3\\envs\\thkstat\\lib\\site-packages\\sklearn\\utils\\validation.py:395: DeprecationWarning: Passing 1d arrays as data is deprecated in 0.17 and will raise ValueError in 0.19. Reshape your data either using X.reshape(-1, 1) if your data has a single feature or X.reshape(1, -1) if it contains a single sample.\n",
      "  DeprecationWarning)\n",
      "C:\\Users\\Vu Anh Vinh\\Miniconda3\\envs\\thkstat\\lib\\site-packages\\sklearn\\utils\\validation.py:395: DeprecationWarning: Passing 1d arrays as data is deprecated in 0.17 and will raise ValueError in 0.19. Reshape your data either using X.reshape(-1, 1) if your data has a single feature or X.reshape(1, -1) if it contains a single sample.\n",
      "  DeprecationWarning)\n"
     ]
    },
    {
     "name": "stdout",
     "output_type": "stream",
     "text": [
      "max score: 0.764\n",
      "                  predicted value\ttrue value \n",
      "student  2\t\t35.598\t\t38.000\n",
      "student  4\t\t27.287\t\t28.000\n",
      "student  7\t\t48.029\t\t44.000\n",
      "student 12\t\t72.770\t\t85.000\n",
      "student 18\t\t20.843\t\t0.000\n",
      "student 19\t\t41.229\t\t36.000\n",
      "student 20\t\t65.870\t\t71.000\n",
      "student 23\t\t56.719\t\t69.000\n",
      "student 24\t\t42.004\t\t43.000\n",
      "student 27\t\t48.498\t\t57.000\n",
      "student 28\t\t57.525\t\t39.000\n",
      "student 34\t\t48.222\t\t38.000\n",
      "student 39\t\t35.462\t\t37.000\n",
      "student 43\t\t15.983\t\t9.000\n",
      "student 46\t\t66.052\t\t61.000\n",
      "student 49\t\t54.235\t\t49.000\n",
      "student 60\t\t38.199\t\t39.000\n",
      "student 63\t\t62.298\t\t65.000\n",
      "student 67\t\t54.544\t\t62.000\n",
      "student 73\t\t53.633\t\t44.000\n",
      "student 79\t\t68.889\t\t90.000\n",
      "student 84\t\t65.178\t\t49.000\n",
      "Grid search for... Lasso\n",
      "Lasso(alpha=1.0, copy_X=True, fit_intercept=True, max_iter=1000,\n",
      "   normalize=False, positive=False, precompute=False, random_state=None,\n",
      "   selection='cyclic', tol=0.0001, warm_start=False)\n",
      "Fitting 5 folds for each of 8 candidates, totalling 40 fits\n",
      "[CV] alpha=0.1, normalize=True .......................................\n",
      "[CV] ........ alpha=0.1, normalize=True, score=0.813153, total=   0.0s\n",
      "[CV] alpha=0.1, normalize=True .......................................\n",
      "[CV] ........ alpha=0.1, normalize=True, score=0.564999, total=   0.0s\n",
      "[CV] alpha=0.1, normalize=True .......................................\n",
      "[CV] ........ alpha=0.1, normalize=True, score=0.791947, total=   0.0s\n",
      "[CV] alpha=0.1, normalize=True .......................................\n",
      "[CV] ........ alpha=0.1, normalize=True, score=0.524406, total=   0.0s\n",
      "[CV] alpha=0.1, normalize=True .......................................\n",
      "[CV] ........ alpha=0.1, normalize=True, score=0.463362, total=   0.0s\n",
      "[CV] alpha=0.1, normalize=False ......................................\n",
      "[CV] ....... alpha=0.1, normalize=False, score=0.807848, total=   0.0s\n",
      "[CV] alpha=0.1, normalize=False ......................................\n",
      "[CV] ....... alpha=0.1, normalize=False, score=0.585724, total=   0.0s\n",
      "[CV] alpha=0.1, normalize=False ......................................\n",
      "[CV] ....... alpha=0.1, normalize=False, score=0.793734, total=   0.0s\n",
      "[CV] alpha=0.1, normalize=False ......................................\n",
      "[CV] ....... alpha=0.1, normalize=False, score=0.534145, total=   0.0s\n",
      "[CV] alpha=0.1, normalize=False ......................................\n",
      "[CV] ....... alpha=0.1, normalize=False, score=0.447204, total=   0.0s\n",
      "[CV] alpha=1.0, normalize=True .......................................\n",
      "[CV] ........ alpha=1.0, normalize=True, score=0.458065, total=   0.0s\n",
      "[CV] alpha=1.0, normalize=True .......................................\n",
      "[CV] ........ alpha=1.0, normalize=True, score=0.117899, total=   0.0s\n",
      "[CV] alpha=1.0, normalize=True .......................................\n",
      "[CV] ........ alpha=1.0, normalize=True, score=0.260303, total=   0.0s\n",
      "[CV] alpha=1.0, normalize=True .......................................\n",
      "[CV] ........ alpha=1.0, normalize=True, score=0.260692, total=   0.0s\n",
      "[CV] alpha=1.0, normalize=True .......................................\n",
      "[CV] ........ alpha=1.0, normalize=True, score=0.377625, total=   0.0s\n",
      "[CV] alpha=1.0, normalize=False ......................................\n",
      "[CV] ....... alpha=1.0, normalize=False, score=0.641565, total=   0.0s\n",
      "[CV] alpha=1.0, normalize=False ......................................\n",
      "[CV] ....... alpha=1.0, normalize=False, score=0.327809, total=   0.0s\n",
      "[CV] alpha=1.0, normalize=False ......................................\n",
      "[CV] ....... alpha=1.0, normalize=False, score=0.516430, total=   0.0s\n",
      "[CV] alpha=1.0, normalize=False ......................................\n",
      "[CV] ....... alpha=1.0, normalize=False, score=0.452141, total=   0.0s\n",
      "[CV] alpha=1.0, normalize=False ......................................\n",
      "[CV] ....... alpha=1.0, normalize=False, score=0.394885, total=   0.0s\n",
      "[CV] alpha=10, normalize=True ........................................\n",
      "[CV] ........ alpha=10, normalize=True, score=-0.006754, total=   0.0s\n",
      "[CV] alpha=10, normalize=True ........................................\n",
      "[CV] ........ alpha=10, normalize=True, score=-0.402964, total=   0.0s\n",
      "[CV] alpha=10, normalize=True ........................................\n",
      "[CV] ........ alpha=10, normalize=True, score=-0.042736, total=   0.0s\n",
      "[CV] alpha=10, normalize=True ........................................\n",
      "[CV] ........ alpha=10, normalize=True, score=-0.051806, total=   0.0s\n",
      "[CV] alpha=10, normalize=True ........................................\n",
      "[CV] ........ alpha=10, normalize=True, score=-0.005018, total=   0.0s\n",
      "[CV] alpha=10, normalize=False .......................................\n",
      "[CV] ....... alpha=10, normalize=False, score=-0.006754, total=   0.0s\n",
      "[CV] alpha=10, normalize=False .......................................\n",
      "[CV] ....... alpha=10, normalize=False, score=-0.402964, total=   0.0s\n",
      "[CV] alpha=10, normalize=False .......................................\n",
      "[CV] ....... alpha=10, normalize=False, score=-0.042736, total=   0.0s\n",
      "[CV] alpha=10, normalize=False .......................................\n",
      "[CV] ....... alpha=10, normalize=False, score=-0.051806, total=   0.0s\n",
      "[CV] alpha=10, normalize=False .......................................\n",
      "[CV] ....... alpha=10, normalize=False, score=-0.005018, total=   0.0s\n",
      "[CV] alpha=100, normalize=True .......................................\n",
      "[CV] ....... alpha=100, normalize=True, score=-0.006754, total=   0.0s\n",
      "[CV] alpha=100, normalize=True .......................................\n",
      "[CV] ....... alpha=100, normalize=True, score=-0.402964, total=   0.0s\n",
      "[CV] alpha=100, normalize=True .......................................\n",
      "[CV] ....... alpha=100, normalize=True, score=-0.042736, total=   0.0s\n",
      "[CV] alpha=100, normalize=True .......................................\n",
      "[CV] ....... alpha=100, normalize=True, score=-0.051806, total=   0.0s\n",
      "[CV] alpha=100, normalize=True .......................................\n",
      "[CV] ....... alpha=100, normalize=True, score=-0.005018, total=   0.0s\n",
      "[CV] alpha=100, normalize=False ......................................\n",
      "[CV] ...... alpha=100, normalize=False, score=-0.006754, total=   0.0s\n",
      "[CV] alpha=100, normalize=False ......................................\n",
      "[CV] ...... alpha=100, normalize=False, score=-0.402964, total=   0.0s\n",
      "[CV] alpha=100, normalize=False ......................................\n",
      "[CV] ...... alpha=100, normalize=False, score=-0.042736, total=   0.0s\n",
      "[CV] alpha=100, normalize=False ......................................\n",
      "[CV] ...... alpha=100, normalize=False, score=-0.051806, total=   0.0s\n",
      "[CV] alpha=100, normalize=False ......................................\n",
      "[CV] ...... alpha=100, normalize=False, score=-0.005018, total=   0.0s\n",
      "Best hyper parameters: {'alpha': 0.1, 'normalize': False}\n",
      "Best score of this configuration: 0.635644727104\n",
      "max score: 0.713\n",
      "                  predicted value\ttrue value \n",
      "student  4\t\t18.544\t\t28.000\n",
      "student 11\t\t63.115\t\t81.000\n",
      "student 15\t\t64.827\t\t75.000\n",
      "student 26\t\t34.757\t\t46.000\n",
      "student 29\t\t63.734\t\t43.000\n",
      "student 31\t\t57.318\t\t65.000\n",
      "student 32\t\t60.677\t\t60.000\n",
      "student 43\t\t-1.554\t\t9.000\n",
      "student 53\t\t50.521\t\t39.000\n",
      "student 56\t\t55.836\t\t61.000\n",
      "student 57\t\t66.934\t\t77.000\n",
      "student 59\t\t40.671\t\t39.000\n",
      "student 63\t\t66.037\t\t65.000\n",
      "student 67\t\t60.609\t\t62.000\n",
      "student 68\t\t72.032\t\t85.000\n",
      "student 69\t\t51.176\t\t55.000\n",
      "student 71\t\t46.152\t\t38.000\n",
      "student 75\t\t58.937\t\t53.000\n",
      "student 76\t\t56.894\t\t62.000\n",
      "student 77\t\t59.701\t\t71.000\n",
      "student 80\t\t37.813\t\t35.000\n",
      "student 88\t\t15.989\t\t33.000\n",
      "Grid search for... Neural Network Regressor\n",
      "MLPRegressor(activation='relu', alpha=0.0001, batch_size='auto', beta_1=0.9,\n",
      "       beta_2=0.999, early_stopping=False, epsilon=1e-08,\n",
      "       hidden_layer_sizes=(100,), learning_rate='constant',\n",
      "       learning_rate_init=0.001, max_iter=200, momentum=0.9,\n",
      "       nesterovs_momentum=True, power_t=0.5, random_state=None,\n",
      "       shuffle=True, solver='adam', tol=0.0001, validation_fraction=0.1,\n",
      "       verbose=False, warm_start=False)\n",
      "Fitting 5 folds for each of 72 candidates, totalling 360 fits\n",
      "[CV] alpha=0.001, solver=lbfgs, activation=identity ..................\n",
      "[CV]  alpha=0.001, solver=lbfgs, activation=identity, score=0.658927, total=   0.0s\n",
      "[CV] alpha=0.001, solver=lbfgs, activation=identity ..................\n",
      "[CV]  alpha=0.001, solver=lbfgs, activation=identity, score=0.760022, total=   0.0s\n",
      "[CV] alpha=0.001, solver=lbfgs, activation=identity ..................\n",
      "[CV]  alpha=0.001, solver=lbfgs, activation=identity, score=0.594311, total=   0.0s\n",
      "[CV] alpha=0.001, solver=lbfgs, activation=identity ..................\n",
      "[CV]  alpha=0.001, solver=lbfgs, activation=identity, score=0.579040, total=   0.0s\n",
      "[CV] alpha=0.001, solver=lbfgs, activation=identity ..................\n",
      "[CV]  alpha=0.001, solver=lbfgs, activation=identity, score=0.698750, total=   0.0s\n",
      "[CV] alpha=0.001, solver=sgd, activation=identity ....................\n",
      "[CV]  alpha=0.001, solver=sgd, activation=identity, score=-0.286389, total=   0.0s\n",
      "[CV] alpha=0.001, solver=sgd, activation=identity ....................\n",
      "[CV]  alpha=0.001, solver=sgd, activation=identity, score=-0.158326, total=   0.0s\n",
      "[CV] alpha=0.001, solver=sgd, activation=identity ....................\n",
      "[CV]  alpha=0.001, solver=sgd, activation=identity, score=-0.024580, total=   0.0s\n",
      "[CV] alpha=0.001, solver=sgd, activation=identity ....................\n",
      "[CV]  alpha=0.001, solver=sgd, activation=identity, score=0.087816, total=   0.0s\n",
      "[CV] alpha=0.001, solver=sgd, activation=identity ....................\n",
      "[CV]  alpha=0.001, solver=sgd, activation=identity, score=0.122291, total=   0.0s\n",
      "[CV] alpha=0.001, solver=adam, activation=identity ...................\n"
     ]
    },
    {
     "name": "stderr",
     "output_type": "stream",
     "text": [
      "[Parallel(n_jobs=1)]: Done   1 out of   1 | elapsed:    0.0s remaining:    0.0s\n",
      "[Parallel(n_jobs=1)]: Done   2 out of   2 | elapsed:    0.0s remaining:    0.0s\n",
      "[Parallel(n_jobs=1)]: Done   3 out of   3 | elapsed:    0.0s remaining:    0.0s\n",
      "C:\\Users\\Vu Anh Vinh\\Miniconda3\\envs\\thkstat\\lib\\site-packages\\sklearn\\neural_network\\multilayer_perceptron.py:563: ConvergenceWarning: Stochastic Optimizer: Maximum iterations reached and the optimization hasn't converged yet.\n",
      "  % (), ConvergenceWarning)\n",
      "C:\\Users\\Vu Anh Vinh\\Miniconda3\\envs\\thkstat\\lib\\site-packages\\sklearn\\neural_network\\multilayer_perceptron.py:563: ConvergenceWarning: Stochastic Optimizer: Maximum iterations reached and the optimization hasn't converged yet.\n",
      "  % (), ConvergenceWarning)\n"
     ]
    },
    {
     "name": "stdout",
     "output_type": "stream",
     "text": [
      "[CV]  alpha=0.001, solver=adam, activation=identity, score=-0.894186, total=   0.0s\n",
      "[CV] alpha=0.001, solver=adam, activation=identity ...................\n",
      "[CV]  alpha=0.001, solver=adam, activation=identity, score=-0.535136, total=   0.0s\n",
      "[CV] alpha=0.001, solver=adam, activation=identity ...................\n"
     ]
    },
    {
     "name": "stderr",
     "output_type": "stream",
     "text": [
      "C:\\Users\\Vu Anh Vinh\\Miniconda3\\envs\\thkstat\\lib\\site-packages\\sklearn\\neural_network\\multilayer_perceptron.py:563: ConvergenceWarning: Stochastic Optimizer: Maximum iterations reached and the optimization hasn't converged yet.\n",
      "  % (), ConvergenceWarning)\n",
      "C:\\Users\\Vu Anh Vinh\\Miniconda3\\envs\\thkstat\\lib\\site-packages\\sklearn\\neural_network\\multilayer_perceptron.py:563: ConvergenceWarning: Stochastic Optimizer: Maximum iterations reached and the optimization hasn't converged yet.\n",
      "  % (), ConvergenceWarning)\n"
     ]
    },
    {
     "name": "stdout",
     "output_type": "stream",
     "text": [
      "[CV]  alpha=0.001, solver=adam, activation=identity, score=-2.505255, total=   0.3s\n",
      "[CV] alpha=0.001, solver=adam, activation=identity ...................\n",
      "[CV]  alpha=0.001, solver=adam, activation=identity, score=-0.687208, total=   0.0s\n",
      "[CV] alpha=0.001, solver=adam, activation=identity ...................\n"
     ]
    },
    {
     "name": "stderr",
     "output_type": "stream",
     "text": [
      "C:\\Users\\Vu Anh Vinh\\Miniconda3\\envs\\thkstat\\lib\\site-packages\\sklearn\\neural_network\\multilayer_perceptron.py:563: ConvergenceWarning: Stochastic Optimizer: Maximum iterations reached and the optimization hasn't converged yet.\n",
      "  % (), ConvergenceWarning)\n"
     ]
    },
    {
     "name": "stdout",
     "output_type": "stream",
     "text": [
      "[CV]  alpha=0.001, solver=adam, activation=identity, score=-0.773898, total=   0.0s\n",
      "[CV] alpha=0.01, solver=lbfgs, activation=identity ...................\n",
      "[CV]  alpha=0.01, solver=lbfgs, activation=identity, score=0.658908, total=   0.0s\n",
      "[CV] alpha=0.01, solver=lbfgs, activation=identity ...................\n",
      "[CV]  alpha=0.01, solver=lbfgs, activation=identity, score=0.760023, total=   0.0s\n",
      "[CV] alpha=0.01, solver=lbfgs, activation=identity ...................\n",
      "[CV]  alpha=0.01, solver=lbfgs, activation=identity, score=0.594347, total=   0.0s\n",
      "[CV] alpha=0.01, solver=lbfgs, activation=identity ...................\n",
      "[CV]  alpha=0.01, solver=lbfgs, activation=identity, score=0.579080, total=   0.0s\n",
      "[CV] alpha=0.01, solver=lbfgs, activation=identity ...................\n",
      "[CV]  alpha=0.01, solver=lbfgs, activation=identity, score=0.698727, total=   0.0s\n",
      "[CV] alpha=0.01, solver=sgd, activation=identity .....................\n",
      "[CV]  alpha=0.01, solver=sgd, activation=identity, score=0.210459, total=   0.0s\n",
      "[CV] alpha=0.01, solver=sgd, activation=identity .....................\n",
      "[CV]  alpha=0.01, solver=sgd, activation=identity, score=-0.175045, total=   0.0s\n",
      "[CV] alpha=0.01, solver=sgd, activation=identity .....................\n",
      "[CV]  alpha=0.01, solver=sgd, activation=identity, score=0.140499, total=   0.0s\n",
      "[CV] alpha=0.01, solver=sgd, activation=identity .....................\n",
      "[CV]  alpha=0.01, solver=sgd, activation=identity, score=-0.150295, total=   0.0s\n",
      "[CV] alpha=0.01, solver=sgd, activation=identity .....................\n",
      "[CV]  alpha=0.01, solver=sgd, activation=identity, score=0.123039, total=   0.0s\n",
      "[CV] alpha=0.01, solver=adam, activation=identity ....................\n",
      "[CV]  alpha=0.01, solver=adam, activation=identity, score=-0.864552, total=   0.0s\n",
      "[CV] alpha=0.01, solver=adam, activation=identity ....................\n"
     ]
    },
    {
     "name": "stderr",
     "output_type": "stream",
     "text": [
      "C:\\Users\\Vu Anh Vinh\\Miniconda3\\envs\\thkstat\\lib\\site-packages\\sklearn\\neural_network\\multilayer_perceptron.py:563: ConvergenceWarning: Stochastic Optimizer: Maximum iterations reached and the optimization hasn't converged yet.\n",
      "  % (), ConvergenceWarning)\n",
      "C:\\Users\\Vu Anh Vinh\\Miniconda3\\envs\\thkstat\\lib\\site-packages\\sklearn\\neural_network\\multilayer_perceptron.py:563: ConvergenceWarning: Stochastic Optimizer: Maximum iterations reached and the optimization hasn't converged yet.\n",
      "  % (), ConvergenceWarning)\n",
      "C:\\Users\\Vu Anh Vinh\\Miniconda3\\envs\\thkstat\\lib\\site-packages\\sklearn\\neural_network\\multilayer_perceptron.py:563: ConvergenceWarning: Stochastic Optimizer: Maximum iterations reached and the optimization hasn't converged yet.\n",
      "  % (), ConvergenceWarning)\n"
     ]
    },
    {
     "name": "stdout",
     "output_type": "stream",
     "text": [
      "[CV]  alpha=0.01, solver=adam, activation=identity, score=-0.683205, total=   0.0s\n",
      "[CV] alpha=0.01, solver=adam, activation=identity ....................\n",
      "[CV]  alpha=0.01, solver=adam, activation=identity, score=-2.370530, total=   0.0s\n",
      "[CV] alpha=0.01, solver=adam, activation=identity ....................\n"
     ]
    },
    {
     "name": "stderr",
     "output_type": "stream",
     "text": [
      "C:\\Users\\Vu Anh Vinh\\Miniconda3\\envs\\thkstat\\lib\\site-packages\\sklearn\\neural_network\\multilayer_perceptron.py:563: ConvergenceWarning: Stochastic Optimizer: Maximum iterations reached and the optimization hasn't converged yet.\n",
      "  % (), ConvergenceWarning)\n",
      "C:\\Users\\Vu Anh Vinh\\Miniconda3\\envs\\thkstat\\lib\\site-packages\\sklearn\\neural_network\\multilayer_perceptron.py:563: ConvergenceWarning: Stochastic Optimizer: Maximum iterations reached and the optimization hasn't converged yet.\n",
      "  % (), ConvergenceWarning)\n"
     ]
    },
    {
     "name": "stdout",
     "output_type": "stream",
     "text": [
      "[CV]  alpha=0.01, solver=adam, activation=identity, score=-0.793987, total=   0.0s\n",
      "[CV] alpha=0.01, solver=adam, activation=identity ....................\n",
      "[CV]  alpha=0.01, solver=adam, activation=identity, score=-1.000289, total=   0.0s\n",
      "[CV] alpha=0.1, solver=lbfgs, activation=identity ....................\n",
      "[CV]  alpha=0.1, solver=lbfgs, activation=identity, score=0.658888, total=   0.0s\n",
      "[CV] alpha=0.1, solver=lbfgs, activation=identity ....................\n",
      "[CV]  alpha=0.1, solver=lbfgs, activation=identity, score=0.760051, total=   0.0s\n",
      "[CV] alpha=0.1, solver=lbfgs, activation=identity ....................\n",
      "[CV]  alpha=0.1, solver=lbfgs, activation=identity, score=0.594986, total=   0.0s\n",
      "[CV] alpha=0.1, solver=lbfgs, activation=identity ....................\n",
      "[CV]  alpha=0.1, solver=lbfgs, activation=identity, score=0.579311, total=   0.0s\n",
      "[CV] alpha=0.1, solver=lbfgs, activation=identity ....................\n",
      "[CV]  alpha=0.1, solver=lbfgs, activation=identity, score=0.698624, total=   0.0s\n",
      "[CV] alpha=0.1, solver=sgd, activation=identity ......................\n",
      "[CV]  alpha=0.1, solver=sgd, activation=identity, score=-0.410906, total=   0.0s\n",
      "[CV] alpha=0.1, solver=sgd, activation=identity ......................\n",
      "[CV]  alpha=0.1, solver=sgd, activation=identity, score=-0.088704, total=   0.0s\n",
      "[CV] alpha=0.1, solver=sgd, activation=identity ......................\n",
      "[CV]  alpha=0.1, solver=sgd, activation=identity, score=0.139418, total=   0.0s\n",
      "[CV] alpha=0.1, solver=sgd, activation=identity ......................\n",
      "[CV]  alpha=0.1, solver=sgd, activation=identity, score=-0.401637, total=   0.0s\n",
      "[CV] alpha=0.1, solver=sgd, activation=identity ......................\n",
      "[CV]  alpha=0.1, solver=sgd, activation=identity, score=-0.172445, total=   0.0s\n",
      "[CV] alpha=0.1, solver=adam, activation=identity .....................\n"
     ]
    },
    {
     "name": "stderr",
     "output_type": "stream",
     "text": [
      "C:\\Users\\Vu Anh Vinh\\Miniconda3\\envs\\thkstat\\lib\\site-packages\\sklearn\\neural_network\\multilayer_perceptron.py:563: ConvergenceWarning: Stochastic Optimizer: Maximum iterations reached and the optimization hasn't converged yet.\n",
      "  % (), ConvergenceWarning)\n",
      "C:\\Users\\Vu Anh Vinh\\Miniconda3\\envs\\thkstat\\lib\\site-packages\\sklearn\\neural_network\\multilayer_perceptron.py:563: ConvergenceWarning: Stochastic Optimizer: Maximum iterations reached and the optimization hasn't converged yet.\n",
      "  % (), ConvergenceWarning)\n",
      "C:\\Users\\Vu Anh Vinh\\Miniconda3\\envs\\thkstat\\lib\\site-packages\\sklearn\\neural_network\\multilayer_perceptron.py:563: ConvergenceWarning: Stochastic Optimizer: Maximum iterations reached and the optimization hasn't converged yet.\n",
      "  % (), ConvergenceWarning)\n"
     ]
    },
    {
     "name": "stdout",
     "output_type": "stream",
     "text": [
      "[CV]  alpha=0.1, solver=adam, activation=identity, score=-0.837805, total=   0.0s\n",
      "[CV] alpha=0.1, solver=adam, activation=identity .....................\n",
      "[CV]  alpha=0.1, solver=adam, activation=identity, score=-0.872029, total=   0.0s\n",
      "[CV] alpha=0.1, solver=adam, activation=identity .....................\n",
      "[CV]  alpha=0.1, solver=adam, activation=identity, score=-2.371664, total=   0.0s\n",
      "[CV] alpha=0.1, solver=adam, activation=identity .....................\n"
     ]
    },
    {
     "name": "stderr",
     "output_type": "stream",
     "text": [
      "C:\\Users\\Vu Anh Vinh\\Miniconda3\\envs\\thkstat\\lib\\site-packages\\sklearn\\neural_network\\multilayer_perceptron.py:563: ConvergenceWarning: Stochastic Optimizer: Maximum iterations reached and the optimization hasn't converged yet.\n",
      "  % (), ConvergenceWarning)\n",
      "C:\\Users\\Vu Anh Vinh\\Miniconda3\\envs\\thkstat\\lib\\site-packages\\sklearn\\neural_network\\multilayer_perceptron.py:563: ConvergenceWarning: Stochastic Optimizer: Maximum iterations reached and the optimization hasn't converged yet.\n",
      "  % (), ConvergenceWarning)\n"
     ]
    },
    {
     "name": "stdout",
     "output_type": "stream",
     "text": [
      "[CV]  alpha=0.1, solver=adam, activation=identity, score=-0.648796, total=   0.0s\n",
      "[CV] alpha=0.1, solver=adam, activation=identity .....................\n",
      "[CV]  alpha=0.1, solver=adam, activation=identity, score=-0.644719, total=   0.0s\n",
      "[CV] alpha=1.0, solver=lbfgs, activation=identity ....................\n",
      "[CV]  alpha=1.0, solver=lbfgs, activation=identity, score=0.658565, total=   0.0s\n",
      "[CV] alpha=1.0, solver=lbfgs, activation=identity ....................\n",
      "[CV]  alpha=1.0, solver=lbfgs, activation=identity, score=0.760854, total=   0.0s\n",
      "[CV] alpha=1.0, solver=lbfgs, activation=identity ....................\n",
      "[CV]  alpha=1.0, solver=lbfgs, activation=identity, score=0.599979, total=   0.0s\n",
      "[CV] alpha=1.0, solver=lbfgs, activation=identity ....................\n",
      "[CV]  alpha=1.0, solver=lbfgs, activation=identity, score=0.581322, total=   0.0s\n",
      "[CV] alpha=1.0, solver=lbfgs, activation=identity ....................\n",
      "[CV]  alpha=1.0, solver=lbfgs, activation=identity, score=0.697511, total=   0.0s\n",
      "[CV] alpha=1.0, solver=sgd, activation=identity ......................\n",
      "[CV]  alpha=1.0, solver=sgd, activation=identity, score=-0.273076, total=   0.0s\n",
      "[CV] alpha=1.0, solver=sgd, activation=identity ......................\n",
      "[CV]  alpha=1.0, solver=sgd, activation=identity, score=0.266197, total=   0.0s\n",
      "[CV] alpha=1.0, solver=sgd, activation=identity ......................\n",
      "[CV]  alpha=1.0, solver=sgd, activation=identity, score=0.445833, total=   0.0s\n",
      "[CV] alpha=1.0, solver=sgd, activation=identity ......................\n",
      "[CV]  alpha=1.0, solver=sgd, activation=identity, score=-0.373007, total=   0.0s\n",
      "[CV] alpha=1.0, solver=sgd, activation=identity ......................\n",
      "[CV]  alpha=1.0, solver=sgd, activation=identity, score=-0.076620, total=   0.0s\n",
      "[CV] alpha=1.0, solver=adam, activation=identity .....................\n",
      "[CV]  alpha=1.0, solver=adam, activation=identity, score=-0.864134, total=   0.0s\n",
      "[CV] alpha=1.0, solver=adam, activation=identity .....................\n"
     ]
    },
    {
     "name": "stderr",
     "output_type": "stream",
     "text": [
      "C:\\Users\\Vu Anh Vinh\\Miniconda3\\envs\\thkstat\\lib\\site-packages\\sklearn\\neural_network\\multilayer_perceptron.py:563: ConvergenceWarning: Stochastic Optimizer: Maximum iterations reached and the optimization hasn't converged yet.\n",
      "  % (), ConvergenceWarning)\n",
      "C:\\Users\\Vu Anh Vinh\\Miniconda3\\envs\\thkstat\\lib\\site-packages\\sklearn\\neural_network\\multilayer_perceptron.py:563: ConvergenceWarning: Stochastic Optimizer: Maximum iterations reached and the optimization hasn't converged yet.\n",
      "  % (), ConvergenceWarning)\n",
      "C:\\Users\\Vu Anh Vinh\\Miniconda3\\envs\\thkstat\\lib\\site-packages\\sklearn\\neural_network\\multilayer_perceptron.py:563: ConvergenceWarning: Stochastic Optimizer: Maximum iterations reached and the optimization hasn't converged yet.\n",
      "  % (), ConvergenceWarning)\n"
     ]
    },
    {
     "name": "stdout",
     "output_type": "stream",
     "text": [
      "[CV]  alpha=1.0, solver=adam, activation=identity, score=-0.778375, total=   0.0s\n",
      "[CV] alpha=1.0, solver=adam, activation=identity .....................\n",
      "[CV]  alpha=1.0, solver=adam, activation=identity, score=-2.376528, total=   0.0s\n",
      "[CV] alpha=1.0, solver=adam, activation=identity .....................\n",
      "[CV]  alpha=1.0, solver=adam, activation=identity, score=-0.764408, total=   0.0s\n",
      "[CV] alpha=1.0, solver=adam, activation=identity .....................\n"
     ]
    },
    {
     "name": "stderr",
     "output_type": "stream",
     "text": [
      "C:\\Users\\Vu Anh Vinh\\Miniconda3\\envs\\thkstat\\lib\\site-packages\\sklearn\\neural_network\\multilayer_perceptron.py:563: ConvergenceWarning: Stochastic Optimizer: Maximum iterations reached and the optimization hasn't converged yet.\n",
      "  % (), ConvergenceWarning)\n",
      "C:\\Users\\Vu Anh Vinh\\Miniconda3\\envs\\thkstat\\lib\\site-packages\\sklearn\\neural_network\\multilayer_perceptron.py:563: ConvergenceWarning: Stochastic Optimizer: Maximum iterations reached and the optimization hasn't converged yet.\n",
      "  % (), ConvergenceWarning)\n"
     ]
    },
    {
     "name": "stdout",
     "output_type": "stream",
     "text": [
      "[CV]  alpha=1.0, solver=adam, activation=identity, score=-0.848812, total=   0.0s\n",
      "[CV] alpha=10, solver=lbfgs, activation=identity .....................\n",
      "[CV]  alpha=10, solver=lbfgs, activation=identity, score=0.654983, total=   0.0s\n",
      "[CV] alpha=10, solver=lbfgs, activation=identity .....................\n",
      "[CV]  alpha=10, solver=lbfgs, activation=identity, score=0.763340, total=   0.0s\n",
      "[CV] alpha=10, solver=lbfgs, activation=identity .....................\n",
      "[CV]  alpha=10, solver=lbfgs, activation=identity, score=0.631166, total=   0.0s\n",
      "[CV] alpha=10, solver=lbfgs, activation=identity .....................\n",
      "[CV]  alpha=10, solver=lbfgs, activation=identity, score=0.595495, total=   0.0s\n",
      "[CV] alpha=10, solver=lbfgs, activation=identity .....................\n",
      "[CV]  alpha=10, solver=lbfgs, activation=identity, score=0.688425, total=   0.0s\n",
      "[CV] alpha=10, solver=sgd, activation=identity .......................\n",
      "[CV]  alpha=10, solver=sgd, activation=identity, score=-0.161203, total=   0.0s\n",
      "[CV] alpha=10, solver=sgd, activation=identity .......................\n",
      "[CV]  alpha=10, solver=sgd, activation=identity, score=-0.161049, total=   0.0s\n",
      "[CV] alpha=10, solver=sgd, activation=identity .......................\n",
      "[CV]  alpha=10, solver=sgd, activation=identity, score=0.049143, total=   0.0s\n",
      "[CV] alpha=10, solver=sgd, activation=identity .......................\n",
      "[CV]  alpha=10, solver=sgd, activation=identity, score=-0.561632, total=   0.0s\n",
      "[CV] alpha=10, solver=sgd, activation=identity .......................\n",
      "[CV]  alpha=10, solver=sgd, activation=identity, score=-0.208216, total=   0.0s\n",
      "[CV] alpha=10, solver=adam, activation=identity ......................\n",
      "[CV]  alpha=10, solver=adam, activation=identity, score=-0.773095, total=   0.0s\n",
      "[CV] alpha=10, solver=adam, activation=identity ......................\n",
      "[CV]  alpha=10, solver=adam, activation=identity, score=-0.780072, total=   0.0s\n",
      "[CV] alpha=10, solver=adam, activation=identity ......................\n"
     ]
    },
    {
     "name": "stderr",
     "output_type": "stream",
     "text": [
      "C:\\Users\\Vu Anh Vinh\\Miniconda3\\envs\\thkstat\\lib\\site-packages\\sklearn\\neural_network\\multilayer_perceptron.py:563: ConvergenceWarning: Stochastic Optimizer: Maximum iterations reached and the optimization hasn't converged yet.\n",
      "  % (), ConvergenceWarning)\n",
      "C:\\Users\\Vu Anh Vinh\\Miniconda3\\envs\\thkstat\\lib\\site-packages\\sklearn\\neural_network\\multilayer_perceptron.py:563: ConvergenceWarning: Stochastic Optimizer: Maximum iterations reached and the optimization hasn't converged yet.\n",
      "  % (), ConvergenceWarning)\n",
      "C:\\Users\\Vu Anh Vinh\\Miniconda3\\envs\\thkstat\\lib\\site-packages\\sklearn\\neural_network\\multilayer_perceptron.py:563: ConvergenceWarning: Stochastic Optimizer: Maximum iterations reached and the optimization hasn't converged yet.\n",
      "  % (), ConvergenceWarning)\n",
      "C:\\Users\\Vu Anh Vinh\\Miniconda3\\envs\\thkstat\\lib\\site-packages\\sklearn\\neural_network\\multilayer_perceptron.py:563: ConvergenceWarning: Stochastic Optimizer: Maximum iterations reached and the optimization hasn't converged yet.\n",
      "  % (), ConvergenceWarning)\n"
     ]
    },
    {
     "name": "stdout",
     "output_type": "stream",
     "text": [
      "[CV]  alpha=10, solver=adam, activation=identity, score=-2.485911, total=   0.1s\n",
      "[CV] alpha=10, solver=adam, activation=identity ......................\n",
      "[CV]  alpha=10, solver=adam, activation=identity, score=-0.821968, total=   0.0s\n",
      "[CV] alpha=10, solver=adam, activation=identity ......................\n"
     ]
    },
    {
     "name": "stderr",
     "output_type": "stream",
     "text": [
      "C:\\Users\\Vu Anh Vinh\\Miniconda3\\envs\\thkstat\\lib\\site-packages\\sklearn\\neural_network\\multilayer_perceptron.py:563: ConvergenceWarning: Stochastic Optimizer: Maximum iterations reached and the optimization hasn't converged yet.\n",
      "  % (), ConvergenceWarning)\n"
     ]
    },
    {
     "name": "stdout",
     "output_type": "stream",
     "text": [
      "[CV]  alpha=10, solver=adam, activation=identity, score=-1.015358, total=   0.0s\n",
      "[CV] alpha=100, solver=lbfgs, activation=identity ....................\n",
      "[CV]  alpha=100, solver=lbfgs, activation=identity, score=0.602487, total=   0.0s\n",
      "[CV] alpha=100, solver=lbfgs, activation=identity ....................\n",
      "[CV]  alpha=100, solver=lbfgs, activation=identity, score=0.671146, total=   0.0s\n",
      "[CV] alpha=100, solver=lbfgs, activation=identity ....................\n",
      "[CV]  alpha=100, solver=lbfgs, activation=identity, score=0.557146, total=   0.0s\n",
      "[CV] alpha=100, solver=lbfgs, activation=identity ....................\n",
      "[CV]  alpha=100, solver=lbfgs, activation=identity, score=0.587179, total=   0.0s\n",
      "[CV] alpha=100, solver=lbfgs, activation=identity ....................\n",
      "[CV]  alpha=100, solver=lbfgs, activation=identity, score=0.660167, total=   0.0s\n",
      "[CV] alpha=100, solver=sgd, activation=identity ......................\n",
      "[CV]  alpha=100, solver=sgd, activation=identity, score=-0.106149, total=   0.0s\n",
      "[CV] alpha=100, solver=sgd, activation=identity ......................\n",
      "[CV]  alpha=100, solver=sgd, activation=identity, score=0.293927, total=   0.0s\n",
      "[CV] alpha=100, solver=sgd, activation=identity ......................\n",
      "[CV]  alpha=100, solver=sgd, activation=identity, score=0.222537, total=   0.0s\n",
      "[CV] alpha=100, solver=sgd, activation=identity ......................\n",
      "[CV]  alpha=100, solver=sgd, activation=identity, score=-0.431302, total=   0.0s\n",
      "[CV] alpha=100, solver=sgd, activation=identity ......................\n",
      "[CV]  alpha=100, solver=sgd, activation=identity, score=0.325919, total=   0.0s\n",
      "[CV] alpha=100, solver=adam, activation=identity .....................\n"
     ]
    },
    {
     "name": "stderr",
     "output_type": "stream",
     "text": [
      "C:\\Users\\Vu Anh Vinh\\Miniconda3\\envs\\thkstat\\lib\\site-packages\\sklearn\\neural_network\\multilayer_perceptron.py:563: ConvergenceWarning: Stochastic Optimizer: Maximum iterations reached and the optimization hasn't converged yet.\n",
      "  % (), ConvergenceWarning)\n",
      "C:\\Users\\Vu Anh Vinh\\Miniconda3\\envs\\thkstat\\lib\\site-packages\\sklearn\\neural_network\\multilayer_perceptron.py:563: ConvergenceWarning: Stochastic Optimizer: Maximum iterations reached and the optimization hasn't converged yet.\n",
      "  % (), ConvergenceWarning)\n",
      "C:\\Users\\Vu Anh Vinh\\Miniconda3\\envs\\thkstat\\lib\\site-packages\\sklearn\\neural_network\\multilayer_perceptron.py:563: ConvergenceWarning: Stochastic Optimizer: Maximum iterations reached and the optimization hasn't converged yet.\n",
      "  % (), ConvergenceWarning)\n"
     ]
    },
    {
     "name": "stdout",
     "output_type": "stream",
     "text": [
      "[CV]  alpha=100, solver=adam, activation=identity, score=-0.826389, total=   0.0s\n",
      "[CV] alpha=100, solver=adam, activation=identity .....................\n",
      "[CV]  alpha=100, solver=adam, activation=identity, score=-0.649368, total=   0.0s\n",
      "[CV] alpha=100, solver=adam, activation=identity .....................\n",
      "[CV]  alpha=100, solver=adam, activation=identity, score=-2.391152, total=   0.0s\n",
      "[CV] alpha=100, solver=adam, activation=identity .....................\n"
     ]
    },
    {
     "name": "stderr",
     "output_type": "stream",
     "text": [
      "C:\\Users\\Vu Anh Vinh\\Miniconda3\\envs\\thkstat\\lib\\site-packages\\sklearn\\neural_network\\multilayer_perceptron.py:563: ConvergenceWarning: Stochastic Optimizer: Maximum iterations reached and the optimization hasn't converged yet.\n",
      "  % (), ConvergenceWarning)\n",
      "C:\\Users\\Vu Anh Vinh\\Miniconda3\\envs\\thkstat\\lib\\site-packages\\sklearn\\neural_network\\multilayer_perceptron.py:563: ConvergenceWarning: Stochastic Optimizer: Maximum iterations reached and the optimization hasn't converged yet.\n",
      "  % (), ConvergenceWarning)\n"
     ]
    },
    {
     "name": "stdout",
     "output_type": "stream",
     "text": [
      "[CV]  alpha=100, solver=adam, activation=identity, score=-0.727260, total=   0.0s\n",
      "[CV] alpha=100, solver=adam, activation=identity .....................\n",
      "[CV]  alpha=100, solver=adam, activation=identity, score=-0.797876, total=   0.0s\n",
      "[CV] alpha=0.001, solver=lbfgs, activation=logistic ..................\n",
      "[CV]  alpha=0.001, solver=lbfgs, activation=logistic, score=0.381901, total=   0.0s\n",
      "[CV] alpha=0.001, solver=lbfgs, activation=logistic ..................\n",
      "[CV]  alpha=0.001, solver=lbfgs, activation=logistic, score=-0.618325, total=   0.0s\n",
      "[CV] alpha=0.001, solver=lbfgs, activation=logistic ..................\n",
      "[CV]  alpha=0.001, solver=lbfgs, activation=logistic, score=0.550242, total=   0.0s\n",
      "[CV] alpha=0.001, solver=lbfgs, activation=logistic ..................\n",
      "[CV]  alpha=0.001, solver=lbfgs, activation=logistic, score=0.582942, total=   0.1s\n",
      "[CV] alpha=0.001, solver=lbfgs, activation=logistic ..................\n",
      "[CV]  alpha=0.001, solver=lbfgs, activation=logistic, score=0.459258, total=   0.0s\n",
      "[CV] alpha=0.001, solver=sgd, activation=logistic ....................\n",
      "[CV]  alpha=0.001, solver=sgd, activation=logistic, score=-0.956003, total=   0.0s\n",
      "[CV] alpha=0.001, solver=sgd, activation=logistic ....................\n",
      "[CV]  alpha=0.001, solver=sgd, activation=logistic, score=-0.590006, total=   0.0s\n",
      "[CV] alpha=0.001, solver=sgd, activation=logistic ....................\n",
      "[CV]  alpha=0.001, solver=sgd, activation=logistic, score=-0.201312, total=   0.0s\n",
      "[CV] alpha=0.001, solver=sgd, activation=logistic ....................\n",
      "[CV]  alpha=0.001, solver=sgd, activation=logistic, score=-0.720637, total=   0.0s\n",
      "[CV] alpha=0.001, solver=sgd, activation=logistic ....................\n",
      "[CV]  alpha=0.001, solver=sgd, activation=logistic, score=-0.852405, total=   0.0s\n",
      "[CV] alpha=0.001, solver=adam, activation=logistic ...................\n",
      "[CV]  alpha=0.001, solver=adam, activation=logistic, score=-4.047216, total=   0.0s\n",
      "[CV] alpha=0.001, solver=adam, activation=logistic ...................\n"
     ]
    },
    {
     "name": "stderr",
     "output_type": "stream",
     "text": [
      "C:\\Users\\Vu Anh Vinh\\Miniconda3\\envs\\thkstat\\lib\\site-packages\\sklearn\\neural_network\\multilayer_perceptron.py:563: ConvergenceWarning: Stochastic Optimizer: Maximum iterations reached and the optimization hasn't converged yet.\n",
      "  % (), ConvergenceWarning)\n",
      "C:\\Users\\Vu Anh Vinh\\Miniconda3\\envs\\thkstat\\lib\\site-packages\\sklearn\\neural_network\\multilayer_perceptron.py:563: ConvergenceWarning: Stochastic Optimizer: Maximum iterations reached and the optimization hasn't converged yet.\n",
      "  % (), ConvergenceWarning)\n"
     ]
    },
    {
     "name": "stdout",
     "output_type": "stream",
     "text": [
      "[CV]  alpha=0.001, solver=adam, activation=logistic, score=-4.089855, total=   0.0s\n",
      "[CV] alpha=0.001, solver=adam, activation=logistic ...................\n",
      "[CV]  alpha=0.001, solver=adam, activation=logistic, score=-7.925288, total=   0.0s\n",
      "[CV] alpha=0.001, solver=adam, activation=logistic ...................\n"
     ]
    },
    {
     "name": "stderr",
     "output_type": "stream",
     "text": [
      "C:\\Users\\Vu Anh Vinh\\Miniconda3\\envs\\thkstat\\lib\\site-packages\\sklearn\\neural_network\\multilayer_perceptron.py:563: ConvergenceWarning: Stochastic Optimizer: Maximum iterations reached and the optimization hasn't converged yet.\n",
      "  % (), ConvergenceWarning)\n",
      "C:\\Users\\Vu Anh Vinh\\Miniconda3\\envs\\thkstat\\lib\\site-packages\\sklearn\\neural_network\\multilayer_perceptron.py:563: ConvergenceWarning: Stochastic Optimizer: Maximum iterations reached and the optimization hasn't converged yet.\n",
      "  % (), ConvergenceWarning)\n"
     ]
    },
    {
     "name": "stdout",
     "output_type": "stream",
     "text": [
      "[CV]  alpha=0.001, solver=adam, activation=logistic, score=-4.146693, total=   0.0s\n",
      "[CV] alpha=0.001, solver=adam, activation=logistic ...................\n",
      "[CV]  alpha=0.001, solver=adam, activation=logistic, score=-4.103937, total=   0.0s\n",
      "[CV] alpha=0.01, solver=lbfgs, activation=logistic ...................\n"
     ]
    },
    {
     "name": "stderr",
     "output_type": "stream",
     "text": [
      "C:\\Users\\Vu Anh Vinh\\Miniconda3\\envs\\thkstat\\lib\\site-packages\\sklearn\\neural_network\\multilayer_perceptron.py:563: ConvergenceWarning: Stochastic Optimizer: Maximum iterations reached and the optimization hasn't converged yet.\n",
      "  % (), ConvergenceWarning)\n"
     ]
    },
    {
     "name": "stdout",
     "output_type": "stream",
     "text": [
      "[CV]  alpha=0.01, solver=lbfgs, activation=logistic, score=0.467342, total=   0.0s\n",
      "[CV] alpha=0.01, solver=lbfgs, activation=logistic ...................\n",
      "[CV]  alpha=0.01, solver=lbfgs, activation=logistic, score=-0.048039, total=   0.0s\n",
      "[CV] alpha=0.01, solver=lbfgs, activation=logistic ...................\n",
      "[CV]  alpha=0.01, solver=lbfgs, activation=logistic, score=0.518501, total=   0.1s\n",
      "[CV] alpha=0.01, solver=lbfgs, activation=logistic ...................\n",
      "[CV]  alpha=0.01, solver=lbfgs, activation=logistic, score=0.534068, total=   0.1s\n",
      "[CV] alpha=0.01, solver=lbfgs, activation=logistic ...................\n",
      "[CV]  alpha=0.01, solver=lbfgs, activation=logistic, score=0.321439, total=   0.0s\n",
      "[CV] alpha=0.01, solver=sgd, activation=logistic .....................\n",
      "[CV]  alpha=0.01, solver=sgd, activation=logistic, score=-0.961812, total=   0.0s\n",
      "[CV] alpha=0.01, solver=sgd, activation=logistic .....................\n",
      "[CV]  alpha=0.01, solver=sgd, activation=logistic, score=-0.581809, total=   0.0s\n",
      "[CV] alpha=0.01, solver=sgd, activation=logistic .....................\n",
      "[CV]  alpha=0.01, solver=sgd, activation=logistic, score=-0.197941, total=   0.0s\n",
      "[CV] alpha=0.01, solver=sgd, activation=logistic .....................\n",
      "[CV]  alpha=0.01, solver=sgd, activation=logistic, score=-0.722316, total=   0.0s\n",
      "[CV] alpha=0.01, solver=sgd, activation=logistic .....................\n",
      "[CV]  alpha=0.01, solver=sgd, activation=logistic, score=-0.874578, total=   0.0s\n",
      "[CV] alpha=0.01, solver=adam, activation=logistic ....................\n",
      "[CV]  alpha=0.01, solver=adam, activation=logistic, score=-4.256306, total=   0.0s\n",
      "[CV] alpha=0.01, solver=adam, activation=logistic ....................\n"
     ]
    },
    {
     "name": "stderr",
     "output_type": "stream",
     "text": [
      "C:\\Users\\Vu Anh Vinh\\Miniconda3\\envs\\thkstat\\lib\\site-packages\\sklearn\\neural_network\\multilayer_perceptron.py:563: ConvergenceWarning: Stochastic Optimizer: Maximum iterations reached and the optimization hasn't converged yet.\n",
      "  % (), ConvergenceWarning)\n",
      "C:\\Users\\Vu Anh Vinh\\Miniconda3\\envs\\thkstat\\lib\\site-packages\\sklearn\\neural_network\\multilayer_perceptron.py:563: ConvergenceWarning: Stochastic Optimizer: Maximum iterations reached and the optimization hasn't converged yet.\n",
      "  % (), ConvergenceWarning)\n"
     ]
    },
    {
     "name": "stdout",
     "output_type": "stream",
     "text": [
      "[CV]  alpha=0.01, solver=adam, activation=logistic, score=-4.125503, total=   0.0s\n",
      "[CV] alpha=0.01, solver=adam, activation=logistic ....................\n",
      "[CV]  alpha=0.01, solver=adam, activation=logistic, score=-8.470727, total=   0.0s\n",
      "[CV] alpha=0.01, solver=adam, activation=logistic ....................\n"
     ]
    },
    {
     "name": "stderr",
     "output_type": "stream",
     "text": [
      "C:\\Users\\Vu Anh Vinh\\Miniconda3\\envs\\thkstat\\lib\\site-packages\\sklearn\\neural_network\\multilayer_perceptron.py:563: ConvergenceWarning: Stochastic Optimizer: Maximum iterations reached and the optimization hasn't converged yet.\n",
      "  % (), ConvergenceWarning)\n",
      "C:\\Users\\Vu Anh Vinh\\Miniconda3\\envs\\thkstat\\lib\\site-packages\\sklearn\\neural_network\\multilayer_perceptron.py:563: ConvergenceWarning: Stochastic Optimizer: Maximum iterations reached and the optimization hasn't converged yet.\n",
      "  % (), ConvergenceWarning)\n"
     ]
    },
    {
     "name": "stdout",
     "output_type": "stream",
     "text": [
      "[CV]  alpha=0.01, solver=adam, activation=logistic, score=-4.025235, total=   0.1s\n",
      "[CV] alpha=0.01, solver=adam, activation=logistic ....................\n",
      "[CV]  alpha=0.01, solver=adam, activation=logistic, score=-4.410609, total=   0.1s\n",
      "[CV] alpha=0.1, solver=lbfgs, activation=logistic ....................\n"
     ]
    },
    {
     "name": "stderr",
     "output_type": "stream",
     "text": [
      "C:\\Users\\Vu Anh Vinh\\Miniconda3\\envs\\thkstat\\lib\\site-packages\\sklearn\\neural_network\\multilayer_perceptron.py:563: ConvergenceWarning: Stochastic Optimizer: Maximum iterations reached and the optimization hasn't converged yet.\n",
      "  % (), ConvergenceWarning)\n"
     ]
    },
    {
     "name": "stdout",
     "output_type": "stream",
     "text": [
      "[CV]  alpha=0.1, solver=lbfgs, activation=logistic, score=0.549779, total=   0.0s\n",
      "[CV] alpha=0.1, solver=lbfgs, activation=logistic ....................\n",
      "[CV]  alpha=0.1, solver=lbfgs, activation=logistic, score=0.773609, total=   0.1s\n",
      "[CV] alpha=0.1, solver=lbfgs, activation=logistic ....................\n",
      "[CV]  alpha=0.1, solver=lbfgs, activation=logistic, score=0.446433, total=   0.0s\n",
      "[CV] alpha=0.1, solver=lbfgs, activation=logistic ....................\n",
      "[CV]  alpha=0.1, solver=lbfgs, activation=logistic, score=0.581732, total=   0.0s\n",
      "[CV] alpha=0.1, solver=lbfgs, activation=logistic ....................\n",
      "[CV]  alpha=0.1, solver=lbfgs, activation=logistic, score=0.656034, total=   0.0s\n",
      "[CV] alpha=0.1, solver=sgd, activation=logistic ......................\n",
      "[CV]  alpha=0.1, solver=sgd, activation=logistic, score=-0.950310, total=   0.0s\n",
      "[CV] alpha=0.1, solver=sgd, activation=logistic ......................\n",
      "[CV]  alpha=0.1, solver=sgd, activation=logistic, score=-0.605972, total=   0.0s\n",
      "[CV] alpha=0.1, solver=sgd, activation=logistic ......................\n",
      "[CV]  alpha=0.1, solver=sgd, activation=logistic, score=-0.221141, total=   0.0s\n",
      "[CV] alpha=0.1, solver=sgd, activation=logistic ......................\n",
      "[CV]  alpha=0.1, solver=sgd, activation=logistic, score=-0.720836, total=   0.0s\n",
      "[CV] alpha=0.1, solver=sgd, activation=logistic ......................\n",
      "[CV]  alpha=0.1, solver=sgd, activation=logistic, score=-0.846513, total=   0.0s\n",
      "[CV] alpha=0.1, solver=adam, activation=logistic .....................\n",
      "[CV]  alpha=0.1, solver=adam, activation=logistic, score=-4.343177, total=   0.0s\n",
      "[CV] alpha=0.1, solver=adam, activation=logistic .....................\n"
     ]
    },
    {
     "name": "stderr",
     "output_type": "stream",
     "text": [
      "C:\\Users\\Vu Anh Vinh\\Miniconda3\\envs\\thkstat\\lib\\site-packages\\sklearn\\neural_network\\multilayer_perceptron.py:563: ConvergenceWarning: Stochastic Optimizer: Maximum iterations reached and the optimization hasn't converged yet.\n",
      "  % (), ConvergenceWarning)\n",
      "C:\\Users\\Vu Anh Vinh\\Miniconda3\\envs\\thkstat\\lib\\site-packages\\sklearn\\neural_network\\multilayer_perceptron.py:563: ConvergenceWarning: Stochastic Optimizer: Maximum iterations reached and the optimization hasn't converged yet.\n",
      "  % (), ConvergenceWarning)\n"
     ]
    },
    {
     "name": "stdout",
     "output_type": "stream",
     "text": [
      "[CV]  alpha=0.1, solver=adam, activation=logistic, score=-4.087815, total=   0.0s\n",
      "[CV] alpha=0.1, solver=adam, activation=logistic .....................\n",
      "[CV]  alpha=0.1, solver=adam, activation=logistic, score=-8.323515, total=   0.0s\n",
      "[CV] alpha=0.1, solver=adam, activation=logistic .....................\n"
     ]
    },
    {
     "name": "stderr",
     "output_type": "stream",
     "text": [
      "C:\\Users\\Vu Anh Vinh\\Miniconda3\\envs\\thkstat\\lib\\site-packages\\sklearn\\neural_network\\multilayer_perceptron.py:563: ConvergenceWarning: Stochastic Optimizer: Maximum iterations reached and the optimization hasn't converged yet.\n",
      "  % (), ConvergenceWarning)\n",
      "C:\\Users\\Vu Anh Vinh\\Miniconda3\\envs\\thkstat\\lib\\site-packages\\sklearn\\neural_network\\multilayer_perceptron.py:563: ConvergenceWarning: Stochastic Optimizer: Maximum iterations reached and the optimization hasn't converged yet.\n",
      "  % (), ConvergenceWarning)\n"
     ]
    },
    {
     "name": "stdout",
     "output_type": "stream",
     "text": [
      "[CV]  alpha=0.1, solver=adam, activation=logistic, score=-3.911130, total=   0.0s\n",
      "[CV] alpha=0.1, solver=adam, activation=logistic .....................\n",
      "[CV]  alpha=0.1, solver=adam, activation=logistic, score=-4.396018, total=   0.0s\n",
      "[CV] alpha=1.0, solver=lbfgs, activation=logistic ....................\n"
     ]
    },
    {
     "name": "stderr",
     "output_type": "stream",
     "text": [
      "C:\\Users\\Vu Anh Vinh\\Miniconda3\\envs\\thkstat\\lib\\site-packages\\sklearn\\neural_network\\multilayer_perceptron.py:563: ConvergenceWarning: Stochastic Optimizer: Maximum iterations reached and the optimization hasn't converged yet.\n",
      "  % (), ConvergenceWarning)\n"
     ]
    },
    {
     "name": "stdout",
     "output_type": "stream",
     "text": [
      "[CV]  alpha=1.0, solver=lbfgs, activation=logistic, score=0.564532, total=   0.0s\n",
      "[CV] alpha=1.0, solver=lbfgs, activation=logistic ....................\n",
      "[CV]  alpha=1.0, solver=lbfgs, activation=logistic, score=0.786854, total=   0.1s\n",
      "[CV] alpha=1.0, solver=lbfgs, activation=logistic ....................\n",
      "[CV]  alpha=1.0, solver=lbfgs, activation=logistic, score=0.555746, total=   0.0s\n",
      "[CV] alpha=1.0, solver=lbfgs, activation=logistic ....................\n",
      "[CV]  alpha=1.0, solver=lbfgs, activation=logistic, score=0.570464, total=   0.0s\n",
      "[CV] alpha=1.0, solver=lbfgs, activation=logistic ....................\n",
      "[CV]  alpha=1.0, solver=lbfgs, activation=logistic, score=0.723762, total=   0.0s\n",
      "[CV] alpha=1.0, solver=sgd, activation=logistic ......................\n",
      "[CV]  alpha=1.0, solver=sgd, activation=logistic, score=-0.948811, total=   0.0s\n",
      "[CV] alpha=1.0, solver=sgd, activation=logistic ......................\n",
      "[CV]  alpha=1.0, solver=sgd, activation=logistic, score=-0.606107, total=   0.0s\n",
      "[CV] alpha=1.0, solver=sgd, activation=logistic ......................\n",
      "[CV]  alpha=1.0, solver=sgd, activation=logistic, score=-0.185572, total=   0.0s\n",
      "[CV] alpha=1.0, solver=sgd, activation=logistic ......................\n",
      "[CV]  alpha=1.0, solver=sgd, activation=logistic, score=-0.722051, total=   0.0s\n",
      "[CV] alpha=1.0, solver=sgd, activation=logistic ......................\n",
      "[CV]  alpha=1.0, solver=sgd, activation=logistic, score=-0.851383, total=   0.0s\n",
      "[CV] alpha=1.0, solver=adam, activation=logistic .....................\n",
      "[CV]  alpha=1.0, solver=adam, activation=logistic, score=-3.986123, total=   0.0s\n",
      "[CV] alpha=1.0, solver=adam, activation=logistic .....................\n"
     ]
    },
    {
     "name": "stderr",
     "output_type": "stream",
     "text": [
      "C:\\Users\\Vu Anh Vinh\\Miniconda3\\envs\\thkstat\\lib\\site-packages\\sklearn\\neural_network\\multilayer_perceptron.py:563: ConvergenceWarning: Stochastic Optimizer: Maximum iterations reached and the optimization hasn't converged yet.\n",
      "  % (), ConvergenceWarning)\n",
      "C:\\Users\\Vu Anh Vinh\\Miniconda3\\envs\\thkstat\\lib\\site-packages\\sklearn\\neural_network\\multilayer_perceptron.py:563: ConvergenceWarning: Stochastic Optimizer: Maximum iterations reached and the optimization hasn't converged yet.\n",
      "  % (), ConvergenceWarning)\n"
     ]
    },
    {
     "name": "stdout",
     "output_type": "stream",
     "text": [
      "[CV]  alpha=1.0, solver=adam, activation=logistic, score=-4.107829, total=   0.0s\n",
      "[CV] alpha=1.0, solver=adam, activation=logistic .....................\n",
      "[CV]  alpha=1.0, solver=adam, activation=logistic, score=-8.002017, total=   0.0s\n",
      "[CV] alpha=1.0, solver=adam, activation=logistic .....................\n"
     ]
    },
    {
     "name": "stderr",
     "output_type": "stream",
     "text": [
      "C:\\Users\\Vu Anh Vinh\\Miniconda3\\envs\\thkstat\\lib\\site-packages\\sklearn\\neural_network\\multilayer_perceptron.py:563: ConvergenceWarning: Stochastic Optimizer: Maximum iterations reached and the optimization hasn't converged yet.\n",
      "  % (), ConvergenceWarning)\n",
      "C:\\Users\\Vu Anh Vinh\\Miniconda3\\envs\\thkstat\\lib\\site-packages\\sklearn\\neural_network\\multilayer_perceptron.py:563: ConvergenceWarning: Stochastic Optimizer: Maximum iterations reached and the optimization hasn't converged yet.\n",
      "  % (), ConvergenceWarning)\n"
     ]
    },
    {
     "name": "stdout",
     "output_type": "stream",
     "text": [
      "[CV]  alpha=1.0, solver=adam, activation=logistic, score=-3.978830, total=   0.0s\n",
      "[CV] alpha=1.0, solver=adam, activation=logistic .....................\n",
      "[CV]  alpha=1.0, solver=adam, activation=logistic, score=-4.216712, total=   0.0s\n",
      "[CV] alpha=10, solver=lbfgs, activation=logistic .....................\n"
     ]
    },
    {
     "name": "stderr",
     "output_type": "stream",
     "text": [
      "C:\\Users\\Vu Anh Vinh\\Miniconda3\\envs\\thkstat\\lib\\site-packages\\sklearn\\neural_network\\multilayer_perceptron.py:563: ConvergenceWarning: Stochastic Optimizer: Maximum iterations reached and the optimization hasn't converged yet.\n",
      "  % (), ConvergenceWarning)\n"
     ]
    },
    {
     "name": "stdout",
     "output_type": "stream",
     "text": [
      "[CV]  alpha=10, solver=lbfgs, activation=logistic, score=0.628776, total=   0.1s\n",
      "[CV] alpha=10, solver=lbfgs, activation=logistic .....................\n",
      "[CV]  alpha=10, solver=lbfgs, activation=logistic, score=0.734863, total=   0.0s\n",
      "[CV] alpha=10, solver=lbfgs, activation=logistic .....................\n",
      "[CV]  alpha=10, solver=lbfgs, activation=logistic, score=0.629086, total=   0.0s\n",
      "[CV] alpha=10, solver=lbfgs, activation=logistic .....................\n",
      "[CV]  alpha=10, solver=lbfgs, activation=logistic, score=0.590417, total=   0.0s\n",
      "[CV] alpha=10, solver=lbfgs, activation=logistic .....................\n",
      "[CV]  alpha=10, solver=lbfgs, activation=logistic, score=0.673346, total=   0.0s\n",
      "[CV] alpha=10, solver=sgd, activation=logistic .......................\n",
      "[CV]  alpha=10, solver=sgd, activation=logistic, score=-0.938435, total=   0.0s\n",
      "[CV] alpha=10, solver=sgd, activation=logistic .......................\n",
      "[CV]  alpha=10, solver=sgd, activation=logistic, score=-0.559196, total=   0.0s\n",
      "[CV] alpha=10, solver=sgd, activation=logistic .......................\n",
      "[CV]  alpha=10, solver=sgd, activation=logistic, score=-0.188530, total=   0.0s\n",
      "[CV] alpha=10, solver=sgd, activation=logistic .......................\n",
      "[CV]  alpha=10, solver=sgd, activation=logistic, score=-0.696103, total=   0.0s\n",
      "[CV] alpha=10, solver=sgd, activation=logistic .......................\n",
      "[CV]  alpha=10, solver=sgd, activation=logistic, score=-0.819544, total=   0.0s\n",
      "[CV] alpha=10, solver=adam, activation=logistic ......................\n",
      "[CV]  alpha=10, solver=adam, activation=logistic, score=-4.404177, total=   0.0s\n",
      "[CV] alpha=10, solver=adam, activation=logistic ......................\n"
     ]
    },
    {
     "name": "stderr",
     "output_type": "stream",
     "text": [
      "C:\\Users\\Vu Anh Vinh\\Miniconda3\\envs\\thkstat\\lib\\site-packages\\sklearn\\neural_network\\multilayer_perceptron.py:563: ConvergenceWarning: Stochastic Optimizer: Maximum iterations reached and the optimization hasn't converged yet.\n",
      "  % (), ConvergenceWarning)\n",
      "C:\\Users\\Vu Anh Vinh\\Miniconda3\\envs\\thkstat\\lib\\site-packages\\sklearn\\neural_network\\multilayer_perceptron.py:563: ConvergenceWarning: Stochastic Optimizer: Maximum iterations reached and the optimization hasn't converged yet.\n",
      "  % (), ConvergenceWarning)\n"
     ]
    },
    {
     "name": "stdout",
     "output_type": "stream",
     "text": [
      "[CV]  alpha=10, solver=adam, activation=logistic, score=-4.013548, total=   0.0s\n",
      "[CV] alpha=10, solver=adam, activation=logistic ......................\n",
      "[CV]  alpha=10, solver=adam, activation=logistic, score=-7.826885, total=   0.0s\n",
      "[CV] alpha=10, solver=adam, activation=logistic ......................\n"
     ]
    },
    {
     "name": "stderr",
     "output_type": "stream",
     "text": [
      "C:\\Users\\Vu Anh Vinh\\Miniconda3\\envs\\thkstat\\lib\\site-packages\\sklearn\\neural_network\\multilayer_perceptron.py:563: ConvergenceWarning: Stochastic Optimizer: Maximum iterations reached and the optimization hasn't converged yet.\n",
      "  % (), ConvergenceWarning)\n",
      "C:\\Users\\Vu Anh Vinh\\Miniconda3\\envs\\thkstat\\lib\\site-packages\\sklearn\\neural_network\\multilayer_perceptron.py:563: ConvergenceWarning: Stochastic Optimizer: Maximum iterations reached and the optimization hasn't converged yet.\n",
      "  % (), ConvergenceWarning)\n"
     ]
    },
    {
     "name": "stdout",
     "output_type": "stream",
     "text": [
      "[CV]  alpha=10, solver=adam, activation=logistic, score=-4.282873, total=   0.0s\n",
      "[CV] alpha=10, solver=adam, activation=logistic ......................\n",
      "[CV]  alpha=10, solver=adam, activation=logistic, score=-4.336281, total=   0.1s\n",
      "[CV] alpha=100, solver=lbfgs, activation=logistic ....................\n"
     ]
    },
    {
     "name": "stderr",
     "output_type": "stream",
     "text": [
      "C:\\Users\\Vu Anh Vinh\\Miniconda3\\envs\\thkstat\\lib\\site-packages\\sklearn\\neural_network\\multilayer_perceptron.py:563: ConvergenceWarning: Stochastic Optimizer: Maximum iterations reached and the optimization hasn't converged yet.\n",
      "  % (), ConvergenceWarning)\n"
     ]
    },
    {
     "name": "stdout",
     "output_type": "stream",
     "text": [
      "[CV]  alpha=100, solver=lbfgs, activation=logistic, score=-0.023904, total=   0.0s\n",
      "[CV] alpha=100, solver=lbfgs, activation=logistic ....................\n",
      "[CV]  alpha=100, solver=lbfgs, activation=logistic, score=-0.000491, total=   0.0s\n",
      "[CV] alpha=100, solver=lbfgs, activation=logistic ....................\n",
      "[CV]  alpha=100, solver=lbfgs, activation=logistic, score=-0.156913, total=   0.0s\n",
      "[CV] alpha=100, solver=lbfgs, activation=logistic ....................\n",
      "[CV]  alpha=100, solver=lbfgs, activation=logistic, score=-0.003874, total=   0.0s\n",
      "[CV] alpha=100, solver=lbfgs, activation=logistic ....................\n",
      "[CV]  alpha=100, solver=lbfgs, activation=logistic, score=-0.017571, total=   0.0s\n",
      "[CV] alpha=100, solver=sgd, activation=logistic ......................\n",
      "[CV]  alpha=100, solver=sgd, activation=logistic, score=-0.772834, total=   0.0s\n",
      "[CV] alpha=100, solver=sgd, activation=logistic ......................\n",
      "[CV]  alpha=100, solver=sgd, activation=logistic, score=-0.446235, total=   0.0s\n",
      "[CV] alpha=100, solver=sgd, activation=logistic ......................\n",
      "[CV]  alpha=100, solver=sgd, activation=logistic, score=-0.081880, total=   0.0s\n",
      "[CV] alpha=100, solver=sgd, activation=logistic ......................\n",
      "[CV]  alpha=100, solver=sgd, activation=logistic, score=-0.576703, total=   0.0s\n",
      "[CV] alpha=100, solver=sgd, activation=logistic ......................\n",
      "[CV]  alpha=100, solver=sgd, activation=logistic, score=-0.676150, total=   0.0s\n",
      "[CV] alpha=100, solver=adam, activation=logistic .....................\n"
     ]
    },
    {
     "name": "stderr",
     "output_type": "stream",
     "text": [
      "C:\\Users\\Vu Anh Vinh\\Miniconda3\\envs\\thkstat\\lib\\site-packages\\sklearn\\neural_network\\multilayer_perceptron.py:563: ConvergenceWarning: Stochastic Optimizer: Maximum iterations reached and the optimization hasn't converged yet.\n",
      "  % (), ConvergenceWarning)\n",
      "C:\\Users\\Vu Anh Vinh\\Miniconda3\\envs\\thkstat\\lib\\site-packages\\sklearn\\neural_network\\multilayer_perceptron.py:563: ConvergenceWarning: Stochastic Optimizer: Maximum iterations reached and the optimization hasn't converged yet.\n",
      "  % (), ConvergenceWarning)\n"
     ]
    },
    {
     "name": "stdout",
     "output_type": "stream",
     "text": [
      "[CV]  alpha=100, solver=adam, activation=logistic, score=-4.193783, total=   0.0s\n",
      "[CV] alpha=100, solver=adam, activation=logistic .....................\n",
      "[CV]  alpha=100, solver=adam, activation=logistic, score=-3.920915, total=   0.0s\n",
      "[CV] alpha=100, solver=adam, activation=logistic .....................\n"
     ]
    },
    {
     "name": "stderr",
     "output_type": "stream",
     "text": [
      "C:\\Users\\Vu Anh Vinh\\Miniconda3\\envs\\thkstat\\lib\\site-packages\\sklearn\\neural_network\\multilayer_perceptron.py:563: ConvergenceWarning: Stochastic Optimizer: Maximum iterations reached and the optimization hasn't converged yet.\n",
      "  % (), ConvergenceWarning)\n",
      "C:\\Users\\Vu Anh Vinh\\Miniconda3\\envs\\thkstat\\lib\\site-packages\\sklearn\\neural_network\\multilayer_perceptron.py:563: ConvergenceWarning: Stochastic Optimizer: Maximum iterations reached and the optimization hasn't converged yet.\n",
      "  % (), ConvergenceWarning)\n"
     ]
    },
    {
     "name": "stdout",
     "output_type": "stream",
     "text": [
      "[CV]  alpha=100, solver=adam, activation=logistic, score=-8.081037, total=   0.0s\n",
      "[CV] alpha=100, solver=adam, activation=logistic .....................\n",
      "[CV]  alpha=100, solver=adam, activation=logistic, score=-4.022154, total=   0.0s\n",
      "[CV] alpha=100, solver=adam, activation=logistic .....................\n"
     ]
    },
    {
     "name": "stderr",
     "output_type": "stream",
     "text": [
      "C:\\Users\\Vu Anh Vinh\\Miniconda3\\envs\\thkstat\\lib\\site-packages\\sklearn\\neural_network\\multilayer_perceptron.py:563: ConvergenceWarning: Stochastic Optimizer: Maximum iterations reached and the optimization hasn't converged yet.\n",
      "  % (), ConvergenceWarning)\n"
     ]
    },
    {
     "name": "stdout",
     "output_type": "stream",
     "text": [
      "[CV]  alpha=100, solver=adam, activation=logistic, score=-4.254535, total=   0.0s\n",
      "[CV] alpha=0.001, solver=lbfgs, activation=tanh ......................\n",
      "[CV]  alpha=0.001, solver=lbfgs, activation=tanh, score=0.459251, total=   0.0s\n",
      "[CV] alpha=0.001, solver=lbfgs, activation=tanh ......................\n",
      "[CV]  alpha=0.001, solver=lbfgs, activation=tanh, score=0.274840, total=   0.1s\n",
      "[CV] alpha=0.001, solver=lbfgs, activation=tanh ......................\n",
      "[CV]  alpha=0.001, solver=lbfgs, activation=tanh, score=0.404008, total=   0.1s\n",
      "[CV] alpha=0.001, solver=lbfgs, activation=tanh ......................\n",
      "[CV]  alpha=0.001, solver=lbfgs, activation=tanh, score=0.392605, total=   0.0s\n",
      "[CV] alpha=0.001, solver=lbfgs, activation=tanh ......................\n",
      "[CV]  alpha=0.001, solver=lbfgs, activation=tanh, score=0.455285, total=   0.0s\n",
      "[CV] alpha=0.001, solver=sgd, activation=tanh ........................\n",
      "[CV]  alpha=0.001, solver=sgd, activation=tanh, score=-0.930304, total=   0.0s\n",
      "[CV] alpha=0.001, solver=sgd, activation=tanh ........................\n",
      "[CV]  alpha=0.001, solver=sgd, activation=tanh, score=-0.578130, total=   0.0s\n",
      "[CV] alpha=0.001, solver=sgd, activation=tanh ........................\n",
      "[CV]  alpha=0.001, solver=sgd, activation=tanh, score=-0.244426, total=   0.0s\n",
      "[CV] alpha=0.001, solver=sgd, activation=tanh ........................\n",
      "[CV]  alpha=0.001, solver=sgd, activation=tanh, score=-0.702330, total=   0.0s\n",
      "[CV] alpha=0.001, solver=sgd, activation=tanh ........................\n",
      "[CV]  alpha=0.001, solver=sgd, activation=tanh, score=-0.786214, total=   0.0s\n",
      "[CV] alpha=0.001, solver=adam, activation=tanh .......................\n"
     ]
    },
    {
     "name": "stderr",
     "output_type": "stream",
     "text": [
      "C:\\Users\\Vu Anh Vinh\\Miniconda3\\envs\\thkstat\\lib\\site-packages\\sklearn\\neural_network\\multilayer_perceptron.py:563: ConvergenceWarning: Stochastic Optimizer: Maximum iterations reached and the optimization hasn't converged yet.\n",
      "  % (), ConvergenceWarning)\n",
      "C:\\Users\\Vu Anh Vinh\\Miniconda3\\envs\\thkstat\\lib\\site-packages\\sklearn\\neural_network\\multilayer_perceptron.py:563: ConvergenceWarning: Stochastic Optimizer: Maximum iterations reached and the optimization hasn't converged yet.\n",
      "  % (), ConvergenceWarning)\n"
     ]
    },
    {
     "name": "stdout",
     "output_type": "stream",
     "text": [
      "[CV]  alpha=0.001, solver=adam, activation=tanh, score=-2.308799, total=   0.0s\n",
      "[CV] alpha=0.001, solver=adam, activation=tanh .......................\n",
      "[CV]  alpha=0.001, solver=adam, activation=tanh, score=-2.446238, total=   0.0s\n",
      "[CV] alpha=0.001, solver=adam, activation=tanh .......................\n"
     ]
    },
    {
     "name": "stderr",
     "output_type": "stream",
     "text": [
      "C:\\Users\\Vu Anh Vinh\\Miniconda3\\envs\\thkstat\\lib\\site-packages\\sklearn\\neural_network\\multilayer_perceptron.py:563: ConvergenceWarning: Stochastic Optimizer: Maximum iterations reached and the optimization hasn't converged yet.\n",
      "  % (), ConvergenceWarning)\n",
      "C:\\Users\\Vu Anh Vinh\\Miniconda3\\envs\\thkstat\\lib\\site-packages\\sklearn\\neural_network\\multilayer_perceptron.py:563: ConvergenceWarning: Stochastic Optimizer: Maximum iterations reached and the optimization hasn't converged yet.\n",
      "  % (), ConvergenceWarning)\n"
     ]
    },
    {
     "name": "stdout",
     "output_type": "stream",
     "text": [
      "[CV]  alpha=0.001, solver=adam, activation=tanh, score=-5.398184, total=   0.0s\n",
      "[CV] alpha=0.001, solver=adam, activation=tanh .......................\n",
      "[CV]  alpha=0.001, solver=adam, activation=tanh, score=-2.286721, total=   0.0s\n",
      "[CV] alpha=0.001, solver=adam, activation=tanh .......................\n"
     ]
    },
    {
     "name": "stderr",
     "output_type": "stream",
     "text": [
      "C:\\Users\\Vu Anh Vinh\\Miniconda3\\envs\\thkstat\\lib\\site-packages\\sklearn\\neural_network\\multilayer_perceptron.py:563: ConvergenceWarning: Stochastic Optimizer: Maximum iterations reached and the optimization hasn't converged yet.\n",
      "  % (), ConvergenceWarning)\n"
     ]
    },
    {
     "name": "stdout",
     "output_type": "stream",
     "text": [
      "[CV]  alpha=0.001, solver=adam, activation=tanh, score=-2.612067, total=   0.0s\n",
      "[CV] alpha=0.01, solver=lbfgs, activation=tanh .......................\n",
      "[CV]  alpha=0.01, solver=lbfgs, activation=tanh, score=0.389781, total=   0.1s\n",
      "[CV] alpha=0.01, solver=lbfgs, activation=tanh .......................\n",
      "[CV]  alpha=0.01, solver=lbfgs, activation=tanh, score=0.180883, total=   0.1s\n",
      "[CV] alpha=0.01, solver=lbfgs, activation=tanh .......................\n",
      "[CV]  alpha=0.01, solver=lbfgs, activation=tanh, score=0.073709, total=   0.0s\n",
      "[CV] alpha=0.01, solver=lbfgs, activation=tanh .......................\n",
      "[CV]  alpha=0.01, solver=lbfgs, activation=tanh, score=0.374634, total=   0.0s\n",
      "[CV] alpha=0.01, solver=lbfgs, activation=tanh .......................\n",
      "[CV]  alpha=0.01, solver=lbfgs, activation=tanh, score=0.219970, total=   0.0s\n",
      "[CV] alpha=0.01, solver=sgd, activation=tanh .........................\n",
      "[CV]  alpha=0.01, solver=sgd, activation=tanh, score=-0.854151, total=   0.0s\n",
      "[CV] alpha=0.01, solver=sgd, activation=tanh .........................\n",
      "[CV]  alpha=0.01, solver=sgd, activation=tanh, score=-0.542522, total=   0.0s\n",
      "[CV] alpha=0.01, solver=sgd, activation=tanh .........................\n",
      "[CV]  alpha=0.01, solver=sgd, activation=tanh, score=-0.252758, total=   0.0s\n",
      "[CV] alpha=0.01, solver=sgd, activation=tanh .........................\n",
      "[CV]  alpha=0.01, solver=sgd, activation=tanh, score=-0.654716, total=   0.0s\n",
      "[CV] alpha=0.01, solver=sgd, activation=tanh .........................\n",
      "[CV]  alpha=0.01, solver=sgd, activation=tanh, score=-0.766241, total=   0.0s\n",
      "[CV] alpha=0.01, solver=adam, activation=tanh ........................\n"
     ]
    },
    {
     "name": "stderr",
     "output_type": "stream",
     "text": [
      "C:\\Users\\Vu Anh Vinh\\Miniconda3\\envs\\thkstat\\lib\\site-packages\\sklearn\\neural_network\\multilayer_perceptron.py:563: ConvergenceWarning: Stochastic Optimizer: Maximum iterations reached and the optimization hasn't converged yet.\n",
      "  % (), ConvergenceWarning)\n",
      "C:\\Users\\Vu Anh Vinh\\Miniconda3\\envs\\thkstat\\lib\\site-packages\\sklearn\\neural_network\\multilayer_perceptron.py:563: ConvergenceWarning: Stochastic Optimizer: Maximum iterations reached and the optimization hasn't converged yet.\n",
      "  % (), ConvergenceWarning)\n"
     ]
    },
    {
     "name": "stdout",
     "output_type": "stream",
     "text": [
      "[CV]  alpha=0.01, solver=adam, activation=tanh, score=-2.330642, total=   0.0s\n",
      "[CV] alpha=0.01, solver=adam, activation=tanh ........................\n",
      "[CV]  alpha=0.01, solver=adam, activation=tanh, score=-2.297619, total=   0.0s\n",
      "[CV] alpha=0.01, solver=adam, activation=tanh ........................\n"
     ]
    },
    {
     "name": "stderr",
     "output_type": "stream",
     "text": [
      "C:\\Users\\Vu Anh Vinh\\Miniconda3\\envs\\thkstat\\lib\\site-packages\\sklearn\\neural_network\\multilayer_perceptron.py:563: ConvergenceWarning: Stochastic Optimizer: Maximum iterations reached and the optimization hasn't converged yet.\n",
      "  % (), ConvergenceWarning)\n",
      "C:\\Users\\Vu Anh Vinh\\Miniconda3\\envs\\thkstat\\lib\\site-packages\\sklearn\\neural_network\\multilayer_perceptron.py:563: ConvergenceWarning: Stochastic Optimizer: Maximum iterations reached and the optimization hasn't converged yet.\n",
      "  % (), ConvergenceWarning)\n"
     ]
    },
    {
     "name": "stdout",
     "output_type": "stream",
     "text": [
      "[CV]  alpha=0.01, solver=adam, activation=tanh, score=-5.209555, total=   0.0s\n",
      "[CV] alpha=0.01, solver=adam, activation=tanh ........................\n",
      "[CV]  alpha=0.01, solver=adam, activation=tanh, score=-2.419815, total=   0.1s\n",
      "[CV] alpha=0.01, solver=adam, activation=tanh ........................\n"
     ]
    },
    {
     "name": "stderr",
     "output_type": "stream",
     "text": [
      "C:\\Users\\Vu Anh Vinh\\Miniconda3\\envs\\thkstat\\lib\\site-packages\\sklearn\\neural_network\\multilayer_perceptron.py:563: ConvergenceWarning: Stochastic Optimizer: Maximum iterations reached and the optimization hasn't converged yet.\n",
      "  % (), ConvergenceWarning)\n"
     ]
    },
    {
     "name": "stdout",
     "output_type": "stream",
     "text": [
      "[CV]  alpha=0.01, solver=adam, activation=tanh, score=-2.485179, total=   0.1s\n",
      "[CV] alpha=0.1, solver=lbfgs, activation=tanh ........................\n",
      "[CV]  alpha=0.1, solver=lbfgs, activation=tanh, score=0.518724, total=   0.0s\n",
      "[CV] alpha=0.1, solver=lbfgs, activation=tanh ........................\n",
      "[CV]  alpha=0.1, solver=lbfgs, activation=tanh, score=0.439210, total=   0.0s\n",
      "[CV] alpha=0.1, solver=lbfgs, activation=tanh ........................\n",
      "[CV]  alpha=0.1, solver=lbfgs, activation=tanh, score=0.062160, total=   0.0s\n",
      "[CV] alpha=0.1, solver=lbfgs, activation=tanh ........................\n",
      "[CV]  alpha=0.1, solver=lbfgs, activation=tanh, score=0.466330, total=   0.0s\n",
      "[CV] alpha=0.1, solver=lbfgs, activation=tanh ........................\n",
      "[CV]  alpha=0.1, solver=lbfgs, activation=tanh, score=0.234105, total=   0.0s\n",
      "[CV] alpha=0.1, solver=sgd, activation=tanh ..........................\n",
      "[CV]  alpha=0.1, solver=sgd, activation=tanh, score=-0.900829, total=   0.0s\n",
      "[CV] alpha=0.1, solver=sgd, activation=tanh ..........................\n",
      "[CV]  alpha=0.1, solver=sgd, activation=tanh, score=-0.533062, total=   0.0s\n",
      "[CV] alpha=0.1, solver=sgd, activation=tanh ..........................\n",
      "[CV]  alpha=0.1, solver=sgd, activation=tanh, score=-0.260440, total=   0.0s\n",
      "[CV] alpha=0.1, solver=sgd, activation=tanh ..........................\n",
      "[CV]  alpha=0.1, solver=sgd, activation=tanh, score=-0.630165, total=   0.0s\n",
      "[CV] alpha=0.1, solver=sgd, activation=tanh ..........................\n",
      "[CV]  alpha=0.1, solver=sgd, activation=tanh, score=-0.818728, total=   0.0s\n",
      "[CV] alpha=0.1, solver=adam, activation=tanh .........................\n"
     ]
    },
    {
     "name": "stderr",
     "output_type": "stream",
     "text": [
      "C:\\Users\\Vu Anh Vinh\\Miniconda3\\envs\\thkstat\\lib\\site-packages\\sklearn\\neural_network\\multilayer_perceptron.py:563: ConvergenceWarning: Stochastic Optimizer: Maximum iterations reached and the optimization hasn't converged yet.\n",
      "  % (), ConvergenceWarning)\n",
      "C:\\Users\\Vu Anh Vinh\\Miniconda3\\envs\\thkstat\\lib\\site-packages\\sklearn\\neural_network\\multilayer_perceptron.py:563: ConvergenceWarning: Stochastic Optimizer: Maximum iterations reached and the optimization hasn't converged yet.\n",
      "  % (), ConvergenceWarning)\n"
     ]
    },
    {
     "name": "stdout",
     "output_type": "stream",
     "text": [
      "[CV]  alpha=0.1, solver=adam, activation=tanh, score=-2.265344, total=   0.0s\n",
      "[CV] alpha=0.1, solver=adam, activation=tanh .........................\n",
      "[CV]  alpha=0.1, solver=adam, activation=tanh, score=-2.213754, total=   0.0s\n",
      "[CV] alpha=0.1, solver=adam, activation=tanh .........................\n"
     ]
    },
    {
     "name": "stderr",
     "output_type": "stream",
     "text": [
      "C:\\Users\\Vu Anh Vinh\\Miniconda3\\envs\\thkstat\\lib\\site-packages\\sklearn\\neural_network\\multilayer_perceptron.py:563: ConvergenceWarning: Stochastic Optimizer: Maximum iterations reached and the optimization hasn't converged yet.\n",
      "  % (), ConvergenceWarning)\n",
      "C:\\Users\\Vu Anh Vinh\\Miniconda3\\envs\\thkstat\\lib\\site-packages\\sklearn\\neural_network\\multilayer_perceptron.py:563: ConvergenceWarning: Stochastic Optimizer: Maximum iterations reached and the optimization hasn't converged yet.\n",
      "  % (), ConvergenceWarning)\n"
     ]
    },
    {
     "name": "stdout",
     "output_type": "stream",
     "text": [
      "[CV]  alpha=0.1, solver=adam, activation=tanh, score=-5.188206, total=   0.1s\n",
      "[CV] alpha=0.1, solver=adam, activation=tanh .........................\n",
      "[CV]  alpha=0.1, solver=adam, activation=tanh, score=-2.288609, total=   0.0s\n",
      "[CV] alpha=0.1, solver=adam, activation=tanh .........................\n"
     ]
    },
    {
     "name": "stderr",
     "output_type": "stream",
     "text": [
      "C:\\Users\\Vu Anh Vinh\\Miniconda3\\envs\\thkstat\\lib\\site-packages\\sklearn\\neural_network\\multilayer_perceptron.py:563: ConvergenceWarning: Stochastic Optimizer: Maximum iterations reached and the optimization hasn't converged yet.\n",
      "  % (), ConvergenceWarning)\n"
     ]
    },
    {
     "name": "stdout",
     "output_type": "stream",
     "text": [
      "[CV]  alpha=0.1, solver=adam, activation=tanh, score=-2.474558, total=   0.0s\n",
      "[CV] alpha=1.0, solver=lbfgs, activation=tanh ........................\n",
      "[CV]  alpha=1.0, solver=lbfgs, activation=tanh, score=0.707051, total=   0.0s\n",
      "[CV] alpha=1.0, solver=lbfgs, activation=tanh ........................\n",
      "[CV]  alpha=1.0, solver=lbfgs, activation=tanh, score=0.825603, total=   0.0s\n",
      "[CV] alpha=1.0, solver=lbfgs, activation=tanh ........................\n",
      "[CV]  alpha=1.0, solver=lbfgs, activation=tanh, score=0.401652, total=   0.0s\n",
      "[CV] alpha=1.0, solver=lbfgs, activation=tanh ........................\n",
      "[CV]  alpha=1.0, solver=lbfgs, activation=tanh, score=0.535621, total=   0.0s\n",
      "[CV] alpha=1.0, solver=lbfgs, activation=tanh ........................\n",
      "[CV]  alpha=1.0, solver=lbfgs, activation=tanh, score=0.654156, total=   0.0s\n",
      "[CV] alpha=1.0, solver=sgd, activation=tanh ..........................\n",
      "[CV]  alpha=1.0, solver=sgd, activation=tanh, score=-0.884169, total=   0.0s\n",
      "[CV] alpha=1.0, solver=sgd, activation=tanh ..........................\n",
      "[CV]  alpha=1.0, solver=sgd, activation=tanh, score=-0.550561, total=   0.0s\n",
      "[CV] alpha=1.0, solver=sgd, activation=tanh ..........................\n",
      "[CV]  alpha=1.0, solver=sgd, activation=tanh, score=-0.269217, total=   0.0s\n",
      "[CV] alpha=1.0, solver=sgd, activation=tanh ..........................\n",
      "[CV]  alpha=1.0, solver=sgd, activation=tanh, score=-0.668400, total=   0.0s\n",
      "[CV] alpha=1.0, solver=sgd, activation=tanh ..........................\n",
      "[CV]  alpha=1.0, solver=sgd, activation=tanh, score=-0.820178, total=   0.0s\n",
      "[CV] alpha=1.0, solver=adam, activation=tanh .........................\n"
     ]
    },
    {
     "name": "stderr",
     "output_type": "stream",
     "text": [
      "C:\\Users\\Vu Anh Vinh\\Miniconda3\\envs\\thkstat\\lib\\site-packages\\sklearn\\neural_network\\multilayer_perceptron.py:563: ConvergenceWarning: Stochastic Optimizer: Maximum iterations reached and the optimization hasn't converged yet.\n",
      "  % (), ConvergenceWarning)\n",
      "C:\\Users\\Vu Anh Vinh\\Miniconda3\\envs\\thkstat\\lib\\site-packages\\sklearn\\neural_network\\multilayer_perceptron.py:563: ConvergenceWarning: Stochastic Optimizer: Maximum iterations reached and the optimization hasn't converged yet.\n",
      "  % (), ConvergenceWarning)\n"
     ]
    },
    {
     "name": "stdout",
     "output_type": "stream",
     "text": [
      "[CV]  alpha=1.0, solver=adam, activation=tanh, score=-2.329878, total=   0.1s\n",
      "[CV] alpha=1.0, solver=adam, activation=tanh .........................\n",
      "[CV]  alpha=1.0, solver=adam, activation=tanh, score=-2.420335, total=   0.1s\n",
      "[CV] alpha=1.0, solver=adam, activation=tanh .........................\n"
     ]
    },
    {
     "name": "stderr",
     "output_type": "stream",
     "text": [
      "C:\\Users\\Vu Anh Vinh\\Miniconda3\\envs\\thkstat\\lib\\site-packages\\sklearn\\neural_network\\multilayer_perceptron.py:563: ConvergenceWarning: Stochastic Optimizer: Maximum iterations reached and the optimization hasn't converged yet.\n",
      "  % (), ConvergenceWarning)\n",
      "C:\\Users\\Vu Anh Vinh\\Miniconda3\\envs\\thkstat\\lib\\site-packages\\sklearn\\neural_network\\multilayer_perceptron.py:563: ConvergenceWarning: Stochastic Optimizer: Maximum iterations reached and the optimization hasn't converged yet.\n",
      "  % (), ConvergenceWarning)\n"
     ]
    },
    {
     "name": "stdout",
     "output_type": "stream",
     "text": [
      "[CV]  alpha=1.0, solver=adam, activation=tanh, score=-5.204405, total=   0.0s\n",
      "[CV] alpha=1.0, solver=adam, activation=tanh .........................\n",
      "[CV]  alpha=1.0, solver=adam, activation=tanh, score=-2.009091, total=   0.0s\n",
      "[CV] alpha=1.0, solver=adam, activation=tanh .........................\n"
     ]
    },
    {
     "name": "stderr",
     "output_type": "stream",
     "text": [
      "C:\\Users\\Vu Anh Vinh\\Miniconda3\\envs\\thkstat\\lib\\site-packages\\sklearn\\neural_network\\multilayer_perceptron.py:563: ConvergenceWarning: Stochastic Optimizer: Maximum iterations reached and the optimization hasn't converged yet.\n",
      "  % (), ConvergenceWarning)\n"
     ]
    },
    {
     "name": "stdout",
     "output_type": "stream",
     "text": [
      "[CV]  alpha=1.0, solver=adam, activation=tanh, score=-2.324637, total=   0.0s\n",
      "[CV] alpha=10, solver=lbfgs, activation=tanh .........................\n",
      "[CV]  alpha=10, solver=lbfgs, activation=tanh, score=0.621439, total=   0.0s\n",
      "[CV] alpha=10, solver=lbfgs, activation=tanh .........................\n",
      "[CV]  alpha=10, solver=lbfgs, activation=tanh, score=0.767805, total=   0.0s\n",
      "[CV] alpha=10, solver=lbfgs, activation=tanh .........................\n",
      "[CV]  alpha=10, solver=lbfgs, activation=tanh, score=0.611438, total=   0.0s\n",
      "[CV] alpha=10, solver=lbfgs, activation=tanh .........................\n",
      "[CV]  alpha=10, solver=lbfgs, activation=tanh, score=0.553249, total=   0.0s\n",
      "[CV] alpha=10, solver=lbfgs, activation=tanh .........................\n",
      "[CV]  alpha=10, solver=lbfgs, activation=tanh, score=0.685574, total=   0.0s\n",
      "[CV] alpha=10, solver=sgd, activation=tanh ...........................\n",
      "[CV]  alpha=10, solver=sgd, activation=tanh, score=-0.873085, total=   0.0s\n",
      "[CV] alpha=10, solver=sgd, activation=tanh ...........................\n",
      "[CV]  alpha=10, solver=sgd, activation=tanh, score=-0.510803, total=   0.0s\n",
      "[CV] alpha=10, solver=sgd, activation=tanh ...........................\n",
      "[CV]  alpha=10, solver=sgd, activation=tanh, score=-0.262669, total=   0.0s\n",
      "[CV] alpha=10, solver=sgd, activation=tanh ...........................\n",
      "[CV]  alpha=10, solver=sgd, activation=tanh, score=-0.696387, total=   0.0s\n",
      "[CV] alpha=10, solver=sgd, activation=tanh ...........................\n",
      "[CV]  alpha=10, solver=sgd, activation=tanh, score=-0.804835, total=   0.0s\n",
      "[CV] alpha=10, solver=adam, activation=tanh ..........................\n"
     ]
    },
    {
     "name": "stderr",
     "output_type": "stream",
     "text": [
      "C:\\Users\\Vu Anh Vinh\\Miniconda3\\envs\\thkstat\\lib\\site-packages\\sklearn\\neural_network\\multilayer_perceptron.py:563: ConvergenceWarning: Stochastic Optimizer: Maximum iterations reached and the optimization hasn't converged yet.\n",
      "  % (), ConvergenceWarning)\n",
      "C:\\Users\\Vu Anh Vinh\\Miniconda3\\envs\\thkstat\\lib\\site-packages\\sklearn\\neural_network\\multilayer_perceptron.py:563: ConvergenceWarning: Stochastic Optimizer: Maximum iterations reached and the optimization hasn't converged yet.\n",
      "  % (), ConvergenceWarning)\n"
     ]
    },
    {
     "name": "stdout",
     "output_type": "stream",
     "text": [
      "[CV]  alpha=10, solver=adam, activation=tanh, score=-2.397660, total=   0.1s\n",
      "[CV] alpha=10, solver=adam, activation=tanh ..........................\n",
      "[CV]  alpha=10, solver=adam, activation=tanh, score=-2.675142, total=   0.0s\n",
      "[CV] alpha=10, solver=adam, activation=tanh ..........................\n"
     ]
    },
    {
     "name": "stderr",
     "output_type": "stream",
     "text": [
      "C:\\Users\\Vu Anh Vinh\\Miniconda3\\envs\\thkstat\\lib\\site-packages\\sklearn\\neural_network\\multilayer_perceptron.py:563: ConvergenceWarning: Stochastic Optimizer: Maximum iterations reached and the optimization hasn't converged yet.\n",
      "  % (), ConvergenceWarning)\n",
      "C:\\Users\\Vu Anh Vinh\\Miniconda3\\envs\\thkstat\\lib\\site-packages\\sklearn\\neural_network\\multilayer_perceptron.py:563: ConvergenceWarning: Stochastic Optimizer: Maximum iterations reached and the optimization hasn't converged yet.\n",
      "  % (), ConvergenceWarning)\n"
     ]
    },
    {
     "name": "stdout",
     "output_type": "stream",
     "text": [
      "[CV]  alpha=10, solver=adam, activation=tanh, score=-5.124798, total=   0.0s\n",
      "[CV] alpha=10, solver=adam, activation=tanh ..........................\n",
      "[CV]  alpha=10, solver=adam, activation=tanh, score=-2.096582, total=   0.0s\n",
      "[CV] alpha=10, solver=adam, activation=tanh ..........................\n"
     ]
    },
    {
     "name": "stderr",
     "output_type": "stream",
     "text": [
      "C:\\Users\\Vu Anh Vinh\\Miniconda3\\envs\\thkstat\\lib\\site-packages\\sklearn\\neural_network\\multilayer_perceptron.py:563: ConvergenceWarning: Stochastic Optimizer: Maximum iterations reached and the optimization hasn't converged yet.\n",
      "  % (), ConvergenceWarning)\n"
     ]
    },
    {
     "name": "stdout",
     "output_type": "stream",
     "text": [
      "[CV]  alpha=10, solver=adam, activation=tanh, score=-2.607783, total=   0.0s\n",
      "[CV] alpha=100, solver=lbfgs, activation=tanh ........................\n",
      "[CV]  alpha=100, solver=lbfgs, activation=tanh, score=0.581907, total=   0.0s\n",
      "[CV] alpha=100, solver=lbfgs, activation=tanh ........................\n",
      "[CV]  alpha=100, solver=lbfgs, activation=tanh, score=0.650491, total=   0.0s\n",
      "[CV] alpha=100, solver=lbfgs, activation=tanh ........................\n",
      "[CV]  alpha=100, solver=lbfgs, activation=tanh, score=0.543468, total=   0.0s\n",
      "[CV] alpha=100, solver=lbfgs, activation=tanh ........................\n",
      "[CV]  alpha=100, solver=lbfgs, activation=tanh, score=0.569062, total=   0.0s\n",
      "[CV] alpha=100, solver=lbfgs, activation=tanh ........................\n",
      "[CV]  alpha=100, solver=lbfgs, activation=tanh, score=0.648008, total=   0.1s\n",
      "[CV] alpha=100, solver=sgd, activation=tanh ..........................\n",
      "[CV]  alpha=100, solver=sgd, activation=tanh, score=-0.654512, total=   0.0s\n",
      "[CV] alpha=100, solver=sgd, activation=tanh ..........................\n",
      "[CV]  alpha=100, solver=sgd, activation=tanh, score=-0.396575, total=   0.0s\n",
      "[CV] alpha=100, solver=sgd, activation=tanh ..........................\n",
      "[CV]  alpha=100, solver=sgd, activation=tanh, score=-0.111746, total=   0.0s\n",
      "[CV] alpha=100, solver=sgd, activation=tanh ..........................\n",
      "[CV]  alpha=100, solver=sgd, activation=tanh, score=-0.567781, total=   0.0s\n",
      "[CV] alpha=100, solver=sgd, activation=tanh ..........................\n",
      "[CV]  alpha=100, solver=sgd, activation=tanh, score=-0.590991, total=   0.0s\n",
      "[CV] alpha=100, solver=adam, activation=tanh .........................\n"
     ]
    },
    {
     "name": "stderr",
     "output_type": "stream",
     "text": [
      "C:\\Users\\Vu Anh Vinh\\Miniconda3\\envs\\thkstat\\lib\\site-packages\\sklearn\\neural_network\\multilayer_perceptron.py:563: ConvergenceWarning: Stochastic Optimizer: Maximum iterations reached and the optimization hasn't converged yet.\n",
      "  % (), ConvergenceWarning)\n",
      "C:\\Users\\Vu Anh Vinh\\Miniconda3\\envs\\thkstat\\lib\\site-packages\\sklearn\\neural_network\\multilayer_perceptron.py:563: ConvergenceWarning: Stochastic Optimizer: Maximum iterations reached and the optimization hasn't converged yet.\n",
      "  % (), ConvergenceWarning)\n"
     ]
    },
    {
     "name": "stdout",
     "output_type": "stream",
     "text": [
      "[CV]  alpha=100, solver=adam, activation=tanh, score=-2.619807, total=   0.0s\n",
      "[CV] alpha=100, solver=adam, activation=tanh .........................\n",
      "[CV]  alpha=100, solver=adam, activation=tanh, score=-2.556608, total=   0.0s\n",
      "[CV] alpha=100, solver=adam, activation=tanh .........................\n"
     ]
    },
    {
     "name": "stderr",
     "output_type": "stream",
     "text": [
      "C:\\Users\\Vu Anh Vinh\\Miniconda3\\envs\\thkstat\\lib\\site-packages\\sklearn\\neural_network\\multilayer_perceptron.py:563: ConvergenceWarning: Stochastic Optimizer: Maximum iterations reached and the optimization hasn't converged yet.\n",
      "  % (), ConvergenceWarning)\n",
      "C:\\Users\\Vu Anh Vinh\\Miniconda3\\envs\\thkstat\\lib\\site-packages\\sklearn\\neural_network\\multilayer_perceptron.py:563: ConvergenceWarning: Stochastic Optimizer: Maximum iterations reached and the optimization hasn't converged yet.\n",
      "  % (), ConvergenceWarning)\n"
     ]
    },
    {
     "name": "stdout",
     "output_type": "stream",
     "text": [
      "[CV]  alpha=100, solver=adam, activation=tanh, score=-5.841927, total=   0.0s\n",
      "[CV] alpha=100, solver=adam, activation=tanh .........................\n",
      "[CV]  alpha=100, solver=adam, activation=tanh, score=-2.426511, total=   0.0s\n",
      "[CV] alpha=100, solver=adam, activation=tanh .........................\n"
     ]
    },
    {
     "name": "stderr",
     "output_type": "stream",
     "text": [
      "C:\\Users\\Vu Anh Vinh\\Miniconda3\\envs\\thkstat\\lib\\site-packages\\sklearn\\neural_network\\multilayer_perceptron.py:563: ConvergenceWarning: Stochastic Optimizer: Maximum iterations reached and the optimization hasn't converged yet.\n",
      "  % (), ConvergenceWarning)\n"
     ]
    },
    {
     "name": "stdout",
     "output_type": "stream",
     "text": [
      "[CV]  alpha=100, solver=adam, activation=tanh, score=-2.499163, total=   0.0s\n",
      "[CV] alpha=0.001, solver=lbfgs, activation=relu ......................\n",
      "[CV]  alpha=0.001, solver=lbfgs, activation=relu, score=0.632633, total=   0.0s\n",
      "[CV] alpha=0.001, solver=lbfgs, activation=relu ......................\n",
      "[CV]  alpha=0.001, solver=lbfgs, activation=relu, score=0.782240, total=   0.0s\n",
      "[CV] alpha=0.001, solver=lbfgs, activation=relu ......................\n",
      "[CV]  alpha=0.001, solver=lbfgs, activation=relu, score=0.496533, total=   0.0s\n",
      "[CV] alpha=0.001, solver=lbfgs, activation=relu ......................\n",
      "[CV]  alpha=0.001, solver=lbfgs, activation=relu, score=0.561913, total=   0.0s\n",
      "[CV] alpha=0.001, solver=lbfgs, activation=relu ......................\n",
      "[CV]  alpha=0.001, solver=lbfgs, activation=relu, score=0.527062, total=   0.1s\n",
      "[CV] alpha=0.001, solver=sgd, activation=relu ........................\n",
      "[CV]  alpha=0.001, solver=sgd, activation=relu, score=0.051278, total=   0.0s\n",
      "[CV] alpha=0.001, solver=sgd, activation=relu ........................\n",
      "[CV]  alpha=0.001, solver=sgd, activation=relu, score=-0.123350, total=   0.0s\n",
      "[CV] alpha=0.001, solver=sgd, activation=relu ........................\n",
      "[CV]  alpha=0.001, solver=sgd, activation=relu, score=-0.075850, total=   0.0s\n",
      "[CV] alpha=0.001, solver=sgd, activation=relu ........................\n",
      "[CV]  alpha=0.001, solver=sgd, activation=relu, score=-0.677353, total=   0.0s\n",
      "[CV] alpha=0.001, solver=sgd, activation=relu ........................\n",
      "[CV]  alpha=0.001, solver=sgd, activation=relu, score=-0.011407, total=   0.0s\n",
      "[CV] alpha=0.001, solver=adam, activation=relu .......................\n",
      "[CV]  alpha=0.001, solver=adam, activation=relu, score=-2.994646, total=   0.0s\n",
      "[CV] alpha=0.001, solver=adam, activation=relu .......................\n"
     ]
    },
    {
     "name": "stderr",
     "output_type": "stream",
     "text": [
      "C:\\Users\\Vu Anh Vinh\\Miniconda3\\envs\\thkstat\\lib\\site-packages\\sklearn\\neural_network\\multilayer_perceptron.py:563: ConvergenceWarning: Stochastic Optimizer: Maximum iterations reached and the optimization hasn't converged yet.\n",
      "  % (), ConvergenceWarning)\n",
      "C:\\Users\\Vu Anh Vinh\\Miniconda3\\envs\\thkstat\\lib\\site-packages\\sklearn\\neural_network\\multilayer_perceptron.py:563: ConvergenceWarning: Stochastic Optimizer: Maximum iterations reached and the optimization hasn't converged yet.\n",
      "  % (), ConvergenceWarning)\n"
     ]
    },
    {
     "name": "stdout",
     "output_type": "stream",
     "text": [
      "[CV]  alpha=0.001, solver=adam, activation=relu, score=-3.151294, total=   0.0s\n",
      "[CV] alpha=0.001, solver=adam, activation=relu .......................\n",
      "[CV]  alpha=0.001, solver=adam, activation=relu, score=-6.289391, total=   0.1s\n",
      "[CV] alpha=0.001, solver=adam, activation=relu .......................\n"
     ]
    },
    {
     "name": "stderr",
     "output_type": "stream",
     "text": [
      "C:\\Users\\Vu Anh Vinh\\Miniconda3\\envs\\thkstat\\lib\\site-packages\\sklearn\\neural_network\\multilayer_perceptron.py:563: ConvergenceWarning: Stochastic Optimizer: Maximum iterations reached and the optimization hasn't converged yet.\n",
      "  % (), ConvergenceWarning)\n",
      "C:\\Users\\Vu Anh Vinh\\Miniconda3\\envs\\thkstat\\lib\\site-packages\\sklearn\\neural_network\\multilayer_perceptron.py:563: ConvergenceWarning: Stochastic Optimizer: Maximum iterations reached and the optimization hasn't converged yet.\n",
      "  % (), ConvergenceWarning)\n"
     ]
    },
    {
     "name": "stdout",
     "output_type": "stream",
     "text": [
      "[CV]  alpha=0.001, solver=adam, activation=relu, score=-3.057035, total=   0.0s\n",
      "[CV] alpha=0.001, solver=adam, activation=relu .......................\n",
      "[CV]  alpha=0.001, solver=adam, activation=relu, score=-3.106451, total=   0.0s\n",
      "[CV] alpha=0.01, solver=lbfgs, activation=relu .......................\n"
     ]
    },
    {
     "name": "stderr",
     "output_type": "stream",
     "text": [
      "C:\\Users\\Vu Anh Vinh\\Miniconda3\\envs\\thkstat\\lib\\site-packages\\sklearn\\neural_network\\multilayer_perceptron.py:563: ConvergenceWarning: Stochastic Optimizer: Maximum iterations reached and the optimization hasn't converged yet.\n",
      "  % (), ConvergenceWarning)\n"
     ]
    },
    {
     "name": "stdout",
     "output_type": "stream",
     "text": [
      "[CV]  alpha=0.01, solver=lbfgs, activation=relu, score=0.645022, total=   0.0s\n",
      "[CV] alpha=0.01, solver=lbfgs, activation=relu .......................\n",
      "[CV]  alpha=0.01, solver=lbfgs, activation=relu, score=0.676218, total=   0.2s\n",
      "[CV] alpha=0.01, solver=lbfgs, activation=relu .......................\n",
      "[CV]  alpha=0.01, solver=lbfgs, activation=relu, score=0.304280, total=   0.1s\n",
      "[CV] alpha=0.01, solver=lbfgs, activation=relu .......................\n",
      "[CV]  alpha=0.01, solver=lbfgs, activation=relu, score=0.514685, total=   0.0s\n",
      "[CV] alpha=0.01, solver=lbfgs, activation=relu .......................\n",
      "[CV]  alpha=0.01, solver=lbfgs, activation=relu, score=0.637065, total=   0.0s\n",
      "[CV] alpha=0.01, solver=sgd, activation=relu .........................\n",
      "[CV]  alpha=0.01, solver=sgd, activation=relu, score=-0.177286, total=   0.0s\n",
      "[CV] alpha=0.01, solver=sgd, activation=relu .........................\n",
      "[CV]  alpha=0.01, solver=sgd, activation=relu, score=0.253712, total=   0.0s\n",
      "[CV] alpha=0.01, solver=sgd, activation=relu .........................\n",
      "[CV]  alpha=0.01, solver=sgd, activation=relu, score=0.243373, total=   0.0s\n",
      "[CV] alpha=0.01, solver=sgd, activation=relu .........................\n",
      "[CV]  alpha=0.01, solver=sgd, activation=relu, score=-0.068041, total=   0.0s\n",
      "[CV] alpha=0.01, solver=sgd, activation=relu .........................\n",
      "[CV]  alpha=0.01, solver=sgd, activation=relu, score=-0.069600, total=   0.0s\n",
      "[CV] alpha=0.01, solver=adam, activation=relu ........................\n"
     ]
    },
    {
     "name": "stderr",
     "output_type": "stream",
     "text": [
      "C:\\Users\\Vu Anh Vinh\\Miniconda3\\envs\\thkstat\\lib\\site-packages\\sklearn\\neural_network\\multilayer_perceptron.py:563: ConvergenceWarning: Stochastic Optimizer: Maximum iterations reached and the optimization hasn't converged yet.\n",
      "  % (), ConvergenceWarning)\n",
      "C:\\Users\\Vu Anh Vinh\\Miniconda3\\envs\\thkstat\\lib\\site-packages\\sklearn\\neural_network\\multilayer_perceptron.py:563: ConvergenceWarning: Stochastic Optimizer: Maximum iterations reached and the optimization hasn't converged yet.\n",
      "  % (), ConvergenceWarning)\n"
     ]
    },
    {
     "name": "stdout",
     "output_type": "stream",
     "text": [
      "[CV]  alpha=0.01, solver=adam, activation=relu, score=-3.170271, total=   0.0s\n",
      "[CV] alpha=0.01, solver=adam, activation=relu ........................\n",
      "[CV]  alpha=0.01, solver=adam, activation=relu, score=-3.062398, total=   0.0s\n",
      "[CV] alpha=0.01, solver=adam, activation=relu ........................\n"
     ]
    },
    {
     "name": "stderr",
     "output_type": "stream",
     "text": [
      "C:\\Users\\Vu Anh Vinh\\Miniconda3\\envs\\thkstat\\lib\\site-packages\\sklearn\\neural_network\\multilayer_perceptron.py:563: ConvergenceWarning: Stochastic Optimizer: Maximum iterations reached and the optimization hasn't converged yet.\n",
      "  % (), ConvergenceWarning)\n",
      "C:\\Users\\Vu Anh Vinh\\Miniconda3\\envs\\thkstat\\lib\\site-packages\\sklearn\\neural_network\\multilayer_perceptron.py:563: ConvergenceWarning: Stochastic Optimizer: Maximum iterations reached and the optimization hasn't converged yet.\n",
      "  % (), ConvergenceWarning)\n"
     ]
    },
    {
     "name": "stdout",
     "output_type": "stream",
     "text": [
      "[CV]  alpha=0.01, solver=adam, activation=relu, score=-6.856268, total=   0.0s\n",
      "[CV] alpha=0.01, solver=adam, activation=relu ........................\n",
      "[CV]  alpha=0.01, solver=adam, activation=relu, score=-2.845361, total=   0.0s\n",
      "[CV] alpha=0.01, solver=adam, activation=relu ........................\n"
     ]
    },
    {
     "name": "stderr",
     "output_type": "stream",
     "text": [
      "C:\\Users\\Vu Anh Vinh\\Miniconda3\\envs\\thkstat\\lib\\site-packages\\sklearn\\neural_network\\multilayer_perceptron.py:563: ConvergenceWarning: Stochastic Optimizer: Maximum iterations reached and the optimization hasn't converged yet.\n",
      "  % (), ConvergenceWarning)\n"
     ]
    },
    {
     "name": "stdout",
     "output_type": "stream",
     "text": [
      "[CV]  alpha=0.01, solver=adam, activation=relu, score=-2.964563, total=   0.0s\n",
      "[CV] alpha=0.1, solver=lbfgs, activation=relu ........................\n",
      "[CV]  alpha=0.1, solver=lbfgs, activation=relu, score=0.701325, total=   0.0s\n",
      "[CV] alpha=0.1, solver=lbfgs, activation=relu ........................\n",
      "[CV]  alpha=0.1, solver=lbfgs, activation=relu, score=0.782925, total=   0.1s\n",
      "[CV] alpha=0.1, solver=lbfgs, activation=relu ........................\n",
      "[CV]  alpha=0.1, solver=lbfgs, activation=relu, score=0.431390, total=   0.0s\n",
      "[CV] alpha=0.1, solver=lbfgs, activation=relu ........................\n",
      "[CV]  alpha=0.1, solver=lbfgs, activation=relu, score=0.502003, total=   0.0s\n",
      "[CV] alpha=0.1, solver=lbfgs, activation=relu ........................\n",
      "[CV]  alpha=0.1, solver=lbfgs, activation=relu, score=0.749848, total=   0.0s\n",
      "[CV] alpha=0.1, solver=sgd, activation=relu ..........................\n",
      "[CV]  alpha=0.1, solver=sgd, activation=relu, score=0.010566, total=   0.0s\n",
      "[CV] alpha=0.1, solver=sgd, activation=relu ..........................\n",
      "[CV]  alpha=0.1, solver=sgd, activation=relu, score=0.125738, total=   0.0s\n",
      "[CV] alpha=0.1, solver=sgd, activation=relu ..........................\n",
      "[CV]  alpha=0.1, solver=sgd, activation=relu, score=0.054833, total=   0.0s\n",
      "[CV] alpha=0.1, solver=sgd, activation=relu ..........................\n",
      "[CV]  alpha=0.1, solver=sgd, activation=relu, score=0.011543, total=   0.0s\n",
      "[CV] alpha=0.1, solver=sgd, activation=relu ..........................\n",
      "[CV]  alpha=0.1, solver=sgd, activation=relu, score=-0.107158, total=   0.0s\n",
      "[CV] alpha=0.1, solver=adam, activation=relu .........................\n"
     ]
    },
    {
     "name": "stderr",
     "output_type": "stream",
     "text": [
      "C:\\Users\\Vu Anh Vinh\\Miniconda3\\envs\\thkstat\\lib\\site-packages\\sklearn\\neural_network\\multilayer_perceptron.py:563: ConvergenceWarning: Stochastic Optimizer: Maximum iterations reached and the optimization hasn't converged yet.\n",
      "  % (), ConvergenceWarning)\n",
      "C:\\Users\\Vu Anh Vinh\\Miniconda3\\envs\\thkstat\\lib\\site-packages\\sklearn\\neural_network\\multilayer_perceptron.py:563: ConvergenceWarning: Stochastic Optimizer: Maximum iterations reached and the optimization hasn't converged yet.\n",
      "  % (), ConvergenceWarning)\n"
     ]
    },
    {
     "name": "stdout",
     "output_type": "stream",
     "text": [
      "[CV]  alpha=0.1, solver=adam, activation=relu, score=-2.780038, total=   0.0s\n",
      "[CV] alpha=0.1, solver=adam, activation=relu .........................\n",
      "[CV]  alpha=0.1, solver=adam, activation=relu, score=-4.335981, total=   0.0s\n",
      "[CV] alpha=0.1, solver=adam, activation=relu .........................\n"
     ]
    },
    {
     "name": "stderr",
     "output_type": "stream",
     "text": [
      "C:\\Users\\Vu Anh Vinh\\Miniconda3\\envs\\thkstat\\lib\\site-packages\\sklearn\\neural_network\\multilayer_perceptron.py:563: ConvergenceWarning: Stochastic Optimizer: Maximum iterations reached and the optimization hasn't converged yet.\n",
      "  % (), ConvergenceWarning)\n",
      "C:\\Users\\Vu Anh Vinh\\Miniconda3\\envs\\thkstat\\lib\\site-packages\\sklearn\\neural_network\\multilayer_perceptron.py:563: ConvergenceWarning: Stochastic Optimizer: Maximum iterations reached and the optimization hasn't converged yet.\n",
      "  % (), ConvergenceWarning)\n"
     ]
    },
    {
     "name": "stdout",
     "output_type": "stream",
     "text": [
      "[CV]  alpha=0.1, solver=adam, activation=relu, score=-8.415067, total=   0.0s\n",
      "[CV] alpha=0.1, solver=adam, activation=relu .........................\n",
      "[CV]  alpha=0.1, solver=adam, activation=relu, score=-3.114854, total=   0.0s\n",
      "[CV] alpha=0.1, solver=adam, activation=relu .........................\n"
     ]
    },
    {
     "name": "stderr",
     "output_type": "stream",
     "text": [
      "C:\\Users\\Vu Anh Vinh\\Miniconda3\\envs\\thkstat\\lib\\site-packages\\sklearn\\neural_network\\multilayer_perceptron.py:563: ConvergenceWarning: Stochastic Optimizer: Maximum iterations reached and the optimization hasn't converged yet.\n",
      "  % (), ConvergenceWarning)\n"
     ]
    },
    {
     "name": "stdout",
     "output_type": "stream",
     "text": [
      "[CV]  alpha=0.1, solver=adam, activation=relu, score=-3.373418, total=   0.0s\n",
      "[CV] alpha=1.0, solver=lbfgs, activation=relu ........................\n",
      "[CV]  alpha=1.0, solver=lbfgs, activation=relu, score=0.680301, total=   0.0s\n",
      "[CV] alpha=1.0, solver=lbfgs, activation=relu ........................\n",
      "[CV]  alpha=1.0, solver=lbfgs, activation=relu, score=0.798181, total=   0.0s\n",
      "[CV] alpha=1.0, solver=lbfgs, activation=relu ........................\n",
      "[CV]  alpha=1.0, solver=lbfgs, activation=relu, score=0.568764, total=   0.1s\n",
      "[CV] alpha=1.0, solver=lbfgs, activation=relu ........................\n",
      "[CV]  alpha=1.0, solver=lbfgs, activation=relu, score=0.521716, total=   0.0s\n",
      "[CV] alpha=1.0, solver=lbfgs, activation=relu ........................\n",
      "[CV]  alpha=1.0, solver=lbfgs, activation=relu, score=0.727950, total=   0.0s\n",
      "[CV] alpha=1.0, solver=sgd, activation=relu ..........................\n",
      "[CV]  alpha=1.0, solver=sgd, activation=relu, score=-0.304342, total=   0.0s\n",
      "[CV] alpha=1.0, solver=sgd, activation=relu ..........................\n",
      "[CV]  alpha=1.0, solver=sgd, activation=relu, score=0.293578, total=   0.0s\n",
      "[CV] alpha=1.0, solver=sgd, activation=relu ..........................\n",
      "[CV]  alpha=1.0, solver=sgd, activation=relu, score=0.069101, total=   0.0s\n",
      "[CV] alpha=1.0, solver=sgd, activation=relu ..........................\n",
      "[CV]  alpha=1.0, solver=sgd, activation=relu, score=-0.385560, total=   0.0s\n",
      "[CV] alpha=1.0, solver=sgd, activation=relu ..........................\n",
      "[CV]  alpha=1.0, solver=sgd, activation=relu, score=-0.221660, total=   0.0s\n",
      "[CV] alpha=1.0, solver=adam, activation=relu .........................\n"
     ]
    },
    {
     "name": "stderr",
     "output_type": "stream",
     "text": [
      "C:\\Users\\Vu Anh Vinh\\Miniconda3\\envs\\thkstat\\lib\\site-packages\\sklearn\\neural_network\\multilayer_perceptron.py:563: ConvergenceWarning: Stochastic Optimizer: Maximum iterations reached and the optimization hasn't converged yet.\n",
      "  % (), ConvergenceWarning)\n",
      "C:\\Users\\Vu Anh Vinh\\Miniconda3\\envs\\thkstat\\lib\\site-packages\\sklearn\\neural_network\\multilayer_perceptron.py:563: ConvergenceWarning: Stochastic Optimizer: Maximum iterations reached and the optimization hasn't converged yet.\n",
      "  % (), ConvergenceWarning)\n"
     ]
    },
    {
     "name": "stdout",
     "output_type": "stream",
     "text": [
      "[CV]  alpha=1.0, solver=adam, activation=relu, score=-3.780822, total=   0.0s\n",
      "[CV] alpha=1.0, solver=adam, activation=relu .........................\n",
      "[CV]  alpha=1.0, solver=adam, activation=relu, score=-3.305806, total=   0.0s\n",
      "[CV] alpha=1.0, solver=adam, activation=relu .........................\n"
     ]
    },
    {
     "name": "stderr",
     "output_type": "stream",
     "text": [
      "C:\\Users\\Vu Anh Vinh\\Miniconda3\\envs\\thkstat\\lib\\site-packages\\sklearn\\neural_network\\multilayer_perceptron.py:563: ConvergenceWarning: Stochastic Optimizer: Maximum iterations reached and the optimization hasn't converged yet.\n",
      "  % (), ConvergenceWarning)\n",
      "C:\\Users\\Vu Anh Vinh\\Miniconda3\\envs\\thkstat\\lib\\site-packages\\sklearn\\neural_network\\multilayer_perceptron.py:563: ConvergenceWarning: Stochastic Optimizer: Maximum iterations reached and the optimization hasn't converged yet.\n",
      "  % (), ConvergenceWarning)\n"
     ]
    },
    {
     "name": "stdout",
     "output_type": "stream",
     "text": [
      "[CV]  alpha=1.0, solver=adam, activation=relu, score=-6.449274, total=   0.0s\n",
      "[CV] alpha=1.0, solver=adam, activation=relu .........................\n",
      "[CV]  alpha=1.0, solver=adam, activation=relu, score=-2.860669, total=   0.0s\n",
      "[CV] alpha=1.0, solver=adam, activation=relu .........................\n"
     ]
    },
    {
     "name": "stderr",
     "output_type": "stream",
     "text": [
      "C:\\Users\\Vu Anh Vinh\\Miniconda3\\envs\\thkstat\\lib\\site-packages\\sklearn\\neural_network\\multilayer_perceptron.py:563: ConvergenceWarning: Stochastic Optimizer: Maximum iterations reached and the optimization hasn't converged yet.\n",
      "  % (), ConvergenceWarning)\n"
     ]
    },
    {
     "name": "stdout",
     "output_type": "stream",
     "text": [
      "[CV]  alpha=1.0, solver=adam, activation=relu, score=-3.459551, total=   0.0s\n",
      "[CV] alpha=10, solver=lbfgs, activation=relu .........................\n",
      "[CV]  alpha=10, solver=lbfgs, activation=relu, score=0.634775, total=   0.0s\n",
      "[CV] alpha=10, solver=lbfgs, activation=relu .........................\n",
      "[CV]  alpha=10, solver=lbfgs, activation=relu, score=0.767434, total=   0.0s\n",
      "[CV] alpha=10, solver=lbfgs, activation=relu .........................\n",
      "[CV]  alpha=10, solver=lbfgs, activation=relu, score=0.626795, total=   0.0s\n",
      "[CV] alpha=10, solver=lbfgs, activation=relu .........................\n",
      "[CV]  alpha=10, solver=lbfgs, activation=relu, score=0.594748, total=   0.1s\n",
      "[CV] alpha=10, solver=lbfgs, activation=relu .........................\n",
      "[CV]  alpha=10, solver=lbfgs, activation=relu, score=0.679816, total=   0.0s\n",
      "[CV] alpha=10, solver=sgd, activation=relu ...........................\n",
      "[CV]  alpha=10, solver=sgd, activation=relu, score=-0.390636, total=   0.0s\n",
      "[CV] alpha=10, solver=sgd, activation=relu ...........................\n",
      "[CV]  alpha=10, solver=sgd, activation=relu, score=-0.034874, total=   0.0s\n",
      "[CV] alpha=10, solver=sgd, activation=relu ...........................\n",
      "[CV]  alpha=10, solver=sgd, activation=relu, score=0.007957, total=   0.0s\n",
      "[CV] alpha=10, solver=sgd, activation=relu ...........................\n",
      "[CV]  alpha=10, solver=sgd, activation=relu, score=-0.027580, total=   0.0s\n",
      "[CV] alpha=10, solver=sgd, activation=relu ...........................\n",
      "[CV]  alpha=10, solver=sgd, activation=relu, score=-0.347882, total=   0.0s\n",
      "[CV] alpha=10, solver=adam, activation=relu ..........................\n"
     ]
    },
    {
     "name": "stderr",
     "output_type": "stream",
     "text": [
      "C:\\Users\\Vu Anh Vinh\\Miniconda3\\envs\\thkstat\\lib\\site-packages\\sklearn\\neural_network\\multilayer_perceptron.py:563: ConvergenceWarning: Stochastic Optimizer: Maximum iterations reached and the optimization hasn't converged yet.\n",
      "  % (), ConvergenceWarning)\n",
      "C:\\Users\\Vu Anh Vinh\\Miniconda3\\envs\\thkstat\\lib\\site-packages\\sklearn\\neural_network\\multilayer_perceptron.py:563: ConvergenceWarning: Stochastic Optimizer: Maximum iterations reached and the optimization hasn't converged yet.\n",
      "  % (), ConvergenceWarning)\n"
     ]
    },
    {
     "name": "stdout",
     "output_type": "stream",
     "text": [
      "[CV]  alpha=10, solver=adam, activation=relu, score=-3.080671, total=   0.0s\n",
      "[CV] alpha=10, solver=adam, activation=relu ..........................\n",
      "[CV]  alpha=10, solver=adam, activation=relu, score=-3.267306, total=   0.0s\n",
      "[CV] alpha=10, solver=adam, activation=relu ..........................\n"
     ]
    },
    {
     "name": "stderr",
     "output_type": "stream",
     "text": [
      "C:\\Users\\Vu Anh Vinh\\Miniconda3\\envs\\thkstat\\lib\\site-packages\\sklearn\\neural_network\\multilayer_perceptron.py:563: ConvergenceWarning: Stochastic Optimizer: Maximum iterations reached and the optimization hasn't converged yet.\n",
      "  % (), ConvergenceWarning)\n",
      "C:\\Users\\Vu Anh Vinh\\Miniconda3\\envs\\thkstat\\lib\\site-packages\\sklearn\\neural_network\\multilayer_perceptron.py:563: ConvergenceWarning: Stochastic Optimizer: Maximum iterations reached and the optimization hasn't converged yet.\n",
      "  % (), ConvergenceWarning)\n"
     ]
    },
    {
     "name": "stdout",
     "output_type": "stream",
     "text": [
      "[CV]  alpha=10, solver=adam, activation=relu, score=-6.424458, total=   0.0s\n",
      "[CV] alpha=10, solver=adam, activation=relu ..........................\n",
      "[CV]  alpha=10, solver=adam, activation=relu, score=-2.521914, total=   0.0s\n",
      "[CV] alpha=10, solver=adam, activation=relu ..........................\n"
     ]
    },
    {
     "name": "stderr",
     "output_type": "stream",
     "text": [
      "C:\\Users\\Vu Anh Vinh\\Miniconda3\\envs\\thkstat\\lib\\site-packages\\sklearn\\neural_network\\multilayer_perceptron.py:563: ConvergenceWarning: Stochastic Optimizer: Maximum iterations reached and the optimization hasn't converged yet.\n",
      "  % (), ConvergenceWarning)\n"
     ]
    },
    {
     "name": "stdout",
     "output_type": "stream",
     "text": [
      "[CV]  alpha=10, solver=adam, activation=relu, score=-4.196882, total=   0.0s\n",
      "[CV] alpha=100, solver=lbfgs, activation=relu ........................\n",
      "[CV]  alpha=100, solver=lbfgs, activation=relu, score=0.602492, total=   0.0s\n",
      "[CV] alpha=100, solver=lbfgs, activation=relu ........................\n",
      "[CV]  alpha=100, solver=lbfgs, activation=relu, score=0.671151, total=   0.0s\n",
      "[CV] alpha=100, solver=lbfgs, activation=relu ........................\n",
      "[CV]  alpha=100, solver=lbfgs, activation=relu, score=0.557189, total=   0.0s\n",
      "[CV] alpha=100, solver=lbfgs, activation=relu ........................\n",
      "[CV]  alpha=100, solver=lbfgs, activation=relu, score=0.587176, total=   0.0s\n",
      "[CV] alpha=100, solver=lbfgs, activation=relu ........................\n",
      "[CV]  alpha=100, solver=lbfgs, activation=relu, score=0.660166, total=   0.0s\n",
      "[CV] alpha=100, solver=sgd, activation=relu ..........................\n",
      "[CV]  alpha=100, solver=sgd, activation=relu, score=0.018676, total=   0.0s\n",
      "[CV] alpha=100, solver=sgd, activation=relu ..........................\n",
      "[CV]  alpha=100, solver=sgd, activation=relu, score=0.061406, total=   0.0s\n",
      "[CV] alpha=100, solver=sgd, activation=relu ..........................\n",
      "[CV]  alpha=100, solver=sgd, activation=relu, score=0.368412, total=   0.0s\n",
      "[CV] alpha=100, solver=sgd, activation=relu ..........................\n",
      "[CV]  alpha=100, solver=sgd, activation=relu, score=-0.053581, total=   0.0s\n",
      "[CV] alpha=100, solver=sgd, activation=relu ..........................\n",
      "[CV]  alpha=100, solver=sgd, activation=relu, score=-0.273076, total=   0.0s\n",
      "[CV] alpha=100, solver=adam, activation=relu .........................\n"
     ]
    },
    {
     "name": "stderr",
     "output_type": "stream",
     "text": [
      "C:\\Users\\Vu Anh Vinh\\Miniconda3\\envs\\thkstat\\lib\\site-packages\\sklearn\\neural_network\\multilayer_perceptron.py:563: ConvergenceWarning: Stochastic Optimizer: Maximum iterations reached and the optimization hasn't converged yet.\n",
      "  % (), ConvergenceWarning)\n",
      "C:\\Users\\Vu Anh Vinh\\Miniconda3\\envs\\thkstat\\lib\\site-packages\\sklearn\\neural_network\\multilayer_perceptron.py:563: ConvergenceWarning: Stochastic Optimizer: Maximum iterations reached and the optimization hasn't converged yet.\n",
      "  % (), ConvergenceWarning)\n"
     ]
    },
    {
     "name": "stdout",
     "output_type": "stream",
     "text": [
      "[CV]  alpha=100, solver=adam, activation=relu, score=-2.731051, total=   0.0s\n",
      "[CV] alpha=100, solver=adam, activation=relu .........................\n",
      "[CV]  alpha=100, solver=adam, activation=relu, score=-3.393244, total=   0.1s\n",
      "[CV] alpha=100, solver=adam, activation=relu .........................\n"
     ]
    },
    {
     "name": "stderr",
     "output_type": "stream",
     "text": [
      "C:\\Users\\Vu Anh Vinh\\Miniconda3\\envs\\thkstat\\lib\\site-packages\\sklearn\\neural_network\\multilayer_perceptron.py:563: ConvergenceWarning: Stochastic Optimizer: Maximum iterations reached and the optimization hasn't converged yet.\n",
      "  % (), ConvergenceWarning)\n",
      "C:\\Users\\Vu Anh Vinh\\Miniconda3\\envs\\thkstat\\lib\\site-packages\\sklearn\\neural_network\\multilayer_perceptron.py:563: ConvergenceWarning: Stochastic Optimizer: Maximum iterations reached and the optimization hasn't converged yet.\n",
      "  % (), ConvergenceWarning)\n"
     ]
    },
    {
     "name": "stdout",
     "output_type": "stream",
     "text": [
      "[CV]  alpha=100, solver=adam, activation=relu, score=-6.443857, total=   0.1s\n",
      "[CV] alpha=100, solver=adam, activation=relu .........................\n",
      "[CV]  alpha=100, solver=adam, activation=relu, score=-3.360645, total=   0.0s\n",
      "[CV] alpha=100, solver=adam, activation=relu .........................\n"
     ]
    },
    {
     "name": "stderr",
     "output_type": "stream",
     "text": [
      "C:\\Users\\Vu Anh Vinh\\Miniconda3\\envs\\thkstat\\lib\\site-packages\\sklearn\\neural_network\\multilayer_perceptron.py:563: ConvergenceWarning: Stochastic Optimizer: Maximum iterations reached and the optimization hasn't converged yet.\n",
      "  % (), ConvergenceWarning)\n",
      "[Parallel(n_jobs=1)]: Done 360 out of 360 | elapsed:   28.8s finished\n"
     ]
    },
    {
     "name": "stdout",
     "output_type": "stream",
     "text": [
      "[CV]  alpha=100, solver=adam, activation=relu, score=-3.619825, total=   0.0s\n",
      "Best hyper parameters: {'alpha': 10, 'solver': 'lbfgs', 'activation': 'identity'}\n",
      "Best score of this configuration: 0.666553418804\n",
      "max score: 0.796\n",
      "                  predicted value\ttrue value \n",
      "student  1\t\t55.226\t\t54.000\n",
      "student 18\t\t10.026\t\t0.000\n",
      "student 19\t\t36.365\t\t36.000\n",
      "student 21\t\t78.196\t\t81.000\n",
      "student 26\t\t37.557\t\t46.000\n",
      "student 31\t\t55.561\t\t65.000\n",
      "student 34\t\t45.636\t\t38.000\n",
      "student 39\t\t26.899\t\t37.000\n",
      "student 44\t\t32.674\t\t40.000\n",
      "student 45\t\t69.170\t\t63.000\n",
      "student 46\t\t65.399\t\t61.000\n",
      "student 50\t\t64.902\t\t49.000\n",
      "student 51\t\t57.575\t\t55.000\n",
      "student 54\t\t23.970\t\t32.000\n",
      "student 60\t\t32.560\t\t39.000\n",
      "student 64\t\t66.485\t\t75.000\n",
      "student 67\t\t57.288\t\t62.000\n",
      "student 68\t\t73.235\t\t85.000\n",
      "student 75\t\t57.068\t\t53.000\n",
      "student 77\t\t60.211\t\t71.000\n",
      "student 85\t\t47.064\t\t54.000\n",
      "student 88\t\t17.548\t\t33.000\n",
      "student 89\t\t48.033\t\t54.000\n",
      "Grid search for... K Nearest Neighbors\n",
      "KNeighborsRegressor(algorithm='auto', leaf_size=30, metric='minkowski',\n",
      "          metric_params=None, n_jobs=1, n_neighbors=5, p=2,\n",
      "          weights='uniform')\n",
      "Fitting 5 folds for each of 2 candidates, totalling 10 fits\n",
      "[CV] weights=uniform .................................................\n",
      "[CV] .................. weights=uniform, score=0.756329, total=   0.0s\n",
      "[CV] weights=uniform .................................................\n",
      "[CV] .................. weights=uniform, score=0.203517, total=   0.0s\n",
      "[CV] weights=uniform .................................................\n",
      "[CV] .................. weights=uniform, score=0.633773, total=   0.0s\n",
      "[CV] weights=uniform .................................................\n",
      "[CV] .................. weights=uniform, score=0.634247, total=   0.0s\n",
      "[CV] weights=uniform .................................................\n",
      "[CV] .................. weights=uniform, score=0.707478, total=   0.0s\n",
      "[CV] weights=distance ................................................\n",
      "[CV] ................. weights=distance, score=0.675357, total=   0.0s\n",
      "[CV] weights=distance ................................................\n",
      "[CV] ................ weights=distance, score=-0.058048, total=   0.0s\n",
      "[CV] weights=distance ................................................\n",
      "[CV] ................. weights=distance, score=0.602848, total=   0.0s\n",
      "[CV] weights=distance ................................................\n",
      "[CV] ................. weights=distance, score=0.637548, total=   0.0s\n",
      "[CV] weights=distance ................................................\n",
      "[CV] ................. weights=distance, score=0.729643, total=   0.0s\n",
      "Best hyper parameters: {'weights': 'uniform'}\n",
      "Best score of this configuration: 0.588928897145\n",
      "max score: 0.752\n",
      "                  predicted value\ttrue value \n",
      "student  5\t\t47.400\t\t49.000\n",
      "student 14\t\t75.400\t\t74.000\n",
      "student 19\t\t36.600\t\t36.000\n",
      "student 22\t\t44.400\t\t42.000\n",
      "student 23\t\t54.400\t\t69.000\n",
      "student 27\t\t46.400\t\t57.000\n",
      "student 30\t\t41.800\t\t36.000\n",
      "student 31\t\t53.600\t\t65.000\n",
      "student 33\t\t52.400\t\t48.000\n",
      "student 36\t\t46.400\t\t43.000\n",
      "student 43\t\t18.600\t\t9.000\n",
      "student 48\t\t81.400\t\t86.000\n",
      "student 50\t\t69.600\t\t49.000\n",
      "student 52\t\t50.800\t\t56.000\n",
      "student 55\t\t53.400\t\t59.000\n",
      "student 64\t\t70.600\t\t75.000\n",
      "student 65\t\t49.600\t\t52.000\n",
      "student 72\t\t60.600\t\t45.000\n",
      "student 73\t\t55.600\t\t44.000\n",
      "student 79\t\t72.200\t\t90.000\n",
      "student 80\t\t40.200\t\t35.000\n",
      "student 83\t\t47.200\t\t47.000\n",
      "student 87\t\t71.800\t\t75.000\n",
      "average cv score:[ 0.6477451   0.64386466  0.67597562  0.57118796  0.63564473  0.66655342\n",
      "  0.5889289 ]\n",
      "average prediction variability:[ 0.77626897  0.78591383  0.72577364  0.76409603  0.7125058   0.79556782\n",
      "  0.75227209]\n"
     ]
    },
    {
     "name": "stderr",
     "output_type": "stream",
     "text": [
      "C:\\Users\\Vu Anh Vinh\\Miniconda3\\envs\\thkstat\\lib\\site-packages\\sklearn\\utils\\validation.py:395: DeprecationWarning: Passing 1d arrays as data is deprecated in 0.17 and will raise ValueError in 0.19. Reshape your data either using X.reshape(-1, 1) if your data has a single feature or X.reshape(1, -1) if it contains a single sample.\n",
      "  DeprecationWarning)\n",
      "C:\\Users\\Vu Anh Vinh\\Miniconda3\\envs\\thkstat\\lib\\site-packages\\sklearn\\utils\\validation.py:395: DeprecationWarning: Passing 1d arrays as data is deprecated in 0.17 and will raise ValueError in 0.19. Reshape your data either using X.reshape(-1, 1) if your data has a single feature or X.reshape(1, -1) if it contains a single sample.\n",
      "  DeprecationWarning)\n",
      "C:\\Users\\Vu Anh Vinh\\Miniconda3\\envs\\thkstat\\lib\\site-packages\\sklearn\\utils\\validation.py:395: DeprecationWarning: Passing 1d arrays as data is deprecated in 0.17 and will raise ValueError in 0.19. Reshape your data either using X.reshape(-1, 1) if your data has a single feature or X.reshape(1, -1) if it contains a single sample.\n",
      "  DeprecationWarning)\n",
      "C:\\Users\\Vu Anh Vinh\\Miniconda3\\envs\\thkstat\\lib\\site-packages\\sklearn\\utils\\validation.py:395: DeprecationWarning: Passing 1d arrays as data is deprecated in 0.17 and will raise ValueError in 0.19. Reshape your data either using X.reshape(-1, 1) if your data has a single feature or X.reshape(1, -1) if it contains a single sample.\n",
      "  DeprecationWarning)\n",
      "C:\\Users\\Vu Anh Vinh\\Miniconda3\\envs\\thkstat\\lib\\site-packages\\sklearn\\utils\\validation.py:395: DeprecationWarning: Passing 1d arrays as data is deprecated in 0.17 and will raise ValueError in 0.19. Reshape your data either using X.reshape(-1, 1) if your data has a single feature or X.reshape(1, -1) if it contains a single sample.\n",
      "  DeprecationWarning)\n",
      "C:\\Users\\Vu Anh Vinh\\Miniconda3\\envs\\thkstat\\lib\\site-packages\\sklearn\\utils\\validation.py:395: DeprecationWarning: Passing 1d arrays as data is deprecated in 0.17 and will raise ValueError in 0.19. Reshape your data either using X.reshape(-1, 1) if your data has a single feature or X.reshape(1, -1) if it contains a single sample.\n",
      "  DeprecationWarning)\n",
      "C:\\Users\\Vu Anh Vinh\\Miniconda3\\envs\\thkstat\\lib\\site-packages\\sklearn\\utils\\validation.py:395: DeprecationWarning: Passing 1d arrays as data is deprecated in 0.17 and will raise ValueError in 0.19. Reshape your data either using X.reshape(-1, 1) if your data has a single feature or X.reshape(1, -1) if it contains a single sample.\n",
      "  DeprecationWarning)\n",
      "C:\\Users\\Vu Anh Vinh\\Miniconda3\\envs\\thkstat\\lib\\site-packages\\sklearn\\utils\\validation.py:395: DeprecationWarning: Passing 1d arrays as data is deprecated in 0.17 and will raise ValueError in 0.19. Reshape your data either using X.reshape(-1, 1) if your data has a single feature or X.reshape(1, -1) if it contains a single sample.\n",
      "  DeprecationWarning)\n",
      "C:\\Users\\Vu Anh Vinh\\Miniconda3\\envs\\thkstat\\lib\\site-packages\\sklearn\\utils\\validation.py:395: DeprecationWarning: Passing 1d arrays as data is deprecated in 0.17 and will raise ValueError in 0.19. Reshape your data either using X.reshape(-1, 1) if your data has a single feature or X.reshape(1, -1) if it contains a single sample.\n",
      "  DeprecationWarning)\n",
      "C:\\Users\\Vu Anh Vinh\\Miniconda3\\envs\\thkstat\\lib\\site-packages\\sklearn\\utils\\validation.py:395: DeprecationWarning: Passing 1d arrays as data is deprecated in 0.17 and will raise ValueError in 0.19. Reshape your data either using X.reshape(-1, 1) if your data has a single feature or X.reshape(1, -1) if it contains a single sample.\n",
      "  DeprecationWarning)\n",
      "C:\\Users\\Vu Anh Vinh\\Miniconda3\\envs\\thkstat\\lib\\site-packages\\sklearn\\utils\\validation.py:395: DeprecationWarning: Passing 1d arrays as data is deprecated in 0.17 and will raise ValueError in 0.19. Reshape your data either using X.reshape(-1, 1) if your data has a single feature or X.reshape(1, -1) if it contains a single sample.\n",
      "  DeprecationWarning)\n",
      "C:\\Users\\Vu Anh Vinh\\Miniconda3\\envs\\thkstat\\lib\\site-packages\\sklearn\\utils\\validation.py:395: DeprecationWarning: Passing 1d arrays as data is deprecated in 0.17 and will raise ValueError in 0.19. Reshape your data either using X.reshape(-1, 1) if your data has a single feature or X.reshape(1, -1) if it contains a single sample.\n",
      "  DeprecationWarning)\n",
      "C:\\Users\\Vu Anh Vinh\\Miniconda3\\envs\\thkstat\\lib\\site-packages\\sklearn\\utils\\validation.py:395: DeprecationWarning: Passing 1d arrays as data is deprecated in 0.17 and will raise ValueError in 0.19. Reshape your data either using X.reshape(-1, 1) if your data has a single feature or X.reshape(1, -1) if it contains a single sample.\n",
      "  DeprecationWarning)\n",
      "C:\\Users\\Vu Anh Vinh\\Miniconda3\\envs\\thkstat\\lib\\site-packages\\sklearn\\utils\\validation.py:395: DeprecationWarning: Passing 1d arrays as data is deprecated in 0.17 and will raise ValueError in 0.19. Reshape your data either using X.reshape(-1, 1) if your data has a single feature or X.reshape(1, -1) if it contains a single sample.\n",
      "  DeprecationWarning)\n",
      "C:\\Users\\Vu Anh Vinh\\Miniconda3\\envs\\thkstat\\lib\\site-packages\\sklearn\\utils\\validation.py:395: DeprecationWarning: Passing 1d arrays as data is deprecated in 0.17 and will raise ValueError in 0.19. Reshape your data either using X.reshape(-1, 1) if your data has a single feature or X.reshape(1, -1) if it contains a single sample.\n",
      "  DeprecationWarning)\n",
      "C:\\Users\\Vu Anh Vinh\\Miniconda3\\envs\\thkstat\\lib\\site-packages\\sklearn\\utils\\validation.py:395: DeprecationWarning: Passing 1d arrays as data is deprecated in 0.17 and will raise ValueError in 0.19. Reshape your data either using X.reshape(-1, 1) if your data has a single feature or X.reshape(1, -1) if it contains a single sample.\n",
      "  DeprecationWarning)\n",
      "C:\\Users\\Vu Anh Vinh\\Miniconda3\\envs\\thkstat\\lib\\site-packages\\sklearn\\utils\\validation.py:395: DeprecationWarning: Passing 1d arrays as data is deprecated in 0.17 and will raise ValueError in 0.19. Reshape your data either using X.reshape(-1, 1) if your data has a single feature or X.reshape(1, -1) if it contains a single sample.\n",
      "  DeprecationWarning)\n",
      "C:\\Users\\Vu Anh Vinh\\Miniconda3\\envs\\thkstat\\lib\\site-packages\\sklearn\\utils\\validation.py:395: DeprecationWarning: Passing 1d arrays as data is deprecated in 0.17 and will raise ValueError in 0.19. Reshape your data either using X.reshape(-1, 1) if your data has a single feature or X.reshape(1, -1) if it contains a single sample.\n",
      "  DeprecationWarning)\n",
      "C:\\Users\\Vu Anh Vinh\\Miniconda3\\envs\\thkstat\\lib\\site-packages\\sklearn\\utils\\validation.py:395: DeprecationWarning: Passing 1d arrays as data is deprecated in 0.17 and will raise ValueError in 0.19. Reshape your data either using X.reshape(-1, 1) if your data has a single feature or X.reshape(1, -1) if it contains a single sample.\n",
      "  DeprecationWarning)\n",
      "C:\\Users\\Vu Anh Vinh\\Miniconda3\\envs\\thkstat\\lib\\site-packages\\sklearn\\utils\\validation.py:395: DeprecationWarning: Passing 1d arrays as data is deprecated in 0.17 and will raise ValueError in 0.19. Reshape your data either using X.reshape(-1, 1) if your data has a single feature or X.reshape(1, -1) if it contains a single sample.\n",
      "  DeprecationWarning)\n",
      "C:\\Users\\Vu Anh Vinh\\Miniconda3\\envs\\thkstat\\lib\\site-packages\\sklearn\\utils\\validation.py:395: DeprecationWarning: Passing 1d arrays as data is deprecated in 0.17 and will raise ValueError in 0.19. Reshape your data either using X.reshape(-1, 1) if your data has a single feature or X.reshape(1, -1) if it contains a single sample.\n",
      "  DeprecationWarning)\n",
      "C:\\Users\\Vu Anh Vinh\\Miniconda3\\envs\\thkstat\\lib\\site-packages\\sklearn\\utils\\validation.py:395: DeprecationWarning: Passing 1d arrays as data is deprecated in 0.17 and will raise ValueError in 0.19. Reshape your data either using X.reshape(-1, 1) if your data has a single feature or X.reshape(1, -1) if it contains a single sample.\n",
      "  DeprecationWarning)\n",
      "C:\\Users\\Vu Anh Vinh\\Miniconda3\\envs\\thkstat\\lib\\site-packages\\sklearn\\utils\\validation.py:395: DeprecationWarning: Passing 1d arrays as data is deprecated in 0.17 and will raise ValueError in 0.19. Reshape your data either using X.reshape(-1, 1) if your data has a single feature or X.reshape(1, -1) if it contains a single sample.\n",
      "  DeprecationWarning)\n",
      "[Parallel(n_jobs=1)]: Done   1 out of   1 | elapsed:    0.0s remaining:    0.0s\n",
      "[Parallel(n_jobs=1)]: Done   2 out of   2 | elapsed:    0.0s remaining:    0.0s\n",
      "[Parallel(n_jobs=1)]: Done   3 out of   3 | elapsed:    0.0s remaining:    0.0s\n",
      "[Parallel(n_jobs=1)]: Done  10 out of  10 | elapsed:    0.0s finished\n",
      "C:\\Users\\Vu Anh Vinh\\Miniconda3\\envs\\thkstat\\lib\\site-packages\\sklearn\\utils\\validation.py:395: DeprecationWarning: Passing 1d arrays as data is deprecated in 0.17 and will raise ValueError in 0.19. Reshape your data either using X.reshape(-1, 1) if your data has a single feature or X.reshape(1, -1) if it contains a single sample.\n",
      "  DeprecationWarning)\n",
      "C:\\Users\\Vu Anh Vinh\\Miniconda3\\envs\\thkstat\\lib\\site-packages\\sklearn\\utils\\validation.py:395: DeprecationWarning: Passing 1d arrays as data is deprecated in 0.17 and will raise ValueError in 0.19. Reshape your data either using X.reshape(-1, 1) if your data has a single feature or X.reshape(1, -1) if it contains a single sample.\n",
      "  DeprecationWarning)\n",
      "C:\\Users\\Vu Anh Vinh\\Miniconda3\\envs\\thkstat\\lib\\site-packages\\sklearn\\utils\\validation.py:395: DeprecationWarning: Passing 1d arrays as data is deprecated in 0.17 and will raise ValueError in 0.19. Reshape your data either using X.reshape(-1, 1) if your data has a single feature or X.reshape(1, -1) if it contains a single sample.\n",
      "  DeprecationWarning)\n",
      "C:\\Users\\Vu Anh Vinh\\Miniconda3\\envs\\thkstat\\lib\\site-packages\\sklearn\\utils\\validation.py:395: DeprecationWarning: Passing 1d arrays as data is deprecated in 0.17 and will raise ValueError in 0.19. Reshape your data either using X.reshape(-1, 1) if your data has a single feature or X.reshape(1, -1) if it contains a single sample.\n",
      "  DeprecationWarning)\n",
      "C:\\Users\\Vu Anh Vinh\\Miniconda3\\envs\\thkstat\\lib\\site-packages\\sklearn\\utils\\validation.py:395: DeprecationWarning: Passing 1d arrays as data is deprecated in 0.17 and will raise ValueError in 0.19. Reshape your data either using X.reshape(-1, 1) if your data has a single feature or X.reshape(1, -1) if it contains a single sample.\n",
      "  DeprecationWarning)\n",
      "C:\\Users\\Vu Anh Vinh\\Miniconda3\\envs\\thkstat\\lib\\site-packages\\sklearn\\utils\\validation.py:395: DeprecationWarning: Passing 1d arrays as data is deprecated in 0.17 and will raise ValueError in 0.19. Reshape your data either using X.reshape(-1, 1) if your data has a single feature or X.reshape(1, -1) if it contains a single sample.\n",
      "  DeprecationWarning)\n",
      "C:\\Users\\Vu Anh Vinh\\Miniconda3\\envs\\thkstat\\lib\\site-packages\\sklearn\\utils\\validation.py:395: DeprecationWarning: Passing 1d arrays as data is deprecated in 0.17 and will raise ValueError in 0.19. Reshape your data either using X.reshape(-1, 1) if your data has a single feature or X.reshape(1, -1) if it contains a single sample.\n",
      "  DeprecationWarning)\n",
      "C:\\Users\\Vu Anh Vinh\\Miniconda3\\envs\\thkstat\\lib\\site-packages\\sklearn\\utils\\validation.py:395: DeprecationWarning: Passing 1d arrays as data is deprecated in 0.17 and will raise ValueError in 0.19. Reshape your data either using X.reshape(-1, 1) if your data has a single feature or X.reshape(1, -1) if it contains a single sample.\n",
      "  DeprecationWarning)\n",
      "C:\\Users\\Vu Anh Vinh\\Miniconda3\\envs\\thkstat\\lib\\site-packages\\sklearn\\utils\\validation.py:395: DeprecationWarning: Passing 1d arrays as data is deprecated in 0.17 and will raise ValueError in 0.19. Reshape your data either using X.reshape(-1, 1) if your data has a single feature or X.reshape(1, -1) if it contains a single sample.\n",
      "  DeprecationWarning)\n",
      "C:\\Users\\Vu Anh Vinh\\Miniconda3\\envs\\thkstat\\lib\\site-packages\\sklearn\\utils\\validation.py:395: DeprecationWarning: Passing 1d arrays as data is deprecated in 0.17 and will raise ValueError in 0.19. Reshape your data either using X.reshape(-1, 1) if your data has a single feature or X.reshape(1, -1) if it contains a single sample.\n",
      "  DeprecationWarning)\n",
      "C:\\Users\\Vu Anh Vinh\\Miniconda3\\envs\\thkstat\\lib\\site-packages\\sklearn\\utils\\validation.py:395: DeprecationWarning: Passing 1d arrays as data is deprecated in 0.17 and will raise ValueError in 0.19. Reshape your data either using X.reshape(-1, 1) if your data has a single feature or X.reshape(1, -1) if it contains a single sample.\n",
      "  DeprecationWarning)\n",
      "C:\\Users\\Vu Anh Vinh\\Miniconda3\\envs\\thkstat\\lib\\site-packages\\sklearn\\utils\\validation.py:395: DeprecationWarning: Passing 1d arrays as data is deprecated in 0.17 and will raise ValueError in 0.19. Reshape your data either using X.reshape(-1, 1) if your data has a single feature or X.reshape(1, -1) if it contains a single sample.\n",
      "  DeprecationWarning)\n",
      "C:\\Users\\Vu Anh Vinh\\Miniconda3\\envs\\thkstat\\lib\\site-packages\\sklearn\\utils\\validation.py:395: DeprecationWarning: Passing 1d arrays as data is deprecated in 0.17 and will raise ValueError in 0.19. Reshape your data either using X.reshape(-1, 1) if your data has a single feature or X.reshape(1, -1) if it contains a single sample.\n",
      "  DeprecationWarning)\n",
      "C:\\Users\\Vu Anh Vinh\\Miniconda3\\envs\\thkstat\\lib\\site-packages\\sklearn\\utils\\validation.py:395: DeprecationWarning: Passing 1d arrays as data is deprecated in 0.17 and will raise ValueError in 0.19. Reshape your data either using X.reshape(-1, 1) if your data has a single feature or X.reshape(1, -1) if it contains a single sample.\n",
      "  DeprecationWarning)\n",
      "C:\\Users\\Vu Anh Vinh\\Miniconda3\\envs\\thkstat\\lib\\site-packages\\sklearn\\utils\\validation.py:395: DeprecationWarning: Passing 1d arrays as data is deprecated in 0.17 and will raise ValueError in 0.19. Reshape your data either using X.reshape(-1, 1) if your data has a single feature or X.reshape(1, -1) if it contains a single sample.\n",
      "  DeprecationWarning)\n",
      "C:\\Users\\Vu Anh Vinh\\Miniconda3\\envs\\thkstat\\lib\\site-packages\\sklearn\\utils\\validation.py:395: DeprecationWarning: Passing 1d arrays as data is deprecated in 0.17 and will raise ValueError in 0.19. Reshape your data either using X.reshape(-1, 1) if your data has a single feature or X.reshape(1, -1) if it contains a single sample.\n",
      "  DeprecationWarning)\n",
      "C:\\Users\\Vu Anh Vinh\\Miniconda3\\envs\\thkstat\\lib\\site-packages\\sklearn\\utils\\validation.py:395: DeprecationWarning: Passing 1d arrays as data is deprecated in 0.17 and will raise ValueError in 0.19. Reshape your data either using X.reshape(-1, 1) if your data has a single feature or X.reshape(1, -1) if it contains a single sample.\n",
      "  DeprecationWarning)\n",
      "C:\\Users\\Vu Anh Vinh\\Miniconda3\\envs\\thkstat\\lib\\site-packages\\sklearn\\utils\\validation.py:395: DeprecationWarning: Passing 1d arrays as data is deprecated in 0.17 and will raise ValueError in 0.19. Reshape your data either using X.reshape(-1, 1) if your data has a single feature or X.reshape(1, -1) if it contains a single sample.\n",
      "  DeprecationWarning)\n",
      "C:\\Users\\Vu Anh Vinh\\Miniconda3\\envs\\thkstat\\lib\\site-packages\\sklearn\\utils\\validation.py:395: DeprecationWarning: Passing 1d arrays as data is deprecated in 0.17 and will raise ValueError in 0.19. Reshape your data either using X.reshape(-1, 1) if your data has a single feature or X.reshape(1, -1) if it contains a single sample.\n",
      "  DeprecationWarning)\n",
      "C:\\Users\\Vu Anh Vinh\\Miniconda3\\envs\\thkstat\\lib\\site-packages\\sklearn\\utils\\validation.py:395: DeprecationWarning: Passing 1d arrays as data is deprecated in 0.17 and will raise ValueError in 0.19. Reshape your data either using X.reshape(-1, 1) if your data has a single feature or X.reshape(1, -1) if it contains a single sample.\n",
      "  DeprecationWarning)\n",
      "C:\\Users\\Vu Anh Vinh\\Miniconda3\\envs\\thkstat\\lib\\site-packages\\sklearn\\utils\\validation.py:395: DeprecationWarning: Passing 1d arrays as data is deprecated in 0.17 and will raise ValueError in 0.19. Reshape your data either using X.reshape(-1, 1) if your data has a single feature or X.reshape(1, -1) if it contains a single sample.\n",
      "  DeprecationWarning)\n",
      "C:\\Users\\Vu Anh Vinh\\Miniconda3\\envs\\thkstat\\lib\\site-packages\\sklearn\\utils\\validation.py:395: DeprecationWarning: Passing 1d arrays as data is deprecated in 0.17 and will raise ValueError in 0.19. Reshape your data either using X.reshape(-1, 1) if your data has a single feature or X.reshape(1, -1) if it contains a single sample.\n",
      "  DeprecationWarning)\n",
      "C:\\Users\\Vu Anh Vinh\\Miniconda3\\envs\\thkstat\\lib\\site-packages\\sklearn\\utils\\validation.py:395: DeprecationWarning: Passing 1d arrays as data is deprecated in 0.17 and will raise ValueError in 0.19. Reshape your data either using X.reshape(-1, 1) if your data has a single feature or X.reshape(1, -1) if it contains a single sample.\n",
      "  DeprecationWarning)\n"
     ]
    }
   ],
   "source": [
    "#run 7 models with input CA2, CA3 to predict final score\n",
    "%run student_results_analysis.py"
   ]
  },
  {
   "cell_type": "code",
   "execution_count": 1,
   "metadata": {
    "collapsed": false
   },
   "outputs": [
    {
     "name": "stderr",
     "output_type": "stream",
     "text": [
      "C:\\Users\\Vu Anh Vinh\\Miniconda3\\envs\\thkstat\\lib\\site-packages\\IPython\\html.py:14: ShimWarning: The `IPython.html` package has been deprecated. You should import from `notebook` instead. `IPython.html.widgets` has moved to `ipywidgets`.\n",
      "  \"`IPython.html.widgets` has moved to `ipywidgets`.\", ShimWarning)\n"
     ]
    },
    {
     "name": "stdout",
     "output_type": "stream",
     "text": [
      "Feature ranking:\n",
      "1. feature CA3-2 (0.297322)\n",
      "2. feature CA3-3 (0.242556)\n",
      "3. feature CA2-1 (0.219121)\n",
      "4. feature CA3-1 (0.164031)\n",
      "5. feature CA2-2 (0.076969)\n",
      "Grid search for... support vector regression\n",
      "SVR(C=1.0, cache_size=200, coef0=0.0, degree=3, epsilon=0.1, gamma='auto',\n",
      "  kernel='rbf', max_iter=-1, shrinking=True, tol=0.001, verbose=False)\n",
      "Fitting 5 folds for each of 28 candidates, totalling 140 fits\n",
      "[CV] kernel=linear, C=0.001 ..........................................\n",
      "[CV] .......... kernel=linear, C=0.001, score=-0.038964, total=   0.0s\n",
      "[CV] kernel=linear, C=0.001 ..........................................\n",
      "[CV] .......... kernel=linear, C=0.001, score=-0.109504, total=   0.0s\n",
      "[CV] kernel=linear, C=0.001 ..........................................\n",
      "[CV] .......... kernel=linear, C=0.001, score=-0.349194, total=   0.0s\n",
      "[CV] kernel=linear, C=0.001 ..........................................\n",
      "[CV] .......... kernel=linear, C=0.001, score=-0.093582, total=   0.0s\n",
      "[CV] kernel=linear, C=0.001 ..........................................\n",
      "[CV] ........... kernel=linear, C=0.001, score=0.000430, total=   0.0s\n",
      "[CV] kernel=rbf, C=0.001 .............................................\n",
      "[CV] ............. kernel=rbf, C=0.001, score=-0.039200, total=   0.0s\n",
      "[CV] kernel=rbf, C=0.001 .............................................\n",
      "[CV] ............. kernel=rbf, C=0.001, score=-0.109846, total=   0.0s\n",
      "[CV] kernel=rbf, C=0.001 .............................................\n",
      "[CV] ............. kernel=rbf, C=0.001, score=-0.349777, total=   0.0s\n",
      "[CV] kernel=rbf, C=0.001 .............................................\n",
      "[CV] ............. kernel=rbf, C=0.001, score=-0.093949, total=   0.0s\n",
      "[CV] kernel=rbf, C=0.001 .............................................\n",
      "[CV] .............. kernel=rbf, C=0.001, score=0.000140, total=   0.0s\n",
      "[CV] kernel=poly, C=0.001 ............................................\n",
      "[CV] ............ kernel=poly, C=0.001, score=-0.039167, total=   0.0s\n",
      "[CV] kernel=poly, C=0.001 ............................................\n",
      "[CV] ............ kernel=poly, C=0.001, score=-0.109885, total=   0.0s\n",
      "[CV] kernel=poly, C=0.001 ............................................\n",
      "[CV] ............ kernel=poly, C=0.001, score=-0.349782, total=   0.0s\n",
      "[CV] kernel=poly, C=0.001 ............................................\n",
      "[CV] ............ kernel=poly, C=0.001, score=-0.093971, total=   0.0s\n",
      "[CV] kernel=poly, C=0.001 ............................................\n",
      "[CV] ............. kernel=poly, C=0.001, score=0.000119, total=   0.0s\n",
      "[CV] kernel=sigmoid, C=0.001 .........................................\n",
      "[CV] ......... kernel=sigmoid, C=0.001, score=-0.039293, total=   0.0s\n",
      "[CV] kernel=sigmoid, C=0.001 .........................................\n",
      "[CV] ......... kernel=sigmoid, C=0.001, score=-0.109946, total=   0.0s\n",
      "[CV] kernel=sigmoid, C=0.001 .........................................\n",
      "[CV] ......... kernel=sigmoid, C=0.001, score=-0.349994, total=   0.0s\n",
      "[CV] kernel=sigmoid, C=0.001 .........................................\n"
     ]
    },
    {
     "name": "stderr",
     "output_type": "stream",
     "text": [
      "[Parallel(n_jobs=1)]: Done   1 out of   1 | elapsed:    0.0s remaining:    0.0s\n",
      "[Parallel(n_jobs=1)]: Done   2 out of   2 | elapsed:    0.0s remaining:    0.0s\n",
      "[Parallel(n_jobs=1)]: Done   3 out of   3 | elapsed:    0.0s remaining:    0.0s\n"
     ]
    },
    {
     "name": "stdout",
     "output_type": "stream",
     "text": [
      "[CV] ......... kernel=sigmoid, C=0.001, score=-0.094083, total=   0.0s\n",
      "[CV] kernel=sigmoid, C=0.001 .........................................\n",
      "[CV] .......... kernel=sigmoid, C=0.001, score=0.000047, total=   0.0s\n",
      "[CV] kernel=linear, C=0.01 ...........................................\n",
      "[CV] ........... kernel=linear, C=0.01, score=-0.035709, total=   0.0s\n",
      "[CV] kernel=linear, C=0.01 ...........................................\n",
      "[CV] ........... kernel=linear, C=0.01, score=-0.104875, total=   0.0s\n",
      "[CV] kernel=linear, C=0.01 ...........................................\n",
      "[CV] ........... kernel=linear, C=0.01, score=-0.341113, total=   0.0s\n",
      "[CV] kernel=linear, C=0.01 ...........................................\n",
      "[CV] ........... kernel=linear, C=0.01, score=-0.088481, total=   0.0s\n",
      "[CV] kernel=linear, C=0.01 ...........................................\n",
      "[CV] ............ kernel=linear, C=0.01, score=0.004361, total=   0.0s\n",
      "[CV] kernel=rbf, C=0.01 ..............................................\n",
      "[CV] .............. kernel=rbf, C=0.01, score=-0.038068, total=   0.0s\n",
      "[CV] kernel=rbf, C=0.01 ..............................................\n",
      "[CV] .............. kernel=rbf, C=0.01, score=-0.108374, total=   0.0s\n",
      "[CV] kernel=rbf, C=0.01 ..............................................\n",
      "[CV] .............. kernel=rbf, C=0.01, score=-0.346925, total=   0.0s\n",
      "[CV] kernel=rbf, C=0.01 ..............................................\n",
      "[CV] .............. kernel=rbf, C=0.01, score=-0.092139, total=   0.0s\n",
      "[CV] kernel=rbf, C=0.01 ..............................................\n",
      "[CV] ............... kernel=rbf, C=0.01, score=0.001463, total=   0.0s\n",
      "[CV] kernel=poly, C=0.01 .............................................\n",
      "[CV] ............. kernel=poly, C=0.01, score=-0.037734, total=   0.0s\n",
      "[CV] kernel=poly, C=0.01 .............................................\n",
      "[CV] ............. kernel=poly, C=0.01, score=-0.108685, total=   0.0s\n",
      "[CV] kernel=poly, C=0.01 .............................................\n",
      "[CV] ............. kernel=poly, C=0.01, score=-0.346982, total=   0.0s\n",
      "[CV] kernel=poly, C=0.01 .............................................\n",
      "[CV] ............. kernel=poly, C=0.01, score=-0.092360, total=   0.0s\n",
      "[CV] kernel=poly, C=0.01 .............................................\n",
      "[CV] .............. kernel=poly, C=0.01, score=0.001250, total=   0.0s\n",
      "[CV] kernel=sigmoid, C=0.01 ..........................................\n",
      "[CV] .......... kernel=sigmoid, C=0.01, score=-0.038996, total=   0.0s\n",
      "[CV] kernel=sigmoid, C=0.01 ..........................................\n",
      "[CV] .......... kernel=sigmoid, C=0.01, score=-0.109341, total=   0.0s\n",
      "[CV] kernel=sigmoid, C=0.01 ..........................................\n",
      "[CV] .......... kernel=sigmoid, C=0.01, score=-0.349095, total=   0.0s\n",
      "[CV] kernel=sigmoid, C=0.01 ..........................................\n",
      "[CV] .......... kernel=sigmoid, C=0.01, score=-0.093483, total=   0.0s\n",
      "[CV] kernel=sigmoid, C=0.01 ..........................................\n",
      "[CV] ........... kernel=sigmoid, C=0.01, score=0.000538, total=   0.0s\n",
      "[CV] kernel=linear, C=0.1 ............................................\n",
      "[CV] ............ kernel=linear, C=0.1, score=-0.003835, total=   0.0s\n",
      "[CV] kernel=linear, C=0.1 ............................................\n",
      "[CV] ............ kernel=linear, C=0.1, score=-0.059985, total=   0.0s\n",
      "[CV] kernel=linear, C=0.1 ............................................\n",
      "[CV] ............ kernel=linear, C=0.1, score=-0.261957, total=   0.0s\n",
      "[CV] kernel=linear, C=0.1 ............................................\n",
      "[CV] ............ kernel=linear, C=0.1, score=-0.038803, total=   0.0s\n",
      "[CV] kernel=linear, C=0.1 ............................................\n",
      "[CV] ............. kernel=linear, C=0.1, score=0.043161, total=   0.0s\n",
      "[CV] kernel=rbf, C=0.1 ...............................................\n",
      "[CV] ............... kernel=rbf, C=0.1, score=-0.026832, total=   0.0s\n",
      "[CV] kernel=rbf, C=0.1 ...............................................\n",
      "[CV] ............... kernel=rbf, C=0.1, score=-0.093731, total=   0.0s\n",
      "[CV] kernel=rbf, C=0.1 ...............................................\n",
      "[CV] ............... kernel=rbf, C=0.1, score=-0.318612, total=   0.0s\n",
      "[CV] kernel=rbf, C=0.1 ...............................................\n",
      "[CV] ............... kernel=rbf, C=0.1, score=-0.074203, total=   0.0s\n",
      "[CV] kernel=rbf, C=0.1 ...............................................\n",
      "[CV] ................ kernel=rbf, C=0.1, score=0.014634, total=   0.0s\n",
      "[CV] kernel=poly, C=0.1 ..............................................\n",
      "[CV] .............. kernel=poly, C=0.1, score=-0.023494, total=   0.0s\n",
      "[CV] kernel=poly, C=0.1 ..............................................\n",
      "[CV] .............. kernel=poly, C=0.1, score=-0.096819, total=   0.0s\n",
      "[CV] kernel=poly, C=0.1 ..............................................\n",
      "[CV] .............. kernel=poly, C=0.1, score=-0.319176, total=   0.0s\n",
      "[CV] kernel=poly, C=0.1 ..............................................\n",
      "[CV] .............. kernel=poly, C=0.1, score=-0.076383, total=   0.0s\n",
      "[CV] kernel=poly, C=0.1 ..............................................\n",
      "[CV] ............... kernel=poly, C=0.1, score=0.012506, total=   0.0s\n",
      "[CV] kernel=sigmoid, C=0.1 ...........................................\n",
      "[CV] ........... kernel=sigmoid, C=0.1, score=-0.036031, total=   0.0s\n",
      "[CV] kernel=sigmoid, C=0.1 ...........................................\n",
      "[CV] ........... kernel=sigmoid, C=0.1, score=-0.103258, total=   0.0s\n",
      "[CV] kernel=sigmoid, C=0.1 ...........................................\n",
      "[CV] ........... kernel=sigmoid, C=0.1, score=-0.340129, total=   0.0s\n",
      "[CV] kernel=sigmoid, C=0.1 ...........................................\n",
      "[CV] ........... kernel=sigmoid, C=0.1, score=-0.087501, total=   0.0s\n",
      "[CV] kernel=sigmoid, C=0.1 ...........................................\n",
      "[CV] ............ kernel=sigmoid, C=0.1, score=0.005438, total=   0.0s\n",
      "[CV] kernel=linear, C=1.1 ............................................\n",
      "[CV] ............. kernel=linear, C=1.1, score=0.248462, total=   0.0s\n",
      "[CV] kernel=linear, C=1.1 ............................................\n",
      "[CV] ............. kernel=linear, C=1.1, score=0.335253, total=   0.0s\n",
      "[CV] kernel=linear, C=1.1 ............................................\n",
      "[CV] ............. kernel=linear, C=1.1, score=0.247049, total=   0.0s\n",
      "[CV] kernel=linear, C=1.1 ............................................\n",
      "[CV] ............. kernel=linear, C=1.1, score=0.246697, total=   0.0s\n",
      "[CV] kernel=linear, C=1.1 ............................................\n",
      "[CV] ............. kernel=linear, C=1.1, score=0.402274, total=   0.0s\n",
      "[CV] kernel=rbf, C=1.1 ...............................................\n",
      "[CV] ................ kernel=rbf, C=1.1, score=0.087735, total=   0.0s\n",
      "[CV] kernel=rbf, C=1.1 ...............................................\n",
      "[CV] ................ kernel=rbf, C=1.1, score=0.059862, total=   0.0s\n",
      "[CV] kernel=rbf, C=1.1 ...............................................\n",
      "[CV] ............... kernel=rbf, C=1.1, score=-0.041778, total=   0.0s\n",
      "[CV] kernel=rbf, C=1.1 ...............................................\n",
      "[CV] ................ kernel=rbf, C=1.1, score=0.069149, total=   0.0s\n",
      "[CV] kernel=rbf, C=1.1 ...............................................\n",
      "[CV] ................ kernel=rbf, C=1.1, score=0.153863, total=   0.0s\n",
      "[CV] kernel=poly, C=1.1 ..............................................\n",
      "[CV] ............... kernel=poly, C=1.1, score=0.123893, total=   0.0s\n",
      "[CV] kernel=poly, C=1.1 ..............................................\n",
      "[CV] ............... kernel=poly, C=1.1, score=0.025998, total=   0.0s\n",
      "[CV] kernel=poly, C=1.1 ..............................................\n",
      "[CV] .............. kernel=poly, C=1.1, score=-0.034758, total=   0.0s\n",
      "[CV] kernel=poly, C=1.1 ..............................................\n",
      "[CV] ............... kernel=poly, C=1.1, score=0.058523, total=   0.0s\n",
      "[CV] kernel=poly, C=1.1 ..............................................\n",
      "[CV] ............... kernel=poly, C=1.1, score=0.131170, total=   0.0s\n",
      "[CV] kernel=sigmoid, C=1.1 ...........................................\n",
      "[CV] ........... kernel=sigmoid, C=1.1, score=-0.004181, total=   0.0s\n",
      "[CV] kernel=sigmoid, C=1.1 ...........................................\n",
      "[CV] ........... kernel=sigmoid, C=1.1, score=-0.038355, total=   0.0s\n",
      "[CV] kernel=sigmoid, C=1.1 ...........................................\n",
      "[CV] ........... kernel=sigmoid, C=1.1, score=-0.243074, total=   0.0s\n",
      "[CV] kernel=sigmoid, C=1.1 ...........................................\n",
      "[CV] ........... kernel=sigmoid, C=1.1, score=-0.023440, total=   0.0s\n",
      "[CV] kernel=sigmoid, C=1.1 ...........................................\n",
      "[CV] ............ kernel=sigmoid, C=1.1, score=0.058894, total=   0.0s\n",
      "[CV] kernel=linear, C=100 ............................................\n",
      "[CV] ............. kernel=linear, C=100, score=0.398323, total=   0.0s\n",
      "[CV] kernel=linear, C=100 ............................................\n",
      "[CV] ............. kernel=linear, C=100, score=0.605303, total=   0.0s\n",
      "[CV] kernel=linear, C=100 ............................................\n",
      "[CV] ............. kernel=linear, C=100, score=0.709410, total=   0.0s\n",
      "[CV] kernel=linear, C=100 ............................................\n",
      "[CV] ............. kernel=linear, C=100, score=0.296477, total=   0.0s\n",
      "[CV] kernel=linear, C=100 ............................................\n",
      "[CV] ............. kernel=linear, C=100, score=0.809406, total=   0.0s\n",
      "[CV] kernel=rbf, C=100 ...............................................\n",
      "[CV] ................ kernel=rbf, C=100, score=0.388788, total=   0.0s\n",
      "[CV] kernel=rbf, C=100 ...............................................\n",
      "[CV] ................ kernel=rbf, C=100, score=0.594018, total=   0.0s\n",
      "[CV] kernel=rbf, C=100 ...............................................\n",
      "[CV] ................ kernel=rbf, C=100, score=0.754534, total=   0.0s\n",
      "[CV] kernel=rbf, C=100 ...............................................\n",
      "[CV] ................ kernel=rbf, C=100, score=0.341006, total=   0.0s\n",
      "[CV] kernel=rbf, C=100 ...............................................\n",
      "[CV] ................ kernel=rbf, C=100, score=0.755614, total=   0.0s\n",
      "[CV] kernel=poly, C=100 ..............................................\n",
      "[CV] ............... kernel=poly, C=100, score=0.460864, total=   0.0s\n",
      "[CV] kernel=poly, C=100 ..............................................\n",
      "[CV] ............... kernel=poly, C=100, score=0.560479, total=   0.0s\n",
      "[CV] kernel=poly, C=100 ..............................................\n",
      "[CV] ............... kernel=poly, C=100, score=0.753964, total=   0.0s\n",
      "[CV] kernel=poly, C=100 ..............................................\n",
      "[CV] ............... kernel=poly, C=100, score=0.377236, total=   0.0s\n",
      "[CV] kernel=poly, C=100 ..............................................\n",
      "[CV] ............... kernel=poly, C=100, score=0.696936, total=   0.0s\n",
      "[CV] kernel=sigmoid, C=100 ...........................................\n",
      "[CV] ............ kernel=sigmoid, C=100, score=0.370950, total=   0.0s\n",
      "[CV] kernel=sigmoid, C=100 ...........................................\n",
      "[CV] ............ kernel=sigmoid, C=100, score=0.428250, total=   0.0s\n",
      "[CV] kernel=sigmoid, C=100 ...........................................\n",
      "[CV] ............ kernel=sigmoid, C=100, score=0.584368, total=   0.0s\n",
      "[CV] kernel=sigmoid, C=100 ...........................................\n",
      "[CV] ............ kernel=sigmoid, C=100, score=0.208921, total=   0.0s\n",
      "[CV] kernel=sigmoid, C=100 ...........................................\n",
      "[CV] ............ kernel=sigmoid, C=100, score=0.744996, total=   0.0s\n",
      "[CV] kernel=linear, C=1000 ...........................................\n",
      "[CV] ............ kernel=linear, C=1000, score=0.307070, total=   0.0s\n",
      "[CV] kernel=linear, C=1000 ...........................................\n",
      "[CV] ............ kernel=linear, C=1000, score=0.609672, total=   0.0s\n",
      "[CV] kernel=linear, C=1000 ...........................................\n",
      "[CV] ............ kernel=linear, C=1000, score=0.714442, total=   0.0s\n",
      "[CV] kernel=linear, C=1000 ...........................................\n",
      "[CV] ............ kernel=linear, C=1000, score=0.265014, total=   0.0s\n",
      "[CV] kernel=linear, C=1000 ...........................................\n",
      "[CV] ............ kernel=linear, C=1000, score=0.820890, total=   0.0s\n",
      "[CV] kernel=rbf, C=1000 ..............................................\n",
      "[CV] ............... kernel=rbf, C=1000, score=0.446195, total=   0.0s\n",
      "[CV] kernel=rbf, C=1000 ..............................................\n",
      "[CV] ............... kernel=rbf, C=1000, score=0.610193, total=   0.0s\n",
      "[CV] kernel=rbf, C=1000 ..............................................\n",
      "[CV] ............... kernel=rbf, C=1000, score=0.761929, total=   0.0s\n",
      "[CV] kernel=rbf, C=1000 ..............................................\n",
      "[CV] ............... kernel=rbf, C=1000, score=0.334521, total=   0.0s\n",
      "[CV] kernel=rbf, C=1000 ..............................................\n",
      "[CV] ............... kernel=rbf, C=1000, score=0.787817, total=   0.0s\n",
      "[CV] kernel=poly, C=1000 .............................................\n",
      "[CV] .............. kernel=poly, C=1000, score=0.322887, total=   0.0s\n",
      "[CV] kernel=poly, C=1000 .............................................\n",
      "[CV] .............. kernel=poly, C=1000, score=0.589880, total=   0.0s\n",
      "[CV] kernel=poly, C=1000 .............................................\n",
      "[CV] .............. kernel=poly, C=1000, score=0.753466, total=   0.0s\n",
      "[CV] kernel=poly, C=1000 .............................................\n",
      "[CV] .............. kernel=poly, C=1000, score=0.318405, total=   0.0s\n",
      "[CV] kernel=poly, C=1000 .............................................\n",
      "[CV] .............. kernel=poly, C=1000, score=0.731891, total=   0.0s\n",
      "[CV] kernel=sigmoid, C=1000 ..........................................\n",
      "[CV] .......... kernel=sigmoid, C=1000, score=-5.652259, total=   0.0s\n",
      "[CV] kernel=sigmoid, C=1000 ..........................................\n",
      "[CV] ......... kernel=sigmoid, C=1000, score=-13.959574, total=   0.0s\n",
      "[CV] kernel=sigmoid, C=1000 ..........................................\n",
      "[CV] .......... kernel=sigmoid, C=1000, score=-5.851946, total=   0.0s\n",
      "[CV] kernel=sigmoid, C=1000 ..........................................\n",
      "[CV] .......... kernel=sigmoid, C=1000, score=-4.804545, total=   0.0s\n",
      "[CV] kernel=sigmoid, C=1000 ..........................................\n",
      "[CV] .......... kernel=sigmoid, C=1000, score=-3.397122, total=   0.0s\n",
      "[CV] kernel=linear, C=10000 ..........................................\n",
      "[CV] ........... kernel=linear, C=10000, score=0.306885, total=   0.0s\n",
      "[CV] kernel=linear, C=10000 ..........................................\n",
      "[CV] ........... kernel=linear, C=10000, score=0.609894, total=   0.0s\n",
      "[CV] kernel=linear, C=10000 ..........................................\n",
      "[CV] ........... kernel=linear, C=10000, score=0.714458, total=   0.0s\n",
      "[CV] kernel=linear, C=10000 ..........................................\n",
      "[CV] ........... kernel=linear, C=10000, score=0.254997, total=   0.0s\n",
      "[CV] kernel=linear, C=10000 ..........................................\n",
      "[CV] ........... kernel=linear, C=10000, score=0.820219, total=   0.0s\n",
      "[CV] kernel=rbf, C=10000 .............................................\n",
      "[CV] .............. kernel=rbf, C=10000, score=0.495340, total=   0.0s\n",
      "[CV] kernel=rbf, C=10000 .............................................\n",
      "[CV] .............. kernel=rbf, C=10000, score=0.539789, total=   0.0s\n",
      "[CV] kernel=rbf, C=10000 .............................................\n",
      "[CV] .............. kernel=rbf, C=10000, score=0.737436, total=   0.0s\n",
      "[CV] kernel=rbf, C=10000 .............................................\n",
      "[CV] .............. kernel=rbf, C=10000, score=0.324211, total=   0.0s\n",
      "[CV] kernel=rbf, C=10000 .............................................\n",
      "[CV] .............. kernel=rbf, C=10000, score=0.799900, total=   0.0s\n",
      "[CV] kernel=poly, C=10000 ............................................\n",
      "[CV] ............. kernel=poly, C=10000, score=0.412593, total=   0.0s\n",
      "[CV] kernel=poly, C=10000 ............................................\n",
      "[CV] ............. kernel=poly, C=10000, score=0.588196, total=   0.0s\n",
      "[CV] kernel=poly, C=10000 ............................................\n",
      "[CV] ............. kernel=poly, C=10000, score=0.810992, total=   0.0s\n",
      "[CV] kernel=poly, C=10000 ............................................\n",
      "[CV] ............. kernel=poly, C=10000, score=0.347457, total=   0.0s\n",
      "[CV] kernel=poly, C=10000 ............................................\n",
      "[CV] ............. kernel=poly, C=10000, score=0.760340, total=   0.0s\n",
      "[CV] kernel=sigmoid, C=10000 .........................................\n",
      "[CV] ....... kernel=sigmoid, C=10000, score=-486.075401, total=   0.0s\n",
      "[CV] kernel=sigmoid, C=10000 .........................................\n",
      "[CV] ...... kernel=sigmoid, C=10000, score=-1602.702796, total=   0.0s\n",
      "[CV] kernel=sigmoid, C=10000 .........................................\n",
      "[CV] ....... kernel=sigmoid, C=10000, score=-637.993471, total=   0.0s\n",
      "[CV] kernel=sigmoid, C=10000 .........................................\n",
      "[CV] ....... kernel=sigmoid, C=10000, score=-444.721651, total=   0.0s\n",
      "[CV] kernel=sigmoid, C=10000 .........................................\n",
      "[CV] ....... kernel=sigmoid, C=10000, score=-638.350308, total=   0.0s\n",
      "Best hyper parameters: {'kernel': 'rbf', 'C': 1000}\n",
      "Best score of this configuration: 0.586571098904\n",
      "max score: 0.757\n",
      "                  predicted value\ttrue value \n",
      "student  2\t\t28.246\t\t38.000\n",
      "student  3\t\t70.067\t\t69.000\n",
      "student  8\t\t80.101\t\t90.000\n",
      "student  9\t\t74.754\t\t87.000\n",
      "student 11\t\t69.081\t\t81.000\n",
      "student 15\t\t67.560\t\t75.000\n",
      "student 16\t\t40.808\t\t32.000\n",
      "student 25\t\t59.413\t\t36.000\n",
      "student 34\t\t42.874\t\t38.000\n",
      "student 40\t\t66.344\t\t65.000\n",
      "student 41\t\t41.548\t\t54.000\n",
      "student 45\t\t67.956\t\t63.000\n",
      "student 46\t\t70.051\t\t61.000\n",
      "student 48\t\t77.541\t\t86.000\n",
      "student 55\t\t57.632\t\t59.000\n",
      "student 59\t\t38.608\t\t39.000\n",
      "student 64\t\t70.441\t\t75.000\n",
      "student 67\t\t53.371\t\t62.000\n",
      "student 68\t\t75.711\t\t85.000\n",
      "student 77\t\t66.713\t\t71.000\n",
      "student 83\t\t58.897\t\t47.000\n",
      "student 86\t\t49.447\t\t40.000\n",
      "student 88\t\t28.219\t\t33.000\n"
     ]
    },
    {
     "name": "stderr",
     "output_type": "stream",
     "text": [
      "[Parallel(n_jobs=1)]: Done 140 out of 140 | elapsed:    1.5s finished\n",
      "C:\\Users\\Vu Anh Vinh\\Miniconda3\\envs\\thkstat\\lib\\site-packages\\sklearn\\utils\\validation.py:395: DeprecationWarning: Passing 1d arrays as data is deprecated in 0.17 and will raise ValueError in 0.19. Reshape your data either using X.reshape(-1, 1) if your data has a single feature or X.reshape(1, -1) if it contains a single sample.\n",
      "  DeprecationWarning)\n",
      "C:\\Users\\Vu Anh Vinh\\Miniconda3\\envs\\thkstat\\lib\\site-packages\\sklearn\\utils\\validation.py:395: DeprecationWarning: Passing 1d arrays as data is deprecated in 0.17 and will raise ValueError in 0.19. Reshape your data either using X.reshape(-1, 1) if your data has a single feature or X.reshape(1, -1) if it contains a single sample.\n",
      "  DeprecationWarning)\n",
      "C:\\Users\\Vu Anh Vinh\\Miniconda3\\envs\\thkstat\\lib\\site-packages\\sklearn\\utils\\validation.py:395: DeprecationWarning: Passing 1d arrays as data is deprecated in 0.17 and will raise ValueError in 0.19. Reshape your data either using X.reshape(-1, 1) if your data has a single feature or X.reshape(1, -1) if it contains a single sample.\n",
      "  DeprecationWarning)\n",
      "C:\\Users\\Vu Anh Vinh\\Miniconda3\\envs\\thkstat\\lib\\site-packages\\sklearn\\utils\\validation.py:395: DeprecationWarning: Passing 1d arrays as data is deprecated in 0.17 and will raise ValueError in 0.19. Reshape your data either using X.reshape(-1, 1) if your data has a single feature or X.reshape(1, -1) if it contains a single sample.\n",
      "  DeprecationWarning)\n",
      "C:\\Users\\Vu Anh Vinh\\Miniconda3\\envs\\thkstat\\lib\\site-packages\\sklearn\\utils\\validation.py:395: DeprecationWarning: Passing 1d arrays as data is deprecated in 0.17 and will raise ValueError in 0.19. Reshape your data either using X.reshape(-1, 1) if your data has a single feature or X.reshape(1, -1) if it contains a single sample.\n",
      "  DeprecationWarning)\n",
      "C:\\Users\\Vu Anh Vinh\\Miniconda3\\envs\\thkstat\\lib\\site-packages\\sklearn\\utils\\validation.py:395: DeprecationWarning: Passing 1d arrays as data is deprecated in 0.17 and will raise ValueError in 0.19. Reshape your data either using X.reshape(-1, 1) if your data has a single feature or X.reshape(1, -1) if it contains a single sample.\n",
      "  DeprecationWarning)\n",
      "C:\\Users\\Vu Anh Vinh\\Miniconda3\\envs\\thkstat\\lib\\site-packages\\sklearn\\utils\\validation.py:395: DeprecationWarning: Passing 1d arrays as data is deprecated in 0.17 and will raise ValueError in 0.19. Reshape your data either using X.reshape(-1, 1) if your data has a single feature or X.reshape(1, -1) if it contains a single sample.\n",
      "  DeprecationWarning)\n",
      "C:\\Users\\Vu Anh Vinh\\Miniconda3\\envs\\thkstat\\lib\\site-packages\\sklearn\\utils\\validation.py:395: DeprecationWarning: Passing 1d arrays as data is deprecated in 0.17 and will raise ValueError in 0.19. Reshape your data either using X.reshape(-1, 1) if your data has a single feature or X.reshape(1, -1) if it contains a single sample.\n",
      "  DeprecationWarning)\n",
      "C:\\Users\\Vu Anh Vinh\\Miniconda3\\envs\\thkstat\\lib\\site-packages\\sklearn\\utils\\validation.py:395: DeprecationWarning: Passing 1d arrays as data is deprecated in 0.17 and will raise ValueError in 0.19. Reshape your data either using X.reshape(-1, 1) if your data has a single feature or X.reshape(1, -1) if it contains a single sample.\n",
      "  DeprecationWarning)\n",
      "C:\\Users\\Vu Anh Vinh\\Miniconda3\\envs\\thkstat\\lib\\site-packages\\sklearn\\utils\\validation.py:395: DeprecationWarning: Passing 1d arrays as data is deprecated in 0.17 and will raise ValueError in 0.19. Reshape your data either using X.reshape(-1, 1) if your data has a single feature or X.reshape(1, -1) if it contains a single sample.\n",
      "  DeprecationWarning)\n",
      "C:\\Users\\Vu Anh Vinh\\Miniconda3\\envs\\thkstat\\lib\\site-packages\\sklearn\\utils\\validation.py:395: DeprecationWarning: Passing 1d arrays as data is deprecated in 0.17 and will raise ValueError in 0.19. Reshape your data either using X.reshape(-1, 1) if your data has a single feature or X.reshape(1, -1) if it contains a single sample.\n",
      "  DeprecationWarning)\n",
      "C:\\Users\\Vu Anh Vinh\\Miniconda3\\envs\\thkstat\\lib\\site-packages\\sklearn\\utils\\validation.py:395: DeprecationWarning: Passing 1d arrays as data is deprecated in 0.17 and will raise ValueError in 0.19. Reshape your data either using X.reshape(-1, 1) if your data has a single feature or X.reshape(1, -1) if it contains a single sample.\n",
      "  DeprecationWarning)\n",
      "C:\\Users\\Vu Anh Vinh\\Miniconda3\\envs\\thkstat\\lib\\site-packages\\sklearn\\utils\\validation.py:395: DeprecationWarning: Passing 1d arrays as data is deprecated in 0.17 and will raise ValueError in 0.19. Reshape your data either using X.reshape(-1, 1) if your data has a single feature or X.reshape(1, -1) if it contains a single sample.\n",
      "  DeprecationWarning)\n",
      "C:\\Users\\Vu Anh Vinh\\Miniconda3\\envs\\thkstat\\lib\\site-packages\\sklearn\\utils\\validation.py:395: DeprecationWarning: Passing 1d arrays as data is deprecated in 0.17 and will raise ValueError in 0.19. Reshape your data either using X.reshape(-1, 1) if your data has a single feature or X.reshape(1, -1) if it contains a single sample.\n",
      "  DeprecationWarning)\n",
      "C:\\Users\\Vu Anh Vinh\\Miniconda3\\envs\\thkstat\\lib\\site-packages\\sklearn\\utils\\validation.py:395: DeprecationWarning: Passing 1d arrays as data is deprecated in 0.17 and will raise ValueError in 0.19. Reshape your data either using X.reshape(-1, 1) if your data has a single feature or X.reshape(1, -1) if it contains a single sample.\n",
      "  DeprecationWarning)\n",
      "C:\\Users\\Vu Anh Vinh\\Miniconda3\\envs\\thkstat\\lib\\site-packages\\sklearn\\utils\\validation.py:395: DeprecationWarning: Passing 1d arrays as data is deprecated in 0.17 and will raise ValueError in 0.19. Reshape your data either using X.reshape(-1, 1) if your data has a single feature or X.reshape(1, -1) if it contains a single sample.\n",
      "  DeprecationWarning)\n",
      "C:\\Users\\Vu Anh Vinh\\Miniconda3\\envs\\thkstat\\lib\\site-packages\\sklearn\\utils\\validation.py:395: DeprecationWarning: Passing 1d arrays as data is deprecated in 0.17 and will raise ValueError in 0.19. Reshape your data either using X.reshape(-1, 1) if your data has a single feature or X.reshape(1, -1) if it contains a single sample.\n",
      "  DeprecationWarning)\n",
      "C:\\Users\\Vu Anh Vinh\\Miniconda3\\envs\\thkstat\\lib\\site-packages\\sklearn\\utils\\validation.py:395: DeprecationWarning: Passing 1d arrays as data is deprecated in 0.17 and will raise ValueError in 0.19. Reshape your data either using X.reshape(-1, 1) if your data has a single feature or X.reshape(1, -1) if it contains a single sample.\n",
      "  DeprecationWarning)\n",
      "C:\\Users\\Vu Anh Vinh\\Miniconda3\\envs\\thkstat\\lib\\site-packages\\sklearn\\utils\\validation.py:395: DeprecationWarning: Passing 1d arrays as data is deprecated in 0.17 and will raise ValueError in 0.19. Reshape your data either using X.reshape(-1, 1) if your data has a single feature or X.reshape(1, -1) if it contains a single sample.\n",
      "  DeprecationWarning)\n",
      "C:\\Users\\Vu Anh Vinh\\Miniconda3\\envs\\thkstat\\lib\\site-packages\\sklearn\\utils\\validation.py:395: DeprecationWarning: Passing 1d arrays as data is deprecated in 0.17 and will raise ValueError in 0.19. Reshape your data either using X.reshape(-1, 1) if your data has a single feature or X.reshape(1, -1) if it contains a single sample.\n",
      "  DeprecationWarning)\n",
      "C:\\Users\\Vu Anh Vinh\\Miniconda3\\envs\\thkstat\\lib\\site-packages\\sklearn\\utils\\validation.py:395: DeprecationWarning: Passing 1d arrays as data is deprecated in 0.17 and will raise ValueError in 0.19. Reshape your data either using X.reshape(-1, 1) if your data has a single feature or X.reshape(1, -1) if it contains a single sample.\n",
      "  DeprecationWarning)\n",
      "C:\\Users\\Vu Anh Vinh\\Miniconda3\\envs\\thkstat\\lib\\site-packages\\sklearn\\utils\\validation.py:395: DeprecationWarning: Passing 1d arrays as data is deprecated in 0.17 and will raise ValueError in 0.19. Reshape your data either using X.reshape(-1, 1) if your data has a single feature or X.reshape(1, -1) if it contains a single sample.\n",
      "  DeprecationWarning)\n",
      "C:\\Users\\Vu Anh Vinh\\Miniconda3\\envs\\thkstat\\lib\\site-packages\\sklearn\\utils\\validation.py:395: DeprecationWarning: Passing 1d arrays as data is deprecated in 0.17 and will raise ValueError in 0.19. Reshape your data either using X.reshape(-1, 1) if your data has a single feature or X.reshape(1, -1) if it contains a single sample.\n",
      "  DeprecationWarning)\n"
     ]
    },
    {
     "ename": "PermissionError",
     "evalue": "[Errno 13] Permission denied: 'Results/support vector regression.csv'",
     "output_type": "error",
     "traceback": [
      "\u001b[0;31m---------------------------------------------------------------------------\u001b[0m",
      "\u001b[0;31mPermissionError\u001b[0m                           Traceback (most recent call last)",
      "\u001b[0;32mC:\\Users\\Vu Anh Vinh\\FYP\\student_results_analysis.py\u001b[0m in \u001b[0;36m<module>\u001b[0;34m()\u001b[0m\n\u001b[1;32m    134\u001b[0m \u001b[0mrepeat\u001b[0m \u001b[1;33m=\u001b[0m \u001b[1;36m1\u001b[0m\u001b[1;33m\u001b[0m\u001b[0m\n\u001b[1;32m    135\u001b[0m \u001b[0mrf\u001b[0m \u001b[1;33m=\u001b[0m \u001b[0mregression_families\u001b[0m\u001b[1;33m(\u001b[0m\u001b[1;33m)\u001b[0m\u001b[1;33m\u001b[0m\u001b[0m\n\u001b[0;32m--> 136\u001b[0;31m \u001b[0msimulation\u001b[0m\u001b[1;33m(\u001b[0m\u001b[0mrepeat\u001b[0m\u001b[1;33m,\u001b[0m \u001b[0mrf\u001b[0m\u001b[1;33m)\u001b[0m\u001b[1;33m\u001b[0m\u001b[0m\n\u001b[0m\u001b[1;32m    137\u001b[0m \u001b[1;33m\u001b[0m\u001b[0m\n\u001b[1;32m    138\u001b[0m \u001b[1;33m\u001b[0m\u001b[0m\n",
      "\u001b[0;32mC:\\Users\\Vu Anh Vinh\\FYP\\student_results_analysis.py\u001b[0m in \u001b[0;36msimulation\u001b[0;34m(repeat, models, plot_learn_curve)\u001b[0m\n\u001b[1;32m    112\u001b[0m                 \u001b[0mplt\u001b[0m\u001b[1;33m.\u001b[0m\u001b[0mshow\u001b[0m\u001b[1;33m(\u001b[0m\u001b[1;33m)\u001b[0m\u001b[1;33m\u001b[0m\u001b[0m\n\u001b[1;32m    113\u001b[0m \u001b[1;33m\u001b[0m\u001b[0m\n\u001b[0;32m--> 114\u001b[0;31m             \u001b[0mmax_score\u001b[0m\u001b[1;33m,\u001b[0m\u001b[0m_\u001b[0m \u001b[1;33m=\u001b[0m \u001b[0mcv_score_gen\u001b[0m\u001b[1;33m(\u001b[0m\u001b[0mestimator\u001b[0m\u001b[1;33m[\u001b[0m\u001b[1;36m2\u001b[0m\u001b[1;33m]\u001b[0m\u001b[1;33m,\u001b[0m \u001b[0mmodel\u001b[0m\u001b[1;33m[\u001b[0m\u001b[1;36m0\u001b[0m\u001b[1;33m]\u001b[0m\u001b[1;33m,\u001b[0m\u001b[0mprocessed_df\u001b[0m\u001b[1;33m,\u001b[0m \u001b[0my\u001b[0m\u001b[1;33m,\u001b[0m \u001b[1;36m4\u001b[0m\u001b[1;33m)\u001b[0m\u001b[1;33m\u001b[0m\u001b[0m\n\u001b[0m\u001b[1;32m    115\u001b[0m             \u001b[0mmax_prediction_variance\u001b[0m\u001b[1;33m.\u001b[0m\u001b[0mappend\u001b[0m\u001b[1;33m(\u001b[0m\u001b[0mmax_score\u001b[0m\u001b[1;33m)\u001b[0m\u001b[1;33m\u001b[0m\u001b[0m\n\u001b[1;32m    116\u001b[0m             \u001b[0mcv_score\u001b[0m\u001b[1;33m.\u001b[0m\u001b[0mappend\u001b[0m\u001b[1;33m(\u001b[0m\u001b[0mestimator\u001b[0m\u001b[1;33m[\u001b[0m\u001b[1;36m1\u001b[0m\u001b[1;33m]\u001b[0m\u001b[1;33m)\u001b[0m\u001b[1;33m\u001b[0m\u001b[0m\n",
      "\u001b[0;32mC:\\Users\\Vu Anh Vinh\\FYP\\model_selection_util.py\u001b[0m in \u001b[0;36mcv_score_gen\u001b[0;34m(model, model_name, input, output, nfolds)\u001b[0m\n\u001b[1;32m     42\u001b[0m         \u001b[0mtable\u001b[0m \u001b[1;33m=\u001b[0m \u001b[0mzip\u001b[0m\u001b[1;33m(\u001b[0m\u001b[0mtest_set\u001b[0m\u001b[1;33m,\u001b[0m \u001b[0mpredict_result\u001b[0m\u001b[1;33m,\u001b[0m \u001b[0moutput\u001b[0m\u001b[1;33m.\u001b[0m\u001b[0mtolist\u001b[0m\u001b[1;33m(\u001b[0m\u001b[1;33m)\u001b[0m\u001b[1;33m)\u001b[0m\u001b[1;33m\u001b[0m\u001b[0m\n\u001b[1;32m     43\u001b[0m     \u001b[1;34m\"import to csv file\"\u001b[0m\u001b[1;33m\u001b[0m\u001b[0m\n\u001b[0;32m---> 44\u001b[0;31m     \u001b[0mutils\u001b[0m\u001b[1;33m.\u001b[0m\u001b[0mexport_prediction_result_to_csv\u001b[0m\u001b[1;33m(\u001b[0m\u001b[0mmodel_name\u001b[0m\u001b[1;33m,\u001b[0m \u001b[0mtable\u001b[0m\u001b[1;33m)\u001b[0m\u001b[1;33m\u001b[0m\u001b[0m\n\u001b[0m\u001b[1;32m     45\u001b[0m     \u001b[1;32mreturn\u001b[0m \u001b[0mmax_score\u001b[0m\u001b[1;33m,\u001b[0m \u001b[0mtest_set\u001b[0m\u001b[1;33m\u001b[0m\u001b[0m\n\u001b[1;32m     46\u001b[0m \u001b[1;33m\u001b[0m\u001b[0m\n",
      "\u001b[0;32mC:\\Users\\Vu Anh Vinh\\FYP\\utils.py\u001b[0m in \u001b[0;36mexport_prediction_result_to_csv\u001b[0;34m(model_name, table)\u001b[0m\n\u001b[1;32m     13\u001b[0m \u001b[1;33m\u001b[0m\u001b[0m\n\u001b[1;32m     14\u001b[0m     \"\"\"\n\u001b[0;32m---> 15\u001b[0;31m     \u001b[1;32mwith\u001b[0m \u001b[0mopen\u001b[0m\u001b[1;33m(\u001b[0m\u001b[1;34m'Results/'\u001b[0m \u001b[1;33m+\u001b[0m \u001b[0mmodel_name\u001b[0m \u001b[1;33m+\u001b[0m \u001b[1;34m'.csv'\u001b[0m\u001b[1;33m,\u001b[0m \u001b[1;34m'w'\u001b[0m\u001b[1;33m,\u001b[0m \u001b[0mnewline\u001b[0m\u001b[1;33m=\u001b[0m\u001b[1;34m''\u001b[0m\u001b[1;33m)\u001b[0m \u001b[1;32mas\u001b[0m \u001b[0mcsvfile\u001b[0m\u001b[1;33m:\u001b[0m\u001b[1;33m\u001b[0m\u001b[0m\n\u001b[0m\u001b[1;32m     16\u001b[0m         \u001b[0mfieldnames\u001b[0m \u001b[1;33m=\u001b[0m \u001b[1;33m[\u001b[0m\u001b[1;34m'student number'\u001b[0m\u001b[1;33m,\u001b[0m \u001b[1;34m'predicted value'\u001b[0m\u001b[1;33m,\u001b[0m \u001b[1;34m'true value'\u001b[0m\u001b[1;33m]\u001b[0m\u001b[1;33m\u001b[0m\u001b[0m\n\u001b[1;32m     17\u001b[0m         \u001b[0mwriter\u001b[0m \u001b[1;33m=\u001b[0m \u001b[0mcsv\u001b[0m\u001b[1;33m.\u001b[0m\u001b[0mDictWriter\u001b[0m\u001b[1;33m(\u001b[0m\u001b[0mcsvfile\u001b[0m\u001b[1;33m,\u001b[0m \u001b[0mfieldnames\u001b[0m\u001b[1;33m=\u001b[0m\u001b[0mfieldnames\u001b[0m\u001b[1;33m)\u001b[0m\u001b[1;33m\u001b[0m\u001b[0m\n",
      "\u001b[0;31mPermissionError\u001b[0m: [Errno 13] Permission denied: 'Results/support vector regression.csv'"
     ]
    }
   ],
   "source": [
    "#run 7 models with input CA2, CA3 to predict final score\n",
    "# write to csv\n",
    "%run student_results_analysis.py"
   ]
  },
  {
   "cell_type": "code",
   "execution_count": 2,
   "metadata": {
    "collapsed": false
   },
   "outputs": [
    {
     "name": "stdout",
     "output_type": "stream",
     "text": [
      "Feature ranking:\n",
      "1. feature CA3-3 (0.391529)\n",
      "2. feature CA3-2 (0.252595)\n",
      "3. feature CA3-1 (0.130385)\n",
      "4. feature CA2-1 (0.125968)\n",
      "5. feature CA2-2 (0.099523)\n",
      "Grid search for... support vector regression\n",
      "SVR(C=1.0, cache_size=200, coef0=0.0, degree=3, epsilon=0.1, gamma='auto',\n",
      "  kernel='rbf', max_iter=-1, shrinking=True, tol=0.001, verbose=False)\n",
      "Fitting 5 folds for each of 28 candidates, totalling 140 fits\n",
      "[CV] kernel=linear, C=0.001 ..........................................\n",
      "[CV] .......... kernel=linear, C=0.001, score=-0.160410, total=   0.0s\n",
      "[CV] kernel=linear, C=0.001 ..........................................\n",
      "[CV] .......... kernel=linear, C=0.001, score=-0.066519, total=   0.0s\n",
      "[CV] kernel=linear, C=0.001 ..........................................\n",
      "[CV] .......... kernel=linear, C=0.001, score=-0.038497, total=   0.0s\n",
      "[CV] kernel=linear, C=0.001 ..........................................\n",
      "[CV] .......... kernel=linear, C=0.001, score=-0.007897, total=   0.0s\n",
      "[CV] kernel=linear, C=0.001 ..........................................\n",
      "[CV] .......... kernel=linear, C=0.001, score=-0.022048, total=   0.0s\n",
      "[CV] kernel=rbf, C=0.001 .............................................\n",
      "[CV] ............. kernel=rbf, C=0.001, score=-0.160694, total=   0.0s\n",
      "[CV] kernel=rbf, C=0.001 .............................................\n",
      "[CV] ............. kernel=rbf, C=0.001, score=-0.066908, total=   0.0s\n",
      "[CV] kernel=rbf, C=0.001 .............................................\n"
     ]
    },
    {
     "name": "stderr",
     "output_type": "stream",
     "text": [
      "[Parallel(n_jobs=1)]: Done   1 out of   1 | elapsed:    0.0s remaining:    0.0s\n",
      "[Parallel(n_jobs=1)]: Done   2 out of   2 | elapsed:    0.0s remaining:    0.0s\n",
      "[Parallel(n_jobs=1)]: Done   3 out of   3 | elapsed:    0.0s remaining:    0.0s\n"
     ]
    },
    {
     "name": "stdout",
     "output_type": "stream",
     "text": [
      "[CV] ............. kernel=rbf, C=0.001, score=-0.038861, total=   0.0s\n",
      "[CV] kernel=rbf, C=0.001 .............................................\n",
      "[CV] ............. kernel=rbf, C=0.001, score=-0.008212, total=   0.0s\n",
      "[CV] kernel=rbf, C=0.001 .............................................\n",
      "[CV] ............. kernel=rbf, C=0.001, score=-0.022311, total=   0.0s\n",
      "[CV] kernel=poly, C=0.001 ............................................\n",
      "[CV] ............ kernel=poly, C=0.001, score=-0.160661, total=   0.0s\n",
      "[CV] kernel=poly, C=0.001 ............................................\n",
      "[CV] ............ kernel=poly, C=0.001, score=-0.066951, total=   0.0s\n",
      "[CV] kernel=poly, C=0.001 ............................................\n",
      "[CV] ............ kernel=poly, C=0.001, score=-0.038865, total=   0.0s\n",
      "[CV] kernel=poly, C=0.001 ............................................\n",
      "[CV] ............ kernel=poly, C=0.001, score=-0.008241, total=   0.0s\n",
      "[CV] kernel=poly, C=0.001 ............................................\n",
      "[CV] ............ kernel=poly, C=0.001, score=-0.022305, total=   0.0s\n",
      "[CV] kernel=sigmoid, C=0.001 .........................................\n",
      "[CV] ......... kernel=sigmoid, C=0.001, score=-0.160804, total=   0.0s\n",
      "[CV] kernel=sigmoid, C=0.001 .........................................\n",
      "[CV] ......... kernel=sigmoid, C=0.001, score=-0.067016, total=   0.0s\n",
      "[CV] kernel=sigmoid, C=0.001 .........................................\n",
      "[CV] ......... kernel=sigmoid, C=0.001, score=-0.038991, total=   0.0s\n",
      "[CV] kernel=sigmoid, C=0.001 .........................................\n",
      "[CV] ......... kernel=sigmoid, C=0.001, score=-0.008312, total=   0.0s\n",
      "[CV] kernel=sigmoid, C=0.001 .........................................\n",
      "[CV] ......... kernel=sigmoid, C=0.001, score=-0.022410, total=   0.0s\n",
      "[CV] kernel=linear, C=0.01 ...........................................\n",
      "[CV] ........... kernel=linear, C=0.01, score=-0.156500, total=   0.0s\n",
      "[CV] kernel=linear, C=0.01 ...........................................\n",
      "[CV] ........... kernel=linear, C=0.01, score=-0.061369, total=   0.0s\n",
      "[CV] kernel=linear, C=0.01 ...........................................\n",
      "[CV] ........... kernel=linear, C=0.01, score=-0.033491, total=   0.0s\n",
      "[CV] kernel=linear, C=0.01 ...........................................\n",
      "[CV] ........... kernel=linear, C=0.01, score=-0.003621, total=   0.0s\n",
      "[CV] kernel=linear, C=0.01 ...........................................\n",
      "[CV] ........... kernel=linear, C=0.01, score=-0.018413, total=   0.0s\n",
      "[CV] kernel=rbf, C=0.01 ..............................................\n",
      "[CV] .............. kernel=rbf, C=0.01, score=-0.159334, total=   0.0s\n",
      "[CV] kernel=rbf, C=0.01 ..............................................\n",
      "[CV] .............. kernel=rbf, C=0.01, score=-0.065249, total=   0.0s\n",
      "[CV] kernel=rbf, C=0.01 ..............................................\n",
      "[CV] .............. kernel=rbf, C=0.01, score=-0.037121, total=   0.0s\n",
      "[CV] kernel=rbf, C=0.01 ..............................................\n",
      "[CV] .............. kernel=rbf, C=0.01, score=-0.006769, total=   0.0s\n",
      "[CV] kernel=rbf, C=0.01 ..............................................\n",
      "[CV] .............. kernel=rbf, C=0.01, score=-0.021038, total=   0.0s\n",
      "[CV] kernel=poly, C=0.01 .............................................\n",
      "[CV] ............. kernel=poly, C=0.01, score=-0.159006, total=   0.0s\n",
      "[CV] kernel=poly, C=0.01 .............................................\n",
      "[CV] ............. kernel=poly, C=0.01, score=-0.065676, total=   0.0s\n",
      "[CV] kernel=poly, C=0.01 .............................................\n",
      "[CV] ............. kernel=poly, C=0.01, score=-0.037168, total=   0.0s\n",
      "[CV] kernel=poly, C=0.01 .............................................\n",
      "[CV] ............. kernel=poly, C=0.01, score=-0.007060, total=   0.0s\n",
      "[CV] kernel=poly, C=0.01 .............................................\n",
      "[CV] ............. kernel=poly, C=0.01, score=-0.020974, total=   0.0s\n",
      "[CV] kernel=sigmoid, C=0.01 ..........................................\n",
      "[CV] .......... kernel=sigmoid, C=0.01, score=-0.160433, total=   0.0s\n",
      "[CV] kernel=sigmoid, C=0.01 ..........................................\n",
      "[CV] .......... kernel=sigmoid, C=0.01, score=-0.066323, total=   0.0s\n",
      "[CV] kernel=sigmoid, C=0.01 ..........................................\n",
      "[CV] .......... kernel=sigmoid, C=0.01, score=-0.038422, total=   0.0s\n",
      "[CV] kernel=sigmoid, C=0.01 ..........................................\n",
      "[CV] .......... kernel=sigmoid, C=0.01, score=-0.007768, total=   0.0s\n",
      "[CV] kernel=sigmoid, C=0.01 ..........................................\n",
      "[CV] .......... kernel=sigmoid, C=0.01, score=-0.022020, total=   0.0s\n",
      "[CV] kernel=linear, C=0.1 ............................................\n",
      "[CV] ............ kernel=linear, C=0.1, score=-0.118069, total=   0.0s\n",
      "[CV] kernel=linear, C=0.1 ............................................\n",
      "[CV] ............ kernel=linear, C=0.1, score=-0.012405, total=   0.0s\n",
      "[CV] kernel=linear, C=0.1 ............................................\n",
      "[CV] ............. kernel=linear, C=0.1, score=0.015425, total=   0.0s\n",
      "[CV] kernel=linear, C=0.1 ............................................\n",
      "[CV] ............. kernel=linear, C=0.1, score=0.038317, total=   0.0s\n",
      "[CV] kernel=linear, C=0.1 ............................................\n",
      "[CV] ............. kernel=linear, C=0.1, score=0.017382, total=   0.0s\n",
      "[CV] kernel=rbf, C=0.1 ...............................................\n",
      "[CV] ............... kernel=rbf, C=0.1, score=-0.145816, total=   0.0s\n",
      "[CV] kernel=rbf, C=0.1 ...............................................\n",
      "[CV] ............... kernel=rbf, C=0.1, score=-0.048759, total=   0.0s\n",
      "[CV] kernel=rbf, C=0.1 ...............................................\n",
      "[CV] ............... kernel=rbf, C=0.1, score=-0.019865, total=   0.0s\n",
      "[CV] kernel=rbf, C=0.1 ...............................................\n",
      "[CV] ................ kernel=rbf, C=0.1, score=0.007568, total=   0.0s\n",
      "[CV] kernel=rbf, C=0.1 ...............................................\n",
      "[CV] ............... kernel=rbf, C=0.1, score=-0.008378, total=   0.0s\n",
      "[CV] kernel=poly, C=0.1 ..............................................\n",
      "[CV] .............. kernel=poly, C=0.1, score=-0.142539, total=   0.0s\n",
      "[CV] kernel=poly, C=0.1 ..............................................\n",
      "[CV] .............. kernel=poly, C=0.1, score=-0.053020, total=   0.0s\n",
      "[CV] kernel=poly, C=0.1 ..............................................\n",
      "[CV] .............. kernel=poly, C=0.1, score=-0.020310, total=   0.0s\n",
      "[CV] kernel=poly, C=0.1 ..............................................\n",
      "[CV] ............... kernel=poly, C=0.1, score=0.004667, total=   0.0s\n",
      "[CV] kernel=poly, C=0.1 ..............................................\n",
      "[CV] .............. kernel=poly, C=0.1, score=-0.007735, total=   0.0s\n",
      "[CV] kernel=sigmoid, C=0.1 ...........................................\n",
      "[CV] ........... kernel=sigmoid, C=0.1, score=-0.156737, total=   0.0s\n",
      "[CV] kernel=sigmoid, C=0.1 ...........................................\n",
      "[CV] ........... kernel=sigmoid, C=0.1, score=-0.059408, total=   0.0s\n",
      "[CV] kernel=sigmoid, C=0.1 ...........................................\n",
      "[CV] ........... kernel=sigmoid, C=0.1, score=-0.032755, total=   0.0s\n",
      "[CV] kernel=sigmoid, C=0.1 ...........................................\n",
      "[CV] ........... kernel=sigmoid, C=0.1, score=-0.002340, total=   0.0s\n",
      "[CV] kernel=sigmoid, C=0.1 ...........................................\n",
      "[CV] ........... kernel=sigmoid, C=0.1, score=-0.018132, total=   0.0s\n",
      "[CV] kernel=linear, C=1.1 ............................................\n",
      "[CV] ............. kernel=linear, C=1.1, score=0.260248, total=   0.0s\n",
      "[CV] kernel=linear, C=1.1 ............................................\n",
      "[CV] ............. kernel=linear, C=1.1, score=0.407702, total=   0.0s\n",
      "[CV] kernel=linear, C=1.1 ............................................\n",
      "[CV] ............. kernel=linear, C=1.1, score=0.367310, total=   0.0s\n",
      "[CV] kernel=linear, C=1.1 ............................................\n",
      "[CV] ............. kernel=linear, C=1.1, score=0.420744, total=   0.0s\n",
      "[CV] kernel=linear, C=1.1 ............................................\n",
      "[CV] ............. kernel=linear, C=1.1, score=0.302361, total=   0.0s\n",
      "[CV] kernel=rbf, C=1.1 ...............................................\n",
      "[CV] ............... kernel=rbf, C=1.1, score=-0.005734, total=   0.0s\n",
      "[CV] kernel=rbf, C=1.1 ...............................................\n",
      "[CV] ................ kernel=rbf, C=1.1, score=0.112288, total=   0.0s\n",
      "[CV] kernel=rbf, C=1.1 ...............................................\n",
      "[CV] ................ kernel=rbf, C=1.1, score=0.139719, total=   0.0s\n",
      "[CV] kernel=rbf, C=1.1 ...............................................\n",
      "[CV] ................ kernel=rbf, C=1.1, score=0.154191, total=   0.0s\n",
      "[CV] kernel=rbf, C=1.1 ...............................................\n",
      "[CV] ................ kernel=rbf, C=1.1, score=0.121418, total=   0.0s\n",
      "[CV] kernel=poly, C=1.1 ..............................................\n",
      "[CV] ............... kernel=poly, C=1.1, score=0.030246, total=   0.0s\n",
      "[CV] kernel=poly, C=1.1 ..............................................\n",
      "[CV] ............... kernel=poly, C=1.1, score=0.069770, total=   0.0s\n",
      "[CV] kernel=poly, C=1.1 ..............................................\n",
      "[CV] ............... kernel=poly, C=1.1, score=0.138363, total=   0.0s\n",
      "[CV] kernel=poly, C=1.1 ..............................................\n",
      "[CV] ............... kernel=poly, C=1.1, score=0.123628, total=   0.0s\n",
      "[CV] kernel=poly, C=1.1 ..............................................\n",
      "[CV] ............... kernel=poly, C=1.1, score=0.128355, total=   0.0s\n",
      "[CV] kernel=sigmoid, C=1.1 ...........................................\n",
      "[CV] ........... kernel=sigmoid, C=1.1, score=-0.116767, total=   0.0s\n",
      "[CV] kernel=sigmoid, C=1.1 ...........................................\n",
      "[CV] ............ kernel=sigmoid, C=1.1, score=0.012030, total=   0.0s\n",
      "[CV] kernel=sigmoid, C=1.1 ...........................................\n",
      "[CV] ............ kernel=sigmoid, C=1.1, score=0.028120, total=   0.0s\n",
      "[CV] kernel=sigmoid, C=1.1 ...........................................\n",
      "[CV] ............ kernel=sigmoid, C=1.1, score=0.056284, total=   0.0s\n",
      "[CV] kernel=sigmoid, C=1.1 ...........................................\n",
      "[CV] ............ kernel=sigmoid, C=1.1, score=0.024159, total=   0.0s\n",
      "[CV] kernel=linear, C=100 ............................................\n",
      "[CV] ............. kernel=linear, C=100, score=0.693590, total=   0.0s\n",
      "[CV] kernel=linear, C=100 ............................................\n",
      "[CV] ............. kernel=linear, C=100, score=0.731995, total=   0.0s\n",
      "[CV] kernel=linear, C=100 ............................................\n",
      "[CV] ............. kernel=linear, C=100, score=0.362333, total=   0.0s\n",
      "[CV] kernel=linear, C=100 ............................................\n",
      "[CV] ............. kernel=linear, C=100, score=0.656480, total=   0.0s\n",
      "[CV] kernel=linear, C=100 ............................................\n",
      "[CV] ............. kernel=linear, C=100, score=0.597195, total=   0.0s\n",
      "[CV] kernel=rbf, C=100 ...............................................\n",
      "[CV] ................ kernel=rbf, C=100, score=0.696128, total=   0.0s\n",
      "[CV] kernel=rbf, C=100 ...............................................\n",
      "[CV] ................ kernel=rbf, C=100, score=0.630764, total=   0.0s\n",
      "[CV] kernel=rbf, C=100 ...............................................\n",
      "[CV] ................ kernel=rbf, C=100, score=0.427143, total=   0.0s\n",
      "[CV] kernel=rbf, C=100 ...............................................\n",
      "[CV] ................ kernel=rbf, C=100, score=0.642356, total=   0.0s\n",
      "[CV] kernel=rbf, C=100 ...............................................\n",
      "[CV] ................ kernel=rbf, C=100, score=0.652900, total=   0.0s\n",
      "[CV] kernel=poly, C=100 ..............................................\n",
      "[CV] ............... kernel=poly, C=100, score=0.687075, total=   0.0s\n",
      "[CV] kernel=poly, C=100 ..............................................\n",
      "[CV] ............... kernel=poly, C=100, score=0.586762, total=   0.0s\n",
      "[CV] kernel=poly, C=100 ..............................................\n",
      "[CV] ............... kernel=poly, C=100, score=0.550619, total=   0.0s\n",
      "[CV] kernel=poly, C=100 ..............................................\n",
      "[CV] ............... kernel=poly, C=100, score=0.613858, total=   0.0s\n",
      "[CV] kernel=poly, C=100 ..............................................\n",
      "[CV] ............... kernel=poly, C=100, score=0.654818, total=   0.0s\n",
      "[CV] kernel=sigmoid, C=100 ...........................................\n",
      "[CV] ............ kernel=sigmoid, C=100, score=0.572759, total=   0.0s\n",
      "[CV] kernel=sigmoid, C=100 ...........................................\n",
      "[CV] ............ kernel=sigmoid, C=100, score=0.709008, total=   0.0s\n",
      "[CV] kernel=sigmoid, C=100 ...........................................\n",
      "[CV] ............ kernel=sigmoid, C=100, score=0.313220, total=   0.0s\n",
      "[CV] kernel=sigmoid, C=100 ...........................................\n",
      "[CV] ............ kernel=sigmoid, C=100, score=0.668039, total=   0.0s\n",
      "[CV] kernel=sigmoid, C=100 ...........................................\n",
      "[CV] ............ kernel=sigmoid, C=100, score=0.464255, total=   0.0s\n",
      "[CV] kernel=linear, C=1000 ...........................................\n",
      "[CV] ............ kernel=linear, C=1000, score=0.708943, total=   0.0s\n",
      "[CV] kernel=linear, C=1000 ...........................................\n",
      "[CV] ............ kernel=linear, C=1000, score=0.717477, total=   0.0s\n",
      "[CV] kernel=linear, C=1000 ...........................................\n",
      "[CV] ............ kernel=linear, C=1000, score=0.349251, total=   0.0s\n",
      "[CV] kernel=linear, C=1000 ...........................................\n",
      "[CV] ............ kernel=linear, C=1000, score=0.669433, total=   0.0s\n",
      "[CV] kernel=linear, C=1000 ...........................................\n",
      "[CV] ............ kernel=linear, C=1000, score=0.570428, total=   0.0s\n",
      "[CV] kernel=rbf, C=1000 ..............................................\n",
      "[CV] ............... kernel=rbf, C=1000, score=0.726400, total=   0.0s\n",
      "[CV] kernel=rbf, C=1000 ..............................................\n",
      "[CV] ............... kernel=rbf, C=1000, score=0.596010, total=   0.0s\n",
      "[CV] kernel=rbf, C=1000 ..............................................\n",
      "[CV] ............... kernel=rbf, C=1000, score=0.488226, total=   0.0s\n",
      "[CV] kernel=rbf, C=1000 ..............................................\n",
      "[CV] ............... kernel=rbf, C=1000, score=0.667036, total=   0.0s\n",
      "[CV] kernel=rbf, C=1000 ..............................................\n",
      "[CV] ............... kernel=rbf, C=1000, score=0.631797, total=   0.0s\n",
      "[CV] kernel=poly, C=1000 .............................................\n",
      "[CV] .............. kernel=poly, C=1000, score=0.629037, total=   0.0s\n",
      "[CV] kernel=poly, C=1000 .............................................\n",
      "[CV] .............. kernel=poly, C=1000, score=0.558833, total=   0.0s\n",
      "[CV] kernel=poly, C=1000 .............................................\n",
      "[CV] .............. kernel=poly, C=1000, score=0.516290, total=   0.0s\n",
      "[CV] kernel=poly, C=1000 .............................................\n",
      "[CV] .............. kernel=poly, C=1000, score=0.599987, total=   0.0s\n",
      "[CV] kernel=poly, C=1000 .............................................\n",
      "[CV] .............. kernel=poly, C=1000, score=0.617075, total=   0.0s\n",
      "[CV] kernel=sigmoid, C=1000 ..........................................\n",
      "[CV] .......... kernel=sigmoid, C=1000, score=-3.404556, total=   0.0s\n",
      "[CV] kernel=sigmoid, C=1000 ..........................................\n",
      "[CV] ......... kernel=sigmoid, C=1000, score=-10.696302, total=   0.0s\n",
      "[CV] kernel=sigmoid, C=1000 ..........................................\n",
      "[CV] .......... kernel=sigmoid, C=1000, score=-5.976291, total=   0.0s\n",
      "[CV] kernel=sigmoid, C=1000 ..........................................\n",
      "[CV] .......... kernel=sigmoid, C=1000, score=-3.754762, total=   0.0s\n",
      "[CV] kernel=sigmoid, C=1000 ..........................................\n",
      "[CV] .......... kernel=sigmoid, C=1000, score=-3.293955, total=   0.0s\n",
      "[CV] kernel=linear, C=10000 ..........................................\n",
      "[CV] ........... kernel=linear, C=10000, score=0.727299, total=   0.0s\n",
      "[CV] kernel=linear, C=10000 ..........................................\n",
      "[CV] ........... kernel=linear, C=10000, score=0.717601, total=   0.0s\n",
      "[CV] kernel=linear, C=10000 ..........................................\n",
      "[CV] ........... kernel=linear, C=10000, score=0.348683, total=   0.0s\n",
      "[CV] kernel=linear, C=10000 ..........................................\n",
      "[CV] ........... kernel=linear, C=10000, score=0.669600, total=   0.0s\n",
      "[CV] kernel=linear, C=10000 ..........................................\n",
      "[CV] ........... kernel=linear, C=10000, score=0.570474, total=   0.0s\n",
      "[CV] kernel=rbf, C=10000 .............................................\n",
      "[CV] .............. kernel=rbf, C=10000, score=0.716978, total=   0.0s\n",
      "[CV] kernel=rbf, C=10000 .............................................\n",
      "[CV] .............. kernel=rbf, C=10000, score=0.590910, total=   0.0s\n",
      "[CV] kernel=rbf, C=10000 .............................................\n",
      "[CV] .............. kernel=rbf, C=10000, score=0.548174, total=   0.0s\n",
      "[CV] kernel=rbf, C=10000 .............................................\n",
      "[CV] .............. kernel=rbf, C=10000, score=0.635572, total=   0.0s\n",
      "[CV] kernel=rbf, C=10000 .............................................\n",
      "[CV] .............. kernel=rbf, C=10000, score=0.613123, total=   0.0s\n",
      "[CV] kernel=poly, C=10000 ............................................\n",
      "[CV] ............. kernel=poly, C=10000, score=0.735738, total=   0.0s\n",
      "[CV] kernel=poly, C=10000 ............................................\n",
      "[CV] ............. kernel=poly, C=10000, score=0.511288, total=   0.0s\n",
      "[CV] kernel=poly, C=10000 ............................................\n",
      "[CV] ............. kernel=poly, C=10000, score=0.641056, total=   0.0s\n",
      "[CV] kernel=poly, C=10000 ............................................\n",
      "[CV] ............. kernel=poly, C=10000, score=0.569291, total=   0.0s\n",
      "[CV] kernel=poly, C=10000 ............................................\n",
      "[CV] ............. kernel=poly, C=10000, score=0.572787, total=   0.0s\n",
      "[CV] kernel=sigmoid, C=10000 .........................................\n",
      "[CV] ....... kernel=sigmoid, C=10000, score=-297.851094, total=   0.0s\n",
      "[CV] kernel=sigmoid, C=10000 .........................................\n",
      "[CV] ...... kernel=sigmoid, C=10000, score=-1235.802713, total=   0.0s\n",
      "[CV] kernel=sigmoid, C=10000 .........................................\n",
      "[CV] ....... kernel=sigmoid, C=10000, score=-614.633681, total=   0.0s\n",
      "[CV] kernel=sigmoid, C=10000 .........................................\n",
      "[CV] ....... kernel=sigmoid, C=10000, score=-586.121412, total=   0.0s\n",
      "[CV] kernel=sigmoid, C=10000 .........................................\n",
      "[CV] ....... kernel=sigmoid, C=10000, score=-314.503595, total=   0.0s\n",
      "Best hyper parameters: {'kernel': 'rbf', 'C': 1000}\n",
      "Best score of this configuration: 0.623042375114\n",
      "max score: 0.670\n",
      "                  predicted value\ttrue value \n",
      "student  6\t\t67.730\t\t38.000\n",
      "student  9\t\t74.397\t\t87.000\n",
      "student 15\t\t67.540\t\t75.000\n",
      "student 27\t\t43.635\t\t57.000\n",
      "student 29\t\t62.669\t\t43.000\n",
      "student 31\t\t51.560\t\t65.000\n",
      "student 34\t\t42.787\t\t38.000\n",
      "student 36\t\t48.095\t\t43.000\n",
      "student 43\t\t11.097\t\t9.000\n",
      "student 45\t\t66.788\t\t63.000\n",
      "student 48\t\t77.980\t\t86.000\n",
      "student 51\t\t57.992\t\t55.000\n",
      "student 56\t\t50.660\t\t61.000\n",
      "student 59\t\t37.210\t\t39.000\n",
      "student 65\t\t53.256\t\t52.000\n",
      "student 68\t\t75.083\t\t85.000\n",
      "student 70\t\t58.628\t\t66.000\n",
      "student 81\t\t48.832\t\t39.000\n",
      "student 83\t\t58.794\t\t47.000\n",
      "student 85\t\t50.790\t\t54.000\n",
      "student 88\t\t27.053\t\t33.000\n",
      "student 91\t\t58.187\t\t62.000\n"
     ]
    },
    {
     "name": "stderr",
     "output_type": "stream",
     "text": [
      "[Parallel(n_jobs=1)]: Done 140 out of 140 | elapsed:    3.0s finished\n",
      "C:\\Users\\Vu Anh Vinh\\Miniconda3\\envs\\thkstat\\lib\\site-packages\\sklearn\\utils\\validation.py:395: DeprecationWarning: Passing 1d arrays as data is deprecated in 0.17 and will raise ValueError in 0.19. Reshape your data either using X.reshape(-1, 1) if your data has a single feature or X.reshape(1, -1) if it contains a single sample.\n",
      "  DeprecationWarning)\n",
      "C:\\Users\\Vu Anh Vinh\\Miniconda3\\envs\\thkstat\\lib\\site-packages\\sklearn\\utils\\validation.py:395: DeprecationWarning: Passing 1d arrays as data is deprecated in 0.17 and will raise ValueError in 0.19. Reshape your data either using X.reshape(-1, 1) if your data has a single feature or X.reshape(1, -1) if it contains a single sample.\n",
      "  DeprecationWarning)\n",
      "C:\\Users\\Vu Anh Vinh\\Miniconda3\\envs\\thkstat\\lib\\site-packages\\sklearn\\utils\\validation.py:395: DeprecationWarning: Passing 1d arrays as data is deprecated in 0.17 and will raise ValueError in 0.19. Reshape your data either using X.reshape(-1, 1) if your data has a single feature or X.reshape(1, -1) if it contains a single sample.\n",
      "  DeprecationWarning)\n",
      "C:\\Users\\Vu Anh Vinh\\Miniconda3\\envs\\thkstat\\lib\\site-packages\\sklearn\\utils\\validation.py:395: DeprecationWarning: Passing 1d arrays as data is deprecated in 0.17 and will raise ValueError in 0.19. Reshape your data either using X.reshape(-1, 1) if your data has a single feature or X.reshape(1, -1) if it contains a single sample.\n",
      "  DeprecationWarning)\n",
      "C:\\Users\\Vu Anh Vinh\\Miniconda3\\envs\\thkstat\\lib\\site-packages\\sklearn\\utils\\validation.py:395: DeprecationWarning: Passing 1d arrays as data is deprecated in 0.17 and will raise ValueError in 0.19. Reshape your data either using X.reshape(-1, 1) if your data has a single feature or X.reshape(1, -1) if it contains a single sample.\n",
      "  DeprecationWarning)\n",
      "C:\\Users\\Vu Anh Vinh\\Miniconda3\\envs\\thkstat\\lib\\site-packages\\sklearn\\utils\\validation.py:395: DeprecationWarning: Passing 1d arrays as data is deprecated in 0.17 and will raise ValueError in 0.19. Reshape your data either using X.reshape(-1, 1) if your data has a single feature or X.reshape(1, -1) if it contains a single sample.\n",
      "  DeprecationWarning)\n",
      "C:\\Users\\Vu Anh Vinh\\Miniconda3\\envs\\thkstat\\lib\\site-packages\\sklearn\\utils\\validation.py:395: DeprecationWarning: Passing 1d arrays as data is deprecated in 0.17 and will raise ValueError in 0.19. Reshape your data either using X.reshape(-1, 1) if your data has a single feature or X.reshape(1, -1) if it contains a single sample.\n",
      "  DeprecationWarning)\n",
      "C:\\Users\\Vu Anh Vinh\\Miniconda3\\envs\\thkstat\\lib\\site-packages\\sklearn\\utils\\validation.py:395: DeprecationWarning: Passing 1d arrays as data is deprecated in 0.17 and will raise ValueError in 0.19. Reshape your data either using X.reshape(-1, 1) if your data has a single feature or X.reshape(1, -1) if it contains a single sample.\n",
      "  DeprecationWarning)\n",
      "C:\\Users\\Vu Anh Vinh\\Miniconda3\\envs\\thkstat\\lib\\site-packages\\sklearn\\utils\\validation.py:395: DeprecationWarning: Passing 1d arrays as data is deprecated in 0.17 and will raise ValueError in 0.19. Reshape your data either using X.reshape(-1, 1) if your data has a single feature or X.reshape(1, -1) if it contains a single sample.\n",
      "  DeprecationWarning)\n",
      "C:\\Users\\Vu Anh Vinh\\Miniconda3\\envs\\thkstat\\lib\\site-packages\\sklearn\\utils\\validation.py:395: DeprecationWarning: Passing 1d arrays as data is deprecated in 0.17 and will raise ValueError in 0.19. Reshape your data either using X.reshape(-1, 1) if your data has a single feature or X.reshape(1, -1) if it contains a single sample.\n",
      "  DeprecationWarning)\n",
      "C:\\Users\\Vu Anh Vinh\\Miniconda3\\envs\\thkstat\\lib\\site-packages\\sklearn\\utils\\validation.py:395: DeprecationWarning: Passing 1d arrays as data is deprecated in 0.17 and will raise ValueError in 0.19. Reshape your data either using X.reshape(-1, 1) if your data has a single feature or X.reshape(1, -1) if it contains a single sample.\n",
      "  DeprecationWarning)\n",
      "C:\\Users\\Vu Anh Vinh\\Miniconda3\\envs\\thkstat\\lib\\site-packages\\sklearn\\utils\\validation.py:395: DeprecationWarning: Passing 1d arrays as data is deprecated in 0.17 and will raise ValueError in 0.19. Reshape your data either using X.reshape(-1, 1) if your data has a single feature or X.reshape(1, -1) if it contains a single sample.\n",
      "  DeprecationWarning)\n",
      "C:\\Users\\Vu Anh Vinh\\Miniconda3\\envs\\thkstat\\lib\\site-packages\\sklearn\\utils\\validation.py:395: DeprecationWarning: Passing 1d arrays as data is deprecated in 0.17 and will raise ValueError in 0.19. Reshape your data either using X.reshape(-1, 1) if your data has a single feature or X.reshape(1, -1) if it contains a single sample.\n",
      "  DeprecationWarning)\n",
      "C:\\Users\\Vu Anh Vinh\\Miniconda3\\envs\\thkstat\\lib\\site-packages\\sklearn\\utils\\validation.py:395: DeprecationWarning: Passing 1d arrays as data is deprecated in 0.17 and will raise ValueError in 0.19. Reshape your data either using X.reshape(-1, 1) if your data has a single feature or X.reshape(1, -1) if it contains a single sample.\n",
      "  DeprecationWarning)\n",
      "C:\\Users\\Vu Anh Vinh\\Miniconda3\\envs\\thkstat\\lib\\site-packages\\sklearn\\utils\\validation.py:395: DeprecationWarning: Passing 1d arrays as data is deprecated in 0.17 and will raise ValueError in 0.19. Reshape your data either using X.reshape(-1, 1) if your data has a single feature or X.reshape(1, -1) if it contains a single sample.\n",
      "  DeprecationWarning)\n",
      "C:\\Users\\Vu Anh Vinh\\Miniconda3\\envs\\thkstat\\lib\\site-packages\\sklearn\\utils\\validation.py:395: DeprecationWarning: Passing 1d arrays as data is deprecated in 0.17 and will raise ValueError in 0.19. Reshape your data either using X.reshape(-1, 1) if your data has a single feature or X.reshape(1, -1) if it contains a single sample.\n",
      "  DeprecationWarning)\n",
      "C:\\Users\\Vu Anh Vinh\\Miniconda3\\envs\\thkstat\\lib\\site-packages\\sklearn\\utils\\validation.py:395: DeprecationWarning: Passing 1d arrays as data is deprecated in 0.17 and will raise ValueError in 0.19. Reshape your data either using X.reshape(-1, 1) if your data has a single feature or X.reshape(1, -1) if it contains a single sample.\n",
      "  DeprecationWarning)\n",
      "C:\\Users\\Vu Anh Vinh\\Miniconda3\\envs\\thkstat\\lib\\site-packages\\sklearn\\utils\\validation.py:395: DeprecationWarning: Passing 1d arrays as data is deprecated in 0.17 and will raise ValueError in 0.19. Reshape your data either using X.reshape(-1, 1) if your data has a single feature or X.reshape(1, -1) if it contains a single sample.\n",
      "  DeprecationWarning)\n",
      "C:\\Users\\Vu Anh Vinh\\Miniconda3\\envs\\thkstat\\lib\\site-packages\\sklearn\\utils\\validation.py:395: DeprecationWarning: Passing 1d arrays as data is deprecated in 0.17 and will raise ValueError in 0.19. Reshape your data either using X.reshape(-1, 1) if your data has a single feature or X.reshape(1, -1) if it contains a single sample.\n",
      "  DeprecationWarning)\n",
      "C:\\Users\\Vu Anh Vinh\\Miniconda3\\envs\\thkstat\\lib\\site-packages\\sklearn\\utils\\validation.py:395: DeprecationWarning: Passing 1d arrays as data is deprecated in 0.17 and will raise ValueError in 0.19. Reshape your data either using X.reshape(-1, 1) if your data has a single feature or X.reshape(1, -1) if it contains a single sample.\n",
      "  DeprecationWarning)\n",
      "C:\\Users\\Vu Anh Vinh\\Miniconda3\\envs\\thkstat\\lib\\site-packages\\sklearn\\utils\\validation.py:395: DeprecationWarning: Passing 1d arrays as data is deprecated in 0.17 and will raise ValueError in 0.19. Reshape your data either using X.reshape(-1, 1) if your data has a single feature or X.reshape(1, -1) if it contains a single sample.\n",
      "  DeprecationWarning)\n",
      "C:\\Users\\Vu Anh Vinh\\Miniconda3\\envs\\thkstat\\lib\\site-packages\\sklearn\\utils\\validation.py:395: DeprecationWarning: Passing 1d arrays as data is deprecated in 0.17 and will raise ValueError in 0.19. Reshape your data either using X.reshape(-1, 1) if your data has a single feature or X.reshape(1, -1) if it contains a single sample.\n",
      "  DeprecationWarning)\n"
     ]
    },
    {
     "ename": "PermissionError",
     "evalue": "[Errno 13] Permission denied: 'Results/support vector regression.csv'",
     "output_type": "error",
     "traceback": [
      "\u001b[0;31m---------------------------------------------------------------------------\u001b[0m",
      "\u001b[0;31mPermissionError\u001b[0m                           Traceback (most recent call last)",
      "\u001b[0;32mC:\\Users\\Vu Anh Vinh\\FYP\\student_results_analysis.py\u001b[0m in \u001b[0;36m<module>\u001b[0;34m()\u001b[0m\n\u001b[1;32m    134\u001b[0m \u001b[0mrepeat\u001b[0m \u001b[1;33m=\u001b[0m \u001b[1;36m1\u001b[0m\u001b[1;33m\u001b[0m\u001b[0m\n\u001b[1;32m    135\u001b[0m \u001b[0mrf\u001b[0m \u001b[1;33m=\u001b[0m \u001b[0mregression_families\u001b[0m\u001b[1;33m(\u001b[0m\u001b[1;33m)\u001b[0m\u001b[1;33m\u001b[0m\u001b[0m\n\u001b[0;32m--> 136\u001b[0;31m \u001b[0msimulation\u001b[0m\u001b[1;33m(\u001b[0m\u001b[0mrepeat\u001b[0m\u001b[1;33m,\u001b[0m \u001b[0mrf\u001b[0m\u001b[1;33m)\u001b[0m\u001b[1;33m\u001b[0m\u001b[0m\n\u001b[0m\u001b[1;32m    137\u001b[0m \u001b[1;33m\u001b[0m\u001b[0m\n\u001b[1;32m    138\u001b[0m \u001b[1;33m\u001b[0m\u001b[0m\n",
      "\u001b[0;32mC:\\Users\\Vu Anh Vinh\\FYP\\student_results_analysis.py\u001b[0m in \u001b[0;36msimulation\u001b[0;34m(repeat, models, plot_learn_curve)\u001b[0m\n\u001b[1;32m    112\u001b[0m                 \u001b[0mplt\u001b[0m\u001b[1;33m.\u001b[0m\u001b[0mshow\u001b[0m\u001b[1;33m(\u001b[0m\u001b[1;33m)\u001b[0m\u001b[1;33m\u001b[0m\u001b[0m\n\u001b[1;32m    113\u001b[0m \u001b[1;33m\u001b[0m\u001b[0m\n\u001b[0;32m--> 114\u001b[0;31m             \u001b[0mmax_score\u001b[0m\u001b[1;33m,\u001b[0m\u001b[0m_\u001b[0m \u001b[1;33m=\u001b[0m \u001b[0mcv_score_gen\u001b[0m\u001b[1;33m(\u001b[0m\u001b[0mestimator\u001b[0m\u001b[1;33m[\u001b[0m\u001b[1;36m2\u001b[0m\u001b[1;33m]\u001b[0m\u001b[1;33m,\u001b[0m \u001b[0mmodel\u001b[0m\u001b[1;33m[\u001b[0m\u001b[1;36m0\u001b[0m\u001b[1;33m]\u001b[0m\u001b[1;33m,\u001b[0m\u001b[0mprocessed_df\u001b[0m\u001b[1;33m,\u001b[0m \u001b[0my\u001b[0m\u001b[1;33m,\u001b[0m \u001b[1;36m4\u001b[0m\u001b[1;33m)\u001b[0m\u001b[1;33m\u001b[0m\u001b[0m\n\u001b[0m\u001b[1;32m    115\u001b[0m             \u001b[0mmax_prediction_variance\u001b[0m\u001b[1;33m.\u001b[0m\u001b[0mappend\u001b[0m\u001b[1;33m(\u001b[0m\u001b[0mmax_score\u001b[0m\u001b[1;33m)\u001b[0m\u001b[1;33m\u001b[0m\u001b[0m\n\u001b[1;32m    116\u001b[0m             \u001b[0mcv_score\u001b[0m\u001b[1;33m.\u001b[0m\u001b[0mappend\u001b[0m\u001b[1;33m(\u001b[0m\u001b[0mestimator\u001b[0m\u001b[1;33m[\u001b[0m\u001b[1;36m1\u001b[0m\u001b[1;33m]\u001b[0m\u001b[1;33m)\u001b[0m\u001b[1;33m\u001b[0m\u001b[0m\n",
      "\u001b[0;32mC:\\Users\\Vu Anh Vinh\\FYP\\model_selection_util.py\u001b[0m in \u001b[0;36mcv_score_gen\u001b[0;34m(model, model_name, input, output, nfolds)\u001b[0m\n\u001b[1;32m     42\u001b[0m         \u001b[0mtable\u001b[0m \u001b[1;33m=\u001b[0m \u001b[0mzip\u001b[0m\u001b[1;33m(\u001b[0m\u001b[0mtest_set\u001b[0m\u001b[1;33m,\u001b[0m \u001b[0mpredict_result\u001b[0m\u001b[1;33m,\u001b[0m \u001b[0moutput\u001b[0m\u001b[1;33m.\u001b[0m\u001b[0mtolist\u001b[0m\u001b[1;33m(\u001b[0m\u001b[1;33m)\u001b[0m\u001b[1;33m)\u001b[0m\u001b[1;33m\u001b[0m\u001b[0m\n\u001b[1;32m     43\u001b[0m     \u001b[1;34m\"import to csv file\"\u001b[0m\u001b[1;33m\u001b[0m\u001b[0m\n\u001b[0;32m---> 44\u001b[0;31m     \u001b[0mutils\u001b[0m\u001b[1;33m.\u001b[0m\u001b[0mexport_prediction_result_to_csv\u001b[0m\u001b[1;33m(\u001b[0m\u001b[0mmodel_name\u001b[0m\u001b[1;33m,\u001b[0m \u001b[0mtable\u001b[0m\u001b[1;33m)\u001b[0m\u001b[1;33m\u001b[0m\u001b[0m\n\u001b[0m\u001b[1;32m     45\u001b[0m     \u001b[1;32mreturn\u001b[0m \u001b[0mmax_score\u001b[0m\u001b[1;33m,\u001b[0m \u001b[0mtest_set\u001b[0m\u001b[1;33m\u001b[0m\u001b[0m\n\u001b[1;32m     46\u001b[0m \u001b[1;33m\u001b[0m\u001b[0m\n",
      "\u001b[0;32mC:\\Users\\Vu Anh Vinh\\FYP\\utils.py\u001b[0m in \u001b[0;36mexport_prediction_result_to_csv\u001b[0;34m(model_name, table)\u001b[0m\n\u001b[1;32m     13\u001b[0m \u001b[1;33m\u001b[0m\u001b[0m\n\u001b[1;32m     14\u001b[0m     \"\"\"\n\u001b[0;32m---> 15\u001b[0;31m     \u001b[1;32mwith\u001b[0m \u001b[0mopen\u001b[0m\u001b[1;33m(\u001b[0m\u001b[1;34m'Results/'\u001b[0m \u001b[1;33m+\u001b[0m \u001b[0mmodel_name\u001b[0m \u001b[1;33m+\u001b[0m \u001b[1;34m'.csv'\u001b[0m\u001b[1;33m,\u001b[0m \u001b[1;34m'w'\u001b[0m\u001b[1;33m,\u001b[0m \u001b[0mnewline\u001b[0m\u001b[1;33m=\u001b[0m\u001b[1;34m''\u001b[0m\u001b[1;33m)\u001b[0m \u001b[1;32mas\u001b[0m \u001b[0mcsvfile\u001b[0m\u001b[1;33m:\u001b[0m\u001b[1;33m\u001b[0m\u001b[0m\n\u001b[0m\u001b[1;32m     16\u001b[0m         \u001b[0mfieldnames\u001b[0m \u001b[1;33m=\u001b[0m \u001b[1;33m[\u001b[0m\u001b[1;34m'student number'\u001b[0m\u001b[1;33m,\u001b[0m \u001b[1;34m'predicted value'\u001b[0m\u001b[1;33m,\u001b[0m \u001b[1;34m'true value'\u001b[0m\u001b[1;33m]\u001b[0m\u001b[1;33m\u001b[0m\u001b[0m\n\u001b[1;32m     17\u001b[0m         \u001b[0mwriter\u001b[0m \u001b[1;33m=\u001b[0m \u001b[0mcsv\u001b[0m\u001b[1;33m.\u001b[0m\u001b[0mDictWriter\u001b[0m\u001b[1;33m(\u001b[0m\u001b[0mcsvfile\u001b[0m\u001b[1;33m,\u001b[0m \u001b[0mfieldnames\u001b[0m\u001b[1;33m=\u001b[0m\u001b[0mfieldnames\u001b[0m\u001b[1;33m)\u001b[0m\u001b[1;33m\u001b[0m\u001b[0m\n",
      "\u001b[0;31mPermissionError\u001b[0m: [Errno 13] Permission denied: 'Results/support vector regression.csv'"
     ]
    }
   ],
   "source": [
    "#run 7 models with input CA2, CA3 to predict final score\n",
    "# write to csv\n",
    "%run student_results_analysis.py"
   ]
  },
  {
   "cell_type": "code",
   "execution_count": 3,
   "metadata": {
    "collapsed": false
   },
   "outputs": [
    {
     "name": "stdout",
     "output_type": "stream",
     "text": [
      "Feature ranking:\n",
      "1. feature CA3-2 (0.316939)\n",
      "2. feature CA2-1 (0.254713)\n",
      "3. feature CA3-3 (0.237595)\n",
      "4. feature CA3-1 (0.106708)\n",
      "5. feature CA2-2 (0.084045)\n",
      "Grid search for... support vector regression\n",
      "SVR(C=1.0, cache_size=200, coef0=0.0, degree=3, epsilon=0.1, gamma='auto',\n",
      "  kernel='rbf', max_iter=-1, shrinking=True, tol=0.001, verbose=False)\n",
      "Fitting 5 folds for each of 28 candidates, totalling 140 fits\n",
      "[CV] kernel=linear, C=0.001 ..........................................\n",
      "[CV] .......... kernel=linear, C=0.001, score=-0.199619, total=   0.0s\n",
      "[CV] kernel=linear, C=0.001 ..........................................\n",
      "[CV] .......... kernel=linear, C=0.001, score=-0.020716, total=   0.0s\n",
      "[CV] kernel=linear, C=0.001 ..........................................\n",
      "[CV] .......... kernel=linear, C=0.001, score=-0.376263, total=   0.0s\n",
      "[CV] kernel=linear, C=0.001 ..........................................\n",
      "[CV] ........... kernel=linear, C=0.001, score=0.000365, total=   0.0s\n",
      "[CV] kernel=linear, C=0.001 ..........................................\n",
      "[CV] .......... kernel=linear, C=0.001, score=-0.000333, total=   0.0s\n",
      "[CV] kernel=rbf, C=0.001 .............................................\n"
     ]
    },
    {
     "name": "stderr",
     "output_type": "stream",
     "text": [
      "[Parallel(n_jobs=1)]: Done   1 out of   1 | elapsed:    0.0s remaining:    0.0s\n",
      "[Parallel(n_jobs=1)]: Done   2 out of   2 | elapsed:    0.0s remaining:    0.0s\n",
      "[Parallel(n_jobs=1)]: Done   3 out of   3 | elapsed:    0.0s remaining:    0.0s\n"
     ]
    },
    {
     "name": "stdout",
     "output_type": "stream",
     "text": [
      "[CV] ............. kernel=rbf, C=0.001, score=-0.200084, total=   0.0s\n",
      "[CV] kernel=rbf, C=0.001 .............................................\n",
      "[CV] ............. kernel=rbf, C=0.001, score=-0.021023, total=   0.0s\n",
      "[CV] kernel=rbf, C=0.001 .............................................\n",
      "[CV] ............. kernel=rbf, C=0.001, score=-0.376891, total=   0.0s\n",
      "[CV] kernel=rbf, C=0.001 .............................................\n",
      "[CV] .............. kernel=rbf, C=0.001, score=0.000065, total=   0.0s\n",
      "[CV] kernel=rbf, C=0.001 .............................................\n",
      "[CV] ............. kernel=rbf, C=0.001, score=-0.000661, total=   0.0s\n",
      "[CV] kernel=poly, C=0.001 ............................................\n",
      "[CV] ............ kernel=poly, C=0.001, score=-0.200143, total=   0.0s\n",
      "[CV] kernel=poly, C=0.001 ............................................\n",
      "[CV] ............ kernel=poly, C=0.001, score=-0.021000, total=   0.0s\n",
      "[CV] kernel=poly, C=0.001 ............................................\n",
      "[CV] ............ kernel=poly, C=0.001, score=-0.376871, total=   0.0s\n",
      "[CV] kernel=poly, C=0.001 ............................................\n",
      "[CV] ............. kernel=poly, C=0.001, score=0.000060, total=   0.0s\n",
      "[CV] kernel=poly, C=0.001 ............................................\n",
      "[CV] ............ kernel=poly, C=0.001, score=-0.000684, total=   0.0s\n",
      "[CV] kernel=sigmoid, C=0.001 .........................................\n",
      "[CV] ......... kernel=sigmoid, C=0.001, score=-0.200219, total=   0.0s\n",
      "[CV] kernel=sigmoid, C=0.001 .........................................\n",
      "[CV] ......... kernel=sigmoid, C=0.001, score=-0.021143, total=   0.0s\n",
      "[CV] kernel=sigmoid, C=0.001 .........................................\n",
      "[CV] ......... kernel=sigmoid, C=0.001, score=-0.377130, total=   0.0s\n",
      "[CV] kernel=sigmoid, C=0.001 .........................................\n",
      "[CV] ......... kernel=sigmoid, C=0.001, score=-0.000046, total=   0.0s\n",
      "[CV] kernel=sigmoid, C=0.001 .........................................\n",
      "[CV] ......... kernel=sigmoid, C=0.001, score=-0.000763, total=   0.0s\n",
      "[CV] kernel=linear, C=0.01 ...........................................\n",
      "[CV] ........... kernel=linear, C=0.01, score=-0.193395, total=   0.0s\n",
      "[CV] kernel=linear, C=0.01 ...........................................\n",
      "[CV] ........... kernel=linear, C=0.01, score=-0.016455, total=   0.0s\n",
      "[CV] kernel=linear, C=0.01 ...........................................\n",
      "[CV] ........... kernel=linear, C=0.01, score=-0.367564, total=   0.0s\n",
      "[CV] kernel=linear, C=0.01 ...........................................\n",
      "[CV] ............ kernel=linear, C=0.01, score=0.004527, total=   0.0s\n",
      "[CV] kernel=linear, C=0.01 ...........................................\n",
      "[CV] ............ kernel=linear, C=0.01, score=0.004080, total=   0.0s\n",
      "[CV] kernel=rbf, C=0.01 ..............................................\n",
      "[CV] .............. kernel=rbf, C=0.01, score=-0.198036, total=   0.0s\n",
      "[CV] kernel=rbf, C=0.01 ..............................................\n",
      "[CV] .............. kernel=rbf, C=0.01, score=-0.019527, total=   0.0s\n",
      "[CV] kernel=rbf, C=0.01 ..............................................\n",
      "[CV] .............. kernel=rbf, C=0.01, score=-0.373821, total=   0.0s\n",
      "[CV] kernel=rbf, C=0.01 ..............................................\n",
      "[CV] ............... kernel=rbf, C=0.01, score=0.001526, total=   0.0s\n",
      "[CV] kernel=rbf, C=0.01 ..............................................\n",
      "[CV] ............... kernel=rbf, C=0.01, score=0.000806, total=   0.0s\n",
      "[CV] kernel=poly, C=0.01 .............................................\n",
      "[CV] ............. kernel=poly, C=0.01, score=-0.198626, total=   0.0s\n",
      "[CV] kernel=poly, C=0.01 .............................................\n",
      "[CV] ............. kernel=poly, C=0.01, score=-0.019292, total=   0.0s\n",
      "[CV] kernel=poly, C=0.01 .............................................\n",
      "[CV] ............. kernel=poly, C=0.01, score=-0.373625, total=   0.0s\n",
      "[CV] kernel=poly, C=0.01 .............................................\n",
      "[CV] .............. kernel=poly, C=0.01, score=0.001483, total=   0.0s\n",
      "[CV] kernel=poly, C=0.01 .............................................\n",
      "[CV] .............. kernel=poly, C=0.01, score=0.000577, total=   0.0s\n",
      "[CV] kernel=sigmoid, C=0.01 ..........................................\n",
      "[CV] .......... kernel=sigmoid, C=0.01, score=-0.199384, total=   0.0s\n",
      "[CV] kernel=sigmoid, C=0.01 ..........................................\n",
      "[CV] .......... kernel=sigmoid, C=0.01, score=-0.020718, total=   0.0s\n",
      "[CV] kernel=sigmoid, C=0.01 ..........................................\n",
      "[CV] .......... kernel=sigmoid, C=0.01, score=-0.376212, total=   0.0s\n",
      "[CV] kernel=sigmoid, C=0.01 ..........................................\n",
      "[CV] ........... kernel=sigmoid, C=0.01, score=0.000421, total=   0.0s\n",
      "[CV] kernel=sigmoid, C=0.01 ..........................................\n",
      "[CV] .......... kernel=sigmoid, C=0.01, score=-0.000209, total=   0.0s\n",
      "[CV] kernel=linear, C=0.1 ............................................\n",
      "[CV] ............ kernel=linear, C=0.1, score=-0.132415, total=   0.0s\n",
      "[CV] kernel=linear, C=0.1 ............................................\n",
      "[CV] ............. kernel=linear, C=0.1, score=0.026571, total=   0.0s\n",
      "[CV] kernel=linear, C=0.1 ............................................\n",
      "[CV] ............ kernel=linear, C=0.1, score=-0.282880, total=   0.0s\n",
      "[CV] kernel=linear, C=0.1 ............................................\n",
      "[CV] ............. kernel=linear, C=0.1, score=0.045110, total=   0.0s\n",
      "[CV] kernel=linear, C=0.1 ............................................\n",
      "[CV] ............. kernel=linear, C=0.1, score=0.047371, total=   0.0s\n",
      "[CV] kernel=rbf, C=0.1 ...............................................\n",
      "[CV] ............... kernel=rbf, C=0.1, score=-0.177694, total=   0.0s\n",
      "[CV] kernel=rbf, C=0.1 ...............................................\n",
      "[CV] ............... kernel=rbf, C=0.1, score=-0.004643, total=   0.0s\n",
      "[CV] kernel=rbf, C=0.1 ...............................................\n",
      "[CV] ............... kernel=rbf, C=0.1, score=-0.343413, total=   0.0s\n",
      "[CV] kernel=rbf, C=0.1 ...............................................\n",
      "[CV] ................ kernel=rbf, C=0.1, score=0.016052, total=   0.0s\n",
      "[CV] kernel=rbf, C=0.1 ...............................................\n",
      "[CV] ................ kernel=rbf, C=0.1, score=0.015391, total=   0.0s\n",
      "[CV] kernel=poly, C=0.1 ..............................................\n",
      "[CV] .............. kernel=poly, C=0.1, score=-0.183555, total=   0.0s\n",
      "[CV] kernel=poly, C=0.1 ..............................................\n",
      "[CV] .............. kernel=poly, C=0.1, score=-0.002318, total=   0.0s\n",
      "[CV] kernel=poly, C=0.1 ..............................................\n",
      "[CV] .............. kernel=poly, C=0.1, score=-0.341471, total=   0.0s\n",
      "[CV] kernel=poly, C=0.1 ..............................................\n",
      "[CV] ............... kernel=poly, C=0.1, score=0.015631, total=   0.0s\n",
      "[CV] kernel=poly, C=0.1 ..............................................\n",
      "[CV] ............... kernel=poly, C=0.1, score=0.013123, total=   0.0s\n",
      "[CV] kernel=sigmoid, C=0.1 ...........................................\n",
      "[CV] ........... kernel=sigmoid, C=0.1, score=-0.191051, total=   0.0s\n",
      "[CV] kernel=sigmoid, C=0.1 ...........................................\n",
      "[CV] ........... kernel=sigmoid, C=0.1, score=-0.016478, total=   0.0s\n",
      "[CV] kernel=sigmoid, C=0.1 ...........................................\n",
      "[CV] ........... kernel=sigmoid, C=0.1, score=-0.367062, total=   0.0s\n",
      "[CV] kernel=sigmoid, C=0.1 ...........................................\n",
      "[CV] ............ kernel=sigmoid, C=0.1, score=0.005078, total=   0.0s\n",
      "[CV] kernel=sigmoid, C=0.1 ...........................................\n",
      "[CV] ............ kernel=sigmoid, C=0.1, score=0.005315, total=   0.0s\n",
      "[CV] kernel=linear, C=1.1 ............................................\n",
      "[CV] ............. kernel=linear, C=1.1, score=0.266721, total=   0.0s\n",
      "[CV] kernel=linear, C=1.1 ............................................\n",
      "[CV] ............. kernel=linear, C=1.1, score=0.366821, total=   0.0s\n",
      "[CV] kernel=linear, C=1.1 ............................................\n",
      "[CV] ............. kernel=linear, C=1.1, score=0.196698, total=   0.0s\n",
      "[CV] kernel=linear, C=1.1 ............................................\n",
      "[CV] ............. kernel=linear, C=1.1, score=0.390490, total=   0.0s\n",
      "[CV] kernel=linear, C=1.1 ............................................\n",
      "[CV] ............. kernel=linear, C=1.1, score=0.393298, total=   0.0s\n",
      "[CV] kernel=rbf, C=1.1 ...............................................\n",
      "[CV] ............... kernel=rbf, C=1.1, score=-0.004713, total=   0.0s\n",
      "[CV] kernel=rbf, C=1.1 ...............................................\n",
      "[CV] ................ kernel=rbf, C=1.1, score=0.146042, total=   0.0s\n",
      "[CV] kernel=rbf, C=1.1 ...............................................\n",
      "[CV] ............... kernel=rbf, C=1.1, score=-0.059933, total=   0.0s\n",
      "[CV] kernel=rbf, C=1.1 ...............................................\n",
      "[CV] ................ kernel=rbf, C=1.1, score=0.162589, total=   0.0s\n",
      "[CV] kernel=rbf, C=1.1 ...............................................\n",
      "[CV] ................ kernel=rbf, C=1.1, score=0.165922, total=   0.0s\n",
      "[CV] kernel=poly, C=1.1 ..............................................\n",
      "[CV] .............. kernel=poly, C=1.1, score=-0.051586, total=   0.0s\n",
      "[CV] kernel=poly, C=1.1 ..............................................\n",
      "[CV] ............... kernel=poly, C=1.1, score=0.167863, total=   0.0s\n",
      "[CV] kernel=poly, C=1.1 ..............................................\n",
      "[CV] .............. kernel=poly, C=1.1, score=-0.021162, total=   0.0s\n",
      "[CV] kernel=poly, C=1.1 ..............................................\n",
      "[CV] ............... kernel=poly, C=1.1, score=0.159142, total=   0.0s\n",
      "[CV] kernel=poly, C=1.1 ..............................................\n",
      "[CV] ............... kernel=poly, C=1.1, score=0.144093, total=   0.0s\n",
      "[CV] kernel=sigmoid, C=1.1 ...........................................\n",
      "[CV] ........... kernel=sigmoid, C=1.1, score=-0.101129, total=   0.0s\n",
      "[CV] kernel=sigmoid, C=1.1 ...........................................\n",
      "[CV] ............ kernel=sigmoid, C=1.1, score=0.031254, total=   0.0s\n",
      "[CV] kernel=sigmoid, C=1.1 ...........................................\n",
      "[CV] ........... kernel=sigmoid, C=1.1, score=-0.268708, total=   0.0s\n",
      "[CV] kernel=sigmoid, C=1.1 ...........................................\n",
      "[CV] ............ kernel=sigmoid, C=1.1, score=0.055216, total=   0.0s\n",
      "[CV] kernel=sigmoid, C=1.1 ...........................................\n",
      "[CV] ............ kernel=sigmoid, C=1.1, score=0.064782, total=   0.0s\n",
      "[CV] kernel=linear, C=100 ............................................\n",
      "[CV] ............. kernel=linear, C=100, score=0.566778, total=   0.0s\n",
      "[CV] kernel=linear, C=100 ............................................\n",
      "[CV] ............. kernel=linear, C=100, score=0.748049, total=   0.0s\n",
      "[CV] kernel=linear, C=100 ............................................\n",
      "[CV] ............. kernel=linear, C=100, score=0.634176, total=   0.0s\n",
      "[CV] kernel=linear, C=100 ............................................\n",
      "[CV] ............. kernel=linear, C=100, score=0.595307, total=   0.0s\n",
      "[CV] kernel=linear, C=100 ............................................\n",
      "[CV] ............. kernel=linear, C=100, score=0.699611, total=   0.0s\n",
      "[CV] kernel=rbf, C=100 ...............................................\n",
      "[CV] ................ kernel=rbf, C=100, score=0.511345, total=   0.0s\n",
      "[CV] kernel=rbf, C=100 ...............................................\n",
      "[CV] ................ kernel=rbf, C=100, score=0.772408, total=   0.0s\n",
      "[CV] kernel=rbf, C=100 ...............................................\n",
      "[CV] ................ kernel=rbf, C=100, score=0.644526, total=   0.0s\n",
      "[CV] kernel=rbf, C=100 ...............................................\n",
      "[CV] ................ kernel=rbf, C=100, score=0.625381, total=   0.0s\n",
      "[CV] kernel=rbf, C=100 ...............................................\n",
      "[CV] ................ kernel=rbf, C=100, score=0.723479, total=   0.0s\n",
      "[CV] kernel=poly, C=100 ..............................................\n",
      "[CV] ............... kernel=poly, C=100, score=0.407897, total=   0.0s\n",
      "[CV] kernel=poly, C=100 ..............................................\n",
      "[CV] ............... kernel=poly, C=100, score=0.832304, total=   0.0s\n",
      "[CV] kernel=poly, C=100 ..............................................\n",
      "[CV] ............... kernel=poly, C=100, score=0.605725, total=   0.0s\n",
      "[CV] kernel=poly, C=100 ..............................................\n",
      "[CV] ............... kernel=poly, C=100, score=0.686370, total=   0.0s\n",
      "[CV] kernel=poly, C=100 ..............................................\n",
      "[CV] ............... kernel=poly, C=100, score=0.695401, total=   0.0s\n",
      "[CV] kernel=sigmoid, C=100 ...........................................\n",
      "[CV] ............ kernel=sigmoid, C=100, score=0.619646, total=   0.0s\n",
      "[CV] kernel=sigmoid, C=100 ...........................................\n",
      "[CV] ............ kernel=sigmoid, C=100, score=0.544160, total=   0.0s\n",
      "[CV] kernel=sigmoid, C=100 ...........................................\n",
      "[CV] ............ kernel=sigmoid, C=100, score=0.461030, total=   0.0s\n",
      "[CV] kernel=sigmoid, C=100 ...........................................\n",
      "[CV] ............ kernel=sigmoid, C=100, score=0.552299, total=   0.0s\n",
      "[CV] kernel=sigmoid, C=100 ...........................................\n",
      "[CV] ............ kernel=sigmoid, C=100, score=0.596423, total=   0.0s\n",
      "[CV] kernel=linear, C=1000 ...........................................\n",
      "[CV] ............ kernel=linear, C=1000, score=0.562708, total=   0.0s\n",
      "[CV] kernel=linear, C=1000 ...........................................\n",
      "[CV] ............ kernel=linear, C=1000, score=0.760380, total=   0.0s\n",
      "[CV] kernel=linear, C=1000 ...........................................\n",
      "[CV] ............ kernel=linear, C=1000, score=0.632105, total=   0.0s\n",
      "[CV] kernel=linear, C=1000 ...........................................\n",
      "[CV] ............ kernel=linear, C=1000, score=0.540511, total=   0.0s\n",
      "[CV] kernel=linear, C=1000 ...........................................\n",
      "[CV] ............ kernel=linear, C=1000, score=0.685410, total=   0.0s\n",
      "[CV] kernel=rbf, C=1000 ..............................................\n",
      "[CV] ............... kernel=rbf, C=1000, score=0.444210, total=   0.0s\n",
      "[CV] kernel=rbf, C=1000 ..............................................\n",
      "[CV] ............... kernel=rbf, C=1000, score=0.820608, total=   0.0s\n",
      "[CV] kernel=rbf, C=1000 ..............................................\n",
      "[CV] ............... kernel=rbf, C=1000, score=0.610921, total=   0.0s\n",
      "[CV] kernel=rbf, C=1000 ..............................................\n",
      "[CV] ............... kernel=rbf, C=1000, score=0.634224, total=   0.0s\n",
      "[CV] kernel=rbf, C=1000 ..............................................\n",
      "[CV] ............... kernel=rbf, C=1000, score=0.759630, total=   0.0s\n",
      "[CV] kernel=poly, C=1000 .............................................\n",
      "[CV] .............. kernel=poly, C=1000, score=0.388630, total=   0.0s\n",
      "[CV] kernel=poly, C=1000 .............................................\n",
      "[CV] .............. kernel=poly, C=1000, score=0.830864, total=   0.0s\n",
      "[CV] kernel=poly, C=1000 .............................................\n",
      "[CV] .............. kernel=poly, C=1000, score=0.565326, total=   0.0s\n",
      "[CV] kernel=poly, C=1000 .............................................\n",
      "[CV] .............. kernel=poly, C=1000, score=0.699787, total=   0.0s\n",
      "[CV] kernel=poly, C=1000 .............................................\n",
      "[CV] .............. kernel=poly, C=1000, score=0.721241, total=   0.0s\n",
      "[CV] kernel=sigmoid, C=1000 ..........................................\n",
      "[CV] .......... kernel=sigmoid, C=1000, score=-8.305161, total=   0.0s\n",
      "[CV] kernel=sigmoid, C=1000 ..........................................\n",
      "[CV] .......... kernel=sigmoid, C=1000, score=-3.013379, total=   0.0s\n",
      "[CV] kernel=sigmoid, C=1000 ..........................................\n",
      "[CV] .......... kernel=sigmoid, C=1000, score=-6.840111, total=   0.0s\n",
      "[CV] kernel=sigmoid, C=1000 ..........................................\n",
      "[CV] .......... kernel=sigmoid, C=1000, score=-3.704875, total=   0.0s\n",
      "[CV] kernel=sigmoid, C=1000 ..........................................\n",
      "[CV] .......... kernel=sigmoid, C=1000, score=-8.776474, total=   0.0s\n",
      "[CV] kernel=linear, C=10000 ..........................................\n",
      "[CV] ........... kernel=linear, C=10000, score=0.562387, total=   0.0s\n",
      "[CV] kernel=linear, C=10000 ..........................................\n",
      "[CV] ........... kernel=linear, C=10000, score=0.760695, total=   0.0s\n",
      "[CV] kernel=linear, C=10000 ..........................................\n",
      "[CV] ........... kernel=linear, C=10000, score=0.632131, total=   0.0s\n",
      "[CV] kernel=linear, C=10000 ..........................................\n",
      "[CV] ........... kernel=linear, C=10000, score=0.540316, total=   0.0s\n",
      "[CV] kernel=linear, C=10000 ..........................................\n",
      "[CV] ........... kernel=linear, C=10000, score=0.684295, total=   0.0s\n",
      "[CV] kernel=rbf, C=10000 .............................................\n",
      "[CV] .............. kernel=rbf, C=10000, score=0.460144, total=   0.0s\n",
      "[CV] kernel=rbf, C=10000 .............................................\n",
      "[CV] .............. kernel=rbf, C=10000, score=0.775408, total=   0.0s\n",
      "[CV] kernel=rbf, C=10000 .............................................\n",
      "[CV] .............. kernel=rbf, C=10000, score=0.584097, total=   0.0s\n",
      "[CV] kernel=rbf, C=10000 .............................................\n",
      "[CV] .............. kernel=rbf, C=10000, score=0.693511, total=   0.0s\n",
      "[CV] kernel=rbf, C=10000 .............................................\n",
      "[CV] .............. kernel=rbf, C=10000, score=0.670636, total=   0.0s\n",
      "[CV] kernel=poly, C=10000 ............................................\n",
      "[CV] ............. kernel=poly, C=10000, score=0.416667, total=   0.0s\n",
      "[CV] kernel=poly, C=10000 ............................................\n",
      "[CV] ............. kernel=poly, C=10000, score=0.803953, total=   0.0s\n",
      "[CV] kernel=poly, C=10000 ............................................\n",
      "[CV] ............. kernel=poly, C=10000, score=0.509282, total=   0.0s\n",
      "[CV] kernel=poly, C=10000 ............................................\n",
      "[CV] ............. kernel=poly, C=10000, score=0.637377, total=   0.0s\n",
      "[CV] kernel=poly, C=10000 ............................................\n",
      "[CV] ............. kernel=poly, C=10000, score=0.754479, total=   0.0s\n",
      "[CV] kernel=sigmoid, C=10000 .........................................\n",
      "[CV] ...... kernel=sigmoid, C=10000, score=-1136.513052, total=   0.0s\n",
      "[CV] kernel=sigmoid, C=10000 .........................................\n",
      "[CV] ....... kernel=sigmoid, C=10000, score=-237.665610, total=   0.0s\n",
      "[CV] kernel=sigmoid, C=10000 .........................................\n",
      "[CV] ....... kernel=sigmoid, C=10000, score=-703.443270, total=   0.0s\n",
      "[CV] kernel=sigmoid, C=10000 .........................................\n",
      "[CV] ....... kernel=sigmoid, C=10000, score=-434.513202, total=   0.0s\n",
      "[CV] kernel=sigmoid, C=10000 .........................................\n",
      "[CV] ...... kernel=sigmoid, C=10000, score=-1111.041044, total=   0.0s\n"
     ]
    },
    {
     "name": "stderr",
     "output_type": "stream",
     "text": [
      "[Parallel(n_jobs=1)]: Done 140 out of 140 | elapsed:    3.0s finished\n",
      "C:\\Users\\Vu Anh Vinh\\Miniconda3\\envs\\thkstat\\lib\\site-packages\\sklearn\\utils\\validation.py:395: DeprecationWarning: Passing 1d arrays as data is deprecated in 0.17 and will raise ValueError in 0.19. Reshape your data either using X.reshape(-1, 1) if your data has a single feature or X.reshape(1, -1) if it contains a single sample.\n",
      "  DeprecationWarning)\n",
      "C:\\Users\\Vu Anh Vinh\\Miniconda3\\envs\\thkstat\\lib\\site-packages\\sklearn\\utils\\validation.py:395: DeprecationWarning: Passing 1d arrays as data is deprecated in 0.17 and will raise ValueError in 0.19. Reshape your data either using X.reshape(-1, 1) if your data has a single feature or X.reshape(1, -1) if it contains a single sample.\n",
      "  DeprecationWarning)\n",
      "C:\\Users\\Vu Anh Vinh\\Miniconda3\\envs\\thkstat\\lib\\site-packages\\sklearn\\utils\\validation.py:395: DeprecationWarning: Passing 1d arrays as data is deprecated in 0.17 and will raise ValueError in 0.19. Reshape your data either using X.reshape(-1, 1) if your data has a single feature or X.reshape(1, -1) if it contains a single sample.\n",
      "  DeprecationWarning)\n",
      "C:\\Users\\Vu Anh Vinh\\Miniconda3\\envs\\thkstat\\lib\\site-packages\\sklearn\\utils\\validation.py:395: DeprecationWarning: Passing 1d arrays as data is deprecated in 0.17 and will raise ValueError in 0.19. Reshape your data either using X.reshape(-1, 1) if your data has a single feature or X.reshape(1, -1) if it contains a single sample.\n",
      "  DeprecationWarning)\n",
      "C:\\Users\\Vu Anh Vinh\\Miniconda3\\envs\\thkstat\\lib\\site-packages\\sklearn\\utils\\validation.py:395: DeprecationWarning: Passing 1d arrays as data is deprecated in 0.17 and will raise ValueError in 0.19. Reshape your data either using X.reshape(-1, 1) if your data has a single feature or X.reshape(1, -1) if it contains a single sample.\n",
      "  DeprecationWarning)\n",
      "C:\\Users\\Vu Anh Vinh\\Miniconda3\\envs\\thkstat\\lib\\site-packages\\sklearn\\utils\\validation.py:395: DeprecationWarning: Passing 1d arrays as data is deprecated in 0.17 and will raise ValueError in 0.19. Reshape your data either using X.reshape(-1, 1) if your data has a single feature or X.reshape(1, -1) if it contains a single sample.\n",
      "  DeprecationWarning)\n",
      "C:\\Users\\Vu Anh Vinh\\Miniconda3\\envs\\thkstat\\lib\\site-packages\\sklearn\\utils\\validation.py:395: DeprecationWarning: Passing 1d arrays as data is deprecated in 0.17 and will raise ValueError in 0.19. Reshape your data either using X.reshape(-1, 1) if your data has a single feature or X.reshape(1, -1) if it contains a single sample.\n",
      "  DeprecationWarning)\n",
      "C:\\Users\\Vu Anh Vinh\\Miniconda3\\envs\\thkstat\\lib\\site-packages\\sklearn\\utils\\validation.py:395: DeprecationWarning: Passing 1d arrays as data is deprecated in 0.17 and will raise ValueError in 0.19. Reshape your data either using X.reshape(-1, 1) if your data has a single feature or X.reshape(1, -1) if it contains a single sample.\n",
      "  DeprecationWarning)\n",
      "C:\\Users\\Vu Anh Vinh\\Miniconda3\\envs\\thkstat\\lib\\site-packages\\sklearn\\utils\\validation.py:395: DeprecationWarning: Passing 1d arrays as data is deprecated in 0.17 and will raise ValueError in 0.19. Reshape your data either using X.reshape(-1, 1) if your data has a single feature or X.reshape(1, -1) if it contains a single sample.\n",
      "  DeprecationWarning)\n",
      "C:\\Users\\Vu Anh Vinh\\Miniconda3\\envs\\thkstat\\lib\\site-packages\\sklearn\\utils\\validation.py:395: DeprecationWarning: Passing 1d arrays as data is deprecated in 0.17 and will raise ValueError in 0.19. Reshape your data either using X.reshape(-1, 1) if your data has a single feature or X.reshape(1, -1) if it contains a single sample.\n",
      "  DeprecationWarning)\n",
      "C:\\Users\\Vu Anh Vinh\\Miniconda3\\envs\\thkstat\\lib\\site-packages\\sklearn\\utils\\validation.py:395: DeprecationWarning: Passing 1d arrays as data is deprecated in 0.17 and will raise ValueError in 0.19. Reshape your data either using X.reshape(-1, 1) if your data has a single feature or X.reshape(1, -1) if it contains a single sample.\n",
      "  DeprecationWarning)\n",
      "C:\\Users\\Vu Anh Vinh\\Miniconda3\\envs\\thkstat\\lib\\site-packages\\sklearn\\utils\\validation.py:395: DeprecationWarning: Passing 1d arrays as data is deprecated in 0.17 and will raise ValueError in 0.19. Reshape your data either using X.reshape(-1, 1) if your data has a single feature or X.reshape(1, -1) if it contains a single sample.\n",
      "  DeprecationWarning)\n",
      "C:\\Users\\Vu Anh Vinh\\Miniconda3\\envs\\thkstat\\lib\\site-packages\\sklearn\\utils\\validation.py:395: DeprecationWarning: Passing 1d arrays as data is deprecated in 0.17 and will raise ValueError in 0.19. Reshape your data either using X.reshape(-1, 1) if your data has a single feature or X.reshape(1, -1) if it contains a single sample.\n",
      "  DeprecationWarning)\n",
      "C:\\Users\\Vu Anh Vinh\\Miniconda3\\envs\\thkstat\\lib\\site-packages\\sklearn\\utils\\validation.py:395: DeprecationWarning: Passing 1d arrays as data is deprecated in 0.17 and will raise ValueError in 0.19. Reshape your data either using X.reshape(-1, 1) if your data has a single feature or X.reshape(1, -1) if it contains a single sample.\n",
      "  DeprecationWarning)\n",
      "C:\\Users\\Vu Anh Vinh\\Miniconda3\\envs\\thkstat\\lib\\site-packages\\sklearn\\utils\\validation.py:395: DeprecationWarning: Passing 1d arrays as data is deprecated in 0.17 and will raise ValueError in 0.19. Reshape your data either using X.reshape(-1, 1) if your data has a single feature or X.reshape(1, -1) if it contains a single sample.\n",
      "  DeprecationWarning)\n",
      "C:\\Users\\Vu Anh Vinh\\Miniconda3\\envs\\thkstat\\lib\\site-packages\\sklearn\\utils\\validation.py:395: DeprecationWarning: Passing 1d arrays as data is deprecated in 0.17 and will raise ValueError in 0.19. Reshape your data either using X.reshape(-1, 1) if your data has a single feature or X.reshape(1, -1) if it contains a single sample.\n",
      "  DeprecationWarning)\n",
      "C:\\Users\\Vu Anh Vinh\\Miniconda3\\envs\\thkstat\\lib\\site-packages\\sklearn\\utils\\validation.py:395: DeprecationWarning: Passing 1d arrays as data is deprecated in 0.17 and will raise ValueError in 0.19. Reshape your data either using X.reshape(-1, 1) if your data has a single feature or X.reshape(1, -1) if it contains a single sample.\n",
      "  DeprecationWarning)\n",
      "C:\\Users\\Vu Anh Vinh\\Miniconda3\\envs\\thkstat\\lib\\site-packages\\sklearn\\utils\\validation.py:395: DeprecationWarning: Passing 1d arrays as data is deprecated in 0.17 and will raise ValueError in 0.19. Reshape your data either using X.reshape(-1, 1) if your data has a single feature or X.reshape(1, -1) if it contains a single sample.\n",
      "  DeprecationWarning)\n",
      "C:\\Users\\Vu Anh Vinh\\Miniconda3\\envs\\thkstat\\lib\\site-packages\\sklearn\\utils\\validation.py:395: DeprecationWarning: Passing 1d arrays as data is deprecated in 0.17 and will raise ValueError in 0.19. Reshape your data either using X.reshape(-1, 1) if your data has a single feature or X.reshape(1, -1) if it contains a single sample.\n",
      "  DeprecationWarning)\n",
      "C:\\Users\\Vu Anh Vinh\\Miniconda3\\envs\\thkstat\\lib\\site-packages\\sklearn\\utils\\validation.py:395: DeprecationWarning: Passing 1d arrays as data is deprecated in 0.17 and will raise ValueError in 0.19. Reshape your data either using X.reshape(-1, 1) if your data has a single feature or X.reshape(1, -1) if it contains a single sample.\n",
      "  DeprecationWarning)\n",
      "C:\\Users\\Vu Anh Vinh\\Miniconda3\\envs\\thkstat\\lib\\site-packages\\sklearn\\utils\\validation.py:395: DeprecationWarning: Passing 1d arrays as data is deprecated in 0.17 and will raise ValueError in 0.19. Reshape your data either using X.reshape(-1, 1) if your data has a single feature or X.reshape(1, -1) if it contains a single sample.\n",
      "  DeprecationWarning)\n",
      "C:\\Users\\Vu Anh Vinh\\Miniconda3\\envs\\thkstat\\lib\\site-packages\\sklearn\\utils\\validation.py:395: DeprecationWarning: Passing 1d arrays as data is deprecated in 0.17 and will raise ValueError in 0.19. Reshape your data either using X.reshape(-1, 1) if your data has a single feature or X.reshape(1, -1) if it contains a single sample.\n",
      "  DeprecationWarning)\n",
      "C:\\Users\\Vu Anh Vinh\\Miniconda3\\envs\\thkstat\\lib\\site-packages\\sklearn\\utils\\validation.py:395: DeprecationWarning: Passing 1d arrays as data is deprecated in 0.17 and will raise ValueError in 0.19. Reshape your data either using X.reshape(-1, 1) if your data has a single feature or X.reshape(1, -1) if it contains a single sample.\n",
      "  DeprecationWarning)\n"
     ]
    },
    {
     "name": "stdout",
     "output_type": "stream",
     "text": [
      "Best hyper parameters: {'kernel': 'rbf', 'C': 100}\n",
      "Best score of this configuration: 0.65384442014\n",
      "max score: 0.730\n",
      "                  predicted value\ttrue value \n",
      "student  3\t\t70.251\t\t69.000\n",
      "student 16\t\t42.482\t\t32.000\n",
      "student 20\t\t69.301\t\t71.000\n",
      "student 24\t\t35.548\t\t43.000\n",
      "student 28\t\t57.351\t\t39.000\n",
      "student 31\t\t57.413\t\t65.000\n",
      "student 37\t\t66.187\t\t62.000\n",
      "student 38\t\t34.953\t\t36.000\n",
      "student 45\t\t69.106\t\t63.000\n",
      "student 47\t\t53.540\t\t37.000\n",
      "student 49\t\t52.921\t\t49.000\n",
      "student 52\t\t50.279\t\t56.000\n",
      "student 53\t\t51.223\t\t39.000\n",
      "student 55\t\t56.777\t\t59.000\n",
      "student 62\t\t20.140\t\t0.000\n",
      "student 63\t\t64.686\t\t65.000\n",
      "student 65\t\t51.376\t\t52.000\n",
      "student 68\t\t75.390\t\t85.000\n",
      "student 73\t\t53.344\t\t44.000\n",
      "student 75\t\t59.365\t\t53.000\n",
      "student 88\t\t24.005\t\t33.000\n",
      "student 89\t\t47.948\t\t54.000\n",
      "student 91\t\t57.996\t\t62.000\n",
      "Grid search for... Random Forest Regressor\n",
      "RandomForestRegressor(bootstrap=True, criterion='mse', max_depth=None,\n",
      "           max_features='sqrt', max_leaf_nodes=None,\n",
      "           min_impurity_split=1e-07, min_samples_leaf=2,\n",
      "           min_samples_split=8, min_weight_fraction_leaf=0.0,\n",
      "           n_estimators=50, n_jobs=-1, oob_score=False, random_state=None,\n",
      "           verbose=0, warm_start=False)\n",
      "Fitting 5 folds for each of 12 candidates, totalling 60 fits\n",
      "[CV] n_estimators=300, max_features=log2 .............................\n",
      "[CV]  n_estimators=300, max_features=log2, score=0.561299, total=   2.0s\n",
      "[CV] n_estimators=300, max_features=log2 .............................\n"
     ]
    },
    {
     "name": "stderr",
     "output_type": "stream",
     "text": [
      "[Parallel(n_jobs=1)]: Done   1 out of   1 | elapsed:    2.3s remaining:    0.0s\n"
     ]
    },
    {
     "name": "stdout",
     "output_type": "stream",
     "text": [
      "[CV]  n_estimators=300, max_features=log2, score=0.723383, total=   2.4s\n",
      "[CV] n_estimators=300, max_features=log2 .............................\n"
     ]
    },
    {
     "name": "stderr",
     "output_type": "stream",
     "text": [
      "[Parallel(n_jobs=1)]: Done   2 out of   2 | elapsed:    5.1s remaining:    0.0s\n"
     ]
    },
    {
     "name": "stdout",
     "output_type": "stream",
     "text": [
      "[CV]  n_estimators=300, max_features=log2, score=0.638794, total=   2.3s\n",
      "[CV] n_estimators=300, max_features=log2 .............................\n"
     ]
    },
    {
     "name": "stderr",
     "output_type": "stream",
     "text": [
      "[Parallel(n_jobs=1)]: Done   3 out of   3 | elapsed:    7.8s remaining:    0.0s\n"
     ]
    },
    {
     "name": "stdout",
     "output_type": "stream",
     "text": [
      "[CV]  n_estimators=300, max_features=log2, score=0.546628, total=   2.8s\n",
      "[CV] n_estimators=300, max_features=log2 .............................\n",
      "[CV]  n_estimators=300, max_features=log2, score=0.677825, total=   1.7s\n",
      "[CV] n_estimators=500, max_features=log2 .............................\n",
      "[CV]  n_estimators=500, max_features=log2, score=0.559402, total=   3.5s\n",
      "[CV] n_estimators=500, max_features=log2 .............................\n",
      "[CV]  n_estimators=500, max_features=log2, score=0.717997, total=   3.6s\n",
      "[CV] n_estimators=500, max_features=log2 .............................\n",
      "[CV]  n_estimators=500, max_features=log2, score=0.655234, total=   3.6s\n",
      "[CV] n_estimators=500, max_features=log2 .............................\n",
      "[CV]  n_estimators=500, max_features=log2, score=0.559602, total=   3.1s\n",
      "[CV] n_estimators=500, max_features=log2 .............................\n",
      "[CV]  n_estimators=500, max_features=log2, score=0.669290, total=   3.1s\n",
      "[CV] n_estimators=800, max_features=log2 .............................\n",
      "[CV]  n_estimators=800, max_features=log2, score=0.582831, total=   5.2s\n",
      "[CV] n_estimators=800, max_features=log2 .............................\n",
      "[CV]  n_estimators=800, max_features=log2, score=0.723342, total=   5.0s\n",
      "[CV] n_estimators=800, max_features=log2 .............................\n",
      "[CV]  n_estimators=800, max_features=log2, score=0.647296, total=   5.2s\n",
      "[CV] n_estimators=800, max_features=log2 .............................\n",
      "[CV]  n_estimators=800, max_features=log2, score=0.551396, total=   5.7s\n",
      "[CV] n_estimators=800, max_features=log2 .............................\n",
      "[CV]  n_estimators=800, max_features=log2, score=0.671016, total=   5.3s\n",
      "[CV] n_estimators=1200, max_features=log2 ............................\n",
      "[CV]  n_estimators=1200, max_features=log2, score=0.574539, total=   7.5s\n",
      "[CV] n_estimators=1200, max_features=log2 ............................\n",
      "[CV]  n_estimators=1200, max_features=log2, score=0.727012, total=   9.3s\n",
      "[CV] n_estimators=1200, max_features=log2 ............................\n",
      "[CV]  n_estimators=1200, max_features=log2, score=0.652757, total=   7.8s\n",
      "[CV] n_estimators=1200, max_features=log2 ............................\n",
      "[CV]  n_estimators=1200, max_features=log2, score=0.553172, total=   8.4s\n",
      "[CV] n_estimators=1200, max_features=log2 ............................\n",
      "[CV]  n_estimators=1200, max_features=log2, score=0.676050, total=   7.8s\n",
      "[CV] n_estimators=300, max_features=sqrt .............................\n",
      "[CV]  n_estimators=300, max_features=sqrt, score=0.596304, total=   2.6s\n",
      "[CV] n_estimators=300, max_features=sqrt .............................\n",
      "[CV]  n_estimators=300, max_features=sqrt, score=0.723032, total=   2.9s\n",
      "[CV] n_estimators=300, max_features=sqrt .............................\n",
      "[CV]  n_estimators=300, max_features=sqrt, score=0.649521, total=   1.7s\n",
      "[CV] n_estimators=300, max_features=sqrt .............................\n",
      "[CV]  n_estimators=300, max_features=sqrt, score=0.552157, total=   3.5s\n",
      "[CV] n_estimators=300, max_features=sqrt .............................\n",
      "[CV]  n_estimators=300, max_features=sqrt, score=0.669026, total=   1.8s\n",
      "[CV] n_estimators=500, max_features=sqrt .............................\n",
      "[CV]  n_estimators=500, max_features=sqrt, score=0.575162, total=   4.4s\n",
      "[CV] n_estimators=500, max_features=sqrt .............................\n",
      "[CV]  n_estimators=500, max_features=sqrt, score=0.720716, total=   5.3s\n",
      "[CV] n_estimators=500, max_features=sqrt .............................\n",
      "[CV]  n_estimators=500, max_features=sqrt, score=0.659207, total=   1.8s\n",
      "[CV] n_estimators=500, max_features=sqrt .............................\n",
      "[CV]  n_estimators=500, max_features=sqrt, score=0.551591, total=   4.2s\n",
      "[CV] n_estimators=500, max_features=sqrt .............................\n",
      "[CV]  n_estimators=500, max_features=sqrt, score=0.669089, total=   3.3s\n",
      "[CV] n_estimators=800, max_features=sqrt .............................\n",
      "[CV]  n_estimators=800, max_features=sqrt, score=0.567415, total=   4.9s\n",
      "[CV] n_estimators=800, max_features=sqrt .............................\n",
      "[CV]  n_estimators=800, max_features=sqrt, score=0.717286, total=   2.0s\n",
      "[CV] n_estimators=800, max_features=sqrt .............................\n",
      "[CV]  n_estimators=800, max_features=sqrt, score=0.655860, total=   7.3s\n",
      "[CV] n_estimators=800, max_features=sqrt .............................\n",
      "[CV]  n_estimators=800, max_features=sqrt, score=0.548664, total=   6.9s\n",
      "[CV] n_estimators=800, max_features=sqrt .............................\n",
      "[CV]  n_estimators=800, max_features=sqrt, score=0.668157, total=   4.7s\n",
      "[CV] n_estimators=1200, max_features=sqrt ............................\n",
      "[CV]  n_estimators=1200, max_features=sqrt, score=0.577376, total=   8.2s\n",
      "[CV] n_estimators=1200, max_features=sqrt ............................\n",
      "[CV]  n_estimators=1200, max_features=sqrt, score=0.722112, total=   7.9s\n",
      "[CV] n_estimators=1200, max_features=sqrt ............................\n",
      "[CV]  n_estimators=1200, max_features=sqrt, score=0.654144, total=   9.6s\n",
      "[CV] n_estimators=1200, max_features=sqrt ............................\n",
      "[CV]  n_estimators=1200, max_features=sqrt, score=0.538599, total=   8.1s\n",
      "[CV] n_estimators=1200, max_features=sqrt ............................\n",
      "[CV]  n_estimators=1200, max_features=sqrt, score=0.678016, total=   8.8s\n",
      "[CV] n_estimators=300, max_features=None .............................\n",
      "[CV]  n_estimators=300, max_features=None, score=0.556499, total=   1.7s\n",
      "[CV] n_estimators=300, max_features=None .............................\n",
      "[CV]  n_estimators=300, max_features=None, score=0.699896, total=   2.0s\n",
      "[CV] n_estimators=300, max_features=None .............................\n",
      "[CV]  n_estimators=300, max_features=None, score=0.646212, total=   2.3s\n",
      "[CV] n_estimators=300, max_features=None .............................\n",
      "[CV]  n_estimators=300, max_features=None, score=0.555665, total=   2.5s\n",
      "[CV] n_estimators=300, max_features=None .............................\n",
      "[CV]  n_estimators=300, max_features=None, score=0.657957, total=   1.4s\n",
      "[CV] n_estimators=500, max_features=None .............................\n",
      "[CV]  n_estimators=500, max_features=None, score=0.587003, total=   3.6s\n",
      "[CV] n_estimators=500, max_features=None .............................\n",
      "[CV]  n_estimators=500, max_features=None, score=0.712024, total=   4.5s\n",
      "[CV] n_estimators=500, max_features=None .............................\n",
      "[CV]  n_estimators=500, max_features=None, score=0.640187, total=   2.9s\n",
      "[CV] n_estimators=500, max_features=None .............................\n",
      "[CV]  n_estimators=500, max_features=None, score=0.553662, total=   3.5s\n",
      "[CV] n_estimators=500, max_features=None .............................\n",
      "[CV]  n_estimators=500, max_features=None, score=0.671595, total=   4.4s\n",
      "[CV] n_estimators=800, max_features=None .............................\n",
      "[CV]  n_estimators=800, max_features=None, score=0.582068, total=   5.3s\n",
      "[CV] n_estimators=800, max_features=None .............................\n",
      "[CV]  n_estimators=800, max_features=None, score=0.712913, total=   8.2s\n",
      "[CV] n_estimators=800, max_features=None .............................\n",
      "[CV]  n_estimators=800, max_features=None, score=0.644240, total=   4.0s\n",
      "[CV] n_estimators=800, max_features=None .............................\n",
      "[CV]  n_estimators=800, max_features=None, score=0.553897, total=   7.6s\n",
      "[CV] n_estimators=800, max_features=None .............................\n",
      "[CV]  n_estimators=800, max_features=None, score=0.667359, total=   2.9s\n",
      "[CV] n_estimators=1200, max_features=None ............................\n",
      "[CV]  n_estimators=1200, max_features=None, score=0.579976, total=   8.3s\n",
      "[CV] n_estimators=1200, max_features=None ............................\n",
      "[CV]  n_estimators=1200, max_features=None, score=0.713370, total=   9.3s\n",
      "[CV] n_estimators=1200, max_features=None ............................\n",
      "[CV]  n_estimators=1200, max_features=None, score=0.649614, total=   9.2s\n",
      "[CV] n_estimators=1200, max_features=None ............................\n",
      "[CV]  n_estimators=1200, max_features=None, score=0.567853, total=   8.5s\n",
      "[CV] n_estimators=1200, max_features=None ............................\n",
      "[CV]  n_estimators=1200, max_features=None, score=0.660706, total=   7.3s\n"
     ]
    },
    {
     "name": "stderr",
     "output_type": "stream",
     "text": [
      "[Parallel(n_jobs=1)]: Done  60 out of  60 | elapsed:  5.7min finished\n"
     ]
    },
    {
     "name": "stdout",
     "output_type": "stream",
     "text": [
      "Best hyper parameters: {'n_estimators': 300, 'max_features': 'sqrt'}\n",
      "Best score of this configuration: 0.637549808894\n",
      "max score: 0.735\n",
      "                  predicted value\ttrue value \n"
     ]
    },
    {
     "name": "stderr",
     "output_type": "stream",
     "text": [
      "C:\\Users\\Vu Anh Vinh\\Miniconda3\\envs\\thkstat\\lib\\site-packages\\sklearn\\utils\\validation.py:395: DeprecationWarning: Passing 1d arrays as data is deprecated in 0.17 and will raise ValueError in 0.19. Reshape your data either using X.reshape(-1, 1) if your data has a single feature or X.reshape(1, -1) if it contains a single sample.\n",
      "  DeprecationWarning)\n"
     ]
    },
    {
     "name": "stdout",
     "output_type": "stream",
     "text": [
      "student  2\t\t36.398\t\t38.000\n"
     ]
    },
    {
     "name": "stderr",
     "output_type": "stream",
     "text": [
      "C:\\Users\\Vu Anh Vinh\\Miniconda3\\envs\\thkstat\\lib\\site-packages\\sklearn\\utils\\validation.py:395: DeprecationWarning: Passing 1d arrays as data is deprecated in 0.17 and will raise ValueError in 0.19. Reshape your data either using X.reshape(-1, 1) if your data has a single feature or X.reshape(1, -1) if it contains a single sample.\n",
      "  DeprecationWarning)\n"
     ]
    },
    {
     "name": "stdout",
     "output_type": "stream",
     "text": [
      "student  4\t\t24.110\t\t28.000\n"
     ]
    },
    {
     "name": "stderr",
     "output_type": "stream",
     "text": [
      "C:\\Users\\Vu Anh Vinh\\Miniconda3\\envs\\thkstat\\lib\\site-packages\\sklearn\\utils\\validation.py:395: DeprecationWarning: Passing 1d arrays as data is deprecated in 0.17 and will raise ValueError in 0.19. Reshape your data either using X.reshape(-1, 1) if your data has a single feature or X.reshape(1, -1) if it contains a single sample.\n",
      "  DeprecationWarning)\n"
     ]
    },
    {
     "name": "stdout",
     "output_type": "stream",
     "text": [
      "student  9\t\t74.392\t\t87.000\n",
      "student 19\t\t37.528\t\t36.000\n"
     ]
    },
    {
     "name": "stderr",
     "output_type": "stream",
     "text": [
      "C:\\Users\\Vu Anh Vinh\\Miniconda3\\envs\\thkstat\\lib\\site-packages\\sklearn\\utils\\validation.py:395: DeprecationWarning: Passing 1d arrays as data is deprecated in 0.17 and will raise ValueError in 0.19. Reshape your data either using X.reshape(-1, 1) if your data has a single feature or X.reshape(1, -1) if it contains a single sample.\n",
      "  DeprecationWarning)\n",
      "C:\\Users\\Vu Anh Vinh\\Miniconda3\\envs\\thkstat\\lib\\site-packages\\sklearn\\utils\\validation.py:395: DeprecationWarning: Passing 1d arrays as data is deprecated in 0.17 and will raise ValueError in 0.19. Reshape your data either using X.reshape(-1, 1) if your data has a single feature or X.reshape(1, -1) if it contains a single sample.\n",
      "  DeprecationWarning)\n"
     ]
    },
    {
     "name": "stdout",
     "output_type": "stream",
     "text": [
      "student 23\t\t53.086\t\t69.000\n"
     ]
    },
    {
     "name": "stderr",
     "output_type": "stream",
     "text": [
      "C:\\Users\\Vu Anh Vinh\\Miniconda3\\envs\\thkstat\\lib\\site-packages\\sklearn\\utils\\validation.py:395: DeprecationWarning: Passing 1d arrays as data is deprecated in 0.17 and will raise ValueError in 0.19. Reshape your data either using X.reshape(-1, 1) if your data has a single feature or X.reshape(1, -1) if it contains a single sample.\n",
      "  DeprecationWarning)\n"
     ]
    },
    {
     "name": "stdout",
     "output_type": "stream",
     "text": [
      "student 26\t\t41.184\t\t46.000\n"
     ]
    },
    {
     "name": "stderr",
     "output_type": "stream",
     "text": [
      "C:\\Users\\Vu Anh Vinh\\Miniconda3\\envs\\thkstat\\lib\\site-packages\\sklearn\\utils\\validation.py:395: DeprecationWarning: Passing 1d arrays as data is deprecated in 0.17 and will raise ValueError in 0.19. Reshape your data either using X.reshape(-1, 1) if your data has a single feature or X.reshape(1, -1) if it contains a single sample.\n",
      "  DeprecationWarning)\n"
     ]
    },
    {
     "name": "stdout",
     "output_type": "stream",
     "text": [
      "student 35\t\t60.212\t\t73.000\n",
      "student 40\t\t55.906\t\t65.000\n"
     ]
    },
    {
     "name": "stderr",
     "output_type": "stream",
     "text": [
      "C:\\Users\\Vu Anh Vinh\\Miniconda3\\envs\\thkstat\\lib\\site-packages\\sklearn\\utils\\validation.py:395: DeprecationWarning: Passing 1d arrays as data is deprecated in 0.17 and will raise ValueError in 0.19. Reshape your data either using X.reshape(-1, 1) if your data has a single feature or X.reshape(1, -1) if it contains a single sample.\n",
      "  DeprecationWarning)\n",
      "C:\\Users\\Vu Anh Vinh\\Miniconda3\\envs\\thkstat\\lib\\site-packages\\sklearn\\utils\\validation.py:395: DeprecationWarning: Passing 1d arrays as data is deprecated in 0.17 and will raise ValueError in 0.19. Reshape your data either using X.reshape(-1, 1) if your data has a single feature or X.reshape(1, -1) if it contains a single sample.\n",
      "  DeprecationWarning)\n"
     ]
    },
    {
     "name": "stdout",
     "output_type": "stream",
     "text": [
      "student 41\t\t44.160\t\t54.000\n"
     ]
    },
    {
     "name": "stderr",
     "output_type": "stream",
     "text": [
      "C:\\Users\\Vu Anh Vinh\\Miniconda3\\envs\\thkstat\\lib\\site-packages\\sklearn\\utils\\validation.py:395: DeprecationWarning: Passing 1d arrays as data is deprecated in 0.17 and will raise ValueError in 0.19. Reshape your data either using X.reshape(-1, 1) if your data has a single feature or X.reshape(1, -1) if it contains a single sample.\n",
      "  DeprecationWarning)\n"
     ]
    },
    {
     "name": "stdout",
     "output_type": "stream",
     "text": [
      "student 43\t\t17.097\t\t9.000\n"
     ]
    },
    {
     "name": "stderr",
     "output_type": "stream",
     "text": [
      "C:\\Users\\Vu Anh Vinh\\Miniconda3\\envs\\thkstat\\lib\\site-packages\\sklearn\\utils\\validation.py:395: DeprecationWarning: Passing 1d arrays as data is deprecated in 0.17 and will raise ValueError in 0.19. Reshape your data either using X.reshape(-1, 1) if your data has a single feature or X.reshape(1, -1) if it contains a single sample.\n",
      "  DeprecationWarning)\n"
     ]
    },
    {
     "name": "stdout",
     "output_type": "stream",
     "text": [
      "student 51\t\t49.822\t\t55.000\n"
     ]
    },
    {
     "name": "stderr",
     "output_type": "stream",
     "text": [
      "C:\\Users\\Vu Anh Vinh\\Miniconda3\\envs\\thkstat\\lib\\site-packages\\sklearn\\utils\\validation.py:395: DeprecationWarning: Passing 1d arrays as data is deprecated in 0.17 and will raise ValueError in 0.19. Reshape your data either using X.reshape(-1, 1) if your data has a single feature or X.reshape(1, -1) if it contains a single sample.\n",
      "  DeprecationWarning)\n"
     ]
    },
    {
     "name": "stdout",
     "output_type": "stream",
     "text": [
      "student 56\t\t54.586\t\t61.000\n"
     ]
    },
    {
     "name": "stderr",
     "output_type": "stream",
     "text": [
      "C:\\Users\\Vu Anh Vinh\\Miniconda3\\envs\\thkstat\\lib\\site-packages\\sklearn\\utils\\validation.py:395: DeprecationWarning: Passing 1d arrays as data is deprecated in 0.17 and will raise ValueError in 0.19. Reshape your data either using X.reshape(-1, 1) if your data has a single feature or X.reshape(1, -1) if it contains a single sample.\n",
      "  DeprecationWarning)\n"
     ]
    },
    {
     "name": "stdout",
     "output_type": "stream",
     "text": [
      "student 57\t\t69.213\t\t77.000\n"
     ]
    },
    {
     "name": "stderr",
     "output_type": "stream",
     "text": [
      "C:\\Users\\Vu Anh Vinh\\Miniconda3\\envs\\thkstat\\lib\\site-packages\\sklearn\\utils\\validation.py:395: DeprecationWarning: Passing 1d arrays as data is deprecated in 0.17 and will raise ValueError in 0.19. Reshape your data either using X.reshape(-1, 1) if your data has a single feature or X.reshape(1, -1) if it contains a single sample.\n",
      "  DeprecationWarning)\n"
     ]
    },
    {
     "name": "stdout",
     "output_type": "stream",
     "text": [
      "student 63\t\t54.983\t\t65.000\n"
     ]
    },
    {
     "name": "stderr",
     "output_type": "stream",
     "text": [
      "C:\\Users\\Vu Anh Vinh\\Miniconda3\\envs\\thkstat\\lib\\site-packages\\sklearn\\utils\\validation.py:395: DeprecationWarning: Passing 1d arrays as data is deprecated in 0.17 and will raise ValueError in 0.19. Reshape your data either using X.reshape(-1, 1) if your data has a single feature or X.reshape(1, -1) if it contains a single sample.\n",
      "  DeprecationWarning)\n"
     ]
    },
    {
     "name": "stdout",
     "output_type": "stream",
     "text": [
      "student 65\t\t45.364\t\t52.000\n"
     ]
    },
    {
     "name": "stderr",
     "output_type": "stream",
     "text": [
      "C:\\Users\\Vu Anh Vinh\\Miniconda3\\envs\\thkstat\\lib\\site-packages\\sklearn\\utils\\validation.py:395: DeprecationWarning: Passing 1d arrays as data is deprecated in 0.17 and will raise ValueError in 0.19. Reshape your data either using X.reshape(-1, 1) if your data has a single feature or X.reshape(1, -1) if it contains a single sample.\n",
      "  DeprecationWarning)\n"
     ]
    },
    {
     "name": "stdout",
     "output_type": "stream",
     "text": [
      "student 68\t\t71.340\t\t85.000\n"
     ]
    },
    {
     "name": "stderr",
     "output_type": "stream",
     "text": [
      "C:\\Users\\Vu Anh Vinh\\Miniconda3\\envs\\thkstat\\lib\\site-packages\\sklearn\\utils\\validation.py:395: DeprecationWarning: Passing 1d arrays as data is deprecated in 0.17 and will raise ValueError in 0.19. Reshape your data either using X.reshape(-1, 1) if your data has a single feature or X.reshape(1, -1) if it contains a single sample.\n",
      "  DeprecationWarning)\n"
     ]
    },
    {
     "name": "stdout",
     "output_type": "stream",
     "text": [
      "student 73\t\t50.043\t\t44.000\n"
     ]
    },
    {
     "name": "stderr",
     "output_type": "stream",
     "text": [
      "C:\\Users\\Vu Anh Vinh\\Miniconda3\\envs\\thkstat\\lib\\site-packages\\sklearn\\utils\\validation.py:395: DeprecationWarning: Passing 1d arrays as data is deprecated in 0.17 and will raise ValueError in 0.19. Reshape your data either using X.reshape(-1, 1) if your data has a single feature or X.reshape(1, -1) if it contains a single sample.\n",
      "  DeprecationWarning)\n"
     ]
    },
    {
     "name": "stdout",
     "output_type": "stream",
     "text": [
      "student 74\t\t50.115\t\t44.000\n"
     ]
    },
    {
     "name": "stderr",
     "output_type": "stream",
     "text": [
      "C:\\Users\\Vu Anh Vinh\\Miniconda3\\envs\\thkstat\\lib\\site-packages\\sklearn\\utils\\validation.py:395: DeprecationWarning: Passing 1d arrays as data is deprecated in 0.17 and will raise ValueError in 0.19. Reshape your data either using X.reshape(-1, 1) if your data has a single feature or X.reshape(1, -1) if it contains a single sample.\n",
      "  DeprecationWarning)\n"
     ]
    },
    {
     "name": "stdout",
     "output_type": "stream",
     "text": [
      "student 83\t\t46.956\t\t47.000\n"
     ]
    },
    {
     "name": "stderr",
     "output_type": "stream",
     "text": [
      "C:\\Users\\Vu Anh Vinh\\Miniconda3\\envs\\thkstat\\lib\\site-packages\\sklearn\\utils\\validation.py:395: DeprecationWarning: Passing 1d arrays as data is deprecated in 0.17 and will raise ValueError in 0.19. Reshape your data either using X.reshape(-1, 1) if your data has a single feature or X.reshape(1, -1) if it contains a single sample.\n",
      "  DeprecationWarning)\n"
     ]
    },
    {
     "name": "stdout",
     "output_type": "stream",
     "text": [
      "student 84\t\t60.942\t\t49.000\n"
     ]
    },
    {
     "name": "stderr",
     "output_type": "stream",
     "text": [
      "C:\\Users\\Vu Anh Vinh\\Miniconda3\\envs\\thkstat\\lib\\site-packages\\sklearn\\utils\\validation.py:395: DeprecationWarning: Passing 1d arrays as data is deprecated in 0.17 and will raise ValueError in 0.19. Reshape your data either using X.reshape(-1, 1) if your data has a single feature or X.reshape(1, -1) if it contains a single sample.\n",
      "  DeprecationWarning)\n"
     ]
    },
    {
     "name": "stdout",
     "output_type": "stream",
     "text": [
      "student 86\t\t52.307\t\t40.000\n"
     ]
    },
    {
     "name": "stderr",
     "output_type": "stream",
     "text": [
      "C:\\Users\\Vu Anh Vinh\\Miniconda3\\envs\\thkstat\\lib\\site-packages\\sklearn\\utils\\validation.py:395: DeprecationWarning: Passing 1d arrays as data is deprecated in 0.17 and will raise ValueError in 0.19. Reshape your data either using X.reshape(-1, 1) if your data has a single feature or X.reshape(1, -1) if it contains a single sample.\n",
      "  DeprecationWarning)\n"
     ]
    },
    {
     "name": "stdout",
     "output_type": "stream",
     "text": [
      "student 88\t\t23.921\t\t33.000\n"
     ]
    },
    {
     "name": "stderr",
     "output_type": "stream",
     "text": [
      "C:\\Users\\Vu Anh Vinh\\Miniconda3\\envs\\thkstat\\lib\\site-packages\\sklearn\\utils\\validation.py:395: DeprecationWarning: Passing 1d arrays as data is deprecated in 0.17 and will raise ValueError in 0.19. Reshape your data either using X.reshape(-1, 1) if your data has a single feature or X.reshape(1, -1) if it contains a single sample.\n",
      "  DeprecationWarning)\n"
     ]
    },
    {
     "name": "stdout",
     "output_type": "stream",
     "text": [
      "student 90\t\t56.692\t\t80.000\n",
      "Grid search for... Linear Regression\n",
      "LinearRegression(copy_X=True, fit_intercept=True, n_jobs=1, normalize=False)\n",
      "Fitting 5 folds for each of 4 candidates, totalling 20 fits\n",
      "[CV] normalize=True, fit_intercept=True ..............................\n",
      "[CV]  normalize=True, fit_intercept=True, score=0.674584, total=   0.8s\n",
      "[CV] normalize=True, fit_intercept=True ..............................\n",
      "[CV]  normalize=True, fit_intercept=True, score=0.871305, total=   0.0s\n",
      "[CV] normalize=True, fit_intercept=True ..............................\n",
      "[CV]  normalize=True, fit_intercept=True, score=-0.392120, total=   0.0s\n",
      "[CV] normalize=True, fit_intercept=True ..............................\n",
      "[CV]  normalize=True, fit_intercept=True, score=0.511124, total=   0.0s\n",
      "[CV] normalize=True, fit_intercept=True ..............................\n",
      "[CV]  normalize=True, fit_intercept=True, score=0.634002, total=   0.0s\n",
      "[CV] normalize=False, fit_intercept=True .............................\n",
      "[CV]  normalize=False, fit_intercept=True, score=0.674584, total=   0.0s\n",
      "[CV] normalize=False, fit_intercept=True .............................\n",
      "[CV]  normalize=False, fit_intercept=True, score=0.871305, total=   0.0s\n",
      "[CV] normalize=False, fit_intercept=True .............................\n",
      "[CV]  normalize=False, fit_intercept=True, score=-0.392120, total=   0.0s\n",
      "[CV] normalize=False, fit_intercept=True .............................\n",
      "[CV]  normalize=False, fit_intercept=True, score=0.511124, total=   0.0s\n",
      "[CV] normalize=False, fit_intercept=True .............................\n",
      "[CV]  normalize=False, fit_intercept=True, score=0.634002, total=   0.0s\n",
      "[CV] normalize=True, fit_intercept=False .............................\n",
      "[CV]  normalize=True, fit_intercept=False, score=0.616916, total=   0.0s\n",
      "[CV] normalize=True, fit_intercept=False .............................\n",
      "[CV]  normalize=True, fit_intercept=False, score=0.806312, total=   0.0s\n",
      "[CV] normalize=True, fit_intercept=False .............................\n",
      "[CV]  normalize=True, fit_intercept=False, score=-0.267891, total=   0.0s\n",
      "[CV] normalize=True, fit_intercept=False .............................\n",
      "[CV]  normalize=True, fit_intercept=False, score=0.444955, total=   0.0s\n",
      "[CV] normalize=True, fit_intercept=False .............................\n",
      "[CV]  normalize=True, fit_intercept=False, score=0.646465, total=   0.0s\n",
      "[CV] normalize=False, fit_intercept=False ............................\n",
      "[CV]  normalize=False, fit_intercept=False, score=0.616916, total=   0.0s\n",
      "[CV] normalize=False, fit_intercept=False ............................\n"
     ]
    },
    {
     "name": "stderr",
     "output_type": "stream",
     "text": [
      "[Parallel(n_jobs=1)]: Done   1 out of   1 | elapsed:    0.8s remaining:    0.0s\n",
      "[Parallel(n_jobs=1)]: Done   2 out of   2 | elapsed:    0.8s remaining:    0.0s\n",
      "[Parallel(n_jobs=1)]: Done   3 out of   3 | elapsed:    0.8s remaining:    0.0s\n"
     ]
    },
    {
     "name": "stdout",
     "output_type": "stream",
     "text": [
      "[CV]  normalize=False, fit_intercept=False, score=0.806312, total=   0.0s\n",
      "[CV] normalize=False, fit_intercept=False ............................\n",
      "[CV]  normalize=False, fit_intercept=False, score=-0.267891, total=   0.0s\n",
      "[CV] normalize=False, fit_intercept=False ............................\n",
      "[CV]  normalize=False, fit_intercept=False, score=0.444955, total=   0.0s\n",
      "[CV] normalize=False, fit_intercept=False ............................\n",
      "[CV]  normalize=False, fit_intercept=False, score=0.646465, total=   0.0s\n",
      "Best hyper parameters: {'normalize': False, 'fit_intercept': True}\n",
      "Best score of this configuration: 0.462139511505\n",
      "max score: 0.767\n",
      "                  predicted value\ttrue value \n",
      "student 10\t\t74.717\t\t67.000\n",
      "student 14\t\t79.044\t\t74.000\n",
      "student 16\t\t46.576\t\t32.000\n",
      "student 18\t\t14.685\t\t0.000\n",
      "student 19\t\t40.530\t\t36.000\n",
      "student 24\t\t35.984\t\t43.000\n",
      "student 25\t\t55.964\t\t36.000\n",
      "student 27\t\t48.699\t\t57.000\n",
      "student 32\t\t59.542\t\t60.000\n",
      "student 34\t\t46.575\t\t38.000\n",
      "student 39\t\t29.135\t\t37.000\n",
      "student 43\t\t3.069\t\t9.000\n",
      "student 44\t\t33.033\t\t40.000\n",
      "student 53\t\t49.218\t\t39.000\n",
      "student 54\t\t24.026\t\t32.000\n",
      "student 56\t\t57.387\t\t61.000\n",
      "student 60\t\t32.302\t\t39.000\n",
      "student 62\t\t16.274\t\t0.000\n",
      "student 63\t\t64.783\t\t65.000\n",
      "student 78\t\t45.938\t\t43.000\n",
      "student 83\t\t57.565\t\t47.000\n",
      "student 86\t\t55.790\t\t40.000\n",
      "student 87\t\t73.762\t\t75.000\n"
     ]
    },
    {
     "name": "stderr",
     "output_type": "stream",
     "text": [
      "[Parallel(n_jobs=1)]: Done  20 out of  20 | elapsed:    1.1s finished\n",
      "C:\\Users\\Vu Anh Vinh\\Miniconda3\\envs\\thkstat\\lib\\site-packages\\sklearn\\utils\\validation.py:395: DeprecationWarning: Passing 1d arrays as data is deprecated in 0.17 and will raise ValueError in 0.19. Reshape your data either using X.reshape(-1, 1) if your data has a single feature or X.reshape(1, -1) if it contains a single sample.\n",
      "  DeprecationWarning)\n",
      "C:\\Users\\Vu Anh Vinh\\Miniconda3\\envs\\thkstat\\lib\\site-packages\\sklearn\\utils\\validation.py:395: DeprecationWarning: Passing 1d arrays as data is deprecated in 0.17 and will raise ValueError in 0.19. Reshape your data either using X.reshape(-1, 1) if your data has a single feature or X.reshape(1, -1) if it contains a single sample.\n",
      "  DeprecationWarning)\n",
      "C:\\Users\\Vu Anh Vinh\\Miniconda3\\envs\\thkstat\\lib\\site-packages\\sklearn\\utils\\validation.py:395: DeprecationWarning: Passing 1d arrays as data is deprecated in 0.17 and will raise ValueError in 0.19. Reshape your data either using X.reshape(-1, 1) if your data has a single feature or X.reshape(1, -1) if it contains a single sample.\n",
      "  DeprecationWarning)\n",
      "C:\\Users\\Vu Anh Vinh\\Miniconda3\\envs\\thkstat\\lib\\site-packages\\sklearn\\utils\\validation.py:395: DeprecationWarning: Passing 1d arrays as data is deprecated in 0.17 and will raise ValueError in 0.19. Reshape your data either using X.reshape(-1, 1) if your data has a single feature or X.reshape(1, -1) if it contains a single sample.\n",
      "  DeprecationWarning)\n",
      "C:\\Users\\Vu Anh Vinh\\Miniconda3\\envs\\thkstat\\lib\\site-packages\\sklearn\\utils\\validation.py:395: DeprecationWarning: Passing 1d arrays as data is deprecated in 0.17 and will raise ValueError in 0.19. Reshape your data either using X.reshape(-1, 1) if your data has a single feature or X.reshape(1, -1) if it contains a single sample.\n",
      "  DeprecationWarning)\n",
      "C:\\Users\\Vu Anh Vinh\\Miniconda3\\envs\\thkstat\\lib\\site-packages\\sklearn\\utils\\validation.py:395: DeprecationWarning: Passing 1d arrays as data is deprecated in 0.17 and will raise ValueError in 0.19. Reshape your data either using X.reshape(-1, 1) if your data has a single feature or X.reshape(1, -1) if it contains a single sample.\n",
      "  DeprecationWarning)\n",
      "C:\\Users\\Vu Anh Vinh\\Miniconda3\\envs\\thkstat\\lib\\site-packages\\sklearn\\utils\\validation.py:395: DeprecationWarning: Passing 1d arrays as data is deprecated in 0.17 and will raise ValueError in 0.19. Reshape your data either using X.reshape(-1, 1) if your data has a single feature or X.reshape(1, -1) if it contains a single sample.\n",
      "  DeprecationWarning)\n",
      "C:\\Users\\Vu Anh Vinh\\Miniconda3\\envs\\thkstat\\lib\\site-packages\\sklearn\\utils\\validation.py:395: DeprecationWarning: Passing 1d arrays as data is deprecated in 0.17 and will raise ValueError in 0.19. Reshape your data either using X.reshape(-1, 1) if your data has a single feature or X.reshape(1, -1) if it contains a single sample.\n",
      "  DeprecationWarning)\n",
      "C:\\Users\\Vu Anh Vinh\\Miniconda3\\envs\\thkstat\\lib\\site-packages\\sklearn\\utils\\validation.py:395: DeprecationWarning: Passing 1d arrays as data is deprecated in 0.17 and will raise ValueError in 0.19. Reshape your data either using X.reshape(-1, 1) if your data has a single feature or X.reshape(1, -1) if it contains a single sample.\n",
      "  DeprecationWarning)\n",
      "C:\\Users\\Vu Anh Vinh\\Miniconda3\\envs\\thkstat\\lib\\site-packages\\sklearn\\utils\\validation.py:395: DeprecationWarning: Passing 1d arrays as data is deprecated in 0.17 and will raise ValueError in 0.19. Reshape your data either using X.reshape(-1, 1) if your data has a single feature or X.reshape(1, -1) if it contains a single sample.\n",
      "  DeprecationWarning)\n",
      "C:\\Users\\Vu Anh Vinh\\Miniconda3\\envs\\thkstat\\lib\\site-packages\\sklearn\\utils\\validation.py:395: DeprecationWarning: Passing 1d arrays as data is deprecated in 0.17 and will raise ValueError in 0.19. Reshape your data either using X.reshape(-1, 1) if your data has a single feature or X.reshape(1, -1) if it contains a single sample.\n",
      "  DeprecationWarning)\n",
      "C:\\Users\\Vu Anh Vinh\\Miniconda3\\envs\\thkstat\\lib\\site-packages\\sklearn\\utils\\validation.py:395: DeprecationWarning: Passing 1d arrays as data is deprecated in 0.17 and will raise ValueError in 0.19. Reshape your data either using X.reshape(-1, 1) if your data has a single feature or X.reshape(1, -1) if it contains a single sample.\n",
      "  DeprecationWarning)\n",
      "C:\\Users\\Vu Anh Vinh\\Miniconda3\\envs\\thkstat\\lib\\site-packages\\sklearn\\utils\\validation.py:395: DeprecationWarning: Passing 1d arrays as data is deprecated in 0.17 and will raise ValueError in 0.19. Reshape your data either using X.reshape(-1, 1) if your data has a single feature or X.reshape(1, -1) if it contains a single sample.\n",
      "  DeprecationWarning)\n",
      "C:\\Users\\Vu Anh Vinh\\Miniconda3\\envs\\thkstat\\lib\\site-packages\\sklearn\\utils\\validation.py:395: DeprecationWarning: Passing 1d arrays as data is deprecated in 0.17 and will raise ValueError in 0.19. Reshape your data either using X.reshape(-1, 1) if your data has a single feature or X.reshape(1, -1) if it contains a single sample.\n",
      "  DeprecationWarning)\n",
      "C:\\Users\\Vu Anh Vinh\\Miniconda3\\envs\\thkstat\\lib\\site-packages\\sklearn\\utils\\validation.py:395: DeprecationWarning: Passing 1d arrays as data is deprecated in 0.17 and will raise ValueError in 0.19. Reshape your data either using X.reshape(-1, 1) if your data has a single feature or X.reshape(1, -1) if it contains a single sample.\n",
      "  DeprecationWarning)\n",
      "C:\\Users\\Vu Anh Vinh\\Miniconda3\\envs\\thkstat\\lib\\site-packages\\sklearn\\utils\\validation.py:395: DeprecationWarning: Passing 1d arrays as data is deprecated in 0.17 and will raise ValueError in 0.19. Reshape your data either using X.reshape(-1, 1) if your data has a single feature or X.reshape(1, -1) if it contains a single sample.\n",
      "  DeprecationWarning)\n",
      "C:\\Users\\Vu Anh Vinh\\Miniconda3\\envs\\thkstat\\lib\\site-packages\\sklearn\\utils\\validation.py:395: DeprecationWarning: Passing 1d arrays as data is deprecated in 0.17 and will raise ValueError in 0.19. Reshape your data either using X.reshape(-1, 1) if your data has a single feature or X.reshape(1, -1) if it contains a single sample.\n",
      "  DeprecationWarning)\n",
      "C:\\Users\\Vu Anh Vinh\\Miniconda3\\envs\\thkstat\\lib\\site-packages\\sklearn\\utils\\validation.py:395: DeprecationWarning: Passing 1d arrays as data is deprecated in 0.17 and will raise ValueError in 0.19. Reshape your data either using X.reshape(-1, 1) if your data has a single feature or X.reshape(1, -1) if it contains a single sample.\n",
      "  DeprecationWarning)\n",
      "C:\\Users\\Vu Anh Vinh\\Miniconda3\\envs\\thkstat\\lib\\site-packages\\sklearn\\utils\\validation.py:395: DeprecationWarning: Passing 1d arrays as data is deprecated in 0.17 and will raise ValueError in 0.19. Reshape your data either using X.reshape(-1, 1) if your data has a single feature or X.reshape(1, -1) if it contains a single sample.\n",
      "  DeprecationWarning)\n",
      "C:\\Users\\Vu Anh Vinh\\Miniconda3\\envs\\thkstat\\lib\\site-packages\\sklearn\\utils\\validation.py:395: DeprecationWarning: Passing 1d arrays as data is deprecated in 0.17 and will raise ValueError in 0.19. Reshape your data either using X.reshape(-1, 1) if your data has a single feature or X.reshape(1, -1) if it contains a single sample.\n",
      "  DeprecationWarning)\n",
      "C:\\Users\\Vu Anh Vinh\\Miniconda3\\envs\\thkstat\\lib\\site-packages\\sklearn\\utils\\validation.py:395: DeprecationWarning: Passing 1d arrays as data is deprecated in 0.17 and will raise ValueError in 0.19. Reshape your data either using X.reshape(-1, 1) if your data has a single feature or X.reshape(1, -1) if it contains a single sample.\n",
      "  DeprecationWarning)\n",
      "C:\\Users\\Vu Anh Vinh\\Miniconda3\\envs\\thkstat\\lib\\site-packages\\sklearn\\utils\\validation.py:395: DeprecationWarning: Passing 1d arrays as data is deprecated in 0.17 and will raise ValueError in 0.19. Reshape your data either using X.reshape(-1, 1) if your data has a single feature or X.reshape(1, -1) if it contains a single sample.\n",
      "  DeprecationWarning)\n",
      "C:\\Users\\Vu Anh Vinh\\Miniconda3\\envs\\thkstat\\lib\\site-packages\\sklearn\\utils\\validation.py:395: DeprecationWarning: Passing 1d arrays as data is deprecated in 0.17 and will raise ValueError in 0.19. Reshape your data either using X.reshape(-1, 1) if your data has a single feature or X.reshape(1, -1) if it contains a single sample.\n",
      "  DeprecationWarning)\n"
     ]
    },
    {
     "name": "stdout",
     "output_type": "stream",
     "text": [
      "Grid search for... Ridge regression\n",
      "Ridge(alpha=1.0, copy_X=True, fit_intercept=True, max_iter=None,\n",
      "   normalize=False, random_state=None, solver='auto', tol=0.001)\n",
      "Fitting 5 folds for each of 20 candidates, totalling 100 fits\n",
      "[CV] fit_intercept=True, normalize=True, alpha=0.01 ..................\n",
      "[CV]  fit_intercept=True, normalize=True, alpha=0.01, score=0.822310, total=   0.1s\n",
      "[CV] fit_intercept=True, normalize=True, alpha=0.01 ..................\n"
     ]
    },
    {
     "name": "stderr",
     "output_type": "stream",
     "text": [
      "[Parallel(n_jobs=1)]: Done   1 out of   1 | elapsed:    0.1s remaining:    0.0s\n",
      "[Parallel(n_jobs=1)]: Done   2 out of   2 | elapsed:    0.1s remaining:    0.0s\n",
      "[Parallel(n_jobs=1)]: Done   3 out of   3 | elapsed:    0.1s remaining:    0.0s\n"
     ]
    },
    {
     "name": "stdout",
     "output_type": "stream",
     "text": [
      "[CV]  fit_intercept=True, normalize=True, alpha=0.01, score=0.448238, total=   0.0s\n",
      "[CV] fit_intercept=True, normalize=True, alpha=0.01 ..................\n",
      "[CV]  fit_intercept=True, normalize=True, alpha=0.01, score=0.800018, total=   0.0s\n",
      "[CV] fit_intercept=True, normalize=True, alpha=0.01 ..................\n",
      "[CV]  fit_intercept=True, normalize=True, alpha=0.01, score=0.579848, total=   0.0s\n",
      "[CV] fit_intercept=True, normalize=True, alpha=0.01 ..................\n",
      "[CV]  fit_intercept=True, normalize=True, alpha=0.01, score=0.476987, total=   0.0s\n",
      "[CV] fit_intercept=True, normalize=False, alpha=0.01 .................\n",
      "[CV]  fit_intercept=True, normalize=False, alpha=0.01, score=0.823063, total=   0.0s\n",
      "[CV] fit_intercept=True, normalize=False, alpha=0.01 .................\n",
      "[CV]  fit_intercept=True, normalize=False, alpha=0.01, score=0.447796, total=   0.0s\n",
      "[CV] fit_intercept=True, normalize=False, alpha=0.01 .................\n",
      "[CV]  fit_intercept=True, normalize=False, alpha=0.01, score=0.799830, total=   0.0s\n",
      "[CV] fit_intercept=True, normalize=False, alpha=0.01 .................\n",
      "[CV]  fit_intercept=True, normalize=False, alpha=0.01, score=0.578964, total=   0.0s\n",
      "[CV] fit_intercept=True, normalize=False, alpha=0.01 .................\n",
      "[CV]  fit_intercept=True, normalize=False, alpha=0.01, score=0.476150, total=   0.0s\n",
      "[CV] fit_intercept=False, normalize=True, alpha=0.01 .................\n",
      "[CV]  fit_intercept=False, normalize=True, alpha=0.01, score=0.875573, total=   0.0s\n",
      "[CV] fit_intercept=False, normalize=True, alpha=0.01 .................\n",
      "[CV]  fit_intercept=False, normalize=True, alpha=0.01, score=0.269248, total=   0.0s\n",
      "[CV] fit_intercept=False, normalize=True, alpha=0.01 .................\n",
      "[CV]  fit_intercept=False, normalize=True, alpha=0.01, score=0.735734, total=   0.0s\n",
      "[CV] fit_intercept=False, normalize=True, alpha=0.01 .................\n",
      "[CV]  fit_intercept=False, normalize=True, alpha=0.01, score=0.513599, total=   0.0s\n",
      "[CV] fit_intercept=False, normalize=True, alpha=0.01 .................\n",
      "[CV]  fit_intercept=False, normalize=True, alpha=0.01, score=0.407592, total=   0.0s\n",
      "[CV] fit_intercept=False, normalize=False, alpha=0.01 ................\n",
      "[CV]  fit_intercept=False, normalize=False, alpha=0.01, score=0.875573, total=   0.0s\n",
      "[CV] fit_intercept=False, normalize=False, alpha=0.01 ................\n",
      "[CV]  fit_intercept=False, normalize=False, alpha=0.01, score=0.269248, total=   0.0s\n",
      "[CV] fit_intercept=False, normalize=False, alpha=0.01 ................\n",
      "[CV]  fit_intercept=False, normalize=False, alpha=0.01, score=0.735734, total=   0.0s\n",
      "[CV] fit_intercept=False, normalize=False, alpha=0.01 ................\n",
      "[CV]  fit_intercept=False, normalize=False, alpha=0.01, score=0.513599, total=   0.0s\n",
      "[CV] fit_intercept=False, normalize=False, alpha=0.01 ................\n",
      "[CV]  fit_intercept=False, normalize=False, alpha=0.01, score=0.407592, total=   0.0s\n",
      "[CV] fit_intercept=True, normalize=True, alpha=0.1 ...................\n",
      "[CV]  fit_intercept=True, normalize=True, alpha=0.1, score=0.841406, total=   0.0s\n",
      "[CV] fit_intercept=True, normalize=True, alpha=0.1 ...................\n",
      "[CV]  fit_intercept=True, normalize=True, alpha=0.1, score=0.447963, total=   0.0s\n",
      "[CV] fit_intercept=True, normalize=True, alpha=0.1 ...................\n",
      "[CV]  fit_intercept=True, normalize=True, alpha=0.1, score=0.795433, total=   0.0s\n",
      "[CV] fit_intercept=True, normalize=True, alpha=0.1 ...................\n",
      "[CV]  fit_intercept=True, normalize=True, alpha=0.1, score=0.580765, total=   0.0s\n",
      "[CV] fit_intercept=True, normalize=True, alpha=0.1 ...................\n",
      "[CV]  fit_intercept=True, normalize=True, alpha=0.1, score=0.481535, total=   0.0s\n",
      "[CV] fit_intercept=True, normalize=False, alpha=0.1 ..................\n",
      "[CV]  fit_intercept=True, normalize=False, alpha=0.1, score=0.845919, total=   0.0s\n",
      "[CV] fit_intercept=True, normalize=False, alpha=0.1 ..................\n",
      "[CV]  fit_intercept=True, normalize=False, alpha=0.1, score=0.445499, total=   0.0s\n",
      "[CV] fit_intercept=True, normalize=False, alpha=0.1 ..................\n",
      "[CV]  fit_intercept=True, normalize=False, alpha=0.1, score=0.794084, total=   0.0s\n",
      "[CV] fit_intercept=True, normalize=False, alpha=0.1 ..................\n",
      "[CV]  fit_intercept=True, normalize=False, alpha=0.1, score=0.573213, total=   0.0s\n",
      "[CV] fit_intercept=True, normalize=False, alpha=0.1 ..................\n",
      "[CV]  fit_intercept=True, normalize=False, alpha=0.1, score=0.474346, total=   0.0s\n",
      "[CV] fit_intercept=False, normalize=True, alpha=0.1 ..................\n",
      "[CV]  fit_intercept=False, normalize=True, alpha=0.1, score=0.872534, total=   0.0s\n",
      "[CV] fit_intercept=False, normalize=True, alpha=0.1 ..................\n",
      "[CV]  fit_intercept=False, normalize=True, alpha=0.1, score=0.286517, total=   0.0s\n",
      "[CV] fit_intercept=False, normalize=True, alpha=0.1 ..................\n",
      "[CV]  fit_intercept=False, normalize=True, alpha=0.1, score=0.732887, total=   0.0s\n",
      "[CV] fit_intercept=False, normalize=True, alpha=0.1 ..................\n",
      "[CV]  fit_intercept=False, normalize=True, alpha=0.1, score=0.514982, total=   0.0s\n",
      "[CV] fit_intercept=False, normalize=True, alpha=0.1 ..................\n",
      "[CV]  fit_intercept=False, normalize=True, alpha=0.1, score=0.412137, total=   0.0s\n",
      "[CV] fit_intercept=False, normalize=False, alpha=0.1 .................\n",
      "[CV]  fit_intercept=False, normalize=False, alpha=0.1, score=0.872534, total=   0.0s\n",
      "[CV] fit_intercept=False, normalize=False, alpha=0.1 .................\n",
      "[CV]  fit_intercept=False, normalize=False, alpha=0.1, score=0.286517, total=   0.0s\n",
      "[CV] fit_intercept=False, normalize=False, alpha=0.1 .................\n",
      "[CV]  fit_intercept=False, normalize=False, alpha=0.1, score=0.732887, total=   0.0s\n",
      "[CV] fit_intercept=False, normalize=False, alpha=0.1 .................\n",
      "[CV]  fit_intercept=False, normalize=False, alpha=0.1, score=0.514982, total=   0.0s\n",
      "[CV] fit_intercept=False, normalize=False, alpha=0.1 .................\n",
      "[CV]  fit_intercept=False, normalize=False, alpha=0.1, score=0.412137, total=   0.0s\n",
      "[CV] fit_intercept=True, normalize=True, alpha=1.0 ...................\n",
      "[CV]  fit_intercept=True, normalize=True, alpha=1.0, score=0.862144, total=   0.0s\n",
      "[CV] fit_intercept=True, normalize=True, alpha=1.0 ...................\n",
      "[CV]  fit_intercept=True, normalize=True, alpha=1.0, score=0.370181, total=   0.0s\n",
      "[CV] fit_intercept=True, normalize=True, alpha=1.0 ...................\n",
      "[CV]  fit_intercept=True, normalize=True, alpha=1.0, score=0.722181, total=   0.0s\n",
      "[CV] fit_intercept=True, normalize=True, alpha=1.0 ...................\n",
      "[CV]  fit_intercept=True, normalize=True, alpha=1.0, score=0.554687, total=   0.0s\n",
      "[CV] fit_intercept=True, normalize=True, alpha=1.0 ...................\n",
      "[CV]  fit_intercept=True, normalize=True, alpha=1.0, score=0.473460, total=   0.0s\n",
      "[CV] fit_intercept=True, normalize=False, alpha=1.0 ..................\n",
      "[CV]  fit_intercept=True, normalize=False, alpha=1.0, score=0.878842, total=   0.0s\n",
      "[CV] fit_intercept=True, normalize=False, alpha=1.0 ..................\n",
      "[CV]  fit_intercept=True, normalize=False, alpha=1.0, score=0.410521, total=   0.0s\n",
      "[CV] fit_intercept=True, normalize=False, alpha=1.0 ..................\n",
      "[CV]  fit_intercept=True, normalize=False, alpha=1.0, score=0.746125, total=   0.0s\n",
      "[CV] fit_intercept=True, normalize=False, alpha=1.0 ..................\n",
      "[CV]  fit_intercept=True, normalize=False, alpha=1.0, score=0.546380, total=   0.0s\n",
      "[CV] fit_intercept=True, normalize=False, alpha=1.0 ..................\n",
      "[CV]  fit_intercept=True, normalize=False, alpha=1.0, score=0.462297, total=   0.0s\n",
      "[CV] fit_intercept=False, normalize=True, alpha=1.0 ..................\n",
      "[CV]  fit_intercept=False, normalize=True, alpha=1.0, score=0.859594, total=   0.0s\n",
      "[CV] fit_intercept=False, normalize=True, alpha=1.0 ..................\n",
      "[CV]  fit_intercept=False, normalize=True, alpha=1.0, score=0.350363, total=   0.0s\n",
      "[CV] fit_intercept=False, normalize=True, alpha=1.0 ..................\n",
      "[CV]  fit_intercept=False, normalize=True, alpha=1.0, score=0.718554, total=   0.0s\n",
      "[CV] fit_intercept=False, normalize=True, alpha=1.0 ..................\n",
      "[CV]  fit_intercept=False, normalize=True, alpha=1.0, score=0.518298, total=   0.0s\n",
      "[CV] fit_intercept=False, normalize=True, alpha=1.0 ..................\n",
      "[CV]  fit_intercept=False, normalize=True, alpha=1.0, score=0.435844, total=   0.0s\n",
      "[CV] fit_intercept=False, normalize=False, alpha=1.0 .................\n",
      "[CV]  fit_intercept=False, normalize=False, alpha=1.0, score=0.859594, total=   0.0s\n",
      "[CV] fit_intercept=False, normalize=False, alpha=1.0 .................\n",
      "[CV]  fit_intercept=False, normalize=False, alpha=1.0, score=0.350363, total=   0.0s\n",
      "[CV] fit_intercept=False, normalize=False, alpha=1.0 .................\n",
      "[CV]  fit_intercept=False, normalize=False, alpha=1.0, score=0.718554, total=   0.0s\n",
      "[CV] fit_intercept=False, normalize=False, alpha=1.0 .................\n",
      "[CV]  fit_intercept=False, normalize=False, alpha=1.0, score=0.518298, total=   0.0s\n",
      "[CV] fit_intercept=False, normalize=False, alpha=1.0 .................\n",
      "[CV]  fit_intercept=False, normalize=False, alpha=1.0, score=0.435844, total=   0.0s\n",
      "[CV] fit_intercept=True, normalize=True, alpha=10 ....................\n",
      "[CV]  fit_intercept=True, normalize=True, alpha=10, score=0.401930, total=   0.0s\n",
      "[CV] fit_intercept=True, normalize=True, alpha=10 ....................\n",
      "[CV]  fit_intercept=True, normalize=True, alpha=10, score=-0.174189, total=   0.0s\n",
      "[CV] fit_intercept=True, normalize=True, alpha=10 ....................\n",
      "[CV]  fit_intercept=True, normalize=True, alpha=10, score=0.303469, total=   0.0s\n",
      "[CV] fit_intercept=True, normalize=True, alpha=10 ....................\n",
      "[CV]  fit_intercept=True, normalize=True, alpha=10, score=0.154743, total=   0.0s\n",
      "[CV] fit_intercept=True, normalize=True, alpha=10 ....................\n",
      "[CV]  fit_intercept=True, normalize=True, alpha=10, score=0.224349, total=   0.0s\n",
      "[CV] fit_intercept=True, normalize=False, alpha=10 ...................\n",
      "[CV]  fit_intercept=True, normalize=False, alpha=10, score=0.623229, total=   0.0s\n",
      "[CV] fit_intercept=True, normalize=False, alpha=10 ...................\n",
      "[CV]  fit_intercept=True, normalize=False, alpha=10, score=0.091549, total=   0.0s\n",
      "[CV] fit_intercept=True, normalize=False, alpha=10 ...................\n",
      "[CV]  fit_intercept=True, normalize=False, alpha=10, score=0.486718, total=   0.0s\n",
      "[CV] fit_intercept=True, normalize=False, alpha=10 ...................\n",
      "[CV]  fit_intercept=True, normalize=False, alpha=10, score=0.362713, total=   0.0s\n",
      "[CV] fit_intercept=True, normalize=False, alpha=10 ...................\n",
      "[CV]  fit_intercept=True, normalize=False, alpha=10, score=0.368213, total=   0.0s\n",
      "[CV] fit_intercept=False, normalize=True, alpha=10 ...................\n",
      "[CV]  fit_intercept=False, normalize=True, alpha=10, score=0.825864, total=   0.0s\n",
      "[CV] fit_intercept=False, normalize=True, alpha=10 ...................\n",
      "[CV]  fit_intercept=False, normalize=True, alpha=10, score=0.253665, total=   0.0s\n",
      "[CV] fit_intercept=False, normalize=True, alpha=10 ...................\n",
      "[CV]  fit_intercept=False, normalize=True, alpha=10, score=0.661974, total=   0.0s\n",
      "[CV] fit_intercept=False, normalize=True, alpha=10 ...................\n",
      "[CV]  fit_intercept=False, normalize=True, alpha=10, score=0.552891, total=   0.0s\n",
      "[CV] fit_intercept=False, normalize=True, alpha=10 ...................\n",
      "[CV]  fit_intercept=False, normalize=True, alpha=10, score=0.473684, total=   0.0s\n",
      "[CV] fit_intercept=False, normalize=False, alpha=10 ..................\n",
      "[CV]  fit_intercept=False, normalize=False, alpha=10, score=0.825864, total=   0.0s\n",
      "[CV] fit_intercept=False, normalize=False, alpha=10 ..................\n",
      "[CV]  fit_intercept=False, normalize=False, alpha=10, score=0.253665, total=   0.0s\n",
      "[CV] fit_intercept=False, normalize=False, alpha=10 ..................\n",
      "[CV]  fit_intercept=False, normalize=False, alpha=10, score=0.661974, total=   0.0s\n",
      "[CV] fit_intercept=False, normalize=False, alpha=10 ..................\n",
      "[CV]  fit_intercept=False, normalize=False, alpha=10, score=0.552891, total=   0.0s\n",
      "[CV] fit_intercept=False, normalize=False, alpha=10 ..................\n",
      "[CV]  fit_intercept=False, normalize=False, alpha=10, score=0.473684, total=   0.0s\n",
      "[CV] fit_intercept=True, normalize=True, alpha=100 ...................\n",
      "[CV]  fit_intercept=True, normalize=True, alpha=100, score=0.028853, total=   0.0s\n",
      "[CV] fit_intercept=True, normalize=True, alpha=100 ...................\n",
      "[CV]  fit_intercept=True, normalize=True, alpha=100, score=-0.529410, total=   0.0s\n",
      "[CV] fit_intercept=True, normalize=True, alpha=100 ...................\n",
      "[CV]  fit_intercept=True, normalize=True, alpha=100, score=0.041166, total=   0.0s\n",
      "[CV] fit_intercept=True, normalize=True, alpha=100 ...................\n",
      "[CV]  fit_intercept=True, normalize=True, alpha=100, score=-0.154800, total=   0.0s\n",
      "[CV] fit_intercept=True, normalize=True, alpha=100 ...................\n",
      "[CV]  fit_intercept=True, normalize=True, alpha=100, score=0.027103, total=   0.0s\n",
      "[CV] fit_intercept=True, normalize=False, alpha=100 ..................\n",
      "[CV]  fit_intercept=True, normalize=False, alpha=100, score=0.103494, total=   0.0s\n",
      "[CV] fit_intercept=True, normalize=False, alpha=100 ..................\n",
      "[CV]  fit_intercept=True, normalize=False, alpha=100, score=-0.441938, total=   0.0s\n",
      "[CV] fit_intercept=True, normalize=False, alpha=100 ..................\n",
      "[CV]  fit_intercept=True, normalize=False, alpha=100, score=0.098271, total=   0.0s\n",
      "[CV] fit_intercept=True, normalize=False, alpha=100 ..................\n",
      "[CV]  fit_intercept=True, normalize=False, alpha=100, score=-0.079056, total=   0.0s\n",
      "[CV] fit_intercept=True, normalize=False, alpha=100 ..................\n",
      "[CV]  fit_intercept=True, normalize=False, alpha=100, score=0.083014, total=   0.0s\n",
      "[CV] fit_intercept=False, normalize=True, alpha=100 ..................\n",
      "[CV]  fit_intercept=False, normalize=True, alpha=100, score=-0.254157, total=   0.0s\n",
      "[CV] fit_intercept=False, normalize=True, alpha=100 ..................\n",
      "[CV]  fit_intercept=False, normalize=True, alpha=100, score=-2.514375, total=   0.0s\n",
      "[CV] fit_intercept=False, normalize=True, alpha=100 ..................\n",
      "[CV]  fit_intercept=False, normalize=True, alpha=100, score=-0.305701, total=   0.0s\n",
      "[CV] fit_intercept=False, normalize=True, alpha=100 ..................\n",
      "[CV]  fit_intercept=False, normalize=True, alpha=100, score=-0.172739, total=   0.0s\n",
      "[CV] fit_intercept=False, normalize=True, alpha=100 ..................\n",
      "[CV]  fit_intercept=False, normalize=True, alpha=100, score=-0.695061, total=   0.0s\n",
      "[CV] fit_intercept=False, normalize=False, alpha=100 .................\n",
      "[CV]  fit_intercept=False, normalize=False, alpha=100, score=-0.254157, total=   0.0s\n",
      "[CV] fit_intercept=False, normalize=False, alpha=100 .................\n",
      "[CV]  fit_intercept=False, normalize=False, alpha=100, score=-2.514375, total=   0.0s\n",
      "[CV] fit_intercept=False, normalize=False, alpha=100 .................\n",
      "[CV]  fit_intercept=False, normalize=False, alpha=100, score=-0.305701, total=   0.0s\n",
      "[CV] fit_intercept=False, normalize=False, alpha=100 .................\n",
      "[CV]  fit_intercept=False, normalize=False, alpha=100, score=-0.172739, total=   0.0s\n",
      "[CV] fit_intercept=False, normalize=False, alpha=100 .................\n",
      "[CV]  fit_intercept=False, normalize=False, alpha=100, score=-0.695061, total=   0.0s\n",
      "Best hyper parameters: {'fit_intercept': True, 'normalize': True, 'alpha': 0.1}\n",
      "Best score of this configuration: 0.631749870129\n",
      "max score: 0.754\n",
      "                  predicted value\ttrue value \n"
     ]
    },
    {
     "name": "stderr",
     "output_type": "stream",
     "text": [
      "[Parallel(n_jobs=1)]: Done 100 out of 100 | elapsed:    2.5s finished\n",
      "C:\\Users\\Vu Anh Vinh\\Miniconda3\\envs\\thkstat\\lib\\site-packages\\sklearn\\utils\\validation.py:395: DeprecationWarning: Passing 1d arrays as data is deprecated in 0.17 and will raise ValueError in 0.19. Reshape your data either using X.reshape(-1, 1) if your data has a single feature or X.reshape(1, -1) if it contains a single sample.\n",
      "  DeprecationWarning)\n",
      "C:\\Users\\Vu Anh Vinh\\Miniconda3\\envs\\thkstat\\lib\\site-packages\\sklearn\\utils\\validation.py:395: DeprecationWarning: Passing 1d arrays as data is deprecated in 0.17 and will raise ValueError in 0.19. Reshape your data either using X.reshape(-1, 1) if your data has a single feature or X.reshape(1, -1) if it contains a single sample.\n",
      "  DeprecationWarning)\n",
      "C:\\Users\\Vu Anh Vinh\\Miniconda3\\envs\\thkstat\\lib\\site-packages\\sklearn\\utils\\validation.py:395: DeprecationWarning: Passing 1d arrays as data is deprecated in 0.17 and will raise ValueError in 0.19. Reshape your data either using X.reshape(-1, 1) if your data has a single feature or X.reshape(1, -1) if it contains a single sample.\n",
      "  DeprecationWarning)\n",
      "C:\\Users\\Vu Anh Vinh\\Miniconda3\\envs\\thkstat\\lib\\site-packages\\sklearn\\utils\\validation.py:395: DeprecationWarning: Passing 1d arrays as data is deprecated in 0.17 and will raise ValueError in 0.19. Reshape your data either using X.reshape(-1, 1) if your data has a single feature or X.reshape(1, -1) if it contains a single sample.\n",
      "  DeprecationWarning)\n",
      "C:\\Users\\Vu Anh Vinh\\Miniconda3\\envs\\thkstat\\lib\\site-packages\\sklearn\\utils\\validation.py:395: DeprecationWarning: Passing 1d arrays as data is deprecated in 0.17 and will raise ValueError in 0.19. Reshape your data either using X.reshape(-1, 1) if your data has a single feature or X.reshape(1, -1) if it contains a single sample.\n",
      "  DeprecationWarning)\n",
      "C:\\Users\\Vu Anh Vinh\\Miniconda3\\envs\\thkstat\\lib\\site-packages\\sklearn\\utils\\validation.py:395: DeprecationWarning: Passing 1d arrays as data is deprecated in 0.17 and will raise ValueError in 0.19. Reshape your data either using X.reshape(-1, 1) if your data has a single feature or X.reshape(1, -1) if it contains a single sample.\n",
      "  DeprecationWarning)\n",
      "C:\\Users\\Vu Anh Vinh\\Miniconda3\\envs\\thkstat\\lib\\site-packages\\sklearn\\utils\\validation.py:395: DeprecationWarning: Passing 1d arrays as data is deprecated in 0.17 and will raise ValueError in 0.19. Reshape your data either using X.reshape(-1, 1) if your data has a single feature or X.reshape(1, -1) if it contains a single sample.\n",
      "  DeprecationWarning)\n",
      "C:\\Users\\Vu Anh Vinh\\Miniconda3\\envs\\thkstat\\lib\\site-packages\\sklearn\\utils\\validation.py:395: DeprecationWarning: Passing 1d arrays as data is deprecated in 0.17 and will raise ValueError in 0.19. Reshape your data either using X.reshape(-1, 1) if your data has a single feature or X.reshape(1, -1) if it contains a single sample.\n",
      "  DeprecationWarning)\n",
      "C:\\Users\\Vu Anh Vinh\\Miniconda3\\envs\\thkstat\\lib\\site-packages\\sklearn\\utils\\validation.py:395: DeprecationWarning: Passing 1d arrays as data is deprecated in 0.17 and will raise ValueError in 0.19. Reshape your data either using X.reshape(-1, 1) if your data has a single feature or X.reshape(1, -1) if it contains a single sample.\n",
      "  DeprecationWarning)\n",
      "C:\\Users\\Vu Anh Vinh\\Miniconda3\\envs\\thkstat\\lib\\site-packages\\sklearn\\utils\\validation.py:395: DeprecationWarning: Passing 1d arrays as data is deprecated in 0.17 and will raise ValueError in 0.19. Reshape your data either using X.reshape(-1, 1) if your data has a single feature or X.reshape(1, -1) if it contains a single sample.\n",
      "  DeprecationWarning)\n",
      "C:\\Users\\Vu Anh Vinh\\Miniconda3\\envs\\thkstat\\lib\\site-packages\\sklearn\\utils\\validation.py:395: DeprecationWarning: Passing 1d arrays as data is deprecated in 0.17 and will raise ValueError in 0.19. Reshape your data either using X.reshape(-1, 1) if your data has a single feature or X.reshape(1, -1) if it contains a single sample.\n",
      "  DeprecationWarning)\n",
      "C:\\Users\\Vu Anh Vinh\\Miniconda3\\envs\\thkstat\\lib\\site-packages\\sklearn\\utils\\validation.py:395: DeprecationWarning: Passing 1d arrays as data is deprecated in 0.17 and will raise ValueError in 0.19. Reshape your data either using X.reshape(-1, 1) if your data has a single feature or X.reshape(1, -1) if it contains a single sample.\n",
      "  DeprecationWarning)\n",
      "C:\\Users\\Vu Anh Vinh\\Miniconda3\\envs\\thkstat\\lib\\site-packages\\sklearn\\utils\\validation.py:395: DeprecationWarning: Passing 1d arrays as data is deprecated in 0.17 and will raise ValueError in 0.19. Reshape your data either using X.reshape(-1, 1) if your data has a single feature or X.reshape(1, -1) if it contains a single sample.\n",
      "  DeprecationWarning)\n",
      "C:\\Users\\Vu Anh Vinh\\Miniconda3\\envs\\thkstat\\lib\\site-packages\\sklearn\\utils\\validation.py:395: DeprecationWarning: Passing 1d arrays as data is deprecated in 0.17 and will raise ValueError in 0.19. Reshape your data either using X.reshape(-1, 1) if your data has a single feature or X.reshape(1, -1) if it contains a single sample.\n",
      "  DeprecationWarning)\n",
      "C:\\Users\\Vu Anh Vinh\\Miniconda3\\envs\\thkstat\\lib\\site-packages\\sklearn\\utils\\validation.py:395: DeprecationWarning: Passing 1d arrays as data is deprecated in 0.17 and will raise ValueError in 0.19. Reshape your data either using X.reshape(-1, 1) if your data has a single feature or X.reshape(1, -1) if it contains a single sample.\n",
      "  DeprecationWarning)\n",
      "C:\\Users\\Vu Anh Vinh\\Miniconda3\\envs\\thkstat\\lib\\site-packages\\sklearn\\utils\\validation.py:395: DeprecationWarning: Passing 1d arrays as data is deprecated in 0.17 and will raise ValueError in 0.19. Reshape your data either using X.reshape(-1, 1) if your data has a single feature or X.reshape(1, -1) if it contains a single sample.\n",
      "  DeprecationWarning)\n",
      "C:\\Users\\Vu Anh Vinh\\Miniconda3\\envs\\thkstat\\lib\\site-packages\\sklearn\\utils\\validation.py:395: DeprecationWarning: Passing 1d arrays as data is deprecated in 0.17 and will raise ValueError in 0.19. Reshape your data either using X.reshape(-1, 1) if your data has a single feature or X.reshape(1, -1) if it contains a single sample.\n",
      "  DeprecationWarning)\n",
      "C:\\Users\\Vu Anh Vinh\\Miniconda3\\envs\\thkstat\\lib\\site-packages\\sklearn\\utils\\validation.py:395: DeprecationWarning: Passing 1d arrays as data is deprecated in 0.17 and will raise ValueError in 0.19. Reshape your data either using X.reshape(-1, 1) if your data has a single feature or X.reshape(1, -1) if it contains a single sample.\n",
      "  DeprecationWarning)\n",
      "C:\\Users\\Vu Anh Vinh\\Miniconda3\\envs\\thkstat\\lib\\site-packages\\sklearn\\utils\\validation.py:395: DeprecationWarning: Passing 1d arrays as data is deprecated in 0.17 and will raise ValueError in 0.19. Reshape your data either using X.reshape(-1, 1) if your data has a single feature or X.reshape(1, -1) if it contains a single sample.\n",
      "  DeprecationWarning)\n",
      "C:\\Users\\Vu Anh Vinh\\Miniconda3\\envs\\thkstat\\lib\\site-packages\\sklearn\\utils\\validation.py:395: DeprecationWarning: Passing 1d arrays as data is deprecated in 0.17 and will raise ValueError in 0.19. Reshape your data either using X.reshape(-1, 1) if your data has a single feature or X.reshape(1, -1) if it contains a single sample.\n",
      "  DeprecationWarning)\n",
      "C:\\Users\\Vu Anh Vinh\\Miniconda3\\envs\\thkstat\\lib\\site-packages\\sklearn\\utils\\validation.py:395: DeprecationWarning: Passing 1d arrays as data is deprecated in 0.17 and will raise ValueError in 0.19. Reshape your data either using X.reshape(-1, 1) if your data has a single feature or X.reshape(1, -1) if it contains a single sample.\n",
      "  DeprecationWarning)\n"
     ]
    },
    {
     "name": "stdout",
     "output_type": "stream",
     "text": [
      "student  8\t\t74.291\t\t90.000\n",
      "student 13\t\t69.792\t\t58.000\n",
      "student 15\t\t64.773\t\t75.000\n",
      "student 18\t\t18.690\t\t0.000\n",
      "student 21\t\t76.471\t\t81.000\n",
      "student 25\t\t57.007\t\t36.000\n",
      "student 28\t\t56.502\t\t39.000\n",
      "student 31\t\t57.427\t\t65.000\n",
      "student 33\t\t49.612\t\t48.000\n",
      "student 36\t\t48.643\t\t43.000\n",
      "student 38\t\t39.302\t\t36.000\n",
      "student 46\t\t65.364\t\t61.000\n",
      "student 57\t\t65.929\t\t77.000\n",
      "student 59\t\t44.300\t\t39.000\n",
      "student 62\t\t20.959\t\t0.000\n",
      "student 63\t\t62.187\t\t65.000\n",
      "student 65\t\t48.544\t\t52.000\n",
      "student 70\t\t63.259\t\t66.000\n",
      "student 78\t\t47.447\t\t43.000\n",
      "student 79\t\t68.948\t\t90.000\n",
      "student 81\t\t49.562\t\t39.000\n",
      "student 85\t\t54.118\t\t54.000\n",
      "student 89\t\t45.966\t\t54.000\n",
      "Grid search for... Lasso\n",
      "Lasso(alpha=1.0, copy_X=True, fit_intercept=True, max_iter=1000,\n",
      "   normalize=False, positive=False, precompute=False, random_state=None,\n",
      "   selection='cyclic', tol=0.0001, warm_start=False)\n",
      "Fitting 5 folds for each of 8 candidates, totalling 40 fits\n",
      "[CV] normalize=True, alpha=0.1 .......................................\n",
      "[CV] ........ normalize=True, alpha=0.1, score=0.580998, total=   0.0s\n",
      "[CV] normalize=True, alpha=0.1 .......................................\n",
      "[CV] ........ normalize=True, alpha=0.1, score=0.675138, total=   0.0s\n",
      "[CV] normalize=True, alpha=0.1 .......................................\n",
      "[CV] ........ normalize=True, alpha=0.1, score=0.682805, total=   0.0s\n",
      "[CV] normalize=True, alpha=0.1 .......................................\n",
      "[CV] ........ normalize=True, alpha=0.1, score=0.626749, total=   0.0s\n",
      "[CV] normalize=True, alpha=0.1 .......................................\n",
      "[CV] ........ normalize=True, alpha=0.1, score=0.693766, total=   0.0s\n",
      "[CV] normalize=False, alpha=0.1 ......................................\n",
      "[CV] ....... normalize=False, alpha=0.1, score=0.559193, total=   0.0s\n",
      "[CV] normalize=False, alpha=0.1 ......................................\n",
      "[CV] ....... normalize=False, alpha=0.1, score=0.694588, total=   0.0s\n",
      "[CV] normalize=False, alpha=0.1 ......................................\n",
      "[CV] ....... normalize=False, alpha=0.1, score=0.702024, total=   0.0s\n",
      "[CV] normalize=False, alpha=0.1 ......................................\n",
      "[CV] ....... normalize=False, alpha=0.1, score=0.606669, total=   0.0s\n",
      "[CV] normalize=False, alpha=0.1 ......................................\n"
     ]
    },
    {
     "name": "stderr",
     "output_type": "stream",
     "text": [
      "C:\\Users\\Vu Anh Vinh\\Miniconda3\\envs\\thkstat\\lib\\site-packages\\sklearn\\utils\\validation.py:395: DeprecationWarning: Passing 1d arrays as data is deprecated in 0.17 and will raise ValueError in 0.19. Reshape your data either using X.reshape(-1, 1) if your data has a single feature or X.reshape(1, -1) if it contains a single sample.\n",
      "  DeprecationWarning)\n",
      "C:\\Users\\Vu Anh Vinh\\Miniconda3\\envs\\thkstat\\lib\\site-packages\\sklearn\\utils\\validation.py:395: DeprecationWarning: Passing 1d arrays as data is deprecated in 0.17 and will raise ValueError in 0.19. Reshape your data either using X.reshape(-1, 1) if your data has a single feature or X.reshape(1, -1) if it contains a single sample.\n",
      "  DeprecationWarning)\n",
      "[Parallel(n_jobs=1)]: Done   1 out of   1 | elapsed:    0.0s remaining:    0.0s\n",
      "[Parallel(n_jobs=1)]: Done   2 out of   2 | elapsed:    0.0s remaining:    0.0s\n",
      "[Parallel(n_jobs=1)]: Done   3 out of   3 | elapsed:    0.0s remaining:    0.0s\n"
     ]
    },
    {
     "name": "stdout",
     "output_type": "stream",
     "text": [
      "[CV] ....... normalize=False, alpha=0.1, score=0.707770, total=   0.0s\n",
      "[CV] normalize=True, alpha=1.0 .......................................\n",
      "[CV] ........ normalize=True, alpha=1.0, score=0.328406, total=   0.0s\n",
      "[CV] normalize=True, alpha=1.0 .......................................\n",
      "[CV] ........ normalize=True, alpha=1.0, score=0.431068, total=   0.0s\n",
      "[CV] normalize=True, alpha=1.0 .......................................\n",
      "[CV] ........ normalize=True, alpha=1.0, score=0.337502, total=   0.0s\n",
      "[CV] normalize=True, alpha=1.0 .......................................\n",
      "[CV] ........ normalize=True, alpha=1.0, score=0.311385, total=   0.0s\n",
      "[CV] normalize=True, alpha=1.0 .......................................\n",
      "[CV] ........ normalize=True, alpha=1.0, score=0.345946, total=   0.0s\n",
      "[CV] normalize=False, alpha=1.0 ......................................\n",
      "[CV] ....... normalize=False, alpha=1.0, score=0.375847, total=   0.0s\n",
      "[CV] normalize=False, alpha=1.0 ......................................\n",
      "[CV] ....... normalize=False, alpha=1.0, score=0.636263, total=   0.0s\n",
      "[CV] normalize=False, alpha=1.0 ......................................\n",
      "[CV] ....... normalize=False, alpha=1.0, score=0.505325, total=   0.0s\n",
      "[CV] normalize=False, alpha=1.0 ......................................\n",
      "[CV] ....... normalize=False, alpha=1.0, score=0.437317, total=   0.0s\n",
      "[CV] normalize=False, alpha=1.0 ......................................\n",
      "[CV] ....... normalize=False, alpha=1.0, score=0.582675, total=   0.0s\n",
      "[CV] normalize=True, alpha=10 ........................................\n",
      "[CV] ........ normalize=True, alpha=10, score=-0.082317, total=   0.0s\n",
      "[CV] normalize=True, alpha=10 ........................................\n",
      "[CV] ........ normalize=True, alpha=10, score=-0.009009, total=   0.0s\n",
      "[CV] normalize=True, alpha=10 ........................................\n",
      "[CV] ........ normalize=True, alpha=10, score=-0.099406, total=   0.0s\n",
      "[CV] normalize=True, alpha=10 ........................................\n",
      "[CV] ........ normalize=True, alpha=10, score=-0.042140, total=   0.0s\n",
      "[CV] normalize=True, alpha=10 ........................................\n",
      "[CV] ........ normalize=True, alpha=10, score=-0.003859, total=   0.0s\n",
      "[CV] normalize=False, alpha=10 .......................................\n",
      "[CV] ....... normalize=False, alpha=10, score=-0.082317, total=   0.0s\n",
      "[CV] normalize=False, alpha=10 .......................................\n",
      "[CV] ....... normalize=False, alpha=10, score=-0.009009, total=   0.0s\n",
      "[CV] normalize=False, alpha=10 .......................................\n",
      "[CV] ....... normalize=False, alpha=10, score=-0.099406, total=   0.0s\n",
      "[CV] normalize=False, alpha=10 .......................................\n",
      "[CV] ....... normalize=False, alpha=10, score=-0.042140, total=   0.0s\n",
      "[CV] normalize=False, alpha=10 .......................................\n",
      "[CV] ....... normalize=False, alpha=10, score=-0.003859, total=   0.0s\n",
      "[CV] normalize=True, alpha=100 .......................................\n",
      "[CV] ....... normalize=True, alpha=100, score=-0.082317, total=   0.0s\n",
      "[CV] normalize=True, alpha=100 .......................................\n",
      "[CV] ....... normalize=True, alpha=100, score=-0.009009, total=   0.0s\n",
      "[CV] normalize=True, alpha=100 .......................................\n",
      "[CV] ....... normalize=True, alpha=100, score=-0.099406, total=   0.0s\n",
      "[CV] normalize=True, alpha=100 .......................................\n",
      "[CV] ....... normalize=True, alpha=100, score=-0.042140, total=   0.0s\n",
      "[CV] normalize=True, alpha=100 .......................................\n",
      "[CV] ....... normalize=True, alpha=100, score=-0.003859, total=   0.0s\n",
      "[CV] normalize=False, alpha=100 ......................................\n",
      "[CV] ...... normalize=False, alpha=100, score=-0.082317, total=   0.0s\n",
      "[CV] normalize=False, alpha=100 ......................................\n",
      "[CV] ...... normalize=False, alpha=100, score=-0.009009, total=   0.0s\n",
      "[CV] normalize=False, alpha=100 ......................................\n",
      "[CV] ...... normalize=False, alpha=100, score=-0.099406, total=   0.0s\n",
      "[CV] normalize=False, alpha=100 ......................................\n",
      "[CV] ...... normalize=False, alpha=100, score=-0.042140, total=   0.0s\n",
      "[CV] normalize=False, alpha=100 ......................................\n",
      "[CV] ...... normalize=False, alpha=100, score=-0.003859, total=   0.0s\n",
      "Best hyper parameters: {'normalize': False, 'alpha': 0.1}\n",
      "Best score of this configuration: 0.653006582232\n",
      "max score: 0.756\n",
      "                  predicted value\ttrue value \n",
      "student  1\t\t56.493\t\t54.000\n",
      "student  2\t\t32.941\t\t38.000\n",
      "student  3\t\t64.970\t\t69.000\n",
      "student 21\t\t76.791\t\t81.000\n",
      "student 29\t\t62.840\t\t43.000\n",
      "student 30\t\t40.838\t\t36.000\n",
      "student 33\t\t49.905\t\t48.000\n",
      "student 37\t\t62.873\t\t62.000\n",
      "student 39\t\t29.603\t\t37.000\n",
      "student 42\t\t74.809\t\t66.000\n",
      "student 47\t\t50.698\t\t37.000\n",
      "student 54\t\t26.970\t\t32.000\n",
      "student 58\t\t70.156\t\t84.000\n",
      "student 59\t\t39.967\t\t39.000\n",
      "student 62\t\t13.695\t\t0.000\n",
      "student 64\t\t64.747\t\t75.000\n",
      "student 79\t\t69.836\t\t90.000\n",
      "student 80\t\t38.067\t\t35.000\n",
      "student 81\t\t49.702\t\t39.000\n",
      "student 85\t\t46.226\t\t54.000\n",
      "student 87\t\t70.173\t\t75.000\n",
      "student 88\t\t20.449\t\t33.000\n",
      "student 90\t\t56.530\t\t80.000\n"
     ]
    },
    {
     "name": "stderr",
     "output_type": "stream",
     "text": [
      "[Parallel(n_jobs=1)]: Done  40 out of  40 | elapsed:    1.0s finished\n",
      "C:\\Users\\Vu Anh Vinh\\Miniconda3\\envs\\thkstat\\lib\\site-packages\\sklearn\\utils\\validation.py:395: DeprecationWarning: Passing 1d arrays as data is deprecated in 0.17 and will raise ValueError in 0.19. Reshape your data either using X.reshape(-1, 1) if your data has a single feature or X.reshape(1, -1) if it contains a single sample.\n",
      "  DeprecationWarning)\n",
      "C:\\Users\\Vu Anh Vinh\\Miniconda3\\envs\\thkstat\\lib\\site-packages\\sklearn\\utils\\validation.py:395: DeprecationWarning: Passing 1d arrays as data is deprecated in 0.17 and will raise ValueError in 0.19. Reshape your data either using X.reshape(-1, 1) if your data has a single feature or X.reshape(1, -1) if it contains a single sample.\n",
      "  DeprecationWarning)\n",
      "C:\\Users\\Vu Anh Vinh\\Miniconda3\\envs\\thkstat\\lib\\site-packages\\sklearn\\utils\\validation.py:395: DeprecationWarning: Passing 1d arrays as data is deprecated in 0.17 and will raise ValueError in 0.19. Reshape your data either using X.reshape(-1, 1) if your data has a single feature or X.reshape(1, -1) if it contains a single sample.\n",
      "  DeprecationWarning)\n",
      "C:\\Users\\Vu Anh Vinh\\Miniconda3\\envs\\thkstat\\lib\\site-packages\\sklearn\\utils\\validation.py:395: DeprecationWarning: Passing 1d arrays as data is deprecated in 0.17 and will raise ValueError in 0.19. Reshape your data either using X.reshape(-1, 1) if your data has a single feature or X.reshape(1, -1) if it contains a single sample.\n",
      "  DeprecationWarning)\n",
      "C:\\Users\\Vu Anh Vinh\\Miniconda3\\envs\\thkstat\\lib\\site-packages\\sklearn\\utils\\validation.py:395: DeprecationWarning: Passing 1d arrays as data is deprecated in 0.17 and will raise ValueError in 0.19. Reshape your data either using X.reshape(-1, 1) if your data has a single feature or X.reshape(1, -1) if it contains a single sample.\n",
      "  DeprecationWarning)\n",
      "C:\\Users\\Vu Anh Vinh\\Miniconda3\\envs\\thkstat\\lib\\site-packages\\sklearn\\utils\\validation.py:395: DeprecationWarning: Passing 1d arrays as data is deprecated in 0.17 and will raise ValueError in 0.19. Reshape your data either using X.reshape(-1, 1) if your data has a single feature or X.reshape(1, -1) if it contains a single sample.\n",
      "  DeprecationWarning)\n",
      "C:\\Users\\Vu Anh Vinh\\Miniconda3\\envs\\thkstat\\lib\\site-packages\\sklearn\\utils\\validation.py:395: DeprecationWarning: Passing 1d arrays as data is deprecated in 0.17 and will raise ValueError in 0.19. Reshape your data either using X.reshape(-1, 1) if your data has a single feature or X.reshape(1, -1) if it contains a single sample.\n",
      "  DeprecationWarning)\n",
      "C:\\Users\\Vu Anh Vinh\\Miniconda3\\envs\\thkstat\\lib\\site-packages\\sklearn\\utils\\validation.py:395: DeprecationWarning: Passing 1d arrays as data is deprecated in 0.17 and will raise ValueError in 0.19. Reshape your data either using X.reshape(-1, 1) if your data has a single feature or X.reshape(1, -1) if it contains a single sample.\n",
      "  DeprecationWarning)\n",
      "C:\\Users\\Vu Anh Vinh\\Miniconda3\\envs\\thkstat\\lib\\site-packages\\sklearn\\utils\\validation.py:395: DeprecationWarning: Passing 1d arrays as data is deprecated in 0.17 and will raise ValueError in 0.19. Reshape your data either using X.reshape(-1, 1) if your data has a single feature or X.reshape(1, -1) if it contains a single sample.\n",
      "  DeprecationWarning)\n",
      "C:\\Users\\Vu Anh Vinh\\Miniconda3\\envs\\thkstat\\lib\\site-packages\\sklearn\\utils\\validation.py:395: DeprecationWarning: Passing 1d arrays as data is deprecated in 0.17 and will raise ValueError in 0.19. Reshape your data either using X.reshape(-1, 1) if your data has a single feature or X.reshape(1, -1) if it contains a single sample.\n",
      "  DeprecationWarning)\n",
      "C:\\Users\\Vu Anh Vinh\\Miniconda3\\envs\\thkstat\\lib\\site-packages\\sklearn\\utils\\validation.py:395: DeprecationWarning: Passing 1d arrays as data is deprecated in 0.17 and will raise ValueError in 0.19. Reshape your data either using X.reshape(-1, 1) if your data has a single feature or X.reshape(1, -1) if it contains a single sample.\n",
      "  DeprecationWarning)\n",
      "C:\\Users\\Vu Anh Vinh\\Miniconda3\\envs\\thkstat\\lib\\site-packages\\sklearn\\utils\\validation.py:395: DeprecationWarning: Passing 1d arrays as data is deprecated in 0.17 and will raise ValueError in 0.19. Reshape your data either using X.reshape(-1, 1) if your data has a single feature or X.reshape(1, -1) if it contains a single sample.\n",
      "  DeprecationWarning)\n",
      "C:\\Users\\Vu Anh Vinh\\Miniconda3\\envs\\thkstat\\lib\\site-packages\\sklearn\\utils\\validation.py:395: DeprecationWarning: Passing 1d arrays as data is deprecated in 0.17 and will raise ValueError in 0.19. Reshape your data either using X.reshape(-1, 1) if your data has a single feature or X.reshape(1, -1) if it contains a single sample.\n",
      "  DeprecationWarning)\n",
      "C:\\Users\\Vu Anh Vinh\\Miniconda3\\envs\\thkstat\\lib\\site-packages\\sklearn\\utils\\validation.py:395: DeprecationWarning: Passing 1d arrays as data is deprecated in 0.17 and will raise ValueError in 0.19. Reshape your data either using X.reshape(-1, 1) if your data has a single feature or X.reshape(1, -1) if it contains a single sample.\n",
      "  DeprecationWarning)\n",
      "C:\\Users\\Vu Anh Vinh\\Miniconda3\\envs\\thkstat\\lib\\site-packages\\sklearn\\utils\\validation.py:395: DeprecationWarning: Passing 1d arrays as data is deprecated in 0.17 and will raise ValueError in 0.19. Reshape your data either using X.reshape(-1, 1) if your data has a single feature or X.reshape(1, -1) if it contains a single sample.\n",
      "  DeprecationWarning)\n",
      "C:\\Users\\Vu Anh Vinh\\Miniconda3\\envs\\thkstat\\lib\\site-packages\\sklearn\\utils\\validation.py:395: DeprecationWarning: Passing 1d arrays as data is deprecated in 0.17 and will raise ValueError in 0.19. Reshape your data either using X.reshape(-1, 1) if your data has a single feature or X.reshape(1, -1) if it contains a single sample.\n",
      "  DeprecationWarning)\n",
      "C:\\Users\\Vu Anh Vinh\\Miniconda3\\envs\\thkstat\\lib\\site-packages\\sklearn\\utils\\validation.py:395: DeprecationWarning: Passing 1d arrays as data is deprecated in 0.17 and will raise ValueError in 0.19. Reshape your data either using X.reshape(-1, 1) if your data has a single feature or X.reshape(1, -1) if it contains a single sample.\n",
      "  DeprecationWarning)\n",
      "C:\\Users\\Vu Anh Vinh\\Miniconda3\\envs\\thkstat\\lib\\site-packages\\sklearn\\utils\\validation.py:395: DeprecationWarning: Passing 1d arrays as data is deprecated in 0.17 and will raise ValueError in 0.19. Reshape your data either using X.reshape(-1, 1) if your data has a single feature or X.reshape(1, -1) if it contains a single sample.\n",
      "  DeprecationWarning)\n",
      "C:\\Users\\Vu Anh Vinh\\Miniconda3\\envs\\thkstat\\lib\\site-packages\\sklearn\\utils\\validation.py:395: DeprecationWarning: Passing 1d arrays as data is deprecated in 0.17 and will raise ValueError in 0.19. Reshape your data either using X.reshape(-1, 1) if your data has a single feature or X.reshape(1, -1) if it contains a single sample.\n",
      "  DeprecationWarning)\n",
      "C:\\Users\\Vu Anh Vinh\\Miniconda3\\envs\\thkstat\\lib\\site-packages\\sklearn\\utils\\validation.py:395: DeprecationWarning: Passing 1d arrays as data is deprecated in 0.17 and will raise ValueError in 0.19. Reshape your data either using X.reshape(-1, 1) if your data has a single feature or X.reshape(1, -1) if it contains a single sample.\n",
      "  DeprecationWarning)\n",
      "C:\\Users\\Vu Anh Vinh\\Miniconda3\\envs\\thkstat\\lib\\site-packages\\sklearn\\utils\\validation.py:395: DeprecationWarning: Passing 1d arrays as data is deprecated in 0.17 and will raise ValueError in 0.19. Reshape your data either using X.reshape(-1, 1) if your data has a single feature or X.reshape(1, -1) if it contains a single sample.\n",
      "  DeprecationWarning)\n",
      "C:\\Users\\Vu Anh Vinh\\Miniconda3\\envs\\thkstat\\lib\\site-packages\\sklearn\\utils\\validation.py:395: DeprecationWarning: Passing 1d arrays as data is deprecated in 0.17 and will raise ValueError in 0.19. Reshape your data either using X.reshape(-1, 1) if your data has a single feature or X.reshape(1, -1) if it contains a single sample.\n",
      "  DeprecationWarning)\n",
      "C:\\Users\\Vu Anh Vinh\\Miniconda3\\envs\\thkstat\\lib\\site-packages\\sklearn\\utils\\validation.py:395: DeprecationWarning: Passing 1d arrays as data is deprecated in 0.17 and will raise ValueError in 0.19. Reshape your data either using X.reshape(-1, 1) if your data has a single feature or X.reshape(1, -1) if it contains a single sample.\n",
      "  DeprecationWarning)\n"
     ]
    },
    {
     "name": "stdout",
     "output_type": "stream",
     "text": [
      "Grid search for... Neural Network Regressor\n",
      "MLPRegressor(activation='relu', alpha=0.0001, batch_size='auto', beta_1=0.9,\n",
      "       beta_2=0.999, early_stopping=False, epsilon=1e-08,\n",
      "       hidden_layer_sizes=(100,), learning_rate='constant',\n",
      "       learning_rate_init=0.001, max_iter=200, momentum=0.9,\n",
      "       nesterovs_momentum=True, power_t=0.5, random_state=None,\n",
      "       shuffle=True, solver='adam', tol=0.0001, validation_fraction=0.1,\n",
      "       verbose=False, warm_start=False)\n",
      "Fitting 5 folds for each of 72 candidates, totalling 360 fits\n",
      "[CV] solver=lbfgs, activation=identity, alpha=0.001 ..................\n",
      "[CV]  solver=lbfgs, activation=identity, alpha=0.001, score=0.633971, total=   0.3s\n",
      "[CV] solver=lbfgs, activation=identity, alpha=0.001 ..................\n",
      "[CV]  solver=lbfgs, activation=identity, alpha=0.001, score=0.799652, total=   0.0s\n",
      "[CV] solver=lbfgs, activation=identity, alpha=0.001 ..................\n"
     ]
    },
    {
     "name": "stderr",
     "output_type": "stream",
     "text": [
      "[Parallel(n_jobs=1)]: Done   1 out of   1 | elapsed:    0.3s remaining:    0.0s\n",
      "[Parallel(n_jobs=1)]: Done   2 out of   2 | elapsed:    0.4s remaining:    0.0s\n"
     ]
    },
    {
     "name": "stdout",
     "output_type": "stream",
     "text": [
      "[CV]  solver=lbfgs, activation=identity, alpha=0.001, score=0.664885, total=   0.0s\n",
      "[CV] solver=lbfgs, activation=identity, alpha=0.001 ..................\n",
      "[CV]  solver=lbfgs, activation=identity, alpha=0.001, score=0.602636, total=   0.0s\n",
      "[CV] solver=lbfgs, activation=identity, alpha=0.001 ..................\n",
      "[CV]  solver=lbfgs, activation=identity, alpha=0.001, score=0.571559, total=   0.0s\n",
      "[CV] solver=sgd, activation=identity, alpha=0.001 ....................\n",
      "[CV]  solver=sgd, activation=identity, alpha=0.001, score=-0.348128, total=   0.0s\n",
      "[CV] solver=sgd, activation=identity, alpha=0.001 ....................\n",
      "[CV]  solver=sgd, activation=identity, alpha=0.001, score=0.380187, total=   0.0s\n",
      "[CV] solver=sgd, activation=identity, alpha=0.001 ....................\n"
     ]
    },
    {
     "name": "stderr",
     "output_type": "stream",
     "text": [
      "[Parallel(n_jobs=1)]: Done   3 out of   3 | elapsed:    0.6s remaining:    0.0s\n"
     ]
    },
    {
     "name": "stdout",
     "output_type": "stream",
     "text": [
      "[CV]  solver=sgd, activation=identity, alpha=0.001, score=-0.214105, total=   0.0s\n",
      "[CV] solver=sgd, activation=identity, alpha=0.001 ....................\n",
      "[CV]  solver=sgd, activation=identity, alpha=0.001, score=-0.109889, total=   0.0s\n",
      "[CV] solver=sgd, activation=identity, alpha=0.001 ....................\n",
      "[CV]  solver=sgd, activation=identity, alpha=0.001, score=-0.282547, total=   0.0s\n",
      "[CV] solver=adam, activation=identity, alpha=0.001 ...................\n"
     ]
    },
    {
     "name": "stderr",
     "output_type": "stream",
     "text": [
      "C:\\Users\\Vu Anh Vinh\\Miniconda3\\envs\\thkstat\\lib\\site-packages\\sklearn\\neural_network\\multilayer_perceptron.py:563: ConvergenceWarning: Stochastic Optimizer: Maximum iterations reached and the optimization hasn't converged yet.\n",
      "  % (), ConvergenceWarning)\n",
      "C:\\Users\\Vu Anh Vinh\\Miniconda3\\envs\\thkstat\\lib\\site-packages\\sklearn\\neural_network\\multilayer_perceptron.py:563: ConvergenceWarning: Stochastic Optimizer: Maximum iterations reached and the optimization hasn't converged yet.\n",
      "  % (), ConvergenceWarning)\n"
     ]
    },
    {
     "name": "stdout",
     "output_type": "stream",
     "text": [
      "[CV]  solver=adam, activation=identity, alpha=0.001, score=-0.419949, total=   0.2s\n",
      "[CV] solver=adam, activation=identity, alpha=0.001 ...................\n",
      "[CV]  solver=adam, activation=identity, alpha=0.001, score=-0.772734, total=   0.0s\n",
      "[CV] solver=adam, activation=identity, alpha=0.001 ...................\n"
     ]
    },
    {
     "name": "stderr",
     "output_type": "stream",
     "text": [
      "C:\\Users\\Vu Anh Vinh\\Miniconda3\\envs\\thkstat\\lib\\site-packages\\sklearn\\neural_network\\multilayer_perceptron.py:563: ConvergenceWarning: Stochastic Optimizer: Maximum iterations reached and the optimization hasn't converged yet.\n",
      "  % (), ConvergenceWarning)\n",
      "C:\\Users\\Vu Anh Vinh\\Miniconda3\\envs\\thkstat\\lib\\site-packages\\sklearn\\neural_network\\multilayer_perceptron.py:563: ConvergenceWarning: Stochastic Optimizer: Maximum iterations reached and the optimization hasn't converged yet.\n",
      "  % (), ConvergenceWarning)\n"
     ]
    },
    {
     "name": "stdout",
     "output_type": "stream",
     "text": [
      "[CV]  solver=adam, activation=identity, alpha=0.001, score=-0.772940, total=   0.1s\n",
      "[CV] solver=adam, activation=identity, alpha=0.001 ...................\n",
      "[CV]  solver=adam, activation=identity, alpha=0.001, score=-1.723443, total=   0.0s\n",
      "[CV] solver=adam, activation=identity, alpha=0.001 ...................\n"
     ]
    },
    {
     "name": "stderr",
     "output_type": "stream",
     "text": [
      "C:\\Users\\Vu Anh Vinh\\Miniconda3\\envs\\thkstat\\lib\\site-packages\\sklearn\\neural_network\\multilayer_perceptron.py:563: ConvergenceWarning: Stochastic Optimizer: Maximum iterations reached and the optimization hasn't converged yet.\n",
      "  % (), ConvergenceWarning)\n"
     ]
    },
    {
     "name": "stdout",
     "output_type": "stream",
     "text": [
      "[CV]  solver=adam, activation=identity, alpha=0.001, score=-1.715231, total=   0.1s\n",
      "[CV] solver=lbfgs, activation=identity, alpha=0.01 ...................\n",
      "[CV]  solver=lbfgs, activation=identity, alpha=0.01, score=0.633995, total=   0.0s\n",
      "[CV] solver=lbfgs, activation=identity, alpha=0.01 ...................\n",
      "[CV]  solver=lbfgs, activation=identity, alpha=0.01, score=0.799662, total=   0.0s\n",
      "[CV] solver=lbfgs, activation=identity, alpha=0.01 ...................\n",
      "[CV]  solver=lbfgs, activation=identity, alpha=0.01, score=0.664829, total=   0.3s\n",
      "[CV] solver=lbfgs, activation=identity, alpha=0.01 ...................\n",
      "[CV]  solver=lbfgs, activation=identity, alpha=0.01, score=0.602711, total=   0.0s\n",
      "[CV] solver=lbfgs, activation=identity, alpha=0.01 ...................\n",
      "[CV]  solver=lbfgs, activation=identity, alpha=0.01, score=0.571532, total=   0.0s\n",
      "[CV] solver=sgd, activation=identity, alpha=0.01 .....................\n",
      "[CV]  solver=sgd, activation=identity, alpha=0.01, score=-0.212429, total=   0.0s\n",
      "[CV] solver=sgd, activation=identity, alpha=0.01 .....................\n",
      "[CV]  solver=sgd, activation=identity, alpha=0.01, score=0.153491, total=   0.0s\n",
      "[CV] solver=sgd, activation=identity, alpha=0.01 .....................\n",
      "[CV]  solver=sgd, activation=identity, alpha=0.01, score=0.258250, total=   0.0s\n",
      "[CV] solver=sgd, activation=identity, alpha=0.01 .....................\n",
      "[CV]  solver=sgd, activation=identity, alpha=0.01, score=-0.006185, total=   0.0s\n",
      "[CV] solver=sgd, activation=identity, alpha=0.01 .....................\n",
      "[CV]  solver=sgd, activation=identity, alpha=0.01, score=-0.411649, total=   0.0s\n",
      "[CV] solver=adam, activation=identity, alpha=0.01 ....................\n"
     ]
    },
    {
     "name": "stderr",
     "output_type": "stream",
     "text": [
      "C:\\Users\\Vu Anh Vinh\\Miniconda3\\envs\\thkstat\\lib\\site-packages\\sklearn\\neural_network\\multilayer_perceptron.py:563: ConvergenceWarning: Stochastic Optimizer: Maximum iterations reached and the optimization hasn't converged yet.\n",
      "  % (), ConvergenceWarning)\n"
     ]
    },
    {
     "name": "stdout",
     "output_type": "stream",
     "text": [
      "[CV]  solver=adam, activation=identity, alpha=0.01, score=-0.479145, total=   0.1s\n",
      "[CV] solver=adam, activation=identity, alpha=0.01 ....................\n"
     ]
    },
    {
     "name": "stderr",
     "output_type": "stream",
     "text": [
      "C:\\Users\\Vu Anh Vinh\\Miniconda3\\envs\\thkstat\\lib\\site-packages\\sklearn\\neural_network\\multilayer_perceptron.py:563: ConvergenceWarning: Stochastic Optimizer: Maximum iterations reached and the optimization hasn't converged yet.\n",
      "  % (), ConvergenceWarning)\n",
      "C:\\Users\\Vu Anh Vinh\\Miniconda3\\envs\\thkstat\\lib\\site-packages\\sklearn\\neural_network\\multilayer_perceptron.py:563: ConvergenceWarning: Stochastic Optimizer: Maximum iterations reached and the optimization hasn't converged yet.\n",
      "  % (), ConvergenceWarning)\n"
     ]
    },
    {
     "name": "stdout",
     "output_type": "stream",
     "text": [
      "[CV]  solver=adam, activation=identity, alpha=0.01, score=-0.686634, total=   0.1s\n",
      "[CV] solver=adam, activation=identity, alpha=0.01 ....................\n",
      "[CV]  solver=adam, activation=identity, alpha=0.01, score=-0.763483, total=   0.0s\n",
      "[CV] solver=adam, activation=identity, alpha=0.01 ....................\n"
     ]
    },
    {
     "name": "stderr",
     "output_type": "stream",
     "text": [
      "C:\\Users\\Vu Anh Vinh\\Miniconda3\\envs\\thkstat\\lib\\site-packages\\sklearn\\neural_network\\multilayer_perceptron.py:563: ConvergenceWarning: Stochastic Optimizer: Maximum iterations reached and the optimization hasn't converged yet.\n",
      "  % (), ConvergenceWarning)\n",
      "C:\\Users\\Vu Anh Vinh\\Miniconda3\\envs\\thkstat\\lib\\site-packages\\sklearn\\neural_network\\multilayer_perceptron.py:563: ConvergenceWarning: Stochastic Optimizer: Maximum iterations reached and the optimization hasn't converged yet.\n",
      "  % (), ConvergenceWarning)\n"
     ]
    },
    {
     "name": "stdout",
     "output_type": "stream",
     "text": [
      "[CV]  solver=adam, activation=identity, alpha=0.01, score=-1.911917, total=   0.1s\n",
      "[CV] solver=adam, activation=identity, alpha=0.01 ....................\n",
      "[CV]  solver=adam, activation=identity, alpha=0.01, score=-1.515243, total=   0.1s\n",
      "[CV] solver=lbfgs, activation=identity, alpha=0.1 ....................\n",
      "[CV]  solver=lbfgs, activation=identity, alpha=0.1, score=0.634302, total=   0.1s\n",
      "[CV] solver=lbfgs, activation=identity, alpha=0.1 ....................\n",
      "[CV]  solver=lbfgs, activation=identity, alpha=0.1, score=0.799542, total=   0.1s\n",
      "[CV] solver=lbfgs, activation=identity, alpha=0.1 ....................\n",
      "[CV]  solver=lbfgs, activation=identity, alpha=0.1, score=0.664902, total=   0.0s\n",
      "[CV] solver=lbfgs, activation=identity, alpha=0.1 ....................\n",
      "[CV]  solver=lbfgs, activation=identity, alpha=0.1, score=0.603116, total=   0.0s\n",
      "[CV] solver=lbfgs, activation=identity, alpha=0.1 ....................\n",
      "[CV]  solver=lbfgs, activation=identity, alpha=0.1, score=0.571453, total=   0.0s\n",
      "[CV] solver=sgd, activation=identity, alpha=0.1 ......................\n",
      "[CV]  solver=sgd, activation=identity, alpha=0.1, score=0.000965, total=   0.0s\n",
      "[CV] solver=sgd, activation=identity, alpha=0.1 ......................\n",
      "[CV]  solver=sgd, activation=identity, alpha=0.1, score=0.076998, total=   0.0s\n",
      "[CV] solver=sgd, activation=identity, alpha=0.1 ......................\n",
      "[CV]  solver=sgd, activation=identity, alpha=0.1, score=-0.200141, total=   0.0s\n",
      "[CV] solver=sgd, activation=identity, alpha=0.1 ......................\n",
      "[CV]  solver=sgd, activation=identity, alpha=0.1, score=-0.092469, total=   0.0s\n",
      "[CV] solver=sgd, activation=identity, alpha=0.1 ......................\n",
      "[CV]  solver=sgd, activation=identity, alpha=0.1, score=-0.166379, total=   0.0s\n",
      "[CV] solver=adam, activation=identity, alpha=0.1 .....................\n",
      "[CV]  solver=adam, activation=identity, alpha=0.1, score=-0.362270, total=   0.0s\n",
      "[CV] solver=adam, activation=identity, alpha=0.1 .....................\n"
     ]
    },
    {
     "name": "stderr",
     "output_type": "stream",
     "text": [
      "C:\\Users\\Vu Anh Vinh\\Miniconda3\\envs\\thkstat\\lib\\site-packages\\sklearn\\neural_network\\multilayer_perceptron.py:563: ConvergenceWarning: Stochastic Optimizer: Maximum iterations reached and the optimization hasn't converged yet.\n",
      "  % (), ConvergenceWarning)\n",
      "C:\\Users\\Vu Anh Vinh\\Miniconda3\\envs\\thkstat\\lib\\site-packages\\sklearn\\neural_network\\multilayer_perceptron.py:563: ConvergenceWarning: Stochastic Optimizer: Maximum iterations reached and the optimization hasn't converged yet.\n",
      "  % (), ConvergenceWarning)\n"
     ]
    },
    {
     "name": "stdout",
     "output_type": "stream",
     "text": [
      "[CV]  solver=adam, activation=identity, alpha=0.1, score=-0.760261, total=   0.0s\n",
      "[CV] solver=adam, activation=identity, alpha=0.1 .....................\n",
      "[CV]  solver=adam, activation=identity, alpha=0.1, score=-1.281806, total=   0.0s\n",
      "[CV] solver=adam, activation=identity, alpha=0.1 .....................\n"
     ]
    },
    {
     "name": "stderr",
     "output_type": "stream",
     "text": [
      "C:\\Users\\Vu Anh Vinh\\Miniconda3\\envs\\thkstat\\lib\\site-packages\\sklearn\\neural_network\\multilayer_perceptron.py:563: ConvergenceWarning: Stochastic Optimizer: Maximum iterations reached and the optimization hasn't converged yet.\n",
      "  % (), ConvergenceWarning)\n",
      "C:\\Users\\Vu Anh Vinh\\Miniconda3\\envs\\thkstat\\lib\\site-packages\\sklearn\\neural_network\\multilayer_perceptron.py:563: ConvergenceWarning: Stochastic Optimizer: Maximum iterations reached and the optimization hasn't converged yet.\n",
      "  % (), ConvergenceWarning)\n"
     ]
    },
    {
     "name": "stdout",
     "output_type": "stream",
     "text": [
      "[CV]  solver=adam, activation=identity, alpha=0.1, score=-1.968353, total=   0.0s\n",
      "[CV] solver=adam, activation=identity, alpha=0.1 .....................\n"
     ]
    },
    {
     "name": "stderr",
     "output_type": "stream",
     "text": [
      "C:\\Users\\Vu Anh Vinh\\Miniconda3\\envs\\thkstat\\lib\\site-packages\\sklearn\\neural_network\\multilayer_perceptron.py:563: ConvergenceWarning: Stochastic Optimizer: Maximum iterations reached and the optimization hasn't converged yet.\n",
      "  % (), ConvergenceWarning)\n"
     ]
    },
    {
     "name": "stdout",
     "output_type": "stream",
     "text": [
      "[CV]  solver=adam, activation=identity, alpha=0.1, score=-1.878679, total=   0.5s\n",
      "[CV] solver=lbfgs, activation=identity, alpha=1.0 ....................\n",
      "[CV]  solver=lbfgs, activation=identity, alpha=1.0, score=0.636703, total=   0.0s\n",
      "[CV] solver=lbfgs, activation=identity, alpha=1.0 ....................\n",
      "[CV]  solver=lbfgs, activation=identity, alpha=1.0, score=0.798553, total=   0.0s\n",
      "[CV] solver=lbfgs, activation=identity, alpha=1.0 ....................\n",
      "[CV]  solver=lbfgs, activation=identity, alpha=1.0, score=0.665113, total=   0.0s\n",
      "[CV] solver=lbfgs, activation=identity, alpha=1.0 ....................\n",
      "[CV]  solver=lbfgs, activation=identity, alpha=1.0, score=0.608744, total=   0.0s\n",
      "[CV] solver=lbfgs, activation=identity, alpha=1.0 ....................\n",
      "[CV]  solver=lbfgs, activation=identity, alpha=1.0, score=0.569495, total=   0.0s\n",
      "[CV] solver=sgd, activation=identity, alpha=1.0 ......................\n",
      "[CV]  solver=sgd, activation=identity, alpha=1.0, score=-0.305870, total=   0.0s\n",
      "[CV] solver=sgd, activation=identity, alpha=1.0 ......................\n",
      "[CV]  solver=sgd, activation=identity, alpha=1.0, score=0.089796, total=   0.0s\n",
      "[CV] solver=sgd, activation=identity, alpha=1.0 ......................\n",
      "[CV]  solver=sgd, activation=identity, alpha=1.0, score=-0.119405, total=   0.0s\n",
      "[CV] solver=sgd, activation=identity, alpha=1.0 ......................\n",
      "[CV]  solver=sgd, activation=identity, alpha=1.0, score=0.254481, total=   0.0s\n",
      "[CV] solver=sgd, activation=identity, alpha=1.0 ......................\n",
      "[CV]  solver=sgd, activation=identity, alpha=1.0, score=0.016920, total=   0.0s\n",
      "[CV] solver=adam, activation=identity, alpha=1.0 .....................\n"
     ]
    },
    {
     "name": "stderr",
     "output_type": "stream",
     "text": [
      "C:\\Users\\Vu Anh Vinh\\Miniconda3\\envs\\thkstat\\lib\\site-packages\\sklearn\\neural_network\\multilayer_perceptron.py:563: ConvergenceWarning: Stochastic Optimizer: Maximum iterations reached and the optimization hasn't converged yet.\n",
      "  % (), ConvergenceWarning)\n"
     ]
    },
    {
     "name": "stdout",
     "output_type": "stream",
     "text": [
      "[CV]  solver=adam, activation=identity, alpha=1.0, score=-0.515861, total=   0.1s\n",
      "[CV] solver=adam, activation=identity, alpha=1.0 .....................\n"
     ]
    },
    {
     "name": "stderr",
     "output_type": "stream",
     "text": [
      "C:\\Users\\Vu Anh Vinh\\Miniconda3\\envs\\thkstat\\lib\\site-packages\\sklearn\\neural_network\\multilayer_perceptron.py:563: ConvergenceWarning: Stochastic Optimizer: Maximum iterations reached and the optimization hasn't converged yet.\n",
      "  % (), ConvergenceWarning)\n",
      "C:\\Users\\Vu Anh Vinh\\Miniconda3\\envs\\thkstat\\lib\\site-packages\\sklearn\\neural_network\\multilayer_perceptron.py:563: ConvergenceWarning: Stochastic Optimizer: Maximum iterations reached and the optimization hasn't converged yet.\n",
      "  % (), ConvergenceWarning)\n"
     ]
    },
    {
     "name": "stdout",
     "output_type": "stream",
     "text": [
      "[CV]  solver=adam, activation=identity, alpha=1.0, score=-0.888901, total=   0.1s\n",
      "[CV] solver=adam, activation=identity, alpha=1.0 .....................\n",
      "[CV]  solver=adam, activation=identity, alpha=1.0, score=-0.896511, total=   0.0s\n",
      "[CV] solver=adam, activation=identity, alpha=1.0 .....................\n"
     ]
    },
    {
     "name": "stderr",
     "output_type": "stream",
     "text": [
      "C:\\Users\\Vu Anh Vinh\\Miniconda3\\envs\\thkstat\\lib\\site-packages\\sklearn\\neural_network\\multilayer_perceptron.py:563: ConvergenceWarning: Stochastic Optimizer: Maximum iterations reached and the optimization hasn't converged yet.\n",
      "  % (), ConvergenceWarning)\n",
      "C:\\Users\\Vu Anh Vinh\\Miniconda3\\envs\\thkstat\\lib\\site-packages\\sklearn\\neural_network\\multilayer_perceptron.py:563: ConvergenceWarning: Stochastic Optimizer: Maximum iterations reached and the optimization hasn't converged yet.\n",
      "  % (), ConvergenceWarning)\n"
     ]
    },
    {
     "name": "stdout",
     "output_type": "stream",
     "text": [
      "[CV]  solver=adam, activation=identity, alpha=1.0, score=-1.480552, total=   0.0s\n",
      "[CV] solver=adam, activation=identity, alpha=1.0 .....................\n",
      "[CV]  solver=adam, activation=identity, alpha=1.0, score=-1.615503, total=   0.0s\n",
      "[CV] solver=lbfgs, activation=identity, alpha=10 .....................\n",
      "[CV]  solver=lbfgs, activation=identity, alpha=10, score=0.655422, total=   0.0s\n",
      "[CV] solver=lbfgs, activation=identity, alpha=10 .....................\n",
      "[CV]  solver=lbfgs, activation=identity, alpha=10, score=0.786434, total=   0.0s\n",
      "[CV] solver=lbfgs, activation=identity, alpha=10 .....................\n",
      "[CV]  solver=lbfgs, activation=identity, alpha=10, score=0.666135, total=   0.0s\n",
      "[CV] solver=lbfgs, activation=identity, alpha=10 .....................\n",
      "[CV]  solver=lbfgs, activation=identity, alpha=10, score=0.649086, total=   0.0s\n",
      "[CV] solver=lbfgs, activation=identity, alpha=10 .....................\n",
      "[CV]  solver=lbfgs, activation=identity, alpha=10, score=0.550086, total=   0.0s\n",
      "[CV] solver=sgd, activation=identity, alpha=10 .......................\n",
      "[CV]  solver=sgd, activation=identity, alpha=10, score=-0.151509, total=   0.0s\n",
      "[CV] solver=sgd, activation=identity, alpha=10 .......................\n",
      "[CV]  solver=sgd, activation=identity, alpha=10, score=0.221553, total=   0.0s\n",
      "[CV] solver=sgd, activation=identity, alpha=10 .......................\n",
      "[CV]  solver=sgd, activation=identity, alpha=10, score=0.081842, total=   0.0s\n",
      "[CV] solver=sgd, activation=identity, alpha=10 .......................\n",
      "[CV]  solver=sgd, activation=identity, alpha=10, score=0.455057, total=   0.0s\n",
      "[CV] solver=sgd, activation=identity, alpha=10 .......................\n",
      "[CV]  solver=sgd, activation=identity, alpha=10, score=0.055246, total=   0.0s\n",
      "[CV] solver=adam, activation=identity, alpha=10 ......................\n"
     ]
    },
    {
     "name": "stderr",
     "output_type": "stream",
     "text": [
      "C:\\Users\\Vu Anh Vinh\\Miniconda3\\envs\\thkstat\\lib\\site-packages\\sklearn\\neural_network\\multilayer_perceptron.py:563: ConvergenceWarning: Stochastic Optimizer: Maximum iterations reached and the optimization hasn't converged yet.\n",
      "  % (), ConvergenceWarning)\n",
      "C:\\Users\\Vu Anh Vinh\\Miniconda3\\envs\\thkstat\\lib\\site-packages\\sklearn\\neural_network\\multilayer_perceptron.py:563: ConvergenceWarning: Stochastic Optimizer: Maximum iterations reached and the optimization hasn't converged yet.\n",
      "  % (), ConvergenceWarning)\n"
     ]
    },
    {
     "name": "stdout",
     "output_type": "stream",
     "text": [
      "[CV]  solver=adam, activation=identity, alpha=10, score=-0.484184, total=   0.0s\n",
      "[CV] solver=adam, activation=identity, alpha=10 ......................\n",
      "[CV]  solver=adam, activation=identity, alpha=10, score=-0.888415, total=   0.0s\n",
      "[CV] solver=adam, activation=identity, alpha=10 ......................\n"
     ]
    },
    {
     "name": "stderr",
     "output_type": "stream",
     "text": [
      "C:\\Users\\Vu Anh Vinh\\Miniconda3\\envs\\thkstat\\lib\\site-packages\\sklearn\\neural_network\\multilayer_perceptron.py:563: ConvergenceWarning: Stochastic Optimizer: Maximum iterations reached and the optimization hasn't converged yet.\n",
      "  % (), ConvergenceWarning)\n",
      "C:\\Users\\Vu Anh Vinh\\Miniconda3\\envs\\thkstat\\lib\\site-packages\\sklearn\\neural_network\\multilayer_perceptron.py:563: ConvergenceWarning: Stochastic Optimizer: Maximum iterations reached and the optimization hasn't converged yet.\n",
      "  % (), ConvergenceWarning)\n"
     ]
    },
    {
     "name": "stdout",
     "output_type": "stream",
     "text": [
      "[CV]  solver=adam, activation=identity, alpha=10, score=-0.818103, total=   0.0s\n",
      "[CV] solver=adam, activation=identity, alpha=10 ......................\n",
      "[CV]  solver=adam, activation=identity, alpha=10, score=-2.366386, total=   0.0s\n",
      "[CV] solver=adam, activation=identity, alpha=10 ......................\n"
     ]
    },
    {
     "name": "stderr",
     "output_type": "stream",
     "text": [
      "C:\\Users\\Vu Anh Vinh\\Miniconda3\\envs\\thkstat\\lib\\site-packages\\sklearn\\neural_network\\multilayer_perceptron.py:563: ConvergenceWarning: Stochastic Optimizer: Maximum iterations reached and the optimization hasn't converged yet.\n",
      "  % (), ConvergenceWarning)\n"
     ]
    },
    {
     "name": "stdout",
     "output_type": "stream",
     "text": [
      "[CV]  solver=adam, activation=identity, alpha=10, score=-1.938886, total=   0.0s\n",
      "[CV] solver=lbfgs, activation=identity, alpha=100 ....................\n",
      "[CV]  solver=lbfgs, activation=identity, alpha=100, score=0.612814, total=   0.0s\n",
      "[CV] solver=lbfgs, activation=identity, alpha=100 ....................\n",
      "[CV]  solver=lbfgs, activation=identity, alpha=100, score=0.658060, total=   0.0s\n",
      "[CV] solver=lbfgs, activation=identity, alpha=100 ....................\n",
      "[CV]  solver=lbfgs, activation=identity, alpha=100, score=0.633657, total=   0.0s\n",
      "[CV] solver=lbfgs, activation=identity, alpha=100 ....................\n",
      "[CV]  solver=lbfgs, activation=identity, alpha=100, score=0.697308, total=   0.0s\n",
      "[CV] solver=lbfgs, activation=identity, alpha=100 ....................\n",
      "[CV]  solver=lbfgs, activation=identity, alpha=100, score=0.452918, total=   0.0s\n",
      "[CV] solver=sgd, activation=identity, alpha=100 ......................\n",
      "[CV]  solver=sgd, activation=identity, alpha=100, score=-0.328021, total=   0.0s\n",
      "[CV] solver=sgd, activation=identity, alpha=100 ......................\n",
      "[CV]  solver=sgd, activation=identity, alpha=100, score=0.155629, total=   0.0s\n",
      "[CV] solver=sgd, activation=identity, alpha=100 ......................\n",
      "[CV]  solver=sgd, activation=identity, alpha=100, score=-0.185820, total=   0.0s\n",
      "[CV] solver=sgd, activation=identity, alpha=100 ......................\n",
      "[CV]  solver=sgd, activation=identity, alpha=100, score=0.038856, total=   0.0s\n",
      "[CV] solver=sgd, activation=identity, alpha=100 ......................\n",
      "[CV]  solver=sgd, activation=identity, alpha=100, score=-0.113192, total=   0.0s\n",
      "[CV] solver=adam, activation=identity, alpha=100 .....................\n"
     ]
    },
    {
     "name": "stderr",
     "output_type": "stream",
     "text": [
      "C:\\Users\\Vu Anh Vinh\\Miniconda3\\envs\\thkstat\\lib\\site-packages\\sklearn\\neural_network\\multilayer_perceptron.py:563: ConvergenceWarning: Stochastic Optimizer: Maximum iterations reached and the optimization hasn't converged yet.\n",
      "  % (), ConvergenceWarning)\n",
      "C:\\Users\\Vu Anh Vinh\\Miniconda3\\envs\\thkstat\\lib\\site-packages\\sklearn\\neural_network\\multilayer_perceptron.py:563: ConvergenceWarning: Stochastic Optimizer: Maximum iterations reached and the optimization hasn't converged yet.\n",
      "  % (), ConvergenceWarning)\n"
     ]
    },
    {
     "name": "stdout",
     "output_type": "stream",
     "text": [
      "[CV]  solver=adam, activation=identity, alpha=100, score=-0.421264, total=   0.0s\n",
      "[CV] solver=adam, activation=identity, alpha=100 .....................\n",
      "[CV]  solver=adam, activation=identity, alpha=100, score=-0.795751, total=   0.1s\n",
      "[CV] solver=adam, activation=identity, alpha=100 .....................\n"
     ]
    },
    {
     "name": "stderr",
     "output_type": "stream",
     "text": [
      "C:\\Users\\Vu Anh Vinh\\Miniconda3\\envs\\thkstat\\lib\\site-packages\\sklearn\\neural_network\\multilayer_perceptron.py:563: ConvergenceWarning: Stochastic Optimizer: Maximum iterations reached and the optimization hasn't converged yet.\n",
      "  % (), ConvergenceWarning)\n",
      "C:\\Users\\Vu Anh Vinh\\Miniconda3\\envs\\thkstat\\lib\\site-packages\\sklearn\\neural_network\\multilayer_perceptron.py:563: ConvergenceWarning: Stochastic Optimizer: Maximum iterations reached and the optimization hasn't converged yet.\n",
      "  % (), ConvergenceWarning)\n"
     ]
    },
    {
     "name": "stdout",
     "output_type": "stream",
     "text": [
      "[CV]  solver=adam, activation=identity, alpha=100, score=-0.857010, total=   0.0s\n",
      "[CV] solver=adam, activation=identity, alpha=100 .....................\n",
      "[CV]  solver=adam, activation=identity, alpha=100, score=-1.756242, total=   0.0s\n",
      "[CV] solver=adam, activation=identity, alpha=100 .....................\n"
     ]
    },
    {
     "name": "stderr",
     "output_type": "stream",
     "text": [
      "C:\\Users\\Vu Anh Vinh\\Miniconda3\\envs\\thkstat\\lib\\site-packages\\sklearn\\neural_network\\multilayer_perceptron.py:563: ConvergenceWarning: Stochastic Optimizer: Maximum iterations reached and the optimization hasn't converged yet.\n",
      "  % (), ConvergenceWarning)\n"
     ]
    },
    {
     "name": "stdout",
     "output_type": "stream",
     "text": [
      "[CV]  solver=adam, activation=identity, alpha=100, score=-1.530034, total=   0.0s\n",
      "[CV] solver=lbfgs, activation=logistic, alpha=0.001 ..................\n",
      "[CV]  solver=lbfgs, activation=logistic, alpha=0.001, score=-0.239707, total=   0.1s\n",
      "[CV] solver=lbfgs, activation=logistic, alpha=0.001 ..................\n",
      "[CV]  solver=lbfgs, activation=logistic, alpha=0.001, score=0.666178, total=   0.0s\n",
      "[CV] solver=lbfgs, activation=logistic, alpha=0.001 ..................\n",
      "[CV]  solver=lbfgs, activation=logistic, alpha=0.001, score=0.411035, total=   0.0s\n",
      "[CV] solver=lbfgs, activation=logistic, alpha=0.001 ..................\n",
      "[CV]  solver=lbfgs, activation=logistic, alpha=0.001, score=0.385453, total=   0.0s\n",
      "[CV] solver=lbfgs, activation=logistic, alpha=0.001 ..................\n",
      "[CV]  solver=lbfgs, activation=logistic, alpha=0.001, score=0.144697, total=   0.0s\n",
      "[CV] solver=sgd, activation=logistic, alpha=0.001 ....................\n",
      "[CV]  solver=sgd, activation=logistic, alpha=0.001, score=-1.545146, total=   0.0s\n",
      "[CV] solver=sgd, activation=logistic, alpha=0.001 ....................\n",
      "[CV]  solver=sgd, activation=logistic, alpha=0.001, score=-0.777810, total=   0.0s\n",
      "[CV] solver=sgd, activation=logistic, alpha=0.001 ....................\n",
      "[CV]  solver=sgd, activation=logistic, alpha=0.001, score=-0.517422, total=   0.0s\n",
      "[CV] solver=sgd, activation=logistic, alpha=0.001 ....................\n",
      "[CV]  solver=sgd, activation=logistic, alpha=0.001, score=-0.382439, total=   0.0s\n",
      "[CV] solver=sgd, activation=logistic, alpha=0.001 ....................\n",
      "[CV]  solver=sgd, activation=logistic, alpha=0.001, score=-0.318937, total=   0.0s\n",
      "[CV] solver=adam, activation=logistic, alpha=0.001 ...................\n",
      "[CV]  solver=adam, activation=logistic, alpha=0.001, score=-3.276447, total=   0.0s\n",
      "[CV] solver=adam, activation=logistic, alpha=0.001 ...................\n"
     ]
    },
    {
     "name": "stderr",
     "output_type": "stream",
     "text": [
      "C:\\Users\\Vu Anh Vinh\\Miniconda3\\envs\\thkstat\\lib\\site-packages\\sklearn\\neural_network\\multilayer_perceptron.py:563: ConvergenceWarning: Stochastic Optimizer: Maximum iterations reached and the optimization hasn't converged yet.\n",
      "  % (), ConvergenceWarning)\n",
      "C:\\Users\\Vu Anh Vinh\\Miniconda3\\envs\\thkstat\\lib\\site-packages\\sklearn\\neural_network\\multilayer_perceptron.py:563: ConvergenceWarning: Stochastic Optimizer: Maximum iterations reached and the optimization hasn't converged yet.\n",
      "  % (), ConvergenceWarning)\n"
     ]
    },
    {
     "name": "stdout",
     "output_type": "stream",
     "text": [
      "[CV]  solver=adam, activation=logistic, alpha=0.001, score=-4.018783, total=   0.0s\n",
      "[CV] solver=adam, activation=logistic, alpha=0.001 ...................\n",
      "[CV]  solver=adam, activation=logistic, alpha=0.001, score=-4.523462, total=   0.0s\n",
      "[CV] solver=adam, activation=logistic, alpha=0.001 ...................\n"
     ]
    },
    {
     "name": "stderr",
     "output_type": "stream",
     "text": [
      "C:\\Users\\Vu Anh Vinh\\Miniconda3\\envs\\thkstat\\lib\\site-packages\\sklearn\\neural_network\\multilayer_perceptron.py:563: ConvergenceWarning: Stochastic Optimizer: Maximum iterations reached and the optimization hasn't converged yet.\n",
      "  % (), ConvergenceWarning)\n",
      "C:\\Users\\Vu Anh Vinh\\Miniconda3\\envs\\thkstat\\lib\\site-packages\\sklearn\\neural_network\\multilayer_perceptron.py:563: ConvergenceWarning: Stochastic Optimizer: Maximum iterations reached and the optimization hasn't converged yet.\n",
      "  % (), ConvergenceWarning)\n"
     ]
    },
    {
     "name": "stdout",
     "output_type": "stream",
     "text": [
      "[CV]  solver=adam, activation=logistic, alpha=0.001, score=-7.341496, total=   0.0s\n",
      "[CV] solver=adam, activation=logistic, alpha=0.001 ...................\n",
      "[CV]  solver=adam, activation=logistic, alpha=0.001, score=-6.619254, total=   0.0s\n",
      "[CV] solver=lbfgs, activation=logistic, alpha=0.01 ...................\n"
     ]
    },
    {
     "name": "stderr",
     "output_type": "stream",
     "text": [
      "C:\\Users\\Vu Anh Vinh\\Miniconda3\\envs\\thkstat\\lib\\site-packages\\sklearn\\neural_network\\multilayer_perceptron.py:563: ConvergenceWarning: Stochastic Optimizer: Maximum iterations reached and the optimization hasn't converged yet.\n",
      "  % (), ConvergenceWarning)\n"
     ]
    },
    {
     "name": "stdout",
     "output_type": "stream",
     "text": [
      "[CV]  solver=lbfgs, activation=logistic, alpha=0.01, score=0.377949, total=   0.0s\n",
      "[CV] solver=lbfgs, activation=logistic, alpha=0.01 ...................\n",
      "[CV]  solver=lbfgs, activation=logistic, alpha=0.01, score=0.760285, total=   0.0s\n",
      "[CV] solver=lbfgs, activation=logistic, alpha=0.01 ...................\n",
      "[CV]  solver=lbfgs, activation=logistic, alpha=0.01, score=0.522612, total=   0.0s\n",
      "[CV] solver=lbfgs, activation=logistic, alpha=0.01 ...................\n",
      "[CV]  solver=lbfgs, activation=logistic, alpha=0.01, score=0.471914, total=   0.0s\n",
      "[CV] solver=lbfgs, activation=logistic, alpha=0.01 ...................\n",
      "[CV]  solver=lbfgs, activation=logistic, alpha=0.01, score=0.349997, total=   0.0s\n",
      "[CV] solver=sgd, activation=logistic, alpha=0.01 .....................\n",
      "[CV]  solver=sgd, activation=logistic, alpha=0.01, score=-1.530307, total=   0.0s\n",
      "[CV] solver=sgd, activation=logistic, alpha=0.01 .....................\n",
      "[CV]  solver=sgd, activation=logistic, alpha=0.01, score=-0.755598, total=   0.0s\n",
      "[CV] solver=sgd, activation=logistic, alpha=0.01 .....................\n",
      "[CV]  solver=sgd, activation=logistic, alpha=0.01, score=-0.524777, total=   0.0s\n",
      "[CV] solver=sgd, activation=logistic, alpha=0.01 .....................\n",
      "[CV]  solver=sgd, activation=logistic, alpha=0.01, score=-0.399562, total=   0.0s\n",
      "[CV] solver=sgd, activation=logistic, alpha=0.01 .....................\n",
      "[CV]  solver=sgd, activation=logistic, alpha=0.01, score=-0.313260, total=   0.0s\n",
      "[CV] solver=adam, activation=logistic, alpha=0.01 ....................\n"
     ]
    },
    {
     "name": "stderr",
     "output_type": "stream",
     "text": [
      "C:\\Users\\Vu Anh Vinh\\Miniconda3\\envs\\thkstat\\lib\\site-packages\\sklearn\\neural_network\\multilayer_perceptron.py:563: ConvergenceWarning: Stochastic Optimizer: Maximum iterations reached and the optimization hasn't converged yet.\n",
      "  % (), ConvergenceWarning)\n"
     ]
    },
    {
     "name": "stdout",
     "output_type": "stream",
     "text": [
      "[CV]  solver=adam, activation=logistic, alpha=0.01, score=-3.339466, total=   0.0s\n",
      "[CV] solver=adam, activation=logistic, alpha=0.01 ....................\n"
     ]
    },
    {
     "name": "stderr",
     "output_type": "stream",
     "text": [
      "C:\\Users\\Vu Anh Vinh\\Miniconda3\\envs\\thkstat\\lib\\site-packages\\sklearn\\neural_network\\multilayer_perceptron.py:563: ConvergenceWarning: Stochastic Optimizer: Maximum iterations reached and the optimization hasn't converged yet.\n",
      "  % (), ConvergenceWarning)\n",
      "C:\\Users\\Vu Anh Vinh\\Miniconda3\\envs\\thkstat\\lib\\site-packages\\sklearn\\neural_network\\multilayer_perceptron.py:563: ConvergenceWarning: Stochastic Optimizer: Maximum iterations reached and the optimization hasn't converged yet.\n",
      "  % (), ConvergenceWarning)\n"
     ]
    },
    {
     "name": "stdout",
     "output_type": "stream",
     "text": [
      "[CV]  solver=adam, activation=logistic, alpha=0.01, score=-3.703492, total=   0.1s\n",
      "[CV] solver=adam, activation=logistic, alpha=0.01 ....................\n",
      "[CV]  solver=adam, activation=logistic, alpha=0.01, score=-4.786549, total=   0.1s\n",
      "[CV] solver=adam, activation=logistic, alpha=0.01 ....................\n"
     ]
    },
    {
     "name": "stderr",
     "output_type": "stream",
     "text": [
      "C:\\Users\\Vu Anh Vinh\\Miniconda3\\envs\\thkstat\\lib\\site-packages\\sklearn\\neural_network\\multilayer_perceptron.py:563: ConvergenceWarning: Stochastic Optimizer: Maximum iterations reached and the optimization hasn't converged yet.\n",
      "  % (), ConvergenceWarning)\n",
      "C:\\Users\\Vu Anh Vinh\\Miniconda3\\envs\\thkstat\\lib\\site-packages\\sklearn\\neural_network\\multilayer_perceptron.py:563: ConvergenceWarning: Stochastic Optimizer: Maximum iterations reached and the optimization hasn't converged yet.\n",
      "  % (), ConvergenceWarning)\n"
     ]
    },
    {
     "name": "stdout",
     "output_type": "stream",
     "text": [
      "[CV]  solver=adam, activation=logistic, alpha=0.01, score=-7.167470, total=   0.0s\n",
      "[CV] solver=adam, activation=logistic, alpha=0.01 ....................\n",
      "[CV]  solver=adam, activation=logistic, alpha=0.01, score=-6.219556, total=   0.0s\n",
      "[CV] solver=lbfgs, activation=logistic, alpha=0.1 ....................\n",
      "[CV]  solver=lbfgs, activation=logistic, alpha=0.1, score=0.666629, total=   0.0s\n",
      "[CV] solver=lbfgs, activation=logistic, alpha=0.1 ....................\n",
      "[CV]  solver=lbfgs, activation=logistic, alpha=0.1, score=0.830235, total=   0.0s\n",
      "[CV] solver=lbfgs, activation=logistic, alpha=0.1 ....................\n",
      "[CV]  solver=lbfgs, activation=logistic, alpha=0.1, score=0.606981, total=   0.0s\n",
      "[CV] solver=lbfgs, activation=logistic, alpha=0.1 ....................\n",
      "[CV]  solver=lbfgs, activation=logistic, alpha=0.1, score=0.438293, total=   0.0s\n",
      "[CV] solver=lbfgs, activation=logistic, alpha=0.1 ....................\n",
      "[CV]  solver=lbfgs, activation=logistic, alpha=0.1, score=0.334120, total=   0.0s\n",
      "[CV] solver=sgd, activation=logistic, alpha=0.1 ......................\n",
      "[CV]  solver=sgd, activation=logistic, alpha=0.1, score=-1.525525, total=   0.0s\n",
      "[CV] solver=sgd, activation=logistic, alpha=0.1 ......................\n",
      "[CV]  solver=sgd, activation=logistic, alpha=0.1, score=-0.764208, total=   0.0s\n",
      "[CV] solver=sgd, activation=logistic, alpha=0.1 ......................\n",
      "[CV]  solver=sgd, activation=logistic, alpha=0.1, score=-0.514581, total=   0.0s\n",
      "[CV] solver=sgd, activation=logistic, alpha=0.1 ......................\n",
      "[CV]  solver=sgd, activation=logistic, alpha=0.1, score=-0.402814, total=   0.0s\n",
      "[CV] solver=sgd, activation=logistic, alpha=0.1 ......................\n",
      "[CV]  solver=sgd, activation=logistic, alpha=0.1, score=-0.299032, total=   0.0s\n",
      "[CV] solver=adam, activation=logistic, alpha=0.1 .....................\n",
      "[CV]  solver=adam, activation=logistic, alpha=0.1, score=-2.836428, total=   0.0s\n",
      "[CV] solver=adam, activation=logistic, alpha=0.1 .....................\n"
     ]
    },
    {
     "name": "stderr",
     "output_type": "stream",
     "text": [
      "C:\\Users\\Vu Anh Vinh\\Miniconda3\\envs\\thkstat\\lib\\site-packages\\sklearn\\neural_network\\multilayer_perceptron.py:563: ConvergenceWarning: Stochastic Optimizer: Maximum iterations reached and the optimization hasn't converged yet.\n",
      "  % (), ConvergenceWarning)\n",
      "C:\\Users\\Vu Anh Vinh\\Miniconda3\\envs\\thkstat\\lib\\site-packages\\sklearn\\neural_network\\multilayer_perceptron.py:563: ConvergenceWarning: Stochastic Optimizer: Maximum iterations reached and the optimization hasn't converged yet.\n",
      "  % (), ConvergenceWarning)\n"
     ]
    },
    {
     "name": "stdout",
     "output_type": "stream",
     "text": [
      "[CV]  solver=adam, activation=logistic, alpha=0.1, score=-3.712846, total=   0.0s\n",
      "[CV] solver=adam, activation=logistic, alpha=0.1 .....................\n",
      "[CV]  solver=adam, activation=logistic, alpha=0.1, score=-4.753498, total=   0.0s\n",
      "[CV] solver=adam, activation=logistic, alpha=0.1 .....................\n"
     ]
    },
    {
     "name": "stderr",
     "output_type": "stream",
     "text": [
      "C:\\Users\\Vu Anh Vinh\\Miniconda3\\envs\\thkstat\\lib\\site-packages\\sklearn\\neural_network\\multilayer_perceptron.py:563: ConvergenceWarning: Stochastic Optimizer: Maximum iterations reached and the optimization hasn't converged yet.\n",
      "  % (), ConvergenceWarning)\n",
      "C:\\Users\\Vu Anh Vinh\\Miniconda3\\envs\\thkstat\\lib\\site-packages\\sklearn\\neural_network\\multilayer_perceptron.py:563: ConvergenceWarning: Stochastic Optimizer: Maximum iterations reached and the optimization hasn't converged yet.\n",
      "  % (), ConvergenceWarning)\n"
     ]
    },
    {
     "name": "stdout",
     "output_type": "stream",
     "text": [
      "[CV]  solver=adam, activation=logistic, alpha=0.1, score=-7.135451, total=   0.6s\n",
      "[CV] solver=adam, activation=logistic, alpha=0.1 .....................\n"
     ]
    },
    {
     "name": "stderr",
     "output_type": "stream",
     "text": [
      "C:\\Users\\Vu Anh Vinh\\Miniconda3\\envs\\thkstat\\lib\\site-packages\\sklearn\\neural_network\\multilayer_perceptron.py:563: ConvergenceWarning: Stochastic Optimizer: Maximum iterations reached and the optimization hasn't converged yet.\n",
      "  % (), ConvergenceWarning)\n"
     ]
    },
    {
     "name": "stdout",
     "output_type": "stream",
     "text": [
      "[CV]  solver=adam, activation=logistic, alpha=0.1, score=-6.037658, total=   0.1s\n",
      "[CV] solver=lbfgs, activation=logistic, alpha=1.0 ....................\n",
      "[CV]  solver=lbfgs, activation=logistic, alpha=1.0, score=0.651275, total=   0.0s\n",
      "[CV] solver=lbfgs, activation=logistic, alpha=1.0 ....................\n",
      "[CV]  solver=lbfgs, activation=logistic, alpha=1.0, score=0.801247, total=   0.0s\n",
      "[CV] solver=lbfgs, activation=logistic, alpha=1.0 ....................\n",
      "[CV]  solver=lbfgs, activation=logistic, alpha=1.0, score=0.639069, total=   0.2s\n",
      "[CV] solver=lbfgs, activation=logistic, alpha=1.0 ....................\n",
      "[CV]  solver=lbfgs, activation=logistic, alpha=1.0, score=0.608550, total=   0.1s\n",
      "[CV] solver=lbfgs, activation=logistic, alpha=1.0 ....................\n",
      "[CV]  solver=lbfgs, activation=logistic, alpha=1.0, score=0.538926, total=   0.2s\n",
      "[CV] solver=sgd, activation=logistic, alpha=1.0 ......................\n",
      "[CV]  solver=sgd, activation=logistic, alpha=1.0, score=-1.553499, total=   0.0s\n",
      "[CV] solver=sgd, activation=logistic, alpha=1.0 ......................\n",
      "[CV]  solver=sgd, activation=logistic, alpha=1.0, score=-0.764774, total=   0.0s\n",
      "[CV] solver=sgd, activation=logistic, alpha=1.0 ......................\n",
      "[CV]  solver=sgd, activation=logistic, alpha=1.0, score=-0.531859, total=   0.0s\n",
      "[CV] solver=sgd, activation=logistic, alpha=1.0 ......................\n",
      "[CV]  solver=sgd, activation=logistic, alpha=1.0, score=-0.395092, total=   0.0s\n",
      "[CV] solver=sgd, activation=logistic, alpha=1.0 ......................\n",
      "[CV]  solver=sgd, activation=logistic, alpha=1.0, score=-0.290453, total=   0.0s\n",
      "[CV] solver=adam, activation=logistic, alpha=1.0 .....................\n"
     ]
    },
    {
     "name": "stderr",
     "output_type": "stream",
     "text": [
      "C:\\Users\\Vu Anh Vinh\\Miniconda3\\envs\\thkstat\\lib\\site-packages\\sklearn\\neural_network\\multilayer_perceptron.py:563: ConvergenceWarning: Stochastic Optimizer: Maximum iterations reached and the optimization hasn't converged yet.\n",
      "  % (), ConvergenceWarning)\n",
      "C:\\Users\\Vu Anh Vinh\\Miniconda3\\envs\\thkstat\\lib\\site-packages\\sklearn\\neural_network\\multilayer_perceptron.py:563: ConvergenceWarning: Stochastic Optimizer: Maximum iterations reached and the optimization hasn't converged yet.\n",
      "  % (), ConvergenceWarning)\n"
     ]
    },
    {
     "name": "stdout",
     "output_type": "stream",
     "text": [
      "[CV]  solver=adam, activation=logistic, alpha=1.0, score=-3.309393, total=   0.1s\n",
      "[CV] solver=adam, activation=logistic, alpha=1.0 .....................\n",
      "[CV]  solver=adam, activation=logistic, alpha=1.0, score=-4.123616, total=   0.0s\n",
      "[CV] solver=adam, activation=logistic, alpha=1.0 .....................\n"
     ]
    },
    {
     "name": "stderr",
     "output_type": "stream",
     "text": [
      "C:\\Users\\Vu Anh Vinh\\Miniconda3\\envs\\thkstat\\lib\\site-packages\\sklearn\\neural_network\\multilayer_perceptron.py:563: ConvergenceWarning: Stochastic Optimizer: Maximum iterations reached and the optimization hasn't converged yet.\n",
      "  % (), ConvergenceWarning)\n",
      "C:\\Users\\Vu Anh Vinh\\Miniconda3\\envs\\thkstat\\lib\\site-packages\\sklearn\\neural_network\\multilayer_perceptron.py:563: ConvergenceWarning: Stochastic Optimizer: Maximum iterations reached and the optimization hasn't converged yet.\n",
      "  % (), ConvergenceWarning)\n"
     ]
    },
    {
     "name": "stdout",
     "output_type": "stream",
     "text": [
      "[CV]  solver=adam, activation=logistic, alpha=1.0, score=-4.709529, total=   0.0s\n",
      "[CV] solver=adam, activation=logistic, alpha=1.0 .....................\n",
      "[CV]  solver=adam, activation=logistic, alpha=1.0, score=-7.442466, total=   0.0s\n",
      "[CV] solver=adam, activation=logistic, alpha=1.0 .....................\n"
     ]
    },
    {
     "name": "stderr",
     "output_type": "stream",
     "text": [
      "C:\\Users\\Vu Anh Vinh\\Miniconda3\\envs\\thkstat\\lib\\site-packages\\sklearn\\neural_network\\multilayer_perceptron.py:563: ConvergenceWarning: Stochastic Optimizer: Maximum iterations reached and the optimization hasn't converged yet.\n",
      "  % (), ConvergenceWarning)\n"
     ]
    },
    {
     "name": "stdout",
     "output_type": "stream",
     "text": [
      "[CV]  solver=adam, activation=logistic, alpha=1.0, score=-6.009081, total=   0.0s\n",
      "[CV] solver=lbfgs, activation=logistic, alpha=10 .....................\n",
      "[CV]  solver=lbfgs, activation=logistic, alpha=10, score=0.649067, total=   0.0s\n",
      "[CV] solver=lbfgs, activation=logistic, alpha=10 .....................\n",
      "[CV]  solver=lbfgs, activation=logistic, alpha=10, score=0.731308, total=   0.1s\n",
      "[CV] solver=lbfgs, activation=logistic, alpha=10 .....................\n",
      "[CV]  solver=lbfgs, activation=logistic, alpha=10, score=0.658448, total=   0.0s\n",
      "[CV] solver=lbfgs, activation=logistic, alpha=10 .....................\n",
      "[CV]  solver=lbfgs, activation=logistic, alpha=10, score=0.700281, total=   0.1s\n",
      "[CV] solver=lbfgs, activation=logistic, alpha=10 .....................\n",
      "[CV]  solver=lbfgs, activation=logistic, alpha=10, score=0.502506, total=   0.2s\n",
      "[CV] solver=sgd, activation=logistic, alpha=10 .......................\n",
      "[CV]  solver=sgd, activation=logistic, alpha=10, score=-1.498553, total=   0.0s\n",
      "[CV] solver=sgd, activation=logistic, alpha=10 .......................\n",
      "[CV]  solver=sgd, activation=logistic, alpha=10, score=-0.737743, total=   0.0s\n",
      "[CV] solver=sgd, activation=logistic, alpha=10 .......................\n",
      "[CV]  solver=sgd, activation=logistic, alpha=10, score=-0.482052, total=   0.0s\n",
      "[CV] solver=sgd, activation=logistic, alpha=10 .......................\n",
      "[CV]  solver=sgd, activation=logistic, alpha=10, score=-0.358238, total=   0.0s\n",
      "[CV] solver=sgd, activation=logistic, alpha=10 .......................\n",
      "[CV]  solver=sgd, activation=logistic, alpha=10, score=-0.294837, total=   0.0s\n",
      "[CV] solver=adam, activation=logistic, alpha=10 ......................\n"
     ]
    },
    {
     "name": "stderr",
     "output_type": "stream",
     "text": [
      "C:\\Users\\Vu Anh Vinh\\Miniconda3\\envs\\thkstat\\lib\\site-packages\\sklearn\\neural_network\\multilayer_perceptron.py:563: ConvergenceWarning: Stochastic Optimizer: Maximum iterations reached and the optimization hasn't converged yet.\n",
      "  % (), ConvergenceWarning)\n",
      "C:\\Users\\Vu Anh Vinh\\Miniconda3\\envs\\thkstat\\lib\\site-packages\\sklearn\\neural_network\\multilayer_perceptron.py:563: ConvergenceWarning: Stochastic Optimizer: Maximum iterations reached and the optimization hasn't converged yet.\n",
      "  % (), ConvergenceWarning)\n"
     ]
    },
    {
     "name": "stdout",
     "output_type": "stream",
     "text": [
      "[CV]  solver=adam, activation=logistic, alpha=10, score=-3.142611, total=   0.1s\n",
      "[CV] solver=adam, activation=logistic, alpha=10 ......................\n",
      "[CV]  solver=adam, activation=logistic, alpha=10, score=-3.875010, total=   0.0s\n",
      "[CV] solver=adam, activation=logistic, alpha=10 ......................\n"
     ]
    },
    {
     "name": "stderr",
     "output_type": "stream",
     "text": [
      "C:\\Users\\Vu Anh Vinh\\Miniconda3\\envs\\thkstat\\lib\\site-packages\\sklearn\\neural_network\\multilayer_perceptron.py:563: ConvergenceWarning: Stochastic Optimizer: Maximum iterations reached and the optimization hasn't converged yet.\n",
      "  % (), ConvergenceWarning)\n",
      "C:\\Users\\Vu Anh Vinh\\Miniconda3\\envs\\thkstat\\lib\\site-packages\\sklearn\\neural_network\\multilayer_perceptron.py:563: ConvergenceWarning: Stochastic Optimizer: Maximum iterations reached and the optimization hasn't converged yet.\n",
      "  % (), ConvergenceWarning)\n"
     ]
    },
    {
     "name": "stdout",
     "output_type": "stream",
     "text": [
      "[CV]  solver=adam, activation=logistic, alpha=10, score=-4.709347, total=   0.0s\n",
      "[CV] solver=adam, activation=logistic, alpha=10 ......................\n",
      "[CV]  solver=adam, activation=logistic, alpha=10, score=-7.316300, total=   0.0s\n",
      "[CV] solver=adam, activation=logistic, alpha=10 ......................\n"
     ]
    },
    {
     "name": "stderr",
     "output_type": "stream",
     "text": [
      "C:\\Users\\Vu Anh Vinh\\Miniconda3\\envs\\thkstat\\lib\\site-packages\\sklearn\\neural_network\\multilayer_perceptron.py:563: ConvergenceWarning: Stochastic Optimizer: Maximum iterations reached and the optimization hasn't converged yet.\n",
      "  % (), ConvergenceWarning)\n"
     ]
    },
    {
     "name": "stdout",
     "output_type": "stream",
     "text": [
      "[CV]  solver=adam, activation=logistic, alpha=10, score=-6.312600, total=   0.0s\n",
      "[CV] solver=lbfgs, activation=logistic, alpha=100 ....................\n",
      "[CV]  solver=lbfgs, activation=logistic, alpha=100, score=-0.186744, total=   0.0s\n",
      "[CV] solver=lbfgs, activation=logistic, alpha=100 ....................\n",
      "[CV]  solver=lbfgs, activation=logistic, alpha=100, score=-0.013505, total=   0.0s\n",
      "[CV] solver=lbfgs, activation=logistic, alpha=100 ....................\n",
      "[CV]  solver=lbfgs, activation=logistic, alpha=100, score=-0.004350, total=   0.0s\n",
      "[CV] solver=lbfgs, activation=logistic, alpha=100 ....................\n",
      "[CV]  solver=lbfgs, activation=logistic, alpha=100, score=-0.065614, total=   0.0s\n",
      "[CV] solver=lbfgs, activation=logistic, alpha=100 ....................\n",
      "[CV]  solver=lbfgs, activation=logistic, alpha=100, score=-0.051093, total=   0.0s\n",
      "[CV] solver=sgd, activation=logistic, alpha=100 ......................\n",
      "[CV]  solver=sgd, activation=logistic, alpha=100, score=-1.318571, total=   0.0s\n",
      "[CV] solver=sgd, activation=logistic, alpha=100 ......................\n",
      "[CV]  solver=sgd, activation=logistic, alpha=100, score=-0.590817, total=   0.0s\n",
      "[CV] solver=sgd, activation=logistic, alpha=100 ......................\n",
      "[CV]  solver=sgd, activation=logistic, alpha=100, score=-0.370985, total=   0.0s\n",
      "[CV] solver=sgd, activation=logistic, alpha=100 ......................\n",
      "[CV]  solver=sgd, activation=logistic, alpha=100, score=-0.229105, total=   0.0s\n",
      "[CV] solver=sgd, activation=logistic, alpha=100 ......................\n",
      "[CV]  solver=sgd, activation=logistic, alpha=100, score=-0.186586, total=   0.0s\n",
      "[CV] solver=adam, activation=logistic, alpha=100 .....................\n"
     ]
    },
    {
     "name": "stderr",
     "output_type": "stream",
     "text": [
      "C:\\Users\\Vu Anh Vinh\\Miniconda3\\envs\\thkstat\\lib\\site-packages\\sklearn\\neural_network\\multilayer_perceptron.py:563: ConvergenceWarning: Stochastic Optimizer: Maximum iterations reached and the optimization hasn't converged yet.\n",
      "  % (), ConvergenceWarning)\n",
      "C:\\Users\\Vu Anh Vinh\\Miniconda3\\envs\\thkstat\\lib\\site-packages\\sklearn\\neural_network\\multilayer_perceptron.py:563: ConvergenceWarning: Stochastic Optimizer: Maximum iterations reached and the optimization hasn't converged yet.\n",
      "  % (), ConvergenceWarning)\n"
     ]
    },
    {
     "name": "stdout",
     "output_type": "stream",
     "text": [
      "[CV]  solver=adam, activation=logistic, alpha=100, score=-3.177903, total=   0.1s\n",
      "[CV] solver=adam, activation=logistic, alpha=100 .....................\n",
      "[CV]  solver=adam, activation=logistic, alpha=100, score=-3.598642, total=   0.0s\n",
      "[CV] solver=adam, activation=logistic, alpha=100 .....................\n"
     ]
    },
    {
     "name": "stderr",
     "output_type": "stream",
     "text": [
      "C:\\Users\\Vu Anh Vinh\\Miniconda3\\envs\\thkstat\\lib\\site-packages\\sklearn\\neural_network\\multilayer_perceptron.py:563: ConvergenceWarning: Stochastic Optimizer: Maximum iterations reached and the optimization hasn't converged yet.\n",
      "  % (), ConvergenceWarning)\n",
      "C:\\Users\\Vu Anh Vinh\\Miniconda3\\envs\\thkstat\\lib\\site-packages\\sklearn\\neural_network\\multilayer_perceptron.py:563: ConvergenceWarning: Stochastic Optimizer: Maximum iterations reached and the optimization hasn't converged yet.\n",
      "  % (), ConvergenceWarning)\n"
     ]
    },
    {
     "name": "stdout",
     "output_type": "stream",
     "text": [
      "[CV]  solver=adam, activation=logistic, alpha=100, score=-5.099929, total=   0.0s\n",
      "[CV] solver=adam, activation=logistic, alpha=100 .....................\n",
      "[CV]  solver=adam, activation=logistic, alpha=100, score=-7.416774, total=   0.0s\n",
      "[CV] solver=adam, activation=logistic, alpha=100 .....................\n"
     ]
    },
    {
     "name": "stderr",
     "output_type": "stream",
     "text": [
      "C:\\Users\\Vu Anh Vinh\\Miniconda3\\envs\\thkstat\\lib\\site-packages\\sklearn\\neural_network\\multilayer_perceptron.py:563: ConvergenceWarning: Stochastic Optimizer: Maximum iterations reached and the optimization hasn't converged yet.\n",
      "  % (), ConvergenceWarning)\n"
     ]
    },
    {
     "name": "stdout",
     "output_type": "stream",
     "text": [
      "[CV]  solver=adam, activation=logistic, alpha=100, score=-6.320552, total=   0.1s\n",
      "[CV] solver=lbfgs, activation=tanh, alpha=0.001 ......................\n",
      "[CV]  solver=lbfgs, activation=tanh, alpha=0.001, score=0.438563, total=   0.0s\n",
      "[CV] solver=lbfgs, activation=tanh, alpha=0.001 ......................\n",
      "[CV]  solver=lbfgs, activation=tanh, alpha=0.001, score=0.819378, total=   0.0s\n",
      "[CV] solver=lbfgs, activation=tanh, alpha=0.001 ......................\n",
      "[CV]  solver=lbfgs, activation=tanh, alpha=0.001, score=0.638047, total=   0.0s\n",
      "[CV] solver=lbfgs, activation=tanh, alpha=0.001 ......................\n",
      "[CV]  solver=lbfgs, activation=tanh, alpha=0.001, score=0.209655, total=   0.1s\n",
      "[CV] solver=lbfgs, activation=tanh, alpha=0.001 ......................\n",
      "[CV]  solver=lbfgs, activation=tanh, alpha=0.001, score=0.359854, total=   0.1s\n",
      "[CV] solver=sgd, activation=tanh, alpha=0.001 ........................\n",
      "[CV]  solver=sgd, activation=tanh, alpha=0.001, score=-1.359292, total=   0.0s\n",
      "[CV] solver=sgd, activation=tanh, alpha=0.001 ........................\n",
      "[CV]  solver=sgd, activation=tanh, alpha=0.001, score=-0.696745, total=   0.0s\n",
      "[CV] solver=sgd, activation=tanh, alpha=0.001 ........................\n",
      "[CV]  solver=sgd, activation=tanh, alpha=0.001, score=-0.558123, total=   0.0s\n",
      "[CV] solver=sgd, activation=tanh, alpha=0.001 ........................\n",
      "[CV]  solver=sgd, activation=tanh, alpha=0.001, score=-0.390982, total=   0.0s\n",
      "[CV] solver=sgd, activation=tanh, alpha=0.001 ........................\n",
      "[CV]  solver=sgd, activation=tanh, alpha=0.001, score=-0.390186, total=   0.0s\n",
      "[CV] solver=adam, activation=tanh, alpha=0.001 .......................\n",
      "[CV]  solver=adam, activation=tanh, alpha=0.001, score=-1.840121, total=   0.0s\n",
      "[CV] solver=adam, activation=tanh, alpha=0.001 .......................\n"
     ]
    },
    {
     "name": "stderr",
     "output_type": "stream",
     "text": [
      "C:\\Users\\Vu Anh Vinh\\Miniconda3\\envs\\thkstat\\lib\\site-packages\\sklearn\\neural_network\\multilayer_perceptron.py:563: ConvergenceWarning: Stochastic Optimizer: Maximum iterations reached and the optimization hasn't converged yet.\n",
      "  % (), ConvergenceWarning)\n",
      "C:\\Users\\Vu Anh Vinh\\Miniconda3\\envs\\thkstat\\lib\\site-packages\\sklearn\\neural_network\\multilayer_perceptron.py:563: ConvergenceWarning: Stochastic Optimizer: Maximum iterations reached and the optimization hasn't converged yet.\n",
      "  % (), ConvergenceWarning)\n"
     ]
    },
    {
     "name": "stdout",
     "output_type": "stream",
     "text": [
      "[CV]  solver=adam, activation=tanh, alpha=0.001, score=-2.366602, total=   0.1s\n",
      "[CV] solver=adam, activation=tanh, alpha=0.001 .......................\n",
      "[CV]  solver=adam, activation=tanh, alpha=0.001, score=-2.499869, total=   0.1s\n",
      "[CV] solver=adam, activation=tanh, alpha=0.001 .......................\n"
     ]
    },
    {
     "name": "stderr",
     "output_type": "stream",
     "text": [
      "C:\\Users\\Vu Anh Vinh\\Miniconda3\\envs\\thkstat\\lib\\site-packages\\sklearn\\neural_network\\multilayer_perceptron.py:563: ConvergenceWarning: Stochastic Optimizer: Maximum iterations reached and the optimization hasn't converged yet.\n",
      "  % (), ConvergenceWarning)\n",
      "C:\\Users\\Vu Anh Vinh\\Miniconda3\\envs\\thkstat\\lib\\site-packages\\sklearn\\neural_network\\multilayer_perceptron.py:563: ConvergenceWarning: Stochastic Optimizer: Maximum iterations reached and the optimization hasn't converged yet.\n",
      "  % (), ConvergenceWarning)\n"
     ]
    },
    {
     "name": "stdout",
     "output_type": "stream",
     "text": [
      "[CV]  solver=adam, activation=tanh, alpha=0.001, score=-4.357490, total=   0.1s\n",
      "[CV] solver=adam, activation=tanh, alpha=0.001 .......................\n",
      "[CV]  solver=adam, activation=tanh, alpha=0.001, score=-3.807781, total=   0.1s\n",
      "[CV] solver=lbfgs, activation=tanh, alpha=0.01 .......................\n"
     ]
    },
    {
     "name": "stderr",
     "output_type": "stream",
     "text": [
      "C:\\Users\\Vu Anh Vinh\\Miniconda3\\envs\\thkstat\\lib\\site-packages\\sklearn\\neural_network\\multilayer_perceptron.py:563: ConvergenceWarning: Stochastic Optimizer: Maximum iterations reached and the optimization hasn't converged yet.\n",
      "  % (), ConvergenceWarning)\n"
     ]
    },
    {
     "name": "stdout",
     "output_type": "stream",
     "text": [
      "[CV]  solver=lbfgs, activation=tanh, alpha=0.01, score=0.277852, total=   0.1s\n",
      "[CV] solver=lbfgs, activation=tanh, alpha=0.01 .......................\n",
      "[CV]  solver=lbfgs, activation=tanh, alpha=0.01, score=0.701138, total=   0.1s\n",
      "[CV] solver=lbfgs, activation=tanh, alpha=0.01 .......................\n",
      "[CV]  solver=lbfgs, activation=tanh, alpha=0.01, score=0.518974, total=   0.1s\n",
      "[CV] solver=lbfgs, activation=tanh, alpha=0.01 .......................\n",
      "[CV]  solver=lbfgs, activation=tanh, alpha=0.01, score=-0.035824, total=   0.1s\n",
      "[CV] solver=lbfgs, activation=tanh, alpha=0.01 .......................\n",
      "[CV]  solver=lbfgs, activation=tanh, alpha=0.01, score=0.139562, total=   0.2s\n",
      "[CV] solver=sgd, activation=tanh, alpha=0.01 .........................\n",
      "[CV]  solver=sgd, activation=tanh, alpha=0.01, score=-1.349156, total=   0.0s\n",
      "[CV] solver=sgd, activation=tanh, alpha=0.01 .........................\n",
      "[CV]  solver=sgd, activation=tanh, alpha=0.01, score=-0.667616, total=   0.0s\n",
      "[CV] solver=sgd, activation=tanh, alpha=0.01 .........................\n",
      "[CV]  solver=sgd, activation=tanh, alpha=0.01, score=-0.508720, total=   0.0s\n",
      "[CV] solver=sgd, activation=tanh, alpha=0.01 .........................\n",
      "[CV]  solver=sgd, activation=tanh, alpha=0.01, score=-0.372989, total=   0.0s\n",
      "[CV] solver=sgd, activation=tanh, alpha=0.01 .........................\n",
      "[CV]  solver=sgd, activation=tanh, alpha=0.01, score=-0.358622, total=   0.0s\n",
      "[CV] solver=adam, activation=tanh, alpha=0.01 ........................\n"
     ]
    },
    {
     "name": "stderr",
     "output_type": "stream",
     "text": [
      "C:\\Users\\Vu Anh Vinh\\Miniconda3\\envs\\thkstat\\lib\\site-packages\\sklearn\\neural_network\\multilayer_perceptron.py:563: ConvergenceWarning: Stochastic Optimizer: Maximum iterations reached and the optimization hasn't converged yet.\n",
      "  % (), ConvergenceWarning)\n",
      "C:\\Users\\Vu Anh Vinh\\Miniconda3\\envs\\thkstat\\lib\\site-packages\\sklearn\\neural_network\\multilayer_perceptron.py:563: ConvergenceWarning: Stochastic Optimizer: Maximum iterations reached and the optimization hasn't converged yet.\n",
      "  % (), ConvergenceWarning)\n"
     ]
    },
    {
     "name": "stdout",
     "output_type": "stream",
     "text": [
      "[CV]  solver=adam, activation=tanh, alpha=0.01, score=-1.743368, total=   0.2s\n",
      "[CV] solver=adam, activation=tanh, alpha=0.01 ........................\n",
      "[CV]  solver=adam, activation=tanh, alpha=0.01, score=-2.404551, total=   0.1s\n",
      "[CV] solver=adam, activation=tanh, alpha=0.01 ........................\n"
     ]
    },
    {
     "name": "stderr",
     "output_type": "stream",
     "text": [
      "C:\\Users\\Vu Anh Vinh\\Miniconda3\\envs\\thkstat\\lib\\site-packages\\sklearn\\neural_network\\multilayer_perceptron.py:563: ConvergenceWarning: Stochastic Optimizer: Maximum iterations reached and the optimization hasn't converged yet.\n",
      "  % (), ConvergenceWarning)\n",
      "C:\\Users\\Vu Anh Vinh\\Miniconda3\\envs\\thkstat\\lib\\site-packages\\sklearn\\neural_network\\multilayer_perceptron.py:563: ConvergenceWarning: Stochastic Optimizer: Maximum iterations reached and the optimization hasn't converged yet.\n",
      "  % (), ConvergenceWarning)\n"
     ]
    },
    {
     "name": "stdout",
     "output_type": "stream",
     "text": [
      "[CV]  solver=adam, activation=tanh, alpha=0.01, score=-2.986367, total=   0.1s\n",
      "[CV] solver=adam, activation=tanh, alpha=0.01 ........................\n",
      "[CV]  solver=adam, activation=tanh, alpha=0.01, score=-4.561718, total=   0.1s\n",
      "[CV] solver=adam, activation=tanh, alpha=0.01 ........................\n"
     ]
    },
    {
     "name": "stderr",
     "output_type": "stream",
     "text": [
      "C:\\Users\\Vu Anh Vinh\\Miniconda3\\envs\\thkstat\\lib\\site-packages\\sklearn\\neural_network\\multilayer_perceptron.py:563: ConvergenceWarning: Stochastic Optimizer: Maximum iterations reached and the optimization hasn't converged yet.\n",
      "  % (), ConvergenceWarning)\n"
     ]
    },
    {
     "name": "stdout",
     "output_type": "stream",
     "text": [
      "[CV]  solver=adam, activation=tanh, alpha=0.01, score=-3.954808, total=   0.1s\n",
      "[CV] solver=lbfgs, activation=tanh, alpha=0.1 ........................\n",
      "[CV]  solver=lbfgs, activation=tanh, alpha=0.1, score=0.464507, total=   0.1s\n",
      "[CV] solver=lbfgs, activation=tanh, alpha=0.1 ........................\n",
      "[CV]  solver=lbfgs, activation=tanh, alpha=0.1, score=0.805520, total=   0.1s\n",
      "[CV] solver=lbfgs, activation=tanh, alpha=0.1 ........................\n",
      "[CV]  solver=lbfgs, activation=tanh, alpha=0.1, score=0.613220, total=   0.2s\n",
      "[CV] solver=lbfgs, activation=tanh, alpha=0.1 ........................\n",
      "[CV]  solver=lbfgs, activation=tanh, alpha=0.1, score=0.260039, total=   0.1s\n",
      "[CV] solver=lbfgs, activation=tanh, alpha=0.1 ........................\n",
      "[CV]  solver=lbfgs, activation=tanh, alpha=0.1, score=0.289642, total=   0.2s\n",
      "[CV] solver=sgd, activation=tanh, alpha=0.1 ..........................\n",
      "[CV]  solver=sgd, activation=tanh, alpha=0.1, score=-1.328938, total=   0.0s\n",
      "[CV] solver=sgd, activation=tanh, alpha=0.1 ..........................\n",
      "[CV]  solver=sgd, activation=tanh, alpha=0.1, score=-0.730640, total=   0.0s\n",
      "[CV] solver=sgd, activation=tanh, alpha=0.1 ..........................\n",
      "[CV]  solver=sgd, activation=tanh, alpha=0.1, score=-0.527536, total=   0.0s\n",
      "[CV] solver=sgd, activation=tanh, alpha=0.1 ..........................\n",
      "[CV]  solver=sgd, activation=tanh, alpha=0.1, score=-0.387498, total=   0.0s\n",
      "[CV] solver=sgd, activation=tanh, alpha=0.1 ..........................\n",
      "[CV]  solver=sgd, activation=tanh, alpha=0.1, score=-0.426533, total=   0.0s\n",
      "[CV] solver=adam, activation=tanh, alpha=0.1 .........................\n"
     ]
    },
    {
     "name": "stderr",
     "output_type": "stream",
     "text": [
      "C:\\Users\\Vu Anh Vinh\\Miniconda3\\envs\\thkstat\\lib\\site-packages\\sklearn\\neural_network\\multilayer_perceptron.py:563: ConvergenceWarning: Stochastic Optimizer: Maximum iterations reached and the optimization hasn't converged yet.\n",
      "  % (), ConvergenceWarning)\n",
      "C:\\Users\\Vu Anh Vinh\\Miniconda3\\envs\\thkstat\\lib\\site-packages\\sklearn\\neural_network\\multilayer_perceptron.py:563: ConvergenceWarning: Stochastic Optimizer: Maximum iterations reached and the optimization hasn't converged yet.\n",
      "  % (), ConvergenceWarning)\n"
     ]
    },
    {
     "name": "stdout",
     "output_type": "stream",
     "text": [
      "[CV]  solver=adam, activation=tanh, alpha=0.1, score=-1.587132, total=   0.2s\n",
      "[CV] solver=adam, activation=tanh, alpha=0.1 .........................\n",
      "[CV]  solver=adam, activation=tanh, alpha=0.1, score=-2.203980, total=   0.0s\n",
      "[CV] solver=adam, activation=tanh, alpha=0.1 .........................\n"
     ]
    },
    {
     "name": "stderr",
     "output_type": "stream",
     "text": [
      "C:\\Users\\Vu Anh Vinh\\Miniconda3\\envs\\thkstat\\lib\\site-packages\\sklearn\\neural_network\\multilayer_perceptron.py:563: ConvergenceWarning: Stochastic Optimizer: Maximum iterations reached and the optimization hasn't converged yet.\n",
      "  % (), ConvergenceWarning)\n",
      "C:\\Users\\Vu Anh Vinh\\Miniconda3\\envs\\thkstat\\lib\\site-packages\\sklearn\\neural_network\\multilayer_perceptron.py:563: ConvergenceWarning: Stochastic Optimizer: Maximum iterations reached and the optimization hasn't converged yet.\n",
      "  % (), ConvergenceWarning)\n"
     ]
    },
    {
     "name": "stdout",
     "output_type": "stream",
     "text": [
      "[CV]  solver=adam, activation=tanh, alpha=0.1, score=-2.719884, total=   0.2s\n",
      "[CV] solver=adam, activation=tanh, alpha=0.1 .........................\n",
      "[CV]  solver=adam, activation=tanh, alpha=0.1, score=-4.683764, total=   0.1s\n",
      "[CV] solver=adam, activation=tanh, alpha=0.1 .........................\n"
     ]
    },
    {
     "name": "stderr",
     "output_type": "stream",
     "text": [
      "C:\\Users\\Vu Anh Vinh\\Miniconda3\\envs\\thkstat\\lib\\site-packages\\sklearn\\neural_network\\multilayer_perceptron.py:563: ConvergenceWarning: Stochastic Optimizer: Maximum iterations reached and the optimization hasn't converged yet.\n",
      "  % (), ConvergenceWarning)\n"
     ]
    },
    {
     "name": "stdout",
     "output_type": "stream",
     "text": [
      "[CV]  solver=adam, activation=tanh, alpha=0.1, score=-3.738546, total=   0.1s\n",
      "[CV] solver=lbfgs, activation=tanh, alpha=1.0 ........................\n",
      "[CV]  solver=lbfgs, activation=tanh, alpha=1.0, score=0.582603, total=   0.0s\n",
      "[CV] solver=lbfgs, activation=tanh, alpha=1.0 ........................\n",
      "[CV]  solver=lbfgs, activation=tanh, alpha=1.0, score=0.819484, total=   0.1s\n",
      "[CV] solver=lbfgs, activation=tanh, alpha=1.0 ........................\n",
      "[CV]  solver=lbfgs, activation=tanh, alpha=1.0, score=0.643953, total=   0.1s\n",
      "[CV] solver=lbfgs, activation=tanh, alpha=1.0 ........................\n",
      "[CV]  solver=lbfgs, activation=tanh, alpha=1.0, score=0.487907, total=   0.1s\n",
      "[CV] solver=lbfgs, activation=tanh, alpha=1.0 ........................\n",
      "[CV]  solver=lbfgs, activation=tanh, alpha=1.0, score=0.416408, total=   0.0s\n",
      "[CV] solver=sgd, activation=tanh, alpha=1.0 ..........................\n",
      "[CV]  solver=sgd, activation=tanh, alpha=1.0, score=-1.359325, total=   0.0s\n",
      "[CV] solver=sgd, activation=tanh, alpha=1.0 ..........................\n",
      "[CV]  solver=sgd, activation=tanh, alpha=1.0, score=-0.652245, total=   0.0s\n",
      "[CV] solver=sgd, activation=tanh, alpha=1.0 ..........................\n",
      "[CV]  solver=sgd, activation=tanh, alpha=1.0, score=-0.559592, total=   0.0s\n",
      "[CV] solver=sgd, activation=tanh, alpha=1.0 ..........................\n",
      "[CV]  solver=sgd, activation=tanh, alpha=1.0, score=-0.400848, total=   0.0s\n",
      "[CV] solver=sgd, activation=tanh, alpha=1.0 ..........................\n",
      "[CV]  solver=sgd, activation=tanh, alpha=1.0, score=-0.413375, total=   0.0s\n",
      "[CV] solver=adam, activation=tanh, alpha=1.0 .........................\n",
      "[CV]  solver=adam, activation=tanh, alpha=1.0, score=-1.849377, total=   0.0s\n",
      "[CV] solver=adam, activation=tanh, alpha=1.0 .........................\n"
     ]
    },
    {
     "name": "stderr",
     "output_type": "stream",
     "text": [
      "C:\\Users\\Vu Anh Vinh\\Miniconda3\\envs\\thkstat\\lib\\site-packages\\sklearn\\neural_network\\multilayer_perceptron.py:563: ConvergenceWarning: Stochastic Optimizer: Maximum iterations reached and the optimization hasn't converged yet.\n",
      "  % (), ConvergenceWarning)\n",
      "C:\\Users\\Vu Anh Vinh\\Miniconda3\\envs\\thkstat\\lib\\site-packages\\sklearn\\neural_network\\multilayer_perceptron.py:563: ConvergenceWarning: Stochastic Optimizer: Maximum iterations reached and the optimization hasn't converged yet.\n",
      "  % (), ConvergenceWarning)\n"
     ]
    },
    {
     "name": "stdout",
     "output_type": "stream",
     "text": [
      "[CV]  solver=adam, activation=tanh, alpha=1.0, score=-2.272963, total=   0.0s\n",
      "[CV] solver=adam, activation=tanh, alpha=1.0 .........................\n",
      "[CV]  solver=adam, activation=tanh, alpha=1.0, score=-2.980508, total=   0.0s\n",
      "[CV] solver=adam, activation=tanh, alpha=1.0 .........................\n"
     ]
    },
    {
     "name": "stderr",
     "output_type": "stream",
     "text": [
      "C:\\Users\\Vu Anh Vinh\\Miniconda3\\envs\\thkstat\\lib\\site-packages\\sklearn\\neural_network\\multilayer_perceptron.py:563: ConvergenceWarning: Stochastic Optimizer: Maximum iterations reached and the optimization hasn't converged yet.\n",
      "  % (), ConvergenceWarning)\n",
      "C:\\Users\\Vu Anh Vinh\\Miniconda3\\envs\\thkstat\\lib\\site-packages\\sklearn\\neural_network\\multilayer_perceptron.py:563: ConvergenceWarning: Stochastic Optimizer: Maximum iterations reached and the optimization hasn't converged yet.\n",
      "  % (), ConvergenceWarning)\n"
     ]
    },
    {
     "name": "stdout",
     "output_type": "stream",
     "text": [
      "[CV]  solver=adam, activation=tanh, alpha=1.0, score=-4.335994, total=   0.1s\n",
      "[CV] solver=adam, activation=tanh, alpha=1.0 .........................\n",
      "[CV]  solver=adam, activation=tanh, alpha=1.0, score=-3.834950, total=   0.1s\n",
      "[CV] solver=lbfgs, activation=tanh, alpha=10 .........................\n"
     ]
    },
    {
     "name": "stderr",
     "output_type": "stream",
     "text": [
      "C:\\Users\\Vu Anh Vinh\\Miniconda3\\envs\\thkstat\\lib\\site-packages\\sklearn\\neural_network\\multilayer_perceptron.py:563: ConvergenceWarning: Stochastic Optimizer: Maximum iterations reached and the optimization hasn't converged yet.\n",
      "  % (), ConvergenceWarning)\n"
     ]
    },
    {
     "name": "stdout",
     "output_type": "stream",
     "text": [
      "[CV]  solver=lbfgs, activation=tanh, alpha=10, score=0.632565, total=   0.1s\n",
      "[CV] solver=lbfgs, activation=tanh, alpha=10 .........................\n",
      "[CV]  solver=lbfgs, activation=tanh, alpha=10, score=0.777136, total=   0.1s\n",
      "[CV] solver=lbfgs, activation=tanh, alpha=10 .........................\n",
      "[CV]  solver=lbfgs, activation=tanh, alpha=10, score=0.660277, total=   0.1s\n",
      "[CV] solver=lbfgs, activation=tanh, alpha=10 .........................\n",
      "[CV]  solver=lbfgs, activation=tanh, alpha=10, score=0.657072, total=   0.1s\n",
      "[CV] solver=lbfgs, activation=tanh, alpha=10 .........................\n",
      "[CV]  solver=lbfgs, activation=tanh, alpha=10, score=0.550366, total=   0.0s\n",
      "[CV] solver=sgd, activation=tanh, alpha=10 ...........................\n",
      "[CV]  solver=sgd, activation=tanh, alpha=10, score=-1.353286, total=   0.0s\n",
      "[CV] solver=sgd, activation=tanh, alpha=10 ...........................\n",
      "[CV]  solver=sgd, activation=tanh, alpha=10, score=-0.612870, total=   0.0s\n",
      "[CV] solver=sgd, activation=tanh, alpha=10 ...........................\n",
      "[CV]  solver=sgd, activation=tanh, alpha=10, score=-0.577564, total=   0.0s\n",
      "[CV] solver=sgd, activation=tanh, alpha=10 ...........................\n",
      "[CV]  solver=sgd, activation=tanh, alpha=10, score=-0.372273, total=   0.0s\n",
      "[CV] solver=sgd, activation=tanh, alpha=10 ...........................\n",
      "[CV]  solver=sgd, activation=tanh, alpha=10, score=-0.392172, total=   0.0s\n",
      "[CV] solver=adam, activation=tanh, alpha=10 ..........................\n"
     ]
    },
    {
     "name": "stderr",
     "output_type": "stream",
     "text": [
      "C:\\Users\\Vu Anh Vinh\\Miniconda3\\envs\\thkstat\\lib\\site-packages\\sklearn\\neural_network\\multilayer_perceptron.py:563: ConvergenceWarning: Stochastic Optimizer: Maximum iterations reached and the optimization hasn't converged yet.\n",
      "  % (), ConvergenceWarning)\n"
     ]
    },
    {
     "name": "stdout",
     "output_type": "stream",
     "text": [
      "[CV]  solver=adam, activation=tanh, alpha=10, score=-1.472716, total=   0.1s\n",
      "[CV] solver=adam, activation=tanh, alpha=10 ..........................\n"
     ]
    },
    {
     "name": "stderr",
     "output_type": "stream",
     "text": [
      "C:\\Users\\Vu Anh Vinh\\Miniconda3\\envs\\thkstat\\lib\\site-packages\\sklearn\\neural_network\\multilayer_perceptron.py:563: ConvergenceWarning: Stochastic Optimizer: Maximum iterations reached and the optimization hasn't converged yet.\n",
      "  % (), ConvergenceWarning)\n",
      "C:\\Users\\Vu Anh Vinh\\Miniconda3\\envs\\thkstat\\lib\\site-packages\\sklearn\\neural_network\\multilayer_perceptron.py:563: ConvergenceWarning: Stochastic Optimizer: Maximum iterations reached and the optimization hasn't converged yet.\n",
      "  % (), ConvergenceWarning)\n"
     ]
    },
    {
     "name": "stdout",
     "output_type": "stream",
     "text": [
      "[CV]  solver=adam, activation=tanh, alpha=10, score=-2.193222, total=   0.1s\n",
      "[CV] solver=adam, activation=tanh, alpha=10 ..........................\n",
      "[CV]  solver=adam, activation=tanh, alpha=10, score=-2.724922, total=   0.1s\n",
      "[CV] solver=adam, activation=tanh, alpha=10 ..........................\n"
     ]
    },
    {
     "name": "stderr",
     "output_type": "stream",
     "text": [
      "C:\\Users\\Vu Anh Vinh\\Miniconda3\\envs\\thkstat\\lib\\site-packages\\sklearn\\neural_network\\multilayer_perceptron.py:563: ConvergenceWarning: Stochastic Optimizer: Maximum iterations reached and the optimization hasn't converged yet.\n",
      "  % (), ConvergenceWarning)\n"
     ]
    },
    {
     "name": "stdout",
     "output_type": "stream",
     "text": [
      "[CV]  solver=adam, activation=tanh, alpha=10, score=-4.498654, total=   0.2s\n",
      "[CV] solver=adam, activation=tanh, alpha=10 ..........................\n"
     ]
    },
    {
     "name": "stderr",
     "output_type": "stream",
     "text": [
      "C:\\Users\\Vu Anh Vinh\\Miniconda3\\envs\\thkstat\\lib\\site-packages\\sklearn\\neural_network\\multilayer_perceptron.py:563: ConvergenceWarning: Stochastic Optimizer: Maximum iterations reached and the optimization hasn't converged yet.\n",
      "  % (), ConvergenceWarning)\n"
     ]
    },
    {
     "name": "stdout",
     "output_type": "stream",
     "text": [
      "[CV]  solver=adam, activation=tanh, alpha=10, score=-3.876427, total=   0.1s\n",
      "[CV] solver=lbfgs, activation=tanh, alpha=100 ........................\n",
      "[CV]  solver=lbfgs, activation=tanh, alpha=100, score=0.561893, total=   0.1s\n",
      "[CV] solver=lbfgs, activation=tanh, alpha=100 ........................\n",
      "[CV]  solver=lbfgs, activation=tanh, alpha=100, score=0.631007, total=   0.1s\n",
      "[CV] solver=lbfgs, activation=tanh, alpha=100 ........................\n",
      "[CV]  solver=lbfgs, activation=tanh, alpha=100, score=0.619867, total=   0.0s\n",
      "[CV] solver=lbfgs, activation=tanh, alpha=100 ........................\n",
      "[CV]  solver=lbfgs, activation=tanh, alpha=100, score=0.692857, total=   0.0s\n",
      "[CV] solver=lbfgs, activation=tanh, alpha=100 ........................\n",
      "[CV]  solver=lbfgs, activation=tanh, alpha=100, score=0.442465, total=   0.0s\n",
      "[CV] solver=sgd, activation=tanh, alpha=100 ..........................\n",
      "[CV]  solver=sgd, activation=tanh, alpha=100, score=-1.170732, total=   0.0s\n",
      "[CV] solver=sgd, activation=tanh, alpha=100 ..........................\n",
      "[CV]  solver=sgd, activation=tanh, alpha=100, score=-0.477579, total=   0.0s\n",
      "[CV] solver=sgd, activation=tanh, alpha=100 ..........................\n",
      "[CV]  solver=sgd, activation=tanh, alpha=100, score=-0.389590, total=   0.0s\n",
      "[CV] solver=sgd, activation=tanh, alpha=100 ..........................\n",
      "[CV]  solver=sgd, activation=tanh, alpha=100, score=-0.248541, total=   0.0s\n",
      "[CV] solver=sgd, activation=tanh, alpha=100 ..........................\n",
      "[CV]  solver=sgd, activation=tanh, alpha=100, score=-0.295631, total=   0.0s\n",
      "[CV] solver=adam, activation=tanh, alpha=100 .........................\n",
      "[CV]  solver=adam, activation=tanh, alpha=100, score=-1.609832, total=   0.1s\n",
      "[CV] solver=adam, activation=tanh, alpha=100 .........................\n"
     ]
    },
    {
     "name": "stderr",
     "output_type": "stream",
     "text": [
      "C:\\Users\\Vu Anh Vinh\\Miniconda3\\envs\\thkstat\\lib\\site-packages\\sklearn\\neural_network\\multilayer_perceptron.py:563: ConvergenceWarning: Stochastic Optimizer: Maximum iterations reached and the optimization hasn't converged yet.\n",
      "  % (), ConvergenceWarning)\n",
      "C:\\Users\\Vu Anh Vinh\\Miniconda3\\envs\\thkstat\\lib\\site-packages\\sklearn\\neural_network\\multilayer_perceptron.py:563: ConvergenceWarning: Stochastic Optimizer: Maximum iterations reached and the optimization hasn't converged yet.\n",
      "  % (), ConvergenceWarning)\n"
     ]
    },
    {
     "name": "stdout",
     "output_type": "stream",
     "text": [
      "[CV]  solver=adam, activation=tanh, alpha=100, score=-2.241967, total=   0.1s\n",
      "[CV] solver=adam, activation=tanh, alpha=100 .........................\n",
      "[CV]  solver=adam, activation=tanh, alpha=100, score=-2.735138, total=   0.1s\n",
      "[CV] solver=adam, activation=tanh, alpha=100 .........................\n"
     ]
    },
    {
     "name": "stderr",
     "output_type": "stream",
     "text": [
      "C:\\Users\\Vu Anh Vinh\\Miniconda3\\envs\\thkstat\\lib\\site-packages\\sklearn\\neural_network\\multilayer_perceptron.py:563: ConvergenceWarning: Stochastic Optimizer: Maximum iterations reached and the optimization hasn't converged yet.\n",
      "  % (), ConvergenceWarning)\n",
      "C:\\Users\\Vu Anh Vinh\\Miniconda3\\envs\\thkstat\\lib\\site-packages\\sklearn\\neural_network\\multilayer_perceptron.py:563: ConvergenceWarning: Stochastic Optimizer: Maximum iterations reached and the optimization hasn't converged yet.\n",
      "  % (), ConvergenceWarning)\n"
     ]
    },
    {
     "name": "stdout",
     "output_type": "stream",
     "text": [
      "[CV]  solver=adam, activation=tanh, alpha=100, score=-4.464320, total=   0.0s\n",
      "[CV] solver=adam, activation=tanh, alpha=100 .........................\n",
      "[CV]  solver=adam, activation=tanh, alpha=100, score=-3.908966, total=   0.1s\n",
      "[CV] solver=lbfgs, activation=relu, alpha=0.001 ......................\n"
     ]
    },
    {
     "name": "stderr",
     "output_type": "stream",
     "text": [
      "C:\\Users\\Vu Anh Vinh\\Miniconda3\\envs\\thkstat\\lib\\site-packages\\sklearn\\neural_network\\multilayer_perceptron.py:563: ConvergenceWarning: Stochastic Optimizer: Maximum iterations reached and the optimization hasn't converged yet.\n",
      "  % (), ConvergenceWarning)\n"
     ]
    },
    {
     "name": "stdout",
     "output_type": "stream",
     "text": [
      "[CV]  solver=lbfgs, activation=relu, alpha=0.001, score=0.589866, total=   0.0s\n",
      "[CV] solver=lbfgs, activation=relu, alpha=0.001 ......................\n",
      "[CV]  solver=lbfgs, activation=relu, alpha=0.001, score=0.785227, total=   0.0s\n",
      "[CV] solver=lbfgs, activation=relu, alpha=0.001 ......................\n",
      "[CV]  solver=lbfgs, activation=relu, alpha=0.001, score=0.629191, total=   0.0s\n",
      "[CV] solver=lbfgs, activation=relu, alpha=0.001 ......................\n",
      "[CV]  solver=lbfgs, activation=relu, alpha=0.001, score=0.580337, total=   0.0s\n",
      "[CV] solver=lbfgs, activation=relu, alpha=0.001 ......................\n",
      "[CV]  solver=lbfgs, activation=relu, alpha=0.001, score=0.443097, total=   0.0s\n",
      "[CV] solver=sgd, activation=relu, alpha=0.001 ........................\n",
      "[CV]  solver=sgd, activation=relu, alpha=0.001, score=-0.739029, total=   0.0s\n",
      "[CV] solver=sgd, activation=relu, alpha=0.001 ........................\n",
      "[CV]  solver=sgd, activation=relu, alpha=0.001, score=0.109545, total=   0.0s\n",
      "[CV] solver=sgd, activation=relu, alpha=0.001 ........................\n",
      "[CV]  solver=sgd, activation=relu, alpha=0.001, score=-0.154840, total=   0.0s\n",
      "[CV] solver=sgd, activation=relu, alpha=0.001 ........................\n",
      "[CV]  solver=sgd, activation=relu, alpha=0.001, score=-0.192933, total=   0.0s\n",
      "[CV] solver=sgd, activation=relu, alpha=0.001 ........................\n",
      "[CV]  solver=sgd, activation=relu, alpha=0.001, score=-0.001325, total=   0.0s\n",
      "[CV] solver=adam, activation=relu, alpha=0.001 .......................\n"
     ]
    },
    {
     "name": "stderr",
     "output_type": "stream",
     "text": [
      "C:\\Users\\Vu Anh Vinh\\Miniconda3\\envs\\thkstat\\lib\\site-packages\\sklearn\\neural_network\\multilayer_perceptron.py:563: ConvergenceWarning: Stochastic Optimizer: Maximum iterations reached and the optimization hasn't converged yet.\n",
      "  % (), ConvergenceWarning)\n",
      "C:\\Users\\Vu Anh Vinh\\Miniconda3\\envs\\thkstat\\lib\\site-packages\\sklearn\\neural_network\\multilayer_perceptron.py:563: ConvergenceWarning: Stochastic Optimizer: Maximum iterations reached and the optimization hasn't converged yet.\n",
      "  % (), ConvergenceWarning)\n"
     ]
    },
    {
     "name": "stdout",
     "output_type": "stream",
     "text": [
      "[CV]  solver=adam, activation=relu, alpha=0.001, score=-2.676652, total=   0.0s\n",
      "[CV] solver=adam, activation=relu, alpha=0.001 .......................\n",
      "[CV]  solver=adam, activation=relu, alpha=0.001, score=-3.257430, total=   0.0s\n",
      "[CV] solver=adam, activation=relu, alpha=0.001 .......................\n"
     ]
    },
    {
     "name": "stderr",
     "output_type": "stream",
     "text": [
      "C:\\Users\\Vu Anh Vinh\\Miniconda3\\envs\\thkstat\\lib\\site-packages\\sklearn\\neural_network\\multilayer_perceptron.py:563: ConvergenceWarning: Stochastic Optimizer: Maximum iterations reached and the optimization hasn't converged yet.\n",
      "  % (), ConvergenceWarning)\n",
      "C:\\Users\\Vu Anh Vinh\\Miniconda3\\envs\\thkstat\\lib\\site-packages\\sklearn\\neural_network\\multilayer_perceptron.py:563: ConvergenceWarning: Stochastic Optimizer: Maximum iterations reached and the optimization hasn't converged yet.\n",
      "  % (), ConvergenceWarning)\n"
     ]
    },
    {
     "name": "stdout",
     "output_type": "stream",
     "text": [
      "[CV]  solver=adam, activation=relu, alpha=0.001, score=-4.512102, total=   0.1s\n",
      "[CV] solver=adam, activation=relu, alpha=0.001 .......................\n",
      "[CV]  solver=adam, activation=relu, alpha=0.001, score=-6.145649, total=   0.1s\n",
      "[CV] solver=adam, activation=relu, alpha=0.001 .......................\n"
     ]
    },
    {
     "name": "stderr",
     "output_type": "stream",
     "text": [
      "C:\\Users\\Vu Anh Vinh\\Miniconda3\\envs\\thkstat\\lib\\site-packages\\sklearn\\neural_network\\multilayer_perceptron.py:563: ConvergenceWarning: Stochastic Optimizer: Maximum iterations reached and the optimization hasn't converged yet.\n",
      "  % (), ConvergenceWarning)\n"
     ]
    },
    {
     "name": "stdout",
     "output_type": "stream",
     "text": [
      "[CV]  solver=adam, activation=relu, alpha=0.001, score=-5.509615, total=   0.0s\n",
      "[CV] solver=lbfgs, activation=relu, alpha=0.01 .......................\n",
      "[CV]  solver=lbfgs, activation=relu, alpha=0.01, score=0.660118, total=   0.0s\n",
      "[CV] solver=lbfgs, activation=relu, alpha=0.01 .......................\n",
      "[CV]  solver=lbfgs, activation=relu, alpha=0.01, score=0.814281, total=   0.0s\n",
      "[CV] solver=lbfgs, activation=relu, alpha=0.01 .......................\n",
      "[CV]  solver=lbfgs, activation=relu, alpha=0.01, score=0.611465, total=   0.0s\n",
      "[CV] solver=lbfgs, activation=relu, alpha=0.01 .......................\n",
      "[CV]  solver=lbfgs, activation=relu, alpha=0.01, score=0.448547, total=   0.0s\n",
      "[CV] solver=lbfgs, activation=relu, alpha=0.01 .......................\n",
      "[CV]  solver=lbfgs, activation=relu, alpha=0.01, score=0.401489, total=   0.0s\n",
      "[CV] solver=sgd, activation=relu, alpha=0.01 .........................\n",
      "[CV]  solver=sgd, activation=relu, alpha=0.01, score=-0.737487, total=   0.0s\n",
      "[CV] solver=sgd, activation=relu, alpha=0.01 .........................\n",
      "[CV]  solver=sgd, activation=relu, alpha=0.01, score=-0.118999, total=   0.0s\n",
      "[CV] solver=sgd, activation=relu, alpha=0.01 .........................\n",
      "[CV]  solver=sgd, activation=relu, alpha=0.01, score=-0.300654, total=   0.0s\n",
      "[CV] solver=sgd, activation=relu, alpha=0.01 .........................\n",
      "[CV]  solver=sgd, activation=relu, alpha=0.01, score=0.174604, total=   0.0s\n",
      "[CV] solver=sgd, activation=relu, alpha=0.01 .........................\n",
      "[CV]  solver=sgd, activation=relu, alpha=0.01, score=-0.095028, total=   0.0s\n",
      "[CV] solver=adam, activation=relu, alpha=0.01 ........................\n"
     ]
    },
    {
     "name": "stderr",
     "output_type": "stream",
     "text": [
      "C:\\Users\\Vu Anh Vinh\\Miniconda3\\envs\\thkstat\\lib\\site-packages\\sklearn\\neural_network\\multilayer_perceptron.py:563: ConvergenceWarning: Stochastic Optimizer: Maximum iterations reached and the optimization hasn't converged yet.\n",
      "  % (), ConvergenceWarning)\n",
      "C:\\Users\\Vu Anh Vinh\\Miniconda3\\envs\\thkstat\\lib\\site-packages\\sklearn\\neural_network\\multilayer_perceptron.py:563: ConvergenceWarning: Stochastic Optimizer: Maximum iterations reached and the optimization hasn't converged yet.\n",
      "  % (), ConvergenceWarning)\n"
     ]
    },
    {
     "name": "stdout",
     "output_type": "stream",
     "text": [
      "[CV]  solver=adam, activation=relu, alpha=0.01, score=-1.629358, total=   0.0s\n",
      "[CV] solver=adam, activation=relu, alpha=0.01 ........................\n",
      "[CV]  solver=adam, activation=relu, alpha=0.01, score=-2.638387, total=   0.1s\n",
      "[CV] solver=adam, activation=relu, alpha=0.01 ........................\n"
     ]
    },
    {
     "name": "stderr",
     "output_type": "stream",
     "text": [
      "C:\\Users\\Vu Anh Vinh\\Miniconda3\\envs\\thkstat\\lib\\site-packages\\sklearn\\neural_network\\multilayer_perceptron.py:563: ConvergenceWarning: Stochastic Optimizer: Maximum iterations reached and the optimization hasn't converged yet.\n",
      "  % (), ConvergenceWarning)\n",
      "C:\\Users\\Vu Anh Vinh\\Miniconda3\\envs\\thkstat\\lib\\site-packages\\sklearn\\neural_network\\multilayer_perceptron.py:563: ConvergenceWarning: Stochastic Optimizer: Maximum iterations reached and the optimization hasn't converged yet.\n",
      "  % (), ConvergenceWarning)\n"
     ]
    },
    {
     "name": "stdout",
     "output_type": "stream",
     "text": [
      "[CV]  solver=adam, activation=relu, alpha=0.01, score=-3.316991, total=   0.1s\n",
      "[CV] solver=adam, activation=relu, alpha=0.01 ........................\n",
      "[CV]  solver=adam, activation=relu, alpha=0.01, score=-5.207803, total=   0.0s\n",
      "[CV] solver=adam, activation=relu, alpha=0.01 ........................\n"
     ]
    },
    {
     "name": "stderr",
     "output_type": "stream",
     "text": [
      "C:\\Users\\Vu Anh Vinh\\Miniconda3\\envs\\thkstat\\lib\\site-packages\\sklearn\\neural_network\\multilayer_perceptron.py:563: ConvergenceWarning: Stochastic Optimizer: Maximum iterations reached and the optimization hasn't converged yet.\n",
      "  % (), ConvergenceWarning)\n"
     ]
    },
    {
     "name": "stdout",
     "output_type": "stream",
     "text": [
      "[CV]  solver=adam, activation=relu, alpha=0.01, score=-4.208521, total=   0.2s\n",
      "[CV] solver=lbfgs, activation=relu, alpha=0.1 ........................\n",
      "[CV]  solver=lbfgs, activation=relu, alpha=0.1, score=0.583997, total=   0.0s\n",
      "[CV] solver=lbfgs, activation=relu, alpha=0.1 ........................\n",
      "[CV]  solver=lbfgs, activation=relu, alpha=0.1, score=0.846790, total=   0.0s\n",
      "[CV] solver=lbfgs, activation=relu, alpha=0.1 ........................\n",
      "[CV]  solver=lbfgs, activation=relu, alpha=0.1, score=0.652163, total=   0.0s\n",
      "[CV] solver=lbfgs, activation=relu, alpha=0.1 ........................\n",
      "[CV]  solver=lbfgs, activation=relu, alpha=0.1, score=0.462966, total=   0.0s\n",
      "[CV] solver=lbfgs, activation=relu, alpha=0.1 ........................\n",
      "[CV]  solver=lbfgs, activation=relu, alpha=0.1, score=0.478036, total=   0.0s\n",
      "[CV] solver=sgd, activation=relu, alpha=0.1 ..........................\n",
      "[CV]  solver=sgd, activation=relu, alpha=0.1, score=-0.161133, total=   0.0s\n",
      "[CV] solver=sgd, activation=relu, alpha=0.1 ..........................\n",
      "[CV]  solver=sgd, activation=relu, alpha=0.1, score=-0.115812, total=   0.0s\n",
      "[CV] solver=sgd, activation=relu, alpha=0.1 ..........................\n",
      "[CV]  solver=sgd, activation=relu, alpha=0.1, score=0.127910, total=   0.0s\n",
      "[CV] solver=sgd, activation=relu, alpha=0.1 ..........................\n",
      "[CV]  solver=sgd, activation=relu, alpha=0.1, score=0.371525, total=   0.0s\n",
      "[CV] solver=sgd, activation=relu, alpha=0.1 ..........................\n",
      "[CV]  solver=sgd, activation=relu, alpha=0.1, score=0.021463, total=   0.0s\n",
      "[CV] solver=adam, activation=relu, alpha=0.1 .........................\n"
     ]
    },
    {
     "name": "stderr",
     "output_type": "stream",
     "text": [
      "C:\\Users\\Vu Anh Vinh\\Miniconda3\\envs\\thkstat\\lib\\site-packages\\sklearn\\neural_network\\multilayer_perceptron.py:563: ConvergenceWarning: Stochastic Optimizer: Maximum iterations reached and the optimization hasn't converged yet.\n",
      "  % (), ConvergenceWarning)\n",
      "C:\\Users\\Vu Anh Vinh\\Miniconda3\\envs\\thkstat\\lib\\site-packages\\sklearn\\neural_network\\multilayer_perceptron.py:563: ConvergenceWarning: Stochastic Optimizer: Maximum iterations reached and the optimization hasn't converged yet.\n",
      "  % (), ConvergenceWarning)\n"
     ]
    },
    {
     "name": "stdout",
     "output_type": "stream",
     "text": [
      "[CV]  solver=adam, activation=relu, alpha=0.1, score=-2.115383, total=   0.1s\n",
      "[CV] solver=adam, activation=relu, alpha=0.1 .........................\n",
      "[CV]  solver=adam, activation=relu, alpha=0.1, score=-2.648842, total=   0.0s\n",
      "[CV] solver=adam, activation=relu, alpha=0.1 .........................\n"
     ]
    },
    {
     "name": "stderr",
     "output_type": "stream",
     "text": [
      "C:\\Users\\Vu Anh Vinh\\Miniconda3\\envs\\thkstat\\lib\\site-packages\\sklearn\\neural_network\\multilayer_perceptron.py:563: ConvergenceWarning: Stochastic Optimizer: Maximum iterations reached and the optimization hasn't converged yet.\n",
      "  % (), ConvergenceWarning)\n",
      "C:\\Users\\Vu Anh Vinh\\Miniconda3\\envs\\thkstat\\lib\\site-packages\\sklearn\\neural_network\\multilayer_perceptron.py:563: ConvergenceWarning: Stochastic Optimizer: Maximum iterations reached and the optimization hasn't converged yet.\n",
      "  % (), ConvergenceWarning)\n"
     ]
    },
    {
     "name": "stdout",
     "output_type": "stream",
     "text": [
      "[CV]  solver=adam, activation=relu, alpha=0.1, score=-3.346510, total=   0.0s\n",
      "[CV] solver=adam, activation=relu, alpha=0.1 .........................\n",
      "[CV]  solver=adam, activation=relu, alpha=0.1, score=-6.262466, total=   0.0s\n",
      "[CV] solver=adam, activation=relu, alpha=0.1 .........................\n"
     ]
    },
    {
     "name": "stderr",
     "output_type": "stream",
     "text": [
      "C:\\Users\\Vu Anh Vinh\\Miniconda3\\envs\\thkstat\\lib\\site-packages\\sklearn\\neural_network\\multilayer_perceptron.py:563: ConvergenceWarning: Stochastic Optimizer: Maximum iterations reached and the optimization hasn't converged yet.\n",
      "  % (), ConvergenceWarning)\n"
     ]
    },
    {
     "name": "stdout",
     "output_type": "stream",
     "text": [
      "[CV]  solver=adam, activation=relu, alpha=0.1, score=-5.384391, total=   0.0s\n",
      "[CV] solver=lbfgs, activation=relu, alpha=1.0 ........................\n",
      "[CV]  solver=lbfgs, activation=relu, alpha=1.0, score=0.655298, total=   0.0s\n",
      "[CV] solver=lbfgs, activation=relu, alpha=1.0 ........................\n",
      "[CV]  solver=lbfgs, activation=relu, alpha=1.0, score=0.814895, total=   0.0s\n",
      "[CV] solver=lbfgs, activation=relu, alpha=1.0 ........................\n",
      "[CV]  solver=lbfgs, activation=relu, alpha=1.0, score=0.660527, total=   0.0s\n",
      "[CV] solver=lbfgs, activation=relu, alpha=1.0 ........................\n",
      "[CV]  solver=lbfgs, activation=relu, alpha=1.0, score=0.457786, total=   0.0s\n",
      "[CV] solver=lbfgs, activation=relu, alpha=1.0 ........................\n",
      "[CV]  solver=lbfgs, activation=relu, alpha=1.0, score=0.527606, total=   0.0s\n",
      "[CV] solver=sgd, activation=relu, alpha=1.0 ..........................\n",
      "[CV]  solver=sgd, activation=relu, alpha=1.0, score=-0.585975, total=   0.0s\n",
      "[CV] solver=sgd, activation=relu, alpha=1.0 ..........................\n",
      "[CV]  solver=sgd, activation=relu, alpha=1.0, score=-0.001928, total=   0.0s\n",
      "[CV] solver=sgd, activation=relu, alpha=1.0 ..........................\n",
      "[CV]  solver=sgd, activation=relu, alpha=1.0, score=-0.317842, total=   0.0s\n",
      "[CV] solver=sgd, activation=relu, alpha=1.0 ..........................\n",
      "[CV]  solver=sgd, activation=relu, alpha=1.0, score=-0.142164, total=   0.0s\n",
      "[CV] solver=sgd, activation=relu, alpha=1.0 ..........................\n",
      "[CV]  solver=sgd, activation=relu, alpha=1.0, score=-0.132599, total=   0.0s\n",
      "[CV] solver=adam, activation=relu, alpha=1.0 .........................\n",
      "[CV]  solver=adam, activation=relu, alpha=1.0, score=-2.329183, total=   0.0s\n",
      "[CV] solver=adam, activation=relu, alpha=1.0 .........................\n"
     ]
    },
    {
     "name": "stderr",
     "output_type": "stream",
     "text": [
      "C:\\Users\\Vu Anh Vinh\\Miniconda3\\envs\\thkstat\\lib\\site-packages\\sklearn\\neural_network\\multilayer_perceptron.py:563: ConvergenceWarning: Stochastic Optimizer: Maximum iterations reached and the optimization hasn't converged yet.\n",
      "  % (), ConvergenceWarning)\n",
      "C:\\Users\\Vu Anh Vinh\\Miniconda3\\envs\\thkstat\\lib\\site-packages\\sklearn\\neural_network\\multilayer_perceptron.py:563: ConvergenceWarning: Stochastic Optimizer: Maximum iterations reached and the optimization hasn't converged yet.\n",
      "  % (), ConvergenceWarning)\n"
     ]
    },
    {
     "name": "stdout",
     "output_type": "stream",
     "text": [
      "[CV]  solver=adam, activation=relu, alpha=1.0, score=-3.630723, total=   0.1s\n",
      "[CV] solver=adam, activation=relu, alpha=1.0 .........................\n",
      "[CV]  solver=adam, activation=relu, alpha=1.0, score=-3.091598, total=   0.0s\n",
      "[CV] solver=adam, activation=relu, alpha=1.0 .........................\n"
     ]
    },
    {
     "name": "stderr",
     "output_type": "stream",
     "text": [
      "C:\\Users\\Vu Anh Vinh\\Miniconda3\\envs\\thkstat\\lib\\site-packages\\sklearn\\neural_network\\multilayer_perceptron.py:563: ConvergenceWarning: Stochastic Optimizer: Maximum iterations reached and the optimization hasn't converged yet.\n",
      "  % (), ConvergenceWarning)\n",
      "C:\\Users\\Vu Anh Vinh\\Miniconda3\\envs\\thkstat\\lib\\site-packages\\sklearn\\neural_network\\multilayer_perceptron.py:563: ConvergenceWarning: Stochastic Optimizer: Maximum iterations reached and the optimization hasn't converged yet.\n",
      "  % (), ConvergenceWarning)\n"
     ]
    },
    {
     "name": "stdout",
     "output_type": "stream",
     "text": [
      "[CV]  solver=adam, activation=relu, alpha=1.0, score=-4.861690, total=   0.0s\n",
      "[CV] solver=adam, activation=relu, alpha=1.0 .........................\n",
      "[CV]  solver=adam, activation=relu, alpha=1.0, score=-4.510707, total=   0.0s\n",
      "[CV] solver=lbfgs, activation=relu, alpha=10 .........................\n"
     ]
    },
    {
     "name": "stderr",
     "output_type": "stream",
     "text": [
      "C:\\Users\\Vu Anh Vinh\\Miniconda3\\envs\\thkstat\\lib\\site-packages\\sklearn\\neural_network\\multilayer_perceptron.py:563: ConvergenceWarning: Stochastic Optimizer: Maximum iterations reached and the optimization hasn't converged yet.\n",
      "  % (), ConvergenceWarning)\n"
     ]
    },
    {
     "name": "stdout",
     "output_type": "stream",
     "text": [
      "[CV]  solver=lbfgs, activation=relu, alpha=10, score=0.642577, total=   0.0s\n",
      "[CV] solver=lbfgs, activation=relu, alpha=10 .........................\n",
      "[CV]  solver=lbfgs, activation=relu, alpha=10, score=0.790027, total=   0.0s\n",
      "[CV] solver=lbfgs, activation=relu, alpha=10 .........................\n",
      "[CV]  solver=lbfgs, activation=relu, alpha=10, score=0.663395, total=   0.0s\n",
      "[CV] solver=lbfgs, activation=relu, alpha=10 .........................\n",
      "[CV]  solver=lbfgs, activation=relu, alpha=10, score=0.648265, total=   0.0s\n",
      "[CV] solver=lbfgs, activation=relu, alpha=10 .........................\n",
      "[CV]  solver=lbfgs, activation=relu, alpha=10, score=0.554807, total=   0.0s\n",
      "[CV] solver=sgd, activation=relu, alpha=10 ...........................\n",
      "[CV]  solver=sgd, activation=relu, alpha=10, score=-0.447539, total=   0.0s\n",
      "[CV] solver=sgd, activation=relu, alpha=10 ...........................\n",
      "[CV]  solver=sgd, activation=relu, alpha=10, score=0.129866, total=   0.0s\n",
      "[CV] solver=sgd, activation=relu, alpha=10 ...........................\n",
      "[CV]  solver=sgd, activation=relu, alpha=10, score=0.126370, total=   0.0s\n",
      "[CV] solver=sgd, activation=relu, alpha=10 ...........................\n",
      "[CV]  solver=sgd, activation=relu, alpha=10, score=-0.092708, total=   0.0s\n",
      "[CV] solver=sgd, activation=relu, alpha=10 ...........................\n",
      "[CV]  solver=sgd, activation=relu, alpha=10, score=0.089180, total=   0.0s\n",
      "[CV] solver=adam, activation=relu, alpha=10 ..........................\n"
     ]
    },
    {
     "name": "stderr",
     "output_type": "stream",
     "text": [
      "C:\\Users\\Vu Anh Vinh\\Miniconda3\\envs\\thkstat\\lib\\site-packages\\sklearn\\neural_network\\multilayer_perceptron.py:563: ConvergenceWarning: Stochastic Optimizer: Maximum iterations reached and the optimization hasn't converged yet.\n",
      "  % (), ConvergenceWarning)\n",
      "C:\\Users\\Vu Anh Vinh\\Miniconda3\\envs\\thkstat\\lib\\site-packages\\sklearn\\neural_network\\multilayer_perceptron.py:563: ConvergenceWarning: Stochastic Optimizer: Maximum iterations reached and the optimization hasn't converged yet.\n",
      "  % (), ConvergenceWarning)\n"
     ]
    },
    {
     "name": "stdout",
     "output_type": "stream",
     "text": [
      "[CV]  solver=adam, activation=relu, alpha=10, score=-2.725020, total=   0.0s\n",
      "[CV] solver=adam, activation=relu, alpha=10 ..........................\n",
      "[CV]  solver=adam, activation=relu, alpha=10, score=-3.006543, total=   0.0s\n",
      "[CV] solver=adam, activation=relu, alpha=10 ..........................\n"
     ]
    },
    {
     "name": "stderr",
     "output_type": "stream",
     "text": [
      "C:\\Users\\Vu Anh Vinh\\Miniconda3\\envs\\thkstat\\lib\\site-packages\\sklearn\\neural_network\\multilayer_perceptron.py:563: ConvergenceWarning: Stochastic Optimizer: Maximum iterations reached and the optimization hasn't converged yet.\n",
      "  % (), ConvergenceWarning)\n",
      "C:\\Users\\Vu Anh Vinh\\Miniconda3\\envs\\thkstat\\lib\\site-packages\\sklearn\\neural_network\\multilayer_perceptron.py:563: ConvergenceWarning: Stochastic Optimizer: Maximum iterations reached and the optimization hasn't converged yet.\n",
      "  % (), ConvergenceWarning)\n"
     ]
    },
    {
     "name": "stdout",
     "output_type": "stream",
     "text": [
      "[CV]  solver=adam, activation=relu, alpha=10, score=-4.052390, total=   0.1s\n",
      "[CV] solver=adam, activation=relu, alpha=10 ..........................\n",
      "[CV]  solver=adam, activation=relu, alpha=10, score=-5.755968, total=   0.0s\n",
      "[CV] solver=adam, activation=relu, alpha=10 ..........................\n"
     ]
    },
    {
     "name": "stderr",
     "output_type": "stream",
     "text": [
      "C:\\Users\\Vu Anh Vinh\\Miniconda3\\envs\\thkstat\\lib\\site-packages\\sklearn\\neural_network\\multilayer_perceptron.py:563: ConvergenceWarning: Stochastic Optimizer: Maximum iterations reached and the optimization hasn't converged yet.\n",
      "  % (), ConvergenceWarning)\n"
     ]
    },
    {
     "name": "stdout",
     "output_type": "stream",
     "text": [
      "[CV]  solver=adam, activation=relu, alpha=10, score=-5.018184, total=   0.0s\n",
      "[CV] solver=lbfgs, activation=relu, alpha=100 ........................\n",
      "[CV]  solver=lbfgs, activation=relu, alpha=100, score=0.612814, total=   0.0s\n",
      "[CV] solver=lbfgs, activation=relu, alpha=100 ........................\n",
      "[CV]  solver=lbfgs, activation=relu, alpha=100, score=0.658053, total=   0.0s\n",
      "[CV] solver=lbfgs, activation=relu, alpha=100 ........................\n",
      "[CV]  solver=lbfgs, activation=relu, alpha=100, score=0.633679, total=   0.0s\n",
      "[CV] solver=lbfgs, activation=relu, alpha=100 ........................\n",
      "[CV]  solver=lbfgs, activation=relu, alpha=100, score=0.697309, total=   0.0s\n",
      "[CV] solver=lbfgs, activation=relu, alpha=100 ........................\n",
      "[CV]  solver=lbfgs, activation=relu, alpha=100, score=0.452922, total=   0.0s\n",
      "[CV] solver=sgd, activation=relu, alpha=100 ..........................\n",
      "[CV]  solver=sgd, activation=relu, alpha=100, score=-0.141205, total=   0.0s\n",
      "[CV] solver=sgd, activation=relu, alpha=100 ..........................\n",
      "[CV]  solver=sgd, activation=relu, alpha=100, score=0.070751, total=   0.0s\n",
      "[CV] solver=sgd, activation=relu, alpha=100 ..........................\n",
      "[CV]  solver=sgd, activation=relu, alpha=100, score=-0.312078, total=   0.0s\n",
      "[CV] solver=sgd, activation=relu, alpha=100 ..........................\n",
      "[CV]  solver=sgd, activation=relu, alpha=100, score=-0.075522, total=   0.0s\n",
      "[CV] solver=sgd, activation=relu, alpha=100 ..........................\n",
      "[CV]  solver=sgd, activation=relu, alpha=100, score=-0.230248, total=   0.0s\n",
      "[CV] solver=adam, activation=relu, alpha=100 .........................\n"
     ]
    },
    {
     "name": "stderr",
     "output_type": "stream",
     "text": [
      "C:\\Users\\Vu Anh Vinh\\Miniconda3\\envs\\thkstat\\lib\\site-packages\\sklearn\\neural_network\\multilayer_perceptron.py:563: ConvergenceWarning: Stochastic Optimizer: Maximum iterations reached and the optimization hasn't converged yet.\n",
      "  % (), ConvergenceWarning)\n",
      "C:\\Users\\Vu Anh Vinh\\Miniconda3\\envs\\thkstat\\lib\\site-packages\\sklearn\\neural_network\\multilayer_perceptron.py:563: ConvergenceWarning: Stochastic Optimizer: Maximum iterations reached and the optimization hasn't converged yet.\n",
      "  % (), ConvergenceWarning)\n"
     ]
    },
    {
     "name": "stdout",
     "output_type": "stream",
     "text": [
      "[CV]  solver=adam, activation=relu, alpha=100, score=-1.844158, total=   0.1s\n",
      "[CV] solver=adam, activation=relu, alpha=100 .........................\n",
      "[CV]  solver=adam, activation=relu, alpha=100, score=-3.073839, total=   0.1s\n",
      "[CV] solver=adam, activation=relu, alpha=100 .........................\n"
     ]
    },
    {
     "name": "stderr",
     "output_type": "stream",
     "text": [
      "C:\\Users\\Vu Anh Vinh\\Miniconda3\\envs\\thkstat\\lib\\site-packages\\sklearn\\neural_network\\multilayer_perceptron.py:563: ConvergenceWarning: Stochastic Optimizer: Maximum iterations reached and the optimization hasn't converged yet.\n",
      "  % (), ConvergenceWarning)\n",
      "C:\\Users\\Vu Anh Vinh\\Miniconda3\\envs\\thkstat\\lib\\site-packages\\sklearn\\neural_network\\multilayer_perceptron.py:563: ConvergenceWarning: Stochastic Optimizer: Maximum iterations reached and the optimization hasn't converged yet.\n",
      "  % (), ConvergenceWarning)\n"
     ]
    },
    {
     "name": "stdout",
     "output_type": "stream",
     "text": [
      "[CV]  solver=adam, activation=relu, alpha=100, score=-2.992569, total=   0.0s\n",
      "[CV] solver=adam, activation=relu, alpha=100 .........................\n",
      "[CV]  solver=adam, activation=relu, alpha=100, score=-6.078200, total=   0.0s\n",
      "[CV] solver=adam, activation=relu, alpha=100 .........................\n"
     ]
    },
    {
     "name": "stderr",
     "output_type": "stream",
     "text": [
      "C:\\Users\\Vu Anh Vinh\\Miniconda3\\envs\\thkstat\\lib\\site-packages\\sklearn\\neural_network\\multilayer_perceptron.py:563: ConvergenceWarning: Stochastic Optimizer: Maximum iterations reached and the optimization hasn't converged yet.\n",
      "  % (), ConvergenceWarning)\n",
      "[Parallel(n_jobs=1)]: Done 360 out of 360 | elapsed:   38.0s finished\n"
     ]
    },
    {
     "name": "stdout",
     "output_type": "stream",
     "text": [
      "[CV]  solver=adam, activation=relu, alpha=100, score=-5.496133, total=   0.0s\n",
      "Best hyper parameters: {'solver': 'lbfgs', 'activation': 'identity', 'alpha': 10}\n",
      "Best score of this configuration: 0.661366479747\n",
      "max score: 0.838\n",
      "                  predicted value\ttrue value \n",
      "student  4\t\t21.915\t\t28.000\n",
      "student 15\t\t65.208\t\t75.000\n",
      "student 18\t\t12.882\t\t0.000\n",
      "student 19\t\t38.280\t\t36.000\n",
      "student 21\t\t76.840\t\t81.000\n",
      "student 31\t\t53.713\t\t65.000\n",
      "student 33\t\t49.642\t\t48.000\n",
      "student 35\t\t52.232\t\t73.000\n",
      "student 37\t\t63.499\t\t62.000\n",
      "student 43\t\t5.137\t\t9.000\n",
      "student 44\t\t34.733\t\t40.000\n",
      "student 46\t\t65.720\t\t61.000\n",
      "student 47\t\t50.584\t\t37.000\n",
      "student 56\t\t53.911\t\t61.000\n",
      "student 57\t\t67.685\t\t77.000\n",
      "student 59\t\t39.637\t\t39.000\n",
      "student 61\t\t50.845\t\t58.000\n",
      "student 67\t\t55.984\t\t62.000\n",
      "student 68\t\t71.624\t\t85.000\n",
      "student 69\t\t54.962\t\t55.000\n",
      "student 70\t\t60.373\t\t66.000\n",
      "student 78\t\t46.647\t\t43.000\n",
      "student 81\t\t49.556\t\t39.000\n",
      "Grid search for... K Nearest Neighbors\n",
      "KNeighborsRegressor(algorithm='auto', leaf_size=30, metric='minkowski',\n",
      "          metric_params=None, n_jobs=1, n_neighbors=5, p=2,\n",
      "          weights='uniform')\n",
      "Fitting 5 folds for each of 2 candidates, totalling 10 fits\n",
      "[CV] weights=uniform .................................................\n",
      "[CV] .................. weights=uniform, score=0.735553, total=   0.0s\n",
      "[CV] weights=uniform .................................................\n",
      "[CV] .................. weights=uniform, score=0.546175, total=   0.0s\n",
      "[CV] weights=uniform .................................................\n",
      "[CV] .................. weights=uniform, score=0.701847, total=   0.0s\n",
      "[CV] weights=uniform .................................................\n",
      "[CV] .................. weights=uniform, score=0.444544, total=   0.0s\n",
      "[CV] weights=uniform .................................................\n",
      "[CV] .................. weights=uniform, score=0.635494, total=   0.0s\n",
      "[CV] weights=distance ................................................\n",
      "[CV] ................. weights=distance, score=0.772823, total=   0.0s\n",
      "[CV] weights=distance ................................................\n",
      "[CV] ................. weights=distance, score=0.517595, total=   0.0s\n",
      "[CV] weights=distance ................................................\n",
      "[CV] ................. weights=distance, score=0.650990, total=   0.0s\n",
      "[CV] weights=distance ................................................\n",
      "[CV] ................. weights=distance, score=0.264320, total=   0.0s\n",
      "[CV] weights=distance ................................................\n",
      "[CV] ................. weights=distance, score=0.587483, total=   0.0s\n",
      "Best hyper parameters: {'weights': 'uniform'}\n",
      "Best score of this configuration: 0.614072433115\n",
      "max score: 0.761\n",
      "                  predicted value\ttrue value \n",
      "student  1\t\t55.600\t\t54.000\n",
      "student  3\t\t67.000\t\t69.000\n",
      "student  8\t\t69.000\t\t90.000\n",
      "student  9\t\t78.200\t\t87.000\n",
      "student 17\t\t52.600\t\t61.000\n",
      "student 20\t\t58.800\t\t71.000\n",
      "student 32\t\t55.400\t\t60.000\n",
      "student 36\t\t47.400\t\t43.000\n",
      "student 38\t\t40.600\t\t36.000\n",
      "student 47\t\t46.800\t\t37.000\n",
      "student 48\t\t80.600\t\t86.000\n",
      "student 53\t\t51.600\t\t39.000\n",
      "student 54\t\t39.000\t\t32.000\n",
      "student 58\t\t65.400\t\t84.000\n",
      "student 60\t\t40.800\t\t39.000\n",
      "student 62\t\t21.200\t\t0.000\n",
      "student 68\t\t71.600\t\t85.000\n",
      "student 70\t\t58.600\t\t66.000\n",
      "student 75\t\t55.800\t\t53.000\n",
      "student 77\t\t59.400\t\t71.000\n",
      "student 80\t\t43.200\t\t35.000\n",
      "student 86\t\t41.600\t\t40.000\n",
      "student 90\t\t58.600\t\t80.000\n",
      "average cv score:[ 0.65384442  0.63754981  0.46213951  0.63174987  0.65300658  0.66136648\n",
      "  0.61407243]\n",
      "average prediction variability:[ 0.72992036  0.73504648  0.76728102  0.75397927  0.75619797  0.83839846\n",
      "  0.76053659]\n"
     ]
    },
    {
     "name": "stderr",
     "output_type": "stream",
     "text": [
      "C:\\Users\\Vu Anh Vinh\\Miniconda3\\envs\\thkstat\\lib\\site-packages\\sklearn\\utils\\validation.py:395: DeprecationWarning: Passing 1d arrays as data is deprecated in 0.17 and will raise ValueError in 0.19. Reshape your data either using X.reshape(-1, 1) if your data has a single feature or X.reshape(1, -1) if it contains a single sample.\n",
      "  DeprecationWarning)\n",
      "C:\\Users\\Vu Anh Vinh\\Miniconda3\\envs\\thkstat\\lib\\site-packages\\sklearn\\utils\\validation.py:395: DeprecationWarning: Passing 1d arrays as data is deprecated in 0.17 and will raise ValueError in 0.19. Reshape your data either using X.reshape(-1, 1) if your data has a single feature or X.reshape(1, -1) if it contains a single sample.\n",
      "  DeprecationWarning)\n",
      "C:\\Users\\Vu Anh Vinh\\Miniconda3\\envs\\thkstat\\lib\\site-packages\\sklearn\\utils\\validation.py:395: DeprecationWarning: Passing 1d arrays as data is deprecated in 0.17 and will raise ValueError in 0.19. Reshape your data either using X.reshape(-1, 1) if your data has a single feature or X.reshape(1, -1) if it contains a single sample.\n",
      "  DeprecationWarning)\n",
      "C:\\Users\\Vu Anh Vinh\\Miniconda3\\envs\\thkstat\\lib\\site-packages\\sklearn\\utils\\validation.py:395: DeprecationWarning: Passing 1d arrays as data is deprecated in 0.17 and will raise ValueError in 0.19. Reshape your data either using X.reshape(-1, 1) if your data has a single feature or X.reshape(1, -1) if it contains a single sample.\n",
      "  DeprecationWarning)\n",
      "C:\\Users\\Vu Anh Vinh\\Miniconda3\\envs\\thkstat\\lib\\site-packages\\sklearn\\utils\\validation.py:395: DeprecationWarning: Passing 1d arrays as data is deprecated in 0.17 and will raise ValueError in 0.19. Reshape your data either using X.reshape(-1, 1) if your data has a single feature or X.reshape(1, -1) if it contains a single sample.\n",
      "  DeprecationWarning)\n",
      "C:\\Users\\Vu Anh Vinh\\Miniconda3\\envs\\thkstat\\lib\\site-packages\\sklearn\\utils\\validation.py:395: DeprecationWarning: Passing 1d arrays as data is deprecated in 0.17 and will raise ValueError in 0.19. Reshape your data either using X.reshape(-1, 1) if your data has a single feature or X.reshape(1, -1) if it contains a single sample.\n",
      "  DeprecationWarning)\n",
      "C:\\Users\\Vu Anh Vinh\\Miniconda3\\envs\\thkstat\\lib\\site-packages\\sklearn\\utils\\validation.py:395: DeprecationWarning: Passing 1d arrays as data is deprecated in 0.17 and will raise ValueError in 0.19. Reshape your data either using X.reshape(-1, 1) if your data has a single feature or X.reshape(1, -1) if it contains a single sample.\n",
      "  DeprecationWarning)\n",
      "C:\\Users\\Vu Anh Vinh\\Miniconda3\\envs\\thkstat\\lib\\site-packages\\sklearn\\utils\\validation.py:395: DeprecationWarning: Passing 1d arrays as data is deprecated in 0.17 and will raise ValueError in 0.19. Reshape your data either using X.reshape(-1, 1) if your data has a single feature or X.reshape(1, -1) if it contains a single sample.\n",
      "  DeprecationWarning)\n",
      "C:\\Users\\Vu Anh Vinh\\Miniconda3\\envs\\thkstat\\lib\\site-packages\\sklearn\\utils\\validation.py:395: DeprecationWarning: Passing 1d arrays as data is deprecated in 0.17 and will raise ValueError in 0.19. Reshape your data either using X.reshape(-1, 1) if your data has a single feature or X.reshape(1, -1) if it contains a single sample.\n",
      "  DeprecationWarning)\n",
      "C:\\Users\\Vu Anh Vinh\\Miniconda3\\envs\\thkstat\\lib\\site-packages\\sklearn\\utils\\validation.py:395: DeprecationWarning: Passing 1d arrays as data is deprecated in 0.17 and will raise ValueError in 0.19. Reshape your data either using X.reshape(-1, 1) if your data has a single feature or X.reshape(1, -1) if it contains a single sample.\n",
      "  DeprecationWarning)\n",
      "C:\\Users\\Vu Anh Vinh\\Miniconda3\\envs\\thkstat\\lib\\site-packages\\sklearn\\utils\\validation.py:395: DeprecationWarning: Passing 1d arrays as data is deprecated in 0.17 and will raise ValueError in 0.19. Reshape your data either using X.reshape(-1, 1) if your data has a single feature or X.reshape(1, -1) if it contains a single sample.\n",
      "  DeprecationWarning)\n",
      "C:\\Users\\Vu Anh Vinh\\Miniconda3\\envs\\thkstat\\lib\\site-packages\\sklearn\\utils\\validation.py:395: DeprecationWarning: Passing 1d arrays as data is deprecated in 0.17 and will raise ValueError in 0.19. Reshape your data either using X.reshape(-1, 1) if your data has a single feature or X.reshape(1, -1) if it contains a single sample.\n",
      "  DeprecationWarning)\n",
      "C:\\Users\\Vu Anh Vinh\\Miniconda3\\envs\\thkstat\\lib\\site-packages\\sklearn\\utils\\validation.py:395: DeprecationWarning: Passing 1d arrays as data is deprecated in 0.17 and will raise ValueError in 0.19. Reshape your data either using X.reshape(-1, 1) if your data has a single feature or X.reshape(1, -1) if it contains a single sample.\n",
      "  DeprecationWarning)\n",
      "C:\\Users\\Vu Anh Vinh\\Miniconda3\\envs\\thkstat\\lib\\site-packages\\sklearn\\utils\\validation.py:395: DeprecationWarning: Passing 1d arrays as data is deprecated in 0.17 and will raise ValueError in 0.19. Reshape your data either using X.reshape(-1, 1) if your data has a single feature or X.reshape(1, -1) if it contains a single sample.\n",
      "  DeprecationWarning)\n",
      "C:\\Users\\Vu Anh Vinh\\Miniconda3\\envs\\thkstat\\lib\\site-packages\\sklearn\\utils\\validation.py:395: DeprecationWarning: Passing 1d arrays as data is deprecated in 0.17 and will raise ValueError in 0.19. Reshape your data either using X.reshape(-1, 1) if your data has a single feature or X.reshape(1, -1) if it contains a single sample.\n",
      "  DeprecationWarning)\n",
      "C:\\Users\\Vu Anh Vinh\\Miniconda3\\envs\\thkstat\\lib\\site-packages\\sklearn\\utils\\validation.py:395: DeprecationWarning: Passing 1d arrays as data is deprecated in 0.17 and will raise ValueError in 0.19. Reshape your data either using X.reshape(-1, 1) if your data has a single feature or X.reshape(1, -1) if it contains a single sample.\n",
      "  DeprecationWarning)\n",
      "C:\\Users\\Vu Anh Vinh\\Miniconda3\\envs\\thkstat\\lib\\site-packages\\sklearn\\utils\\validation.py:395: DeprecationWarning: Passing 1d arrays as data is deprecated in 0.17 and will raise ValueError in 0.19. Reshape your data either using X.reshape(-1, 1) if your data has a single feature or X.reshape(1, -1) if it contains a single sample.\n",
      "  DeprecationWarning)\n",
      "C:\\Users\\Vu Anh Vinh\\Miniconda3\\envs\\thkstat\\lib\\site-packages\\sklearn\\utils\\validation.py:395: DeprecationWarning: Passing 1d arrays as data is deprecated in 0.17 and will raise ValueError in 0.19. Reshape your data either using X.reshape(-1, 1) if your data has a single feature or X.reshape(1, -1) if it contains a single sample.\n",
      "  DeprecationWarning)\n",
      "C:\\Users\\Vu Anh Vinh\\Miniconda3\\envs\\thkstat\\lib\\site-packages\\sklearn\\utils\\validation.py:395: DeprecationWarning: Passing 1d arrays as data is deprecated in 0.17 and will raise ValueError in 0.19. Reshape your data either using X.reshape(-1, 1) if your data has a single feature or X.reshape(1, -1) if it contains a single sample.\n",
      "  DeprecationWarning)\n",
      "C:\\Users\\Vu Anh Vinh\\Miniconda3\\envs\\thkstat\\lib\\site-packages\\sklearn\\utils\\validation.py:395: DeprecationWarning: Passing 1d arrays as data is deprecated in 0.17 and will raise ValueError in 0.19. Reshape your data either using X.reshape(-1, 1) if your data has a single feature or X.reshape(1, -1) if it contains a single sample.\n",
      "  DeprecationWarning)\n",
      "C:\\Users\\Vu Anh Vinh\\Miniconda3\\envs\\thkstat\\lib\\site-packages\\sklearn\\utils\\validation.py:395: DeprecationWarning: Passing 1d arrays as data is deprecated in 0.17 and will raise ValueError in 0.19. Reshape your data either using X.reshape(-1, 1) if your data has a single feature or X.reshape(1, -1) if it contains a single sample.\n",
      "  DeprecationWarning)\n",
      "C:\\Users\\Vu Anh Vinh\\Miniconda3\\envs\\thkstat\\lib\\site-packages\\sklearn\\utils\\validation.py:395: DeprecationWarning: Passing 1d arrays as data is deprecated in 0.17 and will raise ValueError in 0.19. Reshape your data either using X.reshape(-1, 1) if your data has a single feature or X.reshape(1, -1) if it contains a single sample.\n",
      "  DeprecationWarning)\n",
      "C:\\Users\\Vu Anh Vinh\\Miniconda3\\envs\\thkstat\\lib\\site-packages\\sklearn\\utils\\validation.py:395: DeprecationWarning: Passing 1d arrays as data is deprecated in 0.17 and will raise ValueError in 0.19. Reshape your data either using X.reshape(-1, 1) if your data has a single feature or X.reshape(1, -1) if it contains a single sample.\n",
      "  DeprecationWarning)\n",
      "[Parallel(n_jobs=1)]: Done   1 out of   1 | elapsed:    0.0s remaining:    0.0s\n",
      "[Parallel(n_jobs=1)]: Done   2 out of   2 | elapsed:    0.0s remaining:    0.0s\n",
      "[Parallel(n_jobs=1)]: Done   3 out of   3 | elapsed:    0.0s remaining:    0.0s\n",
      "[Parallel(n_jobs=1)]: Done  10 out of  10 | elapsed:    0.0s finished\n",
      "C:\\Users\\Vu Anh Vinh\\Miniconda3\\envs\\thkstat\\lib\\site-packages\\sklearn\\utils\\validation.py:395: DeprecationWarning: Passing 1d arrays as data is deprecated in 0.17 and will raise ValueError in 0.19. Reshape your data either using X.reshape(-1, 1) if your data has a single feature or X.reshape(1, -1) if it contains a single sample.\n",
      "  DeprecationWarning)\n",
      "C:\\Users\\Vu Anh Vinh\\Miniconda3\\envs\\thkstat\\lib\\site-packages\\sklearn\\utils\\validation.py:395: DeprecationWarning: Passing 1d arrays as data is deprecated in 0.17 and will raise ValueError in 0.19. Reshape your data either using X.reshape(-1, 1) if your data has a single feature or X.reshape(1, -1) if it contains a single sample.\n",
      "  DeprecationWarning)\n",
      "C:\\Users\\Vu Anh Vinh\\Miniconda3\\envs\\thkstat\\lib\\site-packages\\sklearn\\utils\\validation.py:395: DeprecationWarning: Passing 1d arrays as data is deprecated in 0.17 and will raise ValueError in 0.19. Reshape your data either using X.reshape(-1, 1) if your data has a single feature or X.reshape(1, -1) if it contains a single sample.\n",
      "  DeprecationWarning)\n",
      "C:\\Users\\Vu Anh Vinh\\Miniconda3\\envs\\thkstat\\lib\\site-packages\\sklearn\\utils\\validation.py:395: DeprecationWarning: Passing 1d arrays as data is deprecated in 0.17 and will raise ValueError in 0.19. Reshape your data either using X.reshape(-1, 1) if your data has a single feature or X.reshape(1, -1) if it contains a single sample.\n",
      "  DeprecationWarning)\n",
      "C:\\Users\\Vu Anh Vinh\\Miniconda3\\envs\\thkstat\\lib\\site-packages\\sklearn\\utils\\validation.py:395: DeprecationWarning: Passing 1d arrays as data is deprecated in 0.17 and will raise ValueError in 0.19. Reshape your data either using X.reshape(-1, 1) if your data has a single feature or X.reshape(1, -1) if it contains a single sample.\n",
      "  DeprecationWarning)\n",
      "C:\\Users\\Vu Anh Vinh\\Miniconda3\\envs\\thkstat\\lib\\site-packages\\sklearn\\utils\\validation.py:395: DeprecationWarning: Passing 1d arrays as data is deprecated in 0.17 and will raise ValueError in 0.19. Reshape your data either using X.reshape(-1, 1) if your data has a single feature or X.reshape(1, -1) if it contains a single sample.\n",
      "  DeprecationWarning)\n",
      "C:\\Users\\Vu Anh Vinh\\Miniconda3\\envs\\thkstat\\lib\\site-packages\\sklearn\\utils\\validation.py:395: DeprecationWarning: Passing 1d arrays as data is deprecated in 0.17 and will raise ValueError in 0.19. Reshape your data either using X.reshape(-1, 1) if your data has a single feature or X.reshape(1, -1) if it contains a single sample.\n",
      "  DeprecationWarning)\n",
      "C:\\Users\\Vu Anh Vinh\\Miniconda3\\envs\\thkstat\\lib\\site-packages\\sklearn\\utils\\validation.py:395: DeprecationWarning: Passing 1d arrays as data is deprecated in 0.17 and will raise ValueError in 0.19. Reshape your data either using X.reshape(-1, 1) if your data has a single feature or X.reshape(1, -1) if it contains a single sample.\n",
      "  DeprecationWarning)\n",
      "C:\\Users\\Vu Anh Vinh\\Miniconda3\\envs\\thkstat\\lib\\site-packages\\sklearn\\utils\\validation.py:395: DeprecationWarning: Passing 1d arrays as data is deprecated in 0.17 and will raise ValueError in 0.19. Reshape your data either using X.reshape(-1, 1) if your data has a single feature or X.reshape(1, -1) if it contains a single sample.\n",
      "  DeprecationWarning)\n",
      "C:\\Users\\Vu Anh Vinh\\Miniconda3\\envs\\thkstat\\lib\\site-packages\\sklearn\\utils\\validation.py:395: DeprecationWarning: Passing 1d arrays as data is deprecated in 0.17 and will raise ValueError in 0.19. Reshape your data either using X.reshape(-1, 1) if your data has a single feature or X.reshape(1, -1) if it contains a single sample.\n",
      "  DeprecationWarning)\n",
      "C:\\Users\\Vu Anh Vinh\\Miniconda3\\envs\\thkstat\\lib\\site-packages\\sklearn\\utils\\validation.py:395: DeprecationWarning: Passing 1d arrays as data is deprecated in 0.17 and will raise ValueError in 0.19. Reshape your data either using X.reshape(-1, 1) if your data has a single feature or X.reshape(1, -1) if it contains a single sample.\n",
      "  DeprecationWarning)\n",
      "C:\\Users\\Vu Anh Vinh\\Miniconda3\\envs\\thkstat\\lib\\site-packages\\sklearn\\utils\\validation.py:395: DeprecationWarning: Passing 1d arrays as data is deprecated in 0.17 and will raise ValueError in 0.19. Reshape your data either using X.reshape(-1, 1) if your data has a single feature or X.reshape(1, -1) if it contains a single sample.\n",
      "  DeprecationWarning)\n",
      "C:\\Users\\Vu Anh Vinh\\Miniconda3\\envs\\thkstat\\lib\\site-packages\\sklearn\\utils\\validation.py:395: DeprecationWarning: Passing 1d arrays as data is deprecated in 0.17 and will raise ValueError in 0.19. Reshape your data either using X.reshape(-1, 1) if your data has a single feature or X.reshape(1, -1) if it contains a single sample.\n",
      "  DeprecationWarning)\n",
      "C:\\Users\\Vu Anh Vinh\\Miniconda3\\envs\\thkstat\\lib\\site-packages\\sklearn\\utils\\validation.py:395: DeprecationWarning: Passing 1d arrays as data is deprecated in 0.17 and will raise ValueError in 0.19. Reshape your data either using X.reshape(-1, 1) if your data has a single feature or X.reshape(1, -1) if it contains a single sample.\n",
      "  DeprecationWarning)\n",
      "C:\\Users\\Vu Anh Vinh\\Miniconda3\\envs\\thkstat\\lib\\site-packages\\sklearn\\utils\\validation.py:395: DeprecationWarning: Passing 1d arrays as data is deprecated in 0.17 and will raise ValueError in 0.19. Reshape your data either using X.reshape(-1, 1) if your data has a single feature or X.reshape(1, -1) if it contains a single sample.\n",
      "  DeprecationWarning)\n",
      "C:\\Users\\Vu Anh Vinh\\Miniconda3\\envs\\thkstat\\lib\\site-packages\\sklearn\\utils\\validation.py:395: DeprecationWarning: Passing 1d arrays as data is deprecated in 0.17 and will raise ValueError in 0.19. Reshape your data either using X.reshape(-1, 1) if your data has a single feature or X.reshape(1, -1) if it contains a single sample.\n",
      "  DeprecationWarning)\n",
      "C:\\Users\\Vu Anh Vinh\\Miniconda3\\envs\\thkstat\\lib\\site-packages\\sklearn\\utils\\validation.py:395: DeprecationWarning: Passing 1d arrays as data is deprecated in 0.17 and will raise ValueError in 0.19. Reshape your data either using X.reshape(-1, 1) if your data has a single feature or X.reshape(1, -1) if it contains a single sample.\n",
      "  DeprecationWarning)\n",
      "C:\\Users\\Vu Anh Vinh\\Miniconda3\\envs\\thkstat\\lib\\site-packages\\sklearn\\utils\\validation.py:395: DeprecationWarning: Passing 1d arrays as data is deprecated in 0.17 and will raise ValueError in 0.19. Reshape your data either using X.reshape(-1, 1) if your data has a single feature or X.reshape(1, -1) if it contains a single sample.\n",
      "  DeprecationWarning)\n",
      "C:\\Users\\Vu Anh Vinh\\Miniconda3\\envs\\thkstat\\lib\\site-packages\\sklearn\\utils\\validation.py:395: DeprecationWarning: Passing 1d arrays as data is deprecated in 0.17 and will raise ValueError in 0.19. Reshape your data either using X.reshape(-1, 1) if your data has a single feature or X.reshape(1, -1) if it contains a single sample.\n",
      "  DeprecationWarning)\n",
      "C:\\Users\\Vu Anh Vinh\\Miniconda3\\envs\\thkstat\\lib\\site-packages\\sklearn\\utils\\validation.py:395: DeprecationWarning: Passing 1d arrays as data is deprecated in 0.17 and will raise ValueError in 0.19. Reshape your data either using X.reshape(-1, 1) if your data has a single feature or X.reshape(1, -1) if it contains a single sample.\n",
      "  DeprecationWarning)\n",
      "C:\\Users\\Vu Anh Vinh\\Miniconda3\\envs\\thkstat\\lib\\site-packages\\sklearn\\utils\\validation.py:395: DeprecationWarning: Passing 1d arrays as data is deprecated in 0.17 and will raise ValueError in 0.19. Reshape your data either using X.reshape(-1, 1) if your data has a single feature or X.reshape(1, -1) if it contains a single sample.\n",
      "  DeprecationWarning)\n",
      "C:\\Users\\Vu Anh Vinh\\Miniconda3\\envs\\thkstat\\lib\\site-packages\\sklearn\\utils\\validation.py:395: DeprecationWarning: Passing 1d arrays as data is deprecated in 0.17 and will raise ValueError in 0.19. Reshape your data either using X.reshape(-1, 1) if your data has a single feature or X.reshape(1, -1) if it contains a single sample.\n",
      "  DeprecationWarning)\n",
      "C:\\Users\\Vu Anh Vinh\\Miniconda3\\envs\\thkstat\\lib\\site-packages\\sklearn\\utils\\validation.py:395: DeprecationWarning: Passing 1d arrays as data is deprecated in 0.17 and will raise ValueError in 0.19. Reshape your data either using X.reshape(-1, 1) if your data has a single feature or X.reshape(1, -1) if it contains a single sample.\n",
      "  DeprecationWarning)\n"
     ]
    }
   ],
   "source": [
    "#run 7 models with input CA2, CA3 to predict final score\n",
    "# write to csv\n",
    "%run student_results_analysis.py"
   ]
  },
  {
   "cell_type": "code",
   "execution_count": null,
   "metadata": {
    "collapsed": true
   },
   "outputs": [],
   "source": []
  }
 ],
 "metadata": {
  "kernelspec": {
   "display_name": "Python 3",
   "language": "python",
   "name": "python3"
  },
  "language_info": {
   "codemirror_mode": {
    "name": "ipython",
    "version": 3
   },
   "file_extension": ".py",
   "mimetype": "text/x-python",
   "name": "python",
   "nbconvert_exporter": "python",
   "pygments_lexer": "ipython3",
   "version": "3.5.2"
  }
 },
 "nbformat": 4,
 "nbformat_minor": 0
}
