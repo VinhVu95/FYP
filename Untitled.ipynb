{
 "cells": [
  {
   "cell_type": "code",
   "execution_count": 1,
   "metadata": {
    "collapsed": false
   },
   "outputs": [
    {
     "ename": "SyntaxError",
     "evalue": "invalid syntax (student_results_analysis.py, line 183)",
     "output_type": "error",
     "traceback": [
      "\u001b[0;36m  File \u001b[0;32m\"C:\\Users\\Vu Anh Vinh\\FYP\\student_results_analysis.py\"\u001b[0;36m, line \u001b[0;32m183\u001b[0m\n\u001b[0;31m    def predict_final_scores_chronologically(*features, *scale):\u001b[0m\n\u001b[0m                                                        ^\u001b[0m\n\u001b[0;31mSyntaxError\u001b[0m\u001b[0;31m:\u001b[0m invalid syntax\n"
     ]
    }
   ],
   "source": [
    "%run student_results_analysis.py"
   ]
  },
  {
   "cell_type": "code",
   "execution_count": null,
   "metadata": {
    "collapsed": false
   },
   "outputs": [
    {
     "name": "stderr",
     "output_type": "stream",
     "text": [
      "C:\\Users\\Vu Anh Vinh\\Miniconda3\\envs\\thkstat\\lib\\site-packages\\IPython\\html.py:14: ShimWarning: The `IPython.html` package has been deprecated. You should import from `notebook` instead. `IPython.html.widgets` has moved to `ipywidgets`.\n",
      "  \"`IPython.html.widgets` has moved to `ipywidgets`.\", ShimWarning)\n"
     ]
    },
    {
     "name": "stdout",
     "output_type": "stream",
     "text": [
      "Grid search for... Random Forest Regressor\n",
      "RandomForestRegressor(bootstrap=True, criterion='mse', max_depth=None,\n",
      "           max_features='sqrt', max_leaf_nodes=None,\n",
      "           min_impurity_split=1e-07, min_samples_leaf=1,\n",
      "           min_samples_split=2, min_weight_fraction_leaf=0.0,\n",
      "           n_estimators=50, n_jobs=-1, oob_score=False, random_state=None,\n",
      "           verbose=0, warm_start=False)\n",
      "Fitting 8 folds for each of 9 candidates, totalling 72 fits\n",
      "[CV] n_estimators=300, max_features=log2 .............................\n",
      "[CV] .... n_estimators=300, max_features=log2, score=0.434437 -   0.1s\n",
      "[CV] n_estimators=300, max_features=log2 .............................\n"
     ]
    },
    {
     "name": "stderr",
     "output_type": "stream",
     "text": [
      "[Parallel(n_jobs=1)]: Done   1 out of   1 | elapsed:    1.9s remaining:    0.0s\n"
     ]
    },
    {
     "name": "stdout",
     "output_type": "stream",
     "text": [
      "[CV] .... n_estimators=300, max_features=log2, score=0.032858 -   0.1s\n",
      "[CV] n_estimators=300, max_features=log2 .............................\n"
     ]
    },
    {
     "name": "stderr",
     "output_type": "stream",
     "text": [
      "[Parallel(n_jobs=1)]: Done   2 out of   2 | elapsed:    3.7s remaining:    0.0s\n"
     ]
    },
    {
     "name": "stdout",
     "output_type": "stream",
     "text": [
      "[CV] ... n_estimators=300, max_features=log2, score=-0.410721 -   0.1s\n",
      "[CV] n_estimators=300, max_features=log2 .............................\n"
     ]
    },
    {
     "name": "stderr",
     "output_type": "stream",
     "text": [
      "[Parallel(n_jobs=1)]: Done   3 out of   3 | elapsed:    5.5s remaining:    0.0s\n"
     ]
    },
    {
     "name": "stdout",
     "output_type": "stream",
     "text": [
      "[CV] ... n_estimators=300, max_features=log2, score=-0.279612 -   0.1s\n",
      "[CV] n_estimators=300, max_features=log2 .............................\n",
      "[CV] ... n_estimators=300, max_features=log2, score=-0.090399 -   0.1s\n",
      "[CV] n_estimators=300, max_features=log2 .............................\n",
      "[CV] ... n_estimators=300, max_features=log2, score=-0.232475 -   0.1s\n",
      "[CV] n_estimators=300, max_features=log2 .............................\n",
      "[CV] ... n_estimators=300, max_features=log2, score=-0.044174 -   0.1s\n",
      "[CV] n_estimators=300, max_features=log2 .............................\n",
      "[CV] ... n_estimators=300, max_features=log2, score=-0.514011 -   0.1s\n",
      "[CV] n_estimators=500, max_features=log2 .............................\n",
      "[CV] .... n_estimators=500, max_features=log2, score=0.433237 -   0.4s\n",
      "[CV] n_estimators=500, max_features=log2 .............................\n",
      "[CV] .... n_estimators=500, max_features=log2, score=0.022105 -   0.2s\n",
      "[CV] n_estimators=500, max_features=log2 .............................\n",
      "[CV] ... n_estimators=500, max_features=log2, score=-0.421409 -   0.3s\n",
      "[CV] n_estimators=500, max_features=log2 .............................\n",
      "[CV] ... n_estimators=500, max_features=log2, score=-0.265688 -   0.3s\n",
      "[CV] n_estimators=500, max_features=log2 .............................\n",
      "[CV] ... n_estimators=500, max_features=log2, score=-0.094694 -   0.2s\n",
      "[CV] n_estimators=500, max_features=log2 .............................\n",
      "[CV] ... n_estimators=500, max_features=log2, score=-0.225711 -   0.2s\n",
      "[CV] n_estimators=500, max_features=log2 .............................\n",
      "[CV] ... n_estimators=500, max_features=log2, score=-0.043207 -   0.3s\n",
      "[CV] n_estimators=500, max_features=log2 .............................\n",
      "[CV] ... n_estimators=500, max_features=log2, score=-0.557232 -   0.1s\n",
      "[CV] n_estimators=800, max_features=log2 .............................\n"
     ]
    }
   ],
   "source": [
    "%run student_results_analysis.py"
   ]
  },
  {
   "cell_type": "code",
   "execution_count": null,
   "metadata": {
    "collapsed": true
   },
   "outputs": [],
   "source": []
  }
 ],
 "metadata": {
  "kernelspec": {
   "display_name": "Python 3",
   "language": "python",
   "name": "python3"
  },
  "language_info": {
   "codemirror_mode": {
    "name": "ipython",
    "version": 3
   },
   "file_extension": ".py",
   "mimetype": "text/x-python",
   "name": "python",
   "nbconvert_exporter": "python",
   "pygments_lexer": "ipython3",
   "version": "3.5.2"
  }
 },
 "nbformat": 4,
 "nbformat_minor": 0
}
